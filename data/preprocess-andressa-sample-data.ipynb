{
 "cells": [
  {
   "cell_type": "code",
   "execution_count": 1,
   "id": "7bd7aebf",
   "metadata": {
    "ExecuteTime": {
     "end_time": "2022-11-21T20:33:57.218139Z",
     "start_time": "2022-11-21T20:33:54.335806Z"
    }
   },
   "outputs": [],
   "source": [
    "import os\n",
    "import pandas as pd\n",
    "\n",
    "%matplotlib inline"
   ]
  },
  {
   "cell_type": "code",
   "execution_count": 2,
   "id": "67c5fa56",
   "metadata": {
    "ExecuteTime": {
     "end_time": "2022-11-21T20:33:57.504372Z",
     "start_time": "2022-11-21T20:33:57.220180Z"
    }
   },
   "outputs": [],
   "source": [
    "base_path = os.path.abspath(os.getcwd())\n",
    "fastq_folder = os.path.join(base_path, 'raw-data', 'fastqs')\n",
    "files_names = !ls {fastq_folder}"
   ]
  },
  {
   "cell_type": "code",
   "execution_count": 3,
   "id": "0eca9221",
   "metadata": {
    "ExecuteTime": {
     "end_time": "2022-11-21T20:33:57.648561Z",
     "start_time": "2022-11-21T20:33:57.513361Z"
    },
    "scrolled": true
   },
   "outputs": [
    {
     "name": "stdout",
     "output_type": "stream",
     "text": [
      "201217175394-2-1-1_S25_L001_R1_001.fastq.gz\r\n",
      "210222188072-1-1-1_S62_L001_R1_001.fastq.gz\r\n",
      "210222188072-1-1-1_S62_L001_R2_001.fastq.gz\r\n",
      "210222188073-2-1-1_S82_L001_R1_001.fastq.gz\r\n",
      "210222188073-2-1-1_S82_L001_R2_001.fastq.gz\r\n",
      "210222188074-2-1-1_S83_L001_R1_001.fastq.gz\r\n",
      "210222188074-2-1-1_S83_L001_R2_001.fastq.gz\r\n",
      "210222188075-1-1-1_S63_L001_R1_001.fastq.gz\r\n",
      "210222188075-1-1-1_S63_L001_R2_001.fastq.gz\r\n",
      "210222188076-2-1-1_S84_L001_R1_001.fastq.gz\r\n",
      "210222188076-2-1-1_S84_L001_R2_001.fastq.gz\r\n",
      "210222188077-1-1-1_S64_L001_R1_001.fastq.gz\r\n",
      "210222188077-1-1-1_S64_L001_R2_001.fastq.gz\r\n",
      "210222188078-1-1-1_S65_L001_R1_001.fastq.gz\r\n",
      "210222188078-1-1-1_S65_L001_R2_001.fastq.gz\r\n",
      "210222188079-1-1-1_S66_L001_R1_001.fastq.gz\r\n",
      "210222188079-1-1-1_S66_L001_R2_001.fastq.gz\r\n",
      "210222188080-1-1-1_S68_L001_R1_001.fastq.gz\r\n",
      "210222188080-1-1-1_S68_L001_R2_001.fastq.gz\r\n",
      "210222188081-1-1-1_S69_L001_R1_001.fastq.gz\r\n",
      "210222188081-1-1-1_S69_L001_R2_001.fastq.gz\r\n",
      "210222188082-1-1-1_S71_L001_R1_001.fastq.gz\r\n",
      "210222188082-1-1-1_S71_L001_R2_001.fastq.gz\r\n",
      "210222188083-1-1-1_S72_L001_R1_001.fastq.gz\r\n",
      "210222188083-1-1-1_S72_L001_R2_001.fastq.gz\r\n",
      "210222188084-1-1-1_S74_L001_R1_001.fastq.gz\r\n",
      "210222188084-1-1-1_S74_L001_R2_001.fastq.gz\r\n",
      "210222188085-2-1-1_S85_L001_R1_001.fastq.gz\r\n",
      "210222188085-2-1-1_S85_L001_R2_001.fastq.gz\r\n",
      "210222188086-2-1-1_S86_L001_R1_001.fastq.gz\r\n",
      "210222188086-2-1-1_S86_L001_R2_001.fastq.gz\r\n"
     ]
    }
   ],
   "source": [
    "!ls {fastq_folder}"
   ]
  },
  {
   "cell_type": "code",
   "execution_count": 4,
   "id": "a317d59e",
   "metadata": {
    "ExecuteTime": {
     "end_time": "2022-11-21T20:33:57.660589Z",
     "start_time": "2022-11-21T20:33:57.652275Z"
    }
   },
   "outputs": [
    {
     "data": {
      "text/plain": [
       "'201217175394-2-1-1_S25_L001_R1_001.fastq.gz'"
      ]
     },
     "execution_count": 4,
     "metadata": {},
     "output_type": "execute_result"
    }
   ],
   "source": [
    "files_names[0]\n",
    "# Nao possui par"
   ]
  },
  {
   "cell_type": "code",
   "execution_count": 5,
   "id": "66ded4f0",
   "metadata": {
    "ExecuteTime": {
     "end_time": "2022-11-21T20:33:57.687804Z",
     "start_time": "2022-11-21T20:33:57.663498Z"
    }
   },
   "outputs": [
    {
     "data": {
      "text/plain": [
       "'/home/lauro/nupeb/rede-micro/andressa_lbtm/data'"
      ]
     },
     "execution_count": 5,
     "metadata": {},
     "output_type": "execute_result"
    }
   ],
   "source": [
    "base_path"
   ]
  },
  {
   "cell_type": "code",
   "execution_count": 6,
   "id": "583acf24",
   "metadata": {
    "ExecuteTime": {
     "end_time": "2022-11-21T20:33:57.726004Z",
     "start_time": "2022-11-21T20:33:57.691159Z"
    },
    "scrolled": true
   },
   "outputs": [
    {
     "name": "stdout",
     "output_type": "stream",
     "text": [
      "210222188072-1-1-1_S62_L001_R1_001.fastq.gz\n",
      "210222188072-1-1-1_S62_L001_R2_001.fastq.gz\n",
      "210222188073-2-1-1_S82_L001_R1_001.fastq.gz\n",
      "210222188073-2-1-1_S82_L001_R2_001.fastq.gz\n",
      "210222188074-2-1-1_S83_L001_R1_001.fastq.gz\n",
      "210222188074-2-1-1_S83_L001_R2_001.fastq.gz\n",
      "210222188075-1-1-1_S63_L001_R1_001.fastq.gz\n",
      "210222188075-1-1-1_S63_L001_R2_001.fastq.gz\n",
      "210222188076-2-1-1_S84_L001_R1_001.fastq.gz\n",
      "210222188076-2-1-1_S84_L001_R2_001.fastq.gz\n",
      "210222188077-1-1-1_S64_L001_R1_001.fastq.gz\n",
      "210222188077-1-1-1_S64_L001_R2_001.fastq.gz\n",
      "210222188078-1-1-1_S65_L001_R1_001.fastq.gz\n",
      "210222188078-1-1-1_S65_L001_R2_001.fastq.gz\n",
      "210222188079-1-1-1_S66_L001_R1_001.fastq.gz\n",
      "210222188079-1-1-1_S66_L001_R2_001.fastq.gz\n",
      "210222188080-1-1-1_S68_L001_R1_001.fastq.gz\n",
      "210222188080-1-1-1_S68_L001_R2_001.fastq.gz\n",
      "210222188081-1-1-1_S69_L001_R1_001.fastq.gz\n",
      "210222188081-1-1-1_S69_L001_R2_001.fastq.gz\n",
      "210222188082-1-1-1_S71_L001_R1_001.fastq.gz\n",
      "210222188082-1-1-1_S71_L001_R2_001.fastq.gz\n",
      "210222188083-1-1-1_S72_L001_R1_001.fastq.gz\n",
      "210222188083-1-1-1_S72_L001_R2_001.fastq.gz\n",
      "210222188084-1-1-1_S74_L001_R1_001.fastq.gz\n",
      "210222188084-1-1-1_S74_L001_R2_001.fastq.gz\n",
      "210222188085-2-1-1_S85_L001_R1_001.fastq.gz\n",
      "210222188085-2-1-1_S85_L001_R2_001.fastq.gz\n",
      "210222188086-2-1-1_S86_L001_R1_001.fastq.gz\n",
      "210222188086-2-1-1_S86_L001_R2_001.fastq.gz\n"
     ]
    }
   ],
   "source": [
    "def get_info(fname, base_path):\n",
    "    print(fname)\n",
    "    fields = fname.split('_')\n",
    "    sample_id = fields[1]\n",
    "    full_path = os.path.join(base_path, fname)\n",
    "    orientation = 'forward' if fields[3] == 'R1' else 'reverse'\n",
    "    return sample_id, full_path, orientation\n",
    "\n",
    "infos = [get_info(f, fastq_folder) for f in files_names[1:]]\n",
    "df_manifest = pd.DataFrame(infos, columns=['sample-id', 'absolute-filepath', 'direction'])"
   ]
  },
  {
   "cell_type": "code",
   "execution_count": null,
   "id": "a1fb3091",
   "metadata": {},
   "outputs": [],
   "source": [
    "manifest_fpath = os.path.join(base_pth, 'manifest.csv')\n",
    "df_manifest.to_csv(manifest_fpath, index=False)"
   ]
  },
  {
   "cell_type": "code",
   "execution_count": 7,
   "id": "067cd055",
   "metadata": {
    "ExecuteTime": {
     "end_time": "2022-11-21T20:33:57.850228Z",
     "start_time": "2022-11-21T20:33:57.727699Z"
    },
    "scrolled": false
   },
   "outputs": [
    {
     "name": "stderr",
     "output_type": "stream",
     "text": [
      "/home/lauro/anaconda3/envs/qiime2-2022.2/lib/python3.8/site-packages/pandas/core/indexing.py:1597: SettingWithCopyWarning: \n",
      "A value is trying to be set on a copy of a slice from a DataFrame.\n",
      "Try using .loc[row_indexer,col_indexer] = value instead\n",
      "\n",
      "See the caveats in the documentation: https://pandas.pydata.org/pandas-docs/stable/user_guide/indexing.html#returning-a-view-versus-a-copy\n",
      "  self.obj[key] = value\n",
      "/home/lauro/anaconda3/envs/qiime2-2022.2/lib/python3.8/site-packages/pandas/core/indexing.py:1720: SettingWithCopyWarning: \n",
      "A value is trying to be set on a copy of a slice from a DataFrame.\n",
      "Try using .loc[row_indexer,col_indexer] = value instead\n",
      "\n",
      "See the caveats in the documentation: https://pandas.pydata.org/pandas-docs/stable/user_guide/indexing.html#returning-a-view-versus-a-copy\n",
      "  self._setitem_single_column(loc, value, pi)\n"
     ]
    }
   ],
   "source": [
    "df_metadata = df_manifest[['sample-id']]\n",
    "df_metadata.loc[:, 'group-id'] = '1'\n",
    "df_metadata.columns = [df_metadata.columns, ['#q2:types', 'categorical']]"
   ]
  },
  {
   "cell_type": "code",
   "execution_count": 8,
   "id": "4b3640fe",
   "metadata": {
    "ExecuteTime": {
     "end_time": "2022-11-21T20:33:57.855984Z",
     "start_time": "2022-11-21T20:33:57.852841Z"
    }
   },
   "outputs": [
    {
     "data": {
      "text/plain": [
       "'/home/lauro/nupeb/rede-micro/andressa_lbtm/data'"
      ]
     },
     "execution_count": 8,
     "metadata": {},
     "output_type": "execute_result"
    }
   ],
   "source": [
    "base_path"
   ]
  },
  {
   "cell_type": "code",
   "execution_count": 9,
   "id": "b4090544",
   "metadata": {
    "ExecuteTime": {
     "end_time": "2022-11-21T20:33:57.870969Z",
     "start_time": "2022-11-21T20:33:57.859006Z"
    }
   },
   "outputs": [
    {
     "name": "stdout",
     "output_type": "stream",
     "text": [
      "/home/lauro/nupeb/rede-micro/andressa_lbtm/data/metadata.tsv\n"
     ]
    }
   ],
   "source": [
    "metadata_fpath = os.path.join(base_path, f'metadata.tsv')\n",
    "df_metadata.to_csv(metadata_fpath, sep='\\t', index=False)\n",
    "print(metadata_fpath)"
   ]
  }
 ],
 "metadata": {
  "kernelspec": {
   "display_name": "Python 3 (ipykernel)",
   "language": "python",
   "name": "python3"
  },
  "language_info": {
   "codemirror_mode": {
    "name": "ipython",
    "version": 3
   },
   "file_extension": ".py",
   "mimetype": "text/x-python",
   "name": "python",
   "nbconvert_exporter": "python",
   "pygments_lexer": "ipython3",
   "version": "3.8.12"
  }
 },
 "nbformat": 4,
 "nbformat_minor": 5
}
