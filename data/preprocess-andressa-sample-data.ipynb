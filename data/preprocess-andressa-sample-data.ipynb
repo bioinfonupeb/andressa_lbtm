{
 "cells": [
  {
   "cell_type": "code",
   "execution_count": 1,
   "id": "7bd7aebf",
   "metadata": {
    "ExecuteTime": {
     "end_time": "2023-02-10T15:40:03.393096Z",
     "start_time": "2023-02-10T15:40:02.577795Z"
    }
   },
   "outputs": [],
   "source": [
    "import os\n",
    "import pandas as pd\n",
    "\n",
    "%matplotlib inline"
   ]
  },
  {
   "cell_type": "code",
   "execution_count": 2,
   "id": "67c5fa56",
   "metadata": {
    "ExecuteTime": {
     "end_time": "2023-02-10T15:40:03.423914Z",
     "start_time": "2023-02-10T15:40:03.395200Z"
    }
   },
   "outputs": [],
   "source": [
    "base_path = os.path.abspath(os.getcwd())\n",
    "fastq_folder = os.path.join(base_path, 'raw-data', 'fastqs')\n",
    "files_names = !ls {fastq_folder}"
   ]
  },
  {
   "cell_type": "code",
   "execution_count": 3,
   "id": "0eca9221",
   "metadata": {
    "ExecuteTime": {
     "end_time": "2023-02-10T15:40:03.567925Z",
     "start_time": "2023-02-10T15:40:03.426351Z"
    },
    "scrolled": true
   },
   "outputs": [
    {
     "name": "stdout",
     "output_type": "stream",
     "text": [
      "201217175394-2-1-1_S25_L001_R1_001.fastq.gz\r\n",
      "210222188072-1-1-1_S62_L001_R1_001.fastq.gz\r\n",
      "210222188072-1-1-1_S62_L001_R2_001.fastq.gz\r\n",
      "210222188073-2-1-1_S82_L001_R1_001.fastq.gz\r\n",
      "210222188073-2-1-1_S82_L001_R2_001.fastq.gz\r\n",
      "210222188074-2-1-1_S83_L001_R1_001.fastq.gz\r\n",
      "210222188074-2-1-1_S83_L001_R2_001.fastq.gz\r\n",
      "210222188075-1-1-1_S63_L001_R1_001.fastq.gz\r\n",
      "210222188075-1-1-1_S63_L001_R2_001.fastq.gz\r\n",
      "210222188076-2-1-1_S84_L001_R1_001.fastq.gz\r\n",
      "210222188076-2-1-1_S84_L001_R2_001.fastq.gz\r\n",
      "210222188077-1-1-1_S64_L001_R1_001.fastq.gz\r\n",
      "210222188077-1-1-1_S64_L001_R2_001.fastq.gz\r\n",
      "210222188078-1-1-1_S65_L001_R1_001.fastq.gz\r\n",
      "210222188078-1-1-1_S65_L001_R2_001.fastq.gz\r\n",
      "210222188079-1-1-1_S66_L001_R1_001.fastq.gz\r\n",
      "210222188079-1-1-1_S66_L001_R2_001.fastq.gz\r\n",
      "210222188080-1-1-1_S68_L001_R1_001.fastq.gz\r\n",
      "210222188080-1-1-1_S68_L001_R2_001.fastq.gz\r\n",
      "210222188081-1-1-1_S69_L001_R1_001.fastq.gz\r\n",
      "210222188081-1-1-1_S69_L001_R2_001.fastq.gz\r\n",
      "210222188082-1-1-1_S71_L001_R1_001.fastq.gz\r\n",
      "210222188082-1-1-1_S71_L001_R2_001.fastq.gz\r\n",
      "210222188083-1-1-1_S72_L001_R1_001.fastq.gz\r\n",
      "210222188083-1-1-1_S72_L001_R2_001.fastq.gz\r\n",
      "210222188084-1-1-1_S74_L001_R1_001.fastq.gz\r\n",
      "210222188084-1-1-1_S74_L001_R2_001.fastq.gz\r\n",
      "210222188085-2-1-1_S85_L001_R1_001.fastq.gz\r\n",
      "210222188085-2-1-1_S85_L001_R2_001.fastq.gz\r\n",
      "210222188086-2-1-1_S86_L001_R1_001.fastq.gz\r\n",
      "210222188086-2-1-1_S86_L001_R2_001.fastq.gz\r\n"
     ]
    }
   ],
   "source": [
    "!ls {fastq_folder}"
   ]
  },
  {
   "cell_type": "code",
   "execution_count": 4,
   "id": "a317d59e",
   "metadata": {
    "ExecuteTime": {
     "end_time": "2023-02-10T15:40:03.578199Z",
     "start_time": "2023-02-10T15:40:03.571856Z"
    }
   },
   "outputs": [
    {
     "data": {
      "text/plain": [
       "'201217175394-2-1-1_S25_L001_R1_001.fastq.gz'"
      ]
     },
     "execution_count": 4,
     "metadata": {},
     "output_type": "execute_result"
    }
   ],
   "source": [
    "files_names[0]\n",
    "# Nao possui par"
   ]
  },
  {
   "cell_type": "code",
   "execution_count": 5,
   "id": "66ded4f0",
   "metadata": {
    "ExecuteTime": {
     "end_time": "2023-02-10T15:40:03.625387Z",
     "start_time": "2023-02-10T15:40:03.580724Z"
    }
   },
   "outputs": [
    {
     "data": {
      "text/plain": [
       "'/home/lauro/nupeb/rede-micro/redemicro-andressa-lbtm/data'"
      ]
     },
     "execution_count": 5,
     "metadata": {},
     "output_type": "execute_result"
    }
   ],
   "source": [
    "base_path"
   ]
  },
  {
   "cell_type": "code",
   "execution_count": 6,
   "id": "583acf24",
   "metadata": {
    "ExecuteTime": {
     "end_time": "2023-02-10T15:40:03.641307Z",
     "start_time": "2023-02-10T15:40:03.627778Z"
    },
    "scrolled": true
   },
   "outputs": [
    {
     "name": "stdout",
     "output_type": "stream",
     "text": [
      "210222188072-1-1-1_S62_L001_R1_001.fastq.gz\n",
      "210222188072-1-1-1_S62_L001_R2_001.fastq.gz\n",
      "210222188073-2-1-1_S82_L001_R1_001.fastq.gz\n",
      "210222188073-2-1-1_S82_L001_R2_001.fastq.gz\n",
      "210222188074-2-1-1_S83_L001_R1_001.fastq.gz\n",
      "210222188074-2-1-1_S83_L001_R2_001.fastq.gz\n",
      "210222188075-1-1-1_S63_L001_R1_001.fastq.gz\n",
      "210222188075-1-1-1_S63_L001_R2_001.fastq.gz\n",
      "210222188076-2-1-1_S84_L001_R1_001.fastq.gz\n",
      "210222188076-2-1-1_S84_L001_R2_001.fastq.gz\n",
      "210222188077-1-1-1_S64_L001_R1_001.fastq.gz\n",
      "210222188077-1-1-1_S64_L001_R2_001.fastq.gz\n",
      "210222188078-1-1-1_S65_L001_R1_001.fastq.gz\n",
      "210222188078-1-1-1_S65_L001_R2_001.fastq.gz\n",
      "210222188079-1-1-1_S66_L001_R1_001.fastq.gz\n",
      "210222188079-1-1-1_S66_L001_R2_001.fastq.gz\n",
      "210222188080-1-1-1_S68_L001_R1_001.fastq.gz\n",
      "210222188080-1-1-1_S68_L001_R2_001.fastq.gz\n",
      "210222188081-1-1-1_S69_L001_R1_001.fastq.gz\n",
      "210222188081-1-1-1_S69_L001_R2_001.fastq.gz\n",
      "210222188082-1-1-1_S71_L001_R1_001.fastq.gz\n",
      "210222188082-1-1-1_S71_L001_R2_001.fastq.gz\n",
      "210222188083-1-1-1_S72_L001_R1_001.fastq.gz\n",
      "210222188083-1-1-1_S72_L001_R2_001.fastq.gz\n",
      "210222188084-1-1-1_S74_L001_R1_001.fastq.gz\n",
      "210222188084-1-1-1_S74_L001_R2_001.fastq.gz\n",
      "210222188085-2-1-1_S85_L001_R1_001.fastq.gz\n",
      "210222188085-2-1-1_S85_L001_R2_001.fastq.gz\n",
      "210222188086-2-1-1_S86_L001_R1_001.fastq.gz\n",
      "210222188086-2-1-1_S86_L001_R2_001.fastq.gz\n"
     ]
    }
   ],
   "source": [
    "def get_info(fname, base_path):\n",
    "    print(fname)\n",
    "    fields = fname.split('_')\n",
    "    sample_id = fields[1]\n",
    "    full_path = os.path.join(base_path, fname)\n",
    "    orientation = 'forward' if fields[3] == 'R1' else 'reverse'\n",
    "    return sample_id, full_path, orientation\n",
    "\n",
    "infos = [get_info(f, fastq_folder) for f in files_names[1:]]\n",
    "df_manifest = pd.DataFrame(infos, columns=['sample-id', 'absolute-filepath', 'direction'])"
   ]
  },
  {
   "cell_type": "code",
   "execution_count": 9,
   "id": "067cd055",
   "metadata": {
    "ExecuteTime": {
     "end_time": "2023-02-10T15:40:25.650367Z",
     "start_time": "2023-02-10T15:40:25.521337Z"
    },
    "scrolled": false
   },
   "outputs": [
    {
     "name": "stderr",
     "output_type": "stream",
     "text": [
      "/home/lauro/anaconda3/envs/qiime2-2022.2/lib/python3.8/site-packages/pandas/core/indexing.py:1597: SettingWithCopyWarning: \n",
      "A value is trying to be set on a copy of a slice from a DataFrame.\n",
      "Try using .loc[row_indexer,col_indexer] = value instead\n",
      "\n",
      "See the caveats in the documentation: https://pandas.pydata.org/pandas-docs/stable/user_guide/indexing.html#returning-a-view-versus-a-copy\n",
      "  self.obj[key] = value\n",
      "/home/lauro/anaconda3/envs/qiime2-2022.2/lib/python3.8/site-packages/pandas/core/indexing.py:1720: SettingWithCopyWarning: \n",
      "A value is trying to be set on a copy of a slice from a DataFrame.\n",
      "Try using .loc[row_indexer,col_indexer] = value instead\n",
      "\n",
      "See the caveats in the documentation: https://pandas.pydata.org/pandas-docs/stable/user_guide/indexing.html#returning-a-view-versus-a-copy\n",
      "  self._setitem_single_column(loc, value, pi)\n"
     ]
    }
   ],
   "source": [
    "df_metadata = df_manifest[['sample-id']]\n",
    "df_metadata.loc[:, 'group-id'] = '1'\n",
    "df_metadata.columns = [df_metadata.columns, ['#q2:types', 'categorical']]"
   ]
  },
  {
   "cell_type": "code",
   "execution_count": 10,
   "id": "4b3640fe",
   "metadata": {
    "ExecuteTime": {
     "end_time": "2023-02-10T15:40:27.285720Z",
     "start_time": "2023-02-10T15:40:27.280047Z"
    }
   },
   "outputs": [
    {
     "data": {
      "text/plain": [
       "'/home/lauro/nupeb/rede-micro/redemicro-andressa-lbtm/data'"
      ]
     },
     "execution_count": 10,
     "metadata": {},
     "output_type": "execute_result"
    }
   ],
   "source": [
    "base_path"
   ]
  },
  {
   "cell_type": "code",
   "execution_count": 16,
   "id": "b4090544",
   "metadata": {
    "ExecuteTime": {
     "end_time": "2023-02-10T15:46:55.451174Z",
     "start_time": "2023-02-10T15:46:55.435331Z"
    }
   },
   "outputs": [
    {
     "name": "stdout",
     "output_type": "stream",
     "text": [
      "/home/lauro/nupeb/rede-micro/redemicro-andressa-lbtm/data/metadata.tsv\n",
      "   sample-id file-id state-name  state-id  replic-id\n",
      "0        RI1     S62         RI         1          1\n",
      "1        RI2     S82         RI         1          2\n",
      "2        RI3     S83         RI         1          3\n",
      "3        RI4     S63         RI         1          4\n",
      "4        RI5     S84         RI         1          5\n",
      "5        DE1     S64         DE         2          1\n",
      "6        DE2     S65         DE         2          2\n",
      "7        DE3     S66         DE         2          3\n",
      "8        DE4     S68         DE         2          4\n",
      "9        DE5     S69         DE         2          5\n",
      "10       PE1     S71         PE         3          1\n",
      "11       PE2     S72         PE         3          2\n",
      "12       PE3     S74         PE         3          3\n",
      "13       PE4     S85         PE         3          4\n",
      "14       PE5     S86         PE         3          5\n"
     ]
    }
   ],
   "source": [
    "metadata_fpath = os.path.join(base_path, f'metadata.tsv')\n",
    "print(metadata_fpath)\n",
    "df_metadata = pd.read_csv(metadata_fpath, sep='\\t', skiprows=[1])\n",
    "print(df_metadata)\n",
    "# df_metadata.to_csv(metadata_fpath, sep='\\t', index=False)\n"
   ]
  },
  {
   "cell_type": "code",
   "execution_count": 22,
   "id": "179eda79",
   "metadata": {
    "ExecuteTime": {
     "end_time": "2023-02-10T15:49:53.874812Z",
     "start_time": "2023-02-10T15:49:53.866696Z"
    }
   },
   "outputs": [
    {
     "data": {
      "text/plain": [
       "'RI1'"
      ]
     },
     "execution_count": 22,
     "metadata": {},
     "output_type": "execute_result"
    }
   ],
   "source": [
    "df_metadata['sample-id'][df_metadata['file-id'] == 'S62'][0]"
   ]
  },
  {
   "cell_type": "code",
   "execution_count": 26,
   "id": "c3ab7b7a",
   "metadata": {
    "ExecuteTime": {
     "end_time": "2023-02-10T16:46:45.083201Z",
     "start_time": "2023-02-10T16:46:45.068001Z"
    }
   },
   "outputs": [
    {
     "data": {
      "text/html": [
       "<div>\n",
       "<style scoped>\n",
       "    .dataframe tbody tr th:only-of-type {\n",
       "        vertical-align: middle;\n",
       "    }\n",
       "\n",
       "    .dataframe tbody tr th {\n",
       "        vertical-align: top;\n",
       "    }\n",
       "\n",
       "    .dataframe thead th {\n",
       "        text-align: right;\n",
       "    }\n",
       "</style>\n",
       "<table border=\"1\" class=\"dataframe\">\n",
       "  <thead>\n",
       "    <tr style=\"text-align: right;\">\n",
       "      <th></th>\n",
       "      <th>sample-id</th>\n",
       "      <th>absolute-filepath</th>\n",
       "      <th>direction</th>\n",
       "    </tr>\n",
       "  </thead>\n",
       "  <tbody>\n",
       "    <tr>\n",
       "      <th>0</th>\n",
       "      <td>S62</td>\n",
       "      <td>/home/lauro/nupeb/rede-micro/redemicro-andress...</td>\n",
       "      <td>forward</td>\n",
       "    </tr>\n",
       "    <tr>\n",
       "      <th>1</th>\n",
       "      <td>S62</td>\n",
       "      <td>/home/lauro/nupeb/rede-micro/redemicro-andress...</td>\n",
       "      <td>reverse</td>\n",
       "    </tr>\n",
       "    <tr>\n",
       "      <th>2</th>\n",
       "      <td>S82</td>\n",
       "      <td>/home/lauro/nupeb/rede-micro/redemicro-andress...</td>\n",
       "      <td>forward</td>\n",
       "    </tr>\n",
       "    <tr>\n",
       "      <th>3</th>\n",
       "      <td>S82</td>\n",
       "      <td>/home/lauro/nupeb/rede-micro/redemicro-andress...</td>\n",
       "      <td>reverse</td>\n",
       "    </tr>\n",
       "    <tr>\n",
       "      <th>4</th>\n",
       "      <td>S83</td>\n",
       "      <td>/home/lauro/nupeb/rede-micro/redemicro-andress...</td>\n",
       "      <td>forward</td>\n",
       "    </tr>\n",
       "    <tr>\n",
       "      <th>5</th>\n",
       "      <td>S83</td>\n",
       "      <td>/home/lauro/nupeb/rede-micro/redemicro-andress...</td>\n",
       "      <td>reverse</td>\n",
       "    </tr>\n",
       "    <tr>\n",
       "      <th>6</th>\n",
       "      <td>S63</td>\n",
       "      <td>/home/lauro/nupeb/rede-micro/redemicro-andress...</td>\n",
       "      <td>forward</td>\n",
       "    </tr>\n",
       "    <tr>\n",
       "      <th>7</th>\n",
       "      <td>S63</td>\n",
       "      <td>/home/lauro/nupeb/rede-micro/redemicro-andress...</td>\n",
       "      <td>reverse</td>\n",
       "    </tr>\n",
       "    <tr>\n",
       "      <th>8</th>\n",
       "      <td>S84</td>\n",
       "      <td>/home/lauro/nupeb/rede-micro/redemicro-andress...</td>\n",
       "      <td>forward</td>\n",
       "    </tr>\n",
       "    <tr>\n",
       "      <th>9</th>\n",
       "      <td>S84</td>\n",
       "      <td>/home/lauro/nupeb/rede-micro/redemicro-andress...</td>\n",
       "      <td>reverse</td>\n",
       "    </tr>\n",
       "    <tr>\n",
       "      <th>10</th>\n",
       "      <td>S64</td>\n",
       "      <td>/home/lauro/nupeb/rede-micro/redemicro-andress...</td>\n",
       "      <td>forward</td>\n",
       "    </tr>\n",
       "    <tr>\n",
       "      <th>11</th>\n",
       "      <td>S64</td>\n",
       "      <td>/home/lauro/nupeb/rede-micro/redemicro-andress...</td>\n",
       "      <td>reverse</td>\n",
       "    </tr>\n",
       "    <tr>\n",
       "      <th>12</th>\n",
       "      <td>S65</td>\n",
       "      <td>/home/lauro/nupeb/rede-micro/redemicro-andress...</td>\n",
       "      <td>forward</td>\n",
       "    </tr>\n",
       "    <tr>\n",
       "      <th>13</th>\n",
       "      <td>S65</td>\n",
       "      <td>/home/lauro/nupeb/rede-micro/redemicro-andress...</td>\n",
       "      <td>reverse</td>\n",
       "    </tr>\n",
       "    <tr>\n",
       "      <th>14</th>\n",
       "      <td>S66</td>\n",
       "      <td>/home/lauro/nupeb/rede-micro/redemicro-andress...</td>\n",
       "      <td>forward</td>\n",
       "    </tr>\n",
       "    <tr>\n",
       "      <th>15</th>\n",
       "      <td>S66</td>\n",
       "      <td>/home/lauro/nupeb/rede-micro/redemicro-andress...</td>\n",
       "      <td>reverse</td>\n",
       "    </tr>\n",
       "    <tr>\n",
       "      <th>16</th>\n",
       "      <td>S68</td>\n",
       "      <td>/home/lauro/nupeb/rede-micro/redemicro-andress...</td>\n",
       "      <td>forward</td>\n",
       "    </tr>\n",
       "    <tr>\n",
       "      <th>17</th>\n",
       "      <td>S68</td>\n",
       "      <td>/home/lauro/nupeb/rede-micro/redemicro-andress...</td>\n",
       "      <td>reverse</td>\n",
       "    </tr>\n",
       "    <tr>\n",
       "      <th>18</th>\n",
       "      <td>S69</td>\n",
       "      <td>/home/lauro/nupeb/rede-micro/redemicro-andress...</td>\n",
       "      <td>forward</td>\n",
       "    </tr>\n",
       "    <tr>\n",
       "      <th>19</th>\n",
       "      <td>S69</td>\n",
       "      <td>/home/lauro/nupeb/rede-micro/redemicro-andress...</td>\n",
       "      <td>reverse</td>\n",
       "    </tr>\n",
       "    <tr>\n",
       "      <th>20</th>\n",
       "      <td>S71</td>\n",
       "      <td>/home/lauro/nupeb/rede-micro/redemicro-andress...</td>\n",
       "      <td>forward</td>\n",
       "    </tr>\n",
       "    <tr>\n",
       "      <th>21</th>\n",
       "      <td>S71</td>\n",
       "      <td>/home/lauro/nupeb/rede-micro/redemicro-andress...</td>\n",
       "      <td>reverse</td>\n",
       "    </tr>\n",
       "    <tr>\n",
       "      <th>22</th>\n",
       "      <td>S72</td>\n",
       "      <td>/home/lauro/nupeb/rede-micro/redemicro-andress...</td>\n",
       "      <td>forward</td>\n",
       "    </tr>\n",
       "    <tr>\n",
       "      <th>23</th>\n",
       "      <td>S72</td>\n",
       "      <td>/home/lauro/nupeb/rede-micro/redemicro-andress...</td>\n",
       "      <td>reverse</td>\n",
       "    </tr>\n",
       "    <tr>\n",
       "      <th>24</th>\n",
       "      <td>S74</td>\n",
       "      <td>/home/lauro/nupeb/rede-micro/redemicro-andress...</td>\n",
       "      <td>forward</td>\n",
       "    </tr>\n",
       "    <tr>\n",
       "      <th>25</th>\n",
       "      <td>S74</td>\n",
       "      <td>/home/lauro/nupeb/rede-micro/redemicro-andress...</td>\n",
       "      <td>reverse</td>\n",
       "    </tr>\n",
       "    <tr>\n",
       "      <th>26</th>\n",
       "      <td>S85</td>\n",
       "      <td>/home/lauro/nupeb/rede-micro/redemicro-andress...</td>\n",
       "      <td>forward</td>\n",
       "    </tr>\n",
       "    <tr>\n",
       "      <th>27</th>\n",
       "      <td>S85</td>\n",
       "      <td>/home/lauro/nupeb/rede-micro/redemicro-andress...</td>\n",
       "      <td>reverse</td>\n",
       "    </tr>\n",
       "    <tr>\n",
       "      <th>28</th>\n",
       "      <td>S86</td>\n",
       "      <td>/home/lauro/nupeb/rede-micro/redemicro-andress...</td>\n",
       "      <td>forward</td>\n",
       "    </tr>\n",
       "    <tr>\n",
       "      <th>29</th>\n",
       "      <td>S86</td>\n",
       "      <td>/home/lauro/nupeb/rede-micro/redemicro-andress...</td>\n",
       "      <td>reverse</td>\n",
       "    </tr>\n",
       "  </tbody>\n",
       "</table>\n",
       "</div>"
      ],
      "text/plain": [
       "   sample-id                                  absolute-filepath direction\n",
       "0        S62  /home/lauro/nupeb/rede-micro/redemicro-andress...   forward\n",
       "1        S62  /home/lauro/nupeb/rede-micro/redemicro-andress...   reverse\n",
       "2        S82  /home/lauro/nupeb/rede-micro/redemicro-andress...   forward\n",
       "3        S82  /home/lauro/nupeb/rede-micro/redemicro-andress...   reverse\n",
       "4        S83  /home/lauro/nupeb/rede-micro/redemicro-andress...   forward\n",
       "5        S83  /home/lauro/nupeb/rede-micro/redemicro-andress...   reverse\n",
       "6        S63  /home/lauro/nupeb/rede-micro/redemicro-andress...   forward\n",
       "7        S63  /home/lauro/nupeb/rede-micro/redemicro-andress...   reverse\n",
       "8        S84  /home/lauro/nupeb/rede-micro/redemicro-andress...   forward\n",
       "9        S84  /home/lauro/nupeb/rede-micro/redemicro-andress...   reverse\n",
       "10       S64  /home/lauro/nupeb/rede-micro/redemicro-andress...   forward\n",
       "11       S64  /home/lauro/nupeb/rede-micro/redemicro-andress...   reverse\n",
       "12       S65  /home/lauro/nupeb/rede-micro/redemicro-andress...   forward\n",
       "13       S65  /home/lauro/nupeb/rede-micro/redemicro-andress...   reverse\n",
       "14       S66  /home/lauro/nupeb/rede-micro/redemicro-andress...   forward\n",
       "15       S66  /home/lauro/nupeb/rede-micro/redemicro-andress...   reverse\n",
       "16       S68  /home/lauro/nupeb/rede-micro/redemicro-andress...   forward\n",
       "17       S68  /home/lauro/nupeb/rede-micro/redemicro-andress...   reverse\n",
       "18       S69  /home/lauro/nupeb/rede-micro/redemicro-andress...   forward\n",
       "19       S69  /home/lauro/nupeb/rede-micro/redemicro-andress...   reverse\n",
       "20       S71  /home/lauro/nupeb/rede-micro/redemicro-andress...   forward\n",
       "21       S71  /home/lauro/nupeb/rede-micro/redemicro-andress...   reverse\n",
       "22       S72  /home/lauro/nupeb/rede-micro/redemicro-andress...   forward\n",
       "23       S72  /home/lauro/nupeb/rede-micro/redemicro-andress...   reverse\n",
       "24       S74  /home/lauro/nupeb/rede-micro/redemicro-andress...   forward\n",
       "25       S74  /home/lauro/nupeb/rede-micro/redemicro-andress...   reverse\n",
       "26       S85  /home/lauro/nupeb/rede-micro/redemicro-andress...   forward\n",
       "27       S85  /home/lauro/nupeb/rede-micro/redemicro-andress...   reverse\n",
       "28       S86  /home/lauro/nupeb/rede-micro/redemicro-andress...   forward\n",
       "29       S86  /home/lauro/nupeb/rede-micro/redemicro-andress...   reverse"
      ]
     },
     "execution_count": 26,
     "metadata": {},
     "output_type": "execute_result"
    }
   ],
   "source": [
    "df_manifest"
   ]
  },
  {
   "cell_type": "code",
   "execution_count": 43,
   "id": "6127c256",
   "metadata": {
    "ExecuteTime": {
     "end_time": "2023-02-10T16:51:50.842611Z",
     "start_time": "2023-02-10T16:51:50.797721Z"
    }
   },
   "outputs": [
    {
     "ename": "IndexError",
     "evalue": "index 0 is out of bounds for axis 0 with size 0",
     "output_type": "error",
     "traceback": [
      "\u001b[0;31m---------------------------------------------------------------------------\u001b[0m",
      "\u001b[0;31mIndexError\u001b[0m                                Traceback (most recent call last)",
      "Input \u001b[0;32mIn [43]\u001b[0m, in \u001b[0;36m<module>\u001b[0;34m\u001b[0m\n\u001b[0;32m----> 1\u001b[0m new_col \u001b[38;5;241m=\u001b[39m \u001b[43mdf_manifest\u001b[49m\u001b[43m[\u001b[49m\u001b[38;5;124;43m'\u001b[39;49m\u001b[38;5;124;43msample-id\u001b[39;49m\u001b[38;5;124;43m'\u001b[39;49m\u001b[43m]\u001b[49m\u001b[38;5;241;43m.\u001b[39;49m\u001b[43mmap\u001b[49m\u001b[43m(\u001b[49m\u001b[38;5;28;43;01mlambda\u001b[39;49;00m\u001b[43m \u001b[49m\u001b[43mx\u001b[49m\u001b[43m:\u001b[49m\u001b[43m \u001b[49m\u001b[43mdf_metadata\u001b[49m\u001b[43m[\u001b[49m\u001b[38;5;124;43m'\u001b[39;49m\u001b[38;5;124;43msample-id\u001b[39;49m\u001b[38;5;124;43m'\u001b[39;49m\u001b[43m]\u001b[49m\u001b[43m[\u001b[49m\u001b[43mdf_metadata\u001b[49m\u001b[43m[\u001b[49m\u001b[38;5;124;43m'\u001b[39;49m\u001b[38;5;124;43mfile-id\u001b[39;49m\u001b[38;5;124;43m'\u001b[39;49m\u001b[43m]\u001b[49m\u001b[43m \u001b[49m\u001b[38;5;241;43m==\u001b[39;49m\u001b[43m \u001b[49m\u001b[43mx\u001b[49m\u001b[43m]\u001b[49m\u001b[38;5;241;43m.\u001b[39;49m\u001b[43mvalues\u001b[49m\u001b[43m[\u001b[49m\u001b[38;5;241;43m0\u001b[39;49m\u001b[43m]\u001b[49m\u001b[43m)\u001b[49m\n\u001b[1;32m      2\u001b[0m df_manifest[\u001b[38;5;124m'\u001b[39m\u001b[38;5;124msample-id\u001b[39m\u001b[38;5;124m'\u001b[39m] \u001b[38;5;241m=\u001b[39m new_col\n\u001b[1;32m      3\u001b[0m df_manifest\n",
      "File \u001b[0;32m~/anaconda3/envs/qiime2-2022.2/lib/python3.8/site-packages/pandas/core/series.py:3909\u001b[0m, in \u001b[0;36mSeries.map\u001b[0;34m(self, arg, na_action)\u001b[0m\n\u001b[1;32m   3834\u001b[0m \u001b[38;5;28;01mdef\u001b[39;00m \u001b[38;5;21mmap\u001b[39m(\u001b[38;5;28mself\u001b[39m, arg, na_action\u001b[38;5;241m=\u001b[39m\u001b[38;5;28;01mNone\u001b[39;00m) \u001b[38;5;241m-\u001b[39m\u001b[38;5;241m>\u001b[39m \u001b[38;5;124m\"\u001b[39m\u001b[38;5;124mSeries\u001b[39m\u001b[38;5;124m\"\u001b[39m:\n\u001b[1;32m   3835\u001b[0m     \u001b[38;5;124;03m\"\"\"\u001b[39;00m\n\u001b[1;32m   3836\u001b[0m \u001b[38;5;124;03m    Map values of Series according to input correspondence.\u001b[39;00m\n\u001b[1;32m   3837\u001b[0m \n\u001b[0;32m   (...)\u001b[0m\n\u001b[1;32m   3907\u001b[0m \u001b[38;5;124;03m    dtype: object\u001b[39;00m\n\u001b[1;32m   3908\u001b[0m \u001b[38;5;124;03m    \"\"\"\u001b[39;00m\n\u001b[0;32m-> 3909\u001b[0m     new_values \u001b[38;5;241m=\u001b[39m \u001b[38;5;28;43msuper\u001b[39;49m\u001b[43m(\u001b[49m\u001b[43m)\u001b[49m\u001b[38;5;241;43m.\u001b[39;49m\u001b[43m_map_values\u001b[49m\u001b[43m(\u001b[49m\u001b[43marg\u001b[49m\u001b[43m,\u001b[49m\u001b[43m \u001b[49m\u001b[43mna_action\u001b[49m\u001b[38;5;241;43m=\u001b[39;49m\u001b[43mna_action\u001b[49m\u001b[43m)\u001b[49m\n\u001b[1;32m   3910\u001b[0m     \u001b[38;5;28;01mreturn\u001b[39;00m \u001b[38;5;28mself\u001b[39m\u001b[38;5;241m.\u001b[39m_constructor(new_values, index\u001b[38;5;241m=\u001b[39m\u001b[38;5;28mself\u001b[39m\u001b[38;5;241m.\u001b[39mindex)\u001b[38;5;241m.\u001b[39m__finalize__(\n\u001b[1;32m   3911\u001b[0m         \u001b[38;5;28mself\u001b[39m, method\u001b[38;5;241m=\u001b[39m\u001b[38;5;124m\"\u001b[39m\u001b[38;5;124mmap\u001b[39m\u001b[38;5;124m\"\u001b[39m\n\u001b[1;32m   3912\u001b[0m     )\n",
      "File \u001b[0;32m~/anaconda3/envs/qiime2-2022.2/lib/python3.8/site-packages/pandas/core/base.py:937\u001b[0m, in \u001b[0;36mIndexOpsMixin._map_values\u001b[0;34m(self, mapper, na_action)\u001b[0m\n\u001b[1;32m    934\u001b[0m         \u001b[38;5;28;01mraise\u001b[39;00m \u001b[38;5;167;01mValueError\u001b[39;00m(msg)\n\u001b[1;32m    936\u001b[0m \u001b[38;5;66;03m# mapper is a function\u001b[39;00m\n\u001b[0;32m--> 937\u001b[0m new_values \u001b[38;5;241m=\u001b[39m \u001b[43mmap_f\u001b[49m\u001b[43m(\u001b[49m\u001b[43mvalues\u001b[49m\u001b[43m,\u001b[49m\u001b[43m \u001b[49m\u001b[43mmapper\u001b[49m\u001b[43m)\u001b[49m\n\u001b[1;32m    939\u001b[0m \u001b[38;5;28;01mreturn\u001b[39;00m new_values\n",
      "File \u001b[0;32mpandas/_libs/lib.pyx:2467\u001b[0m, in \u001b[0;36mpandas._libs.lib.map_infer\u001b[0;34m()\u001b[0m\n",
      "Input \u001b[0;32mIn [43]\u001b[0m, in \u001b[0;36m<lambda>\u001b[0;34m(x)\u001b[0m\n\u001b[0;32m----> 1\u001b[0m new_col \u001b[38;5;241m=\u001b[39m df_manifest[\u001b[38;5;124m'\u001b[39m\u001b[38;5;124msample-id\u001b[39m\u001b[38;5;124m'\u001b[39m]\u001b[38;5;241m.\u001b[39mmap(\u001b[38;5;28;01mlambda\u001b[39;00m x: \u001b[43mdf_metadata\u001b[49m\u001b[43m[\u001b[49m\u001b[38;5;124;43m'\u001b[39;49m\u001b[38;5;124;43msample-id\u001b[39;49m\u001b[38;5;124;43m'\u001b[39;49m\u001b[43m]\u001b[49m\u001b[43m[\u001b[49m\u001b[43mdf_metadata\u001b[49m\u001b[43m[\u001b[49m\u001b[38;5;124;43m'\u001b[39;49m\u001b[38;5;124;43mfile-id\u001b[39;49m\u001b[38;5;124;43m'\u001b[39;49m\u001b[43m]\u001b[49m\u001b[43m \u001b[49m\u001b[38;5;241;43m==\u001b[39;49m\u001b[43m \u001b[49m\u001b[43mx\u001b[49m\u001b[43m]\u001b[49m\u001b[38;5;241;43m.\u001b[39;49m\u001b[43mvalues\u001b[49m\u001b[43m[\u001b[49m\u001b[38;5;241;43m0\u001b[39;49m\u001b[43m]\u001b[49m)\n\u001b[1;32m      2\u001b[0m df_manifest[\u001b[38;5;124m'\u001b[39m\u001b[38;5;124msample-id\u001b[39m\u001b[38;5;124m'\u001b[39m] \u001b[38;5;241m=\u001b[39m new_col\n\u001b[1;32m      3\u001b[0m df_manifest\n",
      "\u001b[0;31mIndexError\u001b[0m: index 0 is out of bounds for axis 0 with size 0"
     ]
    }
   ],
   "source": [
    "new_col = df_manifest['sample-id'].map(lambda x: df_metadata['sample-id'][df_metadata['file-id'] == x].values[0])\n",
    "df_manifest['sample-id'] = new_col\n",
    "df_manifest"
   ]
  },
  {
   "cell_type": "code",
   "execution_count": 8,
   "id": "a1fb3091",
   "metadata": {
    "ExecuteTime": {
     "end_time": "2023-02-10T15:40:23.346592Z",
     "start_time": "2023-02-10T15:40:23.337596Z"
    }
   },
   "outputs": [],
   "source": [
    "manifest_fpath = os.path.join(base_path, 'manifest.csv')\n",
    "df_manifest.to_csv(manifest_fpath, index=False)"
   ]
  }
 ],
 "metadata": {
  "kernelspec": {
   "display_name": "Python 3 (ipykernel)",
   "language": "python",
   "name": "python3"
  },
  "language_info": {
   "codemirror_mode": {
    "name": "ipython",
    "version": 3
   },
   "file_extension": ".py",
   "mimetype": "text/x-python",
   "name": "python",
   "nbconvert_exporter": "python",
   "pygments_lexer": "ipython3",
   "version": "3.8.12"
  }
 },
 "nbformat": 4,
 "nbformat_minor": 5
}
