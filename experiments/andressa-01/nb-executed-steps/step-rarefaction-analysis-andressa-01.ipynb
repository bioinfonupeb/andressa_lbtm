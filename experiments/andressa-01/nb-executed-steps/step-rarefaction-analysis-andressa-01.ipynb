{
 "cells": [
  {
   "cell_type": "markdown",
   "id": "0a0cc39d",
   "metadata": {
    "papermill": {
     "duration": 0.019109,
     "end_time": "2023-02-10T19:21:40.280830",
     "exception": false,
     "start_time": "2023-02-10T19:21:40.261721",
     "status": "completed"
    },
    "tags": []
   },
   "source": [
    "### STEP : Rarefaction Analysis\n",
    "\n",
    "Using QIIME2 to create rarefaction graphs. List with all [classifiers](https://docs.qiime2.org/2020.6/data-resources/). \n",
    "\n",
    "\n",
    "#### Methods\n",
    "- [qiime feature-classifier](https://docs.qiime2.org/2022.2/plugins/available/feature-classifier/)\n",
    "- [qiime feature-classifier classify-sklearn](https://docs.qiime2.org/2021.8/plugins/available/feature-classifier/classify-sklearn)\n",
    "- [qiime metadata](https://docs.qiime2.org/2022.2/plugins/available/metadata/)\n",
    "- [classify-hybrid-vsearch-sklearn](https://docs.qiime2.org/2022.2/plugins/available/feature-classifier/classify-hybrid-vsearch-sklearn/)\n",
    "- [qiime metadata tabulate](https://docs.qiime2.org/2022.2/plugins/available/metadata/tabulate/)\n",
    "- [qiime taxa](https://docs.qiime2.org/2022.2/plugins/available/taxa/)\n",
    "- [qiime taxa barplot](https://docs.qiime2.org/2022.2/plugins/available/taxa/barplot/)"
   ]
  },
  {
   "cell_type": "markdown",
   "id": "70161453",
   "metadata": {
    "papermill": {
     "duration": 0.038896,
     "end_time": "2023-02-10T19:21:40.332232",
     "exception": false,
     "start_time": "2023-02-10T19:21:40.293336",
     "status": "completed"
    },
    "tags": []
   },
   "source": [
    "## Setup and settings"
   ]
  },
  {
   "cell_type": "code",
   "execution_count": 1,
   "id": "291ef8f3",
   "metadata": {
    "ExecuteTime": {
     "end_time": "2022-09-22T21:43:54.326002Z",
     "start_time": "2022-09-22T21:43:47.911891Z"
    },
    "execution": {
     "iopub.execute_input": "2023-02-10T19:21:40.357871Z",
     "iopub.status.busy": "2023-02-10T19:21:40.357431Z",
     "iopub.status.idle": "2023-02-10T19:21:46.792464Z",
     "shell.execute_reply": "2023-02-10T19:21:46.791826Z"
    },
    "papermill": {
     "duration": 6.45169,
     "end_time": "2023-02-10T19:21:46.795905",
     "exception": false,
     "start_time": "2023-02-10T19:21:40.344215",
     "status": "completed"
    },
    "tags": []
   },
   "outputs": [],
   "source": [
    "# Importing packages\n",
    "import os\n",
    "import pandas as pd\n",
    "from qiime2 import Artifact\n",
    "from qiime2 import Visualization\n",
    "from qiime2 import Metadata\n",
    "from qiime2.plugins.diversity.visualizers import alpha_rarefaction\n",
    "from qiime2.plugins.diversity.visualizers import beta_rarefaction\n",
    "\n",
    "import matplotlib.pyplot as plt\n",
    "\n",
    "%matplotlib inline"
   ]
  },
  {
   "cell_type": "code",
   "execution_count": 2,
   "id": "5915550a",
   "metadata": {
    "ExecuteTime": {
     "end_time": "2022-09-22T21:43:54.330790Z",
     "start_time": "2022-09-22T21:43:54.328358Z"
    },
    "execution": {
     "iopub.execute_input": "2023-02-10T19:21:46.825661Z",
     "iopub.status.busy": "2023-02-10T19:21:46.825500Z",
     "iopub.status.idle": "2023-02-10T19:21:46.828468Z",
     "shell.execute_reply": "2023-02-10T19:21:46.827933Z"
    },
    "papermill": {
     "duration": 0.015924,
     "end_time": "2023-02-10T19:21:46.829904",
     "exception": false,
     "start_time": "2023-02-10T19:21:46.813980",
     "status": "completed"
    },
    "tags": []
   },
   "outputs": [],
   "source": [
    "# from qiime2.plugins import demux, deblur, quality_filter, \\\n",
    "#                            metadata, feature_table, alignment, \\\n",
    "#                            phylogeny, diversity, emperor, feature_classifier, \\\n",
    "#                            taxa, composition"
   ]
  },
  {
   "cell_type": "markdown",
   "id": "99f38af8",
   "metadata": {
    "papermill": {
     "duration": 0.010621,
     "end_time": "2023-02-10T19:21:46.872645",
     "exception": false,
     "start_time": "2023-02-10T19:21:46.862024",
     "status": "completed"
    },
    "tags": []
   },
   "source": [
    "### Receiving the parameters\n",
    "\n",
    "The following cell can receive parameters using the [papermill](https://papermill.readthedocs.io/en/latest/) tool."
   ]
  },
  {
   "cell_type": "code",
   "execution_count": 3,
   "id": "bc4b32a6",
   "metadata": {
    "ExecuteTime": {
     "end_time": "2022-09-22T21:43:54.344271Z",
     "start_time": "2022-09-22T21:43:54.332262Z"
    },
    "execution": {
     "iopub.execute_input": "2023-02-10T19:21:46.930022Z",
     "iopub.status.busy": "2023-02-10T19:21:46.929822Z",
     "iopub.status.idle": "2023-02-10T19:21:46.933719Z",
     "shell.execute_reply": "2023-02-10T19:21:46.933132Z"
    },
    "papermill": {
     "duration": 0.016979,
     "end_time": "2023-02-10T19:21:46.935082",
     "exception": false,
     "start_time": "2023-02-10T19:21:46.918103",
     "status": "completed"
    },
    "tags": [
     "parameters"
    ]
   },
   "outputs": [],
   "source": [
    "metadata_file = '/home/lauro/nupeb/rede-micro/redemicro-miliane-nutri/data/raw/metadata/miliane-metadata-CxAC.tsv'\n",
    "base_dir = os.path.join('/', 'home', 'lauro', 'nupeb', 'rede-micro', 'redemicro-miliane-nutri')\n",
    "experiment_name = 'miliane-CxAC-trim'\n",
    "replace_files = False"
   ]
  },
  {
   "cell_type": "code",
   "execution_count": 4,
   "id": "cecb731d",
   "metadata": {
    "execution": {
     "iopub.execute_input": "2023-02-10T19:21:46.958613Z",
     "iopub.status.busy": "2023-02-10T19:21:46.958300Z",
     "iopub.status.idle": "2023-02-10T19:21:46.963867Z",
     "shell.execute_reply": "2023-02-10T19:21:46.963166Z"
    },
    "papermill": {
     "duration": 0.019215,
     "end_time": "2023-02-10T19:21:46.965442",
     "exception": false,
     "start_time": "2023-02-10T19:21:46.946227",
     "status": "completed"
    },
    "tags": [
     "injected-parameters"
    ]
   },
   "outputs": [],
   "source": [
    "# Parameters\n",
    "experiment_name = \"andressa\"\n",
    "base_dir = \"/home/lauro/nupeb/rede-micro/redemicro-andressa-lbtm\"\n",
    "manifest_file = \"/home/lauro/nupeb/rede-micro/redemicro-andressa-lbtm/data/manifest.csv\"\n",
    "metadata_file = \"/home/lauro/nupeb/rede-micro/redemicro-andressa-lbtm/data/metadata.tsv\"\n",
    "class_col = \"group-id\"\n",
    "classifier_file = \"/home/lauro/nupeb/rede-micro/models/silva-138-99-nb-classifier.qza\"\n",
    "replace_files = False\n",
    "phred = 20\n",
    "trunc_f = 0\n",
    "trunc_r = 0\n",
    "overlap = 12\n",
    "threads = 6\n"
   ]
  },
  {
   "cell_type": "code",
   "execution_count": 5,
   "id": "d07a2534",
   "metadata": {
    "ExecuteTime": {
     "end_time": "2022-09-22T21:43:54.362004Z",
     "start_time": "2022-09-22T21:43:54.346365Z"
    },
    "execution": {
     "iopub.execute_input": "2023-02-10T19:21:46.989528Z",
     "iopub.status.busy": "2023-02-10T19:21:46.989163Z",
     "iopub.status.idle": "2023-02-10T19:21:46.994124Z",
     "shell.execute_reply": "2023-02-10T19:21:46.993440Z"
    },
    "papermill": {
     "duration": 0.018344,
     "end_time": "2023-02-10T19:21:46.995601",
     "exception": false,
     "start_time": "2023-02-10T19:21:46.977257",
     "status": "completed"
    },
    "tags": []
   },
   "outputs": [],
   "source": [
    "experiment_folder = os.path.abspath(os.path.join(base_dir, 'experiments', experiment_name))\n",
    "img_folder = os.path.abspath(os.path.join(experiment_folder, 'imgs'))"
   ]
  },
  {
   "cell_type": "markdown",
   "id": "911a8fa8",
   "metadata": {
    "papermill": {
     "duration": 0.011919,
     "end_time": "2023-02-10T19:21:47.019144",
     "exception": false,
     "start_time": "2023-02-10T19:21:47.007225",
     "status": "completed"
    },
    "tags": []
   },
   "source": [
    "### Defining names, paths and flags"
   ]
  },
  {
   "cell_type": "code",
   "execution_count": 6,
   "id": "417f5e0a",
   "metadata": {
    "ExecuteTime": {
     "end_time": "2022-09-22T21:43:54.373657Z",
     "start_time": "2022-09-22T21:43:54.363586Z"
    },
    "execution": {
     "iopub.execute_input": "2023-02-10T19:21:47.042372Z",
     "iopub.status.busy": "2023-02-10T19:21:47.042037Z",
     "iopub.status.idle": "2023-02-10T19:21:47.048529Z",
     "shell.execute_reply": "2023-02-10T19:21:47.047904Z"
    },
    "papermill": {
     "duration": 0.01982,
     "end_time": "2023-02-10T19:21:47.050065",
     "exception": false,
     "start_time": "2023-02-10T19:21:47.030245",
     "status": "completed"
    },
    "tags": []
   },
   "outputs": [],
   "source": [
    "# QIIME2 Artifacts folder\n",
    "qiime_folder = os.path.join(experiment_folder, 'qiime-artifacts')\n",
    "\n",
    "# Input - DADA2 Artifacts\n",
    "dada2_tabs_path = os.path.join(qiime_folder, 'dada2-tabs.qza')\n",
    "dada2_reps_path = os.path.join(qiime_folder, 'dada2-reps.qza')\n",
    "dada2_stat_path = os.path.join(qiime_folder, 'dada2-stat.qza')\n",
    "\n",
    "# Output -Rarefaction Artifacts\n",
    "alpha_rarefaction_path = os.path.join(qiime_folder, 'alpha-rarefaction.qza')\n",
    "alpha_rarefaction_view_path = os.path.join(qiime_folder, 'alpha-rarefaction.qzv')\n",
    "\n",
    "# Flag - Load or create files\n",
    "need_tax = not (os.path.isfile(alpha_rarefaction_path)) or replace_files\n",
    "need_view = not (os.path.isfile(alpha_rarefaction_view_path)) or replace_files"
   ]
  },
  {
   "cell_type": "markdown",
   "id": "17c2bfd8",
   "metadata": {
    "papermill": {
     "duration": 0.015881,
     "end_time": "2023-02-10T19:21:47.077850",
     "exception": false,
     "start_time": "2023-02-10T19:21:47.061969",
     "status": "completed"
    },
    "tags": []
   },
   "source": [
    "## Step execution\n",
    "\n",
    "### Load input files\n",
    "\n",
    "This Step import the QIIME2 `SampleData[PairedEndSequencesWithQuality]` Artifact with all demultiplexed sequences and the `Metadata` file."
   ]
  },
  {
   "cell_type": "code",
   "execution_count": 7,
   "id": "120133e1",
   "metadata": {
    "ExecuteTime": {
     "end_time": "2022-09-22T21:43:54.398034Z",
     "start_time": "2022-09-22T21:43:54.375240Z"
    },
    "execution": {
     "iopub.execute_input": "2023-02-10T19:21:47.101141Z",
     "iopub.status.busy": "2023-02-10T19:21:47.100809Z",
     "iopub.status.idle": "2023-02-10T19:21:47.116042Z",
     "shell.execute_reply": "2023-02-10T19:21:47.115497Z"
    },
    "papermill": {
     "duration": 0.028996,
     "end_time": "2023-02-10T19:21:47.117846",
     "exception": false,
     "start_time": "2023-02-10T19:21:47.088850",
     "status": "completed"
    },
    "tags": []
   },
   "outputs": [],
   "source": [
    "#Load Metadata\n",
    "metadata_qa = Metadata.load(metadata_file)"
   ]
  },
  {
   "cell_type": "code",
   "execution_count": 8,
   "id": "423799da",
   "metadata": {
    "ExecuteTime": {
     "end_time": "2022-09-22T21:43:54.827295Z",
     "start_time": "2022-09-22T21:43:54.399431Z"
    },
    "execution": {
     "iopub.execute_input": "2023-02-10T19:21:47.144737Z",
     "iopub.status.busy": "2023-02-10T19:21:47.144578Z",
     "iopub.status.idle": "2023-02-10T19:21:47.250428Z",
     "shell.execute_reply": "2023-02-10T19:21:47.249786Z"
    },
    "papermill": {
     "duration": 0.120372,
     "end_time": "2023-02-10T19:21:47.252610",
     "exception": false,
     "start_time": "2023-02-10T19:21:47.132238",
     "status": "completed"
    },
    "tags": []
   },
   "outputs": [],
   "source": [
    "tabs = Artifact.load(dada2_tabs_path)\n",
    "tabs_df = tabs.view(Metadata).to_dataframe().T"
   ]
  },
  {
   "cell_type": "markdown",
   "id": "23869022",
   "metadata": {
    "papermill": {
     "duration": 0.020211,
     "end_time": "2023-02-10T19:21:47.288917",
     "exception": false,
     "start_time": "2023-02-10T19:21:47.268706",
     "status": "completed"
    },
    "tags": []
   },
   "source": [
    "## Alpha Rarefaction"
   ]
  },
  {
   "cell_type": "code",
   "execution_count": 9,
   "id": "8c37409c",
   "metadata": {
    "ExecuteTime": {
     "end_time": "2022-09-22T21:55:53.328300Z",
     "start_time": "2022-09-22T21:55:53.318166Z"
    },
    "execution": {
     "iopub.execute_input": "2023-02-10T19:21:47.313230Z",
     "iopub.status.busy": "2023-02-10T19:21:47.312638Z",
     "iopub.status.idle": "2023-02-10T19:21:47.320899Z",
     "shell.execute_reply": "2023-02-10T19:21:47.320161Z"
    },
    "papermill": {
     "duration": 0.022335,
     "end_time": "2023-02-10T19:21:47.322439",
     "exception": false,
     "start_time": "2023-02-10T19:21:47.300104",
     "status": "completed"
    },
    "tags": []
   },
   "outputs": [],
   "source": [
    "# Get min and maximum feature counts to set sampling depth\n",
    "rank_df = tabs_df.sum().sort_values()\n",
    "min_feature_count = int(rank_df.min())\n",
    "max_feature_count = int(rank_df.max())"
   ]
  },
  {
   "cell_type": "code",
   "execution_count": 10,
   "id": "fb054924",
   "metadata": {
    "ExecuteTime": {
     "end_time": "2022-09-22T21:56:13.586159Z",
     "start_time": "2022-09-22T21:55:55.117935Z"
    },
    "execution": {
     "iopub.execute_input": "2023-02-10T19:21:47.350619Z",
     "iopub.status.busy": "2023-02-10T19:21:47.350269Z",
     "iopub.status.idle": "2023-02-10T19:22:02.736039Z",
     "shell.execute_reply": "2023-02-10T19:22:02.734828Z"
    },
    "papermill": {
     "duration": 15.401853,
     "end_time": "2023-02-10T19:22:02.739616",
     "exception": false,
     "start_time": "2023-02-10T19:21:47.337763",
     "status": "completed"
    },
    "tags": []
   },
   "outputs": [],
   "source": [
    "alpha_rar = alpha_rarefaction(\n",
    "    table = tabs,\n",
    "    max_depth = max_feature_count,\n",
    "    min_depth = 1,\n",
    "    metadata = metadata_qa,\n",
    ")"
   ]
  },
  {
   "cell_type": "code",
   "execution_count": 11,
   "id": "41710672",
   "metadata": {
    "ExecuteTime": {
     "end_time": "2022-09-22T21:56:13.632468Z",
     "start_time": "2022-09-22T21:56:13.589032Z"
    },
    "execution": {
     "iopub.execute_input": "2023-02-10T19:22:02.774102Z",
     "iopub.status.busy": "2023-02-10T19:22:02.773726Z",
     "iopub.status.idle": "2023-02-10T19:22:02.824145Z",
     "shell.execute_reply": "2023-02-10T19:22:02.823634Z"
    },
    "papermill": {
     "duration": 0.067312,
     "end_time": "2023-02-10T19:22:02.826918",
     "exception": false,
     "start_time": "2023-02-10T19:22:02.759606",
     "status": "completed"
    },
    "scrolled": true,
    "tags": []
   },
   "outputs": [
    {
     "data": {
      "text/html": [
       "<div><img onload=\"(function(div, url){\n",
       "if (typeof require !== 'undefined') {\n",
       "    var baseURL = require.toUrl('').split('/').slice(0, -2).join('/');\n",
       "} else {\n",
       "    var baseURL = JSON.parse(\n",
       "        document.getElementById('jupyter-config-data').innerHTML\n",
       "    ).baseUrl.slice(0, -1);\n",
       "}\n",
       "url = baseURL + url;\n",
       "fetch(url).then(function(res) {\n",
       "    if (res.status === 404) {\n",
       "        div.innerHTML = 'Install QIIME 2 Jupyter extension with:<br />' +\n",
       "                        '<code>jupyter serverextension enable --py qiime2' +\n",
       "                        ' --sys-prefix</code><br />then restart your server.' +\n",
       "                        '<br /><br />(Interactive output not available on ' +\n",
       "                        'static notebook viewer services like nbviewer.)';\n",
       "    } else if (res.status === 409) {\n",
       "        div.innerHTML = 'Visualization no longer in scope. Re-run this cell' +\n",
       "                        ' to see the visualization.';\n",
       "    } else if (res.ok) {\n",
       "        url = res.url;\n",
       "        div.innerHTML = '<iframe src=\\'' + url + '\\' style=\\'' +\n",
       "                        'width: 100%; height: 700px; border: 0;\\'>' +\n",
       "                        '</iframe><hr />Open in a: <a href=\\'' + url + '\\'' +\n",
       "                        ' target=\\'_blank\\'>new window</a>'\n",
       "    } else {\n",
       "        div.innerHTML = 'Something has gone wrong. Check notebook server for' +\n",
       "                        ' errors.';\n",
       "    }\n",
       "});\n",
       "})(this.parentElement, '/qiime2/redirect?location=/tmp/qiime2-archive-201byaeo')\" src=\"data:image/gif;base64,R0lGODlhAQABAIAAAP///wAAACH5BAEAAAAALAAAAAABAAEAAAICRAEAOw==\" /></div>"
      ],
      "text/plain": [
       "<visualization: Visualization uuid: 0a9b6512-05da-4ab1-9068-c50a669b0d32>"
      ]
     },
     "execution_count": 11,
     "metadata": {},
     "output_type": "execute_result"
    }
   ],
   "source": [
    "alpha_rar.visualization.save(alpha_rarefaction_view_path)\n",
    "alpha_rar.visualization"
   ]
  },
  {
   "cell_type": "markdown",
   "id": "b10fbafe",
   "metadata": {
    "papermill": {
     "duration": 0.012428,
     "end_time": "2023-02-10T19:22:02.858377",
     "exception": false,
     "start_time": "2023-02-10T19:22:02.845949",
     "status": "completed"
    },
    "tags": []
   },
   "source": [
    "## Beta Rarefaction"
   ]
  },
  {
   "cell_type": "code",
   "execution_count": 12,
   "id": "1d55571e",
   "metadata": {
    "ExecuteTime": {
     "end_time": "2022-09-22T21:56:19.645438Z",
     "start_time": "2022-09-22T21:56:17.687848Z"
    },
    "execution": {
     "iopub.execute_input": "2023-02-10T19:22:02.884308Z",
     "iopub.status.busy": "2023-02-10T19:22:02.884010Z",
     "iopub.status.idle": "2023-02-10T19:22:04.458452Z",
     "shell.execute_reply": "2023-02-10T19:22:04.457882Z"
    },
    "papermill": {
     "duration": 1.590612,
     "end_time": "2023-02-10T19:22:04.461428",
     "exception": false,
     "start_time": "2023-02-10T19:22:02.870816",
     "status": "completed"
    },
    "tags": []
   },
   "outputs": [
    {
     "data": {
      "image/png": "[encoded data removed]",
      "text/plain": [
       "<Figure size 432x288 with 2 Axes>"
      ]
     },
     "metadata": {
      "needs_background": "light"
     },
     "output_type": "display_data"
    }
   ],
   "source": [
    "choices = ('matching', 'aitchison', 'euclidean', 'generalized_unifrac', 'canberra', 'russellrao', 'braycurtis', 'cosine', 'jensenshannon', 'yule', 'weighted_normalized_unifrac', 'unweighted_unifrac', 'hamming', 'weighted_unifrac', 'cityblock', 'sokalmichener', 'seuclidean', 'rogerstanimoto', 'correlation', 'minkowski', 'kulsinski', 'chebyshev', 'sqeuclidean', 'sokalsneath', 'jaccard', 'dice', 'canberra_adkins')\n",
    "clustering_methods = ('nj', 'upgma')\n",
    "correlation_methods = ('pearson', 'spearman')\n",
    "\n",
    "sampling_depth = max(min_feature_count, 1)\n",
    "metric = 'braycurtis'\n",
    "clustering_method = clustering_methods[0]\n",
    "correlation_method = correlation_methods[1]\n",
    "\n",
    "beta_rar = beta_rarefaction(\n",
    "    table = tabs,\n",
    "    sampling_depth  = sampling_depth,\n",
    "    metadata = metadata_qa,\n",
    "    metric = metric,\n",
    "    clustering_method = clustering_method,\n",
    "    correlation_method = correlation_method,\n",
    ")"
   ]
  },
  {
   "cell_type": "code",
   "execution_count": 13,
   "id": "13f46337",
   "metadata": {
    "ExecuteTime": {
     "end_time": "2022-09-22T21:56:22.170995Z",
     "start_time": "2022-09-22T21:56:22.048827Z"
    },
    "execution": {
     "iopub.execute_input": "2023-02-10T19:22:04.503724Z",
     "iopub.status.busy": "2023-02-10T19:22:04.503493Z",
     "iopub.status.idle": "2023-02-10T19:22:04.600427Z",
     "shell.execute_reply": "2023-02-10T19:22:04.599844Z"
    },
    "papermill": {
     "duration": 0.11142,
     "end_time": "2023-02-10T19:22:04.601759",
     "exception": false,
     "start_time": "2023-02-10T19:22:04.490339",
     "status": "completed"
    },
    "tags": []
   },
   "outputs": [
    {
     "data": {
      "text/html": [
       "<div><img onload=\"(function(div, url){\n",
       "if (typeof require !== 'undefined') {\n",
       "    var baseURL = require.toUrl('').split('/').slice(0, -2).join('/');\n",
       "} else {\n",
       "    var baseURL = JSON.parse(\n",
       "        document.getElementById('jupyter-config-data').innerHTML\n",
       "    ).baseUrl.slice(0, -1);\n",
       "}\n",
       "url = baseURL + url;\n",
       "fetch(url).then(function(res) {\n",
       "    if (res.status === 404) {\n",
       "        div.innerHTML = 'Install QIIME 2 Jupyter extension with:<br />' +\n",
       "                        '<code>jupyter serverextension enable --py qiime2' +\n",
       "                        ' --sys-prefix</code><br />then restart your server.' +\n",
       "                        '<br /><br />(Interactive output not available on ' +\n",
       "                        'static notebook viewer services like nbviewer.)';\n",
       "    } else if (res.status === 409) {\n",
       "        div.innerHTML = 'Visualization no longer in scope. Re-run this cell' +\n",
       "                        ' to see the visualization.';\n",
       "    } else if (res.ok) {\n",
       "        url = res.url;\n",
       "        div.innerHTML = '<iframe src=\\'' + url + '\\' style=\\'' +\n",
       "                        'width: 100%; height: 700px; border: 0;\\'>' +\n",
       "                        '</iframe><hr />Open in a: <a href=\\'' + url + '\\'' +\n",
       "                        ' target=\\'_blank\\'>new window</a>'\n",
       "    } else {\n",
       "        div.innerHTML = 'Something has gone wrong. Check notebook server for' +\n",
       "                        ' errors.';\n",
       "    }\n",
       "});\n",
       "})(this.parentElement, '/qiime2/redirect?location=/tmp/qiime2-archive-yo_fdowa')\" src=\"data:image/gif;base64,R0lGODlhAQABAIAAAP///wAAACH5BAEAAAAALAAAAAABAAEAAAICRAEAOw==\" /></div>"
      ],
      "text/plain": [
       "<visualization: Visualization uuid: 96bfbc5c-dab8-4e9f-8337-d24d393d377e>"
      ]
     },
     "execution_count": 13,
     "metadata": {},
     "output_type": "execute_result"
    }
   ],
   "source": [
    "plot_tmp = f'{metric}-{clustering_method}-{correlation_method}-{sampling_depth}'\n",
    "beta_rarefaction_view_path = os.path.join(qiime_folder, f'beta-rarefaction-{plot_tmp}.qzv')\n",
    "beta_rar.visualization.save(beta_rarefaction_view_path)\n",
    "\n",
    "beta_rar.visualization"
   ]
  }
 ],
 "metadata": {
  "celltoolbar": "Edit Metadata",
  "kernelspec": {
   "display_name": "Python 3 (ipykernel)",
   "language": "python",
   "name": "python3"
  },
  "language_info": {
   "codemirror_mode": {
    "name": "ipython",
    "version": 3
   },
   "file_extension": ".py",
   "mimetype": "text/x-python",
   "name": "python",
   "nbconvert_exporter": "python",
   "pygments_lexer": "ipython3",
   "version": "3.8.12"
  },
  "papermill": {
   "default_parameters": {},
   "duration": 26.887982,
   "end_time": "2023-02-10T19:22:05.331341",
   "environment_variables": {},
   "exception": null,
   "input_path": "nb-templates/step-rarefaction-analysis.ipynb",
   "output_path": "/home/lauro/nupeb/rede-micro/redemicro-andressa-lbtm/experiments/andressa-01/nb-executed-steps/step-rarefaction-analysis-andressa-01.ipynb",
   "parameters": {
    "base_dir": "/home/lauro/nupeb/rede-micro/redemicro-andressa-lbtm",
    "class_col": "group-id",
    "classifier_file": "/home/lauro/nupeb/rede-micro/models/silva-138-99-nb-classifier.qza",
    "experiment_name": "andressa",
    "manifest_file": "/home/lauro/nupeb/rede-micro/redemicro-andressa-lbtm/data/manifest.csv",
    "metadata_file": "/home/lauro/nupeb/rede-micro/redemicro-andressa-lbtm/data/metadata.tsv",
    "overlap": 12,
    "phred": 20,
    "replace_files": false,
    "threads": 6,
    "trunc_f": 0,
    "trunc_r": 0
   },
   "start_time": "2023-02-10T19:21:38.443359",
   "version": "2.3.4"
  },
  "toc-autonumbering": false,
  "toc-showcode": false,
  "toc-showmarkdowntxt": false
 },
 "nbformat": 4,
 "nbformat_minor": 5
}