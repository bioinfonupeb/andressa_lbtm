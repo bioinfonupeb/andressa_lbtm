{
 "cells": [
  {
   "cell_type": "markdown",
   "id": "15bcfa06",
   "metadata": {
    "papermill": {
     "duration": 0.025388,
     "end_time": "2023-02-01T16:02:02.245791",
     "exception": false,
     "start_time": "2023-02-01T16:02:02.220403",
     "status": "completed"
    },
    "tags": []
   },
   "source": [
    " \n",
    "# Alpha and Beta Diversity\n",
    "\n",
    "Different higher-level measures are often used to describe the microbiome in a sample. These do not provide information on changes in the abundance of specific taxa but allow us to access a broader change or difference in the composition of microorganisms. Alpha and beta diversity are examples of such measures.\n",
    "\n",
    "Different measures exist to estimate diversity within a single sample, jointly called alpha diversity. The different measures reflect the richness (number) or distribution (evenness) of a microbial sample or aim to reflect a combination of both properties.\n",
    "\n",
    "Rarefaction curves are often used when calculating alpha diversity indices because increasing numbers of sequenced taxa allow increasingly accurate estimates of total population diversity. Rarefaction curves can therefore be used to estimate the full sample richness, as compared to the observed sample richness.\n",
    "\n",
    "While alpha diversity is a measure of microbiome diversity applicable to a single sample, beta diversity is a measure of the similarity or dissimilarity of two communities. As for alpha diversity, many indices exist, each reflecting different aspects of community heterogeneity. Key differences relate to how the indices value variation in rare species if they consider presence/absence only or incorporate abundance, and how they interpret shared absence. Bray-Curtis dissimilarity is a popular measure that considers both size (overall abundance per sample) and shape (abundance of each taxon) of the communities (Bray, 1957). Beta diversity is an essential measure for many popular statistical methods in ecology, such as ordination-based methods, and is widely used for studying the association between environmental variables and microbial composition.\n",
    "\n",
    "In summary, alpha diversity measures can be seen as a summary statistic of a single population (within-sample diversity), while beta diversity measures are estimates of similarity or dissimilarity between populations (between samples).\n",
    "\n",
    "**Source**: (https://biomcare.com/info/key-terms-in-microbiome-projects/)"
   ]
  },
  {
   "cell_type": "markdown",
   "id": "0e7f2330",
   "metadata": {
    "ExecuteTime": {
     "end_time": "2022-09-22T19:36:33.828188Z",
     "start_time": "2022-09-22T19:36:33.817323Z"
    },
    "papermill": {
     "duration": 0.01753,
     "end_time": "2023-02-01T16:02:02.281176",
     "exception": false,
     "start_time": "2023-02-01T16:02:02.263646",
     "status": "completed"
    },
    "tags": []
   },
   "source": [
    "### STEP : Diversity Analysis\n",
    "\n",
    "Using QIIME2 to create diversity analisys graphs and calculations.\n",
    "\n",
    "- [QIIME2 Workflow Overview](https://docs.qiime2.org/2022.8/tutorials/overview/)\n",
    "\n",
    "\n",
    "#### Methods\n",
    "- [diversity](https://docs.qiime2.org/2022.8/plugins/available/diversity/)\n",
    "- [diversity alpha](https://docs.qiime2.org/2022.8/plugins/available/diversity/alpha/)\n",
    "- [diversity alpha_phylogenetic](https://docs.qiime2.org/2022.8/plugins/available/diversity/alpha-phylogenetic/)\n",
    "- [diversity beta](https://docs.qiime2.org/2022.8/plugins/available/diversity/beta/)\n",
    "- [diversity core_metrics](https://docs.qiime2.org/2022.8/plugins/available/diversity/core-metrics/)\n",
    "- [diversity alpha_group_significance](https://docs.qiime2.org/2022.8/plugins/available/diversity/alpha-group-significance/)\n",
    "- [diversity beta_group_significance](https://docs.qiime2.org/2022.8/plugins/available/diversity/beta-group-significance/)\n",
    "- [feature_table core_features](https://docs.qiime2.org/2022.8/plugins/available/feature-table/core-features/)\n",
    "- [feature_table summarize](https://docs.qiime2.org/2022.8/plugins/available/feature-table/summarize/)\n",
    "- [taxa filter-table](https://docs.qiime2.org/2022.8/plugins/available/taxa/filter-table/)\n",
    "- [taxa collapse](https://docs.qiime2.org/2022.8/plugins/available/taxa/collapse/)"
   ]
  },
  {
   "cell_type": "markdown",
   "id": "843debbf",
   "metadata": {
    "papermill": {
     "duration": 0.016863,
     "end_time": "2023-02-01T16:02:02.315224",
     "exception": false,
     "start_time": "2023-02-01T16:02:02.298361",
     "status": "completed"
    },
    "tags": []
   },
   "source": [
    "## Setup and settings"
   ]
  },
  {
   "cell_type": "code",
   "execution_count": 1,
   "id": "965e28e5",
   "metadata": {
    "ExecuteTime": {
     "end_time": "2022-11-03T20:35:26.198671Z",
     "start_time": "2022-11-03T20:35:06.473173Z"
    },
    "execution": {
     "iopub.execute_input": "2023-02-01T16:02:02.350515Z",
     "iopub.status.busy": "2023-02-01T16:02:02.350144Z",
     "iopub.status.idle": "2023-02-01T16:02:08.818058Z",
     "shell.execute_reply": "2023-02-01T16:02:08.817206Z"
    },
    "papermill": {
     "duration": 6.489345,
     "end_time": "2023-02-01T16:02:08.821317",
     "exception": false,
     "start_time": "2023-02-01T16:02:02.331972",
     "status": "completed"
    },
    "tags": []
   },
   "outputs": [],
   "source": [
    "# Importing packages\n",
    "import os\n",
    "import pandas as pd\n",
    "from qiime2 import Artifact\n",
    "from qiime2 import Visualization\n",
    "from qiime2 import Metadata\n",
    "\n",
    "from qiime2.plugins.phylogeny.pipelines import align_to_tree_mafft_fasttree\n",
    "\n",
    "from qiime2.plugins.diversity.pipelines import alpha\n",
    "from qiime2.plugins.diversity.pipelines import beta\n",
    "from qiime2.plugins.diversity.pipelines import core_metrics\n",
    "from qiime2.plugins.diversity.pipelines import alpha_phylogenetic\n",
    "\n",
    "from qiime2.plugins.diversity.visualizers import alpha_group_significance\n",
    "from qiime2.plugins.diversity.visualizers import beta_group_significance\n",
    "from qiime2.plugins.diversity.visualizers import alpha_correlation\n",
    "from qiime2.plugins.diversity.visualizers import beta_rarefaction\n",
    "\n",
    "from qiime2.plugins.taxa.methods import filter_table\n",
    "from qiime2.plugins.taxa.methods import collapse\n",
    "\n",
    "from qiime2.plugins.feature_table.visualizers import tabulate_seqs\n",
    "from qiime2.plugins.feature_table.visualizers import summarize\n",
    "from qiime2.plugins.feature_table.visualizers import core_features\n",
    "\n",
    "from qiime2.plugins.alignment.methods import mafft\n",
    "\n",
    "\n",
    "import matplotlib.pyplot as plt\n",
    "\n",
    "%matplotlib inline"
   ]
  },
  {
   "cell_type": "markdown",
   "id": "530ceb60",
   "metadata": {
    "papermill": {
     "duration": 0.01583,
     "end_time": "2023-02-01T16:02:08.860234",
     "exception": false,
     "start_time": "2023-02-01T16:02:08.844404",
     "status": "completed"
    },
    "tags": []
   },
   "source": [
    "### Receiving the parameters\n",
    "\n",
    "The following cell can receive parameters using the [papermill](https://papermill.readthedocs.io/en/latest/) tool."
   ]
  },
  {
   "cell_type": "code",
   "execution_count": 2,
   "id": "18d874ea",
   "metadata": {
    "ExecuteTime": {
     "end_time": "2022-09-29T20:54:14.793270Z",
     "start_time": "2022-09-29T20:54:14.789367Z"
    },
    "execution": {
     "iopub.execute_input": "2023-02-01T16:02:08.911881Z",
     "iopub.status.busy": "2023-02-01T16:02:08.911578Z",
     "iopub.status.idle": "2023-02-01T16:02:08.915942Z",
     "shell.execute_reply": "2023-02-01T16:02:08.915257Z"
    },
    "papermill": {
     "duration": 0.023595,
     "end_time": "2023-02-01T16:02:08.917487",
     "exception": false,
     "start_time": "2023-02-01T16:02:08.893892",
     "status": "completed"
    },
    "tags": [
     "parameters"
    ]
   },
   "outputs": [],
   "source": [
    "metadata_file = '/home/lauro/nupeb/rede-micro/redemicro-miliane-nutri/data/raw/metadata/miliane-metadata-CxAC.tsv'\n",
    "base_dir = os.path.join('/', 'home', 'lauro', 'nupeb', 'rede-micro', 'redemicro-miliane-nutri')\n",
    "experiment_name = 'miliane-CxAC-trim'\n",
    "class_col = 'group-id'\n",
    "replace_files = False"
   ]
  },
  {
   "cell_type": "code",
   "execution_count": 3,
   "id": "8c4b9b34",
   "metadata": {
    "execution": {
     "iopub.execute_input": "2023-02-01T16:02:08.951718Z",
     "iopub.status.busy": "2023-02-01T16:02:08.951442Z",
     "iopub.status.idle": "2023-02-01T16:02:08.955952Z",
     "shell.execute_reply": "2023-02-01T16:02:08.955277Z"
    },
    "papermill": {
     "duration": 0.023898,
     "end_time": "2023-02-01T16:02:08.958369",
     "exception": false,
     "start_time": "2023-02-01T16:02:08.934471",
     "status": "completed"
    },
    "tags": [
     "injected-parameters"
    ]
   },
   "outputs": [],
   "source": [
    "# Parameters\n",
    "experiment_name = \"andressa\"\n",
    "base_dir = \"/home/lauro/nupeb/rede-micro/redemicro-andressa-lbtm\"\n",
    "manifest_file = \"/home/lauro/nupeb/rede-micro/redemicro-andressa-lbtm/data/manifest.csv\"\n",
    "metadata_file = \"/home/lauro/nupeb/rede-micro/redemicro-andressa-lbtm/data/metadata.tsv\"\n",
    "class_col = \"group-id\"\n",
    "classifier_file = \"/home/lauro/nupeb/rede-micro/models/silva-138-99-nb-classifier.qza\"\n",
    "replace_files = False\n",
    "phred = 20\n",
    "trunc_f = 0\n",
    "trunc_r = 0\n",
    "overlap = 12\n",
    "threads = 6\n"
   ]
  },
  {
   "cell_type": "code",
   "execution_count": 4,
   "id": "f38617d9",
   "metadata": {
    "ExecuteTime": {
     "end_time": "2022-09-29T20:54:14.804575Z",
     "start_time": "2022-09-29T20:54:14.794927Z"
    },
    "execution": {
     "iopub.execute_input": "2023-02-01T16:02:08.996730Z",
     "iopub.status.busy": "2023-02-01T16:02:08.996219Z",
     "iopub.status.idle": "2023-02-01T16:02:09.001698Z",
     "shell.execute_reply": "2023-02-01T16:02:09.000814Z"
    },
    "papermill": {
     "duration": 0.025539,
     "end_time": "2023-02-01T16:02:09.003340",
     "exception": false,
     "start_time": "2023-02-01T16:02:08.977801",
     "status": "completed"
    },
    "tags": []
   },
   "outputs": [],
   "source": [
    "experiment_folder = os.path.abspath(os.path.join(base_dir, 'experiments', experiment_name))\n",
    "img_folder = os.path.abspath(os.path.join(experiment_folder, 'imgs'))"
   ]
  },
  {
   "cell_type": "markdown",
   "id": "ea9b90fb",
   "metadata": {
    "papermill": {
     "duration": 0.015006,
     "end_time": "2023-02-01T16:02:09.034448",
     "exception": false,
     "start_time": "2023-02-01T16:02:09.019442",
     "status": "completed"
    },
    "tags": []
   },
   "source": [
    "### Defining names, paths and flags"
   ]
  },
  {
   "cell_type": "code",
   "execution_count": 5,
   "id": "45727eef",
   "metadata": {
    "ExecuteTime": {
     "end_time": "2022-09-29T20:54:14.816686Z",
     "start_time": "2022-09-29T20:54:14.806238Z"
    },
    "execution": {
     "iopub.execute_input": "2023-02-01T16:02:09.065903Z",
     "iopub.status.busy": "2023-02-01T16:02:09.065316Z",
     "iopub.status.idle": "2023-02-01T16:02:09.075978Z",
     "shell.execute_reply": "2023-02-01T16:02:09.075097Z"
    },
    "papermill": {
     "duration": 0.027981,
     "end_time": "2023-02-01T16:02:09.077350",
     "exception": false,
     "start_time": "2023-02-01T16:02:09.049369",
     "status": "completed"
    },
    "tags": []
   },
   "outputs": [],
   "source": [
    "# QIIME2 Artifacts folder\n",
    "qiime_folder = os.path.join(experiment_folder, 'qiime-artifacts')\n",
    "\n",
    "# Input - DADA2 Artifacts\n",
    "dada2_tabs_path = os.path.join(qiime_folder, 'dada2-tabs.qza')\n",
    "dada2_reps_path = os.path.join(qiime_folder, 'dada2-reps.qza')\n",
    "dada2_stat_path = os.path.join(qiime_folder, 'dada2-stat.qza')\n",
    "\n",
    "# Input - Taxonaomic Artifacts\n",
    "taxonomy_path = os.path.join(qiime_folder, 'metatax.qza')\n",
    "\n",
    "# Output -Diversity Artifacts\n",
    "alpha_diversity_path = os.path.join(qiime_folder, 'alpha-diversity.qza')\n",
    "alpha_diversity_view_path = os.path.join(qiime_folder, 'alpha-diversity.qzv')\n",
    "beta_diversity_path = os.path.join(qiime_folder, 'beta-diversity.qza')\n",
    "beta_diversity_view_path = os.path.join(qiime_folder, 'beta-diversity.qzv')\n",
    "\n",
    "dada2_tabs_view = os.path.join(qiime_folder, 'dada2-tabs.qzv')\n",
    "dada2_reps_view = os.path.join(qiime_folder, 'dada2-reps.qzv')\n",
    "dada2_core_view = os.path.join(qiime_folder, 'dada2-core.qzv')\n",
    "\n",
    "# Flag - Load or create files\n",
    "need_tax = not (os.path.isfile(alpha_diversity_path)) or replace_files\n",
    "need_view = not (os.path.isfile(alpha_diversity_view_path)) or replace_files"
   ]
  },
  {
   "cell_type": "code",
   "execution_count": 6,
   "id": "601ae263",
   "metadata": {
    "ExecuteTime": {
     "end_time": "2022-09-29T20:54:14.829117Z",
     "start_time": "2022-09-29T20:54:14.818272Z"
    },
    "execution": {
     "iopub.execute_input": "2023-02-01T16:02:09.108665Z",
     "iopub.status.busy": "2023-02-01T16:02:09.108510Z",
     "iopub.status.idle": "2023-02-01T16:02:09.114008Z",
     "shell.execute_reply": "2023-02-01T16:02:09.113358Z"
    },
    "papermill": {
     "duration": 0.022302,
     "end_time": "2023-02-01T16:02:09.115422",
     "exception": false,
     "start_time": "2023-02-01T16:02:09.093120",
     "status": "completed"
    },
    "tags": []
   },
   "outputs": [],
   "source": [
    "def filter_and_collapse(tab, seqs, tax, meta, lvl, exclude=True, exclude_list='uncultured,unidentified,metagenome'):\n",
    "    from qiime2.plugins.taxa.methods import collapse\n",
    "    from qiime2.plugins.taxa.methods import filter_table\n",
    "    from qiime2.plugins.feature_table.methods import filter_seqs\n",
    "    from qiime2.plugins.feature_table.visualizers import summarize\n",
    "    \n",
    "    to_include = ('d', 'p', 'c', 'o', 'f', 'g', 's')[lvl-1]\n",
    "    to_include += '__'\n",
    "    to_exclude = exclude_list if exclude else None\n",
    "    \n",
    "    filtered_tabs = filter_table(\n",
    "        table=tab, \n",
    "        taxonomy=tax,\n",
    "        include=to_include,\n",
    "        exclude=to_exclude,\n",
    "        mode='contains').filtered_table\n",
    "    \n",
    "    filtered_seqs = filter_seqs(\n",
    "        data = seqs,\n",
    "        table = filtered_tabs,\n",
    "    ).filtered_data\n",
    "    \n",
    "    collapsed_table = collapse(table=filtered_tabs, taxonomy=tax, level=lvl).collapsed_table\n",
    "    collapsed_table_view = summarize(table=collapsed_table, sample_metadata=meta).visualization\n",
    "    \n",
    "    return collapsed_table, collapsed_table_view, filtered_seqs"
   ]
  },
  {
   "cell_type": "markdown",
   "id": "0999a1b2",
   "metadata": {
    "papermill": {
     "duration": 0.014792,
     "end_time": "2023-02-01T16:02:09.144832",
     "exception": false,
     "start_time": "2023-02-01T16:02:09.130040",
     "status": "completed"
    },
    "tags": []
   },
   "source": [
    "## Step execution\n",
    "\n",
    "### Load input files\n",
    "\n",
    "This Step import the QIIME2 `FeatureTable[Frequency]` Artifact and the `Metadata` file."
   ]
  },
  {
   "cell_type": "code",
   "execution_count": 7,
   "id": "8f299d1a",
   "metadata": {
    "ExecuteTime": {
     "end_time": "2022-09-29T20:54:15.559837Z",
     "start_time": "2022-09-29T20:54:14.830405Z"
    },
    "execution": {
     "iopub.execute_input": "2023-02-01T16:02:09.175364Z",
     "iopub.status.busy": "2023-02-01T16:02:09.175131Z",
     "iopub.status.idle": "2023-02-01T16:02:09.302516Z",
     "shell.execute_reply": "2023-02-01T16:02:09.301875Z"
    },
    "papermill": {
     "duration": 0.145083,
     "end_time": "2023-02-01T16:02:09.304581",
     "exception": false,
     "start_time": "2023-02-01T16:02:09.159498",
     "status": "completed"
    },
    "tags": []
   },
   "outputs": [],
   "source": [
    "#Load Metadata\n",
    "metadata_qa = Metadata.load(metadata_file)\n",
    "\n",
    "#Load FeatureTable[Frequency]\n",
    "tabs = Artifact.load(dada2_tabs_path)\n",
    "tabs_df = tabs.view(Metadata).to_dataframe().T\n",
    "\n",
    "# FeatureData[Sequence]\n",
    "reps = Artifact.load(dada2_reps_path)\n",
    "\n",
    "# FeatureData[Taxonomy]\n",
    "tax = Artifact.load(taxonomy_path)"
   ]
  },
  {
   "cell_type": "code",
   "execution_count": 8,
   "id": "c8dfe530",
   "metadata": {
    "ExecuteTime": {
     "end_time": "2022-09-29T20:54:15.564968Z",
     "start_time": "2022-09-29T20:54:15.561875Z"
    },
    "execution": {
     "iopub.execute_input": "2023-02-01T16:02:09.342543Z",
     "iopub.status.busy": "2023-02-01T16:02:09.342277Z",
     "iopub.status.idle": "2023-02-01T16:02:09.346223Z",
     "shell.execute_reply": "2023-02-01T16:02:09.345412Z"
    },
    "papermill": {
     "duration": 0.021645,
     "end_time": "2023-02-01T16:02:09.347819",
     "exception": false,
     "start_time": "2023-02-01T16:02:09.326174",
     "status": "completed"
    },
    "tags": []
   },
   "outputs": [],
   "source": [
    "# lvl = 7\n",
    "# exclude = True\n",
    "# tabs, collapsed_table_view, reps = filter_and_collapse(\n",
    "#                     tabs, reps, tax, metadata_qa, \n",
    "#                     lvl=lvl,\n",
    "#                     exclude=exclude, \n",
    "#                     exclude_list='uncultured,unidentified,metagenome')\n",
    "# collapsed_table_view"
   ]
  },
  {
   "cell_type": "code",
   "execution_count": 9,
   "id": "8b66a6e5",
   "metadata": {
    "ExecuteTime": {
     "end_time": "2022-09-29T20:54:20.434382Z",
     "start_time": "2022-09-29T20:54:15.567722Z"
    },
    "execution": {
     "iopub.execute_input": "2023-02-01T16:02:09.378334Z",
     "iopub.status.busy": "2023-02-01T16:02:09.378026Z",
     "iopub.status.idle": "2023-02-01T16:02:11.040204Z",
     "shell.execute_reply": "2023-02-01T16:02:11.039621Z"
    },
    "papermill": {
     "duration": 1.68085,
     "end_time": "2023-02-01T16:02:11.043139",
     "exception": false,
     "start_time": "2023-02-01T16:02:09.362289",
     "status": "completed"
    },
    "tags": []
   },
   "outputs": [
    {
     "data": {
      "text/plain": [
       "'/home/lauro/nupeb/rede-micro/redemicro-andressa-lbtm/experiments/andressa/qiime-artifacts/dada2-core.qzv'"
      ]
     },
     "execution_count": 9,
     "metadata": {},
     "output_type": "execute_result"
    },
    {
     "data": {
      "image/png": "[encoded data removed]",
      "text/plain": [
       "<Figure size 432x288 with 1 Axes>"
      ]
     },
     "metadata": {
      "needs_background": "light"
     },
     "output_type": "display_data"
    }
   ],
   "source": [
    "tabs_view = summarize(table=tabs, sample_metadata=metadata_qa).visualization\n",
    "tabs_view.save(dada2_tabs_view)\n",
    "reps_view = tabulate_seqs(data=reps).visualization\n",
    "reps_view.save(dada2_reps_view)\n",
    "core_view = core_features(table=tabs, min_fraction=.1, steps=10).visualization\n",
    "core_view.save(dada2_core_view)"
   ]
  },
  {
   "cell_type": "code",
   "execution_count": 10,
   "id": "b2bf36b8",
   "metadata": {
    "ExecuteTime": {
     "end_time": "2022-09-29T20:54:20.449299Z",
     "start_time": "2022-09-29T20:54:20.435814Z"
    },
    "execution": {
     "iopub.execute_input": "2023-02-01T16:02:11.080350Z",
     "iopub.status.busy": "2023-02-01T16:02:11.080091Z",
     "iopub.status.idle": "2023-02-01T16:02:11.083260Z",
     "shell.execute_reply": "2023-02-01T16:02:11.082658Z"
    },
    "papermill": {
     "duration": 0.023135,
     "end_time": "2023-02-01T16:02:11.087075",
     "exception": false,
     "start_time": "2023-02-01T16:02:11.063940",
     "status": "completed"
    },
    "tags": []
   },
   "outputs": [],
   "source": [
    "# import zipfile\n",
    "# from io import StringIO\n",
    "# import pandas as pd\n",
    "# with zipfile.ZipFile(dada2_core_view, 'r') as zip_ref:\n",
    "#     names = [x for x in zip_ref.namelist() if x.endswith('1.000.tsv')]\n",
    "#     print(names)\n",
    "#     with zip_ref.open(names[0]) as myfile:\n",
    "#         txt = str(myfile.read(), 'utf-8')\n",
    "#         txt = StringIO(txt)\n",
    "#         df = pd.read_csv(txt, sep='\\t')\n",
    "#         print(df)   "
   ]
  },
  {
   "cell_type": "markdown",
   "id": "9f43843a",
   "metadata": {
    "ExecuteTime": {
     "end_time": "2022-09-22T22:48:07.523952Z",
     "start_time": "2022-09-22T22:48:07.517565Z"
    },
    "papermill": {
     "duration": 0.027813,
     "end_time": "2023-02-01T16:02:11.137328",
     "exception": false,
     "start_time": "2023-02-01T16:02:11.109515",
     "status": "completed"
    },
    "tags": []
   },
   "source": [
    "## Alpha diversity analysis\n",
    "\n",
    "#### Reference\n",
    "- [The Use and Types of Alpha-Diversity Metrics in Microbial NGS](https://www.cd-genomics.com/microbioseq/the-use-and-types-of-alpha-diversity-metrics-in-microbial-ngs.html)\n",
    "- [Alpha diversity metrics](http://scikit-bio.org/docs/0.2.0/generated/skbio.diversity.alpha.html)\n",
    "\n",
    "#### Methods\n",
    "- [diversity alpha](https://docs.qiime2.org/2022.8/plugins/available/diversity/alpha/): Computes a user-specified alpha diversity metric for all samples in a\n",
    "feature table.\n",
    "- [diversity alpha_phylogenetic](https://docs.qiime2.org/2022.8/plugins/available/diversity/alpha-phylogenetic/): Computes a user-specified phylogenetic alpha diversity metric for all\n",
    "samples in a feature table.\n",
    "- [diversity alpha_correlation](https://docs.qiime2.org/2022.8/plugins/available/diversity/alpha-correlation/): Determine whether numeric sample metadata columns are correlated with alpha diversity.\n",
    "- [diversity alpha_group_significance](https://docs.qiime2.org/2022.8/plugins/available/diversity/alpha-group-significance/): Visually and statistically compare groups of alpha diversity values."
   ]
  },
  {
   "cell_type": "markdown",
   "id": "606b9c75",
   "metadata": {
    "papermill": {
     "duration": 0.019039,
     "end_time": "2023-02-01T16:02:11.173936",
     "exception": false,
     "start_time": "2023-02-01T16:02:11.154897",
     "status": "completed"
    },
    "tags": []
   },
   "source": [
    "### Compute Alpha Diversity vectors\n",
    "- [diversity alpha](https://docs.qiime2.org/2022.8/plugins/available/diversity/alpha/): Computes a user-specified alpha diversity metric for all samples in a feature table.\n",
    "- [Alpha diversity metrics](http://scikit-bio.org/docs/0.2.0/generated/skbio.diversity.alpha.html)\n",
    " - Choices: ('ace', 'berger_parker_d', 'brillouin_d', 'chao1', 'chao1_ci', 'dominance', 'doubles', 'enspie', 'esty_ci', 'fisher_alpha', 'gini_index', 'goods_coverage', 'heip_e', 'kempton_taylor_q', 'lladser_pe', 'margalef', 'mcintosh_d', 'mcintosh_e', 'menhinick', 'michaelis_menten_fit', 'observed_features', 'osd', 'pielou_e', 'robbins', 'shannon', 'simpson', 'simpson_e', 'singles', 'strong')"
   ]
  },
  {
   "cell_type": "code",
   "execution_count": 11,
   "id": "556e5264",
   "metadata": {
    "ExecuteTime": {
     "end_time": "2022-09-29T20:54:20.790166Z",
     "start_time": "2022-09-29T20:54:20.451134Z"
    },
    "execution": {
     "iopub.execute_input": "2023-02-01T16:02:11.213674Z",
     "iopub.status.busy": "2023-02-01T16:02:11.213516Z",
     "iopub.status.idle": "2023-02-01T16:02:56.618689Z",
     "shell.execute_reply": "2023-02-01T16:02:56.618052Z"
    },
    "papermill": {
     "duration": 45.428808,
     "end_time": "2023-02-01T16:02:56.622305",
     "exception": false,
     "start_time": "2023-02-01T16:02:11.193497",
     "status": "completed"
    },
    "tags": []
   },
   "outputs": [
    {
     "name": "stdout",
     "output_type": "stream",
     "text": [
      "Calculating alpha diversty: ace\n",
      "DONE: Calculating alpha diversty: ace\n",
      "Calculating alpha diversty: berger_parker_d\n",
      "DONE: Calculating alpha diversty: berger_parker_d\n",
      "Calculating alpha diversty: brillouin_d\n",
      "DONE: Calculating alpha diversty: brillouin_d\n",
      "Calculating alpha diversty: chao1\n",
      "DONE: Calculating alpha diversty: chao1\n",
      "Calculating alpha diversty: chao1_ci\n"
     ]
    },
    {
     "name": "stdout",
     "output_type": "stream",
     "text": [
      "DONE: Calculating alpha diversty: chao1_ci\n",
      "Calculating alpha diversty: dominance\n",
      "DONE: Calculating alpha diversty: dominance\n",
      "Calculating alpha diversty: doubles\n",
      "DONE: Calculating alpha diversty: doubles\n",
      "Calculating alpha diversty: enspie\n",
      "DONE: Calculating alpha diversty: enspie\n",
      "Calculating alpha diversty: esty_ci\n"
     ]
    },
    {
     "name": "stdout",
     "output_type": "stream",
     "text": [
      "DONE: Calculating alpha diversty: esty_ci\n",
      "Calculating alpha diversty: fisher_alpha\n",
      "DONE: Calculating alpha diversty: fisher_alpha\n",
      "Calculating alpha diversty: gini_index\n",
      "DONE: Calculating alpha diversty: gini_index\n",
      "Calculating alpha diversty: goods_coverage\n",
      "DONE: Calculating alpha diversty: goods_coverage\n",
      "Calculating alpha diversty: heip_e\n"
     ]
    },
    {
     "name": "stderr",
     "output_type": "stream",
     "text": [
      "/home/lauro/anaconda3/envs/qiime2-2022.2/lib/python3.8/site-packages/skbio/diversity/alpha/_base.py:389: RuntimeWarning: invalid value encountered in double_scalars\n",
      "  return ((np.exp(shannon(counts, base=np.e)) - 1) /\n"
     ]
    },
    {
     "name": "stdout",
     "output_type": "stream",
     "text": [
      "DONE: Calculating alpha diversty: heip_e\n",
      "Calculating alpha diversty: kempton_taylor_q\n",
      "DONE: Calculating alpha diversty: kempton_taylor_q\n",
      "Calculating alpha diversty: lladser_pe\n",
      "DONE: Calculating alpha diversty: lladser_pe\n",
      "Calculating alpha diversty: margalef\n"
     ]
    },
    {
     "name": "stderr",
     "output_type": "stream",
     "text": [
      "/home/lauro/anaconda3/envs/qiime2-2022.2/lib/python3.8/site-packages/skbio/diversity/alpha/_base.py:440: RuntimeWarning: invalid value encountered in long_scalars\n",
      "  return (upper - lower) / np.log(sorted_counts[upper] /\n"
     ]
    },
    {
     "name": "stdout",
     "output_type": "stream",
     "text": [
      "DONE: Calculating alpha diversty: margalef\n",
      "Calculating alpha diversty: mcintosh_d\n",
      "DONE: Calculating alpha diversty: mcintosh_d\n",
      "Calculating alpha diversty: mcintosh_e\n",
      "DONE: Calculating alpha diversty: mcintosh_e\n",
      "Calculating alpha diversty: menhinick\n",
      "DONE: Calculating alpha diversty: menhinick\n",
      "Calculating alpha diversty: michaelis_menten_fit\n"
     ]
    },
    {
     "name": "stdout",
     "output_type": "stream",
     "text": [
      "DONE: Calculating alpha diversty: michaelis_menten_fit\n",
      "Calculating alpha diversty: observed_features\n",
      "DONE: Calculating alpha diversty: observed_features\n",
      "Calculating alpha diversty: osd\n",
      "DONE: Calculating alpha diversty: osd\n",
      "Calculating alpha diversty: pielou_e\n",
      "DONE: Calculating alpha diversty: pielou_e\n",
      "Calculating alpha diversty: robbins\n",
      "DONE: Calculating alpha diversty: robbins\n",
      "Calculating alpha diversty: shannon\n"
     ]
    },
    {
     "name": "stderr",
     "output_type": "stream",
     "text": [
      "/home/lauro/anaconda3/envs/qiime2-2022.2/lib/python3.8/site-packages/skbio/diversity/alpha/_base.py:793: RuntimeWarning: invalid value encountered in double_scalars\n",
      "  return shannon(counts, base=np.e) / np.log(observed_otus(counts))\n"
     ]
    },
    {
     "name": "stdout",
     "output_type": "stream",
     "text": [
      "DONE: Calculating alpha diversty: shannon\n",
      "Calculating alpha diversty: simpson\n",
      "DONE: Calculating alpha diversty: simpson\n",
      "Calculating alpha diversty: simpson_e\n",
      "DONE: Calculating alpha diversty: simpson_e\n",
      "Calculating alpha diversty: singles\n",
      "DONE: Calculating alpha diversty: singles\n",
      "Calculating alpha diversty: strong\n",
      "DONE: Calculating alpha diversty: strong\n"
     ]
    }
   ],
   "source": [
    "metrics = ('ace', 'berger_parker_d', 'brillouin_d', 'chao1', 'chao1_ci', 'dominance', 'doubles', 'enspie', 'esty_ci', 'fisher_alpha', 'gini_index', 'goods_coverage', 'heip_e', 'kempton_taylor_q', 'lladser_pe', 'margalef', 'mcintosh_d', 'mcintosh_e', 'menhinick', 'michaelis_menten_fit', 'observed_features', 'osd', 'pielou_e', 'robbins', 'shannon', 'simpson', 'simpson_e', 'singles', 'strong')\n",
    "alpha_diversities = dict()\n",
    "for metric in metrics:\n",
    "    print(f\"Calculating alpha diversty: {metric}\")\n",
    "    try:\n",
    "        alpha_diversity = alpha(table=tabs, metric=metric).alpha_diversity\n",
    "        alpha_diversities[metric] = alpha_diversity\n",
    "        print(f\"DONE: Calculating alpha diversty: {metric}\")\n",
    "    except Exception as e:\n",
    "        print(f\"ERROR: Calculating alpha diversty: {metric}\")\n",
    "        print(e)"
   ]
  },
  {
   "cell_type": "markdown",
   "id": "184bcb7b",
   "metadata": {
    "papermill": {
     "duration": 0.020604,
     "end_time": "2023-02-01T16:02:56.669387",
     "exception": false,
     "start_time": "2023-02-01T16:02:56.648783",
     "status": "completed"
    },
    "tags": []
   },
   "source": [
    "### Create Phylogenetic inference\n",
    "\n",
    "- [alignment align_to_tree_mafft_fasttree](https://docs.qiime2.org/2022.8/plugins/available/phylogeny/align-to-tree-mafft-fasttree/): Build a phylogenetic tree using fasttree and mafft alignment\n",
    "\n",
    "This pipeline will start by creating a sequence alignment using MAFFT,\n",
    "after which any alignment columns that are phylogenetically uninformative\n",
    "or ambiguously aligned will be removed (masked). The resulting masked\n",
    "alignment will be used to infer a phylogenetic tree and then subsequently\n",
    "rooted at its midpoint. Output files from each step of the pipeline will be\n",
    "saved. This includes both the unmasked and masked MAFFT alignment from\n",
    "q2-alignment methods, and both the rooted and unrooted phylogenies from\n",
    "q2-phylogeny methods.\n",
    "\n",
    "\n",
    "Returns\n",
    "- alignment : FeatureData[AlignedSequence] : The aligned sequences.\n",
    "- masked_alignment : FeatureData[AlignedSequence] : The masked alignment.\n",
    "- tree : Phylogeny[Unrooted] : The unrooted phylogenetic tree.\n",
    "- rooted_tree : Phylogeny[Rooted] : The rooted phylogenetic tree."
   ]
  },
  {
   "cell_type": "code",
   "execution_count": 12,
   "id": "9c8cfe47",
   "metadata": {
    "ExecuteTime": {
     "end_time": "2022-09-29T20:54:35.139531Z",
     "start_time": "2022-09-29T20:54:20.792130Z"
    },
    "execution": {
     "iopub.execute_input": "2023-02-01T16:02:56.712208Z",
     "iopub.status.busy": "2023-02-01T16:02:56.711986Z",
     "iopub.status.idle": "2023-02-01T16:03:00.363388Z",
     "shell.execute_reply": "2023-02-01T16:03:00.362814Z"
    },
    "papermill": {
     "duration": 3.676241,
     "end_time": "2023-02-01T16:03:00.366195",
     "exception": false,
     "start_time": "2023-02-01T16:02:56.689954",
     "status": "completed"
    },
    "tags": []
   },
   "outputs": [
    {
     "name": "stdout",
     "output_type": "stream",
     "text": [
      "Running external command line application. This may print messages to stdout and/or stderr.\n",
      "The command being run is below. This command cannot be manually re-run as it will depend on temporary files that no longer exist.\n",
      "\n",
      "Command: mafft --preservecase --inputorder --thread 6 /tmp/qiime2-archive-1t2d2ry8/43649600-5112-4c5e-8836-a8a0cd44be20/data/dna-sequences.fasta\n",
      "\n"
     ]
    },
    {
     "name": "stderr",
     "output_type": "stream",
     "text": [
      "inputfile = orig\n",
      "187 x 472 - 427 d\n",
      "nthread = 6\n",
      "nthreadpair = 6\n",
      "nthreadtb = 6\n",
      "ppenalty_ex = 0\n",
      "stacksize: 8192 kb\n",
      "generating a scoring matrix for nucleotide (dist=200) ... done\n",
      "Gap Penalty = -1.53, +0.00, +0.00\n",
      "\n",
      "\n",
      "\n",
      "Making a distance matrix ..\n",
      "\r",
      "    1 / 187 (thread    0)\r",
      "  101 / 187 (thread    3)\n",
      "done.\n",
      "\n",
      "Constructing a UPGMA tree (efffree=0) ... \n",
      "\r",
      "    0 / 187\r",
      "   10 / 187\r",
      "   20 / 187\r",
      "   30 / 187\r",
      "   40 / 187\r",
      "   50 / 187\r",
      "   60 / 187\r",
      "   70 / 187\r",
      "   80 / 187\r",
      "   90 / 187\r",
      "  100 / 187\r",
      "  110 / 187\r",
      "  120 / 187\r",
      "  130 / 187\r",
      "  140 / 187\r",
      "  150 / 187\r",
      "  160 / 187\r",
      "  170 / 187\r",
      "  180 / 187\n",
      "done.\n",
      "\n",
      "Progressive alignment 1/2... \n",
      "\r",
      "STEP     2 / 186 (thread    1)\r",
      "STEP     1 / 186 (thread    0) f\b\b\r",
      "STEP     3 / 186 (thread    2) f\b\b f\b\b\r",
      "STEP     5 / 186 (thread    3) f\b\b\r",
      "STEP     4 / 186 (thread    4) f\b\b\r",
      "STEP     6 / 186 (thread    5) f\b\b\r",
      "STEP     7 / 186 (thread    0) f\b\b\r",
      "STEP     8 / 186 (thread    4) f\b\b\r",
      "STEP     9 / 186 (thread    5) f\b\b\r",
      "STEP    10 / 186 (thread    1) f\b\b\r",
      "STEP    11 / 186 (thread    3) f\b\b\r",
      "STEP    12 / 186 (thread    2)\r",
      "STEP    13 / 186 (thread    0) f\b\b f\b\b\r",
      "STEP    14 / 186 (thread    4) f\b\b\r",
      "STEP    16 / 186 (thread    3) f\b\b\r",
      "STEP    17 / 186 (thread    4) f\b\b\r",
      "STEP    18 / 186 (thread    0) f\b\b\r",
      "STEP    15 / 186 (thread    1) f\b\b\r",
      "STEP    19 / 186 (thread    2) f\b\b\r",
      "STEP    21 / 186 (thread    3) f\b\b\r",
      "STEP    22 / 186 (thread    5) f\b\b\r",
      "STEP    20 / 186 (thread    4) f\b\b\r",
      "STEP    24 / 186 (thread    3) f\b\b\r",
      "STEP    23 / 186 (thread    0) f\b\b\r",
      "STEP    27 / 186 (thread    2) f\b\b\r",
      "STEP    25 / 186 (thread    1) f\b\b\r",
      "STEP    28 / 186 (thread    5) f\b\b\r",
      "STEP    29 / 186 (thread    2) f\b\b\r",
      "STEP    30 / 186 (thread    3) f\b\b\r",
      "STEP    26 / 186 (thread    4) f\b\b\r",
      "STEP    31 / 186 (thread    5) f\b\b\r",
      "STEP    32 / 186 (thread    1) f\b\b\r",
      "STEP    33 / 186 (thread    1) f\b\b\r",
      "STEP    34 / 186 (thread    2) f\b\b\r",
      "STEP    35 / 186 (thread    3) f\b\b\r",
      "STEP    37 / 186 (thread    0) f\b\b\r",
      "STEP    36 / 186 (thread    5) f\b\b\r",
      "STEP    38 / 186 (thread    4) f\b\b\r",
      "STEP    39 / 186 (thread    1) f\b\b\r",
      "STEP    40 / 186 (thread    2) f\b\b\r",
      "STEP    41 / 186 (thread    3) f\b\b\r",
      "STEP    43 / 186 (thread    0) f\b\b\r",
      "STEP    44 / 186 (thread    1) f\b\b\r",
      "STEP    45 / 186 (thread    5) f\b\b\r",
      "STEP    42 / 186 (thread    4) f\b\b\r",
      "STEP    47 / 186 (thread    1) f\b\b\r",
      "STEP    48 / 186 (thread    3) f\b\b\r",
      "STEP    49 / 186 (thread    2) f\b\b\r",
      "STEP    46 / 186 (thread    0) f\b\b\r",
      "STEP    50 / 186 (thread    5) f\b\b\r",
      "STEP    51 / 186 (thread    4) f\b\b\r",
      "STEP    52 / 186 (thread    3) f\b\b\r",
      "STEP    53 / 186 (thread    2) f\b\b\r",
      "STEP    54 / 186 (thread    5) f\b\b\r",
      "STEP    55 / 186 (thread    4) f\b\b\r",
      "STEP    56 / 186 (thread    1) f\b\b\r",
      "STEP    58 / 186 (thread    0) f\b\b\r",
      "STEP    60 / 186 (thread    2)\r",
      "STEP    59 / 186 (thread    4) f\b\b f\b\b\r",
      "STEP    61 / 186 (thread    0) f\b\b\r",
      "STEP    62 / 186 (thread    5) f\b\b\r",
      "STEP    63 / 186 (thread    1) f\b\b\r",
      "STEP    57 / 186 (thread    3) f\b\b\r",
      "STEP    64 / 186 (thread    4) f\b\b\r",
      "STEP    65 / 186 (thread    0) f\b\b\r",
      "STEP    66 / 186 (thread    2) f\b\b\r",
      "STEP    67 / 186 (thread    4) f\b\b\r",
      "STEP    68 / 186 (thread    1) f\b\b\r",
      "STEP    70 / 186 (thread    0) f\b\b\r",
      "STEP    71 / 186 (thread    3) f\b\b\r",
      "STEP    72 / 186 (thread    2)\r",
      "STEP    69 / 186 (thread    5) f\b\b f\b\b\r",
      "STEP    73 / 186 (thread    1) f\b\b\r",
      "STEP    74 / 186 (thread    4) f\b\b\r",
      "STEP    76 / 186 (thread    3) f\b\b\r",
      "STEP    77 / 186 (thread    1) f\b\b\r",
      "STEP    78 / 186 (thread    4) f\b\b\r",
      "STEP    79 / 186 (thread    3) f\b\b\r",
      "STEP    80 / 186 (thread    5) f\b\b\r",
      "STEP    81 / 186 (thread    4) f\b\b\r",
      "STEP    82 / 186 (thread    2) f\b\b\r",
      "STEP    75 / 186 (thread    0) f\b\b\r",
      "STEP    83 / 186 (thread    1) f\b\b\r",
      "STEP    84 / 186 (thread    4) f\b\b\r",
      "STEP    85 / 186 (thread    2) f\b\b\r",
      "STEP    86 / 186 (thread    3) f\b\b\r",
      "STEP    87 / 186 (thread    1) f\b\b\r",
      "STEP    88 / 186 (thread    5) f\b\b\r",
      "STEP    89 / 186 (thread    4) f\b\b\r",
      "STEP    90 / 186 (thread    1) f\b\b\r",
      "STEP    91 / 186 (thread    0) f\b\b\r",
      "STEP    92 / 186 (thread    3) f\b\b\r",
      "STEP    94 / 186 (thread    5) f\b\b\r",
      "STEP    95 / 186 (thread    0) f\b\b\r",
      "STEP    93 / 186 (thread    4) f\b\b\r",
      "STEP    96 / 186 (thread    2) f\b\b\r",
      "STEP    97 / 186 (thread    1) f\b\b\r",
      "STEP    98 / 186 (thread    5) f\b\b\r",
      "STEP   100 / 186 (thread    0) f\b\b\r",
      "STEP   101 / 186 (thread    2) f\b\b\r",
      "STEP    99 / 186 (thread    3) f\b\b\r",
      "STEP   103 / 186 (thread    1) f\b\b\r",
      "STEP   104 / 186 (thread    0) f\b\b\r",
      "STEP   105 / 186 (thread    4) f\b\b\r",
      "STEP   102 / 186 (thread    5) f\b\b\r",
      "STEP   106 / 186 (thread    3) f\b\b\r",
      "STEP   108 / 186 (thread    0) f\b\b\r",
      "STEP   107 / 186 (thread    2) f\b\b\r",
      "STEP   109 / 186 (thread    1) f\b\b\r",
      "STEP   110 / 186 (thread    5) f\b\b\r",
      "STEP   111 / 186 (thread    4) f\b\b\r",
      "STEP   113 / 186 (thread    0) f\b\b\r",
      "STEP   114 / 186 (thread    1) f\b\b\r",
      "STEP   115 / 186 (thread    2) f\b\b\r",
      "STEP   117 / 186 (thread    1) f\b\b\r",
      "STEP   119 / 186 (thread    1) f\b\b\r",
      "STEP   116 / 186 (thread    0) f\b\b\r",
      "STEP   120 / 186 (thread    2) f\b\b\r",
      "STEP   121 / 186 (thread    4) f\b\b\r",
      "STEP   112 / 186 (thread    3) f\b\b\r",
      "STEP   122 / 186 (thread    2) f\b\b\r",
      "STEP   124 / 186 (thread    0) f\b\b\r",
      "STEP   118 / 186 (thread    5) f\b\b\r",
      "STEP   126 / 186 (thread    1) f\b\b\r",
      "STEP   127 / 186 (thread    0) f\b\b\r",
      "STEP   125 / 186 (thread    4) f\b\b\r",
      "STEP   123 / 186 (thread    3) f\b\b\r",
      "STEP   129 / 186 (thread    1) f\b\b\r",
      "STEP   130 / 186 (thread    5) f\b\b\r",
      "STEP   131 / 186 (thread    3) f\b\b\r",
      "STEP   133 / 186 (thread    1) f\b\b\r",
      "STEP   132 / 186 (thread    5) f\b\b\r",
      "STEP   136 / 186 (thread    0) f\b\b\r",
      "STEP   128 / 186 (thread    2) f\b\b\r",
      "STEP   137 / 186 (thread    3) f\b\b\r",
      "STEP   134 / 186 (thread    4) f\b\b\r",
      "STEP   135 / 186 (thread    5) f\b\b\r",
      "STEP   139 / 186 (thread    3) f\b\b\r",
      "STEP   140 / 186 (thread    2) f\b\b\r",
      "STEP   142 / 186 (thread    3) f\b\b\r",
      "STEP   138 / 186 (thread    1) f\b\b\r",
      "STEP   144 / 186 (thread    5) f\b\b\r",
      "STEP   145 / 186 (thread    3) f\b\b\r",
      "STEP   147 / 186 (thread    2) f\b\b\r",
      "STEP   148 / 186 (thread    3) f\b\b\r",
      "STEP   141 / 186 (thread    0) f\b\b\r",
      "STEP   150 / 186 (thread    3) f\b\b\r",
      "STEP   143 / 186 (thread    4) f\b\b\r",
      "STEP   154 / 186 (thread    4) f\b\b\r",
      "STEP   146 / 186 (thread    5) f\b\b\r",
      "STEP   155 / 186 (thread    4) f\b\b\r",
      "STEP   149 / 186 (thread    1) f\b\b\r",
      "STEP   157 / 186 (thread    4) f\b\b\r",
      "STEP   151 / 186 (thread    2) f\b\b\r",
      "STEP   159 / 186 (thread    4) f\b\b\r",
      "STEP   160 / 186 (thread    4) f\b\b\r",
      "STEP   161 / 186 (thread    2) f\b\b\r",
      "STEP   152 / 186 (thread    3) f\b\b\r",
      "STEP   163 / 186 (thread    2) f\b\b\n",
      "Reallocating..done. *alloclen = 1946\n",
      "\r",
      "STEP   153 / 186 (thread    0) f\b\b\r",
      "STEP   165 / 186 (thread    2) f\b\b\r",
      "STEP   166 / 186 (thread    2) f\b\b\r",
      "STEP   167 / 186 (thread    2) f\b\b\r",
      "STEP   156 / 186 (thread    5) f\b\b\r",
      "STEP   169 / 186 (thread    2) f\b\b\r",
      "STEP   158 / 186 (thread    1) f\b\b\r",
      "STEP   171 / 186 (thread    5) f\b\b\r",
      "STEP   172 / 186 (thread    5) f\b\b\r",
      "STEP   162 / 186 (thread    4) f\b\b\r",
      "STEP   175 / 186 (thread    4) f\b\b\r",
      "STEP   164 / 186 (thread    3) f\b\b\r",
      "STEP   168 / 186 (thread    0) f\b\b\r",
      "STEP   170 / 186 (thread    2) f\b\b"
     ]
    },
    {
     "name": "stderr",
     "output_type": "stream",
     "text": [
      "\r",
      "STEP   173 / 186 (thread    1) f\b\b\r",
      "STEP   174 / 186 (thread    5) f\b\b\r",
      "STEP   176 / 186 (thread    4) f\b\b\r",
      "STEP   177 / 186 (thread    3) f\b\b\r",
      "STEP   178 / 186 (thread    0) f\b\b\r",
      "STEP   179 / 186 (thread    2) f\b\b\r",
      "STEP   180 / 186 (thread    1) f\b\b\r",
      "STEP   181 / 186 (thread    5) f\b\b\r",
      "STEP   182 / 186 (thread    4) f\b\b\r",
      "STEP   183 / 186 (thread    3) f\b\b\r",
      "STEP   184 / 186 (thread    0) f\b\b\r",
      "STEP   185 / 186 (thread    2) f\b\b\r",
      "STEP   186 / 186 (thread    1) f\b\b\n",
      "done.\n",
      "\n",
      "Making a distance matrix from msa.. \n",
      "\r",
      "    0 / 187 (thread    1)\r",
      "  100 / 187 (thread    0)\n",
      "done.\n",
      "\n",
      "Constructing a UPGMA tree (efffree=1) ... \n",
      "\r",
      "    0 / 187\r",
      "   10 / 187\r",
      "   20 / 187\r",
      "   30 / 187\r",
      "   40 / 187\r",
      "   50 / 187\r",
      "   60 / 187\r",
      "   70 / 187\r",
      "   80 / 187\r",
      "   90 / 187\r",
      "  100 / 187\r",
      "  110 / 187\r",
      "  120 / 187\r",
      "  130 / 187\r",
      "  140 / 187\r",
      "  150 / 187\r",
      "  160 / 187\r",
      "  170 / 187\r",
      "  180 / 187\n",
      "done.\n",
      "\n",
      "Progressive alignment 2/2... \n",
      "\r",
      "STEP     1 / 186 (thread    0) f\b\b\r",
      "STEP     2 / 186 (thread    1) f\b\b\r",
      "STEP     3 / 186 (thread    2) f\b\b\r",
      "STEP     4 / 186 (thread    3) f\b\b\r",
      "STEP     5 / 186 (thread    4) f\b\b\r",
      "STEP     6 / 186 (thread    5) f\b\b\r",
      "STEP     8 / 186 (thread    0) f\b\b\r",
      "STEP     9 / 186 (thread    0) f\b\b\r",
      "STEP    10 / 186 (thread    0) f\b\b\r",
      "STEP    11 / 186 (thread    4) f\b\b\r",
      "STEP     7 / 186 (thread    2) f\b\b\r",
      "STEP    12 / 186 (thread    3) f\b\b\r",
      "STEP    13 / 186 (thread    0) f\b\b\r",
      "STEP    16 / 186 (thread    3) f\b\b\r",
      "STEP    17 / 186 (thread    2) f\b\b\r",
      "STEP    14 / 186 (thread    4) f\b\b\r",
      "STEP    18 / 186 (thread    3) f\b\b\r",
      "STEP    19 / 186 (thread    2) f\b\b\r",
      "STEP    20 / 186 (thread    1) f\b\b\r",
      "STEP    21 / 186 (thread    5) f\b\b\r",
      "STEP    22 / 186 (thread    2) f\b\b\r",
      "STEP    23 / 186 (thread    1)\r",
      "STEP    24 / 186 (thread    5) f\b\b f\b\b\r",
      "STEP    25 / 186 (thread    4) f\b\b\r",
      "STEP    26 / 186 (thread    2) f\b\b\r",
      "STEP    15 / 186 (thread    0) f\b\b\r",
      "STEP    28 / 186 (thread    5) f\b\b\r",
      "STEP    27 / 186 (thread    3) f\b\b\r",
      "STEP    31 / 186 (thread    1) f\b\b\r",
      "STEP    32 / 186 (thread    3) f\b\b\r",
      "STEP    30 / 186 (thread    4) f\b\b\r",
      "STEP    33 / 186 (thread    5) f\b\b\r",
      "STEP    34 / 186 (thread    0) f\b\b\r",
      "STEP    29 / 186 (thread    2) f\b\b\r",
      "STEP    35 / 186 (thread    1) f\b\b\r",
      "STEP    36 / 186 (thread    5) f\b\b\r",
      "STEP    37 / 186 (thread    0) f\b\b\r",
      "STEP    38 / 186 (thread    1) f\b\b\r",
      "STEP    39 / 186 (thread    4) f\b\b\r",
      "STEP    41 / 186 (thread    3) f\b\b\r",
      "STEP    42 / 186 (thread    2) f\b\b\r",
      "STEP    43 / 186 (thread    1) f\b\b\r",
      "STEP    44 / 186 (thread    0) f\b\b\r",
      "STEP    45 / 186 (thread    2) f\b\b\r",
      "STEP    46 / 186 (thread    4) f\b\b\r",
      "STEP    40 / 186 (thread    5) f\b\b\r",
      "STEP    48 / 186 (thread    2) f\b\b\r",
      "STEP    50 / 186 (thread    5) f\b\b\r",
      "STEP    47 / 186 (thread    3) f\b\b\r",
      "STEP    51 / 186 (thread    4) f\b\b\r",
      "STEP    52 / 186 (thread    0) f\b\b\r",
      "STEP    49 / 186 (thread    1) f\b\b\r",
      "STEP    53 / 186 (thread    5) f\b\b\r",
      "STEP    54 / 186 (thread    2) f\b\b\r",
      "STEP    55 / 186 (thread    4) f\b\b\r",
      "STEP    56 / 186 (thread    5) f\b\b\r",
      "STEP    57 / 186 (thread    2) f\b\b\r",
      "STEP    58 / 186 (thread    3) f\b\b\r",
      "STEP    59 / 186 (thread    4) f\b\b\r",
      "STEP    60 / 186 (thread    5) f\b\b\r",
      "STEP    61 / 186 (thread    0) f\b\b\r",
      "STEP    63 / 186 (thread    2) f\b\b\r",
      "STEP    64 / 186 (thread    5) f\b\b\r",
      "STEP    65 / 186 (thread    3) f\b\b\r",
      "STEP    66 / 186 (thread    4) f\b\b\r",
      "STEP    67 / 186 (thread    0) f\b\b\r",
      "STEP    62 / 186 (thread    1) f\b\b\r",
      "STEP    68 / 186 (thread    3) f\b\b\r",
      "STEP    69 / 186 (thread    4) f\b\b\r",
      "STEP    70 / 186 (thread    5) f\b\b\r",
      "STEP    73 / 186 (thread    5) f\b\b\r",
      "STEP    72 / 186 (thread    0) f\b\b\r",
      "STEP    74 / 186 (thread    1) f\b\b\r",
      "STEP    75 / 186 (thread    3) f\b\b\r",
      "STEP    71 / 186 (thread    2) f\b\b\r",
      "STEP    76 / 186 (thread    4) f\b\b\r",
      "STEP    77 / 186 (thread    1) f\b\b\r",
      "STEP    78 / 186 (thread    5) f\b\b\r",
      "STEP    79 / 186 (thread    4) f\b\b\r",
      "STEP    80 / 186 (thread    0) f\b\b\r",
      "STEP    81 / 186 (thread    5) f\b\b\r",
      "STEP    82 / 186 (thread    1) f\b\b\r",
      "STEP    83 / 186 (thread    2) f\b\b\r",
      "STEP    84 / 186 (thread    3) f\b\b\r",
      "STEP    85 / 186 (thread    5) f\b\b\r",
      "STEP    87 / 186 (thread    4) f\b\b\r",
      "STEP    88 / 186 (thread    5) f\b\b\r",
      "STEP    89 / 186 (thread    0) f\b\b\r",
      "STEP    86 / 186 (thread    2) f\b\b\r",
      "STEP    90 / 186 (thread    1) f\b\b\r",
      "STEP    91 / 186 (thread    3) f\b\b\r",
      "STEP    92 / 186 (thread    5) f\b\b\r",
      "STEP    93 / 186 (thread    4) f\b\b\r",
      "STEP    94 / 186 (thread    3) f\b\b\r",
      "STEP    95 / 186 (thread    5) f\b\b\r",
      "STEP    97 / 186 (thread    5) f\b\b\r",
      "STEP    99 / 186 (thread    1) f\b\b\r",
      "STEP   100 / 186 (thread    4) f\b\b\r",
      "STEP   101 / 186 (thread    3) f\b\b\r",
      "STEP    96 / 186 (thread    2) f\b\b\r",
      "STEP   102 / 186 (thread    5) f\b\b\r",
      "STEP   103 / 186 (thread    1) f\b\b\r",
      "STEP   104 / 186 (thread    4) f\b\b\r",
      "STEP   105 / 186 (thread    5) f\b\b\r",
      "STEP   106 / 186 (thread    2)\r",
      "STEP    98 / 186 (thread    0) f\b\b f\b\b\r",
      "STEP   107 / 186 (thread    5) f\b\b\r",
      "STEP   108 / 186 (thread    1) f\b\b\r",
      "STEP   109 / 186 (thread    3) f\b\b\r",
      "STEP   111 / 186 (thread    5) f\b\b\r",
      "STEP   110 / 186 (thread    4) f\b\b\r",
      "STEP   112 / 186 (thread    1) f\b\b\r",
      "STEP   113 / 186 (thread    2) f\b\b\r",
      "STEP   114 / 186 (thread    3) f\b\b\r",
      "STEP   116 / 186 (thread    0) f\b\b\r",
      "STEP   117 / 186 (thread    5) f\b\b\r",
      "STEP   115 / 186 (thread    1) f\b\b\r",
      "STEP   119 / 186 (thread    3) f\b\b\r",
      "STEP   121 / 186 (thread    0) f\b\b\r",
      "STEP   120 / 186 (thread    2) f\b\b\r",
      "STEP   124 / 186 (thread    0) f\b\b\r",
      "STEP   122 / 186 (thread    3) f\b\b\r",
      "STEP   118 / 186 (thread    4) f\b\b\r",
      "STEP   125 / 186 (thread    5) f\b\b\r",
      "STEP   126 / 186 (thread    3) f\b\b\r",
      "STEP   123 / 186 (thread    1) f\b\b\r",
      "STEP   127 / 186 (thread    5) f\b\b\r",
      "STEP   130 / 186 (thread    4) f\b\b\r",
      "STEP   128 / 186 (thread    0) f\b\b\r",
      "STEP   131 / 186 (thread    1) f\b\b\r",
      "STEP   132 / 186 (thread    3) f\b\b\r",
      "STEP   133 / 186 (thread    5) f\b\b\r",
      "STEP   129 / 186 (thread    2) f\b\b\r",
      "STEP   135 / 186 (thread    1) f\b\b\r",
      "STEP   137 / 186 (thread    0) f\b\b\r",
      "STEP   136 / 186 (thread    3) f\b\b\r",
      "STEP   139 / 186 (thread    1) f\b\b\r",
      "STEP   138 / 186 (thread    5) f\b\b\r",
      "STEP   140 / 186 (thread    2) f\b\b\r",
      "STEP   134 / 186 (thread    4) f\b\b\r",
      "STEP   142 / 186 (thread    1) f\b\b\r",
      "STEP   144 / 186 (thread    3) f\b\b\r",
      "STEP   141 / 186 (thread    0) f\b\b\r",
      "STEP   143 / 186 (thread    2) f\b\b\r",
      "STEP   147 / 186 (thread    4) f\b\b\r",
      "STEP   148 / 186 (thread    3) f\b\b\r",
      "STEP   145 / 186 (thread    5) f\b\b\r",
      "STEP   149 / 186 (thread    0) f\b\b\r",
      "STEP   150 / 186 (thread    3) f\b\b\r",
      "STEP   151 / 186 (thread    3) f\b\b\r",
      "STEP   152 / 186 (thread    0) f\b\b\n",
      "Reallocating..done. *alloclen = 1946\n",
      "\r",
      "STEP   146 / 186 (thread    1) f\b\b\r",
      "STEP   155 / 186 (thread    5) f\b\b\r",
      "STEP   157 / 186 (thread    0) f\b\b\r",
      "STEP   159 / 186 (thread    0) f\b\b\r",
      "STEP   153 / 186 (thread    4) f\b\b\r",
      "STEP   161 / 186 (thread    0) f\b\b\r",
      "STEP   154 / 186 (thread    2) f\b\b\r",
      "STEP   163 / 186 (thread    4) f\b\b"
     ]
    },
    {
     "name": "stderr",
     "output_type": "stream",
     "text": [
      "\r",
      "STEP   156 / 186 (thread    3) f\b\b\r",
      "STEP   164 / 186 (thread    2) f\b\b\r",
      "STEP   158 / 186 (thread    5) f\b\b\r",
      "STEP   165 / 186 (thread    4) f\b\b\r",
      "STEP   160 / 186 (thread    1) f\b\b\r",
      "STEP   168 / 186 (thread    5) f\b\b\r",
      "STEP   170 / 186 (thread    1) f\b\b\r",
      "STEP   162 / 186 (thread    0) f\b\b\r",
      "STEP   166 / 186 (thread    3) f\b\b\r",
      "STEP   173 / 186 (thread    0) f\b\b\r",
      "STEP   174 / 186 (thread    0) f\b\b\r",
      "STEP   167 / 186 (thread    2) f\b\b\r",
      "STEP   176 / 186 (thread    0) f\b\b\r",
      "STEP   169 / 186 (thread    4) f\b\b\r",
      "STEP   171 / 186 (thread    5) f\b\b\r",
      "STEP   172 / 186 (thread    1) f\b\b\r",
      "STEP   175 / 186 (thread    3) f\b\b\r",
      "STEP   177 / 186 (thread    2) f\b\b\r",
      "STEP   178 / 186 (thread    0) f\b\b\r",
      "STEP   179 / 186 (thread    4) f\b\b\r",
      "STEP   180 / 186 (thread    5) f\b\b\r",
      "STEP   181 / 186 (thread    1) f\b\b\r",
      "STEP   182 / 186 (thread    3) f\b\b\r",
      "STEP   183 / 186 (thread    2) f\b\b\r",
      "STEP   184 / 186 (thread    0) f\b\b\r",
      "STEP   185 / 186 (thread    4) f\b\b\r",
      "STEP   186 / 186 (thread    5) f\b\b\n",
      "done.\n",
      "\n",
      "disttbfast (nuc) Version 7.490\n",
      "alg=A, model=DNA200 (2), 1.53 (4.59), -0.00 (-0.00), noshift, amax=0.0\n",
      "6 thread(s)\n",
      "\n",
      "\n",
      "Strategy:\n",
      " FFT-NS-2 (Fast but rough)\n",
      " Progressive method (guide trees were built 2 times.)\n",
      "\n",
      "If unsure which option to use, try 'mafft --auto input > output'.\n",
      "For more information, see 'mafft --help', 'mafft --man' and the mafft page.\n",
      "\n",
      "The default gap scoring scheme has been changed in version 7.110 (2013 Oct).\n",
      "It tends to insert more gaps into gap-rich regions than previous versions.\n",
      "To disable this change, add the --leavegappyregion option.\n",
      "\n"
     ]
    },
    {
     "name": "stdout",
     "output_type": "stream",
     "text": [
      "Running external command line application. This may print messages to stdout and/or stderr.\n",
      "The command being run is below. This command cannot be manually re-run as it will depend on temporary files that no longer exist.\n",
      "\n",
      "Command: FastTreeMP -quote -nt /tmp/qiime2-archive-86jg1fdl/4105433b-429f-45da-a3f6-b3640dfcc13d/data/aligned-dna-sequences.fasta\n",
      "\n"
     ]
    },
    {
     "name": "stderr",
     "output_type": "stream",
     "text": [
      "FastTree Version 2.1.10 Double precision (No SSE3), OpenMP (6 threads)\n",
      "Alignment: /tmp/qiime2-archive-86jg1fdl/4105433b-429f-45da-a3f6-b3640dfcc13d/data/aligned-dna-sequences.fasta\n",
      "Nucleotide distances: Jukes-Cantor Joins: balanced Support: SH-like 1000\n",
      "Search: Normal +NNI +SPR (2 rounds range 10) +ML-NNI opt-each=1\n",
      "TopHits: 1.00*sqrtN close=default refresh=0.80\n",
      "ML Model: Jukes-Cantor, CAT approximation with 20 rate categories\n",
      "Initial topology in 0.07 seconds\n",
      "Refining topology: 30 rounds ME-NNIs, 2 rounds ME-SPRs, 15 rounds ML-NNIs\n",
      "      0.14 seconds: SPR round   1 of   2, 101 of 372 nodes\n"
     ]
    },
    {
     "name": "stderr",
     "output_type": "stream",
     "text": [
      "      0.26 seconds: SPR round   1 of   2, 301 of 372 nodes\n",
      "      0.41 seconds: SPR round   2 of   2, 201 of 372 nodes\n"
     ]
    },
    {
     "name": "stderr",
     "output_type": "stream",
     "text": [
      "      0.51 seconds: ME NNI round 21 of 30, 1 of 185 splits\n",
      "Total branch-length 6.732 after 0.53 sec\n",
      "      0.66 seconds: ML NNI round 1 of 15, 101 of 185 splits, 10 changes (max delta 6.282)\n"
     ]
    },
    {
     "name": "stderr",
     "output_type": "stream",
     "text": [
      "ML-NNI round 1: LogLk = -16936.705 NNIs 23 max delta 9.88 Time 0.74\n",
      "      0.76 seconds: Site likelihoods with rate category 17 of 20\n",
      "Switched to using 20 rate categories (CAT approximation)\n",
      "Rate categories were divided by 0.992 so that average rate = 1.0\n",
      "CAT-based log-likelihoods may not be comparable across runs\n",
      "Use -gamma for approximate but comparable Gamma(20) log-likelihoods\n",
      "      0.87 seconds: ML NNI round 2 of 15, 101 of 185 splits, 5 changes (max delta 1.658)\n"
     ]
    },
    {
     "name": "stderr",
     "output_type": "stream",
     "text": [
      "ML-NNI round 2: LogLk = -14210.114 NNIs 14 max delta 4.75 Time 0.95\n",
      "      1.04 seconds: ML NNI round 3 of 15, 101 of 185 splits, 5 changes (max delta 0.456)\n",
      "ML-NNI round 3: LogLk = -14206.369 NNIs 6 max delta 0.46 Time 1.05\n",
      "ML-NNI round 4: LogLk = -14197.066 NNIs 6 max delta 2.96 Time 1.12\n"
     ]
    },
    {
     "name": "stderr",
     "output_type": "stream",
     "text": [
      "ML-NNI round 5: LogLk = -14188.222 NNIs 6 max delta 1.47 Time 1.17\n",
      "      1.16 seconds: ML NNI round 6 of 15, 1 of 185 splits\n",
      "ML-NNI round 6: LogLk = -14181.029 NNIs 3 max delta 4.56 Time 1.22\n",
      "ML-NNI round 7: LogLk = -14179.687 NNIs 1 max delta 0.06 Time 1.26\n",
      "Turning off heuristics for final round of ML NNIs (converged)\n",
      "      1.35 seconds: ML NNI round 8 of 15, 101 of 185 splits, 0 changes\n"
     ]
    },
    {
     "name": "stderr",
     "output_type": "stream",
     "text": [
      "ML-NNI round 8: LogLk = -14179.059 NNIs 0 max delta 0.00 Time 1.43 (final)\n",
      "Optimize all lengths: LogLk = -14178.958 Time 1.47\n",
      "      1.61 seconds: ML split tests for    100 of    184 internal splits\n"
     ]
    },
    {
     "name": "stderr",
     "output_type": "stream",
     "text": [
      "Total time: 1.73 seconds Unique: 187/187 Bad splits: 0/184\n"
     ]
    }
   ],
   "source": [
    "mafft_alignment, mafft_masked_alignment, mafft_tree, mafft_rooted_tree = align_to_tree_mafft_fasttree(\n",
    "    sequences=reps, n_threads=6, )"
   ]
  },
  {
   "cell_type": "markdown",
   "id": "0768d598",
   "metadata": {
    "papermill": {
     "duration": 0.023901,
     "end_time": "2023-02-01T16:03:00.420008",
     "exception": false,
     "start_time": "2023-02-01T16:03:00.396107",
     "status": "completed"
    },
    "tags": []
   },
   "source": [
    "### Compute Alpha Diversity (Phylogeny)\n",
    "- [diversity alpha_phylogenetic](https://docs.qiime2.org/2022.8/plugins/available/diversity/alpha-phylogenetic/): Computes a user-specified phylogenetic alpha diversity metric for all samples in a feature table.\n",
    "- Metrics: Choices ('faith_pd')"
   ]
  },
  {
   "cell_type": "code",
   "execution_count": 13,
   "id": "0383aa19",
   "metadata": {
    "ExecuteTime": {
     "end_time": "2022-09-29T20:54:35.310009Z",
     "start_time": "2022-09-29T20:54:35.141333Z"
    },
    "execution": {
     "iopub.execute_input": "2023-02-01T16:03:00.469566Z",
     "iopub.status.busy": "2023-02-01T16:03:00.469312Z",
     "iopub.status.idle": "2023-02-01T16:03:00.559471Z",
     "shell.execute_reply": "2023-02-01T16:03:00.558847Z"
    },
    "papermill": {
     "duration": 0.118394,
     "end_time": "2023-02-01T16:03:00.562304",
     "exception": false,
     "start_time": "2023-02-01T16:03:00.443910",
     "status": "completed"
    },
    "tags": []
   },
   "outputs": [
    {
     "name": "stdout",
     "output_type": "stream",
     "text": [
      "Calculating alpha diversity: faith_pd\n",
      "DONE: Calculating alpha diversty: faith_pd\n"
     ]
    }
   ],
   "source": [
    "metrics = ('faith_pd', )\n",
    "alpha_diversities_phylogenetic = dict()\n",
    "for metric in metrics:\n",
    "    print(f\"Calculating alpha diversity: {metric}\")\n",
    "    try:\n",
    "        alpha_diversity = alpha_phylogenetic(table=tabs, phylogeny=mafft_rooted_tree, metric=metric).alpha_diversity\n",
    "        alpha_diversities_phylogenetic[metric] = alpha_diversity\n",
    "        print(f\"DONE: Calculating alpha diversty: {metric}\")\n",
    "    except Exception as e:\n",
    "        print(f\"ERROR: Calculating alpha diversty: {metric}\")"
   ]
  },
  {
   "cell_type": "markdown",
   "id": "c7752cfd",
   "metadata": {
    "papermill": {
     "duration": 0.025127,
     "end_time": "2023-02-01T16:03:00.615502",
     "exception": false,
     "start_time": "2023-02-01T16:03:00.590375",
     "status": "completed"
    },
    "tags": []
   },
   "source": [
    "### Alpha diversity correlation\n",
    "\n",
    "This method only process `numeric` columns.\n"
   ]
  },
  {
   "cell_type": "code",
   "execution_count": 14,
   "id": "2814f613",
   "metadata": {
    "ExecuteTime": {
     "end_time": "2022-09-29T20:54:35.317618Z",
     "start_time": "2022-09-29T20:54:35.312094Z"
    },
    "execution": {
     "iopub.execute_input": "2023-02-01T16:03:00.667846Z",
     "iopub.status.busy": "2023-02-01T16:03:00.667511Z",
     "iopub.status.idle": "2023-02-01T16:03:00.678140Z",
     "shell.execute_reply": "2023-02-01T16:03:00.677327Z"
    },
    "papermill": {
     "duration": 0.039394,
     "end_time": "2023-02-01T16:03:00.680297",
     "exception": false,
     "start_time": "2023-02-01T16:03:00.640903",
     "status": "completed"
    },
    "tags": []
   },
   "outputs": [],
   "source": [
    "methods = ('spearman', 'pearson')\n",
    "numerics_cols = metadata_qa.filter_columns(column_type='numeric')\n",
    "if numerics_cols.column_count > 0:\n",
    "    for metric, alpha_values in alpha_diversities.items():\n",
    "        for method in methods:\n",
    "            try:\n",
    "                corr_view = alpha_correlation(alpha_diversity=alpha_values, metadata=numerics_cols, \n",
    "                                          method=method, intersect_ids=True).visualization\n",
    "                view_path = os.path.join(qiime_folder, f'alpha-correlation-{metric}-{method}.qzv')\n",
    "                corr_view.save(view_path)\n",
    "                corr_view\n",
    "                print(f\"DONE: Calculating alpha diversty: {metric} {method}\")\n",
    "            except Exception as e:\n",
    "                print(f\"ERROR: Calculating alpha diversty: {metric} {method}\")"
   ]
  },
  {
   "cell_type": "markdown",
   "id": "8ea83c8a",
   "metadata": {
    "papermill": {
     "duration": 0.024968,
     "end_time": "2023-02-01T16:03:00.733059",
     "exception": false,
     "start_time": "2023-02-01T16:03:00.708091",
     "status": "completed"
    },
    "tags": []
   },
   "source": [
    "## Alpha diversity comparisons\n",
    "\n",
    "Visually and statistically compare groups of alpha diversity values.\n",
    "\n",
    "[diversity alpha_group_significance](https://docs.qiime2.org/2022.8/plugins/available/diversity/alpha-group-significance/)"
   ]
  },
  {
   "cell_type": "code",
   "execution_count": 15,
   "id": "276d1c18",
   "metadata": {
    "ExecuteTime": {
     "end_time": "2022-09-29T20:54:36.089290Z",
     "start_time": "2022-09-29T20:54:35.318963Z"
    },
    "execution": {
     "iopub.execute_input": "2023-02-01T16:03:00.783266Z",
     "iopub.status.busy": "2023-02-01T16:03:00.783106Z",
     "iopub.status.idle": "2023-02-01T16:03:01.233323Z",
     "shell.execute_reply": "2023-02-01T16:03:01.232692Z"
    },
    "papermill": {
     "duration": 0.478248,
     "end_time": "2023-02-01T16:03:01.236169",
     "exception": false,
     "start_time": "2023-02-01T16:03:00.757921",
     "status": "completed"
    },
    "tags": []
   },
   "outputs": [
    {
     "name": "stdout",
     "output_type": "stream",
     "text": [
      "Processing alpha_group_significance: ace\n",
      "ERROR: Calculating alpha diversty: ace\n",
      "Processing alpha_group_significance: berger_parker_d\n",
      "ERROR: Calculating alpha diversty: berger_parker_d\n",
      "Processing alpha_group_significance: brillouin_d\n",
      "ERROR: Calculating alpha diversty: brillouin_d\n",
      "Processing alpha_group_significance: chao1\n",
      "ERROR: Calculating alpha diversty: chao1\n",
      "Processing alpha_group_significance: chao1_ci\n",
      "ERROR: Calculating alpha diversty: chao1_ci\n",
      "Processing alpha_group_significance: dominance\n",
      "ERROR: Calculating alpha diversty: dominance\n",
      "Processing alpha_group_significance: doubles\n",
      "ERROR: Calculating alpha diversty: doubles\n",
      "Processing alpha_group_significance: enspie\n",
      "ERROR: Calculating alpha diversty: enspie\n",
      "Processing alpha_group_significance: esty_ci\n",
      "ERROR: Calculating alpha diversty: esty_ci\n",
      "Processing alpha_group_significance: fisher_alpha\n",
      "ERROR: Calculating alpha diversty: fisher_alpha\n",
      "Processing alpha_group_significance: gini_index\n",
      "ERROR: Calculating alpha diversty: gini_index\n",
      "Processing alpha_group_significance: goods_coverage\n",
      "ERROR: Calculating alpha diversty: goods_coverage\n",
      "Processing alpha_group_significance: heip_e\n",
      "ERROR: Calculating alpha diversty: heip_e\n",
      "Processing alpha_group_significance: kempton_taylor_q\n",
      "ERROR: Calculating alpha diversty: kempton_taylor_q\n",
      "Processing alpha_group_significance: lladser_pe\n"
     ]
    },
    {
     "name": "stdout",
     "output_type": "stream",
     "text": [
      "ERROR: Calculating alpha diversty: lladser_pe\n",
      "Processing alpha_group_significance: margalef\n",
      "ERROR: Calculating alpha diversty: margalef\n",
      "Processing alpha_group_significance: mcintosh_d\n",
      "ERROR: Calculating alpha diversty: mcintosh_d\n",
      "Processing alpha_group_significance: mcintosh_e\n",
      "ERROR: Calculating alpha diversty: mcintosh_e\n",
      "Processing alpha_group_significance: menhinick\n",
      "ERROR: Calculating alpha diversty: menhinick\n",
      "Processing alpha_group_significance: michaelis_menten_fit\n",
      "ERROR: Calculating alpha diversty: michaelis_menten_fit\n",
      "Processing alpha_group_significance: observed_features\n",
      "ERROR: Calculating alpha diversty: observed_features\n",
      "Processing alpha_group_significance: osd\n",
      "ERROR: Calculating alpha diversty: osd\n",
      "Processing alpha_group_significance: pielou_e\n",
      "ERROR: Calculating alpha diversty: pielou_e\n",
      "Processing alpha_group_significance: robbins\n",
      "ERROR: Calculating alpha diversty: robbins\n",
      "Processing alpha_group_significance: shannon\n",
      "ERROR: Calculating alpha diversty: shannon\n",
      "Processing alpha_group_significance: simpson\n",
      "ERROR: Calculating alpha diversty: simpson\n",
      "Processing alpha_group_significance: simpson_e\n"
     ]
    },
    {
     "name": "stdout",
     "output_type": "stream",
     "text": [
      "ERROR: Calculating alpha diversty: simpson_e\n",
      "Processing alpha_group_significance: singles\n",
      "ERROR: Calculating alpha diversty: singles\n",
      "Processing alpha_group_significance: strong\n",
      "ERROR: Calculating alpha diversty: strong\n"
     ]
    }
   ],
   "source": [
    "for metric, alpha_values in alpha_diversities.items():\n",
    "    print(f\"Processing alpha_group_significance: {metric}\")\n",
    "    try:\n",
    "        significance_view = alpha_group_significance(alpha_diversity=alpha_values, metadata=metadata_qa).visualization\n",
    "        view_path = os.path.join(qiime_folder, f'alpha-group-significance-{metric}.qzv')\n",
    "        significance_view.save(view_path)\n",
    "        significance_view\n",
    "        print(f\"DONE: Calculating alpha diversty: {metric}\")\n",
    "    except Exception as e:\n",
    "        print(f\"ERROR: Calculating alpha diversty: {metric}\")"
   ]
  },
  {
   "cell_type": "markdown",
   "id": "4349d357",
   "metadata": {
    "papermill": {
     "duration": 0.026299,
     "end_time": "2023-02-01T16:03:01.293879",
     "exception": false,
     "start_time": "2023-02-01T16:03:01.267580",
     "status": "completed"
    },
    "tags": []
   },
   "source": [
    "## Beta diversity analysis\n",
    "\n",
    "#### Reference\n",
    "- [diversity beta](https://docs.qiime2.org/2022.8/plugins/available/diversity/beta/): Computes a user-specified beta diversity metric for all pairs of samples in a feature table.\n",
    "- [Beta diversity metrics](http://scikit-bio.org/docs/0.2.0/generated/skbio.diversity.beta.html)\n",
    "\n",
    "- Metric Choices('aitchison', 'braycurtis', 'canberra', 'canberra_adkins', 'chebyshev', 'cityblock', 'correlation', 'cosine', 'dice', 'euclidean', 'hamming', 'jaccard', 'jensenshannon', 'kulsinski', 'matching', 'minkowski', 'rogerstanimoto', 'russellrao', 'seuclidean', 'sokalmichener', 'sokalsneath', 'sqeuclidean', 'yule')"
   ]
  },
  {
   "cell_type": "code",
   "execution_count": 16,
   "id": "f6f358dd",
   "metadata": {
    "ExecuteTime": {
     "end_time": "2022-09-29T20:54:36.335038Z",
     "start_time": "2022-09-29T20:54:36.091288Z"
    },
    "execution": {
     "iopub.execute_input": "2023-02-01T16:03:01.347909Z",
     "iopub.status.busy": "2023-02-01T16:03:01.347637Z",
     "iopub.status.idle": "2023-02-01T16:03:02.613212Z",
     "shell.execute_reply": "2023-02-01T16:03:02.612603Z"
    },
    "papermill": {
     "duration": 1.295918,
     "end_time": "2023-02-01T16:03:02.616090",
     "exception": false,
     "start_time": "2023-02-01T16:03:01.320172",
     "status": "completed"
    },
    "tags": []
   },
   "outputs": [
    {
     "name": "stdout",
     "output_type": "stream",
     "text": [
      "Calculating beta diversity: aitchison\n"
     ]
    },
    {
     "name": "stdout",
     "output_type": "stream",
     "text": [
      "DONE: Calculating beta diversty: aitchison\n",
      "Calculating beta diversity: braycurtis\n",
      "DONE: Calculating beta diversty: braycurtis\n",
      "Calculating beta diversity: canberra\n"
     ]
    },
    {
     "name": "stdout",
     "output_type": "stream",
     "text": [
      "DONE: Calculating beta diversty: canberra\n",
      "Calculating beta diversity: canberra_adkins\n",
      "DONE: Calculating beta diversty: canberra_adkins\n",
      "Calculating beta diversity: chebyshev\n"
     ]
    },
    {
     "name": "stdout",
     "output_type": "stream",
     "text": [
      "DONE: Calculating beta diversty: chebyshev\n",
      "Calculating beta diversity: cityblock\n",
      "DONE: Calculating beta diversty: cityblock\n",
      "Calculating beta diversity: correlation\n",
      "ERROR: Calculating beta diversty: correlation\n",
      "Calculating beta diversity: cosine\n"
     ]
    },
    {
     "name": "stdout",
     "output_type": "stream",
     "text": [
      "ERROR: Calculating beta diversty: cosine\n",
      "Calculating beta diversity: dice\n",
      "DONE: Calculating beta diversty: dice\n",
      "Calculating beta diversity: euclidean\n"
     ]
    },
    {
     "name": "stdout",
     "output_type": "stream",
     "text": [
      "DONE: Calculating beta diversty: euclidean\n",
      "Calculating beta diversity: hamming\n",
      "DONE: Calculating beta diversty: hamming\n",
      "Calculating beta diversity: jaccard\n"
     ]
    },
    {
     "name": "stderr",
     "output_type": "stream",
     "text": [
      "/home/lauro/anaconda3/envs/qiime2-2022.2/lib/python3.8/site-packages/sklearn/metrics/pairwise.py:1761: DataConversionWarning: Data was converted to boolean for metric dice\n",
      "  warnings.warn(msg, DataConversionWarning)\n",
      "/home/lauro/anaconda3/envs/qiime2-2022.2/lib/python3.8/site-packages/sklearn/metrics/pairwise.py:1761: DataConversionWarning: Data was converted to boolean for metric jaccard\n",
      "  warnings.warn(msg, DataConversionWarning)\n"
     ]
    },
    {
     "name": "stdout",
     "output_type": "stream",
     "text": [
      "DONE: Calculating beta diversty: jaccard\n",
      "Calculating beta diversity: jensenshannon\n"
     ]
    },
    {
     "name": "stdout",
     "output_type": "stream",
     "text": [
      "DONE: Calculating beta diversty: jensenshannon\n",
      "Calculating beta diversity: kulsinski\n",
      "ERROR: Calculating beta diversty: kulsinski\n",
      "Calculating beta diversity: matching\n",
      "DONE: Calculating beta diversty: matching\n",
      "Calculating beta diversity: minkowski\n"
     ]
    },
    {
     "name": "stdout",
     "output_type": "stream",
     "text": [
      "DONE: Calculating beta diversty: minkowski\n",
      "Calculating beta diversity: rogerstanimoto\n"
     ]
    },
    {
     "name": "stderr",
     "output_type": "stream",
     "text": [
      "/home/lauro/anaconda3/envs/qiime2-2022.2/lib/python3.8/site-packages/sklearn/metrics/pairwise.py:1761: DataConversionWarning: Data was converted to boolean for metric kulsinski\n",
      "  warnings.warn(msg, DataConversionWarning)\n",
      "/home/lauro/anaconda3/envs/qiime2-2022.2/lib/python3.8/site-packages/sklearn/metrics/pairwise.py:1761: DataConversionWarning: Data was converted to boolean for metric matching\n",
      "  warnings.warn(msg, DataConversionWarning)\n",
      "/home/lauro/anaconda3/envs/qiime2-2022.2/lib/python3.8/site-packages/sklearn/metrics/pairwise.py:1761: DataConversionWarning: Data was converted to boolean for metric rogerstanimoto\n",
      "  warnings.warn(msg, DataConversionWarning)\n",
      "/home/lauro/anaconda3/envs/qiime2-2022.2/lib/python3.8/site-packages/sklearn/metrics/pairwise.py:1761: DataConversionWarning: Data was converted to boolean for metric russellrao\n",
      "  warnings.warn(msg, DataConversionWarning)\n"
     ]
    },
    {
     "name": "stdout",
     "output_type": "stream",
     "text": [
      "DONE: Calculating beta diversty: rogerstanimoto\n",
      "Calculating beta diversity: russellrao\n",
      "ERROR: Calculating beta diversty: russellrao\n",
      "Calculating beta diversity: seuclidean\n",
      "DONE: Calculating beta diversty: seuclidean\n",
      "Calculating beta diversity: sokalmichener\n",
      "DONE: Calculating beta diversty: sokalmichener\n",
      "Calculating beta diversity: sokalsneath\n"
     ]
    },
    {
     "name": "stdout",
     "output_type": "stream",
     "text": [
      "DONE: Calculating beta diversty: sokalsneath\n",
      "Calculating beta diversity: sqeuclidean\n"
     ]
    },
    {
     "name": "stderr",
     "output_type": "stream",
     "text": [
      "/home/lauro/anaconda3/envs/qiime2-2022.2/lib/python3.8/site-packages/sklearn/metrics/pairwise.py:1761: DataConversionWarning: Data was converted to boolean for metric sokalmichener\n",
      "  warnings.warn(msg, DataConversionWarning)\n",
      "/home/lauro/anaconda3/envs/qiime2-2022.2/lib/python3.8/site-packages/sklearn/metrics/pairwise.py:1761: DataConversionWarning: Data was converted to boolean for metric sokalsneath\n",
      "  warnings.warn(msg, DataConversionWarning)\n",
      "/home/lauro/anaconda3/envs/qiime2-2022.2/lib/python3.8/site-packages/sklearn/metrics/pairwise.py:1761: DataConversionWarning: Data was converted to boolean for metric yule\n",
      "  warnings.warn(msg, DataConversionWarning)\n"
     ]
    },
    {
     "name": "stdout",
     "output_type": "stream",
     "text": [
      "DONE: Calculating beta diversty: sqeuclidean\n",
      "Calculating beta diversity: yule\n",
      "DONE: Calculating beta diversty: yule\n"
     ]
    }
   ],
   "source": [
    "metrics = ('aitchison', 'braycurtis', 'canberra', 'canberra_adkins', 'chebyshev', 'cityblock', 'correlation', 'cosine', 'dice', 'euclidean', 'hamming', 'jaccard', 'jensenshannon', 'kulsinski', 'matching', 'minkowski', 'rogerstanimoto', 'russellrao', 'seuclidean', 'sokalmichener', 'sokalsneath', 'sqeuclidean', 'yule')\n",
    "beta_diversities = dict()\n",
    "for metric in metrics:\n",
    "    print(f\"Calculating beta diversity: {metric}\")\n",
    "    try:\n",
    "        beta_diversity = beta(table=tabs, metric=metric, n_jobs=6, pseudocount=1).distance_matrix\n",
    "        beta_diversities[metric] = beta_diversity\n",
    "        print(f\"DONE: Calculating beta diversty: {metric}\")\n",
    "    except Exception as e:\n",
    "        print(f\"ERROR: Calculating beta diversty: {metric}\")"
   ]
  },
  {
   "cell_type": "markdown",
   "id": "200a2fa7",
   "metadata": {
    "papermill": {
     "duration": 0.030224,
     "end_time": "2023-02-01T16:03:02.683706",
     "exception": false,
     "start_time": "2023-02-01T16:03:02.653482",
     "status": "completed"
    },
    "tags": []
   },
   "source": [
    "### Beta group significance\n",
    "\n",
    "- [diversity beta_group_significance](https://docs.qiime2.org/2022.8/plugins/available/diversity/beta-group-significance/): Determine whether groups of samples are significantly different from one another using a permutation-based statistical test.\n",
    "- Marti J Anderson. A new method for non-parametric multivariate analysis of variance. Austral ecology, 26(1):32–46, 2001. doi:https://doi.org/10.1111/j.1442-9993.2001.01070.pp.x."
   ]
  },
  {
   "cell_type": "code",
   "execution_count": 17,
   "id": "b8dd42b6",
   "metadata": {
    "ExecuteTime": {
     "end_time": "2022-09-29T20:55:08.313860Z",
     "start_time": "2022-09-29T20:54:36.336993Z"
    },
    "execution": {
     "iopub.execute_input": "2023-02-01T16:03:02.745308Z",
     "iopub.status.busy": "2023-02-01T16:03:02.745048Z",
     "iopub.status.idle": "2023-02-01T16:03:03.374669Z",
     "shell.execute_reply": "2023-02-01T16:03:03.374155Z"
    },
    "papermill": {
     "duration": 0.664141,
     "end_time": "2023-02-01T16:03:03.378041",
     "exception": false,
     "start_time": "2023-02-01T16:03:02.713900",
     "status": "completed"
    },
    "tags": []
   },
   "outputs": [
    {
     "name": "stdout",
     "output_type": "stream",
     "text": [
      "Calculating beta group significance with method permanova and metric aitchison\n"
     ]
    },
    {
     "name": "stdout",
     "output_type": "stream",
     "text": [
      "ERROR: Calculating beta diversty: permanova aitchison\n",
      "Calculating beta group significance with method permanova and metric braycurtis\n",
      "ERROR: Calculating beta diversty: permanova braycurtis\n",
      "Calculating beta group significance with method permanova and metric canberra\n",
      "ERROR: Calculating beta diversty: permanova canberra\n",
      "Calculating beta group significance with method permanova and metric canberra_adkins\n",
      "ERROR: Calculating beta diversty: permanova canberra_adkins\n",
      "Calculating beta group significance with method permanova and metric chebyshev\n",
      "ERROR: Calculating beta diversty: permanova chebyshev\n",
      "Calculating beta group significance with method permanova and metric cityblock\n",
      "ERROR: Calculating beta diversty: permanova cityblock\n",
      "Calculating beta group significance with method permanova and metric dice\n",
      "ERROR: Calculating beta diversty: permanova dice\n",
      "Calculating beta group significance with method permanova and metric euclidean\n",
      "ERROR: Calculating beta diversty: permanova euclidean\n",
      "Calculating beta group significance with method permanova and metric hamming\n",
      "ERROR: Calculating beta diversty: permanova hamming\n",
      "Calculating beta group significance with method permanova and metric jaccard\n",
      "ERROR: Calculating beta diversty: permanova jaccard\n",
      "Calculating beta group significance with method permanova and metric jensenshannon\n",
      "ERROR: Calculating beta diversty: permanova jensenshannon\n",
      "Calculating beta group significance with method permanova and metric matching\n",
      "ERROR: Calculating beta diversty: permanova matching\n",
      "Calculating beta group significance with method permanova and metric minkowski\n",
      "ERROR: Calculating beta diversty: permanova minkowski\n",
      "Calculating beta group significance with method permanova and metric rogerstanimoto\n",
      "ERROR: Calculating beta diversty: permanova rogerstanimoto\n",
      "Calculating beta group significance with method permanova and metric seuclidean\n",
      "ERROR: Calculating beta diversty: permanova seuclidean\n",
      "Calculating beta group significance with method permanova and metric sokalmichener\n",
      "ERROR: Calculating beta diversty: permanova sokalmichener\n",
      "Calculating beta group significance with method permanova and metric sokalsneath\n",
      "ERROR: Calculating beta diversty: permanova sokalsneath\n",
      "Calculating beta group significance with method permanova and metric sqeuclidean\n",
      "ERROR: Calculating beta diversty: permanova sqeuclidean\n",
      "Calculating beta group significance with method permanova and metric yule\n",
      "ERROR: Calculating beta diversty: permanova yule\n",
      "Calculating beta group significance with method anosim and metric aitchison\n",
      "ERROR: Calculating beta diversty: anosim aitchison\n",
      "Calculating beta group significance with method anosim and metric braycurtis\n"
     ]
    },
    {
     "name": "stdout",
     "output_type": "stream",
     "text": [
      "ERROR: Calculating beta diversty: anosim braycurtis\n",
      "Calculating beta group significance with method anosim and metric canberra\n"
     ]
    },
    {
     "name": "stdout",
     "output_type": "stream",
     "text": [
      "ERROR: Calculating beta diversty: anosim canberra\n",
      "Calculating beta group significance with method anosim and metric canberra_adkins\n",
      "ERROR: Calculating beta diversty: anosim canberra_adkins\n",
      "Calculating beta group significance with method anosim and metric chebyshev\n",
      "ERROR: Calculating beta diversty: anosim chebyshev\n",
      "Calculating beta group significance with method anosim and metric cityblock\n",
      "ERROR: Calculating beta diversty: anosim cityblock\n",
      "Calculating beta group significance with method anosim and metric dice\n",
      "ERROR: Calculating beta diversty: anosim dice\n",
      "Calculating beta group significance with method anosim and metric euclidean\n",
      "ERROR: Calculating beta diversty: anosim euclidean\n",
      "Calculating beta group significance with method anosim and metric hamming\n",
      "ERROR: Calculating beta diversty: anosim hamming\n",
      "Calculating beta group significance with method anosim and metric jaccard\n",
      "ERROR: Calculating beta diversty: anosim jaccard\n",
      "Calculating beta group significance with method anosim and metric jensenshannon\n",
      "ERROR: Calculating beta diversty: anosim jensenshannon\n",
      "Calculating beta group significance with method anosim and metric matching\n",
      "ERROR: Calculating beta diversty: anosim matching\n",
      "Calculating beta group significance with method anosim and metric minkowski\n",
      "ERROR: Calculating beta diversty: anosim minkowski\n",
      "Calculating beta group significance with method anosim and metric rogerstanimoto\n",
      "ERROR: Calculating beta diversty: anosim rogerstanimoto\n",
      "Calculating beta group significance with method anosim and metric seuclidean\n",
      "ERROR: Calculating beta diversty: anosim seuclidean\n",
      "Calculating beta group significance with method anosim and metric sokalmichener\n",
      "ERROR: Calculating beta diversty: anosim sokalmichener\n",
      "Calculating beta group significance with method anosim and metric sokalsneath\n",
      "ERROR: Calculating beta diversty: anosim sokalsneath\n",
      "Calculating beta group significance with method anosim and metric sqeuclidean\n",
      "ERROR: Calculating beta diversty: anosim sqeuclidean\n",
      "Calculating beta group significance with method anosim and metric yule\n",
      "ERROR: Calculating beta diversty: anosim yule\n",
      "Calculating beta group significance with method permdisp and metric aitchison\n",
      "ERROR: Calculating beta diversty: permdisp aitchison\n",
      "Calculating beta group significance with method permdisp and metric braycurtis\n",
      "ERROR: Calculating beta diversty: permdisp braycurtis\n",
      "Calculating beta group significance with method permdisp and metric canberra\n"
     ]
    },
    {
     "name": "stdout",
     "output_type": "stream",
     "text": [
      "ERROR: Calculating beta diversty: permdisp canberra\n",
      "Calculating beta group significance with method permdisp and metric canberra_adkins\n",
      "ERROR: Calculating beta diversty: permdisp canberra_adkins\n",
      "Calculating beta group significance with method permdisp and metric chebyshev\n",
      "ERROR: Calculating beta diversty: permdisp chebyshev\n",
      "Calculating beta group significance with method permdisp and metric cityblock\n",
      "ERROR: Calculating beta diversty: permdisp cityblock\n",
      "Calculating beta group significance with method permdisp and metric dice\n",
      "ERROR: Calculating beta diversty: permdisp dice\n",
      "Calculating beta group significance with method permdisp and metric euclidean\n",
      "ERROR: Calculating beta diversty: permdisp euclidean\n",
      "Calculating beta group significance with method permdisp and metric hamming\n",
      "ERROR: Calculating beta diversty: permdisp hamming\n",
      "Calculating beta group significance with method permdisp and metric jaccard\n",
      "ERROR: Calculating beta diversty: permdisp jaccard\n",
      "Calculating beta group significance with method permdisp and metric jensenshannon\n",
      "ERROR: Calculating beta diversty: permdisp jensenshannon\n",
      "Calculating beta group significance with method permdisp and metric matching\n",
      "ERROR: Calculating beta diversty: permdisp matching\n",
      "Calculating beta group significance with method permdisp and metric minkowski\n",
      "ERROR: Calculating beta diversty: permdisp minkowski\n",
      "Calculating beta group significance with method permdisp and metric rogerstanimoto\n",
      "ERROR: Calculating beta diversty: permdisp rogerstanimoto\n",
      "Calculating beta group significance with method permdisp and metric seuclidean\n",
      "ERROR: Calculating beta diversty: permdisp seuclidean\n",
      "Calculating beta group significance with method permdisp and metric sokalmichener\n",
      "ERROR: Calculating beta diversty: permdisp sokalmichener\n",
      "Calculating beta group significance with method permdisp and metric sokalsneath\n",
      "ERROR: Calculating beta diversty: permdisp sokalsneath\n",
      "Calculating beta group significance with method permdisp and metric sqeuclidean\n",
      "ERROR: Calculating beta diversty: permdisp sqeuclidean\n",
      "Calculating beta group significance with method permdisp and metric yule\n",
      "ERROR: Calculating beta diversty: permdisp yule\n"
     ]
    },
    {
     "name": "stderr",
     "output_type": "stream",
     "text": [
      "/home/lauro/anaconda3/envs/qiime2-2022.2/lib/python3.8/site-packages/skbio/stats/ordination/_principal_coordinate_analysis.py:143: RuntimeWarning: The result contains negative eigenvalues. Please compare their magnitude with the magnitude of some of the largest positive eigenvalues. If the negative ones are smaller, it's probably safe to ignore them, but if they are large in magnitude, the results won't be useful. See the Notes section for more details. The smallest eigenvalue is -738.5868942711999 and the largest is 2686.308847468418.\n",
      "  warn(\n",
      "/home/lauro/anaconda3/envs/qiime2-2022.2/lib/python3.8/site-packages/skbio/stats/ordination/_principal_coordinate_analysis.py:143: RuntimeWarning: The result contains negative eigenvalues. Please compare their magnitude with the magnitude of some of the largest positive eigenvalues. If the negative ones are smaller, it's probably safe to ignore them, but if they are large in magnitude, the results won't be useful. See the Notes section for more details. The smallest eigenvalue is -786606.0891930114 and the largest is 19761741.098081812.\n",
      "  warn(\n",
      "/home/lauro/anaconda3/envs/qiime2-2022.2/lib/python3.8/site-packages/skbio/stats/ordination/_principal_coordinate_analysis.py:143: RuntimeWarning: The result contains negative eigenvalues. Please compare their magnitude with the magnitude of some of the largest positive eigenvalues. If the negative ones are smaller, it's probably safe to ignore them, but if they are large in magnitude, the results won't be useful. See the Notes section for more details. The smallest eigenvalue is -392003887.4864823 and the largest is 2037674382.584166.\n",
      "  warn(\n",
      "/home/lauro/anaconda3/envs/qiime2-2022.2/lib/python3.8/site-packages/skbio/stats/ordination/_principal_coordinate_analysis.py:143: RuntimeWarning: The result contains negative eigenvalues. Please compare their magnitude with the magnitude of some of the largest positive eigenvalues. If the negative ones are smaller, it's probably safe to ignore them, but if they are large in magnitude, the results won't be useful. See the Notes section for more details. The smallest eigenvalue is -0.02191661477750854 and the largest is 0.0764248081410085.\n",
      "  warn(\n",
      "/home/lauro/anaconda3/envs/qiime2-2022.2/lib/python3.8/site-packages/skbio/stats/ordination/_principal_coordinate_analysis.py:143: RuntimeWarning: The result contains negative eigenvalues. Please compare their magnitude with the magnitude of some of the largest positive eigenvalues. If the negative ones are smaller, it's probably safe to ignore them, but if they are large in magnitude, the results won't be useful. See the Notes section for more details. The smallest eigenvalue is -0.019353553142419096 and the largest is 0.07862658450404102.\n",
      "  warn(\n",
      "/home/lauro/anaconda3/envs/qiime2-2022.2/lib/python3.8/site-packages/skbio/stats/ordination/_principal_coordinate_analysis.py:143: RuntimeWarning: The result contains negative eigenvalues. Please compare their magnitude with the magnitude of some of the largest positive eigenvalues. If the negative ones are smaller, it's probably safe to ignore them, but if they are large in magnitude, the results won't be useful. See the Notes section for more details. The smallest eigenvalue is -0.018500033043221353 and the largest is 0.16505717493988514.\n",
      "  warn(\n",
      "/home/lauro/anaconda3/envs/qiime2-2022.2/lib/python3.8/site-packages/skbio/stats/ordination/_principal_coordinate_analysis.py:143: RuntimeWarning: The result contains negative eigenvalues. Please compare their magnitude with the magnitude of some of the largest positive eigenvalues. If the negative ones are smaller, it's probably safe to ignore them, but if they are large in magnitude, the results won't be useful. See the Notes section for more details. The smallest eigenvalue is -666465077342801.6 and the largest is 5520997989162820.0.\n",
      "  warn(\n",
      "/home/lauro/anaconda3/envs/qiime2-2022.2/lib/python3.8/site-packages/skbio/stats/ordination/_principal_coordinate_analysis.py:143: RuntimeWarning: The result contains negative eigenvalues. Please compare their magnitude with the magnitude of some of the largest positive eigenvalues. If the negative ones are smaller, it's probably safe to ignore them, but if they are large in magnitude, the results won't be useful. See the Notes section for more details. The smallest eigenvalue is -0.38281865444005997 and the largest is 7.43110879571982.\n",
      "  warn(\n"
     ]
    }
   ],
   "source": [
    "methods = ('permanova', 'anosim', 'permdisp')\n",
    "for method in methods:\n",
    "    for metric, beta_diversity in beta_diversities.items():\n",
    "        print(f'Calculating beta group significance with method {method} and metric {metric}')\n",
    "        try:\n",
    "            beta_view = beta_group_significance(distance_matrix=beta_diversity, \n",
    "                                                metadata=metadata_qa.get_column(class_col), \n",
    "                                                pairwise=True, method=method).visualization\n",
    "            view_name = os.path.join(qiime_folder, f'beta-group-significance-{metric}-{method}.qzv')\n",
    "            beta_view.save(view_name)\n",
    "            print(f\"DONE: Calculating beta diversty: {method} {metric}\")\n",
    "        except Exception as e:\n",
    "            print(f\"ERROR: Calculating beta diversty: {method} {metric}\")"
   ]
  },
  {
   "cell_type": "markdown",
   "id": "c0de85cf",
   "metadata": {
    "papermill": {
     "duration": 0.030937,
     "end_time": "2023-02-01T16:03:03.456754",
     "exception": false,
     "start_time": "2023-02-01T16:03:03.425817",
     "status": "completed"
    },
    "tags": []
   },
   "source": [
    "### Beta group Rarefaction\n",
    "\n",
    "- [diversity beta_rarefaction](https://docs.qiime2.org/2022.8/plugins/available/diversity/beta-rarefaction/): Repeatedly rarefy a feature table to compare beta diversity results within a given rarefaction depth.  For a given beta diversity metric, this visualizer will provide: an Emperor jackknifed PCoA plot, samples clustered by UPGMA or neighbor joining with support calculation, and a heatmap showing the correlation between rarefaction trials of that beta diversity metric."
   ]
  }
 ],
 "metadata": {
  "celltoolbar": "Edit Metadata",
  "kernelspec": {
   "display_name": "Python 3 (ipykernel)",
   "language": "python",
   "name": "python3"
  },
  "language_info": {
   "codemirror_mode": {
    "name": "ipython",
    "version": 3
   },
   "file_extension": ".py",
   "mimetype": "text/x-python",
   "name": "python",
   "nbconvert_exporter": "python",
   "pygments_lexer": "ipython3",
   "version": "3.8.12"
  },
  "papermill": {
   "default_parameters": {},
   "duration": 63.914869,
   "end_time": "2023-02-01T16:03:04.407120",
   "environment_variables": {},
   "exception": null,
   "input_path": "nb-templates/step-diversity-analysis.ipynb",
   "output_path": "/home/lauro/nupeb/rede-micro/redemicro-andressa-lbtm/experiments/andressa-01/nb-executed-steps/step-diversity-analysis-andressa-01.ipynb",
   "parameters": {
    "base_dir": "/home/lauro/nupeb/rede-micro/redemicro-andressa-lbtm",
    "class_col": "group-id",
    "classifier_file": "/home/lauro/nupeb/rede-micro/models/silva-138-99-nb-classifier.qza",
    "experiment_name": "andressa",
    "manifest_file": "/home/lauro/nupeb/rede-micro/redemicro-andressa-lbtm/data/manifest.csv",
    "metadata_file": "/home/lauro/nupeb/rede-micro/redemicro-andressa-lbtm/data/metadata.tsv",
    "overlap": 12,
    "phred": 20,
    "replace_files": false,
    "threads": 6,
    "trunc_f": 0,
    "trunc_r": 0
   },
   "start_time": "2023-02-01T16:02:00.492251",
   "version": "2.3.4"
  }
 },
 "nbformat": 4,
 "nbformat_minor": 5
}