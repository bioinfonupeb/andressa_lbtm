{
 "cells": [
  {
   "cell_type": "markdown",
   "id": "cd33bd56",
   "metadata": {
    "papermill": {
     "duration": 0.019726,
     "end_time": "2023-02-01T11:23:36.338324",
     "exception": false,
     "start_time": "2023-02-01T11:23:36.318598",
     "status": "completed"
    },
    "tags": []
   },
   "source": [
    "# Prepare data for Pipeline"
   ]
  },
  {
   "cell_type": "markdown",
   "id": "dd081e19",
   "metadata": {
    "papermill": {
     "duration": 0.018101,
     "end_time": "2023-02-01T11:23:36.388697",
     "exception": false,
     "start_time": "2023-02-01T11:23:36.370596",
     "status": "completed"
    },
    "tags": []
   },
   "source": [
    "## Setup and settings"
   ]
  },
  {
   "cell_type": "code",
   "execution_count": 1,
   "id": "4413cb2b",
   "metadata": {
    "ExecuteTime": {
     "end_time": "2022-10-14T14:33:37.863523Z",
     "start_time": "2022-10-14T14:33:14.145712Z"
    },
    "execution": {
     "iopub.execute_input": "2023-02-01T11:23:36.412673Z",
     "iopub.status.busy": "2023-02-01T11:23:36.412181Z",
     "iopub.status.idle": "2023-02-01T11:23:42.886694Z",
     "shell.execute_reply": "2023-02-01T11:23:42.886069Z"
    },
    "papermill": {
     "duration": 6.490081,
     "end_time": "2023-02-01T11:23:42.889985",
     "exception": false,
     "start_time": "2023-02-01T11:23:36.399904",
     "status": "completed"
    },
    "tags": []
   },
   "outputs": [],
   "source": [
    "# Importing packages\n",
    "import os\n",
    "import yaml\n",
    "import logging\n",
    "import pandas as pd\n",
    "from Bio.Seq import Seq\n",
    "from qiime2 import Artifact, Visualization\n",
    "from qiime2.plugins import demux\n",
    "from qiime2.plugins.cutadapt.methods import trim_paired"
   ]
  },
  {
   "cell_type": "markdown",
   "id": "a6f981ab",
   "metadata": {
    "papermill": {
     "duration": 0.092745,
     "end_time": "2023-02-01T11:23:43.001075",
     "exception": false,
     "start_time": "2023-02-01T11:23:42.908330",
     "status": "completed"
    },
    "tags": []
   },
   "source": [
    "### Receiving the parameters\n",
    "\n",
    "The following cell can receive parameters using the [papermill](https://papermill.readthedocs.io/en/latest/) tool."
   ]
  },
  {
   "cell_type": "code",
   "execution_count": 2,
   "id": "a1bf0e26",
   "metadata": {
    "ExecuteTime": {
     "end_time": "2022-06-28T18:50:41.594341Z",
     "start_time": "2022-06-28T18:50:41.591544Z"
    },
    "execution": {
     "iopub.execute_input": "2023-02-01T11:23:43.085965Z",
     "iopub.status.busy": "2023-02-01T11:23:43.085591Z",
     "iopub.status.idle": "2023-02-01T11:23:43.091878Z",
     "shell.execute_reply": "2023-02-01T11:23:43.091069Z"
    },
    "papermill": {
     "duration": 0.026378,
     "end_time": "2023-02-01T11:23:43.093532",
     "exception": false,
     "start_time": "2023-02-01T11:23:43.067154",
     "status": "completed"
    },
    "tags": [
     "parameters"
    ]
   },
   "outputs": [],
   "source": [
    "params_path = os.path.join('..', 'params', 'ana-flavia-superlactacao.yaml')\n",
    "experiment_name = 'jenneffer-vs-01'\n",
    "base_dir = os.path.join('/', 'home', 'lauro', 'nupeb', 'redemicro')\n",
    "manifest_file = os.path.join(base_dir, 'data', 'raw', 'manifest', 'not-hist-vs-manifest.csv')\n",
    "img_folder = os.path.abspath(os.path.join(base_dir, 'imgs'))\n",
    "replace_files = False\n",
    "trim = None"
   ]
  },
  {
   "cell_type": "code",
   "execution_count": 3,
   "id": "5d02a941",
   "metadata": {
    "execution": {
     "iopub.execute_input": "2023-02-01T11:23:43.116372Z",
     "iopub.status.busy": "2023-02-01T11:23:43.116020Z",
     "iopub.status.idle": "2023-02-01T11:23:43.121559Z",
     "shell.execute_reply": "2023-02-01T11:23:43.120788Z"
    },
    "papermill": {
     "duration": 0.01895,
     "end_time": "2023-02-01T11:23:43.123174",
     "exception": false,
     "start_time": "2023-02-01T11:23:43.104224",
     "status": "completed"
    },
    "tags": [
     "injected-parameters"
    ]
   },
   "outputs": [],
   "source": [
    "# Parameters\n",
    "experiment_name = \"andressa\"\n",
    "base_dir = \"/home/lauro/nupeb/rede-micro/redemicro-andressa-lbtm\"\n",
    "manifest_file = \"/home/lauro/nupeb/rede-micro/redemicro-andressa-lbtm/data/manifest.csv\"\n",
    "metadata_file = \"/home/lauro/nupeb/rede-micro/redemicro-andressa-lbtm/data/metadata.tsv\"\n",
    "class_col = \"group-id\"\n",
    "classifier_file = \"/home/lauro/nupeb/dados_brutos_rede_genoma/16S_classifiers_qiime2/silva-138-99-nb-classifier.qza\"\n",
    "replace_files = False\n",
    "phred = 20\n",
    "trunc_f = 0\n",
    "trunc_r = 0\n",
    "overlap = 12\n",
    "threads = 6\n"
   ]
  },
  {
   "cell_type": "code",
   "execution_count": 4,
   "id": "f7e2ce28",
   "metadata": {
    "ExecuteTime": {
     "end_time": "2022-06-28T18:50:41.610682Z",
     "start_time": "2022-06-28T18:50:41.595886Z"
    },
    "execution": {
     "iopub.execute_input": "2023-02-01T11:23:43.147692Z",
     "iopub.status.busy": "2023-02-01T11:23:43.147339Z",
     "iopub.status.idle": "2023-02-01T11:23:43.153236Z",
     "shell.execute_reply": "2023-02-01T11:23:43.152362Z"
    },
    "papermill": {
     "duration": 0.019385,
     "end_time": "2023-02-01T11:23:43.154914",
     "exception": false,
     "start_time": "2023-02-01T11:23:43.135529",
     "status": "completed"
    },
    "tags": []
   },
   "outputs": [],
   "source": [
    "# Setting hardcoded parameters for development and debbuging\n",
    "production = True\n",
    "if not production:\n",
    "    params_path = os.path.join('..', 'params', 'ana-flavia-hipotese-01')\n",
    "    with open(params_path, 'r') as stream:\n",
    "        params = yaml.safe_load(stream)\n",
    "        experiment_name = params['experiment_name']\n",
    "        base_dir = params['base_dir']\n",
    "        manifest_file = params['manifest_file']\n",
    "        replace_files = params['replace_files']"
   ]
  },
  {
   "cell_type": "markdown",
   "id": "efaa4d04",
   "metadata": {
    "papermill": {
     "duration": 0.011296,
     "end_time": "2023-02-01T11:23:43.177682",
     "exception": false,
     "start_time": "2023-02-01T11:23:43.166386",
     "status": "completed"
    },
    "tags": []
   },
   "source": [
    "### Defining names and paths"
   ]
  },
  {
   "cell_type": "code",
   "execution_count": 5,
   "id": "fc879552",
   "metadata": {
    "ExecuteTime": {
     "end_time": "2022-06-28T18:50:41.618098Z",
     "start_time": "2022-06-28T18:50:41.614152Z"
    },
    "execution": {
     "iopub.execute_input": "2023-02-01T11:23:43.200524Z",
     "iopub.status.busy": "2023-02-01T11:23:43.200106Z",
     "iopub.status.idle": "2023-02-01T11:23:43.204531Z",
     "shell.execute_reply": "2023-02-01T11:23:43.203685Z"
    },
    "papermill": {
     "duration": 0.017955,
     "end_time": "2023-02-01T11:23:43.206341",
     "exception": false,
     "start_time": "2023-02-01T11:23:43.188386",
     "status": "completed"
    },
    "tags": []
   },
   "outputs": [],
   "source": [
    "# new_manifest = '/home/lauro/nupeb/redemicro/data/raw/manifest/karina-manifest.csv'\n",
    "# with open(manifest_file, 'r') as oldm, open(new_manifest, 'w') as newm:\n",
    "#     header = 'sample-id,absolute-filepath,direction\\n'\n",
    "#     newm.write(header)\n",
    "#     for line in oldm.readlines()[1:]:\n",
    "#         sid, forward, reverse = line[:-1].split(',')\n",
    "#         fline = ','.join((sid, forward, 'forward')) + '\\n'\n",
    "#         rline = ','.join((sid, reverse, 'reverse')) + '\\n'\n",
    "#         newm.write(fline)\n",
    "#         newm.write(rline)"
   ]
  },
  {
   "cell_type": "code",
   "execution_count": 6,
   "id": "58507313",
   "metadata": {
    "ExecuteTime": {
     "end_time": "2022-06-28T18:50:41.632125Z",
     "start_time": "2022-06-28T18:50:41.619710Z"
    },
    "execution": {
     "iopub.execute_input": "2023-02-01T11:23:43.230040Z",
     "iopub.status.busy": "2023-02-01T11:23:43.229624Z",
     "iopub.status.idle": "2023-02-01T11:23:43.240713Z",
     "shell.execute_reply": "2023-02-01T11:23:43.240222Z"
    },
    "papermill": {
     "duration": 0.024693,
     "end_time": "2023-02-01T11:23:43.242589",
     "exception": false,
     "start_time": "2023-02-01T11:23:43.217896",
     "status": "completed"
    },
    "tags": []
   },
   "outputs": [
    {
     "name": "stdout",
     "output_type": "stream",
     "text": [
      "New qiime-artifacts folder path created: /home/lauro/nupeb/rede-micro/redemicro-andressa-lbtm/experiments/andressa/qiime-artifacts\n",
      "New img folder path created: /home/lauro/nupeb/rede-micro/redemicro-andressa-lbtm/experiments/andressa/imgs\n"
     ]
    }
   ],
   "source": [
    "# Define the output folder path\n",
    "out_dir = os.path.join(base_dir, 'experiments', experiment_name, 'qiime-artifacts')\n",
    "img_folder = os.path.abspath(os.path.join(base_dir, 'experiments', experiment_name, 'imgs'))\n",
    "\n",
    "# Create path if it not exist\n",
    "if not os.path.isdir(out_dir):\n",
    "    os.makedirs(out_dir)\n",
    "    print(f'New qiime-artifacts folder path created: {out_dir}')\n",
    "\n",
    "# Create path if it not exist\n",
    "if not os.path.isdir(img_folder):\n",
    "    os.makedirs(img_folder)\n",
    "    print(f'New img folder path created: {img_folder}')\n",
    "\n",
    "# Define the output artifact full path\n",
    "demux_file = os.path.join(out_dir, 'demux-paired.qza')\n",
    "demux_view = os.path.join(out_dir, 'demux-paired.qzv')\n",
    "demux_file_trim = os.path.join(out_dir, 'demux-paired-trim.qza')\n",
    "demux_view_trim = os.path.join(out_dir, 'demux-paired-trim.qzv')"
   ]
  },
  {
   "cell_type": "markdown",
   "id": "eb333755",
   "metadata": {
    "papermill": {
     "duration": 0.010795,
     "end_time": "2023-02-01T11:23:43.267330",
     "exception": false,
     "start_time": "2023-02-01T11:23:43.256535",
     "status": "completed"
    },
    "tags": []
   },
   "source": [
    "## Step execution\n",
    "\n",
    "This Step import all `fastq` files in a **QIIME2 Artifact** object and save it to a new `qza` file of `SampleData[PairedEndSequencesWithQuality]`"
   ]
  },
  {
   "cell_type": "code",
   "execution_count": 7,
   "id": "60eb4da7",
   "metadata": {
    "execution": {
     "iopub.execute_input": "2023-02-01T11:23:43.289849Z",
     "iopub.status.busy": "2023-02-01T11:23:43.289671Z",
     "iopub.status.idle": "2023-02-01T11:23:43.297684Z",
     "shell.execute_reply": "2023-02-01T11:23:43.297141Z"
    },
    "papermill": {
     "duration": 0.021064,
     "end_time": "2023-02-01T11:23:43.299192",
     "exception": false,
     "start_time": "2023-02-01T11:23:43.278128",
     "status": "completed"
    },
    "tags": []
   },
   "outputs": [],
   "source": [
    "manifest_df = pd.read_csv(manifest_file)\n",
    "n_directions = len(manifest_df['direction'].unique())\n",
    "if n_directions == 1:\n",
    "    d_type = 'SampleData[SequencesWithQuality]'\n",
    "    v_type = 'SingleEndFastqManifestPhred33'\n",
    "elif n_directions == 2:\n",
    "    d_type = 'SampleData[PairedEndSequencesWithQuality]'\n",
    "    v_type = 'PairedEndFastqManifestPhred33'\n",
    "else:\n",
    "    print(f'ERROR: invalid number of directions {n_directions}')"
   ]
  },
  {
   "cell_type": "code",
   "execution_count": 8,
   "id": "e88071e0",
   "metadata": {
    "ExecuteTime": {
     "end_time": "2022-06-28T19:44:58.640338Z",
     "start_time": "2022-06-28T18:50:41.633657Z"
    },
    "execution": {
     "iopub.execute_input": "2023-02-01T11:23:43.326323Z",
     "iopub.status.busy": "2023-02-01T11:23:43.325865Z",
     "iopub.status.idle": "2023-02-01T11:23:49.730550Z",
     "shell.execute_reply": "2023-02-01T11:23:49.729705Z"
    },
    "papermill": {
     "duration": 6.420433,
     "end_time": "2023-02-01T11:23:49.733662",
     "exception": false,
     "start_time": "2023-02-01T11:23:43.313229",
     "status": "completed"
    },
    "tags": []
   },
   "outputs": [],
   "source": [
    "# If the demux file does not exist or if the old file will be replaced\n",
    "if not os.path.isfile(demux_file) or replace_files:\n",
    "    \n",
    "    # Import data and create an artifact object\n",
    "    artifact = Artifact.import_data(\n",
    "        d_type, \n",
    "        manifest_file, \n",
    "        view_type=v_type)\n",
    "    \n",
    "    # Save the artifact object to a new qza file\n",
    "    artifact.save(demux_file)\n",
    "\n",
    "else:\n",
    "    artifact = Artifact.load(demux_file)"
   ]
  },
  {
   "cell_type": "code",
   "execution_count": 9,
   "id": "926a0256",
   "metadata": {
    "ExecuteTime": {
     "end_time": "2022-06-28T19:47:56.602855Z",
     "start_time": "2022-06-28T19:44:58.642520Z"
    },
    "execution": {
     "iopub.execute_input": "2023-02-01T11:23:49.762125Z",
     "iopub.status.busy": "2023-02-01T11:23:49.761939Z",
     "iopub.status.idle": "2023-02-01T11:24:05.296987Z",
     "shell.execute_reply": "2023-02-01T11:24:05.296382Z"
    },
    "papermill": {
     "duration": 15.549742,
     "end_time": "2023-02-01T11:24:05.300116",
     "exception": false,
     "start_time": "2023-02-01T11:23:49.750374",
     "status": "completed"
    },
    "tags": []
   },
   "outputs": [],
   "source": [
    "if not os.path.isfile(demux_view) or replace_files: \n",
    "    # Generate e visualization of the Artifact\n",
    "    demux_summary = demux.visualizers.summarize(artifact)\n",
    "\n",
    "    # Save a new visualization file based on the qza file\n",
    "    Visualization.save(demux_summary.visualization, filepath=demux_view)\n",
    "    \n",
    "    demux_view_obj = demux_summary.visualization\n",
    "else:\n",
    "    demux_view_obj = Visualization.load(demux_view)"
   ]
  },
  {
   "cell_type": "markdown",
   "id": "8d609112",
   "metadata": {
    "papermill": {
     "duration": 0.018609,
     "end_time": "2023-02-01T11:24:05.336623",
     "exception": false,
     "start_time": "2023-02-01T11:24:05.318014",
     "status": "completed"
    },
    "tags": []
   },
   "source": [
    "## Step report\n"
   ]
  },
  {
   "cell_type": "code",
   "execution_count": 10,
   "id": "b034d6ae",
   "metadata": {
    "ExecuteTime": {
     "end_time": "2022-06-28T19:47:56.609737Z",
     "start_time": "2022-06-28T19:47:56.604820Z"
    },
    "execution": {
     "iopub.execute_input": "2023-02-01T11:24:05.375880Z",
     "iopub.status.busy": "2023-02-01T11:24:05.375683Z",
     "iopub.status.idle": "2023-02-01T11:24:05.379046Z",
     "shell.execute_reply": "2023-02-01T11:24:05.378591Z"
    },
    "papermill": {
     "duration": 0.025773,
     "end_time": "2023-02-01T11:24:05.381901",
     "exception": false,
     "start_time": "2023-02-01T11:24:05.356128",
     "status": "completed"
    },
    "tags": []
   },
   "outputs": [
    {
     "name": "stdout",
     "output_type": "stream",
     "text": [
      "<visualization: Visualization uuid: 510de1c0-b572-400e-8ef1-898d9a8fa683>\n"
     ]
    }
   ],
   "source": [
    "print(demux_view_obj)"
   ]
  },
  {
   "cell_type": "code",
   "execution_count": 11,
   "id": "35fe288b",
   "metadata": {
    "ExecuteTime": {
     "end_time": "2022-06-28T19:47:56.704841Z",
     "start_time": "2022-06-28T19:47:56.611846Z"
    },
    "execution": {
     "iopub.execute_input": "2023-02-01T11:24:05.421619Z",
     "iopub.status.busy": "2023-02-01T11:24:05.421413Z",
     "iopub.status.idle": "2023-02-01T11:24:05.429694Z",
     "shell.execute_reply": "2023-02-01T11:24:05.429143Z"
    },
    "papermill": {
     "duration": 0.030852,
     "end_time": "2023-02-01T11:24:05.432121",
     "exception": false,
     "start_time": "2023-02-01T11:24:05.401269",
     "status": "completed"
    },
    "tags": []
   },
   "outputs": [
    {
     "data": {
      "text/html": [
       "<div><img onload=\"(function(div, url){\n",
       "if (typeof require !== 'undefined') {\n",
       "    var baseURL = require.toUrl('').split('/').slice(0, -2).join('/');\n",
       "} else {\n",
       "    var baseURL = JSON.parse(\n",
       "        document.getElementById('jupyter-config-data').innerHTML\n",
       "    ).baseUrl.slice(0, -1);\n",
       "}\n",
       "url = baseURL + url;\n",
       "fetch(url).then(function(res) {\n",
       "    if (res.status === 404) {\n",
       "        div.innerHTML = 'Install QIIME 2 Jupyter extension with:<br />' +\n",
       "                        '<code>jupyter serverextension enable --py qiime2' +\n",
       "                        ' --sys-prefix</code><br />then restart your server.' +\n",
       "                        '<br /><br />(Interactive output not available on ' +\n",
       "                        'static notebook viewer services like nbviewer.)';\n",
       "    } else if (res.status === 409) {\n",
       "        div.innerHTML = 'Visualization no longer in scope. Re-run this cell' +\n",
       "                        ' to see the visualization.';\n",
       "    } else if (res.ok) {\n",
       "        url = res.url;\n",
       "        div.innerHTML = '<iframe src=\\'' + url + '\\' style=\\'' +\n",
       "                        'width: 100%; height: 700px; border: 0;\\'>' +\n",
       "                        '</iframe><hr />Open in a: <a href=\\'' + url + '\\'' +\n",
       "                        ' target=\\'_blank\\'>new window</a>'\n",
       "    } else {\n",
       "        div.innerHTML = 'Something has gone wrong. Check notebook server for' +\n",
       "                        ' errors.';\n",
       "    }\n",
       "});\n",
       "})(this.parentElement, '/qiime2/redirect?location=/tmp/qiime2-archive-rfamxv23')\" src=\"data:image/gif;base64,R0lGODlhAQABAIAAAP///wAAACH5BAEAAAAALAAAAAABAAEAAAICRAEAOw==\" /></div>"
      ],
      "text/plain": [
       "<visualization: Visualization uuid: 510de1c0-b572-400e-8ef1-898d9a8fa683>"
      ]
     },
     "execution_count": 11,
     "metadata": {},
     "output_type": "execute_result"
    }
   ],
   "source": [
    "# Render Visualization\n",
    "demux_view_obj"
   ]
  },
  {
   "cell_type": "markdown",
   "id": "c72e817e",
   "metadata": {
    "papermill": {
     "duration": 0.011725,
     "end_time": "2023-02-01T11:24:05.458495",
     "exception": false,
     "start_time": "2023-02-01T11:24:05.446770",
     "status": "completed"
    },
    "tags": []
   },
   "source": [
    "[cutadapt](https://docs.qiime2.org/2022.2/plugins/available/cutadapt/trim-paired/)\n",
    "\n",
    "We trim the forward primer and the reverse complement of the reverse primer from the forward reads. We trim the reverse primer and reverse complement of the forward primer from the reverse reads."
   ]
  },
  {
   "cell_type": "code",
   "execution_count": 12,
   "id": "dda31eee",
   "metadata": {
    "execution": {
     "iopub.execute_input": "2023-02-01T11:24:05.483639Z",
     "iopub.status.busy": "2023-02-01T11:24:05.483443Z",
     "iopub.status.idle": "2023-02-01T11:24:05.488544Z",
     "shell.execute_reply": "2023-02-01T11:24:05.488094Z"
    },
    "papermill": {
     "duration": 0.018939,
     "end_time": "2023-02-01T11:24:05.489923",
     "exception": false,
     "start_time": "2023-02-01T11:24:05.470984",
     "status": "completed"
    },
    "tags": []
   },
   "outputs": [],
   "source": [
    "demux_file_trim = os.path.join(out_dir, 'demux-paired-trim.qza')\n",
    "demux_view_trim = os.path.join(out_dir, 'demux-paired-trim.qzv')\n",
    "\n",
    "if trim and (not os.path.isfile(demux_file_trim) or replace_files):\n",
    "    forward_primer = [trim['forward_primer']] # ['CCTACGGGRSGCAGCAG']\n",
    "    reverse_primer = [trim['reverse_primer']] # ['GGACTACHVGGGTWTCTAAT']\n",
    "    forward_reverse_complement = [str(Seq(forward_primer[0]).reverse_complement())]\n",
    "    reverse_reverse_complement = [str(Seq(reverse_primer[0]).reverse_complement())]\n",
    "\n",
    "    res = trim_paired(\n",
    "        demultiplexed_sequences=artifact,\n",
    "        front_f=forward_primer,\n",
    "        front_r=reverse_primer,\n",
    "        adapter_f=reverse_reverse_complement,\n",
    "        adapter_r=forward_reverse_complement,\n",
    "        cores=threads,\n",
    "        overlap=trim['overlap'],\n",
    "        indels=False,\n",
    "        match_read_wildcards=True,\n",
    "        match_adapter_wildcards=True,\n",
    "        error_rate=0.15,\n",
    "        discard_untrimmed=True,\n",
    "    ).trimmed_sequences\n",
    "\n",
    "    demux.visualizers.summarize(res).visualization\n",
    "    res.save(demux_file_trim)\n",
    "    Visualization.save(demux.visualizers.summarize(res).visualization, filepath=demux_view_trim)"
   ]
  }
 ],
 "metadata": {
  "celltoolbar": "Edit Metadata",
  "kernelspec": {
   "display_name": "Python 3 (ipykernel)",
   "language": "python",
   "name": "python3"
  },
  "language_info": {
   "codemirror_mode": {
    "name": "ipython",
    "version": 3
   },
   "file_extension": ".py",
   "mimetype": "text/x-python",
   "name": "python",
   "nbconvert_exporter": "python",
   "pygments_lexer": "ipython3",
   "version": "3.8.12"
  },
  "papermill": {
   "default_parameters": {},
   "duration": 31.368317,
   "end_time": "2023-02-01T11:24:06.221255",
   "environment_variables": {},
   "exception": null,
   "input_path": "nb-templates/step-prepare-data.ipynb",
   "output_path": "/home/lauro/nupeb/rede-micro/redemicro-andressa-lbtm/experiments/andressa-01/nb-executed-steps/step-prepare-data-andressa-01.ipynb",
   "parameters": {
    "base_dir": "/home/lauro/nupeb/rede-micro/redemicro-andressa-lbtm",
    "class_col": "group-id",
    "classifier_file": "/home/lauro/nupeb/dados_brutos_rede_genoma/16S_classifiers_qiime2/silva-138-99-nb-classifier.qza",
    "experiment_name": "andressa",
    "manifest_file": "/home/lauro/nupeb/rede-micro/redemicro-andressa-lbtm/data/manifest.csv",
    "metadata_file": "/home/lauro/nupeb/rede-micro/redemicro-andressa-lbtm/data/metadata.tsv",
    "overlap": 12,
    "phred": 20,
    "replace_files": false,
    "threads": 6,
    "trunc_f": 0,
    "trunc_r": 0
   },
   "start_time": "2023-02-01T11:23:34.852938",
   "version": "2.3.4"
  },
  "toc-autonumbering": false,
  "toc-showcode": false,
  "toc-showmarkdowntxt": false
 },
 "nbformat": 4,
 "nbformat_minor": 5
}