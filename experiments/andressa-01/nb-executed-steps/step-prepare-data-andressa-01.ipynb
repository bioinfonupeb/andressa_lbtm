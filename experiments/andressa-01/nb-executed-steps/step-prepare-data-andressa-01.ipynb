{
 "cells": [
  {
   "cell_type": "markdown",
   "id": "0e055038",
   "metadata": {
    "papermill": {
     "duration": 0.019295,
     "end_time": "2023-02-10T17:00:30.519388",
     "exception": false,
     "start_time": "2023-02-10T17:00:30.500093",
     "status": "completed"
    },
    "tags": []
   },
   "source": [
    "# Prepare data for Pipeline"
   ]
  },
  {
   "cell_type": "markdown",
   "id": "f2b2249a",
   "metadata": {
    "papermill": {
     "duration": 0.012528,
     "end_time": "2023-02-10T17:00:30.549986",
     "exception": false,
     "start_time": "2023-02-10T17:00:30.537458",
     "status": "completed"
    },
    "tags": []
   },
   "source": [
    "## Setup and settings"
   ]
  },
  {
   "cell_type": "code",
   "execution_count": 1,
   "id": "6b52ccc2",
   "metadata": {
    "ExecuteTime": {
     "end_time": "2022-10-14T14:33:37.863523Z",
     "start_time": "2022-10-14T14:33:14.145712Z"
    },
    "execution": {
     "iopub.execute_input": "2023-02-10T17:00:30.577216Z",
     "iopub.status.busy": "2023-02-10T17:00:30.576974Z",
     "iopub.status.idle": "2023-02-10T17:00:36.912949Z",
     "shell.execute_reply": "2023-02-10T17:00:36.912320Z"
    },
    "papermill": {
     "duration": 6.355739,
     "end_time": "2023-02-10T17:00:36.916068",
     "exception": false,
     "start_time": "2023-02-10T17:00:30.560329",
     "status": "completed"
    },
    "tags": []
   },
   "outputs": [],
   "source": [
    "# Importing packages\n",
    "import os\n",
    "import yaml\n",
    "import logging\n",
    "import pandas as pd\n",
    "from Bio.Seq import Seq\n",
    "from qiime2 import Artifact, Visualization\n",
    "from qiime2.plugins import demux\n",
    "from qiime2.plugins.cutadapt.methods import trim_paired"
   ]
  },
  {
   "cell_type": "markdown",
   "id": "ab2717af",
   "metadata": {
    "papermill": {
     "duration": 0.077364,
     "end_time": "2023-02-10T17:00:37.010711",
     "exception": false,
     "start_time": "2023-02-10T17:00:36.933347",
     "status": "completed"
    },
    "tags": []
   },
   "source": [
    "### Receiving the parameters\n",
    "\n",
    "The following cell can receive parameters using the [papermill](https://papermill.readthedocs.io/en/latest/) tool."
   ]
  },
  {
   "cell_type": "code",
   "execution_count": 2,
   "id": "429f2512",
   "metadata": {
    "ExecuteTime": {
     "end_time": "2022-06-28T18:50:41.594341Z",
     "start_time": "2022-06-28T18:50:41.591544Z"
    },
    "execution": {
     "iopub.execute_input": "2023-02-10T17:00:37.032370Z",
     "iopub.status.busy": "2023-02-10T17:00:37.032044Z",
     "iopub.status.idle": "2023-02-10T17:00:37.038462Z",
     "shell.execute_reply": "2023-02-10T17:00:37.037745Z"
    },
    "papermill": {
     "duration": 0.01911,
     "end_time": "2023-02-10T17:00:37.039834",
     "exception": false,
     "start_time": "2023-02-10T17:00:37.020724",
     "status": "completed"
    },
    "tags": [
     "parameters"
    ]
   },
   "outputs": [],
   "source": [
    "params_path = os.path.join('..', 'params', 'ana-flavia-superlactacao.yaml')\n",
    "experiment_name = 'jenneffer-vs-01'\n",
    "base_dir = os.path.join('/', 'home', 'lauro', 'nupeb', 'redemicro')\n",
    "manifest_file = os.path.join(base_dir, 'data', 'raw', 'manifest', 'not-hist-vs-manifest.csv')\n",
    "img_folder = os.path.abspath(os.path.join(base_dir, 'imgs'))\n",
    "replace_files = False\n",
    "trim = None"
   ]
  },
  {
   "cell_type": "code",
   "execution_count": 3,
   "id": "493cc0ef",
   "metadata": {
    "execution": {
     "iopub.execute_input": "2023-02-10T17:00:37.064057Z",
     "iopub.status.busy": "2023-02-10T17:00:37.063661Z",
     "iopub.status.idle": "2023-02-10T17:00:37.069297Z",
     "shell.execute_reply": "2023-02-10T17:00:37.068415Z"
    },
    "papermill": {
     "duration": 0.01948,
     "end_time": "2023-02-10T17:00:37.070888",
     "exception": false,
     "start_time": "2023-02-10T17:00:37.051408",
     "status": "completed"
    },
    "tags": [
     "injected-parameters"
    ]
   },
   "outputs": [],
   "source": [
    "# Parameters\n",
    "experiment_name = \"andressa\"\n",
    "base_dir = \"/home/lauro/nupeb/rede-micro/redemicro-andressa-lbtm\"\n",
    "manifest_file = \"/home/lauro/nupeb/rede-micro/redemicro-andressa-lbtm/data/manifest.csv\"\n",
    "metadata_file = \"/home/lauro/nupeb/rede-micro/redemicro-andressa-lbtm/data/metadata.tsv\"\n",
    "class_col = \"group-id\"\n",
    "classifier_file = \"/home/lauro/nupeb/rede-micro/models/silva-138-99-nb-classifier.qza\"\n",
    "replace_files = False\n",
    "phred = 20\n",
    "trunc_f = 0\n",
    "trunc_r = 0\n",
    "overlap = 12\n",
    "threads = 6\n"
   ]
  },
  {
   "cell_type": "code",
   "execution_count": 4,
   "id": "f4ae8c66",
   "metadata": {
    "ExecuteTime": {
     "end_time": "2022-06-28T18:50:41.610682Z",
     "start_time": "2022-06-28T18:50:41.595886Z"
    },
    "execution": {
     "iopub.execute_input": "2023-02-10T17:00:37.093338Z",
     "iopub.status.busy": "2023-02-10T17:00:37.093044Z",
     "iopub.status.idle": "2023-02-10T17:00:37.099081Z",
     "shell.execute_reply": "2023-02-10T17:00:37.098290Z"
    },
    "papermill": {
     "duration": 0.018692,
     "end_time": "2023-02-10T17:00:37.100484",
     "exception": false,
     "start_time": "2023-02-10T17:00:37.081792",
     "status": "completed"
    },
    "tags": []
   },
   "outputs": [],
   "source": [
    "# Setting hardcoded parameters for development and debbuging\n",
    "production = True\n",
    "if not production:\n",
    "    params_path = os.path.join('..', 'params', 'ana-flavia-hipotese-01')\n",
    "    with open(params_path, 'r') as stream:\n",
    "        params = yaml.safe_load(stream)\n",
    "        experiment_name = params['experiment_name']\n",
    "        base_dir = params['base_dir']\n",
    "        manifest_file = params['manifest_file']\n",
    "        replace_files = params['replace_files']"
   ]
  },
  {
   "cell_type": "markdown",
   "id": "45fc8f93",
   "metadata": {
    "papermill": {
     "duration": 0.021895,
     "end_time": "2023-02-10T17:00:37.134098",
     "exception": false,
     "start_time": "2023-02-10T17:00:37.112203",
     "status": "completed"
    },
    "tags": []
   },
   "source": [
    "### Defining names and paths"
   ]
  },
  {
   "cell_type": "code",
   "execution_count": 5,
   "id": "6752dbbd",
   "metadata": {
    "ExecuteTime": {
     "end_time": "2022-06-28T18:50:41.618098Z",
     "start_time": "2022-06-28T18:50:41.614152Z"
    },
    "execution": {
     "iopub.execute_input": "2023-02-10T17:00:37.186457Z",
     "iopub.status.busy": "2023-02-10T17:00:37.186254Z",
     "iopub.status.idle": "2023-02-10T17:00:37.189709Z",
     "shell.execute_reply": "2023-02-10T17:00:37.189106Z"
    },
    "papermill": {
     "duration": 0.033237,
     "end_time": "2023-02-10T17:00:37.192545",
     "exception": false,
     "start_time": "2023-02-10T17:00:37.159308",
     "status": "completed"
    },
    "tags": []
   },
   "outputs": [],
   "source": [
    "# new_manifest = '/home/lauro/nupeb/redemicro/data/raw/manifest/karina-manifest.csv'\n",
    "# with open(manifest_file, 'r') as oldm, open(new_manifest, 'w') as newm:\n",
    "#     header = 'sample-id,absolute-filepath,direction\\n'\n",
    "#     newm.write(header)\n",
    "#     for line in oldm.readlines()[1:]:\n",
    "#         sid, forward, reverse = line[:-1].split(',')\n",
    "#         fline = ','.join((sid, forward, 'forward')) + '\\n'\n",
    "#         rline = ','.join((sid, reverse, 'reverse')) + '\\n'\n",
    "#         newm.write(fline)\n",
    "#         newm.write(rline)"
   ]
  },
  {
   "cell_type": "code",
   "execution_count": 6,
   "id": "c7f6c159",
   "metadata": {
    "ExecuteTime": {
     "end_time": "2022-06-28T18:50:41.632125Z",
     "start_time": "2022-06-28T18:50:41.619710Z"
    },
    "execution": {
     "iopub.execute_input": "2023-02-10T17:00:37.243703Z",
     "iopub.status.busy": "2023-02-10T17:00:37.243547Z",
     "iopub.status.idle": "2023-02-10T17:00:37.249815Z",
     "shell.execute_reply": "2023-02-10T17:00:37.249345Z"
    },
    "papermill": {
     "duration": 0.033428,
     "end_time": "2023-02-10T17:00:37.251147",
     "exception": false,
     "start_time": "2023-02-10T17:00:37.217719",
     "status": "completed"
    },
    "tags": []
   },
   "outputs": [
    {
     "name": "stdout",
     "output_type": "stream",
     "text": [
      "New qiime-artifacts folder path created: /home/lauro/nupeb/rede-micro/redemicro-andressa-lbtm/experiments/andressa/qiime-artifacts\n",
      "New img folder path created: /home/lauro/nupeb/rede-micro/redemicro-andressa-lbtm/experiments/andressa/imgs\n"
     ]
    }
   ],
   "source": [
    "# Define the output folder path\n",
    "out_dir = os.path.join(base_dir, 'experiments', experiment_name, 'qiime-artifacts')\n",
    "img_folder = os.path.abspath(os.path.join(base_dir, 'experiments', experiment_name, 'imgs'))\n",
    "\n",
    "# Create path if it not exist\n",
    "if not os.path.isdir(out_dir):\n",
    "    os.makedirs(out_dir)\n",
    "    print(f'New qiime-artifacts folder path created: {out_dir}')\n",
    "\n",
    "# Create path if it not exist\n",
    "if not os.path.isdir(img_folder):\n",
    "    os.makedirs(img_folder)\n",
    "    print(f'New img folder path created: {img_folder}')\n",
    "\n",
    "# Define the output artifact full path\n",
    "demux_file = os.path.join(out_dir, 'demux-paired.qza')\n",
    "demux_view = os.path.join(out_dir, 'demux-paired.qzv')\n",
    "demux_file_trim = os.path.join(out_dir, 'demux-paired-trim.qza')\n",
    "demux_view_trim = os.path.join(out_dir, 'demux-paired-trim.qzv')"
   ]
  },
  {
   "cell_type": "markdown",
   "id": "8fed372c",
   "metadata": {
    "papermill": {
     "duration": 0.011639,
     "end_time": "2023-02-10T17:00:37.274103",
     "exception": false,
     "start_time": "2023-02-10T17:00:37.262464",
     "status": "completed"
    },
    "tags": []
   },
   "source": [
    "## Step execution\n",
    "\n",
    "This Step import all `fastq` files in a **QIIME2 Artifact** object and save it to a new `qza` file of `SampleData[PairedEndSequencesWithQuality]`"
   ]
  },
  {
   "cell_type": "code",
   "execution_count": 7,
   "id": "eb6c2792",
   "metadata": {
    "execution": {
     "iopub.execute_input": "2023-02-10T17:00:37.297348Z",
     "iopub.status.busy": "2023-02-10T17:00:37.297035Z",
     "iopub.status.idle": "2023-02-10T17:00:37.308245Z",
     "shell.execute_reply": "2023-02-10T17:00:37.307687Z"
    },
    "papermill": {
     "duration": 0.025049,
     "end_time": "2023-02-10T17:00:37.309972",
     "exception": false,
     "start_time": "2023-02-10T17:00:37.284923",
     "status": "completed"
    },
    "tags": []
   },
   "outputs": [],
   "source": [
    "manifest_df = pd.read_csv(manifest_file)\n",
    "n_directions = len(manifest_df['direction'].unique())\n",
    "if n_directions == 1:\n",
    "    d_type = 'SampleData[SequencesWithQuality]'\n",
    "    v_type = 'SingleEndFastqManifestPhred33'\n",
    "elif n_directions == 2:\n",
    "    d_type = 'SampleData[PairedEndSequencesWithQuality]'\n",
    "    v_type = 'PairedEndFastqManifestPhred33'\n",
    "else:\n",
    "    print(f'ERROR: invalid number of directions {n_directions}')"
   ]
  },
  {
   "cell_type": "code",
   "execution_count": 8,
   "id": "8cb70684",
   "metadata": {
    "ExecuteTime": {
     "end_time": "2022-06-28T19:44:58.640338Z",
     "start_time": "2022-06-28T18:50:41.633657Z"
    },
    "execution": {
     "iopub.execute_input": "2023-02-10T17:00:37.337158Z",
     "iopub.status.busy": "2023-02-10T17:00:37.336560Z",
     "iopub.status.idle": "2023-02-10T17:00:46.662224Z",
     "shell.execute_reply": "2023-02-10T17:00:46.661614Z"
    },
    "papermill": {
     "duration": 9.339954,
     "end_time": "2023-02-10T17:00:46.664572",
     "exception": false,
     "start_time": "2023-02-10T17:00:37.324618",
     "status": "completed"
    },
    "tags": []
   },
   "outputs": [],
   "source": [
    "# If the demux file does not exist or if the old file will be replaced\n",
    "if not os.path.isfile(demux_file) or replace_files:\n",
    "    \n",
    "    # Import data and create an artifact object\n",
    "    artifact = Artifact.import_data(\n",
    "        d_type, \n",
    "        manifest_file, \n",
    "        view_type=v_type)\n",
    "    \n",
    "    # Save the artifact object to a new qza file\n",
    "    artifact.save(demux_file)\n",
    "\n",
    "else:\n",
    "    artifact = Artifact.load(demux_file)"
   ]
  },
  {
   "cell_type": "code",
   "execution_count": 9,
   "id": "a2ec4428",
   "metadata": {
    "ExecuteTime": {
     "end_time": "2022-06-28T19:47:56.602855Z",
     "start_time": "2022-06-28T19:44:58.642520Z"
    },
    "execution": {
     "iopub.execute_input": "2023-02-10T17:00:46.707853Z",
     "iopub.status.busy": "2023-02-10T17:00:46.707522Z",
     "iopub.status.idle": "2023-02-10T17:01:06.362863Z",
     "shell.execute_reply": "2023-02-10T17:01:06.362352Z"
    },
    "papermill": {
     "duration": 19.677937,
     "end_time": "2023-02-10T17:01:06.364597",
     "exception": false,
     "start_time": "2023-02-10T17:00:46.686660",
     "status": "completed"
    },
    "tags": []
   },
   "outputs": [],
   "source": [
    "if not os.path.isfile(demux_view) or replace_files: \n",
    "    # Generate e visualization of the Artifact\n",
    "    demux_summary = demux.visualizers.summarize(artifact)\n",
    "\n",
    "    # Save a new visualization file based on the qza file\n",
    "    Visualization.save(demux_summary.visualization, filepath=demux_view)\n",
    "    \n",
    "    demux_view_obj = demux_summary.visualization\n",
    "else:\n",
    "    demux_view_obj = Visualization.load(demux_view)"
   ]
  },
  {
   "cell_type": "markdown",
   "id": "5852ab38",
   "metadata": {
    "papermill": {
     "duration": 0.260545,
     "end_time": "2023-02-10T17:01:06.640591",
     "exception": false,
     "start_time": "2023-02-10T17:01:06.380046",
     "status": "completed"
    },
    "tags": []
   },
   "source": [
    "## Step report\n"
   ]
  },
  {
   "cell_type": "code",
   "execution_count": 10,
   "id": "677bfd8b",
   "metadata": {
    "ExecuteTime": {
     "end_time": "2022-06-28T19:47:56.609737Z",
     "start_time": "2022-06-28T19:47:56.604820Z"
    },
    "execution": {
     "iopub.execute_input": "2023-02-10T17:01:07.016344Z",
     "iopub.status.busy": "2023-02-10T17:01:07.015927Z",
     "iopub.status.idle": "2023-02-10T17:01:07.022073Z",
     "shell.execute_reply": "2023-02-10T17:01:07.020989Z"
    },
    "papermill": {
     "duration": 0.265045,
     "end_time": "2023-02-10T17:01:07.023780",
     "exception": false,
     "start_time": "2023-02-10T17:01:06.758735",
     "status": "completed"
    },
    "tags": []
   },
   "outputs": [
    {
     "name": "stdout",
     "output_type": "stream",
     "text": [
      "<visualization: Visualization uuid: b7ac946c-1a1a-4c4c-b89d-61f4fdafac17>\n"
     ]
    }
   ],
   "source": [
    "print(demux_view_obj)"
   ]
  },
  {
   "cell_type": "code",
   "execution_count": 11,
   "id": "03169d94",
   "metadata": {
    "ExecuteTime": {
     "end_time": "2022-06-28T19:47:56.704841Z",
     "start_time": "2022-06-28T19:47:56.611846Z"
    },
    "execution": {
     "iopub.execute_input": "2023-02-10T17:01:07.187981Z",
     "iopub.status.busy": "2023-02-10T17:01:07.187473Z",
     "iopub.status.idle": "2023-02-10T17:01:07.203113Z",
     "shell.execute_reply": "2023-02-10T17:01:07.202647Z"
    },
    "papermill": {
     "duration": 0.05867,
     "end_time": "2023-02-10T17:01:07.204905",
     "exception": false,
     "start_time": "2023-02-10T17:01:07.146235",
     "status": "completed"
    },
    "tags": []
   },
   "outputs": [
    {
     "data": {
      "text/html": [
       "<div><img onload=\"(function(div, url){\n",
       "if (typeof require !== 'undefined') {\n",
       "    var baseURL = require.toUrl('').split('/').slice(0, -2).join('/');\n",
       "} else {\n",
       "    var baseURL = JSON.parse(\n",
       "        document.getElementById('jupyter-config-data').innerHTML\n",
       "    ).baseUrl.slice(0, -1);\n",
       "}\n",
       "url = baseURL + url;\n",
       "fetch(url).then(function(res) {\n",
       "    if (res.status === 404) {\n",
       "        div.innerHTML = 'Install QIIME 2 Jupyter extension with:<br />' +\n",
       "                        '<code>jupyter serverextension enable --py qiime2' +\n",
       "                        ' --sys-prefix</code><br />then restart your server.' +\n",
       "                        '<br /><br />(Interactive output not available on ' +\n",
       "                        'static notebook viewer services like nbviewer.)';\n",
       "    } else if (res.status === 409) {\n",
       "        div.innerHTML = 'Visualization no longer in scope. Re-run this cell' +\n",
       "                        ' to see the visualization.';\n",
       "    } else if (res.ok) {\n",
       "        url = res.url;\n",
       "        div.innerHTML = '<iframe src=\\'' + url + '\\' style=\\'' +\n",
       "                        'width: 100%; height: 700px; border: 0;\\'>' +\n",
       "                        '</iframe><hr />Open in a: <a href=\\'' + url + '\\'' +\n",
       "                        ' target=\\'_blank\\'>new window</a>'\n",
       "    } else {\n",
       "        div.innerHTML = 'Something has gone wrong. Check notebook server for' +\n",
       "                        ' errors.';\n",
       "    }\n",
       "});\n",
       "})(this.parentElement, '/qiime2/redirect?location=/tmp/qiime2-archive-ss9kz4vk')\" src=\"data:image/gif;base64,R0lGODlhAQABAIAAAP///wAAACH5BAEAAAAALAAAAAABAAEAAAICRAEAOw==\" /></div>"
      ],
      "text/plain": [
       "<visualization: Visualization uuid: b7ac946c-1a1a-4c4c-b89d-61f4fdafac17>"
      ]
     },
     "execution_count": 11,
     "metadata": {},
     "output_type": "execute_result"
    }
   ],
   "source": [
    "# Render Visualization\n",
    "demux_view_obj"
   ]
  },
  {
   "cell_type": "markdown",
   "id": "81c467cd",
   "metadata": {
    "papermill": {
     "duration": 0.01232,
     "end_time": "2023-02-10T17:01:07.231683",
     "exception": false,
     "start_time": "2023-02-10T17:01:07.219363",
     "status": "completed"
    },
    "tags": []
   },
   "source": [
    "[cutadapt](https://docs.qiime2.org/2022.2/plugins/available/cutadapt/trim-paired/)\n",
    "\n",
    "We trim the forward primer and the reverse complement of the reverse primer from the forward reads. We trim the reverse primer and reverse complement of the forward primer from the reverse reads."
   ]
  },
  {
   "cell_type": "code",
   "execution_count": 12,
   "id": "439d5ff2",
   "metadata": {
    "execution": {
     "iopub.execute_input": "2023-02-10T17:01:07.256652Z",
     "iopub.status.busy": "2023-02-10T17:01:07.256418Z",
     "iopub.status.idle": "2023-02-10T17:01:07.264089Z",
     "shell.execute_reply": "2023-02-10T17:01:07.263221Z"
    },
    "papermill": {
     "duration": 0.022783,
     "end_time": "2023-02-10T17:01:07.266382",
     "exception": false,
     "start_time": "2023-02-10T17:01:07.243599",
     "status": "completed"
    },
    "tags": []
   },
   "outputs": [],
   "source": [
    "demux_file_trim = os.path.join(out_dir, 'demux-paired-trim.qza')\n",
    "demux_view_trim = os.path.join(out_dir, 'demux-paired-trim.qzv')\n",
    "\n",
    "if trim and (not os.path.isfile(demux_file_trim) or replace_files):\n",
    "    forward_primer = [trim['forward_primer']] # ['CCTACGGGRSGCAGCAG']\n",
    "    reverse_primer = [trim['reverse_primer']] # ['GGACTACHVGGGTWTCTAAT']\n",
    "    forward_reverse_complement = [str(Seq(forward_primer[0]).reverse_complement())]\n",
    "    reverse_reverse_complement = [str(Seq(reverse_primer[0]).reverse_complement())]\n",
    "\n",
    "    res = trim_paired(\n",
    "        demultiplexed_sequences=artifact,\n",
    "        front_f=forward_primer,\n",
    "        front_r=reverse_primer,\n",
    "        adapter_f=reverse_reverse_complement,\n",
    "        adapter_r=forward_reverse_complement,\n",
    "        cores=threads,\n",
    "        overlap=trim['overlap'],\n",
    "        indels=False,\n",
    "        match_read_wildcards=True,\n",
    "        match_adapter_wildcards=True,\n",
    "        error_rate=0.15,\n",
    "        discard_untrimmed=True,\n",
    "    ).trimmed_sequences\n",
    "\n",
    "    demux.visualizers.summarize(res).visualization\n",
    "    res.save(demux_file_trim)\n",
    "    Visualization.save(demux.visualizers.summarize(res).visualization, filepath=demux_view_trim)"
   ]
  }
 ],
 "metadata": {
  "celltoolbar": "Edit Metadata",
  "kernelspec": {
   "display_name": "Python 3 (ipykernel)",
   "language": "python",
   "name": "python3"
  },
  "language_info": {
   "codemirror_mode": {
    "name": "ipython",
    "version": 3
   },
   "file_extension": ".py",
   "mimetype": "text/x-python",
   "name": "python",
   "nbconvert_exporter": "python",
   "pygments_lexer": "ipython3",
   "version": "3.8.12"
  },
  "papermill": {
   "default_parameters": {},
   "duration": 39.2617,
   "end_time": "2023-02-10T17:01:08.105007",
   "environment_variables": {},
   "exception": null,
   "input_path": "nb-templates/step-prepare-data.ipynb",
   "output_path": "/home/lauro/nupeb/rede-micro/redemicro-andressa-lbtm/experiments/andressa-01/nb-executed-steps/step-prepare-data-andressa-01.ipynb",
   "parameters": {
    "base_dir": "/home/lauro/nupeb/rede-micro/redemicro-andressa-lbtm",
    "class_col": "group-id",
    "classifier_file": "/home/lauro/nupeb/rede-micro/models/silva-138-99-nb-classifier.qza",
    "experiment_name": "andressa",
    "manifest_file": "/home/lauro/nupeb/rede-micro/redemicro-andressa-lbtm/data/manifest.csv",
    "metadata_file": "/home/lauro/nupeb/rede-micro/redemicro-andressa-lbtm/data/metadata.tsv",
    "overlap": 12,
    "phred": 20,
    "replace_files": false,
    "threads": 6,
    "trunc_f": 0,
    "trunc_r": 0
   },
   "start_time": "2023-02-10T17:00:28.843307",
   "version": "2.3.4"
  },
  "toc-autonumbering": false,
  "toc-showcode": false,
  "toc-showmarkdowntxt": false
 },
 "nbformat": 4,
 "nbformat_minor": 5
}