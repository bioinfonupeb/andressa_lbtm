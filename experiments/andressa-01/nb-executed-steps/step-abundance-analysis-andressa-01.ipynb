{
 "cells": [
  {
   "cell_type": "markdown",
   "id": "0e7f2330",
   "metadata": {
    "ExecuteTime": {
     "end_time": "2022-09-22T19:36:33.828188Z",
     "start_time": "2022-09-22T19:36:33.817323Z"
    },
    "papermill": {
     "duration": 0.016927,
     "end_time": "2023-02-01T16:03:06.580263",
     "exception": false,
     "start_time": "2023-02-01T16:03:06.563336",
     "status": "completed"
    },
    "tags": []
   },
   "source": [
    "### STEP : Diversity Analysis\n",
    "\n",
    "\n",
    "\n",
    "#### Example\n",
    "\n",
    "- [“Moving Pictures” tutorial](https://docs.qiime2.org/2022.8/tutorials/moving-pictures-usage/?highlight=ancom)\n",
    "- [Biostats ANCOM](http://scikit-bio.org/docs/0.4.2/generated/generated/skbio.stats.composition.ancom.html)\n",
    "\n",
    "\n",
    "#### Methods\n",
    "- [composition](https://docs.qiime2.org/2022.8/plugins/available/composition/)\n",
    "- [composition add_pseudocount](https://docs.qiime2.org/2022.8/plugins/available/composition/add-pseudocount/): Increment all counts in table by pseudocount.\n",
    "- [composition ancom](https://docs.qiime2.org/2022.8/plugins/available/composition/ancom/): Apply ANCOM to identify features that differ in abundance."
   ]
  },
  {
   "cell_type": "markdown",
   "id": "843debbf",
   "metadata": {
    "papermill": {
     "duration": 0.009237,
     "end_time": "2023-02-01T16:03:06.599416",
     "exception": false,
     "start_time": "2023-02-01T16:03:06.590179",
     "status": "completed"
    },
    "tags": []
   },
   "source": [
    "## Setup and settings"
   ]
  },
  {
   "cell_type": "code",
   "execution_count": 1,
   "id": "965e28e5",
   "metadata": {
    "ExecuteTime": {
     "end_time": "2022-11-03T20:35:26.198671Z",
     "start_time": "2022-11-03T20:35:06.473173Z"
    },
    "execution": {
     "iopub.execute_input": "2023-02-01T16:03:06.625641Z",
     "iopub.status.busy": "2023-02-01T16:03:06.625090Z",
     "iopub.status.idle": "2023-02-01T16:03:12.804996Z",
     "shell.execute_reply": "2023-02-01T16:03:12.804359Z"
    },
    "papermill": {
     "duration": 6.199438,
     "end_time": "2023-02-01T16:03:12.807925",
     "exception": false,
     "start_time": "2023-02-01T16:03:06.608487",
     "status": "completed"
    },
    "tags": []
   },
   "outputs": [],
   "source": [
    "# Importing packages\n",
    "import os\n",
    "import pandas as pd\n",
    "from qiime2 import Artifact\n",
    "from qiime2 import Visualization\n",
    "from qiime2 import Metadata\n",
    "\n",
    "from qiime2.plugins.composition.visualizers import ancom\n",
    "from qiime2.plugins.composition.methods import add_pseudocount\n",
    "\n",
    "%matplotlib inline"
   ]
  },
  {
   "cell_type": "markdown",
   "id": "530ceb60",
   "metadata": {
    "papermill": {
     "duration": 0.008735,
     "end_time": "2023-02-01T16:03:12.829842",
     "exception": false,
     "start_time": "2023-02-01T16:03:12.821107",
     "status": "completed"
    },
    "tags": []
   },
   "source": [
    "### Receiving the parameters\n",
    "\n",
    "The following cell can receive parameters using the [papermill](https://papermill.readthedocs.io/en/latest/) tool."
   ]
  },
  {
   "cell_type": "code",
   "execution_count": 2,
   "id": "18d874ea",
   "metadata": {
    "ExecuteTime": {
     "end_time": "2022-09-29T20:54:14.793270Z",
     "start_time": "2022-09-29T20:54:14.789367Z"
    },
    "execution": {
     "iopub.execute_input": "2023-02-01T16:03:12.878649Z",
     "iopub.status.busy": "2023-02-01T16:03:12.878127Z",
     "iopub.status.idle": "2023-02-01T16:03:12.883272Z",
     "shell.execute_reply": "2023-02-01T16:03:12.882434Z"
    },
    "papermill": {
     "duration": 0.016084,
     "end_time": "2023-02-01T16:03:12.884905",
     "exception": false,
     "start_time": "2023-02-01T16:03:12.868821",
     "status": "completed"
    },
    "tags": [
     "parameters"
    ]
   },
   "outputs": [],
   "source": [
    "metadata_file = '/home/lauro/nupeb/rede-micro/redemicro-miliane-nutri/data/raw/metadata/miliane-metadata-CxAC.tsv'\n",
    "base_dir = os.path.join('/', 'home', 'lauro', 'nupeb', 'rede-micro', 'redemicro-miliane-nutri')\n",
    "experiment_name = 'miliane-CxAC-trim'\n",
    "class_col = 'group-id'\n",
    "replace_files = False"
   ]
  },
  {
   "cell_type": "code",
   "execution_count": 3,
   "id": "772b57cf",
   "metadata": {
    "execution": {
     "iopub.execute_input": "2023-02-01T16:03:12.902992Z",
     "iopub.status.busy": "2023-02-01T16:03:12.902650Z",
     "iopub.status.idle": "2023-02-01T16:03:12.908116Z",
     "shell.execute_reply": "2023-02-01T16:03:12.907327Z"
    },
    "papermill": {
     "duration": 0.016401,
     "end_time": "2023-02-01T16:03:12.909673",
     "exception": false,
     "start_time": "2023-02-01T16:03:12.893272",
     "status": "completed"
    },
    "tags": [
     "injected-parameters"
    ]
   },
   "outputs": [],
   "source": [
    "# Parameters\n",
    "experiment_name = \"andressa\"\n",
    "base_dir = \"/home/lauro/nupeb/rede-micro/redemicro-andressa-lbtm\"\n",
    "manifest_file = \"/home/lauro/nupeb/rede-micro/redemicro-andressa-lbtm/data/manifest.csv\"\n",
    "metadata_file = \"/home/lauro/nupeb/rede-micro/redemicro-andressa-lbtm/data/metadata.tsv\"\n",
    "class_col = \"group-id\"\n",
    "classifier_file = \"/home/lauro/nupeb/rede-micro/models/silva-138-99-nb-classifier.qza\"\n",
    "replace_files = False\n",
    "phred = 20\n",
    "trunc_f = 0\n",
    "trunc_r = 0\n",
    "overlap = 12\n",
    "threads = 6\n"
   ]
  },
  {
   "cell_type": "code",
   "execution_count": 4,
   "id": "f38617d9",
   "metadata": {
    "ExecuteTime": {
     "end_time": "2022-09-29T20:54:14.804575Z",
     "start_time": "2022-09-29T20:54:14.794927Z"
    },
    "execution": {
     "iopub.execute_input": "2023-02-01T16:03:12.958916Z",
     "iopub.status.busy": "2023-02-01T16:03:12.958527Z",
     "iopub.status.idle": "2023-02-01T16:03:12.963829Z",
     "shell.execute_reply": "2023-02-01T16:03:12.962941Z"
    },
    "papermill": {
     "duration": 0.016808,
     "end_time": "2023-02-01T16:03:12.965603",
     "exception": false,
     "start_time": "2023-02-01T16:03:12.948795",
     "status": "completed"
    },
    "tags": []
   },
   "outputs": [],
   "source": [
    "experiment_folder = os.path.abspath(os.path.join(base_dir, 'experiments', experiment_name))\n",
    "img_folder = os.path.abspath(os.path.join(experiment_folder, 'imgs'))"
   ]
  },
  {
   "cell_type": "markdown",
   "id": "ea9b90fb",
   "metadata": {
    "papermill": {
     "duration": 0.011187,
     "end_time": "2023-02-01T16:03:12.985554",
     "exception": false,
     "start_time": "2023-02-01T16:03:12.974367",
     "status": "completed"
    },
    "tags": []
   },
   "source": [
    "### Defining names, paths and flags"
   ]
  },
  {
   "cell_type": "code",
   "execution_count": 5,
   "id": "45727eef",
   "metadata": {
    "ExecuteTime": {
     "end_time": "2022-09-29T20:54:14.816686Z",
     "start_time": "2022-09-29T20:54:14.806238Z"
    },
    "execution": {
     "iopub.execute_input": "2023-02-01T16:03:13.004315Z",
     "iopub.status.busy": "2023-02-01T16:03:13.004112Z",
     "iopub.status.idle": "2023-02-01T16:03:13.006989Z",
     "shell.execute_reply": "2023-02-01T16:03:13.006525Z"
    },
    "papermill": {
     "duration": 0.013529,
     "end_time": "2023-02-01T16:03:13.008386",
     "exception": false,
     "start_time": "2023-02-01T16:03:12.994857",
     "status": "completed"
    },
    "tags": []
   },
   "outputs": [],
   "source": [
    "# QIIME2 Artifacts folder\n",
    "qiime_folder = os.path.join(experiment_folder, 'qiime-artifacts')\n",
    "\n",
    "# Input - DADA2 Artifacts\n",
    "dada2_tabs_path = os.path.join(qiime_folder, 'dada2-tabs.qza')"
   ]
  },
  {
   "cell_type": "markdown",
   "id": "0999a1b2",
   "metadata": {
    "papermill": {
     "duration": 0.009073,
     "end_time": "2023-02-01T16:03:13.026061",
     "exception": false,
     "start_time": "2023-02-01T16:03:13.016988",
     "status": "completed"
    },
    "tags": []
   },
   "source": [
    "## Step execution\n",
    "\n",
    "### Load input files\n",
    "\n",
    "This Step import the QIIME2 `FeatureTable[Frequency]` Artifact and the `Metadata` file."
   ]
  },
  {
   "cell_type": "code",
   "execution_count": 6,
   "id": "8f299d1a",
   "metadata": {
    "ExecuteTime": {
     "end_time": "2022-09-29T20:54:15.559837Z",
     "start_time": "2022-09-29T20:54:14.830405Z"
    },
    "execution": {
     "iopub.execute_input": "2023-02-01T16:03:13.067461Z",
     "iopub.status.busy": "2023-02-01T16:03:13.067255Z",
     "iopub.status.idle": "2023-02-01T16:03:13.159308Z",
     "shell.execute_reply": "2023-02-01T16:03:13.158834Z"
    },
    "papermill": {
     "duration": 0.103478,
     "end_time": "2023-02-01T16:03:13.161641",
     "exception": false,
     "start_time": "2023-02-01T16:03:13.058163",
     "status": "completed"
    },
    "tags": []
   },
   "outputs": [],
   "source": [
    "#Load Metadata\n",
    "metadata_qa = Metadata.load(metadata_file)\n",
    "\n",
    "#Load FeatureTable[Frequency]\n",
    "tabs = Artifact.load(dada2_tabs_path)\n",
    "tabs_df = tabs.view(Metadata).to_dataframe().T"
   ]
  },
  {
   "cell_type": "markdown",
   "id": "a9a446c4",
   "metadata": {
    "papermill": {
     "duration": 0.008604,
     "end_time": "2023-02-01T16:03:13.185901",
     "exception": false,
     "start_time": "2023-02-01T16:03:13.177297",
     "status": "completed"
    },
    "tags": []
   },
   "source": [
    "# ANCOM\n",
    "\n",
    "Apply Analysis of Composition of Microbiomes (ANCOM) to identify features\n",
    "that are differentially abundant across groups.\n",
    "\n",
    "- [composition add_pseudocount](https://docs.qiime2.org/2022.8/plugins/available/composition/add-pseudocount/): Increment all counts in table by pseudocount.\n",
    "- [composition ancom](https://docs.qiime2.org/2022.8/plugins/available/composition/ancom/): Apply ANCOM to identify features that differ in abundance."
   ]
  },
  {
   "cell_type": "code",
   "execution_count": 7,
   "id": "cda81bf5",
   "metadata": {
    "execution": {
     "iopub.execute_input": "2023-02-01T16:03:13.204244Z",
     "iopub.status.busy": "2023-02-01T16:03:13.203988Z",
     "iopub.status.idle": "2023-02-01T16:03:13.207679Z",
     "shell.execute_reply": "2023-02-01T16:03:13.207171Z"
    },
    "papermill": {
     "duration": 0.014598,
     "end_time": "2023-02-01T16:03:13.209094",
     "exception": false,
     "start_time": "2023-02-01T16:03:13.194496",
     "status": "completed"
    },
    "tags": []
   },
   "outputs": [],
   "source": [
    "# Select class column\n",
    "column = metadata_qa.get_column(class_col)"
   ]
  },
  {
   "cell_type": "code",
   "execution_count": 8,
   "id": "2f023bcc",
   "metadata": {
    "execution": {
     "iopub.execute_input": "2023-02-01T16:03:13.228188Z",
     "iopub.status.busy": "2023-02-01T16:03:13.227944Z",
     "iopub.status.idle": "2023-02-01T16:03:13.295249Z",
     "shell.execute_reply": "2023-02-01T16:03:13.294433Z"
    },
    "papermill": {
     "duration": 0.079173,
     "end_time": "2023-02-01T16:03:13.297767",
     "exception": false,
     "start_time": "2023-02-01T16:03:13.218594",
     "status": "completed"
    },
    "tags": []
   },
   "outputs": [],
   "source": [
    "# Create the pseudocount table\n",
    "composition_tab = add_pseudocount(table = tabs).composition_table"
   ]
  },
  {
   "cell_type": "code",
   "execution_count": 9,
   "id": "2999c2f6",
   "metadata": {
    "execution": {
     "iopub.execute_input": "2023-02-01T16:03:13.324308Z",
     "iopub.status.busy": "2023-02-01T16:03:13.323824Z",
     "iopub.status.idle": "2023-02-01T16:03:13.426549Z",
     "shell.execute_reply": "2023-02-01T16:03:13.426021Z"
    },
    "papermill": {
     "duration": 0.115988,
     "end_time": "2023-02-01T16:03:13.430046",
     "exception": false,
     "start_time": "2023-02-01T16:03:13.314058",
     "status": "completed"
    },
    "tags": []
   },
   "outputs": [
    {
     "name": "stdout",
     "output_type": "stream",
     "text": [
      "Calculating ANCOM with: sqrt mean_difference\n",
      "ERROR: Calculating ANCOM with: sqrt mean_difference\n",
      "All values the `grouping` are the same. This method cannot operate on a grouping vector with only a single group of samples(e.g., there are no 'between' variance because there is only a single group).\n",
      "Calculating ANCOM with: sqrt f_statistic\n",
      "ERROR: Calculating ANCOM with: sqrt f_statistic\n",
      "All values the `grouping` are the same. This method cannot operate on a grouping vector with only a single group of samples(e.g., there are no 'between' variance because there is only a single group).\n",
      "Calculating ANCOM with: log mean_difference\n",
      "ERROR: Calculating ANCOM with: log mean_difference\n",
      "All values the `grouping` are the same. This method cannot operate on a grouping vector with only a single group of samples(e.g., there are no 'between' variance because there is only a single group).\n",
      "Calculating ANCOM with: log f_statistic\n",
      "ERROR: Calculating ANCOM with: log f_statistic\n",
      "All values the `grouping` are the same. This method cannot operate on a grouping vector with only a single group of samples(e.g., there are no 'between' variance because there is only a single group).\n",
      "Calculating ANCOM with: clr mean_difference\n",
      "ERROR: Calculating ANCOM with: clr mean_difference\n",
      "All values the `grouping` are the same. This method cannot operate on a grouping vector with only a single group of samples(e.g., there are no 'between' variance because there is only a single group).\n",
      "Calculating ANCOM with: clr f_statistic\n",
      "ERROR: Calculating ANCOM with: clr f_statistic\n",
      "All values the `grouping` are the same. This method cannot operate on a grouping vector with only a single group of samples(e.g., there are no 'between' variance because there is only a single group).\n"
     ]
    }
   ],
   "source": [
    "# Create visualizations for each parameter combination for the ANCOM  method.\n",
    "transform_functions = ('sqrt', 'log', 'clr')\n",
    "difference_functions = ('mean_difference', 'f_statistic')\n",
    "for t in transform_functions:\n",
    "    for d in difference_functions:\n",
    "        print(f\"Calculating ANCOM with: {t} {d}\")\n",
    "        try:\n",
    "            ancom_viz = ancom(\n",
    "                table = composition_tab, \n",
    "                metadata = column, \n",
    "                transform_function = t, \n",
    "                difference_function = d\n",
    "            ).visualization\n",
    "            view_name = os.path.join(qiime_folder, f'ancom-{t}-{d}.qzv')\n",
    "            ancom_viz.save(view_name)\n",
    "        except Exception as e:\n",
    "            print(f\"ERROR: Calculating ANCOM with: {t} {d}\")\n",
    "            print(e)"
   ]
  }
 ],
 "metadata": {
  "celltoolbar": "Edit Metadata",
  "kernelspec": {
   "display_name": "Python 3 (ipykernel)",
   "language": "python",
   "name": "python3"
  },
  "language_info": {
   "codemirror_mode": {
    "name": "ipython",
    "version": 3
   },
   "file_extension": ".py",
   "mimetype": "text/x-python",
   "name": "python",
   "nbconvert_exporter": "python",
   "pygments_lexer": "ipython3",
   "version": "3.8.12"
  },
  "papermill": {
   "default_parameters": {},
   "duration": 9.203335,
   "end_time": "2023-02-01T16:03:14.164967",
   "environment_variables": {},
   "exception": null,
   "input_path": "nb-templates/step-abundance-analysis.ipynb",
   "output_path": "/home/lauro/nupeb/rede-micro/redemicro-andressa-lbtm/experiments/andressa-01/nb-executed-steps/step-abundance-analysis-andressa-01.ipynb",
   "parameters": {
    "base_dir": "/home/lauro/nupeb/rede-micro/redemicro-andressa-lbtm",
    "class_col": "group-id",
    "classifier_file": "/home/lauro/nupeb/rede-micro/models/silva-138-99-nb-classifier.qza",
    "experiment_name": "andressa",
    "manifest_file": "/home/lauro/nupeb/rede-micro/redemicro-andressa-lbtm/data/manifest.csv",
    "metadata_file": "/home/lauro/nupeb/rede-micro/redemicro-andressa-lbtm/data/metadata.tsv",
    "overlap": 12,
    "phred": 20,
    "replace_files": false,
    "threads": 6,
    "trunc_f": 0,
    "trunc_r": 0
   },
   "start_time": "2023-02-01T16:03:04.961632",
   "version": "2.3.4"
  }
 },
 "nbformat": 4,
 "nbformat_minor": 5
}