{
 "cells": [
  {
   "cell_type": "markdown",
   "id": "0e7f2330",
   "metadata": {
    "ExecuteTime": {
     "end_time": "2022-09-22T19:36:33.828188Z",
     "start_time": "2022-09-22T19:36:33.817323Z"
    },
    "papermill": {
     "duration": 0.016792,
     "end_time": "2022-11-29T22:41:23.374028",
     "exception": false,
     "start_time": "2022-11-29T22:41:23.357236",
     "status": "completed"
    },
    "tags": []
   },
   "source": [
    "### STEP : Diversity Analysis\n",
    "\n",
    "\n",
    "\n",
    "#### Example\n",
    "\n",
    "- [“Moving Pictures” tutorial](https://docs.qiime2.org/2022.8/tutorials/moving-pictures-usage/?highlight=ancom)\n",
    "- [Biostats ANCOM](http://scikit-bio.org/docs/0.4.2/generated/generated/skbio.stats.composition.ancom.html)\n",
    "\n",
    "\n",
    "#### Methods\n",
    "- [composition](https://docs.qiime2.org/2022.8/plugins/available/composition/)\n",
    "- [composition add_pseudocount](https://docs.qiime2.org/2022.8/plugins/available/composition/add-pseudocount/): Increment all counts in table by pseudocount.\n",
    "- [composition ancom](https://docs.qiime2.org/2022.8/plugins/available/composition/ancom/): Apply ANCOM to identify features that differ in abundance."
   ]
  },
  {
   "cell_type": "markdown",
   "id": "843debbf",
   "metadata": {
    "papermill": {
     "duration": 0.030108,
     "end_time": "2022-11-29T22:41:23.413859",
     "exception": false,
     "start_time": "2022-11-29T22:41:23.383751",
     "status": "completed"
    },
    "tags": []
   },
   "source": [
    "## Setup and settings"
   ]
  },
  {
   "cell_type": "code",
   "execution_count": 1,
   "id": "965e28e5",
   "metadata": {
    "ExecuteTime": {
     "end_time": "2022-11-03T20:35:26.198671Z",
     "start_time": "2022-11-03T20:35:06.473173Z"
    },
    "execution": {
     "iopub.execute_input": "2022-11-29T22:41:23.433873Z",
     "iopub.status.busy": "2022-11-29T22:41:23.433418Z",
     "iopub.status.idle": "2022-11-29T22:41:30.108502Z",
     "shell.execute_reply": "2022-11-29T22:41:30.107744Z"
    },
    "papermill": {
     "duration": 6.688848,
     "end_time": "2022-11-29T22:41:30.111727",
     "exception": false,
     "start_time": "2022-11-29T22:41:23.422879",
     "status": "completed"
    },
    "tags": []
   },
   "outputs": [],
   "source": [
    "# Importing packages\n",
    "import os\n",
    "import pandas as pd\n",
    "from qiime2 import Artifact\n",
    "from qiime2 import Visualization\n",
    "from qiime2 import Metadata\n",
    "\n",
    "from qiime2.plugins.composition.visualizers import ancom\n",
    "from qiime2.plugins.composition.methods import add_pseudocount\n",
    "\n",
    "%matplotlib inline"
   ]
  },
  {
   "cell_type": "markdown",
   "id": "530ceb60",
   "metadata": {
    "papermill": {
     "duration": 0.007764,
     "end_time": "2022-11-29T22:41:30.135475",
     "exception": false,
     "start_time": "2022-11-29T22:41:30.127711",
     "status": "completed"
    },
    "tags": []
   },
   "source": [
    "### Receiving the parameters\n",
    "\n",
    "The following cell can receive parameters using the [papermill](https://papermill.readthedocs.io/en/latest/) tool."
   ]
  },
  {
   "cell_type": "code",
   "execution_count": 2,
   "id": "18d874ea",
   "metadata": {
    "ExecuteTime": {
     "end_time": "2022-09-29T20:54:14.793270Z",
     "start_time": "2022-09-29T20:54:14.789367Z"
    },
    "execution": {
     "iopub.execute_input": "2022-11-29T22:41:30.170730Z",
     "iopub.status.busy": "2022-11-29T22:41:30.170556Z",
     "iopub.status.idle": "2022-11-29T22:41:30.173896Z",
     "shell.execute_reply": "2022-11-29T22:41:30.173427Z"
    },
    "papermill": {
     "duration": 0.013629,
     "end_time": "2022-11-29T22:41:30.175308",
     "exception": false,
     "start_time": "2022-11-29T22:41:30.161679",
     "status": "completed"
    },
    "tags": [
     "parameters"
    ]
   },
   "outputs": [],
   "source": [
    "metadata_file = '/home/lauro/nupeb/rede-micro/redemicro-miliane-nutri/data/raw/metadata/miliane-metadata-CxAC.tsv'\n",
    "base_dir = os.path.join('/', 'home', 'lauro', 'nupeb', 'rede-micro', 'redemicro-miliane-nutri')\n",
    "experiment_name = 'miliane-CxAC-trim'\n",
    "class_col = 'group-id'\n",
    "replace_files = False"
   ]
  },
  {
   "cell_type": "code",
   "execution_count": 3,
   "id": "9aaa6575",
   "metadata": {
    "execution": {
     "iopub.execute_input": "2022-11-29T22:41:30.192199Z",
     "iopub.status.busy": "2022-11-29T22:41:30.192004Z",
     "iopub.status.idle": "2022-11-29T22:41:30.195493Z",
     "shell.execute_reply": "2022-11-29T22:41:30.195031Z"
    },
    "papermill": {
     "duration": 0.013699,
     "end_time": "2022-11-29T22:41:30.197017",
     "exception": false,
     "start_time": "2022-11-29T22:41:30.183318",
     "status": "completed"
    },
    "tags": [
     "injected-parameters"
    ]
   },
   "outputs": [],
   "source": [
    "# Parameters\n",
    "experiment_name = \"andressa\"\n",
    "base_dir = \"/home/lauro/nupeb/rede-micro/redemicro-andressa-lbtm\"\n",
    "manifest_file = \"/home/lauro/nupeb/rede-micro/redemicro-andressa-lbtm/data/manifest.csv\"\n",
    "metadata_file = \"/home/lauro/nupeb/rede-micro/redemicro-andressa-lbtm/data/metadata.tsv\"\n",
    "class_col = \"group-id\"\n",
    "classifier_file = \"/home/lauro/nupeb/dados_brutos_rede_genoma/16S_classifiers_qiime2/silva-138-99-nb-classifier.qza\"\n",
    "replace_files = False\n",
    "phred = 20\n",
    "trunc_f = 0\n",
    "trunc_r = 0\n",
    "overlap = 12\n",
    "threads = 6\n",
    "trim = {\n",
    "    \"overlap\": 8,\n",
    "    \"forward_primer\": \"CCTACGGGRSGCAGCAG\",\n",
    "    \"reverse_primer\": \"GGACTACHVGGGTWTCTAAT\",\n",
    "}\n"
   ]
  },
  {
   "cell_type": "code",
   "execution_count": 4,
   "id": "f38617d9",
   "metadata": {
    "ExecuteTime": {
     "end_time": "2022-09-29T20:54:14.804575Z",
     "start_time": "2022-09-29T20:54:14.794927Z"
    },
    "execution": {
     "iopub.execute_input": "2022-11-29T22:41:30.238818Z",
     "iopub.status.busy": "2022-11-29T22:41:30.238622Z",
     "iopub.status.idle": "2022-11-29T22:41:30.241464Z",
     "shell.execute_reply": "2022-11-29T22:41:30.241030Z"
    },
    "papermill": {
     "duration": 0.01307,
     "end_time": "2022-11-29T22:41:30.242880",
     "exception": false,
     "start_time": "2022-11-29T22:41:30.229810",
     "status": "completed"
    },
    "tags": []
   },
   "outputs": [],
   "source": [
    "experiment_folder = os.path.abspath(os.path.join(base_dir, 'experiments', experiment_name))\n",
    "img_folder = os.path.abspath(os.path.join(experiment_folder, 'imgs'))"
   ]
  },
  {
   "cell_type": "markdown",
   "id": "ea9b90fb",
   "metadata": {
    "papermill": {
     "duration": 0.008291,
     "end_time": "2022-11-29T22:41:30.259301",
     "exception": false,
     "start_time": "2022-11-29T22:41:30.251010",
     "status": "completed"
    },
    "tags": []
   },
   "source": [
    "### Defining names, paths and flags"
   ]
  },
  {
   "cell_type": "code",
   "execution_count": 5,
   "id": "45727eef",
   "metadata": {
    "ExecuteTime": {
     "end_time": "2022-09-29T20:54:14.816686Z",
     "start_time": "2022-09-29T20:54:14.806238Z"
    },
    "execution": {
     "iopub.execute_input": "2022-11-29T22:41:30.278893Z",
     "iopub.status.busy": "2022-11-29T22:41:30.278727Z",
     "iopub.status.idle": "2022-11-29T22:41:30.281597Z",
     "shell.execute_reply": "2022-11-29T22:41:30.281133Z"
    },
    "papermill": {
     "duration": 0.013156,
     "end_time": "2022-11-29T22:41:30.282985",
     "exception": false,
     "start_time": "2022-11-29T22:41:30.269829",
     "status": "completed"
    },
    "tags": []
   },
   "outputs": [],
   "source": [
    "# QIIME2 Artifacts folder\n",
    "qiime_folder = os.path.join(experiment_folder, 'qiime-artifacts')\n",
    "\n",
    "# Input - DADA2 Artifacts\n",
    "dada2_tabs_path = os.path.join(qiime_folder, 'dada2-tabs.qza')"
   ]
  },
  {
   "cell_type": "markdown",
   "id": "0999a1b2",
   "metadata": {
    "papermill": {
     "duration": 0.011748,
     "end_time": "2022-11-29T22:41:30.303056",
     "exception": false,
     "start_time": "2022-11-29T22:41:30.291308",
     "status": "completed"
    },
    "tags": []
   },
   "source": [
    "## Step execution\n",
    "\n",
    "### Load input files\n",
    "\n",
    "This Step import the QIIME2 `FeatureTable[Frequency]` Artifact and the `Metadata` file."
   ]
  },
  {
   "cell_type": "code",
   "execution_count": 6,
   "id": "8f299d1a",
   "metadata": {
    "ExecuteTime": {
     "end_time": "2022-09-29T20:54:15.559837Z",
     "start_time": "2022-09-29T20:54:14.830405Z"
    },
    "execution": {
     "iopub.execute_input": "2022-11-29T22:41:30.319964Z",
     "iopub.status.busy": "2022-11-29T22:41:30.319748Z",
     "iopub.status.idle": "2022-11-29T22:41:30.561748Z",
     "shell.execute_reply": "2022-11-29T22:41:30.561117Z"
    },
    "papermill": {
     "duration": 0.253001,
     "end_time": "2022-11-29T22:41:30.564408",
     "exception": false,
     "start_time": "2022-11-29T22:41:30.311407",
     "status": "completed"
    },
    "tags": []
   },
   "outputs": [],
   "source": [
    "#Load Metadata\n",
    "metadata_qa = Metadata.load(metadata_file)\n",
    "\n",
    "#Load FeatureTable[Frequency]\n",
    "tabs = Artifact.load(dada2_tabs_path)\n",
    "tabs_df = tabs.view(Metadata).to_dataframe().T"
   ]
  },
  {
   "cell_type": "markdown",
   "id": "a9a446c4",
   "metadata": {
    "papermill": {
     "duration": 0.007534,
     "end_time": "2022-11-29T22:41:30.587015",
     "exception": false,
     "start_time": "2022-11-29T22:41:30.579481",
     "status": "completed"
    },
    "tags": []
   },
   "source": [
    "# ANCOM\n",
    "\n",
    "Apply Analysis of Composition of Microbiomes (ANCOM) to identify features\n",
    "that are differentially abundant across groups.\n",
    "\n",
    "- [composition add_pseudocount](https://docs.qiime2.org/2022.8/plugins/available/composition/add-pseudocount/): Increment all counts in table by pseudocount.\n",
    "- [composition ancom](https://docs.qiime2.org/2022.8/plugins/available/composition/ancom/): Apply ANCOM to identify features that differ in abundance."
   ]
  },
  {
   "cell_type": "code",
   "execution_count": 7,
   "id": "cda81bf5",
   "metadata": {
    "execution": {
     "iopub.execute_input": "2022-11-29T22:41:30.602868Z",
     "iopub.status.busy": "2022-11-29T22:41:30.602702Z",
     "iopub.status.idle": "2022-11-29T22:41:30.606146Z",
     "shell.execute_reply": "2022-11-29T22:41:30.605654Z"
    },
    "papermill": {
     "duration": 0.013068,
     "end_time": "2022-11-29T22:41:30.607535",
     "exception": false,
     "start_time": "2022-11-29T22:41:30.594467",
     "status": "completed"
    },
    "tags": []
   },
   "outputs": [],
   "source": [
    "# Select class column\n",
    "column = metadata_qa.get_column(class_col)"
   ]
  },
  {
   "cell_type": "code",
   "execution_count": 8,
   "id": "2f023bcc",
   "metadata": {
    "execution": {
     "iopub.execute_input": "2022-11-29T22:41:30.624127Z",
     "iopub.status.busy": "2022-11-29T22:41:30.623854Z",
     "iopub.status.idle": "2022-11-29T22:41:30.715873Z",
     "shell.execute_reply": "2022-11-29T22:41:30.715388Z"
    },
    "papermill": {
     "duration": 0.102819,
     "end_time": "2022-11-29T22:41:30.718130",
     "exception": false,
     "start_time": "2022-11-29T22:41:30.615311",
     "status": "completed"
    },
    "tags": []
   },
   "outputs": [],
   "source": [
    "# Create the pseudocount table\n",
    "composition_tab = add_pseudocount(table = tabs).composition_table"
   ]
  },
  {
   "cell_type": "code",
   "execution_count": 9,
   "id": "2999c2f6",
   "metadata": {
    "execution": {
     "iopub.execute_input": "2022-11-29T22:41:30.742484Z",
     "iopub.status.busy": "2022-11-29T22:41:30.742279Z",
     "iopub.status.idle": "2022-11-29T22:41:30.860693Z",
     "shell.execute_reply": "2022-11-29T22:41:30.860172Z"
    },
    "papermill": {
     "duration": 0.129571,
     "end_time": "2022-11-29T22:41:30.863412",
     "exception": false,
     "start_time": "2022-11-29T22:41:30.733841",
     "status": "completed"
    },
    "tags": []
   },
   "outputs": [
    {
     "name": "stdout",
     "output_type": "stream",
     "text": [
      "Calculating ANCOM with: sqrt mean_difference\n",
      "ERROR: Calculating ANCOM with: sqrt mean_difference\n",
      "All values the `grouping` are the same. This method cannot operate on a grouping vector with only a single group of samples(e.g., there are no 'between' variance because there is only a single group).\n",
      "Calculating ANCOM with: sqrt f_statistic\n",
      "ERROR: Calculating ANCOM with: sqrt f_statistic\n",
      "All values the `grouping` are the same. This method cannot operate on a grouping vector with only a single group of samples(e.g., there are no 'between' variance because there is only a single group).\n",
      "Calculating ANCOM with: log mean_difference\n",
      "ERROR: Calculating ANCOM with: log mean_difference\n",
      "All values the `grouping` are the same. This method cannot operate on a grouping vector with only a single group of samples(e.g., there are no 'between' variance because there is only a single group).\n",
      "Calculating ANCOM with: log f_statistic\n",
      "ERROR: Calculating ANCOM with: log f_statistic\n",
      "All values the `grouping` are the same. This method cannot operate on a grouping vector with only a single group of samples(e.g., there are no 'between' variance because there is only a single group).\n",
      "Calculating ANCOM with: clr mean_difference\n",
      "ERROR: Calculating ANCOM with: clr mean_difference\n",
      "All values the `grouping` are the same. This method cannot operate on a grouping vector with only a single group of samples(e.g., there are no 'between' variance because there is only a single group).\n",
      "Calculating ANCOM with: clr f_statistic\n",
      "ERROR: Calculating ANCOM with: clr f_statistic\n",
      "All values the `grouping` are the same. This method cannot operate on a grouping vector with only a single group of samples(e.g., there are no 'between' variance because there is only a single group).\n"
     ]
    }
   ],
   "source": [
    "# Create visualizations for each parameter combination for the ANCOM  method.\n",
    "transform_functions = ('sqrt', 'log', 'clr')\n",
    "difference_functions = ('mean_difference', 'f_statistic')\n",
    "for t in transform_functions:\n",
    "    for d in difference_functions:\n",
    "        print(f\"Calculating ANCOM with: {t} {d}\")\n",
    "        try:\n",
    "            ancom_viz = ancom(\n",
    "                table = composition_tab, \n",
    "                metadata = column, \n",
    "                transform_function = t, \n",
    "                difference_function = d\n",
    "            ).visualization\n",
    "            view_name = os.path.join(qiime_folder, f'ancom-{t}-{d}.qzv')\n",
    "            ancom_viz.save(view_name)\n",
    "        except Exception as e:\n",
    "            print(f\"ERROR: Calculating ANCOM with: {t} {d}\")\n",
    "            print(e)"
   ]
  }
 ],
 "metadata": {
  "celltoolbar": "Edit Metadata",
  "kernelspec": {
   "display_name": "Python 3 (ipykernel)",
   "language": "python",
   "name": "python3"
  },
  "language_info": {
   "codemirror_mode": {
    "name": "ipython",
    "version": 3
   },
   "file_extension": ".py",
   "mimetype": "text/x-python",
   "name": "python",
   "nbconvert_exporter": "python",
   "pygments_lexer": "ipython3",
   "version": "3.8.12"
  },
  "papermill": {
   "default_parameters": {},
   "duration": 9.798496,
   "end_time": "2022-11-29T22:41:31.595705",
   "environment_variables": {},
   "exception": null,
   "input_path": "nb-templates/step-abundance-analysis.ipynb",
   "output_path": "/home/lauro/nupeb/rede-micro/redemicro-andressa-lbtm/experiments/andressa-01/nb-executed-steps/step-abundance-analysis-andressa-01.ipynb",
   "parameters": {
    "base_dir": "/home/lauro/nupeb/rede-micro/redemicro-andressa-lbtm",
    "class_col": "group-id",
    "classifier_file": "/home/lauro/nupeb/dados_brutos_rede_genoma/16S_classifiers_qiime2/silva-138-99-nb-classifier.qza",
    "experiment_name": "andressa",
    "manifest_file": "/home/lauro/nupeb/rede-micro/redemicro-andressa-lbtm/data/manifest.csv",
    "metadata_file": "/home/lauro/nupeb/rede-micro/redemicro-andressa-lbtm/data/metadata.tsv",
    "overlap": 12,
    "phred": 20,
    "replace_files": false,
    "threads": 6,
    "trim": {
     "forward_primer": "CCTACGGGRSGCAGCAG",
     "overlap": 8,
     "reverse_primer": "GGACTACHVGGGTWTCTAAT"
    },
    "trunc_f": 0,
    "trunc_r": 0
   },
   "start_time": "2022-11-29T22:41:21.797209",
   "version": "2.3.4"
  }
 },
 "nbformat": 4,
 "nbformat_minor": 5
}