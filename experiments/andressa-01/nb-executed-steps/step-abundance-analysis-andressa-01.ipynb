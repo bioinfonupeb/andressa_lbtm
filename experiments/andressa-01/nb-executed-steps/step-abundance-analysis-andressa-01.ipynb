{
 "cells": [
  {
   "cell_type": "markdown",
   "id": "fd1f6db3",
   "metadata": {
    "tags": [
     "papermill-error-cell-tag"
    ]
   },
   "source": [
    "<span style=\"color:red; font-family:Helvetica Neue, Helvetica, Arial, sans-serif; font-size:2em;\">An Exception was encountered at '<a href=\"#papermill-error-cell\">In [7]</a>'.</span>"
   ]
  },
  {
   "cell_type": "markdown",
   "id": "0e7f2330",
   "metadata": {
    "ExecuteTime": {
     "end_time": "2022-09-22T19:36:33.828188Z",
     "start_time": "2022-09-22T19:36:33.817323Z"
    },
    "papermill": {
     "duration": 0.017064,
     "end_time": "2023-02-10T19:22:35.428175",
     "exception": false,
     "start_time": "2023-02-10T19:22:35.411111",
     "status": "completed"
    },
    "tags": []
   },
   "source": [
    "### STEP : Diversity Analysis\n",
    "\n",
    "\n",
    "\n",
    "#### Example\n",
    "\n",
    "- [“Moving Pictures” tutorial](https://docs.qiime2.org/2022.8/tutorials/moving-pictures-usage/?highlight=ancom)\n",
    "- [Biostats ANCOM](http://scikit-bio.org/docs/0.4.2/generated/generated/skbio.stats.composition.ancom.html)\n",
    "\n",
    "\n",
    "#### Methods\n",
    "- [composition](https://docs.qiime2.org/2022.8/plugins/available/composition/)\n",
    "- [composition add_pseudocount](https://docs.qiime2.org/2022.8/plugins/available/composition/add-pseudocount/): Increment all counts in table by pseudocount.\n",
    "- [composition ancom](https://docs.qiime2.org/2022.8/plugins/available/composition/ancom/): Apply ANCOM to identify features that differ in abundance."
   ]
  },
  {
   "cell_type": "markdown",
   "id": "843debbf",
   "metadata": {
    "papermill": {
     "duration": 0.036775,
     "end_time": "2023-02-10T19:22:35.474801",
     "exception": false,
     "start_time": "2023-02-10T19:22:35.438026",
     "status": "completed"
    },
    "tags": []
   },
   "source": [
    "## Setup and settings"
   ]
  },
  {
   "cell_type": "code",
   "execution_count": 1,
   "id": "965e28e5",
   "metadata": {
    "ExecuteTime": {
     "end_time": "2022-11-03T20:35:26.198671Z",
     "start_time": "2022-11-03T20:35:06.473173Z"
    },
    "execution": {
     "iopub.execute_input": "2023-02-10T19:22:35.495054Z",
     "iopub.status.busy": "2023-02-10T19:22:35.494608Z",
     "iopub.status.idle": "2023-02-10T19:22:41.732398Z",
     "shell.execute_reply": "2023-02-10T19:22:41.731770Z"
    },
    "papermill": {
     "duration": 6.251686,
     "end_time": "2023-02-10T19:22:41.735688",
     "exception": false,
     "start_time": "2023-02-10T19:22:35.484002",
     "status": "completed"
    },
    "tags": []
   },
   "outputs": [],
   "source": [
    "# Importing packages\n",
    "import os\n",
    "import pandas as pd\n",
    "from qiime2 import Artifact\n",
    "from qiime2 import Visualization\n",
    "from qiime2 import Metadata\n",
    "\n",
    "from qiime2.plugins.composition.visualizers import ancom\n",
    "from qiime2.plugins.composition.methods import add_pseudocount\n",
    "\n",
    "%matplotlib inline"
   ]
  },
  {
   "cell_type": "markdown",
   "id": "530ceb60",
   "metadata": {
    "papermill": {
     "duration": 0.095199,
     "end_time": "2023-02-10T19:22:41.844334",
     "exception": false,
     "start_time": "2023-02-10T19:22:41.749135",
     "status": "completed"
    },
    "tags": []
   },
   "source": [
    "### Receiving the parameters\n",
    "\n",
    "The following cell can receive parameters using the [papermill](https://papermill.readthedocs.io/en/latest/) tool."
   ]
  },
  {
   "cell_type": "code",
   "execution_count": 2,
   "id": "18d874ea",
   "metadata": {
    "ExecuteTime": {
     "end_time": "2022-09-29T20:54:14.793270Z",
     "start_time": "2022-09-29T20:54:14.789367Z"
    },
    "execution": {
     "iopub.execute_input": "2023-02-10T19:22:41.883652Z",
     "iopub.status.busy": "2023-02-10T19:22:41.883412Z",
     "iopub.status.idle": "2023-02-10T19:22:41.886612Z",
     "shell.execute_reply": "2023-02-10T19:22:41.886130Z"
    },
    "papermill": {
     "duration": 0.021436,
     "end_time": "2023-02-10T19:22:41.888083",
     "exception": false,
     "start_time": "2023-02-10T19:22:41.866647",
     "status": "completed"
    },
    "tags": [
     "parameters"
    ]
   },
   "outputs": [],
   "source": [
    "metadata_file = '/home/lauro/nupeb/rede-micro/redemicro-miliane-nutri/data/raw/metadata/miliane-metadata-CxAC.tsv'\n",
    "base_dir = os.path.join('/', 'home', 'lauro', 'nupeb', 'rede-micro', 'redemicro-miliane-nutri')\n",
    "experiment_name = 'miliane-CxAC-trim'\n",
    "class_col = 'group-id'\n",
    "replace_files = False"
   ]
  },
  {
   "cell_type": "code",
   "execution_count": 3,
   "id": "a6e34a63",
   "metadata": {
    "execution": {
     "iopub.execute_input": "2023-02-10T19:22:41.905787Z",
     "iopub.status.busy": "2023-02-10T19:22:41.905602Z",
     "iopub.status.idle": "2023-02-10T19:22:41.908948Z",
     "shell.execute_reply": "2023-02-10T19:22:41.908416Z"
    },
    "papermill": {
     "duration": 0.013877,
     "end_time": "2023-02-10T19:22:41.910399",
     "exception": false,
     "start_time": "2023-02-10T19:22:41.896522",
     "status": "completed"
    },
    "tags": [
     "injected-parameters"
    ]
   },
   "outputs": [],
   "source": [
    "# Parameters\n",
    "experiment_name = \"andressa\"\n",
    "base_dir = \"/home/lauro/nupeb/rede-micro/redemicro-andressa-lbtm\"\n",
    "manifest_file = \"/home/lauro/nupeb/rede-micro/redemicro-andressa-lbtm/data/manifest.csv\"\n",
    "metadata_file = \"/home/lauro/nupeb/rede-micro/redemicro-andressa-lbtm/data/metadata.tsv\"\n",
    "class_col = \"group-id\"\n",
    "classifier_file = \"/home/lauro/nupeb/rede-micro/models/silva-138-99-nb-classifier.qza\"\n",
    "replace_files = False\n",
    "phred = 20\n",
    "trunc_f = 0\n",
    "trunc_r = 0\n",
    "overlap = 12\n",
    "threads = 6\n"
   ]
  },
  {
   "cell_type": "code",
   "execution_count": 4,
   "id": "f38617d9",
   "metadata": {
    "ExecuteTime": {
     "end_time": "2022-09-29T20:54:14.804575Z",
     "start_time": "2022-09-29T20:54:14.794927Z"
    },
    "execution": {
     "iopub.execute_input": "2023-02-10T19:22:41.931886Z",
     "iopub.status.busy": "2023-02-10T19:22:41.931637Z",
     "iopub.status.idle": "2023-02-10T19:22:41.935281Z",
     "shell.execute_reply": "2023-02-10T19:22:41.934718Z"
    },
    "papermill": {
     "duration": 0.018003,
     "end_time": "2023-02-10T19:22:41.936781",
     "exception": false,
     "start_time": "2023-02-10T19:22:41.918778",
     "status": "completed"
    },
    "tags": []
   },
   "outputs": [],
   "source": [
    "experiment_folder = os.path.abspath(os.path.join(base_dir, 'experiments', experiment_name))\n",
    "img_folder = os.path.abspath(os.path.join(experiment_folder, 'imgs'))"
   ]
  },
  {
   "cell_type": "markdown",
   "id": "ea9b90fb",
   "metadata": {
    "papermill": {
     "duration": 0.008419,
     "end_time": "2023-02-10T19:22:41.953679",
     "exception": false,
     "start_time": "2023-02-10T19:22:41.945260",
     "status": "completed"
    },
    "tags": []
   },
   "source": [
    "### Defining names, paths and flags"
   ]
  },
  {
   "cell_type": "code",
   "execution_count": 5,
   "id": "45727eef",
   "metadata": {
    "ExecuteTime": {
     "end_time": "2022-09-29T20:54:14.816686Z",
     "start_time": "2022-09-29T20:54:14.806238Z"
    },
    "execution": {
     "iopub.execute_input": "2023-02-10T19:22:41.971635Z",
     "iopub.status.busy": "2023-02-10T19:22:41.971344Z",
     "iopub.status.idle": "2023-02-10T19:22:41.975270Z",
     "shell.execute_reply": "2023-02-10T19:22:41.974653Z"
    },
    "papermill": {
     "duration": 0.014534,
     "end_time": "2023-02-10T19:22:41.976742",
     "exception": false,
     "start_time": "2023-02-10T19:22:41.962208",
     "status": "completed"
    },
    "tags": []
   },
   "outputs": [],
   "source": [
    "# QIIME2 Artifacts folder\n",
    "qiime_folder = os.path.join(experiment_folder, 'qiime-artifacts')\n",
    "\n",
    "# Input - DADA2 Artifacts\n",
    "dada2_tabs_path = os.path.join(qiime_folder, 'dada2-tabs.qza')"
   ]
  },
  {
   "cell_type": "markdown",
   "id": "0999a1b2",
   "metadata": {
    "papermill": {
     "duration": 0.008608,
     "end_time": "2023-02-10T19:22:41.994147",
     "exception": false,
     "start_time": "2023-02-10T19:22:41.985539",
     "status": "completed"
    },
    "tags": []
   },
   "source": [
    "## Step execution\n",
    "\n",
    "### Load input files\n",
    "\n",
    "This Step import the QIIME2 `FeatureTable[Frequency]` Artifact and the `Metadata` file."
   ]
  },
  {
   "cell_type": "code",
   "execution_count": 6,
   "id": "8f299d1a",
   "metadata": {
    "ExecuteTime": {
     "end_time": "2022-09-29T20:54:15.559837Z",
     "start_time": "2022-09-29T20:54:14.830405Z"
    },
    "execution": {
     "iopub.execute_input": "2023-02-10T19:22:42.012232Z",
     "iopub.status.busy": "2023-02-10T19:22:42.011897Z",
     "iopub.status.idle": "2023-02-10T19:22:42.113379Z",
     "shell.execute_reply": "2023-02-10T19:22:42.112792Z"
    },
    "papermill": {
     "duration": 0.112847,
     "end_time": "2023-02-10T19:22:42.115402",
     "exception": false,
     "start_time": "2023-02-10T19:22:42.002555",
     "status": "completed"
    },
    "tags": []
   },
   "outputs": [],
   "source": [
    "#Load Metadata\n",
    "metadata_qa = Metadata.load(metadata_file)\n",
    "\n",
    "#Load FeatureTable[Frequency]\n",
    "tabs = Artifact.load(dada2_tabs_path)\n",
    "tabs_df = tabs.view(Metadata).to_dataframe().T"
   ]
  },
  {
   "cell_type": "markdown",
   "id": "a9a446c4",
   "metadata": {
    "papermill": {
     "duration": 0.008536,
     "end_time": "2023-02-10T19:22:42.138518",
     "exception": false,
     "start_time": "2023-02-10T19:22:42.129982",
     "status": "completed"
    },
    "tags": []
   },
   "source": [
    "# ANCOM\n",
    "\n",
    "Apply Analysis of Composition of Microbiomes (ANCOM) to identify features\n",
    "that are differentially abundant across groups.\n",
    "\n",
    "- [composition add_pseudocount](https://docs.qiime2.org/2022.8/plugins/available/composition/add-pseudocount/): Increment all counts in table by pseudocount.\n",
    "- [composition ancom](https://docs.qiime2.org/2022.8/plugins/available/composition/ancom/): Apply ANCOM to identify features that differ in abundance."
   ]
  },
  {
   "cell_type": "markdown",
   "id": "96c824e0",
   "metadata": {
    "tags": [
     "papermill-error-cell-tag"
    ]
   },
   "source": [
    "<span id=\"papermill-error-cell\" style=\"color:red; font-family:Helvetica Neue, Helvetica, Arial, sans-serif; font-size:2em;\">Execution using papermill encountered an exception here and stopped:</span>"
   ]
  },
  {
   "cell_type": "code",
   "execution_count": 7,
   "id": "cda81bf5",
   "metadata": {
    "execution": {
     "iopub.execute_input": "2023-02-10T19:22:42.170500Z",
     "iopub.status.busy": "2023-02-10T19:22:42.170311Z",
     "iopub.status.idle": "2023-02-10T19:22:44.403076Z",
     "shell.execute_reply": "2023-02-10T19:22:44.402241Z"
    },
    "papermill": {
     "duration": 2.260003,
     "end_time": "2023-02-10T19:22:44.406999",
     "exception": true,
     "start_time": "2023-02-10T19:22:42.146996",
     "status": "failed"
    },
    "tags": []
   },
   "outputs": [
    {
     "ename": "ValueError",
     "evalue": "'group-id' is not a column in the metadata. Available columns: 'file-id', 'state-name', 'state-id', 'replic-id'",
     "output_type": "error",
     "traceback": [
      "\u001b[0;31m---------------------------------------------------------------------------\u001b[0m",
      "\u001b[0;31mKeyError\u001b[0m                                  Traceback (most recent call last)",
      "File \u001b[0;32m~/anaconda3/envs/qiime2-2022.2/lib/python3.8/site-packages/pandas/core/indexes/base.py:3081\u001b[0m, in \u001b[0;36mIndex.get_loc\u001b[0;34m(self, key, method, tolerance)\u001b[0m\n\u001b[1;32m   3080\u001b[0m \u001b[38;5;28;01mtry\u001b[39;00m:\n\u001b[0;32m-> 3081\u001b[0m     \u001b[38;5;28;01mreturn\u001b[39;00m \u001b[38;5;28;43mself\u001b[39;49m\u001b[38;5;241;43m.\u001b[39;49m\u001b[43m_engine\u001b[49m\u001b[38;5;241;43m.\u001b[39;49m\u001b[43mget_loc\u001b[49m\u001b[43m(\u001b[49m\u001b[43mcasted_key\u001b[49m\u001b[43m)\u001b[49m\n\u001b[1;32m   3082\u001b[0m \u001b[38;5;28;01mexcept\u001b[39;00m \u001b[38;5;167;01mKeyError\u001b[39;00m \u001b[38;5;28;01mas\u001b[39;00m err:\n",
      "File \u001b[0;32mpandas/_libs/index.pyx:70\u001b[0m, in \u001b[0;36mpandas._libs.index.IndexEngine.get_loc\u001b[0;34m()\u001b[0m\n",
      "File \u001b[0;32mpandas/_libs/index.pyx:101\u001b[0m, in \u001b[0;36mpandas._libs.index.IndexEngine.get_loc\u001b[0;34m()\u001b[0m\n",
      "File \u001b[0;32mpandas/_libs/hashtable_class_helper.pxi:4554\u001b[0m, in \u001b[0;36mpandas._libs.hashtable.PyObjectHashTable.get_item\u001b[0;34m()\u001b[0m\n",
      "File \u001b[0;32mpandas/_libs/hashtable_class_helper.pxi:4562\u001b[0m, in \u001b[0;36mpandas._libs.hashtable.PyObjectHashTable.get_item\u001b[0;34m()\u001b[0m\n",
      "\u001b[0;31mKeyError\u001b[0m: 'group-id'",
      "\nThe above exception was the direct cause of the following exception:\n",
      "\u001b[0;31mKeyError\u001b[0m                                  Traceback (most recent call last)",
      "File \u001b[0;32m~/anaconda3/envs/qiime2-2022.2/lib/python3.8/site-packages/qiime2/metadata/metadata.py:562\u001b[0m, in \u001b[0;36mMetadata.get_column\u001b[0;34m(self, name)\u001b[0m\n\u001b[1;32m    561\u001b[0m \u001b[38;5;28;01mtry\u001b[39;00m:\n\u001b[0;32m--> 562\u001b[0m     series \u001b[38;5;241m=\u001b[39m \u001b[38;5;28;43mself\u001b[39;49m\u001b[38;5;241;43m.\u001b[39;49m\u001b[43m_dataframe\u001b[49m\u001b[43m[\u001b[49m\u001b[43mname\u001b[49m\u001b[43m]\u001b[49m\n\u001b[1;32m    563\u001b[0m \u001b[38;5;28;01mexcept\u001b[39;00m \u001b[38;5;167;01mKeyError\u001b[39;00m:\n",
      "File \u001b[0;32m~/anaconda3/envs/qiime2-2022.2/lib/python3.8/site-packages/pandas/core/frame.py:3024\u001b[0m, in \u001b[0;36mDataFrame.__getitem__\u001b[0;34m(self, key)\u001b[0m\n\u001b[1;32m   3023\u001b[0m     \u001b[38;5;28;01mreturn\u001b[39;00m \u001b[38;5;28mself\u001b[39m\u001b[38;5;241m.\u001b[39m_getitem_multilevel(key)\n\u001b[0;32m-> 3024\u001b[0m indexer \u001b[38;5;241m=\u001b[39m \u001b[38;5;28;43mself\u001b[39;49m\u001b[38;5;241;43m.\u001b[39;49m\u001b[43mcolumns\u001b[49m\u001b[38;5;241;43m.\u001b[39;49m\u001b[43mget_loc\u001b[49m\u001b[43m(\u001b[49m\u001b[43mkey\u001b[49m\u001b[43m)\u001b[49m\n\u001b[1;32m   3025\u001b[0m \u001b[38;5;28;01mif\u001b[39;00m is_integer(indexer):\n",
      "File \u001b[0;32m~/anaconda3/envs/qiime2-2022.2/lib/python3.8/site-packages/pandas/core/indexes/base.py:3083\u001b[0m, in \u001b[0;36mIndex.get_loc\u001b[0;34m(self, key, method, tolerance)\u001b[0m\n\u001b[1;32m   3082\u001b[0m     \u001b[38;5;28;01mexcept\u001b[39;00m \u001b[38;5;167;01mKeyError\u001b[39;00m \u001b[38;5;28;01mas\u001b[39;00m err:\n\u001b[0;32m-> 3083\u001b[0m         \u001b[38;5;28;01mraise\u001b[39;00m \u001b[38;5;167;01mKeyError\u001b[39;00m(key) \u001b[38;5;28;01mfrom\u001b[39;00m \u001b[38;5;21;01merr\u001b[39;00m\n\u001b[1;32m   3085\u001b[0m \u001b[38;5;28;01mif\u001b[39;00m tolerance \u001b[38;5;129;01mis\u001b[39;00m \u001b[38;5;129;01mnot\u001b[39;00m \u001b[38;5;28;01mNone\u001b[39;00m:\n",
      "\u001b[0;31mKeyError\u001b[0m: 'group-id'",
      "\nDuring handling of the above exception, another exception occurred:\n",
      "\u001b[0;31mValueError\u001b[0m                                Traceback (most recent call last)",
      "Input \u001b[0;32mIn [7]\u001b[0m, in \u001b[0;36m<module>\u001b[0;34m\u001b[0m\n\u001b[1;32m      1\u001b[0m \u001b[38;5;66;03m# Select class column\u001b[39;00m\n\u001b[0;32m----> 2\u001b[0m column \u001b[38;5;241m=\u001b[39m \u001b[43mmetadata_qa\u001b[49m\u001b[38;5;241;43m.\u001b[39;49m\u001b[43mget_column\u001b[49m\u001b[43m(\u001b[49m\u001b[43mclass_col\u001b[49m\u001b[43m)\u001b[49m\n",
      "File \u001b[0;32m~/anaconda3/envs/qiime2-2022.2/lib/python3.8/site-packages/qiime2/metadata/metadata.py:564\u001b[0m, in \u001b[0;36mMetadata.get_column\u001b[0;34m(self, name)\u001b[0m\n\u001b[1;32m    562\u001b[0m     series \u001b[38;5;241m=\u001b[39m \u001b[38;5;28mself\u001b[39m\u001b[38;5;241m.\u001b[39m_dataframe[name]\n\u001b[1;32m    563\u001b[0m \u001b[38;5;28;01mexcept\u001b[39;00m \u001b[38;5;167;01mKeyError\u001b[39;00m:\n\u001b[0;32m--> 564\u001b[0m     \u001b[38;5;28;01mraise\u001b[39;00m \u001b[38;5;167;01mValueError\u001b[39;00m(\n\u001b[1;32m    565\u001b[0m         \u001b[38;5;124m'\u001b[39m\u001b[38;5;132;01m%r\u001b[39;00m\u001b[38;5;124m is not a column in the metadata. Available columns: \u001b[39m\u001b[38;5;124m'\u001b[39m\n\u001b[1;32m    566\u001b[0m         \u001b[38;5;124m'\u001b[39m\u001b[38;5;132;01m%s\u001b[39;00m\u001b[38;5;124m'\u001b[39m \u001b[38;5;241m%\u001b[39m (name, \u001b[38;5;124m'\u001b[39m\u001b[38;5;124m, \u001b[39m\u001b[38;5;124m'\u001b[39m\u001b[38;5;241m.\u001b[39mjoin(\u001b[38;5;28mrepr\u001b[39m(c) \u001b[38;5;28;01mfor\u001b[39;00m c \u001b[38;5;129;01min\u001b[39;00m \u001b[38;5;28mself\u001b[39m\u001b[38;5;241m.\u001b[39mcolumns)))\n\u001b[1;32m    568\u001b[0m \u001b[38;5;28;01mreturn\u001b[39;00m \u001b[38;5;28mself\u001b[39m\u001b[38;5;241m.\u001b[39m_metadata_column_factory(series)\n",
      "\u001b[0;31mValueError\u001b[0m: 'group-id' is not a column in the metadata. Available columns: 'file-id', 'state-name', 'state-id', 'replic-id'"
     ]
    }
   ],
   "source": [
    "# Select class column\n",
    "column = metadata_qa.get_column(class_col)"
   ]
  },
  {
   "cell_type": "code",
   "execution_count": null,
   "id": "2f023bcc",
   "metadata": {
    "papermill": {
     "duration": null,
     "end_time": null,
     "exception": null,
     "start_time": null,
     "status": "pending"
    },
    "tags": []
   },
   "outputs": [],
   "source": [
    "# Create the pseudocount table\n",
    "composition_tab = add_pseudocount(table = tabs).composition_table"
   ]
  },
  {
   "cell_type": "code",
   "execution_count": null,
   "id": "2999c2f6",
   "metadata": {
    "papermill": {
     "duration": null,
     "end_time": null,
     "exception": null,
     "start_time": null,
     "status": "pending"
    },
    "tags": []
   },
   "outputs": [],
   "source": [
    "# Create visualizations for each parameter combination for the ANCOM  method.\n",
    "transform_functions = ('sqrt', 'log', 'clr')\n",
    "difference_functions = ('mean_difference', 'f_statistic')\n",
    "for t in transform_functions:\n",
    "    for d in difference_functions:\n",
    "        print(f\"Calculating ANCOM with: {t} {d}\")\n",
    "        try:\n",
    "            ancom_viz = ancom(\n",
    "                table = composition_tab, \n",
    "                metadata = column, \n",
    "                transform_function = t, \n",
    "                difference_function = d\n",
    "            ).visualization\n",
    "            view_name = os.path.join(qiime_folder, f'ancom-{t}-{d}.qzv')\n",
    "            ancom_viz.save(view_name)\n",
    "        except Exception as e:\n",
    "            print(f\"ERROR: Calculating ANCOM with: {t} {d}\")\n",
    "            print(e)"
   ]
  }
 ],
 "metadata": {
  "celltoolbar": "Edit Metadata",
  "kernelspec": {
   "display_name": "Python 3 (ipykernel)",
   "language": "python",
   "name": "python3"
  },
  "language_info": {
   "codemirror_mode": {
    "name": "ipython",
    "version": 3
   },
   "file_extension": ".py",
   "mimetype": "text/x-python",
   "name": "python",
   "nbconvert_exporter": "python",
   "pygments_lexer": "ipython3",
   "version": "3.8.12"
  },
  "papermill": {
   "default_parameters": {},
   "duration": 11.798195,
   "end_time": "2023-02-10T19:22:45.443192",
   "environment_variables": {},
   "exception": true,
   "input_path": "nb-templates/step-abundance-analysis.ipynb",
   "output_path": "/home/lauro/nupeb/rede-micro/redemicro-andressa-lbtm/experiments/andressa-01/nb-executed-steps/step-abundance-analysis-andressa-01.ipynb",
   "parameters": {
    "base_dir": "/home/lauro/nupeb/rede-micro/redemicro-andressa-lbtm",
    "class_col": "group-id",
    "classifier_file": "/home/lauro/nupeb/rede-micro/models/silva-138-99-nb-classifier.qza",
    "experiment_name": "andressa",
    "manifest_file": "/home/lauro/nupeb/rede-micro/redemicro-andressa-lbtm/data/manifest.csv",
    "metadata_file": "/home/lauro/nupeb/rede-micro/redemicro-andressa-lbtm/data/metadata.tsv",
    "overlap": 12,
    "phred": 20,
    "replace_files": false,
    "threads": 6,
    "trunc_f": 0,
    "trunc_r": 0
   },
   "start_time": "2023-02-10T19:22:33.644997",
   "version": "2.3.4"
  }
 },
 "nbformat": 4,
 "nbformat_minor": 5
}