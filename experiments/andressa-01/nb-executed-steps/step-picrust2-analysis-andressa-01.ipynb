{
 "cells": [
  {
   "cell_type": "markdown",
   "id": "0e7f2330",
   "metadata": {
    "ExecuteTime": {
     "end_time": "2022-09-22T19:36:33.828188Z",
     "start_time": "2022-09-22T19:36:33.817323Z"
    },
    "papermill": {
     "duration": 0.03757,
     "end_time": "2023-02-01T13:07:50.284758",
     "exception": false,
     "start_time": "2023-02-01T13:07:50.247188",
     "status": "completed"
    },
    "tags": []
   },
   "source": [
    "### STEP : PICRUST2 Analysis\n",
    "\n",
    "\n",
    "\n",
    "#### Example\n",
    "\n",
    "- [PICRUST2 tutorial](https://github.com/picrust/picrust2/wiki/q2-picrust2-Tutorial)\n",
    "- [Limitations](https://github.com/picrust/picrust2/wiki/Key-Limitations)\n",
    "\n",
    "\n",
    "#### Methods\n",
    "- [composition](https://docs.qiime2.org/2022.8/plugins/available/composition/)"
   ]
  },
  {
   "cell_type": "markdown",
   "id": "843debbf",
   "metadata": {
    "papermill": {
     "duration": 0.025894,
     "end_time": "2023-02-01T13:07:50.340523",
     "exception": false,
     "start_time": "2023-02-01T13:07:50.314629",
     "status": "completed"
    },
    "tags": []
   },
   "source": [
    "## Setup and settings"
   ]
  },
  {
   "cell_type": "code",
   "execution_count": 1,
   "id": "965e28e5",
   "metadata": {
    "ExecuteTime": {
     "end_time": "2022-11-09T19:20:47.478806Z",
     "start_time": "2022-11-09T19:20:40.457657Z"
    },
    "execution": {
     "iopub.execute_input": "2023-02-01T13:07:50.411422Z",
     "iopub.status.busy": "2023-02-01T13:07:50.410495Z",
     "iopub.status.idle": "2023-02-01T13:07:57.003749Z",
     "shell.execute_reply": "2023-02-01T13:07:57.002566Z"
    },
    "papermill": {
     "duration": 6.638254,
     "end_time": "2023-02-01T13:07:57.004002",
     "exception": false,
     "start_time": "2023-02-01T13:07:50.365748",
     "status": "completed"
    },
    "tags": []
   },
   "outputs": [],
   "source": [
    "# Importing packages\n",
    "import os\n",
    "import biom\n",
    "import pandas as pd\n",
    "from qiime2 import Artifact\n",
    "from qiime2 import Visualization\n",
    "from qiime2 import Metadata\n",
    "\n",
    "from qiime2.plugins.feature_table.visualizers import summarize\n",
    "\n",
    "from picrust2.pipeline import full_pipeline\n",
    "from picrust2.default import (default_ref_dir, default_tables, default_regroup_map, default_pathway_map)\n",
    "from qiime2.plugins import picrust2\n",
    "\n",
    "%matplotlib inline"
   ]
  },
  {
   "cell_type": "markdown",
   "id": "530ceb60",
   "metadata": {
    "papermill": {
     "duration": 0.028056,
     "end_time": "2023-02-01T13:07:57.066855",
     "exception": false,
     "start_time": "2023-02-01T13:07:57.038799",
     "status": "completed"
    },
    "tags": []
   },
   "source": [
    "### Receiving the parameters\n",
    "\n",
    "The following cell can receive parameters using the [papermill](https://papermill.readthedocs.io/en/latest/) tool."
   ]
  },
  {
   "cell_type": "code",
   "execution_count": 2,
   "id": "18d874ea",
   "metadata": {
    "ExecuteTime": {
     "end_time": "2022-11-09T19:20:47.483140Z",
     "start_time": "2022-11-09T19:20:47.480386Z"
    },
    "execution": {
     "iopub.execute_input": "2023-02-01T13:07:57.128428Z",
     "iopub.status.busy": "2023-02-01T13:07:57.127900Z",
     "iopub.status.idle": "2023-02-01T13:07:57.129876Z",
     "shell.execute_reply": "2023-02-01T13:07:57.130301Z"
    },
    "papermill": {
     "duration": 0.035097,
     "end_time": "2023-02-01T13:07:57.130417",
     "exception": false,
     "start_time": "2023-02-01T13:07:57.095320",
     "status": "completed"
    },
    "tags": [
     "parameters"
    ]
   },
   "outputs": [],
   "source": [
    "metadata_file = '/home/lauro/nupeb/rede-micro/redemicro-miliane-nutri/data/raw/metadata/miliane-metadata-CxAC.tsv'\n",
    "base_dir = os.path.join('/', 'home', 'lauro', 'nupeb', 'rede-micro', 'redemicro-miliane-nutri')\n",
    "experiment_name = 'miliane-CxAC-trim'\n",
    "class_col = 'group-id'\n",
    "replace_files = False"
   ]
  },
  {
   "cell_type": "code",
   "execution_count": 3,
   "id": "0dbf772c",
   "metadata": {
    "execution": {
     "iopub.execute_input": "2023-02-01T13:07:57.192147Z",
     "iopub.status.busy": "2023-02-01T13:07:57.191624Z",
     "iopub.status.idle": "2023-02-01T13:07:57.193812Z",
     "shell.execute_reply": "2023-02-01T13:07:57.193386Z"
    },
    "papermill": {
     "duration": 0.034165,
     "end_time": "2023-02-01T13:07:57.193910",
     "exception": false,
     "start_time": "2023-02-01T13:07:57.159745",
     "status": "completed"
    },
    "tags": [
     "injected-parameters"
    ]
   },
   "outputs": [],
   "source": [
    "# Parameters\n",
    "experiment_name = \"andressa\"\n",
    "base_dir = \"/home/lauro/nupeb/rede-micro/redemicro-andressa-lbtm\"\n",
    "manifest_file = \"/home/lauro/nupeb/rede-micro/redemicro-andressa-lbtm/data/manifest.csv\"\n",
    "metadata_file = \"/home/lauro/nupeb/rede-micro/redemicro-andressa-lbtm/data/metadata.tsv\"\n",
    "class_col = \"group-id\"\n",
    "classifier_file = \"/home/lauro/nupeb/dados_brutos_rede_genoma/16S_classifiers_qiime2/silva-138-99-nb-classifier.qza\"\n",
    "replace_files = False\n",
    "phred = 20\n",
    "trunc_f = 0\n",
    "trunc_r = 0\n",
    "overlap = 12\n",
    "threads = 6\n"
   ]
  },
  {
   "cell_type": "code",
   "execution_count": 4,
   "id": "f38617d9",
   "metadata": {
    "ExecuteTime": {
     "end_time": "2022-11-09T19:20:47.515942Z",
     "start_time": "2022-11-09T19:20:47.498345Z"
    },
    "execution": {
     "iopub.execute_input": "2023-02-01T13:07:57.253905Z",
     "iopub.status.busy": "2023-02-01T13:07:57.253320Z",
     "iopub.status.idle": "2023-02-01T13:07:57.254991Z",
     "shell.execute_reply": "2023-02-01T13:07:57.255400Z"
    },
    "papermill": {
     "duration": 0.033402,
     "end_time": "2023-02-01T13:07:57.255508",
     "exception": false,
     "start_time": "2023-02-01T13:07:57.222106",
     "status": "completed"
    },
    "tags": []
   },
   "outputs": [],
   "source": [
    "experiment_folder = os.path.abspath(os.path.join(base_dir, 'experiments', experiment_name))\n",
    "img_folder = os.path.abspath(os.path.join(experiment_folder, 'imgs'))"
   ]
  },
  {
   "cell_type": "markdown",
   "id": "ea9b90fb",
   "metadata": {
    "papermill": {
     "duration": 0.02426,
     "end_time": "2023-02-01T13:07:57.305080",
     "exception": false,
     "start_time": "2023-02-01T13:07:57.280820",
     "status": "completed"
    },
    "tags": []
   },
   "source": [
    "### Defining names, paths and flags"
   ]
  },
  {
   "cell_type": "code",
   "execution_count": 5,
   "id": "45727eef",
   "metadata": {
    "ExecuteTime": {
     "end_time": "2022-11-09T19:20:47.527937Z",
     "start_time": "2022-11-09T19:20:47.517696Z"
    },
    "execution": {
     "iopub.execute_input": "2023-02-01T13:07:57.359573Z",
     "iopub.status.busy": "2023-02-01T13:07:57.359081Z",
     "iopub.status.idle": "2023-02-01T13:07:57.362320Z",
     "shell.execute_reply": "2023-02-01T13:07:57.362689Z"
    },
    "papermill": {
     "duration": 0.033166,
     "end_time": "2023-02-01T13:07:57.362790",
     "exception": false,
     "start_time": "2023-02-01T13:07:57.329624",
     "status": "completed"
    },
    "tags": []
   },
   "outputs": [
    {
     "name": "stdout",
     "output_type": "stream",
     "text": [
      "New picrust2-artifacts folder path created: /home/lauro/nupeb/rede-micro/redemicro-andressa-lbtm/experiments/andressa/picrust2\n"
     ]
    }
   ],
   "source": [
    "# QIIME2 Artifacts folder\n",
    "qiime_folder = os.path.join(experiment_folder, 'qiime-artifacts')\n",
    "\n",
    "# Input - DADA2 Artifacts\n",
    "dada2_tabs_path = os.path.join(qiime_folder, 'dada2-tabs.qza')\n",
    "dada2_reqs_path = os.path.join(qiime_folder, 'dada2-reps.qza')\n",
    "\n",
    "# PICRUST@ folder\n",
    "picrust2_folder = os.path.abspath(os.path.join(experiment_folder, 'picrust2'))\n",
    "\n",
    "# Create path if it not exist\n",
    "if not os.path.isdir(picrust2_folder):\n",
    "    os.makedirs(picrust2_folder)\n",
    "    print(f'New picrust2-artifacts folder path created: {picrust2_folder}')"
   ]
  },
  {
   "cell_type": "code",
   "execution_count": 6,
   "id": "4903e645",
   "metadata": {
    "ExecuteTime": {
     "end_time": "2022-11-09T19:20:47.539993Z",
     "start_time": "2022-11-09T19:20:47.529653Z"
    },
    "execution": {
     "iopub.execute_input": "2023-02-01T13:07:57.427989Z",
     "iopub.status.busy": "2023-02-01T13:07:57.427491Z",
     "iopub.status.idle": "2023-02-01T13:07:57.430671Z",
     "shell.execute_reply": "2023-02-01T13:07:57.430120Z"
    },
    "papermill": {
     "duration": 0.038648,
     "end_time": "2023-02-01T13:07:57.430778",
     "exception": false,
     "start_time": "2023-02-01T13:07:57.392130",
     "status": "completed"
    },
    "tags": []
   },
   "outputs": [],
   "source": [
    "# Define paths for metagenome function artifacts\n",
    "ec_path = os.path.join(picrust2_folder, 'ec-pred-metagen.qza')\n",
    "ko_path = os.path.join(picrust2_folder, 'ko-pred-metagen.qza')\n",
    "pathway_path = os.path.join(picrust2_folder, 'pathway-abundance.qza')\n",
    "\n",
    "# Define paths for metagenome function visualization artifacts\n",
    "ec_viz_path = ec_path[:-1]+'v'\n",
    "ko_viz_path = ko_path[:-1]+'v'\n",
    "pathway_viz_path = pathway_path[:-1]+'v'\n",
    "\n",
    "# Define paths for biom -> tsv files (function X sample)\n",
    "pathway_fpath = os.path.join(picrust2_folder, 'pathway.tsv')\n",
    "ec_fpath = os.path.join(picrust2_folder, 'ec.tsv')\n",
    "ko_fpath = os.path.join(picrust2_folder, 'ko.tsv')\n",
    "\n",
    "# Define paths for biom -> tsv files (function X sample) - with descriptions\n",
    "pathway_desc_fpath = os.path.join(picrust2_folder, 'pathway-desc.tsv')\n",
    "ec_desc_fpath = os.path.join(picrust2_folder, 'ec-desc.tsv')\n",
    "ko_desc_fpath = os.path.join(picrust2_folder, 'ko-desc.tsv')"
   ]
  },
  {
   "cell_type": "markdown",
   "id": "0999a1b2",
   "metadata": {
    "papermill": {
     "duration": 0.024675,
     "end_time": "2023-02-01T13:07:57.482412",
     "exception": false,
     "start_time": "2023-02-01T13:07:57.457737",
     "status": "completed"
    },
    "tags": []
   },
   "source": [
    "## Step execution\n",
    "\n",
    "### Load input files\n",
    "\n",
    "This Step import the QIIME2 `FeatureTable[Frequency]` Artifact and the `Metadata` file."
   ]
  },
  {
   "cell_type": "code",
   "execution_count": 7,
   "id": "8f299d1a",
   "metadata": {
    "ExecuteTime": {
     "end_time": "2022-11-09T19:20:47.610793Z",
     "start_time": "2022-11-09T19:20:47.541540Z"
    },
    "execution": {
     "iopub.execute_input": "2023-02-01T13:07:57.547917Z",
     "iopub.status.busy": "2023-02-01T13:07:57.547409Z",
     "iopub.status.idle": "2023-02-01T13:07:57.567730Z",
     "shell.execute_reply": "2023-02-01T13:07:57.566915Z"
    },
    "papermill": {
     "duration": 0.06033,
     "end_time": "2023-02-01T13:07:57.567917",
     "exception": false,
     "start_time": "2023-02-01T13:07:57.507587",
     "status": "completed"
    },
    "tags": []
   },
   "outputs": [],
   "source": [
    "#Load Metadata\n",
    "metadata_qa = Metadata.load(metadata_file)\n",
    "\n",
    "#Load FeatureTable[Frequency]\n",
    "tabs = Artifact.load(dada2_tabs_path)\n",
    "\n",
    "#Load FeatureTable[Sequence]\n",
    "seqs = Artifact.load(dada2_reqs_path)"
   ]
  },
  {
   "cell_type": "markdown",
   "id": "4f1b06d4",
   "metadata": {
    "papermill": {
     "duration": 0.0291,
     "end_time": "2023-02-01T13:07:57.631317",
     "exception": false,
     "start_time": "2023-02-01T13:07:57.602217",
     "status": "completed"
    },
    "tags": []
   },
   "source": [
    "### Execute full pipelie\n",
    "\n",
    "The entire PICRUSt2 pipeline will be run using a single method, called `picrust2.methods.full_pipeline`. This method will run each of the 4 key steps: \n",
    "\n",
    "1. sequence placement\n",
    "2. hidden-state prediction of genomes\n",
    "3. metagenome prediction\n",
    "4. pathway-level predictions.\n",
    "\n",
    "More information on [Documentation](https://github.com/picrust/picrust2/wiki/Full-pipeline-script)."
   ]
  },
  {
   "cell_type": "code",
   "execution_count": 8,
   "id": "2c4f3874",
   "metadata": {
    "ExecuteTime": {
     "end_time": "2022-11-09T19:20:47.642417Z",
     "start_time": "2022-11-09T19:20:47.612547Z"
    },
    "execution": {
     "iopub.execute_input": "2023-02-01T13:07:57.696607Z",
     "iopub.status.busy": "2023-02-01T13:07:57.696080Z",
     "iopub.status.idle": "2023-02-01T13:12:43.660563Z",
     "shell.execute_reply": "2023-02-01T13:12:43.661360Z"
    },
    "papermill": {
     "duration": 286.000712,
     "end_time": "2023-02-01T13:12:43.661625",
     "exception": false,
     "start_time": "2023-02-01T13:07:57.660913",
     "status": "completed"
    },
    "scrolled": true,
    "tags": []
   },
   "outputs": [
    {
     "name": "stderr",
     "output_type": "stream",
     "text": [
      "187 of 187 sequence ids overlap between input table and FASTA.\n",
      "\n",
      "Placing sequences onto reference tree\n",
      "place_seqs.py --study_fasta /tmp/tmpvjtt6af0/seqs.fna --ref_dir /home/lauro/anaconda3/envs/qiime2-2021.11/lib/python3.8/site-packages/picrust2/default_files/prokaryotic/pro_ref --out_tree /tmp/tmpvjtt6af0/picrust2_out/out.tre --processes 6 --intermediate /tmp/tmpvjtt6af0/picrust2_out/intermediate/place_seqs --min_align 0.8 --chunk_size 5000 --placement_tool sepp --verbose\n"
     ]
    },
    {
     "name": "stdout",
     "output_type": "stream",
     "text": [
      "\n",
      "['run_sepp.py', '--tree', '/home/lauro/anaconda3/envs/qiime2-2021.11/lib/python3.8/site-packages/picrust2/default_files/prokaryotic/pro_ref/pro_ref.tre', '--raxml', '/home/lauro/anaconda3/envs/qiime2-2021.11/lib/python3.8/site-packages/picrust2/default_files/prokaryotic/pro_ref/pro_ref.raxml_info', '--cpu', '6', '--molecule', 'dna', '--outdir', '/tmp/tmpvjtt6af0/picrust2_out/intermediate/place_seqs/sepp_out', '-seed', '297834', '--alignment', '/home/lauro/anaconda3/envs/qiime2-2021.11/lib/python3.8/site-packages/picrust2/default_files/prokaryotic/pro_ref/pro_ref.fna', '--fragment', '/tmp/tmpvjtt6af0/picrust2_out/intermediate/place_seqs/study_seqs_filtered.fasta']\n",
      "\n",
      "                                              ....      ....  \n",
      "                                             '' '||.   .||'   \n",
      "                                                  ||  ||      \n",
      "                                                  '|.|'       \n",
      "     ...'   ....   ... ...  ... ...   ....        .|'|.       \n",
      "    |  ||  '' .||   ||'  ||  ||'  || '' .||      .|'  ||      \n",
      "     |''   .|' ||   ||    |  ||    | .|' ||     .|'|.  ||     \n",
      "    '....  '|..'|'. ||...'   ||...'  '|..'|.    '||'    ||:.  \n",
      "    '....'          ||       ||                               \n",
      "                   ''''     ''''   v0.6.1 (c) 2017-2020\n",
      "                                   by Lucas Czech and Pierre Barbera\n",
      "\n",
      "Invocation:                        gappa examine graft --jplace-path /tmp/tmpvjtt6af0/picrust2_out/intermediate/place_seqs/sepp_out/output_placement.json --fully-resolve --out-dir /tmp/tmpvjtt6af0/picrust2_out/intermediate/place_seqs/sepp_out\n",
      "Command:                           gappa examine graft\n",
      "\n",
      "Input:\n",
      "  --jplace-path                    /tmp/tmpvjtt6af0/picrust2_out/intermediate/place_seqs/sepp_out/output_placement.json\n",
      "\n",
      "Settings:\n",
      "  --fully-resolve                  true\n",
      "  --name-prefix\n",
      "\n",
      "Output:\n",
      "  --out-dir                        /tmp/tmpvjtt6af0/picrust2_out/intermediate/place_seqs/sepp_out\n",
      "  --file-prefix                    \n",
      "  --file-suffix\n",
      "\n",
      "Global Options:\n",
      "  --allow-file-overwriting         false\n",
      "  --verbose                        false\n",
      "  --threads                        4\n",
      "  --log-file\n",
      "\n",
      "Run the following command to get the references that need to be cited:\n",
      "`gappa tools citation Czech2020-genesis-and-gappa`\n",
      "\n",
      "Started 2023-02-01 13:09:26\n",
      "\n",
      "Found 1 jplace file\n",
      "\n",
      "Finished 2023-02-01 13:09:27\n",
      "\n",
      "\n"
     ]
    },
    {
     "name": "stderr",
     "output_type": "stream",
     "text": [
      "hmmalign --trim --dna --mapali /home/lauro/anaconda3/envs/qiime2-2021.11/lib/python3.8/site-packages/picrust2/default_files/prokaryotic/pro_ref/pro_ref.fna --informat FASTA -o /tmp/tmpvjtt6af0/picrust2_out/intermediate/place_seqs/query_align.stockholm /home/lauro/anaconda3/envs/qiime2-2021.11/lib/python3.8/site-packages/picrust2/default_files/prokaryotic/pro_ref/pro_ref.hmm /tmp/tmpvjtt6af0/seqs.fna\n",
      "\n",
      "Raw input sequences ranged in length from 427 to 472\n",
      "\n",
      "run_sepp.py --tree /home/lauro/anaconda3/envs/qiime2-2021.11/lib/python3.8/site-packages/picrust2/default_files/prokaryotic/pro_ref/pro_ref.tre --raxml /home/lauro/anaconda3/envs/qiime2-2021.11/lib/python3.8/site-packages/picrust2/default_files/prokaryotic/pro_ref/pro_ref.raxml_info --cpu 6 --molecule dna --outdir /tmp/tmpvjtt6af0/picrust2_out/intermediate/place_seqs/sepp_out -seed 297834 --alignment /home/lauro/anaconda3/envs/qiime2-2021.11/lib/python3.8/site-packages/picrust2/default_files/prokaryotic/pro_ref/pro_ref.fna --fragment /tmp/tmpvjtt6af0/picrust2_out/intermediate/place_seqs/study_seqs_filtered.fasta\n",
      "[13:08:08] config.py (line 349):     INFO: Seed number: 297834\n",
      "[13:08:08] algorithm.py (line 258):     INFO: Reading input alignment: <_io.TextIOWrapper name='/home/lauro/anaconda3/envs/qiime2-2021.11/lib/python3.8/site-packages/picrust2/default_files/prokaryotic/pro_ref/pro_ref.fna' mode='r' encoding='UTF-8'>\n",
      "[13:08:08] algorithm.py (line 265):     INFO: Reading input tree: <_io.TextIOWrapper name='/home/lauro/anaconda3/envs/qiime2-2021.11/lib/python3.8/site-packages/picrust2/default_files/prokaryotic/pro_ref/pro_ref.tre' mode='r' encoding='UTF-8'>\n",
      "[13:08:10] algorithm.py (line 238):     INFO: Decomposition Sizes are set to alignment: 2000 placement: 2000\n",
      "[13:08:12] exhaustive.py (line 350):     INFO: Breaking into 16 placement subsets.\n",
      "[13:08:14] exhaustive.py (line 397):     INFO: Breaking into 16 alignment subsets.\n",
      "[13:08:14] filemgr.py (line 129):     INFO: Root temp directory built: /tmp/sepp/output.jxrx0h3o\n",
      "[13:08:14] exhaustive.py (line 412):     INFO: Breaking each alignment subset into 3 fragment chunks.\n",
      "[13:08:15] jobs.py (line 131):     INFO: Finished hmmbuild Job with input: /tmp/sepp/output.jxrx0h3o/root/P_4/A_4_0/hmmbuild.input.7w0i9nlf.fasta\n",
      "[13:08:15] jobs.py (line 131):     INFO: Finished hmmbuild Job with input: /tmp/sepp/output.jxrx0h3o/root/P_2/A_2_0/hmmbuild.input.uef3d91j.fasta\n",
      "[13:08:15] jobs.py (line 131):     INFO: Finished hmmbuild Job with input: /tmp/sepp/output.jxrx0h3o/root/P_1/A_1_0/hmmbuild.input.8bzu7qgd.fasta\n",
      "[13:08:15] jobs.py (line 131):     INFO: Finished hmmbuild Job with input: /tmp/sepp/output.jxrx0h3o/root/P_0/A_0_0/hmmbuild.input.50bn9hxe.fasta\n",
      "[13:08:15] jobs.py (line 131):     INFO: Finished hmmbuild Job with input: /tmp/sepp/output.jxrx0h3o/root/P_5/A_5_0/hmmbuild.input.p2lc3izu.fasta\n",
      "[13:08:15] jobs.py (line 131):     INFO: Finished hmmbuild Job with input: /tmp/sepp/output.jxrx0h3o/root/P_3/A_3_0/hmmbuild.input.6d_h8ewo.fasta\n",
      "[13:08:16] jobs.py (line 131):     INFO: Finished hmmbuild Job with input: /tmp/sepp/output.jxrx0h3o/root/P_6/A_6_0/hmmbuild.input.f6k2mlv5.fasta\n",
      "[13:08:16] jobs.py (line 131):     INFO: Finished hmmbuild Job with input: /tmp/sepp/output.jxrx0h3o/root/P_7/A_7_0/hmmbuild.input.qxl9ugp6.fasta\n",
      "[13:08:16] jobs.py (line 131):     INFO: Finished hmmbuild Job with input: /tmp/sepp/output.jxrx0h3o/root/P_8/A_8_0/hmmbuild.input.g0vpfxex.fasta\n",
      "[13:08:16] jobs.py (line 131):     INFO: Finished hmmbuild Job with input: /tmp/sepp/output.jxrx0h3o/root/P_9/A_9_0/hmmbuild.input.uvrrl3h4.fasta\n",
      "[13:08:16] jobs.py (line 131):     INFO: Finished hmmbuild Job with input: /tmp/sepp/output.jxrx0h3o/root/P_10/A_10_0/hmmbuild.input.j7zxmcmv.fasta\n",
      "[13:08:16] jobs.py (line 131):     INFO: Finished hmmbuild Job with input: /tmp/sepp/output.jxrx0h3o/root/P_11/A_11_0/hmmbuild.input.a_3pighw.fasta\n",
      "[13:08:17] jobs.py (line 131):     INFO: Finished hmmbuild Job with input: /tmp/sepp/output.jxrx0h3o/root/P_12/A_12_0/hmmbuild.input.p1s7acgn.fasta\n",
      "[13:08:17] jobs.py (line 131):     INFO: Finished hmmbuild Job with input: /tmp/sepp/output.jxrx0h3o/root/P_13/A_13_0/hmmbuild.input.eva9umfz.fasta\n",
      "[13:08:17] jobs.py (line 131):     INFO: Finished hmmbuild Job with input: /tmp/sepp/output.jxrx0h3o/root/P_15/A_15_0/hmmbuild.input.s9zui_df.fasta\n",
      "[13:08:17] jobs.py (line 131):     INFO: Finished hmmbuild Job with input: /tmp/sepp/output.jxrx0h3o/root/P_14/A_14_0/hmmbuild.input.yxclvlx9.fasta\n",
      "[13:08:17] jobs.py (line 131):     INFO: Finished hmmsearch Job with input: model:/tmp/sepp/output.jxrx0h3o/root/P_4/A_4_0/hmmbuild.model.hikpmxu2, fragments:/tmp/sepp/output.jxrx0h3o/fragment_chunks/fragment_chunk_1nzznd12l.fasta, elim:99999999, filter:False, output:/tmp/sepp/output.jxrx0h3o/root/P_4/A_4_0/FC_4_0_1/hmmsearch.results.40ghgukk\n",
      "[13:08:18] jobs.py (line 131):     INFO: Finished hmmsearch Job with input: model:/tmp/sepp/output.jxrx0h3o/root/P_4/A_4_0/hmmbuild.model.hikpmxu2, fragments:/tmp/sepp/output.jxrx0h3o/fragment_chunks/fragment_chunk_0ajgkwx7d.fasta, elim:99999999, filter:False, output:/tmp/sepp/output.jxrx0h3o/root/P_4/A_4_0/FC_4_0_0/hmmsearch.results.a20snqu_\n",
      "[13:08:18] jobs.py (line 131):     INFO: Finished hmmsearch Job with input: model:/tmp/sepp/output.jxrx0h3o/root/P_2/A_2_0/hmmbuild.model.zp3i5czq, fragments:/tmp/sepp/output.jxrx0h3o/fragment_chunks/fragment_chunk_1nzznd12l.fasta, elim:99999999, filter:False, output:/tmp/sepp/output.jxrx0h3o/root/P_2/A_2_0/FC_2_0_1/hmmsearch.results.td3it6y_\n",
      "[13:08:18] jobs.py (line 131):     INFO: Finished hmmsearch Job with input: model:/tmp/sepp/output.jxrx0h3o/root/P_4/A_4_0/hmmbuild.model.hikpmxu2, fragments:/tmp/sepp/output.jxrx0h3o/fragment_chunks/fragment_chunk_2j542w77h.fasta, elim:99999999, filter:False, output:/tmp/sepp/output.jxrx0h3o/root/P_4/A_4_0/FC_4_0_2/hmmsearch.results.2q2a86_k\n",
      "[13:08:18] jobs.py (line 131):     INFO: Finished hmmsearch Job with input: model:/tmp/sepp/output.jxrx0h3o/root/P_2/A_2_0/hmmbuild.model.zp3i5czq, fragments:/tmp/sepp/output.jxrx0h3o/fragment_chunks/fragment_chunk_0ajgkwx7d.fasta, elim:99999999, filter:False, output:/tmp/sepp/output.jxrx0h3o/root/P_2/A_2_0/FC_2_0_0/hmmsearch.results.2wqpwns1\n",
      "[13:08:19] jobs.py (line 131):     INFO: Finished hmmsearch Job with input: model:/tmp/sepp/output.jxrx0h3o/root/P_1/A_1_0/hmmbuild.model.ptb5s3ha, fragments:/tmp/sepp/output.jxrx0h3o/fragment_chunks/fragment_chunk_0ajgkwx7d.fasta, elim:99999999, filter:False, output:/tmp/sepp/output.jxrx0h3o/root/P_1/A_1_0/FC_1_0_0/hmmsearch.results.lxisk0_m\n",
      "[13:08:19] jobs.py (line 131):     INFO: Finished hmmsearch Job with input: model:/tmp/sepp/output.jxrx0h3o/root/P_2/A_2_0/hmmbuild.model.zp3i5czq, fragments:/tmp/sepp/output.jxrx0h3o/fragment_chunks/fragment_chunk_2j542w77h.fasta, elim:99999999, filter:False, output:/tmp/sepp/output.jxrx0h3o/root/P_2/A_2_0/FC_2_0_2/hmmsearch.results.1bmkcmfz\n",
      "[13:08:19] jobs.py (line 131):     INFO: Finished hmmsearch Job with input: model:/tmp/sepp/output.jxrx0h3o/root/P_1/A_1_0/hmmbuild.model.ptb5s3ha, fragments:/tmp/sepp/output.jxrx0h3o/fragment_chunks/fragment_chunk_1nzznd12l.fasta, elim:99999999, filter:False, output:/tmp/sepp/output.jxrx0h3o/root/P_1/A_1_0/FC_1_0_1/hmmsearch.results.1okepi6y\n",
      "[13:08:19] jobs.py (line 131):     INFO: Finished hmmsearch Job with input: model:/tmp/sepp/output.jxrx0h3o/root/P_0/A_0_0/hmmbuild.model.6k1rxyqk, fragments:/tmp/sepp/output.jxrx0h3o/fragment_chunks/fragment_chunk_0ajgkwx7d.fasta, elim:99999999, filter:False, output:/tmp/sepp/output.jxrx0h3o/root/P_0/A_0_0/FC_0_0_0/hmmsearch.results.h10x0y97\n",
      "[13:08:20] jobs.py (line 131):     INFO: Finished hmmsearch Job with input: model:/tmp/sepp/output.jxrx0h3o/root/P_1/A_1_0/hmmbuild.model.ptb5s3ha, fragments:/tmp/sepp/output.jxrx0h3o/fragment_chunks/fragment_chunk_2j542w77h.fasta, elim:99999999, filter:False, output:/tmp/sepp/output.jxrx0h3o/root/P_1/A_1_0/FC_1_0_2/hmmsearch.results.mjqvj17h\n",
      "[13:08:20] jobs.py (line 131):     INFO: Finished hmmsearch Job with input: model:/tmp/sepp/output.jxrx0h3o/root/P_5/A_5_0/hmmbuild.model.gm7lsdhu, fragments:/tmp/sepp/output.jxrx0h3o/fragment_chunks/fragment_chunk_0ajgkwx7d.fasta, elim:99999999, filter:False, output:/tmp/sepp/output.jxrx0h3o/root/P_5/A_5_0/FC_5_0_0/hmmsearch.results.znv7yb2p\n",
      "[13:08:20] jobs.py (line 131):     INFO: Finished hmmsearch Job with input: model:/tmp/sepp/output.jxrx0h3o/root/P_0/A_0_0/hmmbuild.model.6k1rxyqk, fragments:/tmp/sepp/output.jxrx0h3o/fragment_chunks/fragment_chunk_1nzznd12l.fasta, elim:99999999, filter:False, output:/tmp/sepp/output.jxrx0h3o/root/P_0/A_0_0/FC_0_0_1/hmmsearch.results._xbnng7o\n",
      "[13:08:20] jobs.py (line 131):     INFO: Finished hmmsearch Job with input: model:/tmp/sepp/output.jxrx0h3o/root/P_0/A_0_0/hmmbuild.model.6k1rxyqk, fragments:/tmp/sepp/output.jxrx0h3o/fragment_chunks/fragment_chunk_2j542w77h.fasta, elim:99999999, filter:False, output:/tmp/sepp/output.jxrx0h3o/root/P_0/A_0_0/FC_0_0_2/hmmsearch.results.0cty6_1t\n",
      "[13:08:21] jobs.py (line 131):     INFO: Finished hmmsearch Job with input: model:/tmp/sepp/output.jxrx0h3o/root/P_5/A_5_0/hmmbuild.model.gm7lsdhu, fragments:/tmp/sepp/output.jxrx0h3o/fragment_chunks/fragment_chunk_1nzznd12l.fasta, elim:99999999, filter:False, output:/tmp/sepp/output.jxrx0h3o/root/P_5/A_5_0/FC_5_0_1/hmmsearch.results.6d8z1hfx\n",
      "[13:08:21] jobs.py (line 131):     INFO: Finished hmmsearch Job with input: model:/tmp/sepp/output.jxrx0h3o/root/P_5/A_5_0/hmmbuild.model.gm7lsdhu, fragments:/tmp/sepp/output.jxrx0h3o/fragment_chunks/fragment_chunk_2j542w77h.fasta, elim:99999999, filter:False, output:/tmp/sepp/output.jxrx0h3o/root/P_5/A_5_0/FC_5_0_2/hmmsearch.results.v6t34vgw\n",
      "[13:08:21] jobs.py (line 131):     INFO: Finished hmmsearch Job with input: model:/tmp/sepp/output.jxrx0h3o/root/P_3/A_3_0/hmmbuild.model.rj8r550g, fragments:/tmp/sepp/output.jxrx0h3o/fragment_chunks/fragment_chunk_1nzznd12l.fasta, elim:99999999, filter:False, output:/tmp/sepp/output.jxrx0h3o/root/P_3/A_3_0/FC_3_0_1/hmmsearch.results.a2bk62ax\n",
      "[13:08:21] jobs.py (line 131):     INFO: Finished hmmsearch Job with input: model:/tmp/sepp/output.jxrx0h3o/root/P_6/A_6_0/hmmbuild.model.etg3p5yh, fragments:/tmp/sepp/output.jxrx0h3o/fragment_chunks/fragment_chunk_0ajgkwx7d.fasta, elim:99999999, filter:False, output:/tmp/sepp/output.jxrx0h3o/root/P_6/A_6_0/FC_6_0_0/hmmsearch.results.x2cmqydf\n",
      "[13:08:21] jobs.py (line 131):     INFO: Finished hmmsearch Job with input: model:/tmp/sepp/output.jxrx0h3o/root/P_3/A_3_0/hmmbuild.model.rj8r550g, fragments:/tmp/sepp/output.jxrx0h3o/fragment_chunks/fragment_chunk_0ajgkwx7d.fasta, elim:99999999, filter:False, output:/tmp/sepp/output.jxrx0h3o/root/P_3/A_3_0/FC_3_0_0/hmmsearch.results.ybt1ubtd\n",
      "[13:08:21] jobs.py (line 131):     INFO: Finished hmmsearch Job with input: model:/tmp/sepp/output.jxrx0h3o/root/P_3/A_3_0/hmmbuild.model.rj8r550g, fragments:/tmp/sepp/output.jxrx0h3o/fragment_chunks/fragment_chunk_2j542w77h.fasta, elim:99999999, filter:False, output:/tmp/sepp/output.jxrx0h3o/root/P_3/A_3_0/FC_3_0_2/hmmsearch.results.5dlk99os\n",
      "[13:08:22] jobs.py (line 131):     INFO: Finished hmmsearch Job with input: model:/tmp/sepp/output.jxrx0h3o/root/P_6/A_6_0/hmmbuild.model.etg3p5yh, fragments:/tmp/sepp/output.jxrx0h3o/fragment_chunks/fragment_chunk_2j542w77h.fasta, elim:99999999, filter:False, output:/tmp/sepp/output.jxrx0h3o/root/P_6/A_6_0/FC_6_0_2/hmmsearch.results.98c16ekr\n",
      "[13:08:22] jobs.py (line 131):     INFO: Finished hmmsearch Job with input: model:/tmp/sepp/output.jxrx0h3o/root/P_6/A_6_0/hmmbuild.model.etg3p5yh, fragments:/tmp/sepp/output.jxrx0h3o/fragment_chunks/fragment_chunk_1nzznd12l.fasta, elim:99999999, filter:False, output:/tmp/sepp/output.jxrx0h3o/root/P_6/A_6_0/FC_6_0_1/hmmsearch.results.eksfsc6b\n",
      "[13:08:22] jobs.py (line 131):     INFO: Finished hmmsearch Job with input: model:/tmp/sepp/output.jxrx0h3o/root/P_7/A_7_0/hmmbuild.model.5nazc8gv, fragments:/tmp/sepp/output.jxrx0h3o/fragment_chunks/fragment_chunk_1nzznd12l.fasta, elim:99999999, filter:False, output:/tmp/sepp/output.jxrx0h3o/root/P_7/A_7_0/FC_7_0_1/hmmsearch.results.aodx6v27\n",
      "[13:08:22] jobs.py (line 131):     INFO: Finished hmmsearch Job with input: model:/tmp/sepp/output.jxrx0h3o/root/P_7/A_7_0/hmmbuild.model.5nazc8gv, fragments:/tmp/sepp/output.jxrx0h3o/fragment_chunks/fragment_chunk_0ajgkwx7d.fasta, elim:99999999, filter:False, output:/tmp/sepp/output.jxrx0h3o/root/P_7/A_7_0/FC_7_0_0/hmmsearch.results.yiq6kjyq\n",
      "[13:08:23] jobs.py (line 131):     INFO: Finished hmmsearch Job with input: model:/tmp/sepp/output.jxrx0h3o/root/P_7/A_7_0/hmmbuild.model.5nazc8gv, fragments:/tmp/sepp/output.jxrx0h3o/fragment_chunks/fragment_chunk_2j542w77h.fasta, elim:99999999, filter:False, output:/tmp/sepp/output.jxrx0h3o/root/P_7/A_7_0/FC_7_0_2/hmmsearch.results.leivra16\n",
      "[13:08:23] jobs.py (line 131):     INFO: Finished hmmsearch Job with input: model:/tmp/sepp/output.jxrx0h3o/root/P_8/A_8_0/hmmbuild.model.pl8nr6qp, fragments:/tmp/sepp/output.jxrx0h3o/fragment_chunks/fragment_chunk_0ajgkwx7d.fasta, elim:99999999, filter:False, output:/tmp/sepp/output.jxrx0h3o/root/P_8/A_8_0/FC_8_0_0/hmmsearch.results.mlsyt_db\n",
      "[13:08:23] jobs.py (line 131):     INFO: Finished hmmsearch Job with input: model:/tmp/sepp/output.jxrx0h3o/root/P_8/A_8_0/hmmbuild.model.pl8nr6qp, fragments:/tmp/sepp/output.jxrx0h3o/fragment_chunks/fragment_chunk_2j542w77h.fasta, elim:99999999, filter:False, output:/tmp/sepp/output.jxrx0h3o/root/P_8/A_8_0/FC_8_0_2/hmmsearch.results.g1973627\n",
      "[13:08:23] jobs.py (line 131):     INFO: Finished hmmsearch Job with input: model:/tmp/sepp/output.jxrx0h3o/root/P_8/A_8_0/hmmbuild.model.pl8nr6qp, fragments:/tmp/sepp/output.jxrx0h3o/fragment_chunks/fragment_chunk_1nzznd12l.fasta, elim:99999999, filter:False, output:/tmp/sepp/output.jxrx0h3o/root/P_8/A_8_0/FC_8_0_1/hmmsearch.results.tm925muc\n",
      "[13:08:23] jobs.py (line 131):     INFO: Finished hmmsearch Job with input: model:/tmp/sepp/output.jxrx0h3o/root/P_9/A_9_0/hmmbuild.model.fiq3c0vy, fragments:/tmp/sepp/output.jxrx0h3o/fragment_chunks/fragment_chunk_1nzznd12l.fasta, elim:99999999, filter:False, output:/tmp/sepp/output.jxrx0h3o/root/P_9/A_9_0/FC_9_0_1/hmmsearch.results.0fak6frv\n",
      "[13:08:24] jobs.py (line 131):     INFO: Finished hmmsearch Job with input: model:/tmp/sepp/output.jxrx0h3o/root/P_9/A_9_0/hmmbuild.model.fiq3c0vy, fragments:/tmp/sepp/output.jxrx0h3o/fragment_chunks/fragment_chunk_2j542w77h.fasta, elim:99999999, filter:False, output:/tmp/sepp/output.jxrx0h3o/root/P_9/A_9_0/FC_9_0_2/hmmsearch.results.f0_e8m26\n",
      "[13:08:24] jobs.py (line 131):     INFO: Finished hmmsearch Job with input: model:/tmp/sepp/output.jxrx0h3o/root/P_9/A_9_0/hmmbuild.model.fiq3c0vy, fragments:/tmp/sepp/output.jxrx0h3o/fragment_chunks/fragment_chunk_0ajgkwx7d.fasta, elim:99999999, filter:False, output:/tmp/sepp/output.jxrx0h3o/root/P_9/A_9_0/FC_9_0_0/hmmsearch.results.a3g3nc4d\n",
      "[13:08:24] jobs.py (line 131):     INFO: Finished hmmsearch Job with input: model:/tmp/sepp/output.jxrx0h3o/root/P_10/A_10_0/hmmbuild.model.quvo9fqa, fragments:/tmp/sepp/output.jxrx0h3o/fragment_chunks/fragment_chunk_0ajgkwx7d.fasta, elim:99999999, filter:False, output:/tmp/sepp/output.jxrx0h3o/root/P_10/A_10_0/FC_10_0_0/hmmsearch.results.h_r_jftv\n",
      "[13:08:25] jobs.py (line 131):     INFO: Finished hmmsearch Job with input: model:/tmp/sepp/output.jxrx0h3o/root/P_10/A_10_0/hmmbuild.model.quvo9fqa, fragments:/tmp/sepp/output.jxrx0h3o/fragment_chunks/fragment_chunk_1nzznd12l.fasta, elim:99999999, filter:False, output:/tmp/sepp/output.jxrx0h3o/root/P_10/A_10_0/FC_10_0_1/hmmsearch.results.f11j25gg\n",
      "[13:08:25] jobs.py (line 131):     INFO: Finished hmmsearch Job with input: model:/tmp/sepp/output.jxrx0h3o/root/P_11/A_11_0/hmmbuild.model.tihvcbj0, fragments:/tmp/sepp/output.jxrx0h3o/fragment_chunks/fragment_chunk_0ajgkwx7d.fasta, elim:99999999, filter:False, output:/tmp/sepp/output.jxrx0h3o/root/P_11/A_11_0/FC_11_0_0/hmmsearch.results.2z73z63c\n",
      "[13:08:25] jobs.py (line 131):     INFO: Finished hmmsearch Job with input: model:/tmp/sepp/output.jxrx0h3o/root/P_10/A_10_0/hmmbuild.model.quvo9fqa, fragments:/tmp/sepp/output.jxrx0h3o/fragment_chunks/fragment_chunk_2j542w77h.fasta, elim:99999999, filter:False, output:/tmp/sepp/output.jxrx0h3o/root/P_10/A_10_0/FC_10_0_2/hmmsearch.results.z_xlorsh\n",
      "[13:08:25] jobs.py (line 131):     INFO: Finished hmmsearch Job with input: model:/tmp/sepp/output.jxrx0h3o/root/P_11/A_11_0/hmmbuild.model.tihvcbj0, fragments:/tmp/sepp/output.jxrx0h3o/fragment_chunks/fragment_chunk_2j542w77h.fasta, elim:99999999, filter:False, output:/tmp/sepp/output.jxrx0h3o/root/P_11/A_11_0/FC_11_0_2/hmmsearch.results.q3ck89d6\n",
      "[13:08:25] jobs.py (line 131):     INFO: Finished hmmsearch Job with input: model:/tmp/sepp/output.jxrx0h3o/root/P_12/A_12_0/hmmbuild.model.hc9rwa5f, fragments:/tmp/sepp/output.jxrx0h3o/fragment_chunks/fragment_chunk_0ajgkwx7d.fasta, elim:99999999, filter:False, output:/tmp/sepp/output.jxrx0h3o/root/P_12/A_12_0/FC_12_0_0/hmmsearch.results.x1unod3w\n",
      "[13:08:25] jobs.py (line 131):     INFO: Finished hmmsearch Job with input: model:/tmp/sepp/output.jxrx0h3o/root/P_11/A_11_0/hmmbuild.model.tihvcbj0, fragments:/tmp/sepp/output.jxrx0h3o/fragment_chunks/fragment_chunk_1nzznd12l.fasta, elim:99999999, filter:False, output:/tmp/sepp/output.jxrx0h3o/root/P_11/A_11_0/FC_11_0_1/hmmsearch.results.qa3py070\n",
      "[13:08:26] jobs.py (line 131):     INFO: Finished hmmsearch Job with input: model:/tmp/sepp/output.jxrx0h3o/root/P_12/A_12_0/hmmbuild.model.hc9rwa5f, fragments:/tmp/sepp/output.jxrx0h3o/fragment_chunks/fragment_chunk_2j542w77h.fasta, elim:99999999, filter:False, output:/tmp/sepp/output.jxrx0h3o/root/P_12/A_12_0/FC_12_0_2/hmmsearch.results.04vwonu8\n",
      "[13:08:26] jobs.py (line 131):     INFO: Finished hmmsearch Job with input: model:/tmp/sepp/output.jxrx0h3o/root/P_12/A_12_0/hmmbuild.model.hc9rwa5f, fragments:/tmp/sepp/output.jxrx0h3o/fragment_chunks/fragment_chunk_1nzznd12l.fasta, elim:99999999, filter:False, output:/tmp/sepp/output.jxrx0h3o/root/P_12/A_12_0/FC_12_0_1/hmmsearch.results.6t9h_3y7\n",
      "[13:08:26] jobs.py (line 131):     INFO: Finished hmmsearch Job with input: model:/tmp/sepp/output.jxrx0h3o/root/P_15/A_15_0/hmmbuild.model.4x_tqzyg, fragments:/tmp/sepp/output.jxrx0h3o/fragment_chunks/fragment_chunk_0ajgkwx7d.fasta, elim:99999999, filter:False, output:/tmp/sepp/output.jxrx0h3o/root/P_15/A_15_0/FC_15_0_0/hmmsearch.results.8f5k6xdq\n",
      "[13:08:27] jobs.py (line 131):     INFO: Finished hmmsearch Job with input: model:/tmp/sepp/output.jxrx0h3o/root/P_13/A_13_0/hmmbuild.model.tao6aiev, fragments:/tmp/sepp/output.jxrx0h3o/fragment_chunks/fragment_chunk_0ajgkwx7d.fasta, elim:99999999, filter:False, output:/tmp/sepp/output.jxrx0h3o/root/P_13/A_13_0/FC_13_0_0/hmmsearch.results.7_am6mdz\n",
      "[13:08:27] jobs.py (line 131):     INFO: Finished hmmsearch Job with input: model:/tmp/sepp/output.jxrx0h3o/root/P_13/A_13_0/hmmbuild.model.tao6aiev, fragments:/tmp/sepp/output.jxrx0h3o/fragment_chunks/fragment_chunk_1nzznd12l.fasta, elim:99999999, filter:False, output:/tmp/sepp/output.jxrx0h3o/root/P_13/A_13_0/FC_13_0_1/hmmsearch.results.e_jhrzsh\n",
      "[13:08:27] jobs.py (line 131):     INFO: Finished hmmsearch Job with input: model:/tmp/sepp/output.jxrx0h3o/root/P_13/A_13_0/hmmbuild.model.tao6aiev, fragments:/tmp/sepp/output.jxrx0h3o/fragment_chunks/fragment_chunk_2j542w77h.fasta, elim:99999999, filter:False, output:/tmp/sepp/output.jxrx0h3o/root/P_13/A_13_0/FC_13_0_2/hmmsearch.results.mr39name\n",
      "[13:08:27] jobs.py (line 131):     INFO: Finished hmmsearch Job with input: model:/tmp/sepp/output.jxrx0h3o/root/P_15/A_15_0/hmmbuild.model.4x_tqzyg, fragments:/tmp/sepp/output.jxrx0h3o/fragment_chunks/fragment_chunk_1nzznd12l.fasta, elim:99999999, filter:False, output:/tmp/sepp/output.jxrx0h3o/root/P_15/A_15_0/FC_15_0_1/hmmsearch.results.e8io2919\n",
      "[13:08:27] jobs.py (line 131):     INFO: Finished hmmsearch Job with input: model:/tmp/sepp/output.jxrx0h3o/root/P_15/A_15_0/hmmbuild.model.4x_tqzyg, fragments:/tmp/sepp/output.jxrx0h3o/fragment_chunks/fragment_chunk_2j542w77h.fasta, elim:99999999, filter:False, output:/tmp/sepp/output.jxrx0h3o/root/P_15/A_15_0/FC_15_0_2/hmmsearch.results.gt714o38\n",
      "[13:08:27] jobs.py (line 131):     INFO: Finished hmmsearch Job with input: model:/tmp/sepp/output.jxrx0h3o/root/P_14/A_14_0/hmmbuild.model.wd_t1aew, fragments:/tmp/sepp/output.jxrx0h3o/fragment_chunks/fragment_chunk_2j542w77h.fasta, elim:99999999, filter:False, output:/tmp/sepp/output.jxrx0h3o/root/P_14/A_14_0/FC_14_0_2/hmmsearch.results.bapeiqrr\n",
      "[13:08:28] jobs.py (line 131):     INFO: Finished hmmsearch Job with input: model:/tmp/sepp/output.jxrx0h3o/root/P_14/A_14_0/hmmbuild.model.wd_t1aew, fragments:/tmp/sepp/output.jxrx0h3o/fragment_chunks/fragment_chunk_1nzznd12l.fasta, elim:99999999, filter:False, output:/tmp/sepp/output.jxrx0h3o/root/P_14/A_14_0/FC_14_0_1/hmmsearch.results.v3aiq8j_\n",
      "[13:08:28] jobs.py (line 131):     INFO: Finished hmmsearch Job with input: model:/tmp/sepp/output.jxrx0h3o/root/P_14/A_14_0/hmmbuild.model.wd_t1aew, fragments:/tmp/sepp/output.jxrx0h3o/fragment_chunks/fragment_chunk_0ajgkwx7d.fasta, elim:99999999, filter:False, output:/tmp/sepp/output.jxrx0h3o/root/P_14/A_14_0/FC_14_0_0/hmmsearch.results.zmjfv02u\n",
      "[13:08:28] exhaustive.py (line 80):  WARNING: Fragments [] are not scored against any subset\n",
      "[13:08:28] exhaustive.py (line 151):     INFO: Merging sub-alignments for placement problem : P_0.\n",
      "[13:08:28] jobs.py (line 131):     INFO: Finished hmmalign Job with input: model:/tmp/sepp/output.jxrx0h3o/root/P_5/A_5_0/hmmbuild.model.gm7lsdhu, fragments:/tmp/sepp/output.jxrx0h3o/root/P_5/A_5_0/FC_5_0_0/hmmalign.frag.6o_esx3t.fasta, trim:False, base_alignment:/tmp/sepp/output.jxrx0h3o/root/P_5/A_5_0/hmmbuild.input.p2lc3izu.fasta\n",
      "[13:08:28] jobs.py (line 131):     INFO: Finished hmmalign Job with input: model:/tmp/sepp/output.jxrx0h3o/root/P_1/A_1_0/hmmbuild.model.ptb5s3ha, fragments:/tmp/sepp/output.jxrx0h3o/root/P_1/A_1_0/FC_1_0_0/hmmalign.frag.74e_l9yh.fasta, trim:False, base_alignment:/tmp/sepp/output.jxrx0h3o/root/P_1/A_1_0/hmmbuild.input.8bzu7qgd.fasta\n",
      "[13:08:28] jobs.py (line 131):     INFO: Finished hmmalign Job with input: model:/tmp/sepp/output.jxrx0h3o/root/P_4/A_4_0/hmmbuild.model.hikpmxu2, fragments:/tmp/sepp/output.jxrx0h3o/root/P_4/A_4_0/FC_4_0_0/hmmalign.frag.yhu_guye.fasta, trim:False, base_alignment:/tmp/sepp/output.jxrx0h3o/root/P_4/A_4_0/hmmbuild.input.7w0i9nlf.fasta\n",
      "[13:08:28] jobs.py (line 131):     INFO: Finished hmmalign Job with input: model:/tmp/sepp/output.jxrx0h3o/root/P_2/A_2_0/hmmbuild.model.zp3i5czq, fragments:/tmp/sepp/output.jxrx0h3o/root/P_2/A_2_0/FC_2_0_2/hmmalign.frag.p5zig171.fasta, trim:False, base_alignment:/tmp/sepp/output.jxrx0h3o/root/P_2/A_2_0/hmmbuild.input.uef3d91j.fasta\n",
      "[13:08:28] exhaustive.py (line 151):     INFO: Merging sub-alignments for placement problem : P_3.\n",
      "[13:08:28] jobs.py (line 131):     INFO: Finished hmmalign Job with input: model:/tmp/sepp/output.jxrx0h3o/root/P_6/A_6_0/hmmbuild.model.etg3p5yh, fragments:/tmp/sepp/output.jxrx0h3o/root/P_6/A_6_0/FC_6_0_0/hmmalign.frag.46wy5ztb.fasta, trim:False, base_alignment:/tmp/sepp/output.jxrx0h3o/root/P_6/A_6_0/hmmbuild.input.f6k2mlv5.fasta\n",
      "[13:08:28] jobs.py (line 131):     INFO: Finished hmmalign Job with input: model:/tmp/sepp/output.jxrx0h3o/root/P_5/A_5_0/hmmbuild.model.gm7lsdhu, fragments:/tmp/sepp/output.jxrx0h3o/root/P_5/A_5_0/FC_5_0_2/hmmalign.frag.w0fa749y.fasta, trim:False, base_alignment:/tmp/sepp/output.jxrx0h3o/root/P_5/A_5_0/hmmbuild.input.p2lc3izu.fasta\n",
      "[13:08:28] jobs.py (line 131):     INFO: Finished hmmalign Job with input: model:/tmp/sepp/output.jxrx0h3o/root/P_5/A_5_0/hmmbuild.model.gm7lsdhu, fragments:/tmp/sepp/output.jxrx0h3o/root/P_5/A_5_0/FC_5_0_1/hmmalign.frag.0g56zvxf.fasta, trim:False, base_alignment:/tmp/sepp/output.jxrx0h3o/root/P_5/A_5_0/hmmbuild.input.p2lc3izu.fasta\n",
      "[13:08:28] jobs.py (line 131):     INFO: Finished hmmalign Job with input: model:/tmp/sepp/output.jxrx0h3o/root/P_2/A_2_0/hmmbuild.model.zp3i5czq, fragments:/tmp/sepp/output.jxrx0h3o/root/P_2/A_2_0/FC_2_0_1/hmmalign.frag.c9r8r3i4.fasta, trim:False, base_alignment:/tmp/sepp/output.jxrx0h3o/root/P_2/A_2_0/hmmbuild.input.uef3d91j.fasta\n",
      "[13:08:28] jobs.py (line 131):     INFO: Finished hmmalign Job with input: model:/tmp/sepp/output.jxrx0h3o/root/P_2/A_2_0/hmmbuild.model.zp3i5czq, fragments:/tmp/sepp/output.jxrx0h3o/root/P_2/A_2_0/FC_2_0_0/hmmalign.frag.8wnemayu.fasta, trim:False, base_alignment:/tmp/sepp/output.jxrx0h3o/root/P_2/A_2_0/hmmbuild.input.uef3d91j.fasta\n",
      "[13:08:28] jobs.py (line 131):     INFO: Finished hmmalign Job with input: model:/tmp/sepp/output.jxrx0h3o/root/P_7/A_7_0/hmmbuild.model.5nazc8gv, fragments:/tmp/sepp/output.jxrx0h3o/root/P_7/A_7_0/FC_7_0_0/hmmalign.frag.evopgywu.fasta, trim:False, base_alignment:/tmp/sepp/output.jxrx0h3o/root/P_7/A_7_0/hmmbuild.input.qxl9ugp6.fasta\n",
      "[13:08:28] jobs.py (line 131):     INFO: Finished hmmalign Job with input: model:/tmp/sepp/output.jxrx0h3o/root/P_7/A_7_0/hmmbuild.model.5nazc8gv, fragments:/tmp/sepp/output.jxrx0h3o/root/P_7/A_7_0/FC_7_0_1/hmmalign.frag.t0yzehkp.fasta, trim:False, base_alignment:/tmp/sepp/output.jxrx0h3o/root/P_7/A_7_0/hmmbuild.input.qxl9ugp6.fasta\n",
      "[13:08:28] jobs.py (line 131):     INFO: Finished hmmalign Job with input: model:/tmp/sepp/output.jxrx0h3o/root/P_8/A_8_0/hmmbuild.model.pl8nr6qp, fragments:/tmp/sepp/output.jxrx0h3o/root/P_8/A_8_0/FC_8_0_2/hmmalign.frag.ja1e9p3b.fasta, trim:False, base_alignment:/tmp/sepp/output.jxrx0h3o/root/P_8/A_8_0/hmmbuild.input.g0vpfxex.fasta\n",
      "[13:08:28] jobs.py (line 131):     INFO: Finished hmmalign Job with input: model:/tmp/sepp/output.jxrx0h3o/root/P_8/A_8_0/hmmbuild.model.pl8nr6qp, fragments:/tmp/sepp/output.jxrx0h3o/root/P_8/A_8_0/FC_8_0_1/hmmalign.frag.c91ej_be.fasta, trim:False, base_alignment:/tmp/sepp/output.jxrx0h3o/root/P_8/A_8_0/hmmbuild.input.g0vpfxex.fasta\n",
      "[13:08:28] exhaustive.py (line 151):     INFO: Merging sub-alignments for placement problem : P_1.\n",
      "[13:08:28] jobs.py (line 131):     INFO: Finished hmmalign Job with input: model:/tmp/sepp/output.jxrx0h3o/root/P_8/A_8_0/hmmbuild.model.pl8nr6qp, fragments:/tmp/sepp/output.jxrx0h3o/root/P_8/A_8_0/FC_8_0_0/hmmalign.frag.9v93jq6i.fasta, trim:False, base_alignment:/tmp/sepp/output.jxrx0h3o/root/P_8/A_8_0/hmmbuild.input.g0vpfxex.fasta\n",
      "[13:08:28] jobs.py (line 131):     INFO: Finished hmmalign Job with input: model:/tmp/sepp/output.jxrx0h3o/root/P_10/A_10_0/hmmbuild.model.quvo9fqa, fragments:/tmp/sepp/output.jxrx0h3o/root/P_10/A_10_0/FC_10_0_0/hmmalign.frag.6nrnwioo.fasta, trim:False, base_alignment:/tmp/sepp/output.jxrx0h3o/root/P_10/A_10_0/hmmbuild.input.j7zxmcmv.fasta\n",
      "[13:08:28] alignment.py (line 556):     INFO: Merging extension sto file (/tmp/sepp/output.jxrx0h3o/root/P_1/A_1_0/FC_1_0_0/hmmalign.results.r1wu2_rc) into base alignment (/tmp/sepp/output.jxrx0h3o/root/P_1/A_1_0/hmmbuild.input.8bzu7qgd.fasta).\n",
      "[13:08:28] jobs.py (line 131):     INFO: Finished hmmalign Job with input: model:/tmp/sepp/output.jxrx0h3o/root/P_10/A_10_0/hmmbuild.model.quvo9fqa, fragments:/tmp/sepp/output.jxrx0h3o/root/P_10/A_10_0/FC_10_0_1/hmmalign.frag.zdhamy_h.fasta, trim:False, base_alignment:/tmp/sepp/output.jxrx0h3o/root/P_10/A_10_0/hmmbuild.input.j7zxmcmv.fasta\n",
      "[13:08:28] jobs.py (line 131):     INFO: Finished hmmalign Job with input: model:/tmp/sepp/output.jxrx0h3o/root/P_10/A_10_0/hmmbuild.model.quvo9fqa, fragments:/tmp/sepp/output.jxrx0h3o/root/P_10/A_10_0/FC_10_0_2/hmmalign.frag.vhkaoulu.fasta, trim:False, base_alignment:/tmp/sepp/output.jxrx0h3o/root/P_10/A_10_0/hmmbuild.input.j7zxmcmv.fasta\n",
      "[13:08:28] exhaustive.py (line 151):     INFO: Merging sub-alignments for placement problem : P_4.\n",
      "[13:08:28] alignment.py (line 556):     INFO: Merging extension sto file (/tmp/sepp/output.jxrx0h3o/root/P_4/A_4_0/FC_4_0_0/hmmalign.results.yqzrorbe) into base alignment (/tmp/sepp/output.jxrx0h3o/root/P_4/A_4_0/hmmbuild.input.7w0i9nlf.fasta).\n",
      "[13:08:28] jobs.py (line 131):     INFO: Finished hmmalign Job with input: model:/tmp/sepp/output.jxrx0h3o/root/P_9/A_9_0/hmmbuild.model.fiq3c0vy, fragments:/tmp/sepp/output.jxrx0h3o/root/P_9/A_9_0/FC_9_0_1/hmmalign.frag.33ihns5e.fasta, trim:False, base_alignment:/tmp/sepp/output.jxrx0h3o/root/P_9/A_9_0/hmmbuild.input.uvrrl3h4.fasta\n",
      "[13:08:28] jobs.py (line 131):     INFO: Finished hmmalign Job with input: model:/tmp/sepp/output.jxrx0h3o/root/P_9/A_9_0/hmmbuild.model.fiq3c0vy, fragments:/tmp/sepp/output.jxrx0h3o/root/P_9/A_9_0/FC_9_0_0/hmmalign.frag.f7qvf4k3.fasta, trim:False, base_alignment:/tmp/sepp/output.jxrx0h3o/root/P_9/A_9_0/hmmbuild.input.uvrrl3h4.fasta\n",
      "[13:08:28] jobs.py (line 131):     INFO: Finished hmmalign Job with input: model:/tmp/sepp/output.jxrx0h3o/root/P_9/A_9_0/hmmbuild.model.fiq3c0vy, fragments:/tmp/sepp/output.jxrx0h3o/root/P_9/A_9_0/FC_9_0_2/hmmalign.frag.gxsi0l7c.fasta, trim:False, base_alignment:/tmp/sepp/output.jxrx0h3o/root/P_9/A_9_0/hmmbuild.input.uvrrl3h4.fasta\n",
      "[13:08:28] exhaustive.py (line 151):     INFO: Merging sub-alignments for placement problem : P_6.\n",
      "[13:08:28] alignment.py (line 556):     INFO: Merging extension sto file (/tmp/sepp/output.jxrx0h3o/root/P_6/A_6_0/FC_6_0_0/hmmalign.results.q8uu2k0y) into base alignment (/tmp/sepp/output.jxrx0h3o/root/P_6/A_6_0/hmmbuild.input.f6k2mlv5.fasta).\n",
      "[13:08:28] exhaustive.py (line 151):     INFO: Merging sub-alignments for placement problem : P_5.\n",
      "[13:08:28] alignment.py (line 556):     INFO: Merging extension sto file (/tmp/sepp/output.jxrx0h3o/root/P_5/A_5_0/FC_5_0_0/hmmalign.results.c3_qr0rm) into base alignment (/tmp/sepp/output.jxrx0h3o/root/P_5/A_5_0/hmmbuild.input.p2lc3izu.fasta).\n",
      "[13:08:28] alignment.py (line 556):     INFO: Merging extension sto file (/tmp/sepp/output.jxrx0h3o/root/P_5/A_5_0/FC_5_0_1/hmmalign.results.7rb7cxa7) into base alignment (/tmp/sepp/output.jxrx0h3o/root/P_5/A_5_0/hmmbuild.input.p2lc3izu.fasta).\n",
      "[13:08:29] alignment.py (line 556):     INFO: Merging extension sto file (/tmp/sepp/output.jxrx0h3o/root/P_5/A_5_0/FC_5_0_2/hmmalign.results.cn895tv1) into base alignment (/tmp/sepp/output.jxrx0h3o/root/P_5/A_5_0/hmmbuild.input.p2lc3izu.fasta).\n",
      "[13:08:29] exhaustive.py (line 151):     INFO: Merging sub-alignments for placement problem : P_2.\n",
      "[13:08:29] alignment.py (line 556):     INFO: Merging extension sto file (/tmp/sepp/output.jxrx0h3o/root/P_2/A_2_0/FC_2_0_0/hmmalign.results.prtmqur6) into base alignment (/tmp/sepp/output.jxrx0h3o/root/P_2/A_2_0/hmmbuild.input.uef3d91j.fasta).\n",
      "[13:08:29] alignment.py (line 556):     INFO: Merging extension sto file (/tmp/sepp/output.jxrx0h3o/root/P_2/A_2_0/FC_2_0_1/hmmalign.results.qzj0uv6_) into base alignment (/tmp/sepp/output.jxrx0h3o/root/P_2/A_2_0/hmmbuild.input.uef3d91j.fasta).\n",
      "[13:08:29] jobs.py (line 131):     INFO: Finished hmmalign Job with input: model:/tmp/sepp/output.jxrx0h3o/root/P_12/A_12_0/hmmbuild.model.hc9rwa5f, fragments:/tmp/sepp/output.jxrx0h3o/root/P_12/A_12_0/FC_12_0_2/hmmalign.frag.78b11edo.fasta, trim:False, base_alignment:/tmp/sepp/output.jxrx0h3o/root/P_12/A_12_0/hmmbuild.input.p1s7acgn.fasta\n",
      "[13:08:29] alignment.py (line 556):     INFO: Merging extension sto file (/tmp/sepp/output.jxrx0h3o/root/P_2/A_2_0/FC_2_0_2/hmmalign.results.bgns6e_q) into base alignment (/tmp/sepp/output.jxrx0h3o/root/P_2/A_2_0/hmmbuild.input.uef3d91j.fasta).\n",
      "[13:08:29] jobs.py (line 131):     INFO: Finished hmmalign Job with input: model:/tmp/sepp/output.jxrx0h3o/root/P_12/A_12_0/hmmbuild.model.hc9rwa5f, fragments:/tmp/sepp/output.jxrx0h3o/root/P_12/A_12_0/FC_12_0_1/hmmalign.frag.fkd6h5_t.fasta, trim:False, base_alignment:/tmp/sepp/output.jxrx0h3o/root/P_12/A_12_0/hmmbuild.input.p1s7acgn.fasta\n",
      "[13:08:29] exhaustive.py (line 151):     INFO: Merging sub-alignments for placement problem : P_7.\n",
      "[13:08:29] jobs.py (line 131):     INFO: Finished hmmalign Job with input: model:/tmp/sepp/output.jxrx0h3o/root/P_13/A_13_0/hmmbuild.model.tao6aiev, fragments:/tmp/sepp/output.jxrx0h3o/root/P_13/A_13_0/FC_13_0_0/hmmalign.frag.injda_yi.fasta, trim:False, base_alignment:/tmp/sepp/output.jxrx0h3o/root/P_13/A_13_0/hmmbuild.input.eva9umfz.fasta\n",
      "[13:08:29] jobs.py (line 131):     INFO: Finished hmmalign Job with input: model:/tmp/sepp/output.jxrx0h3o/root/P_12/A_12_0/hmmbuild.model.hc9rwa5f, fragments:/tmp/sepp/output.jxrx0h3o/root/P_12/A_12_0/FC_12_0_0/hmmalign.frag.okcqyvbd.fasta, trim:False, base_alignment:/tmp/sepp/output.jxrx0h3o/root/P_12/A_12_0/hmmbuild.input.p1s7acgn.fasta\n",
      "[13:08:29] alignment.py (line 556):     INFO: Merging extension sto file (/tmp/sepp/output.jxrx0h3o/root/P_7/A_7_0/FC_7_0_0/hmmalign.results.5qkb_s7c) into base alignment (/tmp/sepp/output.jxrx0h3o/root/P_7/A_7_0/hmmbuild.input.qxl9ugp6.fasta).\n",
      "[13:08:29] jobs.py (line 131):     INFO: Finished hmmalign Job with input: model:/tmp/sepp/output.jxrx0h3o/root/P_13/A_13_0/hmmbuild.model.tao6aiev, fragments:/tmp/sepp/output.jxrx0h3o/root/P_13/A_13_0/FC_13_0_1/hmmalign.frag.wpygqxte.fasta, trim:False, base_alignment:/tmp/sepp/output.jxrx0h3o/root/P_13/A_13_0/hmmbuild.input.eva9umfz.fasta\n",
      "[13:08:29] alignment.py (line 556):     INFO: Merging extension sto file (/tmp/sepp/output.jxrx0h3o/root/P_7/A_7_0/FC_7_0_1/hmmalign.results.2ocq9d0n) into base alignment (/tmp/sepp/output.jxrx0h3o/root/P_7/A_7_0/hmmbuild.input.qxl9ugp6.fasta).\n",
      "[13:08:29] jobs.py (line 131):     INFO: Finished hmmalign Job with input: model:/tmp/sepp/output.jxrx0h3o/root/P_13/A_13_0/hmmbuild.model.tao6aiev, fragments:/tmp/sepp/output.jxrx0h3o/root/P_13/A_13_0/FC_13_0_2/hmmalign.frag.r_m5t2l4.fasta, trim:False, base_alignment:/tmp/sepp/output.jxrx0h3o/root/P_13/A_13_0/hmmbuild.input.eva9umfz.fasta\n",
      "[13:08:29] jobs.py (line 131):     INFO: Finished hmmalign Job with input: model:/tmp/sepp/output.jxrx0h3o/root/P_14/A_14_0/hmmbuild.model.wd_t1aew, fragments:/tmp/sepp/output.jxrx0h3o/root/P_14/A_14_0/FC_14_0_0/hmmalign.frag.y8ki0mi_.fasta, trim:False, base_alignment:/tmp/sepp/output.jxrx0h3o/root/P_14/A_14_0/hmmbuild.input.yxclvlx9.fasta\n",
      "[13:08:29] jobs.py (line 131):     INFO: Finished hmmalign Job with input: model:/tmp/sepp/output.jxrx0h3o/root/P_14/A_14_0/hmmbuild.model.wd_t1aew, fragments:/tmp/sepp/output.jxrx0h3o/root/P_14/A_14_0/FC_14_0_1/hmmalign.frag.t5auw4js.fasta, trim:False, base_alignment:/tmp/sepp/output.jxrx0h3o/root/P_14/A_14_0/hmmbuild.input.yxclvlx9.fasta\n",
      "[13:08:29] jobs.py (line 131):     INFO: Finished hmmalign Job with input: model:/tmp/sepp/output.jxrx0h3o/root/P_15/A_15_0/hmmbuild.model.4x_tqzyg, fragments:/tmp/sepp/output.jxrx0h3o/root/P_15/A_15_0/FC_15_0_0/hmmalign.frag.1pa1_db5.fasta, trim:False, base_alignment:/tmp/sepp/output.jxrx0h3o/root/P_15/A_15_0/hmmbuild.input.s9zui_df.fasta\n",
      "[13:08:29] exhaustive.py (line 151):     INFO: Merging sub-alignments for placement problem : P_8.\n",
      "[13:08:29] jobs.py (line 131):     INFO: Finished hmmalign Job with input: model:/tmp/sepp/output.jxrx0h3o/root/P_15/A_15_0/hmmbuild.model.4x_tqzyg, fragments:/tmp/sepp/output.jxrx0h3o/root/P_15/A_15_0/FC_15_0_1/hmmalign.frag.f2v1t2kx.fasta, trim:False, base_alignment:/tmp/sepp/output.jxrx0h3o/root/P_15/A_15_0/hmmbuild.input.s9zui_df.fasta\n",
      "[13:08:29] alignment.py (line 556):     INFO: Merging extension sto file (/tmp/sepp/output.jxrx0h3o/root/P_8/A_8_0/FC_8_0_0/hmmalign.results.vkzmdt5i) into base alignment (/tmp/sepp/output.jxrx0h3o/root/P_8/A_8_0/hmmbuild.input.g0vpfxex.fasta).\n",
      "[13:08:29] alignment.py (line 556):     INFO: Merging extension sto file (/tmp/sepp/output.jxrx0h3o/root/P_8/A_8_0/FC_8_0_1/hmmalign.results.kv454ydn) into base alignment (/tmp/sepp/output.jxrx0h3o/root/P_8/A_8_0/hmmbuild.input.g0vpfxex.fasta).\n",
      "[13:08:29] alignment.py (line 556):     INFO: Merging extension sto file (/tmp/sepp/output.jxrx0h3o/root/P_8/A_8_0/FC_8_0_2/hmmalign.results.n37nyka5) into base alignment (/tmp/sepp/output.jxrx0h3o/root/P_8/A_8_0/hmmbuild.input.g0vpfxex.fasta).\n",
      "[13:08:29] exhaustive.py (line 151):     INFO: Merging sub-alignments for placement problem : P_10.\n",
      "[13:08:29] alignment.py (line 556):     INFO: Merging extension sto file (/tmp/sepp/output.jxrx0h3o/root/P_10/A_10_0/FC_10_0_0/hmmalign.results.w0v6mapd) into base alignment (/tmp/sepp/output.jxrx0h3o/root/P_10/A_10_0/hmmbuild.input.j7zxmcmv.fasta).\n",
      "[13:08:29] alignment.py (line 556):     INFO: Merging extension sto file (/tmp/sepp/output.jxrx0h3o/root/P_10/A_10_0/FC_10_0_1/hmmalign.results.555kgtzt) into base alignment (/tmp/sepp/output.jxrx0h3o/root/P_10/A_10_0/hmmbuild.input.j7zxmcmv.fasta).\n",
      "[13:08:29] alignment.py (line 556):     INFO: Merging extension sto file (/tmp/sepp/output.jxrx0h3o/root/P_10/A_10_0/FC_10_0_2/hmmalign.results.u10he885) into base alignment (/tmp/sepp/output.jxrx0h3o/root/P_10/A_10_0/hmmbuild.input.j7zxmcmv.fasta).\n",
      "[13:08:29] exhaustive.py (line 151):     INFO: Merging sub-alignments for placement problem : P_9.\n",
      "[13:08:29] alignment.py (line 556):     INFO: Merging extension sto file (/tmp/sepp/output.jxrx0h3o/root/P_9/A_9_0/FC_9_0_0/hmmalign.results.ejleyhqh) into base alignment (/tmp/sepp/output.jxrx0h3o/root/P_9/A_9_0/hmmbuild.input.uvrrl3h4.fasta).\n",
      "[13:08:29] alignment.py (line 556):     INFO: Merging extension sto file (/tmp/sepp/output.jxrx0h3o/root/P_9/A_9_0/FC_9_0_1/hmmalign.results.0oy6kzix) into base alignment (/tmp/sepp/output.jxrx0h3o/root/P_9/A_9_0/hmmbuild.input.uvrrl3h4.fasta).\n",
      "[13:08:29] alignment.py (line 556):     INFO: Merging extension sto file (/tmp/sepp/output.jxrx0h3o/root/P_9/A_9_0/FC_9_0_2/hmmalign.results.9xx2l9ek) into base alignment (/tmp/sepp/output.jxrx0h3o/root/P_9/A_9_0/hmmbuild.input.uvrrl3h4.fasta).\n",
      "[13:08:29] exhaustive.py (line 151):     INFO: Merging sub-alignments for placement problem : P_12.\n",
      "[13:08:29] alignment.py (line 556):     INFO: Merging extension sto file (/tmp/sepp/output.jxrx0h3o/root/P_12/A_12_0/FC_12_0_0/hmmalign.results.hnk7hyge) into base alignment (/tmp/sepp/output.jxrx0h3o/root/P_12/A_12_0/hmmbuild.input.p1s7acgn.fasta).\n",
      "[13:08:29] alignment.py (line 556):     INFO: Merging extension sto file (/tmp/sepp/output.jxrx0h3o/root/P_12/A_12_0/FC_12_0_1/hmmalign.results.zqu01zvn) into base alignment (/tmp/sepp/output.jxrx0h3o/root/P_12/A_12_0/hmmbuild.input.p1s7acgn.fasta).\n",
      "[13:08:29] alignment.py (line 556):     INFO: Merging extension sto file (/tmp/sepp/output.jxrx0h3o/root/P_12/A_12_0/FC_12_0_2/hmmalign.results.ceao54aw) into base alignment (/tmp/sepp/output.jxrx0h3o/root/P_12/A_12_0/hmmbuild.input.p1s7acgn.fasta).\n",
      "[13:08:29] exhaustive.py (line 151):     INFO: Merging sub-alignments for placement problem : P_13.\n",
      "[13:08:29] alignment.py (line 556):     INFO: Merging extension sto file (/tmp/sepp/output.jxrx0h3o/root/P_13/A_13_0/FC_13_0_0/hmmalign.results.cffkbrj5) into base alignment (/tmp/sepp/output.jxrx0h3o/root/P_13/A_13_0/hmmbuild.input.eva9umfz.fasta).\n",
      "[13:08:29] alignment.py (line 556):     INFO: Merging extension sto file (/tmp/sepp/output.jxrx0h3o/root/P_13/A_13_0/FC_13_0_1/hmmalign.results.6mkdn17l) into base alignment (/tmp/sepp/output.jxrx0h3o/root/P_13/A_13_0/hmmbuild.input.eva9umfz.fasta).\n",
      "[13:08:29] alignment.py (line 556):     INFO: Merging extension sto file (/tmp/sepp/output.jxrx0h3o/root/P_13/A_13_0/FC_13_0_2/hmmalign.results.gp2oat7a) into base alignment (/tmp/sepp/output.jxrx0h3o/root/P_13/A_13_0/hmmbuild.input.eva9umfz.fasta).\n",
      "[13:08:30] exhaustive.py (line 151):     INFO: Merging sub-alignments for placement problem : P_14.\n",
      "[13:08:30] alignment.py (line 556):     INFO: Merging extension sto file (/tmp/sepp/output.jxrx0h3o/root/P_14/A_14_0/FC_14_0_0/hmmalign.results.nefkwsk7) into base alignment (/tmp/sepp/output.jxrx0h3o/root/P_14/A_14_0/hmmbuild.input.yxclvlx9.fasta).\n",
      "[13:08:30] alignment.py (line 556):     INFO: Merging extension sto file (/tmp/sepp/output.jxrx0h3o/root/P_14/A_14_0/FC_14_0_1/hmmalign.results.at55psx_) into base alignment (/tmp/sepp/output.jxrx0h3o/root/P_14/A_14_0/hmmbuild.input.yxclvlx9.fasta).\n",
      "[13:08:30] exhaustive.py (line 151):     INFO: Merging sub-alignments for placement problem : P_15.\n",
      "[13:08:30] alignment.py (line 556):     INFO: Merging extension sto file (/tmp/sepp/output.jxrx0h3o/root/P_15/A_15_0/FC_15_0_0/hmmalign.results.o00q17pl) into base alignment (/tmp/sepp/output.jxrx0h3o/root/P_15/A_15_0/hmmbuild.input.s9zui_df.fasta).\n",
      "[13:08:30] alignment.py (line 556):     INFO: Merging extension sto file (/tmp/sepp/output.jxrx0h3o/root/P_15/A_15_0/FC_15_0_1/hmmalign.results.tf7uy7_i) into base alignment (/tmp/sepp/output.jxrx0h3o/root/P_15/A_15_0/hmmbuild.input.s9zui_df.fasta).\n",
      "[13:08:30] jobs.py (line 131):     INFO: Finished hmmalign Job with input: model:/tmp/sepp/output.jxrx0h3o/root/P_11/A_11_0/hmmbuild.model.tihvcbj0, fragments:/tmp/sepp/output.jxrx0h3o/root/P_11/A_11_0/FC_11_0_0/hmmalign.frag.qxj3oka1.fasta, trim:False, base_alignment:/tmp/sepp/output.jxrx0h3o/root/P_11/A_11_0/hmmbuild.input.a_3pighw.fasta\n",
      "[13:08:30] jobs.py (line 131):     INFO: Finished hmmalign Job with input: model:/tmp/sepp/output.jxrx0h3o/root/P_11/A_11_0/hmmbuild.model.tihvcbj0, fragments:/tmp/sepp/output.jxrx0h3o/root/P_11/A_11_0/FC_11_0_2/hmmalign.frag._lumsk94.fasta, trim:False, base_alignment:/tmp/sepp/output.jxrx0h3o/root/P_11/A_11_0/hmmbuild.input.a_3pighw.fasta\n",
      "[13:08:30] jobs.py (line 131):     INFO: Finished hmmalign Job with input: model:/tmp/sepp/output.jxrx0h3o/root/P_11/A_11_0/hmmbuild.model.tihvcbj0, fragments:/tmp/sepp/output.jxrx0h3o/root/P_11/A_11_0/FC_11_0_1/hmmalign.frag.jujlyqut.fasta, trim:False, base_alignment:/tmp/sepp/output.jxrx0h3o/root/P_11/A_11_0/hmmbuild.input.a_3pighw.fasta\n",
      "[13:08:30] exhaustive.py (line 151):     INFO: Merging sub-alignments for placement problem : P_11.\n",
      "[13:08:30] alignment.py (line 556):     INFO: Merging extension sto file (/tmp/sepp/output.jxrx0h3o/root/P_11/A_11_0/FC_11_0_0/hmmalign.results.5iwg8gib) into base alignment (/tmp/sepp/output.jxrx0h3o/root/P_11/A_11_0/hmmbuild.input.a_3pighw.fasta).\n",
      "[13:08:30] alignment.py (line 556):     INFO: Merging extension sto file (/tmp/sepp/output.jxrx0h3o/root/P_11/A_11_0/FC_11_0_1/hmmalign.results.ugi4xm9d) into base alignment (/tmp/sepp/output.jxrx0h3o/root/P_11/A_11_0/hmmbuild.input.a_3pighw.fasta).\n",
      "[13:08:30] alignment.py (line 556):     INFO: Merging extension sto file (/tmp/sepp/output.jxrx0h3o/root/P_11/A_11_0/FC_11_0_2/hmmalign.results.i1b5a7gn) into base alignment (/tmp/sepp/output.jxrx0h3o/root/P_11/A_11_0/hmmbuild.input.a_3pighw.fasta).\n",
      "[13:08:32] jobs.py (line 131):     INFO: Finished pplacer Job with input: backbone_alignment_file:/tmp/sepp/output.jxrx0h3o/root/P_4/pplacer.backbone.pb959tib.fasta, tree_file:/tmp/sepp/output.jxrx0h3o/root/P_4/pplacer.tree.0b21pnd5.tre, info_file:/home/lauro/anaconda3/envs/qiime2-2021.11/lib/python3.8/site-packages/picrust2/default_files/prokaryotic/pro_ref/pro_ref.raxml_info, extended alignment:/tmp/sepp/output.jxrx0h3o/root/P_4/pplacer.extended.0.pnq02l8x.fasta, output:/tmp/sepp/output.jxrx0h3o/root/P_4/pplacer.extended.0.pnq02l8x.jplace\n",
      "[13:08:32] jobs.py (line 131):     INFO: Finished pplacer Job with input: backbone_alignment_file:/tmp/sepp/output.jxrx0h3o/root/P_1/pplacer.backbone.bm16vrzj.fasta, tree_file:/tmp/sepp/output.jxrx0h3o/root/P_1/pplacer.tree.vvkq470p.tre, info_file:/home/lauro/anaconda3/envs/qiime2-2021.11/lib/python3.8/site-packages/picrust2/default_files/prokaryotic/pro_ref/pro_ref.raxml_info, extended alignment:/tmp/sepp/output.jxrx0h3o/root/P_1/pplacer.extended.0.eemqt4o8.fasta, output:/tmp/sepp/output.jxrx0h3o/root/P_1/pplacer.extended.0.eemqt4o8.jplace\n",
      "[13:08:37] jobs.py (line 131):     INFO: Finished pplacer Job with input: backbone_alignment_file:/tmp/sepp/output.jxrx0h3o/root/P_6/pplacer.backbone.8g33bb4f.fasta, tree_file:/tmp/sepp/output.jxrx0h3o/root/P_6/pplacer.tree.hv3f47ow.tre, info_file:/home/lauro/anaconda3/envs/qiime2-2021.11/lib/python3.8/site-packages/picrust2/default_files/prokaryotic/pro_ref/pro_ref.raxml_info, extended alignment:/tmp/sepp/output.jxrx0h3o/root/P_6/pplacer.extended.0.pi2m0sf1.fasta, output:/tmp/sepp/output.jxrx0h3o/root/P_6/pplacer.extended.0.pi2m0sf1.jplace\n",
      "[13:08:37] jobs.py (line 131):     INFO: Finished pplacer Job with input: backbone_alignment_file:/tmp/sepp/output.jxrx0h3o/root/P_5/pplacer.backbone.1mtb9vsh.fasta, tree_file:/tmp/sepp/output.jxrx0h3o/root/P_5/pplacer.tree.cqysingf.tre, info_file:/home/lauro/anaconda3/envs/qiime2-2021.11/lib/python3.8/site-packages/picrust2/default_files/prokaryotic/pro_ref/pro_ref.raxml_info, extended alignment:/tmp/sepp/output.jxrx0h3o/root/P_5/pplacer.extended.0.dz4h20hc.fasta, output:/tmp/sepp/output.jxrx0h3o/root/P_5/pplacer.extended.0.dz4h20hc.jplace\n",
      "[13:08:37] jobs.py (line 131):     INFO: Finished pplacer Job with input: backbone_alignment_file:/tmp/sepp/output.jxrx0h3o/root/P_5/pplacer.backbone.vsopwmxm.fasta, tree_file:/tmp/sepp/output.jxrx0h3o/root/P_5/pplacer.tree.4j0zubge.tre, info_file:/home/lauro/anaconda3/envs/qiime2-2021.11/lib/python3.8/site-packages/picrust2/default_files/prokaryotic/pro_ref/pro_ref.raxml_info, extended alignment:/tmp/sepp/output.jxrx0h3o/root/P_5/pplacer.extended.1.wpdj2w5h.fasta, output:/tmp/sepp/output.jxrx0h3o/root/P_5/pplacer.extended.1.wpdj2w5h.jplace\n",
      "[13:08:37] jobs.py (line 131):     INFO: Finished pplacer Job with input: backbone_alignment_file:/tmp/sepp/output.jxrx0h3o/root/P_5/pplacer.backbone.i3ezo2jd.fasta, tree_file:/tmp/sepp/output.jxrx0h3o/root/P_5/pplacer.tree.hv4rvdv6.tre, info_file:/home/lauro/anaconda3/envs/qiime2-2021.11/lib/python3.8/site-packages/picrust2/default_files/prokaryotic/pro_ref/pro_ref.raxml_info, extended alignment:/tmp/sepp/output.jxrx0h3o/root/P_5/pplacer.extended.2.m28eo2um.fasta, output:/tmp/sepp/output.jxrx0h3o/root/P_5/pplacer.extended.2.m28eo2um.jplace\n",
      "[13:08:40] jobs.py (line 131):     INFO: Finished pplacer Job with input: backbone_alignment_file:/tmp/sepp/output.jxrx0h3o/root/P_2/pplacer.backbone.xhyyppra.fasta, tree_file:/tmp/sepp/output.jxrx0h3o/root/P_2/pplacer.tree.kx2r5oe4.tre, info_file:/home/lauro/anaconda3/envs/qiime2-2021.11/lib/python3.8/site-packages/picrust2/default_files/prokaryotic/pro_ref/pro_ref.raxml_info, extended alignment:/tmp/sepp/output.jxrx0h3o/root/P_2/pplacer.extended.0.19zpaiq2.fasta, output:/tmp/sepp/output.jxrx0h3o/root/P_2/pplacer.extended.0.19zpaiq2.jplace\n",
      "[13:08:40] jobs.py (line 131):     INFO: Finished pplacer Job with input: backbone_alignment_file:/tmp/sepp/output.jxrx0h3o/root/P_7/pplacer.backbone.ra6kryg1.fasta, tree_file:/tmp/sepp/output.jxrx0h3o/root/P_7/pplacer.tree.ad4y704k.tre, info_file:/home/lauro/anaconda3/envs/qiime2-2021.11/lib/python3.8/site-packages/picrust2/default_files/prokaryotic/pro_ref/pro_ref.raxml_info, extended alignment:/tmp/sepp/output.jxrx0h3o/root/P_7/pplacer.extended.0.oa23ny07.fasta, output:/tmp/sepp/output.jxrx0h3o/root/P_7/pplacer.extended.0.oa23ny07.jplace\n",
      "[13:08:43] jobs.py (line 131):     INFO: Finished pplacer Job with input: backbone_alignment_file:/tmp/sepp/output.jxrx0h3o/root/P_8/pplacer.backbone.k86ehbki.fasta, tree_file:/tmp/sepp/output.jxrx0h3o/root/P_8/pplacer.tree.3v2ovu3r.tre, info_file:/home/lauro/anaconda3/envs/qiime2-2021.11/lib/python3.8/site-packages/picrust2/default_files/prokaryotic/pro_ref/pro_ref.raxml_info, extended alignment:/tmp/sepp/output.jxrx0h3o/root/P_8/pplacer.extended.1.323v65um.fasta, output:/tmp/sepp/output.jxrx0h3o/root/P_8/pplacer.extended.1.323v65um.jplace\n",
      "[13:08:43] jobs.py (line 131):     INFO: Finished pplacer Job with input: backbone_alignment_file:/tmp/sepp/output.jxrx0h3o/root/P_7/pplacer.backbone.e2g16etf.fasta, tree_file:/tmp/sepp/output.jxrx0h3o/root/P_7/pplacer.tree.3zr2tskz.tre, info_file:/home/lauro/anaconda3/envs/qiime2-2021.11/lib/python3.8/site-packages/picrust2/default_files/prokaryotic/pro_ref/pro_ref.raxml_info, extended alignment:/tmp/sepp/output.jxrx0h3o/root/P_7/pplacer.extended.1.65l6usfu.fasta, output:/tmp/sepp/output.jxrx0h3o/root/P_7/pplacer.extended.1.65l6usfu.jplace\n",
      "[13:08:43] jobs.py (line 131):     INFO: Finished pplacer Job with input: backbone_alignment_file:/tmp/sepp/output.jxrx0h3o/root/P_8/pplacer.backbone.oqgndei_.fasta, tree_file:/tmp/sepp/output.jxrx0h3o/root/P_8/pplacer.tree.otuv4nfm.tre, info_file:/home/lauro/anaconda3/envs/qiime2-2021.11/lib/python3.8/site-packages/picrust2/default_files/prokaryotic/pro_ref/pro_ref.raxml_info, extended alignment:/tmp/sepp/output.jxrx0h3o/root/P_8/pplacer.extended.2.stq4bfvn.fasta, output:/tmp/sepp/output.jxrx0h3o/root/P_8/pplacer.extended.2.stq4bfvn.jplace\n",
      "[13:08:45] jobs.py (line 131):     INFO: Finished pplacer Job with input: backbone_alignment_file:/tmp/sepp/output.jxrx0h3o/root/P_2/pplacer.backbone.e9tjp6f7.fasta, tree_file:/tmp/sepp/output.jxrx0h3o/root/P_2/pplacer.tree.cb4o9sv2.tre, info_file:/home/lauro/anaconda3/envs/qiime2-2021.11/lib/python3.8/site-packages/picrust2/default_files/prokaryotic/pro_ref/pro_ref.raxml_info, extended alignment:/tmp/sepp/output.jxrx0h3o/root/P_2/pplacer.extended.2.mzz9m2uo.fasta, output:/tmp/sepp/output.jxrx0h3o/root/P_2/pplacer.extended.2.mzz9m2uo.jplace\n",
      "[13:08:45] jobs.py (line 131):     INFO: Finished pplacer Job with input: backbone_alignment_file:/tmp/sepp/output.jxrx0h3o/root/P_8/pplacer.backbone.zu3l450q.fasta, tree_file:/tmp/sepp/output.jxrx0h3o/root/P_8/pplacer.tree.mop1w8cf.tre, info_file:/home/lauro/anaconda3/envs/qiime2-2021.11/lib/python3.8/site-packages/picrust2/default_files/prokaryotic/pro_ref/pro_ref.raxml_info, extended alignment:/tmp/sepp/output.jxrx0h3o/root/P_8/pplacer.extended.0.7r0oi7wz.fasta, output:/tmp/sepp/output.jxrx0h3o/root/P_8/pplacer.extended.0.7r0oi7wz.jplace\n",
      "[13:08:46] jobs.py (line 131):     INFO: Finished pplacer Job with input: backbone_alignment_file:/tmp/sepp/output.jxrx0h3o/root/P_10/pplacer.backbone.3p1z6sk0.fasta, tree_file:/tmp/sepp/output.jxrx0h3o/root/P_10/pplacer.tree.zy2nhau9.tre, info_file:/home/lauro/anaconda3/envs/qiime2-2021.11/lib/python3.8/site-packages/picrust2/default_files/prokaryotic/pro_ref/pro_ref.raxml_info, extended alignment:/tmp/sepp/output.jxrx0h3o/root/P_10/pplacer.extended.0.l8l5u7g6.fasta, output:/tmp/sepp/output.jxrx0h3o/root/P_10/pplacer.extended.0.l8l5u7g6.jplace\n",
      "[13:08:48] jobs.py (line 131):     INFO: Finished pplacer Job with input: backbone_alignment_file:/tmp/sepp/output.jxrx0h3o/root/P_10/pplacer.backbone.xh11zis8.fasta, tree_file:/tmp/sepp/output.jxrx0h3o/root/P_10/pplacer.tree.o9dc8h0z.tre, info_file:/home/lauro/anaconda3/envs/qiime2-2021.11/lib/python3.8/site-packages/picrust2/default_files/prokaryotic/pro_ref/pro_ref.raxml_info, extended alignment:/tmp/sepp/output.jxrx0h3o/root/P_10/pplacer.extended.1.w7kemywv.fasta, output:/tmp/sepp/output.jxrx0h3o/root/P_10/pplacer.extended.1.w7kemywv.jplace\n",
      "[13:08:48] jobs.py (line 131):     INFO: Finished pplacer Job with input: backbone_alignment_file:/tmp/sepp/output.jxrx0h3o/root/P_10/pplacer.backbone.aey8gjfh.fasta, tree_file:/tmp/sepp/output.jxrx0h3o/root/P_10/pplacer.tree.fe9hs5b8.tre, info_file:/home/lauro/anaconda3/envs/qiime2-2021.11/lib/python3.8/site-packages/picrust2/default_files/prokaryotic/pro_ref/pro_ref.raxml_info, extended alignment:/tmp/sepp/output.jxrx0h3o/root/P_10/pplacer.extended.2.ig4wcwyg.fasta, output:/tmp/sepp/output.jxrx0h3o/root/P_10/pplacer.extended.2.ig4wcwyg.jplace\n",
      "[13:08:50] jobs.py (line 131):     INFO: Finished pplacer Job with input: backbone_alignment_file:/tmp/sepp/output.jxrx0h3o/root/P_2/pplacer.backbone.htikb7vb.fasta, tree_file:/tmp/sepp/output.jxrx0h3o/root/P_2/pplacer.tree.u09as4l1.tre, info_file:/home/lauro/anaconda3/envs/qiime2-2021.11/lib/python3.8/site-packages/picrust2/default_files/prokaryotic/pro_ref/pro_ref.raxml_info, extended alignment:/tmp/sepp/output.jxrx0h3o/root/P_2/pplacer.extended.1.v6afo0xx.fasta, output:/tmp/sepp/output.jxrx0h3o/root/P_2/pplacer.extended.1.v6afo0xx.jplace\n",
      "[13:08:51] jobs.py (line 131):     INFO: Finished pplacer Job with input: backbone_alignment_file:/tmp/sepp/output.jxrx0h3o/root/P_9/pplacer.backbone.9n5p_be4.fasta, tree_file:/tmp/sepp/output.jxrx0h3o/root/P_9/pplacer.tree.vfmcj0hf.tre, info_file:/home/lauro/anaconda3/envs/qiime2-2021.11/lib/python3.8/site-packages/picrust2/default_files/prokaryotic/pro_ref/pro_ref.raxml_info, extended alignment:/tmp/sepp/output.jxrx0h3o/root/P_9/pplacer.extended.0.xftcsmvc.fasta, output:/tmp/sepp/output.jxrx0h3o/root/P_9/pplacer.extended.0.xftcsmvc.jplace\n",
      "[13:08:54] jobs.py (line 131):     INFO: Finished pplacer Job with input: backbone_alignment_file:/tmp/sepp/output.jxrx0h3o/root/P_13/pplacer.backbone.3dpsjxss.fasta, tree_file:/tmp/sepp/output.jxrx0h3o/root/P_13/pplacer.tree.gdlzw22a.tre, info_file:/home/lauro/anaconda3/envs/qiime2-2021.11/lib/python3.8/site-packages/picrust2/default_files/prokaryotic/pro_ref/pro_ref.raxml_info, extended alignment:/tmp/sepp/output.jxrx0h3o/root/P_13/pplacer.extended.0.ux6jd0t1.fasta, output:/tmp/sepp/output.jxrx0h3o/root/P_13/pplacer.extended.0.ux6jd0t1.jplace\n",
      "[13:08:55] jobs.py (line 131):     INFO: Finished pplacer Job with input: backbone_alignment_file:/tmp/sepp/output.jxrx0h3o/root/P_9/pplacer.backbone.3dekogry.fasta, tree_file:/tmp/sepp/output.jxrx0h3o/root/P_9/pplacer.tree.iq64lce7.tre, info_file:/home/lauro/anaconda3/envs/qiime2-2021.11/lib/python3.8/site-packages/picrust2/default_files/prokaryotic/pro_ref/pro_ref.raxml_info, extended alignment:/tmp/sepp/output.jxrx0h3o/root/P_9/pplacer.extended.1.6obakfg8.fasta, output:/tmp/sepp/output.jxrx0h3o/root/P_9/pplacer.extended.1.6obakfg8.jplace\n",
      "[13:08:57] jobs.py (line 131):     INFO: Finished pplacer Job with input: backbone_alignment_file:/tmp/sepp/output.jxrx0h3o/root/P_9/pplacer.backbone.1bnmla6h.fasta, tree_file:/tmp/sepp/output.jxrx0h3o/root/P_9/pplacer.tree.flezvql9.tre, info_file:/home/lauro/anaconda3/envs/qiime2-2021.11/lib/python3.8/site-packages/picrust2/default_files/prokaryotic/pro_ref/pro_ref.raxml_info, extended alignment:/tmp/sepp/output.jxrx0h3o/root/P_9/pplacer.extended.2.8987yveg.fasta, output:/tmp/sepp/output.jxrx0h3o/root/P_9/pplacer.extended.2.8987yveg.jplace\n",
      "[13:08:58] jobs.py (line 131):     INFO: Finished pplacer Job with input: backbone_alignment_file:/tmp/sepp/output.jxrx0h3o/root/P_13/pplacer.backbone.mvdhvq9v.fasta, tree_file:/tmp/sepp/output.jxrx0h3o/root/P_13/pplacer.tree.kbmbnjuy.tre, info_file:/home/lauro/anaconda3/envs/qiime2-2021.11/lib/python3.8/site-packages/picrust2/default_files/prokaryotic/pro_ref/pro_ref.raxml_info, extended alignment:/tmp/sepp/output.jxrx0h3o/root/P_13/pplacer.extended.1.rhncl379.fasta, output:/tmp/sepp/output.jxrx0h3o/root/P_13/pplacer.extended.1.rhncl379.jplace\n",
      "[13:08:59] jobs.py (line 131):     INFO: Finished pplacer Job with input: backbone_alignment_file:/tmp/sepp/output.jxrx0h3o/root/P_12/pplacer.backbone.b8lyuh64.fasta, tree_file:/tmp/sepp/output.jxrx0h3o/root/P_12/pplacer.tree.ve5fzkdu.tre, info_file:/home/lauro/anaconda3/envs/qiime2-2021.11/lib/python3.8/site-packages/picrust2/default_files/prokaryotic/pro_ref/pro_ref.raxml_info, extended alignment:/tmp/sepp/output.jxrx0h3o/root/P_12/pplacer.extended.2.ri0y2y0q.fasta, output:/tmp/sepp/output.jxrx0h3o/root/P_12/pplacer.extended.2.ri0y2y0q.jplace\n",
      "[13:09:00] jobs.py (line 131):     INFO: Finished pplacer Job with input: backbone_alignment_file:/tmp/sepp/output.jxrx0h3o/root/P_13/pplacer.backbone.bb5v9dlg.fasta, tree_file:/tmp/sepp/output.jxrx0h3o/root/P_13/pplacer.tree.5hju2cd_.tre, info_file:/home/lauro/anaconda3/envs/qiime2-2021.11/lib/python3.8/site-packages/picrust2/default_files/prokaryotic/pro_ref/pro_ref.raxml_info, extended alignment:/tmp/sepp/output.jxrx0h3o/root/P_13/pplacer.extended.2.d4z7ts_v.fasta, output:/tmp/sepp/output.jxrx0h3o/root/P_13/pplacer.extended.2.d4z7ts_v.jplace\n",
      "[13:09:02] jobs.py (line 131):     INFO: Finished pplacer Job with input: backbone_alignment_file:/tmp/sepp/output.jxrx0h3o/root/P_12/pplacer.backbone.meouya1g.fasta, tree_file:/tmp/sepp/output.jxrx0h3o/root/P_12/pplacer.tree.o1nns69h.tre, info_file:/home/lauro/anaconda3/envs/qiime2-2021.11/lib/python3.8/site-packages/picrust2/default_files/prokaryotic/pro_ref/pro_ref.raxml_info, extended alignment:/tmp/sepp/output.jxrx0h3o/root/P_12/pplacer.extended.1.ma8eleh3.fasta, output:/tmp/sepp/output.jxrx0h3o/root/P_12/pplacer.extended.1.ma8eleh3.jplace\n",
      "[13:09:02] jobs.py (line 131):     INFO: Finished pplacer Job with input: backbone_alignment_file:/tmp/sepp/output.jxrx0h3o/root/P_14/pplacer.backbone.unltuabt.fasta, tree_file:/tmp/sepp/output.jxrx0h3o/root/P_14/pplacer.tree.3rsk_9r1.tre, info_file:/home/lauro/anaconda3/envs/qiime2-2021.11/lib/python3.8/site-packages/picrust2/default_files/prokaryotic/pro_ref/pro_ref.raxml_info, extended alignment:/tmp/sepp/output.jxrx0h3o/root/P_14/pplacer.extended.1.sqlisshv.fasta, output:/tmp/sepp/output.jxrx0h3o/root/P_14/pplacer.extended.1.sqlisshv.jplace\n",
      "[13:09:02] jobs.py (line 131):     INFO: Finished pplacer Job with input: backbone_alignment_file:/tmp/sepp/output.jxrx0h3o/root/P_12/pplacer.backbone.x70c50g0.fasta, tree_file:/tmp/sepp/output.jxrx0h3o/root/P_12/pplacer.tree.5zycqoci.tre, info_file:/home/lauro/anaconda3/envs/qiime2-2021.11/lib/python3.8/site-packages/picrust2/default_files/prokaryotic/pro_ref/pro_ref.raxml_info, extended alignment:/tmp/sepp/output.jxrx0h3o/root/P_12/pplacer.extended.0.zug96612.fasta, output:/tmp/sepp/output.jxrx0h3o/root/P_12/pplacer.extended.0.zug96612.jplace\n",
      "[13:09:03] jobs.py (line 131):     INFO: Finished pplacer Job with input: backbone_alignment_file:/tmp/sepp/output.jxrx0h3o/root/P_14/pplacer.backbone.rbasvu8i.fasta, tree_file:/tmp/sepp/output.jxrx0h3o/root/P_14/pplacer.tree.8xclu1d4.tre, info_file:/home/lauro/anaconda3/envs/qiime2-2021.11/lib/python3.8/site-packages/picrust2/default_files/prokaryotic/pro_ref/pro_ref.raxml_info, extended alignment:/tmp/sepp/output.jxrx0h3o/root/P_14/pplacer.extended.0.mxxscwwu.fasta, output:/tmp/sepp/output.jxrx0h3o/root/P_14/pplacer.extended.0.mxxscwwu.jplace\n",
      "[13:09:05] jobs.py (line 131):     INFO: Finished pplacer Job with input: backbone_alignment_file:/tmp/sepp/output.jxrx0h3o/root/P_15/pplacer.backbone.vf_qkisd.fasta, tree_file:/tmp/sepp/output.jxrx0h3o/root/P_15/pplacer.tree.y_ozuody.tre, info_file:/home/lauro/anaconda3/envs/qiime2-2021.11/lib/python3.8/site-packages/picrust2/default_files/prokaryotic/pro_ref/pro_ref.raxml_info, extended alignment:/tmp/sepp/output.jxrx0h3o/root/P_15/pplacer.extended.0.666u7q78.fasta, output:/tmp/sepp/output.jxrx0h3o/root/P_15/pplacer.extended.0.666u7q78.jplace\n",
      "[13:09:06] jobs.py (line 131):     INFO: Finished pplacer Job with input: backbone_alignment_file:/tmp/sepp/output.jxrx0h3o/root/P_15/pplacer.backbone._r_u1_az.fasta, tree_file:/tmp/sepp/output.jxrx0h3o/root/P_15/pplacer.tree.ynva7bm0.tre, info_file:/home/lauro/anaconda3/envs/qiime2-2021.11/lib/python3.8/site-packages/picrust2/default_files/prokaryotic/pro_ref/pro_ref.raxml_info, extended alignment:/tmp/sepp/output.jxrx0h3o/root/P_15/pplacer.extended.1.oexjb0a6.fasta, output:/tmp/sepp/output.jxrx0h3o/root/P_15/pplacer.extended.1.oexjb0a6.jplace\n",
      "[13:09:15] jobs.py (line 131):     INFO: Finished pplacer Job with input: backbone_alignment_file:/tmp/sepp/output.jxrx0h3o/root/P_11/pplacer.backbone.cn_j5pxc.fasta, tree_file:/tmp/sepp/output.jxrx0h3o/root/P_11/pplacer.tree.q70s3t04.tre, info_file:/home/lauro/anaconda3/envs/qiime2-2021.11/lib/python3.8/site-packages/picrust2/default_files/prokaryotic/pro_ref/pro_ref.raxml_info, extended alignment:/tmp/sepp/output.jxrx0h3o/root/P_11/pplacer.extended.0.gts0isqi.fasta, output:/tmp/sepp/output.jxrx0h3o/root/P_11/pplacer.extended.0.gts0isqi.jplace\n",
      "[13:09:16] jobs.py (line 131):     INFO: Finished pplacer Job with input: backbone_alignment_file:/tmp/sepp/output.jxrx0h3o/root/P_11/pplacer.backbone.pd3slu0t.fasta, tree_file:/tmp/sepp/output.jxrx0h3o/root/P_11/pplacer.tree.hel96r9r.tre, info_file:/home/lauro/anaconda3/envs/qiime2-2021.11/lib/python3.8/site-packages/picrust2/default_files/prokaryotic/pro_ref/pro_ref.raxml_info, extended alignment:/tmp/sepp/output.jxrx0h3o/root/P_11/pplacer.extended.2.02q8zxtp.fasta, output:/tmp/sepp/output.jxrx0h3o/root/P_11/pplacer.extended.2.02q8zxtp.jplace\n",
      "[13:09:17] jobs.py (line 131):     INFO: Finished pplacer Job with input: backbone_alignment_file:/tmp/sepp/output.jxrx0h3o/root/P_11/pplacer.backbone.wwvs9blm.fasta, tree_file:/tmp/sepp/output.jxrx0h3o/root/P_11/pplacer.tree.ty1o4n8g.tre, info_file:/home/lauro/anaconda3/envs/qiime2-2021.11/lib/python3.8/site-packages/picrust2/default_files/prokaryotic/pro_ref/pro_ref.raxml_info, extended alignment:/tmp/sepp/output.jxrx0h3o/root/P_11/pplacer.extended.1.il727jja.fasta, output:/tmp/sepp/output.jxrx0h3o/root/P_11/pplacer.extended.1.il727jja.jplace\n",
      "[13:09:25] jobs.py (line 131):     INFO: Finished jsonmerger Job with input: input:pipe output:/tmp/tmpvjtt6af0/picrust2_out/intermediate/place_seqs/sepp_out/output_placement.json\n",
      "[13:09:25] algorithm.py (line 195):     INFO: Current execution Finished in 77 seconds\n",
      "[13:09:25] algorithm.py (line 197):     INFO: All checkpointed executions Finished in 77 cumulative time\n",
      "\n",
      "gappa examine graft --jplace-path /tmp/tmpvjtt6af0/picrust2_out/intermediate/place_seqs/sepp_out/output_placement.json --fully-resolve --out-dir /tmp/tmpvjtt6af0/picrust2_out/intermediate/place_seqs/sepp_out\n",
      "\n",
      "mv /tmp/tmpvjtt6af0/picrust2_out/intermediate/place_seqs/sepp_out/output_placement.newick /tmp/tmpvjtt6af0/picrust2_out/out.tre\n",
      "\n",
      "Finished placing sequences on output tree: /tmp/tmpvjtt6af0/picrust2_out/out.tre\n",
      "hsp.py --tree /tmp/tmpvjtt6af0/picrust2_out/out.tre --output /tmp/tmpvjtt6af0/picrust2_out/marker_predicted_and_nsti.tsv.gz --observed_trait_table /home/lauro/anaconda3/envs/qiime2-2021.11/lib/python3.8/site-packages/picrust2/default_files/prokaryotic/16S.txt.gz --hsp_method pic --edge_exponent 0.5 --seed 100 --calculate_NSTI --processes 1 --verbose\n"
     ]
    },
    {
     "name": "stdout",
     "output_type": "stream",
     "text": [
      "\n",
      "\n",
      "\n"
     ]
    },
    {
     "name": "stderr",
     "output_type": "stream",
     "text": [
      "Rscript /home/lauro/anaconda3/envs/qiime2-2021.11/lib/python3.8/site-packages/picrust2/Rscripts/castor_nsti.R /tmp/tmpvjtt6af0/picrust2_out/out.tre /tmp/tmp36zqkwsg/known_tips.txt /tmp/tmp36zqkwsg/nsti_out.txt\n",
      "\n",
      "Rscript /home/lauro/anaconda3/envs/qiime2-2021.11/lib/python3.8/site-packages/picrust2/Rscripts/castor_hsp.R /tmp/tmpvjtt6af0/picrust2_out/out.tre /tmp/tmpwxi5zaq_/subset_tab_0 pic 0.5 FALSE FALSE /tmp/tmpelwmv7ms/predicted_counts.txt /tmp/tmpelwmv7ms/predicted_ci.txt 100\n",
      "\n",
      "\n",
      "hsp.py --tree /tmp/tmpvjtt6af0/picrust2_out/out.tre --output /tmp/tmpvjtt6af0/picrust2_out/EC_predicted.tsv.gz --observed_trait_table /home/lauro/anaconda3/envs/qiime2-2021.11/lib/python3.8/site-packages/picrust2/default_files/prokaryotic/ec.txt.gz --hsp_method pic --edge_exponent 0.5 --seed 100 --processes 6 --verbose\n"
     ]
    },
    {
     "name": "stdout",
     "output_type": "stream",
     "text": [
      "\n",
      "\n",
      "\n",
      "\n",
      "\n",
      "\n",
      "\n"
     ]
    },
    {
     "name": "stderr",
     "output_type": "stream",
     "text": [
      "Rscript /home/lauro/anaconda3/envs/qiime2-2021.11/lib/python3.8/site-packages/picrust2/Rscripts/castor_hsp.R /tmp/tmpvjtt6af0/picrust2_out/out.tre /tmp/tmpz6u4u2hv/subset_tab_2 pic 0.5 FALSE FALSE /tmp/tmpm9kd_dht/predicted_counts.txt /tmp/tmpm9kd_dht/predicted_ci.txt 100\n",
      "\n",
      "Rscript /home/lauro/anaconda3/envs/qiime2-2021.11/lib/python3.8/site-packages/picrust2/Rscripts/castor_hsp.R /tmp/tmpvjtt6af0/picrust2_out/out.tre /tmp/tmpz6u4u2hv/subset_tab_0 pic 0.5 FALSE FALSE /tmp/tmpl5n_hd_o/predicted_counts.txt /tmp/tmpl5n_hd_o/predicted_ci.txt 100\n",
      "\n",
      "Rscript /home/lauro/anaconda3/envs/qiime2-2021.11/lib/python3.8/site-packages/picrust2/Rscripts/castor_hsp.R /tmp/tmpvjtt6af0/picrust2_out/out.tre /tmp/tmpz6u4u2hv/subset_tab_5 pic 0.5 FALSE FALSE /tmp/tmpw_eb75kv/predicted_counts.txt /tmp/tmpw_eb75kv/predicted_ci.txt 100\n",
      "\n",
      "Rscript /home/lauro/anaconda3/envs/qiime2-2021.11/lib/python3.8/site-packages/picrust2/Rscripts/castor_hsp.R /tmp/tmpvjtt6af0/picrust2_out/out.tre /tmp/tmpz6u4u2hv/subset_tab_1 pic 0.5 FALSE FALSE /tmp/tmpcpls54r6/predicted_counts.txt /tmp/tmpcpls54r6/predicted_ci.txt 100\n",
      "\n",
      "Rscript /home/lauro/anaconda3/envs/qiime2-2021.11/lib/python3.8/site-packages/picrust2/Rscripts/castor_hsp.R /tmp/tmpvjtt6af0/picrust2_out/out.tre /tmp/tmpz6u4u2hv/subset_tab_3 pic 0.5 FALSE FALSE /tmp/tmp7y_woir4/predicted_counts.txt /tmp/tmp7y_woir4/predicted_ci.txt 100\n",
      "\n",
      "Rscript /home/lauro/anaconda3/envs/qiime2-2021.11/lib/python3.8/site-packages/picrust2/Rscripts/castor_hsp.R /tmp/tmpvjtt6af0/picrust2_out/out.tre /tmp/tmpz6u4u2hv/subset_tab_4 pic 0.5 FALSE FALSE /tmp/tmp5qarl9r_/predicted_counts.txt /tmp/tmp5qarl9r_/predicted_ci.txt 100\n",
      "\n",
      "\n",
      "hsp.py --tree /tmp/tmpvjtt6af0/picrust2_out/out.tre --output /tmp/tmpvjtt6af0/picrust2_out/KO_predicted.tsv.gz --observed_trait_table /home/lauro/anaconda3/envs/qiime2-2021.11/lib/python3.8/site-packages/picrust2/default_files/prokaryotic/ko.txt.gz --hsp_method pic --edge_exponent 0.5 --seed 100 --processes 6 --verbose\n"
     ]
    },
    {
     "name": "stdout",
     "output_type": "stream",
     "text": [
      "\n",
      "\n",
      "\n",
      "\n",
      "\n",
      "\n",
      "\n",
      "\n",
      "\n",
      "\n",
      "\n",
      "\n",
      "\n",
      "\n",
      "\n",
      "\n",
      "\n",
      "\n",
      "\n",
      "\n",
      "\n",
      "\n",
      "\n"
     ]
    },
    {
     "name": "stderr",
     "output_type": "stream",
     "text": [
      "Rscript /home/lauro/anaconda3/envs/qiime2-2021.11/lib/python3.8/site-packages/picrust2/Rscripts/castor_hsp.R /tmp/tmpvjtt6af0/picrust2_out/out.tre /tmp/tmpz8taqo0t/subset_tab_5 pic 0.5 FALSE FALSE /tmp/tmpjl7olm93/predicted_counts.txt /tmp/tmpjl7olm93/predicted_ci.txt 100\n",
      "\n",
      "Rscript /home/lauro/anaconda3/envs/qiime2-2021.11/lib/python3.8/site-packages/picrust2/Rscripts/castor_hsp.R /tmp/tmpvjtt6af0/picrust2_out/out.tre /tmp/tmpz8taqo0t/subset_tab_7 pic 0.5 FALSE FALSE /tmp/tmp3dl3y0b6/predicted_counts.txt /tmp/tmp3dl3y0b6/predicted_ci.txt 100\n",
      "\n",
      "Rscript /home/lauro/anaconda3/envs/qiime2-2021.11/lib/python3.8/site-packages/picrust2/Rscripts/castor_hsp.R /tmp/tmpvjtt6af0/picrust2_out/out.tre /tmp/tmpz8taqo0t/subset_tab_15 pic 0.5 FALSE FALSE /tmp/tmpjnp9fgch/predicted_counts.txt /tmp/tmpjnp9fgch/predicted_ci.txt 100\n",
      "\n",
      "Rscript /home/lauro/anaconda3/envs/qiime2-2021.11/lib/python3.8/site-packages/picrust2/Rscripts/castor_hsp.R /tmp/tmpvjtt6af0/picrust2_out/out.tre /tmp/tmpz8taqo0t/subset_tab_21 pic 0.5 FALSE FALSE /tmp/tmpvyu67bqq/predicted_counts.txt /tmp/tmpvyu67bqq/predicted_ci.txt 100\n",
      "\n",
      "Rscript /home/lauro/anaconda3/envs/qiime2-2021.11/lib/python3.8/site-packages/picrust2/Rscripts/castor_hsp.R /tmp/tmpvjtt6af0/picrust2_out/out.tre /tmp/tmpz8taqo0t/subset_tab_4 pic 0.5 FALSE FALSE /tmp/tmptlhk9n1_/predicted_counts.txt /tmp/tmptlhk9n1_/predicted_ci.txt 100\n",
      "\n",
      "Rscript /home/lauro/anaconda3/envs/qiime2-2021.11/lib/python3.8/site-packages/picrust2/Rscripts/castor_hsp.R /tmp/tmpvjtt6af0/picrust2_out/out.tre /tmp/tmpz8taqo0t/subset_tab_11 pic 0.5 FALSE FALSE /tmp/tmpvrcv56j6/predicted_counts.txt /tmp/tmpvrcv56j6/predicted_ci.txt 100\n",
      "\n",
      "Rscript /home/lauro/anaconda3/envs/qiime2-2021.11/lib/python3.8/site-packages/picrust2/Rscripts/castor_hsp.R /tmp/tmpvjtt6af0/picrust2_out/out.tre /tmp/tmpz8taqo0t/subset_tab_17 pic 0.5 FALSE FALSE /tmp/tmp9jz3o1co/predicted_counts.txt /tmp/tmp9jz3o1co/predicted_ci.txt 100\n",
      "\n",
      "Rscript /home/lauro/anaconda3/envs/qiime2-2021.11/lib/python3.8/site-packages/picrust2/Rscripts/castor_hsp.R /tmp/tmpvjtt6af0/picrust2_out/out.tre /tmp/tmpz8taqo0t/subset_tab_0 pic 0.5 FALSE FALSE /tmp/tmpezfmeak8/predicted_counts.txt /tmp/tmpezfmeak8/predicted_ci.txt 100\n",
      "\n",
      "Rscript /home/lauro/anaconda3/envs/qiime2-2021.11/lib/python3.8/site-packages/picrust2/Rscripts/castor_hsp.R /tmp/tmpvjtt6af0/picrust2_out/out.tre /tmp/tmpz8taqo0t/subset_tab_10 pic 0.5 FALSE FALSE /tmp/tmp0ko6lhol/predicted_counts.txt /tmp/tmp0ko6lhol/predicted_ci.txt 100\n",
      "\n",
      "Rscript /home/lauro/anaconda3/envs/qiime2-2021.11/lib/python3.8/site-packages/picrust2/Rscripts/castor_hsp.R /tmp/tmpvjtt6af0/picrust2_out/out.tre /tmp/tmpz8taqo0t/subset_tab_16 pic 0.5 FALSE FALSE /tmp/tmpd_s9l55c/predicted_counts.txt /tmp/tmpd_s9l55c/predicted_ci.txt 100\n",
      "\n",
      "Rscript /home/lauro/anaconda3/envs/qiime2-2021.11/lib/python3.8/site-packages/picrust2/Rscripts/castor_hsp.R /tmp/tmpvjtt6af0/picrust2_out/out.tre /tmp/tmpz8taqo0t/subset_tab_3 pic 0.5 FALSE FALSE /tmp/tmp1lt1gzkn/predicted_counts.txt /tmp/tmp1lt1gzkn/predicted_ci.txt 100\n",
      "\n",
      "Rscript /home/lauro/anaconda3/envs/qiime2-2021.11/lib/python3.8/site-packages/picrust2/Rscripts/castor_hsp.R /tmp/tmpvjtt6af0/picrust2_out/out.tre /tmp/tmpz8taqo0t/subset_tab_6 pic 0.5 FALSE FALSE /tmp/tmpgqqqunep/predicted_counts.txt /tmp/tmpgqqqunep/predicted_ci.txt 100\n",
      "\n",
      "Rscript /home/lauro/anaconda3/envs/qiime2-2021.11/lib/python3.8/site-packages/picrust2/Rscripts/castor_hsp.R /tmp/tmpvjtt6af0/picrust2_out/out.tre /tmp/tmpz8taqo0t/subset_tab_12 pic 0.5 FALSE FALSE /tmp/tmp8_n2c5jn/predicted_counts.txt /tmp/tmp8_n2c5jn/predicted_ci.txt 100\n",
      "\n",
      "Rscript /home/lauro/anaconda3/envs/qiime2-2021.11/lib/python3.8/site-packages/picrust2/Rscripts/castor_hsp.R /tmp/tmpvjtt6af0/picrust2_out/out.tre /tmp/tmpz8taqo0t/subset_tab_18 pic 0.5 FALSE FALSE /tmp/tmpeslp2_yc/predicted_counts.txt /tmp/tmpeslp2_yc/predicted_ci.txt 100\n",
      "\n",
      "Rscript /home/lauro/anaconda3/envs/qiime2-2021.11/lib/python3.8/site-packages/picrust2/Rscripts/castor_hsp.R /tmp/tmpvjtt6af0/picrust2_out/out.tre /tmp/tmpz8taqo0t/subset_tab_2 pic 0.5 FALSE FALSE /tmp/tmpz4qvtsex/predicted_counts.txt /tmp/tmpz4qvtsex/predicted_ci.txt 100\n",
      "\n",
      "Rscript /home/lauro/anaconda3/envs/qiime2-2021.11/lib/python3.8/site-packages/picrust2/Rscripts/castor_hsp.R /tmp/tmpvjtt6af0/picrust2_out/out.tre /tmp/tmpz8taqo0t/subset_tab_8 pic 0.5 FALSE FALSE /tmp/tmp4g2p_mc9/predicted_counts.txt /tmp/tmp4g2p_mc9/predicted_ci.txt 100\n",
      "\n",
      "Rscript /home/lauro/anaconda3/envs/qiime2-2021.11/lib/python3.8/site-packages/picrust2/Rscripts/castor_hsp.R /tmp/tmpvjtt6af0/picrust2_out/out.tre /tmp/tmpz8taqo0t/subset_tab_13 pic 0.5 FALSE FALSE /tmp/tmprpqwhcf1/predicted_counts.txt /tmp/tmprpqwhcf1/predicted_ci.txt 100\n",
      "\n",
      "Rscript /home/lauro/anaconda3/envs/qiime2-2021.11/lib/python3.8/site-packages/picrust2/Rscripts/castor_hsp.R /tmp/tmpvjtt6af0/picrust2_out/out.tre /tmp/tmpz8taqo0t/subset_tab_19 pic 0.5 FALSE FALSE /tmp/tmp9jzm9bku/predicted_counts.txt /tmp/tmp9jzm9bku/predicted_ci.txt 100\n",
      "\n",
      "Rscript /home/lauro/anaconda3/envs/qiime2-2021.11/lib/python3.8/site-packages/picrust2/Rscripts/castor_hsp.R /tmp/tmpvjtt6af0/picrust2_out/out.tre /tmp/tmpz8taqo0t/subset_tab_1 pic 0.5 FALSE FALSE /tmp/tmpz1mq7ffw/predicted_counts.txt /tmp/tmpz1mq7ffw/predicted_ci.txt 100\n",
      "\n",
      "Rscript /home/lauro/anaconda3/envs/qiime2-2021.11/lib/python3.8/site-packages/picrust2/Rscripts/castor_hsp.R /tmp/tmpvjtt6af0/picrust2_out/out.tre /tmp/tmpz8taqo0t/subset_tab_9 pic 0.5 FALSE FALSE /tmp/tmpuld95kz9/predicted_counts.txt /tmp/tmpuld95kz9/predicted_ci.txt 100\n",
      "\n",
      "Rscript /home/lauro/anaconda3/envs/qiime2-2021.11/lib/python3.8/site-packages/picrust2/Rscripts/castor_hsp.R /tmp/tmpvjtt6af0/picrust2_out/out.tre /tmp/tmpz8taqo0t/subset_tab_14 pic 0.5 FALSE FALSE /tmp/tmp9z19rnyk/predicted_counts.txt /tmp/tmp9z19rnyk/predicted_ci.txt 100\n",
      "\n",
      "Rscript /home/lauro/anaconda3/envs/qiime2-2021.11/lib/python3.8/site-packages/picrust2/Rscripts/castor_hsp.R /tmp/tmpvjtt6af0/picrust2_out/out.tre /tmp/tmpz8taqo0t/subset_tab_20 pic 0.5 FALSE FALSE /tmp/tmpqic80u_x/predicted_counts.txt /tmp/tmpqic80u_x/predicted_ci.txt 100\n",
      "\n",
      "\n",
      "Running metagenome pipeline for EC\n",
      "metagenome_pipeline.py --input /tmp/tmpvjtt6af0/intable.biom --function /tmp/tmpvjtt6af0/picrust2_out/EC_predicted.tsv.gz --min_reads 1 --min_samples 1 --out_dir /tmp/tmpvjtt6af0/picrust2_out/EC_metagenome_out --max_nsti 2 --marker /tmp/tmpvjtt6af0/picrust2_out/marker_predicted_and_nsti.tsv.gz\n"
     ]
    },
    {
     "name": "stdout",
     "output_type": "stream",
     "text": [
      "\n"
     ]
    },
    {
     "name": "stderr",
     "output_type": "stream",
     "text": [
      "1 of 187 ASVs were above the max NSTI cut-off of 2.0 and were removed from the downstream analyses.\n",
      "\n",
      "Running metagenome pipeline for KO\n",
      "metagenome_pipeline.py --input /tmp/tmpvjtt6af0/intable.biom --function /tmp/tmpvjtt6af0/picrust2_out/KO_predicted.tsv.gz --min_reads 1 --min_samples 1 --out_dir /tmp/tmpvjtt6af0/picrust2_out/KO_metagenome_out --max_nsti 2 --marker /tmp/tmpvjtt6af0/picrust2_out/marker_predicted_and_nsti.tsv.gz\n"
     ]
    },
    {
     "name": "stdout",
     "output_type": "stream",
     "text": [
      "\n",
      "Inferring pathways from predicted EC\n"
     ]
    },
    {
     "name": "stderr",
     "output_type": "stream",
     "text": [
      "1 of 187 ASVs were above the max NSTI cut-off of 2.0 and were removed from the downstream analyses.\n",
      "\n",
      "pathway_pipeline.py --input /tmp/tmpvjtt6af0/picrust2_out/EC_metagenome_out/pred_metagenome_unstrat.tsv.gz --out_dir /tmp/tmpvjtt6af0/picrust2_out/pathways_out --map /home/lauro/anaconda3/envs/qiime2-2021.11/lib/python3.8/site-packages/picrust2/default_files/pathway_mapfiles/metacyc_path2rxn_struc_filt_pro.txt --intermediate /tmp/tmpvjtt6af0/picrust2_out/intermediate/pathways --proc 6 --regroup_map /home/lauro/anaconda3/envs/qiime2-2021.11/lib/python3.8/site-packages/picrust2/default_files/pathway_mapfiles/ec_level4_to_metacyc_rxn.tsv --verbose\n"
     ]
    },
    {
     "name": "stderr",
     "output_type": "stream",
     "text": [
      "\n",
      "Wrote predicted pathway abundances and coverages to /tmp/tmpvjtt6af0/picrust2_out/pathways_out\n"
     ]
    }
   ],
   "source": [
    "need_pipeline = replace_files\n",
    "need_pipeline |= not (os.path.isfile(ec_path) and os.path.isfile(ko_path) and os.path.isfile(pathway_path))\n",
    "if need_pipeline:\n",
    "    results = picrust2.methods.full_pipeline(\n",
    "        table=tabs, \n",
    "        seq=seqs, \n",
    "        threads=6, \n",
    "        placement_tool='sepp',\n",
    "        hsp_method='pic', \n",
    "        max_nsti=2,\n",
    "        highly_verbose=True\n",
    "    )\n",
    "    ec_metagenome = results.ec_metagenome\n",
    "    ko_metagenome = results.ko_metagenome\n",
    "    pathway_abundance = results.pathway_abundance\n",
    "else:\n",
    "    ec_metagenome = Artifact.load(ec_path)\n",
    "    ko_metagenome = Artifact.load(ko_path)\n",
    "    pathway_abundance = Artifact.load(pathway_path)"
   ]
  },
  {
   "cell_type": "markdown",
   "id": "771308c4",
   "metadata": {
    "papermill": {
     "duration": 0.034987,
     "end_time": "2023-02-01T13:12:43.740760",
     "exception": false,
     "start_time": "2023-02-01T13:12:43.705773",
     "status": "completed"
    },
    "tags": []
   },
   "source": [
    "### Persist created artifacts\n",
    "\n",
    "We will define file paths and persist all artifacts. We start with `.qza` files. We will save the visualization files in sequence as `qzv` files. Finally, we save a `biom`-like file as `tsv` with brief descriptions of all functions."
   ]
  },
  {
   "cell_type": "code",
   "execution_count": 9,
   "id": "c680ab46",
   "metadata": {
    "ExecuteTime": {
     "end_time": "2022-11-09T19:20:47.646444Z",
     "start_time": "2022-11-09T19:20:47.643806Z"
    },
    "execution": {
     "iopub.execute_input": "2023-02-01T13:12:43.813784Z",
     "iopub.status.busy": "2023-02-01T13:12:43.813346Z",
     "iopub.status.idle": "2023-02-01T13:12:43.890041Z",
     "shell.execute_reply": "2023-02-01T13:12:43.890937Z"
    },
    "papermill": {
     "duration": 0.115967,
     "end_time": "2023-02-01T13:12:43.891221",
     "exception": false,
     "start_time": "2023-02-01T13:12:43.775254",
     "status": "completed"
    },
    "tags": []
   },
   "outputs": [],
   "source": [
    "if need_pipeline:\n",
    "    # Export artifact folder\n",
    "    ec_metagenome.export_data(output_dir=ec_path.split('.')[0])\n",
    "    ko_metagenome.export_data(output_dir=ko_path.split('.')[0])\n",
    "    pathway_abundance.export_data(output_dir=pathway_path.split('.')[0])\n",
    "    \n",
    "    # Save artifacts as .qza files\n",
    "    ec_metagenome.save(ec_path)\n",
    "    ko_metagenome.save(ko_path)\n",
    "    pathway_abundance.save(pathway_path)"
   ]
  },
  {
   "cell_type": "code",
   "execution_count": 10,
   "id": "d61ebec3",
   "metadata": {
    "ExecuteTime": {
     "end_time": "2022-11-09T19:20:47.687022Z",
     "start_time": "2022-11-09T19:20:47.647637Z"
    },
    "execution": {
     "iopub.execute_input": "2023-02-01T13:12:43.970716Z",
     "iopub.status.busy": "2023-02-01T13:12:43.970280Z",
     "iopub.status.idle": "2023-02-01T13:12:48.331655Z",
     "shell.execute_reply": "2023-02-01T13:12:48.332557Z"
    },
    "papermill": {
     "duration": 4.401657,
     "end_time": "2023-02-01T13:12:48.332850",
     "exception": false,
     "start_time": "2023-02-01T13:12:43.931193",
     "status": "completed"
    },
    "tags": []
   },
   "outputs": [],
   "source": [
    "need_viz = replace_files\n",
    "need_viz |= not (os.path.isfile(ec_viz_path) and os.path.isfile(ko_viz_path) and os.path.isfile(pathway_viz_path))\n",
    "if need_viz:\n",
    "    # Create visualization artifacts\n",
    "    ec_viz = summarize(table=ec_metagenome, sample_metadata=metadata_qa).visualization\n",
    "    ko_viz = summarize(table=ko_metagenome, sample_metadata=metadata_qa).visualization\n",
    "    path_viz = summarize(table=pathway_abundance, sample_metadata=metadata_qa).visualization\n",
    "\n",
    "    # Save visualization artifacts as .qzv files\n",
    "    ec_viz.save(ec_viz_path)\n",
    "    ko_viz.save(ko_viz_path)\n",
    "    path_viz.save(pathway_viz_path)"
   ]
  },
  {
   "cell_type": "code",
   "execution_count": 11,
   "id": "57f1f4d8",
   "metadata": {
    "ExecuteTime": {
     "end_time": "2022-11-09T19:20:47.704885Z",
     "start_time": "2022-11-09T19:20:47.689312Z"
    },
    "execution": {
     "iopub.execute_input": "2023-02-01T13:12:48.476163Z",
     "iopub.status.busy": "2023-02-01T13:12:48.475191Z",
     "iopub.status.idle": "2023-02-01T13:12:51.543935Z",
     "shell.execute_reply": "2023-02-01T13:12:51.544904Z"
    },
    "papermill": {
     "duration": 3.166467,
     "end_time": "2023-02-01T13:12:51.545179",
     "exception": false,
     "start_time": "2023-02-01T13:12:48.378712",
     "status": "completed"
    },
    "tags": []
   },
   "outputs": [],
   "source": [
    "need_biom = replace_files\n",
    "need_biom |= not (os.path.isfile(ec_fpath) and os.path.isfile(ko_fpath) and os.path.isfile(pathway_fpath))\n",
    "if need_biom:\n",
    "    # Convert artifact to dataframe - transposed\n",
    "    df_pathway = pathway_abundance.view(pd.DataFrame).T\n",
    "    df_ec = ec_metagenome.view(pd.DataFrame).T\n",
    "    df_ko = ko_metagenome.view(pd.DataFrame).T\n",
    "\n",
    "    # Write dataframe to a tsv file\n",
    "    df_pathway.to_csv(pathway_fpath, sep='\\t', index=True)\n",
    "    df_ec.to_csv(ec_fpath, sep='\\t', index=True)\n",
    "    df_ko.to_csv(ko_fpath, sep='\\t', index=True)\n",
    "    \n",
    "    # Put a new column with descriptions of each function's ID\n",
    "    !add_descriptions.py -i {ec_fpath} -m EC -o {ec_desc_fpath}\n",
    "    !add_descriptions.py -i {ko_fpath} -m KO -o {ko_desc_fpath}\n",
    "    !add_descriptions.py -i {pathway_fpath} -m METACYC -o {pathway_desc_fpath}"
   ]
  }
 ],
 "metadata": {
  "celltoolbar": "Edit Metadata",
  "kernelspec": {
   "display_name": "Python 3",
   "language": "python",
   "name": "python3"
  },
  "language_info": {
   "codemirror_mode": {
    "name": "ipython",
    "version": 3
   },
   "file_extension": ".py",
   "mimetype": "text/x-python",
   "name": "python",
   "nbconvert_exporter": "python",
   "pygments_lexer": "ipython3",
   "version": "3.8.12"
  },
  "papermill": {
   "default_parameters": {},
   "duration": 303.226314,
   "end_time": "2023-02-01T13:12:52.504736",
   "environment_variables": {},
   "exception": null,
   "input_path": "nb-templates/step-picrust2-analysis.ipynb",
   "output_path": "/home/lauro/nupeb/rede-micro/redemicro-andressa-lbtm/experiments/andressa-01/nb-executed-steps/step-picrust2-analysis-andressa-01.ipynb",
   "parameters": {
    "base_dir": "/home/lauro/nupeb/rede-micro/redemicro-andressa-lbtm",
    "class_col": "group-id",
    "classifier_file": "/home/lauro/nupeb/dados_brutos_rede_genoma/16S_classifiers_qiime2/silva-138-99-nb-classifier.qza",
    "experiment_name": "andressa",
    "manifest_file": "/home/lauro/nupeb/rede-micro/redemicro-andressa-lbtm/data/manifest.csv",
    "metadata_file": "/home/lauro/nupeb/rede-micro/redemicro-andressa-lbtm/data/metadata.tsv",
    "overlap": 12,
    "phred": 20,
    "replace_files": false,
    "threads": 6,
    "trunc_f": 0,
    "trunc_r": 0
   },
   "start_time": "2023-02-01T13:07:49.278422",
   "version": "2.3.4"
  }
 },
 "nbformat": 4,
 "nbformat_minor": 5
}