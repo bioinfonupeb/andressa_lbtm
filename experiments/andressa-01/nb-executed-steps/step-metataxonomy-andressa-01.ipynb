{
 "cells": [
  {
   "cell_type": "markdown",
   "id": "1955ef32",
   "metadata": {
    "tags": [
     "papermill-error-cell-tag"
    ]
   },
   "source": [
    "<span style=\"color:red; font-family:Helvetica Neue, Helvetica, Arial, sans-serif; font-size:2em;\">An Exception was encountered at '<a href=\"#papermill-error-cell\">In [8]</a>'.</span>"
   ]
  },
  {
   "cell_type": "markdown",
   "id": "fa974126",
   "metadata": {
    "papermill": {
     "duration": 0.02294,
     "end_time": "2023-02-10T19:22:07.297722",
     "exception": false,
     "start_time": "2023-02-10T19:22:07.274782",
     "status": "completed"
    },
    "tags": []
   },
   "source": [
    "### STEP : Taxonomic assignment\n",
    "#### Taxonomic assignment with Silva 16S\n",
    "\n",
    "Using Silva 16S classifier for Qiime2. List with all [classifiers](https://docs.qiime2.org/2020.6/data-resources/). \n",
    "\n",
    "#### Versions \n",
    "- [Silva 138 99% OTUs full-length sequences](https://data.qiime2.org/2020.6/common/silva-138-99-nb-classifier.qza)\n",
    "- [Silva 138 99% OTUs from 515F/806R region of sequences](https://data.qiime2.org/2020.6/common/silva-138-99-515-806-nb-classifier.qza)\n",
    "- [Greengenes 13_8 99% OTUs full-length sequences](https://data.qiime2.org/2020.6/common/gg-13-8-99-nb-classifier.qza)\n",
    "- [Greengenes 13_8 99% OTUs from 515F/806R region of sequences](https://data.qiime2.org/2020.6/common/gg-13-8-99-515-806-nb-classifier.qza)\n",
    "\n",
    "#### Methods\n",
    "- [qiime feature-classifier](https://docs.qiime2.org/2022.2/plugins/available/feature-classifier/)\n",
    "- [qiime feature-classifier classify-sklearn](https://docs.qiime2.org/2021.8/plugins/available/feature-classifier/classify-sklearn)\n",
    "- [qiime metadata](https://docs.qiime2.org/2022.2/plugins/available/metadata/)\n",
    "- [classify-hybrid-vsearch-sklearn](https://docs.qiime2.org/2022.2/plugins/available/feature-classifier/classify-hybrid-vsearch-sklearn/)\n",
    "- [qiime metadata tabulate](https://docs.qiime2.org/2022.2/plugins/available/metadata/tabulate/)\n",
    "- [qiime taxa](https://docs.qiime2.org/2022.2/plugins/available/taxa/)\n",
    "- [qiime taxa barplot](https://docs.qiime2.org/2022.2/plugins/available/taxa/barplot/)"
   ]
  },
  {
   "cell_type": "markdown",
   "id": "7d4f5ac0",
   "metadata": {
    "papermill": {
     "duration": 0.023106,
     "end_time": "2023-02-10T19:22:07.514756",
     "exception": false,
     "start_time": "2023-02-10T19:22:07.491650",
     "status": "completed"
    },
    "tags": []
   },
   "source": [
    "## Setup and settings"
   ]
  },
  {
   "cell_type": "code",
   "execution_count": 1,
   "id": "1c5021cc",
   "metadata": {
    "ExecuteTime": {
     "end_time": "2022-10-03T18:01:35.861048Z",
     "start_time": "2022-10-03T18:01:35.837041Z"
    },
    "execution": {
     "iopub.execute_input": "2023-02-10T19:22:07.543878Z",
     "iopub.status.busy": "2023-02-10T19:22:07.543323Z",
     "iopub.status.idle": "2023-02-10T19:22:13.586767Z",
     "shell.execute_reply": "2023-02-10T19:22:13.585647Z"
    },
    "papermill": {
     "duration": 6.060143,
     "end_time": "2023-02-10T19:22:13.589188",
     "exception": false,
     "start_time": "2023-02-10T19:22:07.529045",
     "status": "completed"
    },
    "tags": []
   },
   "outputs": [],
   "source": [
    "# Importing packages\n",
    "import os\n",
    "import pandas as pd\n",
    "import numpy as np\n",
    "from qiime2 import Artifact\n",
    "from qiime2 import Visualization\n",
    "from qiime2 import Metadata\n",
    "import qiime2.plugins.metadata.actions as metadata_actions\n",
    "from qiime2.plugins.metadata.visualizers import tabulate\n",
    "\n",
    "from qiime2.plugins import feature_classifier\n",
    "from qiime2.plugins import metadata\n",
    "from qiime2.plugins import taxa\n",
    "\n",
    "from qiime2.plugins.taxa.methods import collapse\n",
    "from qiime2.plugins.taxa.methods import filter_table\n",
    "from qiime2.plugins.feature_table.methods import filter_samples\n",
    "from qiime2.plugins.feature_table.visualizers import summarize\n",
    "\n",
    "import matplotlib.pyplot as plt\n",
    "import seaborn as sns\n",
    "\n",
    "%matplotlib inline\n",
    "%config InlineBackend.figure_format = 'svg'"
   ]
  },
  {
   "cell_type": "code",
   "execution_count": 2,
   "id": "41555847",
   "metadata": {
    "ExecuteTime": {
     "end_time": "2022-10-03T14:33:40.410742Z",
     "start_time": "2022-10-03T14:33:36.196677Z"
    },
    "execution": {
     "iopub.execute_input": "2023-02-10T19:22:13.617536Z",
     "iopub.status.busy": "2023-02-10T19:22:13.617323Z",
     "iopub.status.idle": "2023-02-10T19:22:17.963533Z",
     "shell.execute_reply": "2023-02-10T19:22:17.962371Z"
    },
    "papermill": {
     "duration": 4.361378,
     "end_time": "2023-02-10T19:22:17.966479",
     "exception": false,
     "start_time": "2023-02-10T19:22:13.605101",
     "status": "completed"
    },
    "tags": []
   },
   "outputs": [
    {
     "name": "stdout",
     "output_type": "stream",
     "text": [
      "Requirement already satisfied: scikit-learn==0.23.1 in /home/lauro/anaconda3/envs/qiime2-2022.2/lib/python3.8/site-packages (0.23.1)\r\n",
      "Requirement already satisfied: numpy>=1.13.3 in /home/lauro/anaconda3/envs/qiime2-2022.2/lib/python3.8/site-packages (from scikit-learn==0.23.1) (1.22.2)\r\n",
      "Requirement already satisfied: threadpoolctl>=2.0.0 in /home/lauro/anaconda3/envs/qiime2-2022.2/lib/python3.8/site-packages (from scikit-learn==0.23.1) (3.1.0)\r\n",
      "Requirement already satisfied: joblib>=0.11 in /home/lauro/anaconda3/envs/qiime2-2022.2/lib/python3.8/site-packages (from scikit-learn==0.23.1) (1.1.0)\r\n",
      "Requirement already satisfied: scipy>=0.19.1 in /home/lauro/anaconda3/envs/qiime2-2022.2/lib/python3.8/site-packages (from scikit-learn==0.23.1) (1.8.0)\r\n"
     ]
    },
    {
     "name": "stdout",
     "output_type": "stream",
     "text": [
      "Note: you may need to restart the kernel to use updated packages.\n"
     ]
    }
   ],
   "source": [
    "# install scikit-learn specific version to use trained classifier\n",
    "%pip install --user 'scikit-learn==0.23.1'"
   ]
  },
  {
   "cell_type": "markdown",
   "id": "6f9d9617",
   "metadata": {
    "papermill": {
     "duration": 0.019179,
     "end_time": "2023-02-10T19:22:18.005378",
     "exception": false,
     "start_time": "2023-02-10T19:22:17.986199",
     "status": "completed"
    },
    "tags": []
   },
   "source": [
    "### Receiving the parameters\n",
    "\n",
    "The following cell can receive parameters using the [papermill](https://papermill.readthedocs.io/en/latest/) tool."
   ]
  },
  {
   "cell_type": "code",
   "execution_count": 3,
   "id": "33ee7056",
   "metadata": {
    "ExecuteTime": {
     "end_time": "2022-10-03T14:33:40.420496Z",
     "start_time": "2022-10-03T14:33:40.414658Z"
    },
    "execution": {
     "iopub.execute_input": "2023-02-10T19:22:18.055589Z",
     "iopub.status.busy": "2023-02-10T19:22:18.055176Z",
     "iopub.status.idle": "2023-02-10T19:22:18.062586Z",
     "shell.execute_reply": "2023-02-10T19:22:18.061647Z"
    },
    "papermill": {
     "duration": 0.038004,
     "end_time": "2023-02-10T19:22:18.064515",
     "exception": false,
     "start_time": "2023-02-10T19:22:18.026511",
     "status": "completed"
    },
    "tags": [
     "parameters"
    ]
   },
   "outputs": [],
   "source": [
    "metadata_file = '/home/lauro/nupeb/rede-micro/redemicro-miliane-nutri/data/raw/metadata/miliane-metadata-CxAC.tsv'\n",
    "base_dir = os.path.join('/', 'home', 'lauro', 'nupeb', 'rede-micro', 'redemicro-miliane-nutri')\n",
    "experiment_name = 'miliane-CxAC-trim'\n",
    "class_col = 'group-id'\n",
    "replace_files = False\n",
    "exclude_tax = False\n",
    "top_n = None"
   ]
  },
  {
   "cell_type": "code",
   "execution_count": 4,
   "id": "2b72583a",
   "metadata": {
    "execution": {
     "iopub.execute_input": "2023-02-10T19:22:18.095321Z",
     "iopub.status.busy": "2023-02-10T19:22:18.094968Z",
     "iopub.status.idle": "2023-02-10T19:22:18.101888Z",
     "shell.execute_reply": "2023-02-10T19:22:18.100969Z"
    },
    "papermill": {
     "duration": 0.022332,
     "end_time": "2023-02-10T19:22:18.103640",
     "exception": false,
     "start_time": "2023-02-10T19:22:18.081308",
     "status": "completed"
    },
    "tags": [
     "injected-parameters"
    ]
   },
   "outputs": [],
   "source": [
    "# Parameters\n",
    "experiment_name = \"andressa\"\n",
    "base_dir = \"/home/lauro/nupeb/rede-micro/redemicro-andressa-lbtm\"\n",
    "manifest_file = \"/home/lauro/nupeb/rede-micro/redemicro-andressa-lbtm/data/manifest.csv\"\n",
    "metadata_file = \"/home/lauro/nupeb/rede-micro/redemicro-andressa-lbtm/data/metadata.tsv\"\n",
    "class_col = \"group-id\"\n",
    "classifier_file = \"/home/lauro/nupeb/rede-micro/models/silva-138-99-nb-classifier.qza\"\n",
    "replace_files = False\n",
    "phred = 20\n",
    "trunc_f = 0\n",
    "trunc_r = 0\n",
    "overlap = 12\n",
    "threads = 6\n"
   ]
  },
  {
   "cell_type": "code",
   "execution_count": 5,
   "id": "f83f1ed9",
   "metadata": {
    "ExecuteTime": {
     "end_time": "2022-10-03T14:33:40.436964Z",
     "start_time": "2022-10-03T14:33:40.423066Z"
    },
    "execution": {
     "iopub.execute_input": "2023-02-10T19:22:18.131676Z",
     "iopub.status.busy": "2023-02-10T19:22:18.131304Z",
     "iopub.status.idle": "2023-02-10T19:22:18.137845Z",
     "shell.execute_reply": "2023-02-10T19:22:18.136952Z"
    },
    "papermill": {
     "duration": 0.021783,
     "end_time": "2023-02-10T19:22:18.139526",
     "exception": false,
     "start_time": "2023-02-10T19:22:18.117743",
     "status": "completed"
    },
    "tags": []
   },
   "outputs": [],
   "source": [
    "experiment_folder = os.path.abspath(os.path.join(base_dir, 'experiments', experiment_name))\n",
    "img_folder = os.path.abspath(os.path.join(experiment_folder, 'imgs'))\n",
    "sheet_folder = os.path.abspath(os.path.join(experiment_folder, 'sheets'))"
   ]
  },
  {
   "cell_type": "code",
   "execution_count": 6,
   "id": "3597edb9",
   "metadata": {
    "ExecuteTime": {
     "end_time": "2022-10-03T14:33:40.584633Z",
     "start_time": "2022-10-03T14:33:40.439283Z"
    },
    "execution": {
     "iopub.execute_input": "2023-02-10T19:22:18.167246Z",
     "iopub.status.busy": "2023-02-10T19:22:18.166891Z",
     "iopub.status.idle": "2023-02-10T19:22:18.320732Z",
     "shell.execute_reply": "2023-02-10T19:22:18.319121Z"
    },
    "papermill": {
     "duration": 0.171012,
     "end_time": "2023-02-10T19:22:18.324324",
     "exception": false,
     "start_time": "2023-02-10T19:22:18.153312",
     "status": "completed"
    },
    "tags": []
   },
   "outputs": [],
   "source": [
    "!mkdir -p {sheet_folder}"
   ]
  },
  {
   "cell_type": "markdown",
   "id": "48a9f749",
   "metadata": {
    "papermill": {
     "duration": 0.014415,
     "end_time": "2023-02-10T19:22:18.360173",
     "exception": false,
     "start_time": "2023-02-10T19:22:18.345758",
     "status": "completed"
    },
    "tags": []
   },
   "source": [
    "### Defining names, paths and flags"
   ]
  },
  {
   "cell_type": "code",
   "execution_count": 7,
   "id": "d5044bd9",
   "metadata": {
    "ExecuteTime": {
     "end_time": "2022-10-03T14:33:40.609195Z",
     "start_time": "2022-10-03T14:33:40.588964Z"
    },
    "execution": {
     "iopub.execute_input": "2023-02-10T19:22:18.390334Z",
     "iopub.status.busy": "2023-02-10T19:22:18.389819Z",
     "iopub.status.idle": "2023-02-10T19:22:18.401356Z",
     "shell.execute_reply": "2023-02-10T19:22:18.400669Z"
    },
    "papermill": {
     "duration": 0.029024,
     "end_time": "2023-02-10T19:22:18.403208",
     "exception": false,
     "start_time": "2023-02-10T19:22:18.374184",
     "status": "completed"
    },
    "tags": []
   },
   "outputs": [],
   "source": [
    "# QIIME2 Artifacts folder\n",
    "qiime_folder = os.path.join(experiment_folder, 'qiime-artifacts')\n",
    "\n",
    "# Input - DADA2 Artifacts\n",
    "dada2_tabs_path = os.path.join(qiime_folder, 'dada2-tabs.qza')\n",
    "dada2_reps_path = os.path.join(qiime_folder, 'dada2-reps.qza')\n",
    "dada2_stat_path = os.path.join(qiime_folder, 'dada2-stat.qza')\n",
    "\n",
    "# Input - Taxonomy Classifier - SILVA 138-99\n",
    "classifier_path = classifier_file\n",
    "# classifier_path = os.path.abspath(os.path.join(os.getcwd(), '..', 'models', 'silva-138-99-nb-classifier.qza'))\n",
    "\n",
    "# Output - Excel file\n",
    "excel_path = os.path.join(sheet_folder, 'abundances.xlsx')\n",
    "\n",
    "# Output - Metataxonomy Artifact\n",
    "metatax_path = os.path.join(qiime_folder, 'metatax.qza')\n",
    "metatax_view_path = os.path.join(qiime_folder, 'metatax.qzv')\n",
    "metatax_bar_path = os.path.join(qiime_folder, 'metatax-bar.qzv')\n",
    "\n",
    "# Flag - Load or create files\n",
    "need_tax = not (os.path.isfile(metatax_path)) or replace_files\n",
    "need_view = not (os.path.isfile(metatax_view_path) or os.path.isfile(metatax_bar_path)) or replace_files"
   ]
  },
  {
   "cell_type": "markdown",
   "id": "ad35f55a",
   "metadata": {
    "papermill": {
     "duration": 0.01361,
     "end_time": "2023-02-10T19:22:18.433792",
     "exception": false,
     "start_time": "2023-02-10T19:22:18.420182",
     "status": "completed"
    },
    "tags": []
   },
   "source": [
    "## Step execution\n",
    "\n",
    "### Load input files\n",
    "\n",
    "This Step import the QIIME2 `SampleData[PairedEndSequencesWithQuality]` Artifact with all demultiplexed sequences and the `Metadata` file."
   ]
  },
  {
   "cell_type": "markdown",
   "id": "cf153665",
   "metadata": {
    "tags": [
     "papermill-error-cell-tag"
    ]
   },
   "source": [
    "<span id=\"papermill-error-cell\" style=\"color:red; font-family:Helvetica Neue, Helvetica, Arial, sans-serif; font-size:2em;\">Execution using papermill encountered an exception here and stopped:</span>"
   ]
  },
  {
   "cell_type": "code",
   "execution_count": 8,
   "id": "3c518ff8",
   "metadata": {
    "ExecuteTime": {
     "end_time": "2022-10-03T14:33:40.753144Z",
     "start_time": "2022-10-03T14:33:40.611214Z"
    },
    "execution": {
     "iopub.execute_input": "2023-02-10T19:22:18.461160Z",
     "iopub.status.busy": "2023-02-10T19:22:18.460992Z",
     "iopub.status.idle": "2023-02-10T19:22:20.682609Z",
     "shell.execute_reply": "2023-02-10T19:22:20.680546Z"
    },
    "papermill": {
     "duration": 2.238458,
     "end_time": "2023-02-10T19:22:20.685977",
     "exception": true,
     "start_time": "2023-02-10T19:22:18.447519",
     "status": "failed"
    },
    "tags": []
   },
   "outputs": [
    {
     "ename": "ValueError",
     "evalue": "'group-id' is not a column in the metadata. Available columns: 'file-id', 'state-name', 'state-id', 'replic-id'",
     "output_type": "error",
     "traceback": [
      "\u001b[0;31m---------------------------------------------------------------------------\u001b[0m",
      "\u001b[0;31mKeyError\u001b[0m                                  Traceback (most recent call last)",
      "File \u001b[0;32m~/anaconda3/envs/qiime2-2022.2/lib/python3.8/site-packages/pandas/core/indexes/base.py:3081\u001b[0m, in \u001b[0;36mIndex.get_loc\u001b[0;34m(self, key, method, tolerance)\u001b[0m\n\u001b[1;32m   3080\u001b[0m \u001b[38;5;28;01mtry\u001b[39;00m:\n\u001b[0;32m-> 3081\u001b[0m     \u001b[38;5;28;01mreturn\u001b[39;00m \u001b[38;5;28;43mself\u001b[39;49m\u001b[38;5;241;43m.\u001b[39;49m\u001b[43m_engine\u001b[49m\u001b[38;5;241;43m.\u001b[39;49m\u001b[43mget_loc\u001b[49m\u001b[43m(\u001b[49m\u001b[43mcasted_key\u001b[49m\u001b[43m)\u001b[49m\n\u001b[1;32m   3082\u001b[0m \u001b[38;5;28;01mexcept\u001b[39;00m \u001b[38;5;167;01mKeyError\u001b[39;00m \u001b[38;5;28;01mas\u001b[39;00m err:\n",
      "File \u001b[0;32mpandas/_libs/index.pyx:70\u001b[0m, in \u001b[0;36mpandas._libs.index.IndexEngine.get_loc\u001b[0;34m()\u001b[0m\n",
      "File \u001b[0;32mpandas/_libs/index.pyx:101\u001b[0m, in \u001b[0;36mpandas._libs.index.IndexEngine.get_loc\u001b[0;34m()\u001b[0m\n",
      "File \u001b[0;32mpandas/_libs/hashtable_class_helper.pxi:4554\u001b[0m, in \u001b[0;36mpandas._libs.hashtable.PyObjectHashTable.get_item\u001b[0;34m()\u001b[0m\n",
      "File \u001b[0;32mpandas/_libs/hashtable_class_helper.pxi:4562\u001b[0m, in \u001b[0;36mpandas._libs.hashtable.PyObjectHashTable.get_item\u001b[0;34m()\u001b[0m\n",
      "\u001b[0;31mKeyError\u001b[0m: 'group-id'",
      "\nThe above exception was the direct cause of the following exception:\n",
      "\u001b[0;31mKeyError\u001b[0m                                  Traceback (most recent call last)",
      "File \u001b[0;32m~/anaconda3/envs/qiime2-2022.2/lib/python3.8/site-packages/qiime2/metadata/metadata.py:562\u001b[0m, in \u001b[0;36mMetadata.get_column\u001b[0;34m(self, name)\u001b[0m\n\u001b[1;32m    561\u001b[0m \u001b[38;5;28;01mtry\u001b[39;00m:\n\u001b[0;32m--> 562\u001b[0m     series \u001b[38;5;241m=\u001b[39m \u001b[38;5;28;43mself\u001b[39;49m\u001b[38;5;241;43m.\u001b[39;49m\u001b[43m_dataframe\u001b[49m\u001b[43m[\u001b[49m\u001b[43mname\u001b[49m\u001b[43m]\u001b[49m\n\u001b[1;32m    563\u001b[0m \u001b[38;5;28;01mexcept\u001b[39;00m \u001b[38;5;167;01mKeyError\u001b[39;00m:\n",
      "File \u001b[0;32m~/anaconda3/envs/qiime2-2022.2/lib/python3.8/site-packages/pandas/core/frame.py:3024\u001b[0m, in \u001b[0;36mDataFrame.__getitem__\u001b[0;34m(self, key)\u001b[0m\n\u001b[1;32m   3023\u001b[0m     \u001b[38;5;28;01mreturn\u001b[39;00m \u001b[38;5;28mself\u001b[39m\u001b[38;5;241m.\u001b[39m_getitem_multilevel(key)\n\u001b[0;32m-> 3024\u001b[0m indexer \u001b[38;5;241m=\u001b[39m \u001b[38;5;28;43mself\u001b[39;49m\u001b[38;5;241;43m.\u001b[39;49m\u001b[43mcolumns\u001b[49m\u001b[38;5;241;43m.\u001b[39;49m\u001b[43mget_loc\u001b[49m\u001b[43m(\u001b[49m\u001b[43mkey\u001b[49m\u001b[43m)\u001b[49m\n\u001b[1;32m   3025\u001b[0m \u001b[38;5;28;01mif\u001b[39;00m is_integer(indexer):\n",
      "File \u001b[0;32m~/anaconda3/envs/qiime2-2022.2/lib/python3.8/site-packages/pandas/core/indexes/base.py:3083\u001b[0m, in \u001b[0;36mIndex.get_loc\u001b[0;34m(self, key, method, tolerance)\u001b[0m\n\u001b[1;32m   3082\u001b[0m     \u001b[38;5;28;01mexcept\u001b[39;00m \u001b[38;5;167;01mKeyError\u001b[39;00m \u001b[38;5;28;01mas\u001b[39;00m err:\n\u001b[0;32m-> 3083\u001b[0m         \u001b[38;5;28;01mraise\u001b[39;00m \u001b[38;5;167;01mKeyError\u001b[39;00m(key) \u001b[38;5;28;01mfrom\u001b[39;00m \u001b[38;5;21;01merr\u001b[39;00m\n\u001b[1;32m   3085\u001b[0m \u001b[38;5;28;01mif\u001b[39;00m tolerance \u001b[38;5;129;01mis\u001b[39;00m \u001b[38;5;129;01mnot\u001b[39;00m \u001b[38;5;28;01mNone\u001b[39;00m:\n",
      "\u001b[0;31mKeyError\u001b[0m: 'group-id'",
      "\nDuring handling of the above exception, another exception occurred:\n",
      "\u001b[0;31mValueError\u001b[0m                                Traceback (most recent call last)",
      "Input \u001b[0;32mIn [8]\u001b[0m, in \u001b[0;36m<module>\u001b[0;34m\u001b[0m\n\u001b[1;32m      1\u001b[0m metadata_qa \u001b[38;5;241m=\u001b[39m Metadata\u001b[38;5;241m.\u001b[39mload(metadata_file)\n\u001b[0;32m----> 2\u001b[0m groups_values \u001b[38;5;241m=\u001b[39m \u001b[38;5;28mlist\u001b[39m(\u001b[43mmetadata_qa\u001b[49m\u001b[38;5;241;43m.\u001b[39;49m\u001b[43mget_column\u001b[49m\u001b[43m(\u001b[49m\u001b[43mclass_col\u001b[49m\u001b[43m)\u001b[49m\u001b[38;5;241m.\u001b[39mto_series()\u001b[38;5;241m.\u001b[39munique())\n",
      "File \u001b[0;32m~/anaconda3/envs/qiime2-2022.2/lib/python3.8/site-packages/qiime2/metadata/metadata.py:564\u001b[0m, in \u001b[0;36mMetadata.get_column\u001b[0;34m(self, name)\u001b[0m\n\u001b[1;32m    562\u001b[0m     series \u001b[38;5;241m=\u001b[39m \u001b[38;5;28mself\u001b[39m\u001b[38;5;241m.\u001b[39m_dataframe[name]\n\u001b[1;32m    563\u001b[0m \u001b[38;5;28;01mexcept\u001b[39;00m \u001b[38;5;167;01mKeyError\u001b[39;00m:\n\u001b[0;32m--> 564\u001b[0m     \u001b[38;5;28;01mraise\u001b[39;00m \u001b[38;5;167;01mValueError\u001b[39;00m(\n\u001b[1;32m    565\u001b[0m         \u001b[38;5;124m'\u001b[39m\u001b[38;5;132;01m%r\u001b[39;00m\u001b[38;5;124m is not a column in the metadata. Available columns: \u001b[39m\u001b[38;5;124m'\u001b[39m\n\u001b[1;32m    566\u001b[0m         \u001b[38;5;124m'\u001b[39m\u001b[38;5;132;01m%s\u001b[39;00m\u001b[38;5;124m'\u001b[39m \u001b[38;5;241m%\u001b[39m (name, \u001b[38;5;124m'\u001b[39m\u001b[38;5;124m, \u001b[39m\u001b[38;5;124m'\u001b[39m\u001b[38;5;241m.\u001b[39mjoin(\u001b[38;5;28mrepr\u001b[39m(c) \u001b[38;5;28;01mfor\u001b[39;00m c \u001b[38;5;129;01min\u001b[39;00m \u001b[38;5;28mself\u001b[39m\u001b[38;5;241m.\u001b[39mcolumns)))\n\u001b[1;32m    568\u001b[0m \u001b[38;5;28;01mreturn\u001b[39;00m \u001b[38;5;28mself\u001b[39m\u001b[38;5;241m.\u001b[39m_metadata_column_factory(series)\n",
      "\u001b[0;31mValueError\u001b[0m: 'group-id' is not a column in the metadata. Available columns: 'file-id', 'state-name', 'state-id', 'replic-id'"
     ]
    }
   ],
   "source": [
    "metadata_qa = Metadata.load(metadata_file)\n",
    "groups_values = list(metadata_qa.get_column(class_col).to_series().unique())\n",
    "# tabulate(metadata_qa).visualization"
   ]
  },
  {
   "cell_type": "code",
   "execution_count": null,
   "id": "0db81bb1",
   "metadata": {
    "ExecuteTime": {
     "end_time": "2022-10-03T14:33:40.910889Z",
     "start_time": "2022-10-03T14:33:40.755386Z"
    },
    "papermill": {
     "duration": null,
     "end_time": null,
     "exception": null,
     "start_time": null,
     "status": "pending"
    },
    "scrolled": true,
    "tags": []
   },
   "outputs": [],
   "source": [
    "# Load FeatureData[Sequence] Artifact\n",
    "reps = Artifact.load(dada2_reps_path)\n",
    "\n",
    "# Load FeatureTable[Frequency] Artifact\n",
    "tabs = Artifact.load(dada2_tabs_path)\n",
    "\n",
    "\n",
    "if not need_tax:\n",
    "    \n",
    "    # Load FeatureData[Taxonomy]\n",
    "    metatax_qa = Artifact.load(metatax_path)\n",
    "    \n",
    "else:\n",
    "    \n",
    "    # Load TaxonomicClassifier Artifact\n",
    "    classifier = Artifact.load(classifier_path)\n",
    "    \n",
    "    # Classify ASV features and create a new FeatureData[Taxonomy]\n",
    "    metatax_qa = feature_classifier.methods.classify_sklearn(reads=reps, classifier=classifier, n_jobs=threads).classification\n",
    "\n",
    "    # Save FeatureData[Taxonomy] Artifact\n",
    "    metatax_qa.save(metatax_path)"
   ]
  },
  {
   "cell_type": "code",
   "execution_count": null,
   "id": "0d8b0b4c",
   "metadata": {
    "ExecuteTime": {
     "end_time": "2022-10-03T14:33:41.053623Z",
     "start_time": "2022-10-03T14:33:40.912212Z"
    },
    "papermill": {
     "duration": null,
     "end_time": null,
     "exception": null,
     "start_time": null,
     "status": "pending"
    },
    "tags": []
   },
   "outputs": [],
   "source": [
    "if not need_view:\n",
    "    \n",
    "    # Load Metatax\n",
    "    metatax_qv = Visualization.load(metatax_view_path)\n",
    "    metatax_bar_qv = Visualization.load(metatax_bar_path)\n",
    "    \n",
    "else:\n",
    "    \n",
    "    # Metataxonomy Table Visualization\n",
    "    metatax_qv = metadata.visualizers.tabulate(metatax_qa.view(Metadata))\n",
    "    metatax_qv.visualization.save(metatax_view_path)\n",
    "    \n",
    "    # Barplot Visualization\n",
    "    # Next, we can view the taxonomic composition of our samples with interactive bar plots. \n",
    "    # Generate those plots with the following command and then open the visualization.\n",
    "    metatax_bar_qv = taxa.visualizers.barplot(tabs, metatax_qa, metadata_qa)\n",
    "    metatax_bar_qv.visualization.save(metatax_bar_path)"
   ]
  },
  {
   "cell_type": "markdown",
   "id": "6a0ee615",
   "metadata": {
    "papermill": {
     "duration": null,
     "end_time": null,
     "exception": null,
     "start_time": null,
     "status": "pending"
    },
    "tags": []
   },
   "source": [
    "### Metataxonomy analysis"
   ]
  },
  {
   "cell_type": "code",
   "execution_count": null,
   "id": "07c0bd92",
   "metadata": {
    "ExecuteTime": {
     "end_time": "2022-10-03T20:32:49.501196Z",
     "start_time": "2022-10-03T20:32:49.490533Z"
    },
    "papermill": {
     "duration": null,
     "end_time": null,
     "exception": null,
     "start_time": null,
     "status": "pending"
    },
    "tags": []
   },
   "outputs": [],
   "source": [
    "def filter_and_collapse(tab, tax, meta, lvl, exclude=True, exclude_list='uncultured,unidentified,metagenome'):\n",
    "    from qiime2.plugins.taxa.methods import collapse\n",
    "    from qiime2.plugins.taxa.methods import filter_table\n",
    "    from qiime2.plugins.feature_table.visualizers import summarize\n",
    "    \n",
    "    to_include = ('d', 'p', 'c', 'o', 'f', 'g', 's')[lvl-1]\n",
    "    to_include += '__'\n",
    "    to_exclude = exclude_list if exclude else None\n",
    "    \n",
    "    if exclude:\n",
    "        filtered_tabs = filter_table(\n",
    "            table=tab, \n",
    "            taxonomy=tax,\n",
    "            include=to_include,\n",
    "            exclude=to_exclude,\n",
    "            mode='contains').filtered_table\n",
    "    else:\n",
    "        filtered_tabs = tab\n",
    "    \n",
    "    collapsed_table = collapse(table=filtered_tabs, taxonomy=tax, level=lvl).collapsed_table\n",
    "    collapsed_table_view = summarize(table=collapsed_table, sample_metadata=meta).visualization\n",
    "    \n",
    "    return collapsed_table, collapsed_table_view\n",
    "\n",
    "def make_rank(tab, top=None):\n",
    "    import pandas as pd\n",
    "    df = tab.view(pd.DataFrame)\n",
    "    rank_series = df.sum(axis=0).sort_values(ascending=False)\n",
    "    if top:\n",
    "        rank_series = rank_series[:top]\n",
    "    return rank_series\n",
    "\n",
    "def split_tax(serie):\n",
    "    level_names = ['kingdom', 'phylum', 'class', 'order', 'family', 'genus', 'species']\n",
    "    \n",
    "    "
   ]
  },
  {
   "cell_type": "code",
   "execution_count": null,
   "id": "c890242e",
   "metadata": {
    "ExecuteTime": {
     "end_time": "2022-10-14T14:23:39.624270Z",
     "start_time": "2022-10-14T14:23:39.594136Z"
    },
    "papermill": {
     "duration": null,
     "end_time": null,
     "exception": null,
     "start_time": null,
     "status": "pending"
    },
    "tags": []
   },
   "outputs": [],
   "source": [
    "def get_df(tab, col_name, exclude=True):\n",
    "    df = pd.DataFrame(tab.view(pd.DataFrame).sum(axis=0).sort_values(ascending=False), columns=[col_name])\n",
    "    if exclude:\n",
    "        new_index = [x.split(';')[-1][3:] for x in df.index]\n",
    "        df.index = new_index\n",
    "    return df\n",
    "\n",
    "def get_samples_df(tab, exclude=True):\n",
    "    df = tab.view(pd.DataFrame).T\n",
    "    if exclude:\n",
    "        new_index = [x.split(';')[-1][3:] for x in df.index]\n",
    "        df.index = new_index\n",
    "    return df\n",
    "\n",
    "def create_rank_df(table, meta, groups, exclude=True, gid='group-id'):\n",
    "    df = get_df(table, 'Total', exclude)\n",
    "    for g in groups:\n",
    "        query = f\"[{gid}]='{g}'\"\n",
    "        group = filter_samples(table=table, metadata=meta, where=query, exclude_ids=False).filtered_table\n",
    "        new_df = get_df(group, g, exclude)\n",
    "        df = df.join(new_df, )\n",
    "    df = df.fillna(0)\n",
    "    return df        \n",
    "\n",
    "def plot_rank(df, level_name, sort_by=None, top=None):\n",
    "    if level_name == 'Kingdom':\n",
    "        return\n",
    "    print_top = True if type(top) in [int] else False\n",
    "    print(sort_by)\n",
    "    plt.figure()\n",
    "    sns.set(rc={'figure.figsize':(12,4)})\n",
    "    df = df.drop(['Total'], axis=1)\n",
    "    if sort_by and sort_by in df.columns:\n",
    "        df = df.sort_values(by=sort_by, ascending=False)\n",
    "    if print_top:\n",
    "        df = df.head(top)\n",
    "    df.plot( kind='bar', stacked=True, )\n",
    "    plt.ylabel('Abundances')\n",
    "    plt.xlabel(level_name)\n",
    "    msg = 'x'.join(df.columns)\n",
    "    if print_top:\n",
    "        plt.title(f'Top {top} {level_name} abundances rank for groups {msg} - Sorted by {sort_by}')\n",
    "    else:\n",
    "        plt.title(f'{level_name} abundances rank for groups {msg} - Sorted by {sort_by}')\n",
    "    plt.tight_layout()\n",
    "    if print_top:\n",
    "        path = os.path.abspath(os.path.join(img_folder, f'abundance-rank-{level_name}-groups-{msg}-sorted-by-{sort_by}-top-{top}.svg'))\n",
    "    else:\n",
    "        path = os.path.abspath(os.path.join(img_folder, f'abundance-rank-{level_name}-groups-{msg}-sorted-by-{sort_by}.svg'))\n",
    "    plt.savefig(path, format='svg')\n",
    "    plt.show()"
   ]
  },
  {
   "cell_type": "code",
   "execution_count": null,
   "id": "ea1bc922",
   "metadata": {
    "ExecuteTime": {
     "end_time": "2022-10-03T20:36:11.455898Z",
     "start_time": "2022-10-03T20:36:11.443419Z"
    },
    "papermill": {
     "duration": null,
     "end_time": null,
     "exception": null,
     "start_time": null,
     "status": "pending"
    },
    "tags": []
   },
   "outputs": [],
   "source": [
    "def process_all_levels(tabs, metatax, metadata_qa, groups_values, experiment_name, to_exclude, gid='group-id', top=None):\n",
    "    level_names = ['Kingdom', 'Phylum', 'Class', 'Order', 'Family', 'Genus', 'Species']\n",
    "    excel_name = f'abundance-ranks-{experiment_name}.xlsx'\n",
    "    excel_path = os.path.abspath(os.path.join(sheet_folder, excel_name))\n",
    "    with pd.ExcelWriter(excel_path, mode='w') as writer:\n",
    "        opts = (True, False) if to_exclude else (False, )\n",
    "        for exclude in opts:\n",
    "            for i, lvl_name in enumerate(level_names):\n",
    "                print(f'{i} - Processing {lvl_name} - Filtered {exclude}')\n",
    "\n",
    "                collapsed_table, collapsed_table_view = filter_and_collapse(\n",
    "                    tabs, metatax, metadata_qa, \n",
    "                    lvl=i+1,\n",
    "                    exclude=exclude, \n",
    "                    exclude_list='uncultured,unidentified,metagenome')\n",
    "\n",
    "                rank_df = create_rank_df(collapsed_table, metadata_qa, groups=groups_values, exclude=exclude, gid=gid)\n",
    "                samples_df = get_samples_df(collapsed_table, exclude)\n",
    "                joined_df = rank_df.join(samples_df,)\n",
    "                sheet_name = f\"{lvl_name}{'-filtered' if exclude else ''}\"\n",
    "                joined_df.to_excel(writer, sheet_name=sheet_name)\n",
    "                if exclude:\n",
    "                    for g in ('total', *groups_values):\n",
    "                        msg = f\"{'Filtered-' if exclude else ''}{lvl_name}\"\n",
    "                        plot_rank(rank_df, level_name=lvl_name,sort_by=g)"
   ]
  },
  {
   "cell_type": "code",
   "execution_count": null,
   "id": "d3f2aad7",
   "metadata": {
    "ExecuteTime": {
     "end_time": "2022-10-03T20:33:26.409296Z",
     "start_time": "2022-10-03T20:33:26.405639Z"
    },
    "papermill": {
     "duration": null,
     "end_time": null,
     "exception": null,
     "start_time": null,
     "status": "pending"
    },
    "tags": []
   },
   "outputs": [],
   "source": [
    "# species = filter_table(\n",
    "#         table=tabs, \n",
    "#         taxonomy=metatax_qa,).filtered_table\n",
    "# species.view(pd.DataFrame)"
   ]
  },
  {
   "cell_type": "code",
   "execution_count": null,
   "id": "789fcaa8",
   "metadata": {
    "ExecuteTime": {
     "end_time": "2022-10-03T20:36:46.339882Z",
     "start_time": "2022-10-03T20:36:15.358617Z"
    },
    "papermill": {
     "duration": null,
     "end_time": null,
     "exception": null,
     "start_time": null,
     "status": "pending"
    },
    "scrolled": true,
    "tags": []
   },
   "outputs": [],
   "source": [
    "process_all_levels(tabs, metatax_qa, metadata_qa, groups_values, experiment_name, to_exclude=exclude_tax, gid=class_col, top=top_n)"
   ]
  },
  {
   "cell_type": "code",
   "execution_count": null,
   "id": "db8c7966",
   "metadata": {
    "ExecuteTime": {
     "end_time": "2022-10-03T19:33:19.197908Z",
     "start_time": "2022-10-03T19:33:19.182329Z"
    },
    "papermill": {
     "duration": null,
     "end_time": null,
     "exception": null,
     "start_time": null,
     "status": "pending"
    },
    "scrolled": true,
    "tags": []
   },
   "outputs": [],
   "source": [
    "def boxplot_rank(table, meta, tax, groups, lvl, exclude, gid='group-id', top=None):\n",
    "    level_names = ['Kingdom', 'Phylum', 'Class', 'Order', 'Family', 'Genus', 'Species']\n",
    "    level_name = level_names[lvl-1]\n",
    "    print_top = True if type(top) in [int] else False\n",
    "    df = pd.DataFrame()\n",
    "    collapsed_table, _ = filter_and_collapse(\n",
    "        table, tax, meta, \n",
    "        lvl=lvl,\n",
    "        exclude=exclude, \n",
    "        exclude_list='uncultured,unidentified,metagenome')\n",
    "    collapsed_table_df = get_df(collapsed_table, col_name='Total')\n",
    "    ordered_tax = collapsed_table_df.index\n",
    "    for g in groups:\n",
    "        print(f'Processing {level_name} - {g}')\n",
    "        group = filter_samples(table=table, metadata=meta, where=f\"[{gid}]='{g}'\", exclude_ids=exclude).filtered_table\n",
    "        collapsed_group, _ = filter_and_collapse(\n",
    "            group, tax, meta, \n",
    "            lvl=lvl,\n",
    "            exclude=exclude, \n",
    "            exclude_list='uncultured,unidentified,metagenome')\n",
    "        collapsed_group_df = collapsed_group.view(pd.DataFrame)\n",
    "        new_cols = [x.split(';')[-1][3:] for x in collapsed_group_df.columns]\n",
    "        collapsed_group_df.columns = new_cols\n",
    "        cols = [x for x in ordered_tax if x in new_cols]\n",
    "        collapsed_group_df = collapsed_group_df[cols]\n",
    "        collapsed_group_df['Group'] = g\n",
    "        melted_df = collapsed_group_df.melt(value_name='Abundance', var_name='Taxonomy', id_vars='Group')\n",
    "        df = pd.concat([df, melted_df], axis=0)\n",
    "    if print_top:\n",
    "        df = df.head(top)\n",
    "    df['Abundance'] = np.log(df['Abundance']+1)\n",
    "    plt.figure(figsize=(15,10))\n",
    "    ax = sns.boxplot(x=df['Taxonomy'], y=df['Abundance'], hue=df['Group'])\n",
    "    ax.set_xticklabels(ax.get_xticklabels(), rotation=90)\n",
    "    ax.set(ylabel='log(# of reads)')\n",
    "    if print_top:\n",
    "        plt.title(f'Top {top} {level_name} abundances rank by groups.')\n",
    "    else:\n",
    "        plt.title(f'{level_name} abundances rank by groups.')\n",
    "    plt.tight_layout()\n",
    "    if print_top:\n",
    "        path = os.path.abspath(os.path.join(img_folder, f'boxplot-abundance-rank-{level_name}.svg'))\n",
    "    else:\n",
    "        path = os.path.abspath(os.path.join(img_folder, f'boxplot-abundance-rank-{level_name}-top-{top}.svg'))\n",
    "    plt.savefig(path, format='svg')\n",
    "    plt.show()"
   ]
  },
  {
   "cell_type": "code",
   "execution_count": null,
   "id": "b5846557",
   "metadata": {
    "ExecuteTime": {
     "end_time": "2022-10-03T19:33:50.198627Z",
     "start_time": "2022-10-03T19:33:20.115883Z"
    },
    "papermill": {
     "duration": null,
     "end_time": null,
     "exception": null,
     "start_time": null,
     "status": "pending"
    },
    "scrolled": true,
    "tags": []
   },
   "outputs": [],
   "source": [
    "for i in range(7):\n",
    "    boxplot_rank(tabs, metadata_qa, metatax_qa, groups_values, lvl=i+1, exclude=exclude_tax, gid=class_col, top=top_n)"
   ]
  }
 ],
 "metadata": {
  "celltoolbar": "Edit Metadata",
  "kernelspec": {
   "display_name": "Python 3 (ipykernel)",
   "language": "python",
   "name": "python3"
  },
  "language_info": {
   "codemirror_mode": {
    "name": "ipython",
    "version": 3
   },
   "file_extension": ".py",
   "mimetype": "text/x-python",
   "name": "python",
   "nbconvert_exporter": "python",
   "pygments_lexer": "ipython3",
   "version": "3.8.12"
  },
  "papermill": {
   "default_parameters": {},
   "duration": 15.820858,
   "end_time": "2023-02-10T19:22:21.725364",
   "environment_variables": {},
   "exception": true,
   "input_path": "nb-templates/step-metataxonomy.ipynb",
   "output_path": "/home/lauro/nupeb/rede-micro/redemicro-andressa-lbtm/experiments/andressa-01/nb-executed-steps/step-metataxonomy-andressa-01.ipynb",
   "parameters": {
    "base_dir": "/home/lauro/nupeb/rede-micro/redemicro-andressa-lbtm",
    "class_col": "group-id",
    "classifier_file": "/home/lauro/nupeb/rede-micro/models/silva-138-99-nb-classifier.qza",
    "experiment_name": "andressa",
    "manifest_file": "/home/lauro/nupeb/rede-micro/redemicro-andressa-lbtm/data/manifest.csv",
    "metadata_file": "/home/lauro/nupeb/rede-micro/redemicro-andressa-lbtm/data/metadata.tsv",
    "overlap": 12,
    "phred": 20,
    "replace_files": false,
    "threads": 6,
    "trunc_f": 0,
    "trunc_r": 0
   },
   "start_time": "2023-02-10T19:22:05.904506",
   "version": "2.3.4"
  },
  "toc-autonumbering": false,
  "toc-showcode": false,
  "toc-showmarkdowntxt": false
 },
 "nbformat": 4,
 "nbformat_minor": 5
}