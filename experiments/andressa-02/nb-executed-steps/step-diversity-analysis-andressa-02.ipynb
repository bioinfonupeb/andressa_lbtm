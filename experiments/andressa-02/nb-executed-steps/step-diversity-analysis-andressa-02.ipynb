{
 "cells": [
  {
   "cell_type": "markdown",
   "id": "15bcfa06",
   "metadata": {
    "papermill": {
     "duration": 0.024013,
     "end_time": "2023-06-07T16:36:45.545564",
     "exception": false,
     "start_time": "2023-06-07T16:36:45.521551",
     "status": "completed"
    },
    "tags": []
   },
   "source": [
    " \n",
    "# Alpha and Beta Diversity\n",
    "\n",
    "Different higher-level measures are often used to describe the microbiome in a sample. These do not provide information on changes in the abundance of specific taxa but allow us to access a broader change or difference in the composition of microorganisms. Alpha and beta diversity are examples of such measures.\n",
    "\n",
    "Different measures exist to estimate diversity within a single sample, jointly called alpha diversity. The different measures reflect the richness (number) or distribution (evenness) of a microbial sample or aim to reflect a combination of both properties.\n",
    "\n",
    "Rarefaction curves are often used when calculating alpha diversity indices because increasing numbers of sequenced taxa allow increasingly accurate estimates of total population diversity. Rarefaction curves can therefore be used to estimate the full sample richness, as compared to the observed sample richness.\n",
    "\n",
    "While alpha diversity is a measure of microbiome diversity applicable to a single sample, beta diversity is a measure of the similarity or dissimilarity of two communities. As for alpha diversity, many indices exist, each reflecting different aspects of community heterogeneity. Key differences relate to how the indices value variation in rare species if they consider presence/absence only or incorporate abundance, and how they interpret shared absence. Bray-Curtis dissimilarity is a popular measure that considers both size (overall abundance per sample) and shape (abundance of each taxon) of the communities (Bray, 1957). Beta diversity is an essential measure for many popular statistical methods in ecology, such as ordination-based methods, and is widely used for studying the association between environmental variables and microbial composition.\n",
    "\n",
    "In summary, alpha diversity measures can be seen as a summary statistic of a single population (within-sample diversity), while beta diversity measures are estimates of similarity or dissimilarity between populations (between samples).\n",
    "\n",
    "**Source**: (https://biomcare.com/info/key-terms-in-microbiome-projects/)"
   ]
  },
  {
   "cell_type": "markdown",
   "id": "0e7f2330",
   "metadata": {
    "ExecuteTime": {
     "end_time": "2022-09-22T19:36:33.828188Z",
     "start_time": "2022-09-22T19:36:33.817323Z"
    },
    "papermill": {
     "duration": 0.017179,
     "end_time": "2023-06-07T16:36:45.579903",
     "exception": false,
     "start_time": "2023-06-07T16:36:45.562724",
     "status": "completed"
    },
    "tags": []
   },
   "source": [
    "### STEP : Diversity Analysis\n",
    "\n",
    "Using QIIME2 to create diversity analisys graphs and calculations.\n",
    "\n",
    "- [QIIME2 Workflow Overview](https://docs.qiime2.org/2022.8/tutorials/overview/)\n",
    "\n",
    "\n",
    "#### Methods\n",
    "- [diversity](https://docs.qiime2.org/2022.8/plugins/available/diversity/)\n",
    "- [diversity alpha](https://docs.qiime2.org/2022.8/plugins/available/diversity/alpha/)\n",
    "- [diversity alpha_phylogenetic](https://docs.qiime2.org/2022.8/plugins/available/diversity/alpha-phylogenetic/)\n",
    "- [diversity beta](https://docs.qiime2.org/2022.8/plugins/available/diversity/beta/)\n",
    "- [diversity core_metrics](https://docs.qiime2.org/2022.8/plugins/available/diversity/core-metrics/)\n",
    "- [diversity alpha_group_significance](https://docs.qiime2.org/2022.8/plugins/available/diversity/alpha-group-significance/)\n",
    "- [diversity beta_group_significance](https://docs.qiime2.org/2022.8/plugins/available/diversity/beta-group-significance/)\n",
    "- [feature_table core_features](https://docs.qiime2.org/2022.8/plugins/available/feature-table/core-features/)\n",
    "- [feature_table summarize](https://docs.qiime2.org/2022.8/plugins/available/feature-table/summarize/)\n",
    "- [taxa filter-table](https://docs.qiime2.org/2022.8/plugins/available/taxa/filter-table/)\n",
    "- [taxa collapse](https://docs.qiime2.org/2022.8/plugins/available/taxa/collapse/)"
   ]
  },
  {
   "cell_type": "markdown",
   "id": "843debbf",
   "metadata": {
    "papermill": {
     "duration": 0.016056,
     "end_time": "2023-06-07T16:36:45.671295",
     "exception": false,
     "start_time": "2023-06-07T16:36:45.655239",
     "status": "completed"
    },
    "tags": []
   },
   "source": [
    "## Setup and settings"
   ]
  },
  {
   "cell_type": "code",
   "execution_count": 1,
   "id": "965e28e5",
   "metadata": {
    "ExecuteTime": {
     "end_time": "2022-11-03T20:35:26.198671Z",
     "start_time": "2022-11-03T20:35:06.473173Z"
    },
    "execution": {
     "iopub.execute_input": "2023-06-07T16:36:45.704090Z",
     "iopub.status.busy": "2023-06-07T16:36:45.703731Z",
     "iopub.status.idle": "2023-06-07T16:36:52.292791Z",
     "shell.execute_reply": "2023-06-07T16:36:52.292062Z"
    },
    "papermill": {
     "duration": 6.608896,
     "end_time": "2023-06-07T16:36:52.296090",
     "exception": false,
     "start_time": "2023-06-07T16:36:45.687194",
     "status": "completed"
    },
    "tags": []
   },
   "outputs": [],
   "source": [
    "# Importing packages\n",
    "import os\n",
    "import pandas as pd\n",
    "from qiime2 import Artifact\n",
    "from qiime2 import Visualization\n",
    "from qiime2 import Metadata\n",
    "\n",
    "from qiime2.plugins.phylogeny.pipelines import align_to_tree_mafft_fasttree\n",
    "\n",
    "from qiime2.plugins.diversity.pipelines import alpha\n",
    "from qiime2.plugins.diversity.pipelines import beta\n",
    "from qiime2.plugins.diversity.pipelines import core_metrics\n",
    "from qiime2.plugins.diversity.pipelines import alpha_phylogenetic\n",
    "\n",
    "from qiime2.plugins.diversity.visualizers import alpha_group_significance\n",
    "from qiime2.plugins.diversity.visualizers import beta_group_significance\n",
    "from qiime2.plugins.diversity.visualizers import alpha_correlation\n",
    "from qiime2.plugins.diversity.visualizers import beta_rarefaction\n",
    "\n",
    "from qiime2.plugins.taxa.methods import filter_table\n",
    "from qiime2.plugins.taxa.methods import collapse\n",
    "\n",
    "from qiime2.plugins.feature_table.visualizers import tabulate_seqs\n",
    "from qiime2.plugins.feature_table.visualizers import summarize\n",
    "from qiime2.plugins.feature_table.visualizers import core_features\n",
    "\n",
    "from qiime2.plugins.alignment.methods import mafft\n",
    "\n",
    "\n",
    "import matplotlib.pyplot as plt\n",
    "\n",
    "%matplotlib inline"
   ]
  },
  {
   "cell_type": "markdown",
   "id": "530ceb60",
   "metadata": {
    "papermill": {
     "duration": 0.094588,
     "end_time": "2023-06-07T16:36:52.412757",
     "exception": false,
     "start_time": "2023-06-07T16:36:52.318169",
     "status": "completed"
    },
    "tags": []
   },
   "source": [
    "### Receiving the parameters\n",
    "\n",
    "The following cell can receive parameters using the [papermill](https://papermill.readthedocs.io/en/latest/) tool."
   ]
  },
  {
   "cell_type": "code",
   "execution_count": 2,
   "id": "18d874ea",
   "metadata": {
    "ExecuteTime": {
     "end_time": "2022-09-29T20:54:14.793270Z",
     "start_time": "2022-09-29T20:54:14.789367Z"
    },
    "execution": {
     "iopub.execute_input": "2023-06-07T16:36:52.459283Z",
     "iopub.status.busy": "2023-06-07T16:36:52.459035Z",
     "iopub.status.idle": "2023-06-07T16:36:52.464672Z",
     "shell.execute_reply": "2023-06-07T16:36:52.463856Z"
    },
    "papermill": {
     "duration": 0.023748,
     "end_time": "2023-06-07T16:36:52.466444",
     "exception": false,
     "start_time": "2023-06-07T16:36:52.442696",
     "status": "completed"
    },
    "tags": [
     "parameters"
    ]
   },
   "outputs": [],
   "source": [
    "base_dir = os.path.join('/', 'home')\n",
    "metadata_file = os.path.abspath(os.path.join(base_dir, 'data', 'metadatada.tsv'))\n",
    "experiment_name = ''\n",
    "class_col = ''\n",
    "replace_files = False"
   ]
  },
  {
   "cell_type": "code",
   "execution_count": 3,
   "id": "84ec1038",
   "metadata": {
    "execution": {
     "iopub.execute_input": "2023-06-07T16:36:52.509819Z",
     "iopub.status.busy": "2023-06-07T16:36:52.509604Z",
     "iopub.status.idle": "2023-06-07T16:36:52.515166Z",
     "shell.execute_reply": "2023-06-07T16:36:52.514391Z"
    },
    "papermill": {
     "duration": 0.032505,
     "end_time": "2023-06-07T16:36:52.516971",
     "exception": false,
     "start_time": "2023-06-07T16:36:52.484466",
     "status": "completed"
    },
    "tags": [
     "injected-parameters"
    ]
   },
   "outputs": [],
   "source": [
    "# Parameters\n",
    "experiment_name = \"andressa-q20-trim_primer\"\n",
    "base_dir = \"/home/lauro/nupeb/rede-micro/redemicro-andressa-lbtm\"\n",
    "manifest_file = \"/home/lauro/nupeb/rede-micro/redemicro-andressa-lbtm/data/manifest.csv\"\n",
    "metadata_file = \"/home/lauro/nupeb/rede-micro/redemicro-andressa-lbtm/data/metadata.tsv\"\n",
    "class_col = \"state-name\"\n",
    "classifier_file = \"/home/lauro/nupeb/rede-micro/models/silva-138-99-nb-classifier.qza\"\n",
    "replace_files = False\n",
    "phred = 20\n",
    "trunc_f = 0\n",
    "trunc_r = 0\n",
    "overlap = 12\n",
    "threads = 6\n",
    "trim = {\n",
    "    \"overlap\": 12,\n",
    "    \"forward_primer\": \"CCTACGGGRSGCAGCAG\",\n",
    "    \"reverse_primer\": \"GGACTACHVGGGTWTCTAAT\",\n",
    "}\n"
   ]
  },
  {
   "cell_type": "code",
   "execution_count": 4,
   "id": "f38617d9",
   "metadata": {
    "ExecuteTime": {
     "end_time": "2022-09-29T20:54:14.804575Z",
     "start_time": "2022-09-29T20:54:14.794927Z"
    },
    "execution": {
     "iopub.execute_input": "2023-06-07T16:36:52.550112Z",
     "iopub.status.busy": "2023-06-07T16:36:52.549835Z",
     "iopub.status.idle": "2023-06-07T16:36:52.554873Z",
     "shell.execute_reply": "2023-06-07T16:36:52.554082Z"
    },
    "papermill": {
     "duration": 0.02347,
     "end_time": "2023-06-07T16:36:52.556626",
     "exception": false,
     "start_time": "2023-06-07T16:36:52.533156",
     "status": "completed"
    },
    "tags": []
   },
   "outputs": [],
   "source": [
    "experiment_folder = os.path.abspath(os.path.join(base_dir, 'experiments', experiment_name))\n",
    "img_folder = os.path.abspath(os.path.join(experiment_folder, 'imgs'))"
   ]
  },
  {
   "cell_type": "markdown",
   "id": "ea9b90fb",
   "metadata": {
    "papermill": {
     "duration": 0.015443,
     "end_time": "2023-06-07T16:36:52.587653",
     "exception": false,
     "start_time": "2023-06-07T16:36:52.572210",
     "status": "completed"
    },
    "tags": []
   },
   "source": [
    "### Defining names, paths and flags"
   ]
  },
  {
   "cell_type": "code",
   "execution_count": 5,
   "id": "45727eef",
   "metadata": {
    "ExecuteTime": {
     "end_time": "2022-09-29T20:54:14.816686Z",
     "start_time": "2022-09-29T20:54:14.806238Z"
    },
    "execution": {
     "iopub.execute_input": "2023-06-07T16:36:52.619709Z",
     "iopub.status.busy": "2023-06-07T16:36:52.619383Z",
     "iopub.status.idle": "2023-06-07T16:36:52.630210Z",
     "shell.execute_reply": "2023-06-07T16:36:52.629366Z"
    },
    "papermill": {
     "duration": 0.028876,
     "end_time": "2023-06-07T16:36:52.631968",
     "exception": false,
     "start_time": "2023-06-07T16:36:52.603092",
     "status": "completed"
    },
    "tags": []
   },
   "outputs": [],
   "source": [
    "# QIIME2 Artifacts folder\n",
    "qiime_folder = os.path.join(experiment_folder, 'qiime-artifacts')\n",
    "\n",
    "# Input - DADA2 Artifacts\n",
    "dada2_tabs_path = os.path.join(qiime_folder, 'dada2-tabs.qza')\n",
    "dada2_reps_path = os.path.join(qiime_folder, 'dada2-reps.qza')\n",
    "dada2_stat_path = os.path.join(qiime_folder, 'dada2-stat.qza')\n",
    "\n",
    "# Input - Taxonaomic Artifacts\n",
    "taxonomy_path = os.path.join(qiime_folder, 'metatax.qza')\n",
    "\n",
    "# Create folder to store Alpha files\n",
    "alpha_path = os.path.join(qiime_folder, 'alpha-analysis')\n",
    "if not os.path.exists(alpha_path):\n",
    "    os.makedirs(alpha_path)\n",
    "    print(f'The new directory is created in {alpha_path}')\n",
    "    \n",
    "# Create folder to store Beta files\n",
    "beta_path = os.path.join(qiime_folder, 'beta-analysis')\n",
    "if not os.path.exists(beta_path):\n",
    "    os.makedirs(beta_path)\n",
    "    print(f'The new directory is created in {beta_path}')\n",
    "\n",
    "# Output -Diversity Artifacts\n",
    "alpha_diversity_path = os.path.join(alpha_path, 'alpha-diversity.qza')\n",
    "alpha_diversity_view_path = os.path.join(alpha_path, 'alpha-diversity.qzv')\n",
    "beta_diversity_path = os.path.join(beta_path, 'beta-diversity.qza')\n",
    "beta_diversity_view_path = os.path.join(beta_path, 'beta-diversity.qzv')"
   ]
  },
  {
   "cell_type": "code",
   "execution_count": 6,
   "id": "601ae263",
   "metadata": {
    "ExecuteTime": {
     "end_time": "2022-09-29T20:54:14.829117Z",
     "start_time": "2022-09-29T20:54:14.818272Z"
    },
    "execution": {
     "iopub.execute_input": "2023-06-07T16:36:52.665448Z",
     "iopub.status.busy": "2023-06-07T16:36:52.665286Z",
     "iopub.status.idle": "2023-06-07T16:36:52.670809Z",
     "shell.execute_reply": "2023-06-07T16:36:52.670309Z"
    },
    "papermill": {
     "duration": 0.02268,
     "end_time": "2023-06-07T16:36:52.672372",
     "exception": false,
     "start_time": "2023-06-07T16:36:52.649692",
     "status": "completed"
    },
    "tags": []
   },
   "outputs": [],
   "source": [
    "def filter_and_collapse(tab, seqs, tax, meta, lvl, exclude=True, exclude_list='uncultured,unidentified,metagenome'):\n",
    "    from qiime2.plugins.taxa.methods import collapse\n",
    "    from qiime2.plugins.taxa.methods import filter_table\n",
    "    from qiime2.plugins.feature_table.methods import filter_seqs\n",
    "    from qiime2.plugins.feature_table.visualizers import summarize\n",
    "    \n",
    "    to_include = ('d', 'p', 'c', 'o', 'f', 'g', 's')[lvl-1]\n",
    "    to_include += '__'\n",
    "    to_exclude = exclude_list if exclude else None\n",
    "    \n",
    "    filtered_tabs = filter_table(\n",
    "        table=tab, \n",
    "        taxonomy=tax,\n",
    "        include=to_include,\n",
    "        exclude=to_exclude,\n",
    "        mode='contains').filtered_table\n",
    "    \n",
    "    filtered_seqs = filter_seqs(\n",
    "        data = seqs,\n",
    "        table = filtered_tabs,\n",
    "    ).filtered_data\n",
    "    \n",
    "    collapsed_table = collapse(table=filtered_tabs, taxonomy=tax, level=lvl).collapsed_table\n",
    "    collapsed_table_view = summarize(table=collapsed_table, sample_metadata=meta).visualization\n",
    "    \n",
    "    return collapsed_table, collapsed_table_view, filtered_seqs"
   ]
  },
  {
   "cell_type": "markdown",
   "id": "0999a1b2",
   "metadata": {
    "papermill": {
     "duration": 0.015053,
     "end_time": "2023-06-07T16:36:52.703532",
     "exception": false,
     "start_time": "2023-06-07T16:36:52.688479",
     "status": "completed"
    },
    "tags": []
   },
   "source": [
    "## Step execution\n",
    "\n",
    "### Load input files\n",
    "\n",
    "This Step import the QIIME2 `FeatureTable[Frequency]` Artifact and the `Metadata` file."
   ]
  },
  {
   "cell_type": "code",
   "execution_count": 7,
   "id": "8f299d1a",
   "metadata": {
    "ExecuteTime": {
     "end_time": "2022-09-29T20:54:15.559837Z",
     "start_time": "2022-09-29T20:54:14.830405Z"
    },
    "execution": {
     "iopub.execute_input": "2023-06-07T16:36:52.735561Z",
     "iopub.status.busy": "2023-06-07T16:36:52.735399Z",
     "iopub.status.idle": "2023-06-07T16:36:52.997607Z",
     "shell.execute_reply": "2023-06-07T16:36:52.996992Z"
    },
    "papermill": {
     "duration": 0.28109,
     "end_time": "2023-06-07T16:36:52.999694",
     "exception": false,
     "start_time": "2023-06-07T16:36:52.718604",
     "status": "completed"
    },
    "tags": []
   },
   "outputs": [],
   "source": [
    "#Load Metadata\n",
    "metadata_qa = Metadata.load(metadata_file)\n",
    "\n",
    "#Load FeatureTable[Frequency]\n",
    "tabs = Artifact.load(dada2_tabs_path)\n",
    "tabs_df = tabs.view(Metadata).to_dataframe().T\n",
    "\n",
    "# FeatureData[Sequence]\n",
    "reps = Artifact.load(dada2_reps_path)\n",
    "\n",
    "# FeatureData[Taxonomy]\n",
    "tax = Artifact.load(taxonomy_path)"
   ]
  },
  {
   "cell_type": "code",
   "execution_count": 8,
   "id": "c8dfe530",
   "metadata": {
    "ExecuteTime": {
     "end_time": "2022-09-29T20:54:15.564968Z",
     "start_time": "2022-09-29T20:54:15.561875Z"
    },
    "execution": {
     "iopub.execute_input": "2023-06-07T16:36:53.038217Z",
     "iopub.status.busy": "2023-06-07T16:36:53.037721Z",
     "iopub.status.idle": "2023-06-07T16:36:53.041812Z",
     "shell.execute_reply": "2023-06-07T16:36:53.041226Z"
    },
    "papermill": {
     "duration": 0.022575,
     "end_time": "2023-06-07T16:36:53.043364",
     "exception": false,
     "start_time": "2023-06-07T16:36:53.020789",
     "status": "completed"
    },
    "tags": []
   },
   "outputs": [],
   "source": [
    "# lvl = 7\n",
    "# exclude = True\n",
    "# tabs, collapsed_table_view, reps = filter_and_collapse(\n",
    "#                     tabs, reps, tax, metadata_qa, \n",
    "#                     lvl=lvl,\n",
    "#                     exclude=exclude, \n",
    "#                     exclude_list='uncultured,unidentified,metagenome')\n",
    "# collapsed_table_view"
   ]
  },
  {
   "cell_type": "markdown",
   "id": "9f43843a",
   "metadata": {
    "ExecuteTime": {
     "end_time": "2022-09-22T22:48:07.523952Z",
     "start_time": "2022-09-22T22:48:07.517565Z"
    },
    "papermill": {
     "duration": 0.015253,
     "end_time": "2023-06-07T16:36:53.074866",
     "exception": false,
     "start_time": "2023-06-07T16:36:53.059613",
     "status": "completed"
    },
    "tags": []
   },
   "source": [
    "## Alpha diversity analysis\n",
    "\n",
    "#### Reference\n",
    "- [The Use and Types of Alpha-Diversity Metrics in Microbial NGS](https://www.cd-genomics.com/microbioseq/the-use-and-types-of-alpha-diversity-metrics-in-microbial-ngs.html)\n",
    "- [Alpha diversity metrics](http://scikit-bio.org/docs/0.2.0/generated/skbio.diversity.alpha.html)\n",
    "\n",
    "#### Methods\n",
    "- [diversity alpha](https://docs.qiime2.org/2022.8/plugins/available/diversity/alpha/): Computes a user-specified alpha diversity metric for all samples in a\n",
    "feature table.\n",
    "- [diversity alpha_phylogenetic](https://docs.qiime2.org/2022.8/plugins/available/diversity/alpha-phylogenetic/): Computes a user-specified phylogenetic alpha diversity metric for all\n",
    "samples in a feature table.\n",
    "- [diversity alpha_correlation](https://docs.qiime2.org/2022.8/plugins/available/diversity/alpha-correlation/): Determine whether numeric sample metadata columns are correlated with alpha diversity.\n",
    "- [diversity alpha_group_significance](https://docs.qiime2.org/2022.8/plugins/available/diversity/alpha-group-significance/): Visually and statistically compare groups of alpha diversity values."
   ]
  },
  {
   "cell_type": "markdown",
   "id": "606b9c75",
   "metadata": {
    "papermill": {
     "duration": 0.015455,
     "end_time": "2023-06-07T16:36:53.105783",
     "exception": false,
     "start_time": "2023-06-07T16:36:53.090328",
     "status": "completed"
    },
    "tags": []
   },
   "source": [
    "### Compute Alpha Diversity vectors\n",
    "- [diversity alpha](https://docs.qiime2.org/2022.8/plugins/available/diversity/alpha/): Computes a user-specified alpha diversity metric for all samples in a feature table.\n",
    "- [Alpha diversity metrics](http://scikit-bio.org/docs/0.2.0/generated/skbio.diversity.alpha.html)\n",
    " - Choices: ('ace', 'berger_parker_d', 'brillouin_d', 'chao1', 'chao1_ci', 'dominance', 'doubles', 'enspie', 'esty_ci', 'fisher_alpha', 'gini_index', 'goods_coverage', 'heip_e', 'kempton_taylor_q', 'lladser_pe', 'margalef', 'mcintosh_d', 'mcintosh_e', 'menhinick', 'michaelis_menten_fit', 'observed_features', 'osd', 'pielou_e', 'robbins', 'shannon', 'simpson', 'simpson_e', 'singles', 'strong')"
   ]
  },
  {
   "cell_type": "code",
   "execution_count": 9,
   "id": "556e5264",
   "metadata": {
    "ExecuteTime": {
     "end_time": "2022-09-29T20:54:20.790166Z",
     "start_time": "2022-09-29T20:54:20.451134Z"
    },
    "execution": {
     "iopub.execute_input": "2023-06-07T16:36:53.139506Z",
     "iopub.status.busy": "2023-06-07T16:36:53.139112Z",
     "iopub.status.idle": "2023-06-07T16:42:15.337766Z",
     "shell.execute_reply": "2023-06-07T16:42:15.337201Z"
    },
    "papermill": {
     "duration": 322.218178,
     "end_time": "2023-06-07T16:42:15.340020",
     "exception": false,
     "start_time": "2023-06-07T16:36:53.121842",
     "status": "completed"
    },
    "tags": []
   },
   "outputs": [
    {
     "name": "stdout",
     "output_type": "stream",
     "text": [
      "Calculating alpha diversity: ace\n",
      "DONE: Calculating alpha diversity: ace\n",
      "Calculating alpha diversity: berger_parker_d\n",
      "DONE: Calculating alpha diversity: berger_parker_d\n",
      "Calculating alpha diversity: brillouin_d\n",
      "DONE: Calculating alpha diversity: brillouin_d\n",
      "Calculating alpha diversity: chao1\n"
     ]
    },
    {
     "name": "stdout",
     "output_type": "stream",
     "text": [
      "DONE: Calculating alpha diversity: chao1\n",
      "Calculating alpha diversity: chao1_ci\n",
      "DONE: Calculating alpha diversity: chao1_ci\n",
      "Calculating alpha diversity: dominance\n",
      "DONE: Calculating alpha diversity: dominance\n",
      "Calculating alpha diversity: doubles\n",
      "DONE: Calculating alpha diversity: doubles\n",
      "Calculating alpha diversity: enspie\n"
     ]
    },
    {
     "name": "stdout",
     "output_type": "stream",
     "text": [
      "DONE: Calculating alpha diversity: enspie\n",
      "Calculating alpha diversity: esty_ci\n",
      "DONE: Calculating alpha diversity: esty_ci\n",
      "Calculating alpha diversity: fisher_alpha\n",
      "DONE: Calculating alpha diversity: fisher_alpha\n",
      "Calculating alpha diversity: gini_index\n",
      "DONE: Calculating alpha diversity: gini_index\n",
      "Calculating alpha diversity: goods_coverage\n"
     ]
    },
    {
     "name": "stdout",
     "output_type": "stream",
     "text": [
      "DONE: Calculating alpha diversity: goods_coverage\n",
      "Calculating alpha diversity: heip_e\n",
      "DONE: Calculating alpha diversity: heip_e\n",
      "Calculating alpha diversity: kempton_taylor_q\n",
      "DONE: Calculating alpha diversity: kempton_taylor_q\n",
      "Calculating alpha diversity: lladser_pe\n"
     ]
    },
    {
     "name": "stderr",
     "output_type": "stream",
     "text": [
      "/home/lauro/anaconda3/envs/qiime2-2022.2/lib/python3.8/site-packages/skbio/diversity/alpha/_base.py:440: RuntimeWarning: divide by zero encountered in long_scalars\n",
      "  return (upper - lower) / np.log(sorted_counts[upper] /\n",
      "/home/lauro/anaconda3/envs/qiime2-2022.2/lib/python3.8/site-packages/skbio/diversity/alpha/_base.py:440: RuntimeWarning: invalid value encountered in long_scalars\n",
      "  return (upper - lower) / np.log(sorted_counts[upper] /\n"
     ]
    },
    {
     "name": "stdout",
     "output_type": "stream",
     "text": [
      "DONE: Calculating alpha diversity: lladser_pe\n",
      "Calculating alpha diversity: margalef\n",
      "DONE: Calculating alpha diversity: margalef\n",
      "Calculating alpha diversity: mcintosh_d\n",
      "DONE: Calculating alpha diversity: mcintosh_d\n",
      "Calculating alpha diversity: mcintosh_e\n",
      "DONE: Calculating alpha diversity: mcintosh_e\n",
      "Calculating alpha diversity: menhinick\n"
     ]
    },
    {
     "name": "stdout",
     "output_type": "stream",
     "text": [
      "DONE: Calculating alpha diversity: menhinick\n",
      "Calculating alpha diversity: michaelis_menten_fit\n"
     ]
    },
    {
     "name": "stdout",
     "output_type": "stream",
     "text": [
      "DONE: Calculating alpha diversity: michaelis_menten_fit\n",
      "Calculating alpha diversity: observed_features\n",
      "DONE: Calculating alpha diversity: observed_features\n",
      "Calculating alpha diversity: osd\n",
      "DONE: Calculating alpha diversity: osd\n",
      "Calculating alpha diversity: pielou_e\n",
      "DONE: Calculating alpha diversity: pielou_e\n",
      "Calculating alpha diversity: robbins\n"
     ]
    },
    {
     "name": "stdout",
     "output_type": "stream",
     "text": [
      "DONE: Calculating alpha diversity: robbins\n",
      "Calculating alpha diversity: shannon\n",
      "DONE: Calculating alpha diversity: shannon\n",
      "Calculating alpha diversity: simpson\n",
      "DONE: Calculating alpha diversity: simpson\n",
      "Calculating alpha diversity: simpson_e\n",
      "DONE: Calculating alpha diversity: simpson_e\n",
      "Calculating alpha diversity: singles\n"
     ]
    },
    {
     "name": "stdout",
     "output_type": "stream",
     "text": [
      "DONE: Calculating alpha diversity: singles\n",
      "Calculating alpha diversity: strong\n",
      "DONE: Calculating alpha diversity: strong\n"
     ]
    }
   ],
   "source": [
    "metrics = ('ace', 'berger_parker_d', 'brillouin_d', 'chao1', 'chao1_ci', 'dominance', 'doubles', 'enspie', 'esty_ci', 'fisher_alpha', 'gini_index', 'goods_coverage', 'heip_e', 'kempton_taylor_q', 'lladser_pe', 'margalef', 'mcintosh_d', 'mcintosh_e', 'menhinick', 'michaelis_menten_fit', 'observed_features', 'osd', 'pielou_e', 'robbins', 'shannon', 'simpson', 'simpson_e', 'singles', 'strong')\n",
    "alpha_diversities = dict()\n",
    "for metric in metrics:\n",
    "    print(f\"Calculating alpha diversity: {metric}\")\n",
    "    try:\n",
    "        alpha_diversity = alpha(table=tabs, metric=metric).alpha_diversity\n",
    "        alpha_diversities[metric] = alpha_diversity\n",
    "        # Save SampleData[AlphaDiversity] Artifact\n",
    "        file_path = os.path.join(alpha_path, f'alpha-values-{metric}.qza')\n",
    "        alpha_diversity.save(file_path)\n",
    "        print(f\"DONE: Calculating alpha diversity: {metric}\")\n",
    "    except Exception as e:\n",
    "        print(f\"ERROR: Calculating alpha diversity: {metric}\")\n",
    "        print(e)"
   ]
  },
  {
   "cell_type": "markdown",
   "id": "184bcb7b",
   "metadata": {
    "papermill": {
     "duration": 0.018311,
     "end_time": "2023-06-07T16:42:15.383017",
     "exception": false,
     "start_time": "2023-06-07T16:42:15.364706",
     "status": "completed"
    },
    "tags": []
   },
   "source": [
    "### Create Phylogenetic inference\n",
    "\n",
    "- [alignment align_to_tree_mafft_fasttree](https://docs.qiime2.org/2022.8/plugins/available/phylogeny/align-to-tree-mafft-fasttree/): Build a phylogenetic tree using fasttree and mafft alignment\n",
    "\n",
    "This pipeline will start by creating a sequence alignment using MAFFT,\n",
    "after which any alignment columns that are phylogenetically uninformative\n",
    "or ambiguously aligned will be removed (masked). The resulting masked\n",
    "alignment will be used to infer a phylogenetic tree and then subsequently\n",
    "rooted at its midpoint. Output files from each step of the pipeline will be\n",
    "saved. This includes both the unmasked and masked MAFFT alignment from\n",
    "q2-alignment methods, and both the rooted and unrooted phylogenies from\n",
    "q2-phylogeny methods.\n",
    "\n",
    "\n",
    "Returns\n",
    "- alignment : FeatureData[AlignedSequence] : The aligned sequences.\n",
    "- masked_alignment : FeatureData[AlignedSequence] : The masked alignment.\n",
    "- tree : Phylogeny[Unrooted] : The unrooted phylogenetic tree.\n",
    "- rooted_tree : Phylogeny[Rooted] : The rooted phylogenetic tree."
   ]
  },
  {
   "cell_type": "code",
   "execution_count": 10,
   "id": "9c8cfe47",
   "metadata": {
    "ExecuteTime": {
     "end_time": "2022-09-29T20:54:35.139531Z",
     "start_time": "2022-09-29T20:54:20.792130Z"
    },
    "execution": {
     "iopub.execute_input": "2023-06-07T16:42:15.420907Z",
     "iopub.status.busy": "2023-06-07T16:42:15.420735Z",
     "iopub.status.idle": "2023-06-07T16:42:26.553740Z",
     "shell.execute_reply": "2023-06-07T16:42:26.553200Z"
    },
    "papermill": {
     "duration": 11.153806,
     "end_time": "2023-06-07T16:42:26.555269",
     "exception": false,
     "start_time": "2023-06-07T16:42:15.401463",
     "status": "completed"
    },
    "tags": []
   },
   "outputs": [
    {
     "name": "stdout",
     "output_type": "stream",
     "text": [
      "Running external command line application. This may print messages to stdout and/or stderr.\n",
      "The command being run is below. This command cannot be manually re-run as it will depend on temporary files that no longer exist.\n",
      "\n",
      "Command: mafft --preservecase --inputorder --thread 6 /tmp/qiime2-archive-87bu347f/2b7b3347-5621-495d-929f-19b9d70cc083/data/dna-sequences.fasta\n",
      "\n"
     ]
    },
    {
     "name": "stderr",
     "output_type": "stream",
     "text": [
      "inputfile = orig\n",
      "582 x 431 - 199 d\n",
      "nthread = 6\n",
      "nthreadpair = 6\n",
      "nthreadtb = 6\n",
      "ppenalty_ex = 0\n",
      "stacksize: 8192 kb\n",
      "generating a scoring matrix for nucleotide (dist=200) ... done\n",
      "Gap Penalty = -1.53, +0.00, +0.00\n",
      "\n",
      "\n",
      "\n",
      "Making a distance matrix ..\n",
      "\r",
      "    1 / 582 (thread    0)\r",
      "  101 / 582 (thread    4)\r",
      "  201 / 582 (thread    4)\r",
      "  301 / 582 (thread    0)\r",
      "  401 / 582 (thread    5)\r",
      "  501 / 582 (thread    2)\n",
      "done.\n",
      "\n",
      "Constructing a UPGMA tree (efffree=0) ... \n",
      "\r",
      "    0 / 582\r",
      "   10 / 582\r",
      "   20 / 582\r",
      "   30 / 582\r",
      "   40 / 582\r",
      "   50 / 582\r",
      "   60 / 582\r",
      "   70 / 582\r",
      "   80 / 582\r",
      "   90 / 582\r",
      "  100 / 582\r",
      "  110 / 582\r",
      "  120 / 582\r",
      "  130 / 582\r",
      "  140 / 582\r",
      "  150 / 582\r",
      "  160 / 582\r",
      "  170 / 582\r",
      "  180 / 582\r",
      "  190 / 582\r",
      "  200 / 582\r",
      "  210 / 582\r",
      "  220 / 582\r",
      "  230 / 582\r",
      "  240 / 582\r",
      "  250 / 582\r",
      "  260 / 582\r",
      "  270 / 582\r",
      "  280 / 582\r",
      "  290 / 582\r",
      "  300 / 582\r",
      "  310 / 582\r",
      "  320 / 582\r",
      "  330 / 582\r",
      "  340 / 582\r",
      "  350 / 582\r",
      "  360 / 582\r",
      "  370 / 582\r",
      "  380 / 582\r",
      "  390 / 582\r",
      "  400 / 582\r",
      "  410 / 582\r",
      "  420 / 582\r",
      "  430 / 582\r",
      "  440 / 582\r",
      "  450 / 582\r",
      "  460 / 582\r",
      "  470 / 582\r",
      "  480 / 582\r",
      "  490 / 582\r",
      "  500 / 582\r",
      "  510 / 582\r",
      "  520 / 582\r",
      "  530 / 582\r",
      "  540 / 582\r",
      "  550 / 582\r",
      "  560 / 582\r",
      "  570 / 582\r",
      "  580 / 582\n",
      "done.\n",
      "\n",
      "Progressive alignment 1/2... \n",
      "\r",
      "STEP     1 / 581 (thread    0) f\b\b\r",
      "STEP     2 / 581 (thread    1) f\b\b\r",
      "STEP     4 / 581 (thread    3) f\b\b\r",
      "STEP     3 / 581 (thread    2) f\b\b\r",
      "STEP     5 / 581 (thread    4) f\b\b\r",
      "STEP     6 / 581 (thread    5) f\b\b\r",
      "STEP     7 / 581 (thread    4) f\b\b\r",
      "STEP     8 / 581 (thread    2) f\b\b\r",
      "STEP     9 / 581 (thread    0) f\b\b\r",
      "STEP    10 / 581 (thread    1) f\b\b\r",
      "STEP    11 / 581 (thread    4) f\b\b\r",
      "STEP    12 / 581 (thread    5) f\b\b\r",
      "STEP    13 / 581 (thread    3) f\b\b\r",
      "STEP    14 / 581 (thread    2) f\b\b\r",
      "STEP    15 / 581 (thread    0) f\b\b\r",
      "STEP    16 / 581 (thread    4) f\b\b\r",
      "STEP    17 / 581 (thread    1) f\b\b\r",
      "STEP    18 / 581 (thread    2) f\b\b\r",
      "STEP    19 / 581 (thread    5)\r",
      "STEP    20 / 581 (thread    3) f\b\b f\b\b\r",
      "STEP    21 / 581 (thread    4) f\b\b\r",
      "STEP    22 / 581 (thread    0) f\b\b\r",
      "STEP    23 / 581 (thread    1) f\b\b\r",
      "STEP    24 / 581 (thread    2) f\b\b\r",
      "STEP    25 / 581 (thread    4) f\b\b\r",
      "STEP    26 / 581 (thread    5) f\b\b\r",
      "STEP    27 / 581 (thread    3) f\b\b\r",
      "STEP    28 / 581 (thread    2) f\b\b\r",
      "STEP    29 / 581 (thread    0) f\b\b\r",
      "STEP    30 / 581 (thread    1) f\b\b\r",
      "STEP    31 / 581 (thread    4) f\b\b\r",
      "STEP    32 / 581 (thread    2) f\b\b\r",
      "STEP    33 / 581 (thread    5)\r",
      "STEP    34 / 581 (thread    3) f\b\b f\b\b\r",
      "STEP    35 / 581 (thread    0) f\b\b\r",
      "STEP    36 / 581 (thread    1) f\b\b\r",
      "STEP    37 / 581 (thread    4) f\b\b\r",
      "STEP    39 / 581 (thread    3) f\b\b\r",
      "STEP    40 / 581 (thread    5) f\b\b\r",
      "STEP    41 / 581 (thread    0) f\b\b\r",
      "STEP    42 / 581 (thread    1) f\b\b\r",
      "STEP    38 / 581 (thread    2) f\b\b\r",
      "STEP    43 / 581 (thread    0) f\b\b\r",
      "STEP    44 / 581 (thread    1) f\b\b\r",
      "STEP    45 / 581 (thread    4) f\b\b\r",
      "STEP    46 / 581 (thread    0) f\b\b\r",
      "STEP    47 / 581 (thread    1) f\b\b\r",
      "STEP    48 / 581 (thread    5) f\b\b\r",
      "STEP    49 / 581 (thread    3) f\b\b\r",
      "STEP    50 / 581 (thread    2) f\b\b\r",
      "STEP    51 / 581 (thread    4) f\b\b\r",
      "STEP    52 / 581 (thread    0) f\b\b\r",
      "STEP    53 / 581 (thread    1) f\b\b\r",
      "STEP    54 / 581 (thread    2) f\b\b\r",
      "STEP    56 / 581 (thread    5) f\b\b\r",
      "STEP    57 / 581 (thread    3) f\b\b\r",
      "STEP    58 / 581 (thread    5) f\b\b\r",
      "STEP    59 / 581 (thread    3) f\b\b\r",
      "STEP    60 / 581 (thread    2) f\b\b\r",
      "STEP    61 / 581 (thread    2) f\b\b\r",
      "STEP    62 / 581 (thread    5) f\b\b\r",
      "STEP    63 / 581 (thread    3) f\b\b\r",
      "STEP    64 / 581 (thread    1) f\b\b\r",
      "STEP    55 / 581 (thread    4) f\b\b\r",
      "STEP    66 / 581 (thread    2) f\b\b\r",
      "STEP    67 / 581 (thread    1) f\b\b\r",
      "STEP    68 / 581 (thread    3) f\b\b\r",
      "STEP    65 / 581 (thread    0) f\b\b\r",
      "STEP    69 / 581 (thread    2) f\b\b\r",
      "STEP    70 / 581 (thread    5) f\b\b\r",
      "STEP    71 / 581 (thread    3) f\b\b\r",
      "STEP    72 / 581 (thread    4) f\b\b\r",
      "STEP    73 / 581 (thread    2) f\b\b\r",
      "STEP    74 / 581 (thread    1) f\b\b\r",
      "STEP    75 / 581 (thread    5) f\b\b\r",
      "STEP    76 / 581 (thread    3) f\b\b\r",
      "STEP    77 / 581 (thread    0) f\b\b\r",
      "STEP    78 / 581 (thread    4) f\b\b\r",
      "STEP    79 / 581 (thread    2) f\b\b\r",
      "STEP    80 / 581 (thread    1) f\b\b\r",
      "STEP    81 / 581 (thread    5) f\b\b\r",
      "STEP    82 / 581 (thread    3) f\b\b\r",
      "STEP    83 / 581 (thread    4) f\b\b\r",
      "STEP    84 / 581 (thread    1) f\b\b\r",
      "STEP    85 / 581 (thread    0) f\b\b\r",
      "STEP    86 / 581 (thread    2) f\b\b\r",
      "STEP    87 / 581 (thread    0) f\b\b\r",
      "STEP    88 / 581 (thread    5) f\b\b\r",
      "STEP    89 / 581 (thread    4) f\b\b\r",
      "STEP    90 / 581 (thread    2) f\b\b\r",
      "STEP    91 / 581 (thread    1) f\b\b\r",
      "STEP    92 / 581 (thread    3) f\b\b\r",
      "STEP    93 / 581 (thread    0) f\b\b\r",
      "STEP    94 / 581 (thread    4) f\b\b\r",
      "STEP    95 / 581 (thread    5) f\b\b\r",
      "STEP    96 / 581 (thread    2) f\b\b\r",
      "STEP    98 / 581 (thread    4) f\b\b\r",
      "STEP    99 / 581 (thread    2) f\b\b\r",
      "STEP    97 / 581 (thread    1) f\b\b\r",
      "STEP   101 / 581 (thread    5) f\b\b\r",
      "STEP   100 / 581 (thread    0) f\b\b\r",
      "STEP   102 / 581 (thread    3) f\b\b\r",
      "STEP   103 / 581 (thread    2) f\b\b\r",
      "STEP   104 / 581 (thread    3) f\b\b\r",
      "STEP   105 / 581 (thread    1) f\b\b\r",
      "STEP   106 / 581 (thread    4) f\b\b\r",
      "STEP   107 / 581 (thread    5) f\b\b\r",
      "STEP   108 / 581 (thread    0) f\b\b\r",
      "STEP   109 / 581 (thread    3) f\b\b\r",
      "STEP   110 / 581 (thread    4) f\b\b\r",
      "STEP   111 / 581 (thread    0) f\b\b\r",
      "STEP   112 / 581 (thread    2) f\b\b\r",
      "STEP   113 / 581 (thread    1) f\b\b\r",
      "STEP   114 / 581 (thread    4) f\b\b\r",
      "STEP   115 / 581 (thread    5) f\b\b\r",
      "STEP   116 / 581 (thread    0) f\b\b\r",
      "STEP   117 / 581 (thread    3) f\b\b\r",
      "STEP   118 / 581 (thread    0) f\b\b\r",
      "STEP   119 / 581 (thread    2) f\b\b\r",
      "STEP   120 / 581 (thread    1) f\b\b\r",
      "STEP   121 / 581 (thread    4) f\b\b\r",
      "STEP   122 / 581 (thread    5) f\b\b\r",
      "STEP   123 / 581 (thread    2) f\b\b\r",
      "STEP   124 / 581 (thread    3) f\b\b\r",
      "STEP   125 / 581 (thread    4) f\b\b\r",
      "STEP   126 / 581 (thread    0) f\b\b\r",
      "STEP   127 / 581 (thread    3) f\b\b\r",
      "STEP   129 / 581 (thread    1) f\b\b\r",
      "STEP   128 / 581 (thread    4) f\b\b\r",
      "STEP   130 / 581 (thread    2) f\b\b\r",
      "STEP   131 / 581 (thread    5) f\b\b\r",
      "STEP   132 / 581 (thread    0) f\b\b\r",
      "STEP   133 / 581 (thread    1) f\b\b\r",
      "STEP   134 / 581 (thread    5) f\b\b\r",
      "STEP   135 / 581 (thread    4) f\b\b\r",
      "STEP   136 / 581 (thread    3) f\b\b\r",
      "STEP   137 / 581 (thread    2) f\b\b\r",
      "STEP   138 / 581 (thread    0) f\b\b\r",
      "STEP   139 / 581 (thread    4) f\b\b\r",
      "STEP   140 / 581 (thread    1) f\b\b\r",
      "STEP   141 / 581 (thread    2) f\b\b\r",
      "STEP   142 / 581 (thread    5) f\b\b\r",
      "STEP   143 / 581 (thread    4) f\b\b\r",
      "STEP   144 / 581 (thread    1) f\b\b\r",
      "STEP   145 / 581 (thread    2) f\b\b\r",
      "STEP   146 / 581 (thread    3) f\b\b\r",
      "STEP   147 / 581 (thread    5) f\b\b\r",
      "STEP   148 / 581 (thread    0) f\b\b\r",
      "STEP   149 / 581 (thread    4) f\b\b\r",
      "STEP   150 / 581 (thread    5) f\b\b\r",
      "STEP   151 / 581 (thread    2) f\b\b\r",
      "STEP   152 / 581 (thread    1) f\b\b\r",
      "STEP   153 / 581 (thread    3) f\b\b\r",
      "STEP   154 / 581 (thread    2) f\b\b\r",
      "STEP   155 / 581 (thread    0) f\b\b\r",
      "STEP   157 / 581 (thread    3) f\b\b\r",
      "STEP   158 / 581 (thread    2) f\b\b\r",
      "STEP   159 / 581 (thread    5) f\b\b\r",
      "STEP   156 / 581 (thread    4) f\b\b\r",
      "STEP   160 / 581 (thread    0) f\b\b\r",
      "STEP   162 / 581 (thread    2) f\b\b\r",
      "STEP   161 / 581 (thread    1) f\b\b\r",
      "STEP   164 / 581 (thread    2) f\b\b\r",
      "STEP   165 / 581 (thread    3) f\b\b\r",
      "STEP   166 / 581 (thread    1) f\b\b\r",
      "STEP   163 / 581 (thread    0) f\b\b\r",
      "STEP   167 / 581 (thread    5) f\b\b\r",
      "STEP   169 / 581 (thread    2) f\b\b\r",
      "STEP   170 / 581 (thread    3) f\b\b\r",
      "STEP   168 / 581 (thread    4) f\b\b\r",
      "STEP   171 / 581 (thread    2) f\b\b\r",
      "STEP   172 / 581 (thread    1) f\b\b\r",
      "STEP   173 / 581 (thread    0) f\b\b\r",
      "STEP   175 / 581 (thread    5) f\b\b\r",
      "STEP   176 / 581 (thread    4) f\b\b\r",
      "STEP   174 / 581 (thread    2) f\b\b\r",
      "STEP   177 / 581 (thread    0) f\b\b\r",
      "STEP   178 / 581 (thread    4) f\b\b\r",
      "STEP   179 / 581 (thread    3) f\b\b\r",
      "STEP   180 / 581 (thread    5) f\b\b\r",
      "STEP   181 / 581 (thread    1) f\b\b\r",
      "STEP   182 / 581 (thread    4) f\b\b\r",
      "STEP   183 / 581 (thread    0) f\b\b\r",
      "STEP   184 / 581 (thread    3) f\b\b\r",
      "STEP   185 / 581 (thread    5) f\b\b\r",
      "STEP   187 / 581 (thread    5) f\b\b\r",
      "STEP   188 / 581 (thread    4) f\b\b\r",
      "STEP   186 / 581 (thread    2) f\b\b\r",
      "STEP   190 / 581 (thread    3) f\b\b\r",
      "STEP   191 / 581 (thread    0) f\b\b\r",
      "STEP   192 / 581 (thread    0) f\b\b\r",
      "STEP   193 / 581 (thread    4) f\b\b\r",
      "STEP   194 / 581 (thread    5) f\b\b\r",
      "STEP   195 / 581 (thread    0) f\b\b\r",
      "STEP   196 / 581 (thread    2) f\b\b\r",
      "STEP   189 / 581 (thread    1) f\b\b\r",
      "STEP   197 / 581 (thread    0) f\b\b\r",
      "STEP   199 / 581 (thread    2) f\b\b\r",
      "STEP   200 / 581 (thread    5) f\b\b\r",
      "STEP   201 / 581 (thread    4) f\b\b\r",
      "STEP   202 / 581 (thread    2) f\b\b\r",
      "STEP   203 / 581 (thread    5) f\b\b\r",
      "STEP   204 / 581 (thread    1) f\b\b\r",
      "STEP   198 / 581 (thread    3) f\b\b\r",
      "STEP   205 / 581 (thread    0) f\b\b\r",
      "STEP   206 / 581 (thread    4) f\b\b\r",
      "STEP   207 / 581 (thread    5) f\b\b\r",
      "STEP   209 / 581 (thread    4)\r",
      "STEP   208 / 581 (thread    2) f\b\b f\b\b\r",
      "STEP   210 / 581 (thread    1) f\b\b\r",
      "STEP   211 / 581 (thread    0) f\b\b\r",
      "STEP   212 / 581 (thread    5) f\b\b\r",
      "STEP   213 / 581 (thread    3) f\b\b\r",
      "STEP   214 / 581 (thread    1) f\b\b\r",
      "STEP   215 / 581 (thread    0) f\b\b\r",
      "STEP   216 / 581 (thread    2) f\b\b\r",
      "STEP   218 / 581 (thread    2) f\b\b\r",
      "STEP   219 / 581 (thread    1) f\b\b\r",
      "STEP   217 / 581 (thread    4) f\b\b\r",
      "STEP   221 / 581 (thread    0) f\b\b\r",
      "STEP   220 / 581 (thread    3) f\b\b\r",
      "STEP   222 / 581 (thread    2) f\b\b\r",
      "STEP   223 / 581 (thread    5) f\b\b\r",
      "STEP   224 / 581 (thread    0) f\b\b\r",
      "STEP   225 / 581 (thread    4) f\b\b\r",
      "STEP   226 / 581 (thread    2) f\b\b\r",
      "STEP   227 / 581 (thread    1) f\b\b\r",
      "STEP   228 / 581 (thread    3) f\b\b\r",
      "STEP   229 / 581 (thread    5) f\b\b\r",
      "STEP   230 / 581 (thread    4) f\b\b\r",
      "STEP   231 / 581 (thread    2) f\b\b\r",
      "STEP   232 / 581 (thread    0) f\b\b\r",
      "STEP   233 / 581 (thread    4) f\b\b\r",
      "STEP   234 / 581 (thread    1) f\b\b\r",
      "STEP   235 / 581 (thread    0) f\b\b\r",
      "STEP   236 / 581 (thread    4) f\b\b\r",
      "STEP   238 / 581 (thread    3) f\b\b\r",
      "STEP   239 / 581 (thread    2) f\b\b\r",
      "STEP   240 / 581 (thread    0) f\b\b\r",
      "STEP   241 / 581 (thread    1) f\b\b\r",
      "STEP   242 / 581 (thread    2) f\b\b\r",
      "STEP   243 / 581 (thread    4) f\b\b\r",
      "STEP   237 / 581 (thread    5) f\b\b\r",
      "STEP   244 / 581 (thread    3) f\b\b\r",
      "STEP   245 / 581 (thread    1) f\b\b\r",
      "STEP   246 / 581 (thread    3) f\b\b\r",
      "STEP   247 / 581 (thread    0) f\b\b\r",
      "STEP   248 / 581 (thread    4) f\b\b\r",
      "STEP   249 / 581 (thread    2) f\b\b\r",
      "STEP   250 / 581 (thread    5) f\b\b\r",
      "STEP   251 / 581 (thread    0) f\b\b\r",
      "STEP   252 / 581 (thread    1) f\b\b\r",
      "STEP   253 / 581 (thread    2) f\b\b\r",
      "STEP   254 / 581 (thread    3) f\b\b\r",
      "STEP   255 / 581 (thread    0) f\b\b\r",
      "STEP   256 / 581 (thread    4) f\b\b\r",
      "STEP   257 / 581 (thread    3) f\b\b\r",
      "STEP   258 / 581 (thread    5) f\b\b\r",
      "STEP   259 / 581 (thread    1) f\b\b\r",
      "STEP   260 / 581 (thread    5) f\b\b\r",
      "STEP   261 / 581 (thread    2) f\b\b\r",
      "STEP   262 / 581 (thread    0) f\b\b\r",
      "STEP   263 / 581 (thread    4) f\b\b\r",
      "STEP   264 / 581 (thread    1) f\b\b\r",
      "STEP   265 / 581 (thread    3) f\b\b\r",
      "STEP   267 / 581 (thread    2) f\b\b\r",
      "STEP   268 / 581 (thread    3) f\b\b\r",
      "STEP   269 / 581 (thread    0) f\b\b\r",
      "STEP   266 / 581 (thread    5) f\b\b\r",
      "STEP   270 / 581 (thread    3) f\b\b\r",
      "STEP   271 / 581 (thread    1) f\b\b\r",
      "STEP   272 / 581 (thread    1) f\b\b\r",
      "STEP   273 / 581 (thread    0) f\b\b\r",
      "STEP   274 / 581 (thread    2) f\b\b\r",
      "STEP   275 / 581 (thread    3) f\b\b\r",
      "STEP   276 / 581 (thread    4) f\b\b\r",
      "STEP   277 / 581 (thread    5) f\b\b\r",
      "STEP   278 / 581 (thread    1) f\b\b\r",
      "STEP   279 / 581 (thread    3) f\b\b\r",
      "STEP   280 / 581 (thread    1) f\b\b\r",
      "STEP   281 / 581 (thread    0) f\b\b\r",
      "STEP   282 / 581 (thread    2) f\b\b\r",
      "STEP   283 / 581 (thread    3) f\b\b\r",
      "STEP   284 / 581 (thread    5) f\b\b\r",
      "STEP   285 / 581 (thread    4) f\b\b\r",
      "STEP   286 / 581 (thread    2) f\b\b\r",
      "STEP   287 / 581 (thread    1) f\b\b\r",
      "STEP   288 / 581 (thread    0) f\b\b\r",
      "STEP   289 / 581 (thread    5) f\b\b\r",
      "STEP   290 / 581 (thread    4) f\b\b\r",
      "STEP   291 / 581 (thread    2) f\b\b\r",
      "STEP   293 / 581 (thread    3) f\b\b\r",
      "STEP   292 / 581 (thread    1) f\b\b\r",
      "STEP   294 / 581 (thread    0) f\b\b\r",
      "STEP   295 / 581 (thread    0) f\b\b\r",
      "STEP   296 / 581 (thread    5) f\b\b\r",
      "STEP   297 / 581 (thread    4) f\b\b\r",
      "STEP   298 / 581 (thread    3) f\b\b\r",
      "STEP   299 / 581 (thread    2) f\b\b\r",
      "STEP   300 / 581 (thread    0) f\b\b\r",
      "STEP   301 / 581 (thread    5) f\b\b\r",
      "STEP   302 / 581 (thread    3) f\b\b\r",
      "STEP   303 / 581 (thread    4) f\b\b\r",
      "STEP   304 / 581 (thread    5) f\b\b\r",
      "STEP   305 / 581 (thread    2) f\b\b\r",
      "STEP   306 / 581 (thread    1) f\b\b\r",
      "STEP   307 / 581 (thread    0) f\b\b\r",
      "STEP   308 / 581 (thread    3) f\b\b\r",
      "STEP   309 / 581 (thread    4) f\b\b\r",
      "STEP   310 / 581 (thread    5) f\b\b\r",
      "STEP   311 / 581 (thread    2) f\b\b\r",
      "STEP   312 / 581 (thread    3) f\b\b\r",
      "STEP   313 / 581 (thread    1) f\b\b\r",
      "STEP   314 / 581 (thread    0) f\b\b\r",
      "STEP   315 / 581 (thread    4) f\b\b\r",
      "STEP   316 / 581 (thread    4) f\b\b\r",
      "STEP   317 / 581 (thread    1) f\b\b\r",
      "STEP   318 / 581 (thread    3) f\b\b\r",
      "STEP   319 / 581 (thread    2) f\b\b\r",
      "STEP   321 / 581 (thread    0) f\b\b\r",
      "STEP   320 / 581 (thread    5) f\b\b\r",
      "STEP   323 / 581 (thread    5) f\b\b\r",
      "STEP   324 / 581 (thread    4) f\b\b\r",
      "STEP   325 / 581 (thread    2) f\b\b\r",
      "STEP   326 / 581 (thread    3) f\b\b\r",
      "STEP   322 / 581 (thread    1) f\b\b\r",
      "STEP   327 / 581 (thread    0) f\b\b\r",
      "STEP   328 / 581 (thread    4) f\b\b\r",
      "STEP   329 / 581 (thread    5) f\b\b"
     ]
    },
    {
     "name": "stderr",
     "output_type": "stream",
     "text": [
      "\r",
      "STEP   330 / 581 (thread    2) f\b\b\r",
      "STEP   331 / 581 (thread    5) f\b\b\r",
      "STEP   332 / 581 (thread    0) f\b\b\r",
      "STEP   333 / 581 (thread    3) f\b\b\r",
      "STEP   334 / 581 (thread    2) f\b\b\r",
      "STEP   335 / 581 (thread    1) f\b\b\r",
      "STEP   336 / 581 (thread    5)\r",
      "STEP   337 / 581 (thread    3) f\b\b f\b\b\r",
      "STEP   338 / 581 (thread    4) f\b\b\r",
      "STEP   340 / 581 (thread    3) f\b\b\r",
      "STEP   341 / 581 (thread    5) f\b\b\r",
      "STEP   342 / 581 (thread    4) f\b\b\r",
      "STEP   343 / 581 (thread    3) f\b\b\r",
      "STEP   344 / 581 (thread    0) f\b\b\r",
      "STEP   345 / 581 (thread    5) f\b\b\r",
      "STEP   346 / 581 (thread    4) f\b\b\r",
      "STEP   347 / 581 (thread    1) f\b\b\r",
      "STEP   339 / 581 (thread    2) f\b\b\r",
      "STEP   349 / 581 (thread    5) f\b\b\r",
      "STEP   350 / 581 (thread    5) f\b\b\r",
      "STEP   351 / 581 (thread    1) f\b\b\r",
      "STEP   348 / 581 (thread    3) f\b\b\r",
      "STEP   352 / 581 (thread    0) f\b\b\r",
      "STEP   353 / 581 (thread    4) f\b\b\r",
      "STEP   354 / 581 (thread    5) f\b\b\r",
      "STEP   355 / 581 (thread    2) f\b\b\r",
      "STEP   356 / 581 (thread    0) f\b\b\r",
      "STEP   357 / 581 (thread    3) f\b\b\r",
      "STEP   358 / 581 (thread    4) f\b\b\r",
      "STEP   359 / 581 (thread    1) f\b\b\r",
      "STEP   360 / 581 (thread    5) f\b\b\r",
      "STEP   361 / 581 (thread    4) f\b\b\r",
      "STEP   362 / 581 (thread    3) f\b\b\r",
      "STEP   363 / 581 (thread    2) f\b\b\r",
      "STEP   364 / 581 (thread    3) f\b\b\r",
      "STEP   365 / 581 (thread    0) f\b\b\r",
      "STEP   366 / 581 (thread    1) f\b\b\r",
      "STEP   367 / 581 (thread    5) f\b\b\r",
      "STEP   368 / 581 (thread    2) f\b\b\r",
      "STEP   369 / 581 (thread    0) f\b\b\r",
      "STEP   370 / 581 (thread    4) f\b\b\r",
      "STEP   371 / 581 (thread    3) f\b\b\r",
      "STEP   372 / 581 (thread    5) f\b\b\r",
      "STEP   373 / 581 (thread    1) f\b\b\r",
      "STEP   375 / 581 (thread    0) f\b\b\r",
      "STEP   376 / 581 (thread    5) f\b\b\r",
      "STEP   377 / 581 (thread    4) f\b\b\r",
      "STEP   374 / 581 (thread    3) f\b\b\r",
      "STEP   378 / 581 (thread    2) f\b\b\r",
      "STEP   379 / 581 (thread    5) f\b\b\r",
      "STEP   381 / 581 (thread    3) f\b\b\r",
      "STEP   380 / 581 (thread    4) f\b\b\r",
      "STEP   382 / 581 (thread    1) f\b\b\r",
      "STEP   383 / 581 (thread    3) f\b\b\r",
      "STEP   384 / 581 (thread    5) f\b\b\r",
      "STEP   385 / 581 (thread    0) f\b\b\r",
      "STEP   386 / 581 (thread    1) f\b\b\r",
      "STEP   387 / 581 (thread    4) f\b\b\r",
      "STEP   388 / 581 (thread    2) f\b\b\r",
      "STEP   389 / 581 (thread    3) f\b\b\r",
      "STEP   390 / 581 (thread    5) f\b\b\r",
      "STEP   391 / 581 (thread    1) f\b\b\r",
      "STEP   392 / 581 (thread    1) f\b\b\r",
      "STEP   393 / 581 (thread    3) f\b\b\r",
      "STEP   394 / 581 (thread    5) f\b\b\r",
      "STEP   395 / 581 (thread    0) f\b\b\r",
      "STEP   396 / 581 (thread    4) f\b\b\r",
      "STEP   397 / 581 (thread    2) f\b\b\r",
      "STEP   398 / 581 (thread    3) f\b\b\r",
      "STEP   399 / 581 (thread    1) f\b\b\r",
      "STEP   401 / 581 (thread    3) f\b\b\r",
      "STEP   400 / 581 (thread    5) f\b\b\r",
      "STEP   403 / 581 (thread    0) f\b\b\r",
      "STEP   404 / 581 (thread    2) f\b\b\r",
      "STEP   402 / 581 (thread    4) f\b\b\r",
      "STEP   405 / 581 (thread    3) f\b\b\r",
      "STEP   406 / 581 (thread    1) f\b\b\r",
      "STEP   407 / 581 (thread    2) f\b\b\r",
      "STEP   408 / 581 (thread    5) f\b\b\r",
      "STEP   409 / 581 (thread    3) f\b\b\r",
      "STEP   410 / 581 (thread    0) f\b\b\r",
      "STEP   411 / 581 (thread    4) f\b\b\r",
      "STEP   412 / 581 (thread    5) f\b\b\r",
      "STEP   413 / 581 (thread    1) f\b\b\r",
      "STEP   414 / 581 (thread    3) f\b\b\r",
      "STEP   415 / 581 (thread    5) f\b\b\r",
      "STEP   417 / 581 (thread    1) f\b\b\r",
      "STEP   418 / 581 (thread    4) f\b\b\r",
      "STEP   416 / 581 (thread    2) f\b\b\r",
      "STEP   419 / 581 (thread    5) f\b\b\r",
      "STEP   420 / 581 (thread    3) f\b\b\r",
      "STEP   421 / 581 (thread    0) f\b\b\r",
      "STEP   422 / 581 (thread    1) f\b\b\r",
      "STEP   423 / 581 (thread    5) f\b\b\r",
      "STEP   424 / 581 (thread    5) f\b\b\r",
      "STEP   425 / 581 (thread    3) f\b\b\r",
      "STEP   427 / 581 (thread    4) f\b\b\r",
      "STEP   426 / 581 (thread    0) f\b\b\r",
      "STEP   428 / 581 (thread    2) f\b\b\r",
      "STEP   431 / 581 (thread    5) f\b\b\r",
      "STEP   429 / 581 (thread    1) f\b\b\r",
      "STEP   432 / 581 (thread    3) f\b\b\r",
      "STEP   430 / 581 (thread    4) f\b\b\r",
      "STEP   433 / 581 (thread    3) f\b\b\r",
      "STEP   434 / 581 (thread    5) f\b\b\r",
      "STEP   435 / 581 (thread    2) f\b\b\r",
      "STEP   437 / 581 (thread    2) f\b\b\r",
      "STEP   438 / 581 (thread    1) f\b\b\r",
      "STEP   439 / 581 (thread    3) f\b\b\r",
      "STEP   436 / 581 (thread    0) f\b\b\r",
      "STEP   440 / 581 (thread    4) f\b\b\r",
      "STEP   441 / 581 (thread    3) f\b\b\r",
      "STEP   442 / 581 (thread    5) f\b\b\r",
      "STEP   443 / 581 (thread    4) f\b\b\r",
      "STEP   444 / 581 (thread    1) f\b\b\r",
      "STEP   445 / 581 (thread    5) f\b\b\r",
      "STEP   446 / 581 (thread    3) f\b\b\r",
      "STEP   447 / 581 (thread    2) f\b\b\r",
      "STEP   448 / 581 (thread    1) f\b\b\r",
      "STEP   449 / 581 (thread    0) f\b\b\r",
      "STEP   451 / 581 (thread    4) f\b\b\r",
      "STEP   453 / 581 (thread    3) f\b\b\r",
      "STEP   450 / 581 (thread    0) f\b\b\r",
      "STEP   454 / 581 (thread    2) f\b\b\r",
      "STEP   455 / 581 (thread    1) f\b\b\r",
      "STEP   456 / 581 (thread    3) f\b\b\r",
      "STEP   457 / 581 (thread    4) f\b\b\n",
      "Reallocating..done. *alloclen = 1865\n",
      "\r",
      "STEP   458 / 581 (thread    0) f\b\b\r",
      "STEP   452 / 581 (thread    5) f\b\b\r",
      "STEP   460 / 581 (thread    3) f\b\b\r",
      "STEP   461 / 581 (thread    4) f\b\b\r",
      "STEP   462 / 581 (thread    1) f\b\b\r",
      "STEP   463 / 581 (thread    3) f\b\b\r",
      "STEP   464 / 581 (thread    4) f\b\b\r",
      "STEP   466 / 581 (thread    4) f\b\b\r",
      "STEP   467 / 581 (thread    5) f\b\b\r",
      "STEP   459 / 581 (thread    2) f\b\b\r",
      "STEP   465 / 581 (thread    0) f\b\b\r",
      "STEP   468 / 581 (thread    3) f\b\b\r",
      "STEP   469 / 581 (thread    1) f\b\b\r",
      "STEP   471 / 581 (thread    3) f\b\b\r",
      "STEP   473 / 581 (thread    4) f\b\b\r",
      "STEP   474 / 581 (thread    1) f\b\b\r",
      "STEP   475 / 581 (thread    0) f\b\b\r",
      "STEP   476 / 581 (thread    2) f\b\b\r",
      "STEP   470 / 581 (thread    5) f\b\b\r",
      "STEP   477 / 581 (thread    4) f\b\b\r",
      "STEP   478 / 581 (thread    1) f\b\b\r",
      "STEP   479 / 581 (thread    0) f\b\b\r",
      "STEP   480 / 581 (thread    2) f\b\b\r",
      "STEP   481 / 581 (thread    5) f\b\b\r",
      "STEP   472 / 581 (thread    3) f\b\b\r",
      "STEP   482 / 581 (thread    4) f\b\b\r",
      "STEP   483 / 581 (thread    1) f\b\b\r",
      "STEP   485 / 581 (thread    5) f\b\b\r",
      "STEP   486 / 581 (thread    2) f\b\b\r",
      "STEP   487 / 581 (thread    0) f\b\b\r",
      "STEP   488 / 581 (thread    1) f\b\b\r",
      "STEP   490 / 581 (thread    3) f\b\b\r",
      "STEP   484 / 581 (thread    4) f\b\b\r",
      "STEP   489 / 581 (thread    0) f\b\b\r",
      "STEP   491 / 581 (thread    5) f\b\b\r",
      "STEP   494 / 581 (thread    1) f\b\b\r",
      "STEP   495 / 581 (thread    5) f\b\b\r",
      "STEP   496 / 581 (thread    0) f\b\b\r",
      "STEP   497 / 581 (thread    5) f\b\b\r",
      "STEP   498 / 581 (thread    4) f\b\b\r",
      "STEP   492 / 581 (thread    2) f\b\b\r",
      "STEP   499 / 581 (thread    1) f\b\b\r",
      "STEP   500 / 581 (thread    0) f\b\b\r",
      "STEP   493 / 581 (thread    3) f\b\b\r",
      "STEP   501 / 581 (thread    5) f\b\b"
     ]
    },
    {
     "name": "stderr",
     "output_type": "stream",
     "text": [
      "\n",
      "done.\n",
      "\n",
      "Making a distance matrix from msa.. \n",
      "\r",
      "    0 / 582 (thread    1)\r",
      "  100 / 582 (thread    2)\r",
      "  200 / 582 (thread    0)\r",
      "  300 / 582 (thread    5)\r",
      "  400 / 582 (thread    1)\r",
      "  500 / 582 (thread    4)\n",
      "done.\n",
      "\n",
      "Constructing a UPGMA tree (efffree=1) ... \n",
      "\r",
      "    0 / 582\r",
      "   10 / 582\r",
      "   20 / 582\r",
      "   30 / 582\r",
      "   40 / 582\r",
      "   50 / 582\r",
      "   60 / 582\r",
      "   70 / 582\r",
      "   80 / 582\r",
      "   90 / 582\r",
      "  100 / 582\r",
      "  110 / 582\r",
      "  120 / 582\r",
      "  130 / 582\r",
      "  140 / 582\r",
      "  150 / 582\r",
      "  160 / 582\r",
      "  170 / 582\r",
      "  180 / 582\r",
      "  190 / 582\r",
      "  200 / 582\r",
      "  210 / 582\r",
      "  220 / 582\r",
      "  230 / 582\r",
      "  240 / 582\r",
      "  250 / 582\r",
      "  260 / 582\r",
      "  270 / 582\r",
      "  280 / 582\r",
      "  290 / 582\r",
      "  300 / 582\r",
      "  310 / 582\r",
      "  320 / 582\r",
      "  330 / 582\r",
      "  340 / 582\r",
      "  350 / 582\r",
      "  360 / 582\r",
      "  370 / 582\r",
      "  380 / 582\r",
      "  390 / 582\r",
      "  400 / 582\r",
      "  410 / 582\r",
      "  420 / 582\r",
      "  430 / 582\r",
      "  440 / 582\r",
      "  450 / 582\r",
      "  460 / 582\r",
      "  470 / 582\r",
      "  480 / 582\r",
      "  490 / 582\r",
      "  500 / 582\r",
      "  510 / 582\r",
      "  520 / 582\r",
      "  530 / 582\r",
      "  540 / 582\r",
      "  550 / 582\r",
      "  560 / 582\r",
      "  570 / 582\r",
      "  580 / 582\n",
      "done.\n",
      "\n",
      "Progressive alignment 2/2... \n",
      "\r",
      "STEP     1 / 581 (thread    0) f\b\b\r",
      "STEP     2 / 581 (thread    1) f\b\b\r",
      "STEP     3 / 581 (thread    3) f\b\b\r",
      "STEP     4 / 581 (thread    2) f\b\b\r",
      "STEP     5 / 581 (thread    4) f\b\b\r",
      "STEP     6 / 581 (thread    5) f\b\b\r",
      "STEP     7 / 581 (thread    1) f\b\b\r",
      "STEP     8 / 581 (thread    2) f\b\b\r",
      "STEP     9 / 581 (thread    1) f\b\b\r",
      "STEP    10 / 581 (thread    2) f\b\b\r",
      "STEP    11 / 581 (thread    1) f\b\b\r",
      "STEP    12 / 581 (thread    2) f\b\b\r",
      "STEP    13 / 581 (thread    1) f\b\b\r",
      "STEP    14 / 581 (thread    2) f\b\b\r",
      "STEP    15 / 581 (thread    1) f\b\b\r",
      "STEP    16 / 581 (thread    2) f\b\b\r",
      "STEP    17 / 581 (thread    3) f\b\b\r",
      "STEP    18 / 581 (thread    1) f\b\b\r",
      "STEP    19 / 581 (thread    2) f\b\b\r",
      "STEP    20 / 581 (thread    4) f\b\b\r",
      "STEP    21 / 581 (thread    5) f\b\b\r",
      "STEP    22 / 581 (thread    1) f\b\b\r",
      "STEP    23 / 581 (thread    3) f\b\b\r",
      "STEP    24 / 581 (thread    2) f\b\b\r",
      "STEP    25 / 581 (thread    4) f\b\b\r",
      "STEP    26 / 581 (thread    5) f\b\b\r",
      "STEP    27 / 581 (thread    1) f\b\b\r",
      "STEP    28 / 581 (thread    0) f\b\b\r",
      "STEP    29 / 581 (thread    2) f\b\b\r",
      "STEP    31 / 581 (thread    1) f\b\b\r",
      "STEP    32 / 581 (thread    0) f\b\b\r",
      "STEP    33 / 581 (thread    2) f\b\b\r",
      "STEP    30 / 581 (thread    3) f\b\b\r",
      "STEP    34 / 581 (thread    5) f\b\b\r",
      "STEP    35 / 581 (thread    2) f\b\b\r",
      "STEP    36 / 581 (thread    1) f\b\b\r",
      "STEP    37 / 581 (thread    0) f\b\b\r",
      "STEP    38 / 581 (thread    5) f\b\b\r",
      "STEP    39 / 581 (thread    4) f\b\b\r",
      "STEP    40 / 581 (thread    2) f\b\b\r",
      "STEP    41 / 581 (thread    1) f\b\b\r",
      "STEP    42 / 581 (thread    3) f\b\b\r",
      "STEP    43 / 581 (thread    0) f\b\b\r",
      "STEP    44 / 581 (thread    5) f\b\b\r",
      "STEP    45 / 581 (thread    2) f\b\b\r",
      "STEP    46 / 581 (thread    4) f\b\b\r",
      "STEP    47 / 581 (thread    2) f\b\b\r",
      "STEP    48 / 581 (thread    3) f\b\b\r",
      "STEP    49 / 581 (thread    0) f\b\b\r",
      "STEP    50 / 581 (thread    4) f\b\b\r",
      "STEP    51 / 581 (thread    1) f\b\b\r",
      "STEP    52 / 581 (thread    1) f\b\b\r",
      "STEP    53 / 581 (thread    5) f\b\b\r",
      "STEP    54 / 581 (thread    2) f\b\b\r",
      "STEP    55 / 581 (thread    4) f\b\b\r",
      "STEP    56 / 581 (thread    1) f\b\b\r",
      "STEP    57 / 581 (thread    2) f\b\b\r",
      "STEP    58 / 581 (thread    3) f\b\b\r",
      "STEP    59 / 581 (thread    0) f\b\b\r",
      "STEP    60 / 581 (thread    5) f\b\b\r",
      "STEP    61 / 581 (thread    1) f\b\b\r",
      "STEP    62 / 581 (thread    1) f\b\b\r",
      "STEP    63 / 581 (thread    4) f\b\b\r",
      "STEP    64 / 581 (thread    5) f\b\b\r",
      "STEP    65 / 581 (thread    0) f\b\b\r",
      "STEP    67 / 581 (thread    1) f\b\b\r",
      "STEP    68 / 581 (thread    3) f\b\b\r",
      "STEP    69 / 581 (thread    1) f\b\b\r",
      "STEP    70 / 581 (thread    4) f\b\b\r",
      "STEP    66 / 581 (thread    2) f\b\b\r",
      "STEP    72 / 581 (thread    5) f\b\b\r",
      "STEP    73 / 581 (thread    1) f\b\b\r",
      "STEP    74 / 581 (thread    3) f\b\b\r",
      "STEP    71 / 581 (thread    0) f\b\b\r",
      "STEP    75 / 581 (thread    4) f\b\b\r",
      "STEP    76 / 581 (thread    1) f\b\b\r",
      "STEP    78 / 581 (thread    4) f\b\b\r",
      "STEP    79 / 581 (thread    5) f\b\b\r",
      "STEP    77 / 581 (thread    2) f\b\b\r",
      "STEP    80 / 581 (thread    1) f\b\b\r",
      "STEP    81 / 581 (thread    3) f\b\b\r",
      "STEP    82 / 581 (thread    0) f\b\b\r",
      "STEP    83 / 581 (thread    4) f\b\b\r",
      "STEP    85 / 581 (thread    1) f\b\b\r",
      "STEP    86 / 581 (thread    2) f\b\b\r",
      "STEP    84 / 581 (thread    5) f\b\b\r",
      "STEP    87 / 581 (thread    3) f\b\b\r",
      "STEP    88 / 581 (thread    0) f\b\b\r",
      "STEP    89 / 581 (thread    1) f\b\b\r",
      "STEP    90 / 581 (thread    4) f\b\b\r",
      "STEP    91 / 581 (thread    1) f\b\b\r",
      "STEP    92 / 581 (thread    0) f\b\b\r",
      "STEP    93 / 581 (thread    2) f\b\b\r",
      "STEP    94 / 581 (thread    4) f\b\b\r",
      "STEP    95 / 581 (thread    1) f\b\b\r",
      "STEP    96 / 581 (thread    5) f\b\b\r",
      "STEP    97 / 581 (thread    3) f\b\b\r",
      "STEP    98 / 581 (thread    1) f\b\b\r",
      "STEP    99 / 581 (thread    2) f\b\b\r",
      "STEP   100 / 581 (thread    4) f\b\b\r",
      "STEP   101 / 581 (thread    2) f\b\b\r",
      "STEP   102 / 581 (thread    3) f\b\b\r",
      "STEP   104 / 581 (thread    1) f\b\b\r",
      "STEP   103 / 581 (thread    0) f\b\b\r",
      "STEP   105 / 581 (thread    1) f\b\b\r",
      "STEP   106 / 581 (thread    5) f\b\b\r",
      "STEP   107 / 581 (thread    2) f\b\b\r",
      "STEP   109 / 581 (thread    1) f\b\b\r",
      "STEP   108 / 581 (thread    4) f\b\b\r",
      "STEP   110 / 581 (thread    3) f\b\b\r",
      "STEP   111 / 581 (thread    0) f\b\b\r",
      "STEP   112 / 581 (thread    2) f\b\b\r",
      "STEP   113 / 581 (thread    5) f\b\b\r",
      "STEP   114 / 581 (thread    1) f\b\b\r",
      "STEP   115 / 581 (thread    3) f\b\b\r",
      "STEP   116 / 581 (thread    2) f\b\b\r",
      "STEP   117 / 581 (thread    1) f\b\b\r",
      "STEP   118 / 581 (thread    5) f\b\b\r",
      "STEP   119 / 581 (thread    4) f\b\b\r",
      "STEP   120 / 581 (thread    0) f\b\b\r",
      "STEP   121 / 581 (thread    2) f\b\b\r",
      "STEP   122 / 581 (thread    4) f\b\b\r",
      "STEP   123 / 581 (thread    1) f\b\b\r",
      "STEP   124 / 581 (thread    0) f\b\b\r",
      "STEP   125 / 581 (thread    3) f\b\b\r",
      "STEP   126 / 581 (thread    1) f\b\b\r",
      "STEP   127 / 581 (thread    4) f\b\b\r",
      "STEP   129 / 581 (thread    2) f\b\b\r",
      "STEP   130 / 581 (thread    4) f\b\b\r",
      "STEP   131 / 581 (thread    3) f\b\b\r",
      "STEP   132 / 581 (thread    4) f\b\b\r",
      "STEP   133 / 581 (thread    1) f\b\b\r",
      "STEP   134 / 581 (thread    0) f\b\b\r",
      "STEP   128 / 581 (thread    5) f\b\b\r",
      "STEP   135 / 581 (thread    4) f\b\b\r",
      "STEP   136 / 581 (thread    3) f\b\b\r",
      "STEP   137 / 581 (thread    1) f\b\b\r",
      "STEP   138 / 581 (thread    2) f\b\b\r",
      "STEP   139 / 581 (thread    0) f\b\b\r",
      "STEP   140 / 581 (thread    1) f\b\b\r",
      "STEP   141 / 581 (thread    2) f\b\b\r",
      "STEP   143 / 581 (thread    5) f\b\b\r",
      "STEP   144 / 581 (thread    3) f\b\b\r",
      "STEP   145 / 581 (thread    1) f\b\b\r",
      "STEP   146 / 581 (thread    2) f\b\b\r",
      "STEP   147 / 581 (thread    0) f\b\b\r",
      "STEP   142 / 581 (thread    4) f\b\b\r",
      "STEP   150 / 581 (thread    1) f\b\b\r",
      "STEP   151 / 581 (thread    3) f\b\b\r",
      "STEP   149 / 581 (thread    2) f\b\b\r",
      "STEP   152 / 581 (thread    4) f\b\b\r",
      "STEP   148 / 581 (thread    5) f\b\b\r",
      "STEP   153 / 581 (thread    0) f\b\b\r",
      "STEP   154 / 581 (thread    2) f\b\b\r",
      "STEP   155 / 581 (thread    1) f\b\b\r",
      "STEP   156 / 581 (thread    5) f\b\b\r",
      "STEP   157 / 581 (thread    2) f\b\b\r",
      "STEP   158 / 581 (thread    3) f\b\b\r",
      "STEP   159 / 581 (thread    4) f\b\b\r",
      "STEP   160 / 581 (thread    5) f\b\b\r",
      "STEP   161 / 581 (thread    0) f\b\b\r",
      "STEP   162 / 581 (thread    2) f\b\b\r",
      "STEP   163 / 581 (thread    3) f\b\b\r",
      "STEP   164 / 581 (thread    1) f\b\b\r",
      "STEP   165 / 581 (thread    5) f\b\b\r",
      "STEP   166 / 581 (thread    4) f\b\b\r",
      "STEP   167 / 581 (thread    2) f\b\b\r",
      "STEP   169 / 581 (thread    1) f\b\b\r",
      "STEP   170 / 581 (thread    0) f\b\b\r",
      "STEP   171 / 581 (thread    3) f\b\b\r",
      "STEP   168 / 581 (thread    5) f\b\b\r",
      "STEP   172 / 581 (thread    2) f\b\b\r",
      "STEP   173 / 581 (thread    1) f\b\b\r",
      "STEP   174 / 581 (thread    4) f\b\b\r",
      "STEP   175 / 581 (thread    3) f\b\b\r",
      "STEP   176 / 581 (thread    0) f\b\b\r",
      "STEP   177 / 581 (thread    5) f\b\b\r",
      "STEP   178 / 581 (thread    1) f\b\b\r",
      "STEP   179 / 581 (thread    4) f\b\b\r",
      "STEP   180 / 581 (thread    2) f\b\b\r",
      "STEP   181 / 581 (thread    3) f\b\b\r",
      "STEP   182 / 581 (thread    4) f\b\b\r",
      "STEP   184 / 581 (thread    0) f\b\b\r",
      "STEP   185 / 581 (thread    2) f\b\b\r",
      "STEP   186 / 581 (thread    1) f\b\b\r",
      "STEP   183 / 581 (thread    5) f\b\b\r",
      "STEP   187 / 581 (thread    3) f\b\b\r",
      "STEP   188 / 581 (thread    4) f\b\b\r",
      "STEP   189 / 581 (thread    5) f\b\b\r",
      "STEP   190 / 581 (thread    0) f\b\b\r",
      "STEP   191 / 581 (thread    2) f\b\b\r",
      "STEP   192 / 581 (thread    1) f\b\b\r",
      "STEP   193 / 581 (thread    5) f\b\b\r",
      "STEP   194 / 581 (thread    4) f\b\b\r",
      "STEP   195 / 581 (thread    2) f\b\b\r",
      "STEP   197 / 581 (thread    0) f\b\b\r",
      "STEP   198 / 581 (thread    1)\r",
      "STEP   196 / 581 (thread    5) f\b\b f\b\b\r",
      "STEP   199 / 581 (thread    3) f\b\b\r",
      "STEP   200 / 581 (thread    4) f\b\b\r",
      "STEP   201 / 581 (thread    2) f\b\b\r",
      "STEP   202 / 581 (thread    1) f\b\b\r",
      "STEP   203 / 581 (thread    5) f\b\b\r",
      "STEP   204 / 581 (thread    4) f\b\b\r",
      "STEP   205 / 581 (thread    0) f\b\b\r",
      "STEP   206 / 581 (thread    2) f\b\b\r",
      "STEP   207 / 581 (thread    5) f\b\b\r",
      "STEP   208 / 581 (thread    1) f\b\b\r",
      "STEP   209 / 581 (thread    0) f\b\b\r",
      "STEP   210 / 581 (thread    3) f\b\b\r",
      "STEP   211 / 581 (thread    4) f\b\b\r",
      "STEP   212 / 581 (thread    2) f\b\b\r",
      "STEP   213 / 581 (thread    1) f\b\b\r",
      "STEP   214 / 581 (thread    3) f\b\b\r",
      "STEP   215 / 581 (thread    5) f\b\b\r",
      "STEP   216 / 581 (thread    2) f\b\b\r",
      "STEP   217 / 581 (thread    0) f\b\b\r",
      "STEP   218 / 581 (thread    1) f\b\b\r",
      "STEP   219 / 581 (thread    5) f\b\b\r",
      "STEP   220 / 581 (thread    3) f\b\b\r",
      "STEP   221 / 581 (thread    2) f\b\b\r",
      "STEP   222 / 581 (thread    5) f\b\b\r",
      "STEP   223 / 581 (thread    1) f\b\b\r",
      "STEP   224 / 581 (thread    4) f\b\b\r",
      "STEP   225 / 581 (thread    0) f\b\b\r",
      "STEP   226 / 581 (thread    4) f\b\b\r",
      "STEP   227 / 581 (thread    5) f\b\b\r",
      "STEP   228 / 581 (thread    2) f\b\b\r",
      "STEP   229 / 581 (thread    1) f\b\b\r",
      "STEP   230 / 581 (thread    4) f\b\b\r",
      "STEP   231 / 581 (thread    0) f\b\b\r",
      "STEP   232 / 581 (thread    3) f\b\b\r",
      "STEP   233 / 581 (thread    2) f\b\b\r",
      "STEP   234 / 581 (thread    5) f\b\b\r",
      "STEP   235 / 581 (thread    0) f\b\b\r",
      "STEP   236 / 581 (thread    2) f\b\b\r",
      "STEP   237 / 581 (thread    4) f\b\b\r",
      "STEP   238 / 581 (thread    1) f\b\b\r",
      "STEP   239 / 581 (thread    3) f\b\b\r",
      "STEP   240 / 581 (thread    2) f\b\b\r",
      "STEP   241 / 581 (thread    5) f\b\b\r",
      "STEP   242 / 581 (thread    0) f\b\b\r",
      "STEP   243 / 581 (thread    4) f\b\b\r",
      "STEP   244 / 581 (thread    3) f\b\b\r",
      "STEP   245 / 581 (thread    2) f\b\b\r",
      "STEP   246 / 581 (thread    5) f\b\b\r",
      "STEP   247 / 581 (thread    3) f\b\b\r",
      "STEP   248 / 581 (thread    2) f\b\b\r",
      "STEP   250 / 581 (thread    3) f\b\b\r",
      "STEP   251 / 581 (thread    5) f\b\b\r",
      "STEP   252 / 581 (thread    4) f\b\b\r",
      "STEP   253 / 581 (thread    1) f\b\b\r",
      "STEP   249 / 581 (thread    0) f\b\b\r",
      "STEP   254 / 581 (thread    2) f\b\b\r",
      "STEP   255 / 581 (thread    3) f\b\b\r",
      "STEP   256 / 581 (thread    5) f\b\b\r",
      "STEP   257 / 581 (thread    2) f\b\b\r",
      "STEP   258 / 581 (thread    4) f\b\b\r",
      "STEP   259 / 581 (thread    1) f\b\b\r",
      "STEP   260 / 581 (thread    5) f\b\b\r",
      "STEP   261 / 581 (thread    2) f\b\b\r",
      "STEP   262 / 581 (thread    2) f\b\b\r",
      "STEP   263 / 581 (thread    3) f\b\b\r",
      "STEP   264 / 581 (thread    1) f\b\b\r",
      "STEP   265 / 581 (thread    5) f\b\b\r",
      "STEP   266 / 581 (thread    4) f\b\b\r",
      "STEP   267 / 581 (thread    5) f\b\b\r",
      "STEP   268 / 581 (thread    2) f\b\b\r",
      "STEP   269 / 581 (thread    0) f\b\b\r",
      "STEP   270 / 581 (thread    5) f\b\b\r",
      "STEP   271 / 581 (thread    4) f\b\b\r",
      "STEP   272 / 581 (thread    1) f\b\b\r",
      "STEP   273 / 581 (thread    2) f\b\b\r",
      "STEP   274 / 581 (thread    3) f\b\b\r",
      "STEP   275 / 581 (thread    0) f\b\b\r",
      "STEP   276 / 581 (thread    1) f\b\b\r",
      "STEP   277 / 581 (thread    4) f\b\b\r",
      "STEP   278 / 581 (thread    5) f\b\b\r",
      "STEP   279 / 581 (thread    2) f\b\b\r",
      "STEP   280 / 581 (thread    3) f\b\b\r",
      "STEP   281 / 581 (thread    5) f\b\b\r",
      "STEP   282 / 581 (thread    0) f\b\b\r",
      "STEP   283 / 581 (thread    1) f\b\b\r",
      "STEP   285 / 581 (thread    2) f\b\b\r",
      "STEP   286 / 581 (thread    3) f\b\b\r",
      "STEP   287 / 581 (thread    5) f\b\b\r",
      "STEP   284 / 581 (thread    4) f\b\b\r",
      "STEP   288 / 581 (thread    1) f\b\b\r",
      "STEP   289 / 581 (thread    2) f\b\b\r",
      "STEP   290 / 581 (thread    0) f\b\b\r",
      "STEP   291 / 581 (thread    5) f\b\b\r",
      "STEP   292 / 581 (thread    4) f\b\b\r",
      "STEP   293 / 581 (thread    3) f\b\b\r",
      "STEP   294 / 581 (thread    5) f\b\b\r",
      "STEP   295 / 581 (thread    0) f\b\b\r",
      "STEP   296 / 581 (thread    1) f\b\b\r",
      "STEP   297 / 581 (thread    2) f\b\b\r",
      "STEP   298 / 581 (thread    5) f\b\b\r",
      "STEP   299 / 581 (thread    4) f\b\b\r",
      "STEP   300 / 581 (thread    2) f\b\b\r",
      "STEP   301 / 581 (thread    3) f\b\b\r",
      "STEP   302 / 581 (thread    5) f\b\b\r",
      "STEP   303 / 581 (thread    5) f\b\b\r",
      "STEP   304 / 581 (thread    1) f\b\b\r",
      "STEP   305 / 581 (thread    2) f\b\b\r",
      "STEP   306 / 581 (thread    4) f\b\b\r",
      "STEP   308 / 581 (thread    3) f\b\b\r",
      "STEP   309 / 581 (thread    0) f\b\b\r",
      "STEP   307 / 581 (thread    5) f\b\b\r",
      "STEP   310 / 581 (thread    1) f\b\b\r",
      "STEP   312 / 581 (thread    0) f\b\b\r",
      "STEP   311 / 581 (thread    2) f\b\b\r",
      "STEP   313 / 581 (thread    4) f\b\b\r",
      "STEP   315 / 581 (thread    2) f\b\b\r",
      "STEP   316 / 581 (thread    5) f\b\b\r",
      "STEP   314 / 581 (thread    1) f\b\b\r",
      "STEP   317 / 581 (thread    2) f\b\b\r",
      "STEP   318 / 581 (thread    5) f\b\b\r",
      "STEP   319 / 581 (thread    0) f\b\b\r",
      "STEP   320 / 581 (thread    5) f\b\b\r",
      "STEP   321 / 581 (thread    4) f\b\b\r",
      "STEP   322 / 581 (thread    3) f\b\b\r",
      "STEP   323 / 581 (thread    2) f\b\b\r",
      "STEP   324 / 581 (thread    5) f\b\b\r",
      "STEP   325 / 581 (thread    5) f\b\b\r",
      "STEP   326 / 581 (thread    0) f\b\b\r",
      "STEP   327 / 581 (thread    3) f\b\b\r",
      "STEP   328 / 581 (thread    1) f\b\b\r",
      "STEP   329 / 581 (thread    5) f\b\b\r",
      "STEP   330 / 581 (thread    2) f\b\b\r",
      "STEP   332 / 581 (thread    4) f\b\b\r",
      "STEP   331 / 581 (thread    2) f\b\b\r",
      "STEP   333 / 581 (thread    0) f\b\b\r",
      "STEP   334 / 581 (thread    5) f\b\b\r",
      "STEP   335 / 581 (thread    3) f\b\b\r",
      "STEP   336 / 581 (thread    1) f\b\b\r",
      "STEP   337 / 581 (thread    5) f\b\b\r",
      "STEP   338 / 581 (thread    1) f\b\b\r",
      "STEP   340 / 581 (thread    0) f\b\b\r",
      "STEP   339 / 581 (thread    4) f\b\b\r",
      "STEP   341 / 581 (thread    2) f\b\b\r",
      "STEP   342 / 581 (thread    5) f\b\b\r",
      "STEP   343 / 581 (thread    3) f\b\b\r",
      "STEP   344 / 581 (thread    1) f\b\b\r",
      "STEP   345 / 581 (thread    2) f\b\b\r",
      "STEP   346 / 581 (thread    5) f\b\b\r",
      "STEP   347 / 581 (thread    3) f\b\b\r",
      "STEP   348 / 581 (thread    4) f\b\b\r",
      "STEP   349 / 581 (thread    1) f\b\b\r",
      "STEP   350 / 581 (thread    2) f\b\b\r",
      "STEP   351 / 581 (thread    5) f\b\b\r",
      "STEP   352 / 581 (thread    0) f\b\b\r",
      "STEP   353 / 581 (thread    2) f\b\b\r",
      "STEP   354 / 581 (thread    4) f\b\b\r",
      "STEP   355 / 581 (thread    5) f\b\b\r",
      "STEP   356 / 581 (thread    5) f\b\b\r",
      "STEP   357 / 581 (thread    2) f\b\b\r",
      "STEP   358 / 581 (thread    3) f\b\b\r",
      "STEP   359 / 581 (thread    5) f\b\b\r",
      "STEP   361 / 581 (thread    1) f\b\b\r",
      "STEP   360 / 581 (thread    4) f\b\b"
     ]
    },
    {
     "name": "stderr",
     "output_type": "stream",
     "text": [
      "\r",
      "STEP   362 / 581 (thread    2) f\b\b\r",
      "STEP   363 / 581 (thread    0) f\b\b\r",
      "STEP   364 / 581 (thread    2) f\b\b\r",
      "STEP   365 / 581 (thread    5) f\b\b\r",
      "STEP   366 / 581 (thread    3) f\b\b\r",
      "STEP   367 / 581 (thread    0) f\b\b\r",
      "STEP   368 / 581 (thread    2) f\b\b\r",
      "STEP   369 / 581 (thread    1) f\b\b\r",
      "STEP   370 / 581 (thread    5) f\b\b\r",
      "STEP   371 / 581 (thread    4) f\b\b\r",
      "STEP   373 / 581 (thread    3) f\b\b\r",
      "STEP   372 / 581 (thread    0) f\b\b\r",
      "STEP   374 / 581 (thread    5) f\b\b\r",
      "STEP   375 / 581 (thread    2) f\b\b\r",
      "STEP   376 / 581 (thread    1) f\b\b\r",
      "STEP   377 / 581 (thread    4) f\b\b\r",
      "STEP   378 / 581 (thread    5) f\b\b\r",
      "STEP   379 / 581 (thread    3) f\b\b\r",
      "STEP   380 / 581 (thread    1) f\b\b\r",
      "STEP   381 / 581 (thread    4) f\b\b\r",
      "STEP   382 / 581 (thread    2) f\b\b\r",
      "STEP   383 / 581 (thread    0) f\b\b\r",
      "STEP   384 / 581 (thread    1) f\b\b\r",
      "STEP   385 / 581 (thread    3) f\b\b\r",
      "STEP   386 / 581 (thread    5) f\b\b\r",
      "STEP   387 / 581 (thread    2) f\b\b\r",
      "STEP   388 / 581 (thread    0) f\b\b\r",
      "STEP   389 / 581 (thread    3) f\b\b\r",
      "STEP   390 / 581 (thread    1) f\b\b\r",
      "STEP   391 / 581 (thread    4) f\b\b\r",
      "STEP   392 / 581 (thread    5) f\b\b\r",
      "STEP   393 / 581 (thread    1) f\b\b\r",
      "STEP   394 / 581 (thread    3) f\b\b\r",
      "STEP   395 / 581 (thread    0) f\b\b\r",
      "STEP   396 / 581 (thread    2) f\b\b\r",
      "STEP   397 / 581 (thread    5) f\b\b\r",
      "STEP   398 / 581 (thread    4) f\b\b\r",
      "STEP   399 / 581 (thread    3) f\b\b\r",
      "STEP   400 / 581 (thread    3) f\b\b\r",
      "STEP   401 / 581 (thread    1) f\b\b\r",
      "STEP   402 / 581 (thread    0) f\b\b\r",
      "STEP   403 / 581 (thread    2) f\b\b\r",
      "STEP   404 / 581 (thread    5) f\b\b\r",
      "STEP   405 / 581 (thread    4) f\b\b\r",
      "STEP   406 / 581 (thread    5) f\b\b\r",
      "STEP   407 / 581 (thread    3) f\b\b\r",
      "STEP   408 / 581 (thread    1) f\b\b\r",
      "STEP   409 / 581 (thread    2) f\b\b\r",
      "STEP   410 / 581 (thread    4) f\b\b\r",
      "STEP   411 / 581 (thread    0) f\b\b\r",
      "STEP   412 / 581 (thread    5) f\b\b\r",
      "STEP   413 / 581 (thread    2) f\b\b\r",
      "STEP   414 / 581 (thread    3) f\b\b\r",
      "STEP   416 / 581 (thread    5) f\b\b\r",
      "STEP   417 / 581 (thread    5) f\b\b\r",
      "STEP   418 / 581 (thread    1) f\b\b\r",
      "STEP   415 / 581 (thread    0) f\b\b\r",
      "STEP   419 / 581 (thread    4) f\b\b\r",
      "STEP   420 / 581 (thread    3) f\b\b\r",
      "STEP   421 / 581 (thread    5) f\b\b\r",
      "STEP   422 / 581 (thread    2) f\b\b\r",
      "STEP   423 / 581 (thread    4) f\b\b\r",
      "STEP   424 / 581 (thread    1) f\b\b\r",
      "STEP   425 / 581 (thread    0) f\b\b\r",
      "STEP   426 / 581 (thread    1) f\b\b\r",
      "STEP   427 / 581 (thread    5) f\b\b\r",
      "STEP   428 / 581 (thread    3) f\b\b\r",
      "STEP   429 / 581 (thread    4) f\b\b\r",
      "STEP   430 / 581 (thread    2) f\b\b\r",
      "STEP   431 / 581 (thread    5) f\b\b\r",
      "STEP   432 / 581 (thread    1) f\b\b\r",
      "STEP   434 / 581 (thread    2) f\b\b\r",
      "STEP   435 / 581 (thread    3) f\b\b\r",
      "STEP   433 / 581 (thread    0) f\b\b\r",
      "STEP   436 / 581 (thread    4) f\b\b\r",
      "STEP   437 / 581 (thread    5) f\b\b\r",
      "STEP   438 / 581 (thread    1) f\b\b\r",
      "STEP   439 / 581 (thread    2) f\b\b\r",
      "STEP   440 / 581 (thread    4) f\b\b\r",
      "STEP   441 / 581 (thread    3) f\b\b\r",
      "STEP   442 / 581 (thread    0) f\b\b\r",
      "STEP   444 / 581 (thread    5) f\b\b\r",
      "STEP   443 / 581 (thread    2) f\b\b\r",
      "STEP   445 / 581 (thread    3) f\b\b\r",
      "STEP   446 / 581 (thread    5) f\b\b\r",
      "STEP   447 / 581 (thread    1) f\b\b\r",
      "STEP   448 / 581 (thread    4) f\b\b\r",
      "STEP   449 / 581 (thread    0) f\b\b\r",
      "STEP   450 / 581 (thread    5) f\b\b\r",
      "STEP   451 / 581 (thread    5) f\b\b\r",
      "STEP   452 / 581 (thread    0) f\b\b\r",
      "STEP   453 / 581 (thread    2) f\b\b\r",
      "STEP   455 / 581 (thread    1) f\b\b\r",
      "STEP   456 / 581 (thread    4) f\b\b\r",
      "STEP   454 / 581 (thread    3) f\b\b\r",
      "STEP   457 / 581 (thread    5) f\b\b\r",
      "STEP   459 / 581 (thread    0) f\b\b\r",
      "STEP   460 / 581 (thread    4) f\b\b\r",
      "STEP   461 / 581 (thread    2) f\b\b\r",
      "STEP   462 / 581 (thread    5) f\b\b\r",
      "STEP   463 / 581 (thread    4) f\b\b\r",
      "STEP   458 / 581 (thread    1) f\b\b\r",
      "STEP   465 / 581 (thread    0) f\b\b\r",
      "STEP   466 / 581 (thread    2) f\b\b\r",
      "STEP   467 / 581 (thread    4) f\b\b\r",
      "STEP   469 / 581 (thread    0) f\b\b\r",
      "STEP   470 / 581 (thread    0) f\b\b\r",
      "STEP   471 / 581 (thread    4) f\b\b\r",
      "STEP   472 / 581 (thread    1) f\b\b\r",
      "STEP   464 / 581 (thread    3) f\b\b\r",
      "STEP   474 / 581 (thread    4) f\b\b\r",
      "STEP   475 / 581 (thread    1) f\b\b\r",
      "STEP   477 / 581 (thread    0) f\b\b\n",
      "Reallocating..done. *alloclen = 1864\n",
      "\r",
      "STEP   478 / 581 (thread    3) f\b\b\r",
      "STEP   468 / 581 (thread    5) f\b\b\r",
      "STEP   479 / 581 (thread    1) f\b\b\r",
      "STEP   480 / 581 (thread    0) f\b\b\r",
      "STEP   482 / 581 (thread    1) f\b\b\r",
      "STEP   483 / 581 (thread    0) f\b\b\r",
      "STEP   473 / 581 (thread    2) f\b\b\r",
      "STEP   485 / 581 (thread    0) f\b\b\r",
      "STEP   486 / 581 (thread    1) f\b\b\r",
      "STEP   487 / 581 (thread    0) f\b\b\r",
      "STEP   476 / 581 (thread    4) f\b\b\r",
      "STEP   489 / 581 (thread    1) f\b\b\r",
      "STEP   490 / 581 (thread    1) f\b\b\r",
      "STEP   491 / 581 (thread    0) f\b\b\r",
      "STEP   492 / 581 (thread    1) f\b\b\r",
      "STEP   494 / 581 (thread    4) f\b\b\r",
      "STEP   481 / 581 (thread    3) f\b\b\r",
      "STEP   495 / 581 (thread    1) f\b\b\r",
      "STEP   496 / 581 (thread    4) f\b\b\r",
      "STEP   497 / 581 (thread    1) f\b\b\r",
      "STEP   498 / 581 (thread    4) f\b\b\r",
      "STEP   499 / 581 (thread    1) f\b\b\r",
      "STEP   500 / 581 (thread    4) f\b\b\r",
      "STEP   484 / 581 (thread    5) f\b\b\r",
      "STEP   488 / 581 (thread    2) f\b\b\r",
      "STEP   493 / 581 (thread    0) f\b\b\r",
      "STEP   501 / 581 (thread    3) f\b\b"
     ]
    },
    {
     "name": "stderr",
     "output_type": "stream",
     "text": [
      "\n",
      "done.\n",
      "\n",
      "disttbfast (nuc) Version 7.490\n",
      "alg=A, model=DNA200 (2), 1.53 (4.59), -0.00 (-0.00), noshift, amax=0.0\n",
      "6 thread(s)\n",
      "\n",
      "\n",
      "Strategy:\n",
      " FFT-NS-2 (Fast but rough)\n",
      " Progressive method (guide trees were built 2 times.)\n",
      "\n",
      "If unsure which option to use, try 'mafft --auto input > output'.\n",
      "For more information, see 'mafft --help', 'mafft --man' and the mafft page.\n",
      "\n",
      "The default gap scoring scheme has been changed in version 7.110 (2013 Oct).\n",
      "It tends to insert more gaps into gap-rich regions than previous versions.\n",
      "To disable this change, add the --leavegappyregion option.\n",
      "\n"
     ]
    },
    {
     "name": "stdout",
     "output_type": "stream",
     "text": [
      "Running external command line application. This may print messages to stdout and/or stderr.\n",
      "The command being run is below. This command cannot be manually re-run as it will depend on temporary files that no longer exist.\n",
      "\n",
      "Command: FastTreeMP -quote -nt /tmp/qiime2-archive-3qm01js1/0cc3d9f9-349e-40d4-96ba-cc2189f39e12/data/aligned-dna-sequences.fasta\n",
      "\n"
     ]
    },
    {
     "name": "stderr",
     "output_type": "stream",
     "text": [
      "FastTree Version 2.1.10 Double precision (No SSE3), OpenMP (6 threads)\n",
      "Alignment: /tmp/qiime2-archive-3qm01js1/0cc3d9f9-349e-40d4-96ba-cc2189f39e12/data/aligned-dna-sequences.fasta\n",
      "Nucleotide distances: Jukes-Cantor Joins: balanced Support: SH-like 1000\n",
      "Search: Normal +NNI +SPR (2 rounds range 10) +ML-NNI opt-each=1\n",
      "TopHits: 1.00*sqrtN close=default refresh=0.80\n",
      "ML Model: Jukes-Cantor, CAT approximation with 20 rate categories\n",
      "      0.15 seconds: Joined    200 of    569\n"
     ]
    },
    {
     "name": "stderr",
     "output_type": "stream",
     "text": [
      "      0.28 seconds: Joined    400 of    569\n",
      "Initial topology in 0.40 seconds\n",
      "Refining topology: 37 rounds ME-NNIs, 2 rounds ME-SPRs, 18 rounds ML-NNIs\n",
      "      0.39 seconds: ME NNI round 1 of 37, 1 of 570 splits\n"
     ]
    },
    {
     "name": "stderr",
     "output_type": "stream",
     "text": [
      "      0.51 seconds: SPR round   1 of   2, 101 of 1142 nodes\n",
      "      0.62 seconds: SPR round   1 of   2, 301 of 1142 nodes\n"
     ]
    },
    {
     "name": "stderr",
     "output_type": "stream",
     "text": [
      "      0.76 seconds: SPR round   1 of   2, 501 of 1142 nodes\n",
      "      0.91 seconds: SPR round   1 of   2, 701 of 1142 nodes\n"
     ]
    },
    {
     "name": "stderr",
     "output_type": "stream",
     "text": [
      "      1.05 seconds: SPR round   1 of   2, 901 of 1142 nodes\n",
      "      1.18 seconds: SPR round   1 of   2, 1101 of 1142 nodes\n"
     ]
    },
    {
     "name": "stderr",
     "output_type": "stream",
     "text": [
      "      1.30 seconds: SPR round   2 of   2, 101 of 1142 nodes\n",
      "      1.40 seconds: SPR round   2 of   2, 301 of 1142 nodes\n"
     ]
    },
    {
     "name": "stderr",
     "output_type": "stream",
     "text": [
      "      1.52 seconds: SPR round   2 of   2, 501 of 1142 nodes\n",
      "      1.65 seconds: SPR round   2 of   2, 701 of 1142 nodes\n"
     ]
    },
    {
     "name": "stderr",
     "output_type": "stream",
     "text": [
      "      1.78 seconds: SPR round   2 of   2, 901 of 1142 nodes\n",
      "      1.90 seconds: SPR round   2 of   2, 1101 of 1142 nodes\n",
      "Total branch-length 25.011 after 1.98 sec\n"
     ]
    },
    {
     "name": "stderr",
     "output_type": "stream",
     "text": [
      "      2.03 seconds: ML Lengths 201 of 570 splits\n",
      "      2.13 seconds: ML NNI round 1 of 18, 1 of 570 splits\n"
     ]
    },
    {
     "name": "stderr",
     "output_type": "stream",
     "text": [
      "      2.31 seconds: ML NNI round 1 of 18, 201 of 570 splits, 33 changes (max delta 8.466)\n",
      "      2.47 seconds: ML NNI round 1 of 18, 401 of 570 splits, 65 changes (max delta 9.043)\n"
     ]
    },
    {
     "name": "stderr",
     "output_type": "stream",
     "text": [
      "ML-NNI round 1: LogLk = -58717.175 NNIs 95 max delta 21.16 Time 2.61\n",
      "      2.61 seconds: Site likelihoods with rate category 1 of 20\n",
      "      2.71 seconds: Site likelihoods with rate category 17 of 20\n",
      "Switched to using 20 rate categories (CAT approximation)\n",
      "Rate categories were divided by 1.034 so that average rate = 1.0\n",
      "CAT-based log-likelihoods may not be comparable across runs\n",
      "Use -gamma for approximate but comparable Gamma(20) log-likelihoods\n"
     ]
    },
    {
     "name": "stderr",
     "output_type": "stream",
     "text": [
      "      2.83 seconds: ML NNI round 2 of 18, 101 of 570 splits, 4 changes (max delta 3.758)\n",
      "      3.00 seconds: ML NNI round 2 of 18, 301 of 570 splits, 19 changes (max delta 6.087)\n"
     ]
    },
    {
     "name": "stderr",
     "output_type": "stream",
     "text": [
      "      3.18 seconds: ML NNI round 2 of 18, 501 of 570 splits, 39 changes (max delta 7.733)\n",
      "ML-NNI round 2: LogLk = -49781.272 NNIs 48 max delta 7.73 Time 3.26\n",
      "      3.35 seconds: ML NNI round 3 of 18, 101 of 570 splits, 3 changes (max delta 0.861)\n"
     ]
    },
    {
     "name": "stderr",
     "output_type": "stream",
     "text": [
      "      3.55 seconds: ML NNI round 3 of 18, 301 of 570 splits, 11 changes (max delta 9.042)\n",
      "ML-NNI round 3: LogLk = -49743.242 NNIs 14 max delta 10.54 Time 3.63\n",
      "      3.72 seconds: ML NNI round 4 of 18, 101 of 570 splits, 5 changes (max delta 3.151)\n"
     ]
    },
    {
     "name": "stderr",
     "output_type": "stream",
     "text": [
      "ML-NNI round 4: LogLk = -49733.850 NNIs 7 max delta 3.15 Time 3.82\n",
      "ML-NNI round 5: LogLk = -49725.212 NNIs 6 max delta 4.21 Time 3.91\n",
      "      3.91 seconds: ML NNI round 6 of 18, 1 of 570 splits\n",
      "ML-NNI round 6: LogLk = -49722.679 NNIs 1 max delta 0.71 Time 3.98\n",
      "ML-NNI round 7: LogLk = -49718.730 NNIs 2 max delta 3.31 Time 4.02\n",
      "      4.01 seconds: ML NNI round 8 of 18, 1 of 570 splits\n"
     ]
    },
    {
     "name": "stderr",
     "output_type": "stream",
     "text": [
      "ML-NNI round 8: LogLk = -49718.695 NNIs 0 max delta 0.00 Time 4.04\n",
      "Turning off heuristics for final round of ML NNIs (converged)\n",
      "      4.12 seconds: ML NNI round 9 of 18, 101 of 570 splits, 0 changes\n"
     ]
    },
    {
     "name": "stderr",
     "output_type": "stream",
     "text": [
      "      4.29 seconds: ML NNI round 9 of 18, 301 of 570 splits, 1 changes (max delta 0.304)\n",
      "      4.46 seconds: ML NNI round 9 of 18, 501 of 570 splits, 2 changes (max delta 0.304)\n"
     ]
    },
    {
     "name": "stderr",
     "output_type": "stream",
     "text": [
      "ML-NNI round 9: LogLk = -49716.216 NNIs 2 max delta 0.30 Time 4.53 (final)\n",
      "      4.57 seconds: ML Lengths 201 of 570 splits\n",
      "Optimize all lengths: LogLk = -49716.125 Time 4.67\n"
     ]
    },
    {
     "name": "stderr",
     "output_type": "stream",
     "text": [
      "      4.81 seconds: ML split tests for    100 of    569 internal splits\n",
      "      4.96 seconds: ML split tests for    200 of    569 internal splits\n"
     ]
    },
    {
     "name": "stderr",
     "output_type": "stream",
     "text": [
      "      5.10 seconds: ML split tests for    300 of    569 internal splits\n",
      "      5.24 seconds: ML split tests for    400 of    569 internal splits\n"
     ]
    },
    {
     "name": "stderr",
     "output_type": "stream",
     "text": [
      "      5.39 seconds: ML split tests for    500 of    569 internal splits\n",
      "Total time: 5.50 seconds Unique: 572/582 Bad splits: 0/569\n"
     ]
    }
   ],
   "source": [
    "mafft_alignment, mafft_masked_alignment, mafft_tree, mafft_rooted_tree = align_to_tree_mafft_fasttree(\n",
    "    sequences=reps, n_threads=6, )"
   ]
  },
  {
   "cell_type": "markdown",
   "id": "0768d598",
   "metadata": {
    "papermill": {
     "duration": 0.026224,
     "end_time": "2023-06-07T16:42:26.608436",
     "exception": false,
     "start_time": "2023-06-07T16:42:26.582212",
     "status": "completed"
    },
    "tags": []
   },
   "source": [
    "### Compute Alpha Diversity (Phylogeny)\n",
    "- [diversity alpha_phylogenetic](https://docs.qiime2.org/2022.8/plugins/available/diversity/alpha-phylogenetic/): Computes a user-specified phylogenetic alpha diversity metric for all samples in a feature table.\n",
    "- Metrics: Choices ('faith_pd')"
   ]
  },
  {
   "cell_type": "code",
   "execution_count": 11,
   "id": "0383aa19",
   "metadata": {
    "ExecuteTime": {
     "end_time": "2022-09-29T20:54:35.310009Z",
     "start_time": "2022-09-29T20:54:35.141333Z"
    },
    "execution": {
     "iopub.execute_input": "2023-06-07T16:42:26.663972Z",
     "iopub.status.busy": "2023-06-07T16:42:26.663686Z",
     "iopub.status.idle": "2023-06-07T16:42:26.774634Z",
     "shell.execute_reply": "2023-06-07T16:42:26.774026Z"
    },
    "papermill": {
     "duration": 0.141829,
     "end_time": "2023-06-07T16:42:26.777076",
     "exception": false,
     "start_time": "2023-06-07T16:42:26.635247",
     "status": "completed"
    },
    "tags": []
   },
   "outputs": [
    {
     "name": "stdout",
     "output_type": "stream",
     "text": [
      "Calculating alpha diversity: faith_pd\n",
      "DONE: Calculating alpha phylogeny: faith_pd\n"
     ]
    }
   ],
   "source": [
    "metrics = ('faith_pd', )\n",
    "alpha_diversities_phylogenetic = dict()\n",
    "for metric in metrics:\n",
    "    print(f\"Calculating alpha diversity: {metric}\")\n",
    "    try:\n",
    "        alpha_diversity = alpha_phylogenetic(table=tabs, phylogeny=mafft_rooted_tree, metric=metric).alpha_diversity\n",
    "        alpha_diversities_phylogenetic[metric] = alpha_diversity\n",
    "        # Save Artifact\n",
    "        file_path = os.path.join(alpha_path, f'alpha-phylogeny-{metric}.qza')\n",
    "        alpha_diversity.save(file_path)\n",
    "        print(f\"DONE: Calculating alpha phylogeny: {metric}\")\n",
    "    except Exception as e:\n",
    "        print(f\"ERROR: Calculating alpha phylogeny: {metric}\")"
   ]
  },
  {
   "cell_type": "markdown",
   "id": "c7752cfd",
   "metadata": {
    "papermill": {
     "duration": 0.026336,
     "end_time": "2023-06-07T16:42:26.835930",
     "exception": false,
     "start_time": "2023-06-07T16:42:26.809594",
     "status": "completed"
    },
    "tags": []
   },
   "source": [
    "### Alpha diversity correlation\n",
    "\n",
    "This method only process `numeric` columns.\n"
   ]
  },
  {
   "cell_type": "code",
   "execution_count": 12,
   "id": "2814f613",
   "metadata": {
    "ExecuteTime": {
     "end_time": "2022-09-29T20:54:35.317618Z",
     "start_time": "2022-09-29T20:54:35.312094Z"
    },
    "execution": {
     "iopub.execute_input": "2023-06-07T16:42:26.891754Z",
     "iopub.status.busy": "2023-06-07T16:42:26.891529Z",
     "iopub.status.idle": "2023-06-07T16:42:32.224018Z",
     "shell.execute_reply": "2023-06-07T16:42:32.223333Z"
    },
    "papermill": {
     "duration": 5.364097,
     "end_time": "2023-06-07T16:42:32.227741",
     "exception": false,
     "start_time": "2023-06-07T16:42:26.863644",
     "status": "completed"
    },
    "tags": []
   },
   "outputs": [
    {
     "name": "stdout",
     "output_type": "stream",
     "text": [
      "DONE: Calculating alpha correlation: ace spearman\n",
      "DONE: Calculating alpha correlation: ace pearson\n",
      "DONE: Calculating alpha correlation: berger_parker_d spearman\n"
     ]
    },
    {
     "name": "stdout",
     "output_type": "stream",
     "text": [
      "DONE: Calculating alpha correlation: berger_parker_d pearson\n",
      "DONE: Calculating alpha correlation: brillouin_d spearman\n"
     ]
    },
    {
     "name": "stdout",
     "output_type": "stream",
     "text": [
      "DONE: Calculating alpha correlation: brillouin_d pearson\n",
      "DONE: Calculating alpha correlation: chao1 spearman\n"
     ]
    },
    {
     "name": "stdout",
     "output_type": "stream",
     "text": [
      "DONE: Calculating alpha correlation: chao1 pearson\n",
      "ERROR: Calculating alpha correlation: chao1_ci spearman\n",
      "ERROR: Calculating alpha correlation: chao1_ci pearson\n",
      "DONE: Calculating alpha correlation: dominance spearman\n",
      "DONE: Calculating alpha correlation: dominance pearson\n"
     ]
    },
    {
     "name": "stdout",
     "output_type": "stream",
     "text": [
      "DONE: Calculating alpha correlation: doubles spearman\n",
      "DONE: Calculating alpha correlation: doubles pearson\n",
      "DONE: Calculating alpha correlation: enspie spearman\n"
     ]
    },
    {
     "name": "stdout",
     "output_type": "stream",
     "text": [
      "DONE: Calculating alpha correlation: enspie pearson\n",
      "ERROR: Calculating alpha correlation: esty_ci spearman\n",
      "ERROR: Calculating alpha correlation: esty_ci pearson\n",
      "DONE: Calculating alpha correlation: fisher_alpha spearman\n",
      "DONE: Calculating alpha correlation: fisher_alpha pearson\n"
     ]
    },
    {
     "name": "stdout",
     "output_type": "stream",
     "text": [
      "DONE: Calculating alpha correlation: gini_index spearman\n",
      "DONE: Calculating alpha correlation: gini_index pearson\n",
      "DONE: Calculating alpha correlation: goods_coverage spearman\n"
     ]
    },
    {
     "name": "stdout",
     "output_type": "stream",
     "text": [
      "DONE: Calculating alpha correlation: goods_coverage pearson\n",
      "DONE: Calculating alpha correlation: heip_e spearman\n",
      "DONE: Calculating alpha correlation: heip_e pearson\n"
     ]
    },
    {
     "name": "stdout",
     "output_type": "stream",
     "text": [
      "DONE: Calculating alpha correlation: kempton_taylor_q spearman\n",
      "ERROR: Calculating alpha correlation: kempton_taylor_q pearson\n",
      "DONE: Calculating alpha correlation: lladser_pe spearman\n"
     ]
    },
    {
     "name": "stdout",
     "output_type": "stream",
     "text": [
      "DONE: Calculating alpha correlation: lladser_pe pearson\n",
      "DONE: Calculating alpha correlation: margalef spearman\n",
      "DONE: Calculating alpha correlation: margalef pearson\n"
     ]
    },
    {
     "name": "stdout",
     "output_type": "stream",
     "text": [
      "DONE: Calculating alpha correlation: mcintosh_d spearman\n",
      "DONE: Calculating alpha correlation: mcintosh_d pearson\n",
      "DONE: Calculating alpha correlation: mcintosh_e spearman\n"
     ]
    },
    {
     "name": "stdout",
     "output_type": "stream",
     "text": [
      "DONE: Calculating alpha correlation: mcintosh_e pearson\n",
      "DONE: Calculating alpha correlation: menhinick spearman\n",
      "DONE: Calculating alpha correlation: menhinick pearson\n"
     ]
    },
    {
     "name": "stdout",
     "output_type": "stream",
     "text": [
      "DONE: Calculating alpha correlation: michaelis_menten_fit spearman\n",
      "DONE: Calculating alpha correlation: michaelis_menten_fit pearson\n",
      "DONE: Calculating alpha correlation: observed_features spearman\n"
     ]
    },
    {
     "name": "stdout",
     "output_type": "stream",
     "text": [
      "DONE: Calculating alpha correlation: observed_features pearson\n",
      "ERROR: Calculating alpha correlation: osd spearman\n",
      "ERROR: Calculating alpha correlation: osd pearson\n",
      "DONE: Calculating alpha correlation: pielou_e spearman\n",
      "DONE: Calculating alpha correlation: pielou_e pearson\n"
     ]
    },
    {
     "name": "stdout",
     "output_type": "stream",
     "text": [
      "DONE: Calculating alpha correlation: robbins spearman\n",
      "DONE: Calculating alpha correlation: robbins pearson\n",
      "DONE: Calculating alpha correlation: shannon spearman\n"
     ]
    },
    {
     "name": "stdout",
     "output_type": "stream",
     "text": [
      "DONE: Calculating alpha correlation: shannon pearson\n",
      "DONE: Calculating alpha correlation: simpson spearman\n",
      "DONE: Calculating alpha correlation: simpson pearson\n"
     ]
    },
    {
     "name": "stdout",
     "output_type": "stream",
     "text": [
      "DONE: Calculating alpha correlation: simpson_e spearman\n",
      "DONE: Calculating alpha correlation: simpson_e pearson\n",
      "DONE: Calculating alpha correlation: singles spearman\n"
     ]
    },
    {
     "name": "stdout",
     "output_type": "stream",
     "text": [
      "DONE: Calculating alpha correlation: singles pearson\n",
      "DONE: Calculating alpha correlation: strong spearman\n",
      "DONE: Calculating alpha correlation: strong pearson\n"
     ]
    }
   ],
   "source": [
    "methods = ('spearman', 'pearson')\n",
    "numerics_cols = metadata_qa.filter_columns(column_type='numeric')\n",
    "if numerics_cols.column_count > 0:\n",
    "    for metric, alpha_values in alpha_diversities.items():\n",
    "        for method in methods:\n",
    "            try:\n",
    "                corr_view = alpha_correlation(alpha_diversity=alpha_values, metadata=numerics_cols, \n",
    "                                          method=method, intersect_ids=True).visualization\n",
    "                view_path = os.path.join(alpha_path, f'alpha-correlation-{metric}-{method}.qzv')\n",
    "                corr_view.save(view_path)\n",
    "                corr_view\n",
    "                print(f\"DONE: Calculating alpha correlation: {metric} {method}\")\n",
    "            except Exception as e:\n",
    "                print(f\"ERROR: Calculating alpha correlation: {metric} {method}\")"
   ]
  },
  {
   "cell_type": "markdown",
   "id": "8ea83c8a",
   "metadata": {
    "papermill": {
     "duration": 0.031322,
     "end_time": "2023-06-07T16:42:32.295062",
     "exception": false,
     "start_time": "2023-06-07T16:42:32.263740",
     "status": "completed"
    },
    "tags": []
   },
   "source": [
    "## Alpha diversity comparisons\n",
    "\n",
    "Visually and statistically compare groups of alpha diversity values.\n",
    "\n",
    "[diversity alpha_group_significance](https://docs.qiime2.org/2022.8/plugins/available/diversity/alpha-group-significance/)"
   ]
  },
  {
   "cell_type": "code",
   "execution_count": 13,
   "id": "276d1c18",
   "metadata": {
    "ExecuteTime": {
     "end_time": "2022-09-29T20:54:36.089290Z",
     "start_time": "2022-09-29T20:54:35.318963Z"
    },
    "execution": {
     "iopub.execute_input": "2023-06-07T16:42:32.360362Z",
     "iopub.status.busy": "2023-06-07T16:42:32.360180Z",
     "iopub.status.idle": "2023-06-07T16:42:36.450123Z",
     "shell.execute_reply": "2023-06-07T16:42:36.449593Z"
    },
    "papermill": {
     "duration": 4.124749,
     "end_time": "2023-06-07T16:42:36.451949",
     "exception": false,
     "start_time": "2023-06-07T16:42:32.327200",
     "status": "completed"
    },
    "tags": []
   },
   "outputs": [
    {
     "name": "stdout",
     "output_type": "stream",
     "text": [
      "Processing alpha_group_significance: ace\n",
      "DONE: Calculating alpha group significance: ace\n",
      "Processing alpha_group_significance: berger_parker_d\n"
     ]
    },
    {
     "name": "stdout",
     "output_type": "stream",
     "text": [
      "DONE: Calculating alpha group significance: berger_parker_d\n",
      "Processing alpha_group_significance: brillouin_d\n",
      "DONE: Calculating alpha group significance: brillouin_d\n",
      "Processing alpha_group_significance: chao1\n"
     ]
    },
    {
     "name": "stdout",
     "output_type": "stream",
     "text": [
      "DONE: Calculating alpha group significance: chao1\n",
      "Processing alpha_group_significance: chao1_ci\n",
      "ERROR: Calculating alpha group significance: chao1_ci\n",
      "Processing alpha_group_significance: dominance\n",
      "DONE: Calculating alpha group significance: dominance\n",
      "Processing alpha_group_significance: doubles\n"
     ]
    },
    {
     "name": "stdout",
     "output_type": "stream",
     "text": [
      "DONE: Calculating alpha group significance: doubles\n",
      "Processing alpha_group_significance: enspie\n",
      "DONE: Calculating alpha group significance: enspie\n",
      "Processing alpha_group_significance: esty_ci\n",
      "ERROR: Calculating alpha group significance: esty_ci\n",
      "Processing alpha_group_significance: fisher_alpha\n"
     ]
    },
    {
     "name": "stdout",
     "output_type": "stream",
     "text": [
      "DONE: Calculating alpha group significance: fisher_alpha\n",
      "Processing alpha_group_significance: gini_index\n",
      "DONE: Calculating alpha group significance: gini_index\n",
      "Processing alpha_group_significance: goods_coverage\n"
     ]
    },
    {
     "name": "stdout",
     "output_type": "stream",
     "text": [
      "DONE: Calculating alpha group significance: goods_coverage\n",
      "Processing alpha_group_significance: heip_e\n",
      "DONE: Calculating alpha group significance: heip_e\n",
      "Processing alpha_group_significance: kempton_taylor_q\n",
      "ERROR: Calculating alpha group significance: kempton_taylor_q\n",
      "Processing alpha_group_significance: lladser_pe\n"
     ]
    },
    {
     "name": "stdout",
     "output_type": "stream",
     "text": [
      "DONE: Calculating alpha group significance: lladser_pe\n",
      "Processing alpha_group_significance: margalef\n",
      "DONE: Calculating alpha group significance: margalef\n",
      "Processing alpha_group_significance: mcintosh_d\n"
     ]
    },
    {
     "name": "stdout",
     "output_type": "stream",
     "text": [
      "DONE: Calculating alpha group significance: mcintosh_d\n",
      "Processing alpha_group_significance: mcintosh_e\n",
      "DONE: Calculating alpha group significance: mcintosh_e\n",
      "Processing alpha_group_significance: menhinick\n"
     ]
    },
    {
     "name": "stdout",
     "output_type": "stream",
     "text": [
      "DONE: Calculating alpha group significance: menhinick\n",
      "Processing alpha_group_significance: michaelis_menten_fit\n",
      "DONE: Calculating alpha group significance: michaelis_menten_fit\n",
      "Processing alpha_group_significance: observed_features\n"
     ]
    },
    {
     "name": "stdout",
     "output_type": "stream",
     "text": [
      "DONE: Calculating alpha group significance: observed_features\n",
      "Processing alpha_group_significance: osd\n",
      "ERROR: Calculating alpha group significance: osd\n",
      "Processing alpha_group_significance: pielou_e\n",
      "DONE: Calculating alpha group significance: pielou_e\n",
      "Processing alpha_group_significance: robbins\n"
     ]
    },
    {
     "name": "stdout",
     "output_type": "stream",
     "text": [
      "DONE: Calculating alpha group significance: robbins\n",
      "Processing alpha_group_significance: shannon\n",
      "DONE: Calculating alpha group significance: shannon\n",
      "Processing alpha_group_significance: simpson\n"
     ]
    },
    {
     "name": "stdout",
     "output_type": "stream",
     "text": [
      "DONE: Calculating alpha group significance: simpson\n",
      "Processing alpha_group_significance: simpson_e\n",
      "DONE: Calculating alpha group significance: simpson_e\n",
      "Processing alpha_group_significance: singles\n"
     ]
    },
    {
     "name": "stdout",
     "output_type": "stream",
     "text": [
      "DONE: Calculating alpha group significance: singles\n",
      "Processing alpha_group_significance: strong\n",
      "DONE: Calculating alpha group significance: strong\n"
     ]
    }
   ],
   "source": [
    "for metric, alpha_values in alpha_diversities.items():\n",
    "    print(f\"Processing alpha_group_significance: {metric}\")\n",
    "    try:\n",
    "        significance_view = alpha_group_significance(alpha_diversity=alpha_values, metadata=metadata_qa).visualization\n",
    "        view_path = os.path.join(alpha_path, f'alpha-group-significance-{metric}.qzv')\n",
    "        significance_view.save(view_path)\n",
    "        significance_view\n",
    "        print(f\"DONE: Calculating alpha group significance: {metric}\")\n",
    "    except Exception as e:\n",
    "        print(f\"ERROR: Calculating alpha group significance: {metric}\")"
   ]
  },
  {
   "cell_type": "markdown",
   "id": "4349d357",
   "metadata": {
    "papermill": {
     "duration": 0.05067,
     "end_time": "2023-06-07T16:42:36.548306",
     "exception": false,
     "start_time": "2023-06-07T16:42:36.497636",
     "status": "completed"
    },
    "tags": []
   },
   "source": [
    "## Beta diversity analysis\n",
    "\n",
    "#### Reference\n",
    "- [diversity beta](https://docs.qiime2.org/2022.8/plugins/available/diversity/beta/): Computes a user-specified beta diversity metric for all pairs of samples in a feature table.\n",
    "- [Beta diversity metrics](http://scikit-bio.org/docs/0.2.0/generated/skbio.diversity.beta.html)\n",
    "\n",
    "- Metric Choices('aitchison', 'braycurtis', 'canberra', 'canberra_adkins', 'chebyshev', 'cityblock', 'correlation', 'cosine', 'dice', 'euclidean', 'hamming', 'jaccard', 'jensenshannon', 'kulsinski', 'matching', 'minkowski', 'rogerstanimoto', 'russellrao', 'seuclidean', 'sokalmichener', 'sokalsneath', 'sqeuclidean', 'yule')"
   ]
  },
  {
   "cell_type": "code",
   "execution_count": 14,
   "id": "f6f358dd",
   "metadata": {
    "ExecuteTime": {
     "end_time": "2022-09-29T20:54:36.335038Z",
     "start_time": "2022-09-29T20:54:36.091288Z"
    },
    "execution": {
     "iopub.execute_input": "2023-06-07T16:42:36.655280Z",
     "iopub.status.busy": "2023-06-07T16:42:36.655039Z",
     "iopub.status.idle": "2023-06-07T16:42:38.080838Z",
     "shell.execute_reply": "2023-06-07T16:42:38.080135Z"
    },
    "papermill": {
     "duration": 1.485163,
     "end_time": "2023-06-07T16:42:38.085382",
     "exception": false,
     "start_time": "2023-06-07T16:42:36.600219",
     "status": "completed"
    },
    "tags": []
   },
   "outputs": [
    {
     "name": "stdout",
     "output_type": "stream",
     "text": [
      "Calculating beta diversity: aitchison\n",
      "DONE: Calculating beta diversity: aitchison\n",
      "Calculating beta diversity: braycurtis\n",
      "DONE: Calculating beta diversity: braycurtis\n",
      "Calculating beta diversity: canberra\n"
     ]
    },
    {
     "name": "stdout",
     "output_type": "stream",
     "text": [
      "DONE: Calculating beta diversity: canberra\n",
      "Calculating beta diversity: canberra_adkins\n",
      "DONE: Calculating beta diversity: canberra_adkins\n",
      "Calculating beta diversity: chebyshev\n",
      "DONE: Calculating beta diversity: chebyshev\n",
      "Calculating beta diversity: cityblock\n"
     ]
    },
    {
     "name": "stdout",
     "output_type": "stream",
     "text": [
      "DONE: Calculating beta diversity: cityblock\n",
      "Calculating beta diversity: correlation\n",
      "ERROR: Calculating beta diversity: correlation\n",
      "Calculating beta diversity: cosine\n",
      "ERROR: Calculating beta diversity: cosine\n",
      "Calculating beta diversity: dice\n",
      "DONE: Calculating beta diversity: dice\n",
      "Calculating beta diversity: euclidean\n",
      "DONE: Calculating beta diversity: euclidean\n",
      "Calculating beta diversity: hamming\n"
     ]
    },
    {
     "name": "stderr",
     "output_type": "stream",
     "text": [
      "/home/lauro/anaconda3/envs/qiime2-2022.2/lib/python3.8/site-packages/sklearn/metrics/pairwise.py:1761: DataConversionWarning: Data was converted to boolean for metric dice\n",
      "  warnings.warn(msg, DataConversionWarning)\n"
     ]
    },
    {
     "name": "stdout",
     "output_type": "stream",
     "text": [
      "DONE: Calculating beta diversity: hamming\n",
      "Calculating beta diversity: jaccard\n",
      "DONE: Calculating beta diversity: jaccard\n",
      "Calculating beta diversity: jensenshannon\n",
      "DONE: Calculating beta diversity: jensenshannon\n",
      "Calculating beta diversity: kulsinski\n",
      "ERROR: Calculating beta diversity: kulsinski\n",
      "Calculating beta diversity: matching\n"
     ]
    },
    {
     "name": "stderr",
     "output_type": "stream",
     "text": [
      "/home/lauro/anaconda3/envs/qiime2-2022.2/lib/python3.8/site-packages/sklearn/metrics/pairwise.py:1761: DataConversionWarning: Data was converted to boolean for metric jaccard\n",
      "  warnings.warn(msg, DataConversionWarning)\n",
      "/home/lauro/anaconda3/envs/qiime2-2022.2/lib/python3.8/site-packages/sklearn/metrics/pairwise.py:1761: DataConversionWarning: Data was converted to boolean for metric kulsinski\n",
      "  warnings.warn(msg, DataConversionWarning)\n",
      "/home/lauro/anaconda3/envs/qiime2-2022.2/lib/python3.8/site-packages/sklearn/metrics/pairwise.py:1761: DataConversionWarning: Data was converted to boolean for metric matching\n",
      "  warnings.warn(msg, DataConversionWarning)\n"
     ]
    },
    {
     "name": "stdout",
     "output_type": "stream",
     "text": [
      "DONE: Calculating beta diversity: matching\n",
      "Calculating beta diversity: minkowski\n",
      "DONE: Calculating beta diversity: minkowski\n",
      "Calculating beta diversity: rogerstanimoto\n",
      "DONE: Calculating beta diversity: rogerstanimoto\n",
      "Calculating beta diversity: russellrao\n",
      "ERROR: Calculating beta diversity: russellrao\n",
      "Calculating beta diversity: seuclidean\n"
     ]
    },
    {
     "name": "stderr",
     "output_type": "stream",
     "text": [
      "/home/lauro/anaconda3/envs/qiime2-2022.2/lib/python3.8/site-packages/sklearn/metrics/pairwise.py:1761: DataConversionWarning: Data was converted to boolean for metric rogerstanimoto\n",
      "  warnings.warn(msg, DataConversionWarning)\n",
      "/home/lauro/anaconda3/envs/qiime2-2022.2/lib/python3.8/site-packages/sklearn/metrics/pairwise.py:1761: DataConversionWarning: Data was converted to boolean for metric russellrao\n",
      "  warnings.warn(msg, DataConversionWarning)\n",
      "/home/lauro/anaconda3/envs/qiime2-2022.2/lib/python3.8/site-packages/sklearn/metrics/pairwise.py:1761: DataConversionWarning: Data was converted to boolean for metric sokalmichener\n",
      "  warnings.warn(msg, DataConversionWarning)\n"
     ]
    },
    {
     "name": "stdout",
     "output_type": "stream",
     "text": [
      "DONE: Calculating beta diversity: seuclidean\n",
      "Calculating beta diversity: sokalmichener\n",
      "DONE: Calculating beta diversity: sokalmichener\n",
      "Calculating beta diversity: sokalsneath\n",
      "DONE: Calculating beta diversity: sokalsneath\n",
      "Calculating beta diversity: sqeuclidean\n",
      "DONE: Calculating beta diversity: sqeuclidean\n",
      "Calculating beta diversity: yule\n"
     ]
    },
    {
     "name": "stdout",
     "output_type": "stream",
     "text": [
      "DONE: Calculating beta diversity: yule\n"
     ]
    },
    {
     "name": "stderr",
     "output_type": "stream",
     "text": [
      "/home/lauro/anaconda3/envs/qiime2-2022.2/lib/python3.8/site-packages/sklearn/metrics/pairwise.py:1761: DataConversionWarning: Data was converted to boolean for metric sokalsneath\n",
      "  warnings.warn(msg, DataConversionWarning)\n",
      "/home/lauro/anaconda3/envs/qiime2-2022.2/lib/python3.8/site-packages/sklearn/metrics/pairwise.py:1761: DataConversionWarning: Data was converted to boolean for metric yule\n",
      "  warnings.warn(msg, DataConversionWarning)\n"
     ]
    }
   ],
   "source": [
    "metrics = ('aitchison', 'braycurtis', 'canberra', 'canberra_adkins', 'chebyshev', 'cityblock', 'correlation', 'cosine', 'dice', 'euclidean', 'hamming', 'jaccard', 'jensenshannon', 'kulsinski', 'matching', 'minkowski', 'rogerstanimoto', 'russellrao', 'seuclidean', 'sokalmichener', 'sokalsneath', 'sqeuclidean', 'yule')\n",
    "beta_diversities = dict()\n",
    "for metric in metrics:\n",
    "    print(f\"Calculating beta diversity: {metric}\")\n",
    "    try:\n",
    "        beta_diversity = beta(table=tabs, metric=metric, n_jobs=6, pseudocount=1).distance_matrix\n",
    "        beta_diversities[metric] = beta_diversity\n",
    "        # Save SampleData[BetaDiversity] Artifact\n",
    "        file_path = os.path.join(beta_path, f'beta-values-{metric}.qza')\n",
    "        beta_diversity.save(file_path)\n",
    "        print(f\"DONE: Calculating beta diversity: {metric}\")\n",
    "    except Exception as e:\n",
    "        print(f\"ERROR: Calculating beta diversity: {metric}\")"
   ]
  },
  {
   "cell_type": "markdown",
   "id": "200a2fa7",
   "metadata": {
    "papermill": {
     "duration": 0.038667,
     "end_time": "2023-06-07T16:42:38.168633",
     "exception": false,
     "start_time": "2023-06-07T16:42:38.129966",
     "status": "completed"
    },
    "tags": []
   },
   "source": [
    "### Beta group significance\n",
    "\n",
    "- [diversity beta_group_significance](https://docs.qiime2.org/2022.8/plugins/available/diversity/beta-group-significance/): Determine whether groups of samples are significantly different from one another using a permutation-based statistical test.\n",
    "- Marti J Anderson. A new method for non-parametric multivariate analysis of variance. Austral ecology, 26(1):32–46, 2001. doi:https://doi.org/10.1111/j.1442-9993.2001.01070.pp.x."
   ]
  },
  {
   "cell_type": "code",
   "execution_count": 15,
   "id": "b8dd42b6",
   "metadata": {
    "ExecuteTime": {
     "end_time": "2022-09-29T20:55:08.313860Z",
     "start_time": "2022-09-29T20:54:36.336993Z"
    },
    "execution": {
     "iopub.execute_input": "2023-06-07T16:42:38.252130Z",
     "iopub.status.busy": "2023-06-07T16:42:38.251739Z",
     "iopub.status.idle": "2023-06-07T16:47:42.046082Z",
     "shell.execute_reply": "2023-06-07T16:47:42.045522Z"
    },
    "papermill": {
     "duration": 303.840767,
     "end_time": "2023-06-07T16:47:42.048944",
     "exception": false,
     "start_time": "2023-06-07T16:42:38.208177",
     "status": "completed"
    },
    "tags": []
   },
   "outputs": [
    {
     "name": "stdout",
     "output_type": "stream",
     "text": [
      "Calculating beta group significance with method permanova and metric aitchison\n"
     ]
    },
    {
     "name": "stdout",
     "output_type": "stream",
     "text": [
      "DONE: Calculating beta group significance: permanova aitchison\n",
      "Calculating beta group significance with method permanova and metric braycurtis\n"
     ]
    },
    {
     "name": "stdout",
     "output_type": "stream",
     "text": [
      "DONE: Calculating beta group significance: permanova braycurtis\n",
      "Calculating beta group significance with method permanova and metric canberra\n"
     ]
    },
    {
     "name": "stdout",
     "output_type": "stream",
     "text": [
      "DONE: Calculating beta group significance: permanova canberra\n",
      "Calculating beta group significance with method permanova and metric canberra_adkins\n"
     ]
    },
    {
     "name": "stdout",
     "output_type": "stream",
     "text": [
      "DONE: Calculating beta group significance: permanova canberra_adkins\n",
      "Calculating beta group significance with method permanova and metric chebyshev\n"
     ]
    },
    {
     "name": "stdout",
     "output_type": "stream",
     "text": [
      "DONE: Calculating beta group significance: permanova chebyshev\n",
      "Calculating beta group significance with method permanova and metric cityblock\n"
     ]
    },
    {
     "name": "stdout",
     "output_type": "stream",
     "text": [
      "DONE: Calculating beta group significance: permanova cityblock\n",
      "Calculating beta group significance with method permanova and metric dice\n"
     ]
    },
    {
     "name": "stdout",
     "output_type": "stream",
     "text": [
      "DONE: Calculating beta group significance: permanova dice\n",
      "Calculating beta group significance with method permanova and metric euclidean\n"
     ]
    },
    {
     "name": "stdout",
     "output_type": "stream",
     "text": [
      "DONE: Calculating beta group significance: permanova euclidean\n",
      "Calculating beta group significance with method permanova and metric hamming\n"
     ]
    },
    {
     "name": "stdout",
     "output_type": "stream",
     "text": [
      "DONE: Calculating beta group significance: permanova hamming\n",
      "Calculating beta group significance with method permanova and metric jaccard\n"
     ]
    },
    {
     "name": "stdout",
     "output_type": "stream",
     "text": [
      "DONE: Calculating beta group significance: permanova jaccard\n",
      "Calculating beta group significance with method permanova and metric jensenshannon\n"
     ]
    },
    {
     "name": "stdout",
     "output_type": "stream",
     "text": [
      "DONE: Calculating beta group significance: permanova jensenshannon\n",
      "Calculating beta group significance with method permanova and metric matching\n"
     ]
    },
    {
     "name": "stdout",
     "output_type": "stream",
     "text": [
      "DONE: Calculating beta group significance: permanova matching\n",
      "Calculating beta group significance with method permanova and metric minkowski\n"
     ]
    },
    {
     "name": "stdout",
     "output_type": "stream",
     "text": [
      "DONE: Calculating beta group significance: permanova minkowski\n",
      "Calculating beta group significance with method permanova and metric rogerstanimoto\n"
     ]
    },
    {
     "name": "stdout",
     "output_type": "stream",
     "text": [
      "DONE: Calculating beta group significance: permanova rogerstanimoto\n",
      "Calculating beta group significance with method permanova and metric seuclidean\n"
     ]
    },
    {
     "name": "stdout",
     "output_type": "stream",
     "text": [
      "DONE: Calculating beta group significance: permanova seuclidean\n",
      "Calculating beta group significance with method permanova and metric sokalmichener\n"
     ]
    },
    {
     "name": "stdout",
     "output_type": "stream",
     "text": [
      "DONE: Calculating beta group significance: permanova sokalmichener\n",
      "Calculating beta group significance with method permanova and metric sokalsneath\n"
     ]
    },
    {
     "name": "stdout",
     "output_type": "stream",
     "text": [
      "DONE: Calculating beta group significance: permanova sokalsneath\n",
      "Calculating beta group significance with method permanova and metric sqeuclidean\n"
     ]
    },
    {
     "name": "stdout",
     "output_type": "stream",
     "text": [
      "DONE: Calculating beta group significance: permanova sqeuclidean\n",
      "Calculating beta group significance with method permanova and metric yule\n"
     ]
    },
    {
     "name": "stdout",
     "output_type": "stream",
     "text": [
      "DONE: Calculating beta group significance: permanova yule\n",
      "Calculating beta group significance with method anosim and metric aitchison\n"
     ]
    },
    {
     "name": "stdout",
     "output_type": "stream",
     "text": [
      "DONE: Calculating beta group significance: anosim aitchison\n",
      "Calculating beta group significance with method anosim and metric braycurtis\n"
     ]
    },
    {
     "name": "stdout",
     "output_type": "stream",
     "text": [
      "DONE: Calculating beta group significance: anosim braycurtis\n",
      "Calculating beta group significance with method anosim and metric canberra\n"
     ]
    },
    {
     "name": "stdout",
     "output_type": "stream",
     "text": [
      "DONE: Calculating beta group significance: anosim canberra\n",
      "Calculating beta group significance with method anosim and metric canberra_adkins\n"
     ]
    },
    {
     "name": "stdout",
     "output_type": "stream",
     "text": [
      "DONE: Calculating beta group significance: anosim canberra_adkins\n",
      "Calculating beta group significance with method anosim and metric chebyshev\n"
     ]
    },
    {
     "name": "stdout",
     "output_type": "stream",
     "text": [
      "DONE: Calculating beta group significance: anosim chebyshev\n",
      "Calculating beta group significance with method anosim and metric cityblock\n"
     ]
    },
    {
     "name": "stdout",
     "output_type": "stream",
     "text": [
      "DONE: Calculating beta group significance: anosim cityblock\n",
      "Calculating beta group significance with method anosim and metric dice\n"
     ]
    },
    {
     "name": "stdout",
     "output_type": "stream",
     "text": [
      "DONE: Calculating beta group significance: anosim dice\n",
      "Calculating beta group significance with method anosim and metric euclidean\n"
     ]
    },
    {
     "name": "stdout",
     "output_type": "stream",
     "text": [
      "DONE: Calculating beta group significance: anosim euclidean\n",
      "Calculating beta group significance with method anosim and metric hamming\n"
     ]
    },
    {
     "name": "stdout",
     "output_type": "stream",
     "text": [
      "DONE: Calculating beta group significance: anosim hamming\n",
      "Calculating beta group significance with method anosim and metric jaccard\n"
     ]
    },
    {
     "name": "stdout",
     "output_type": "stream",
     "text": [
      "DONE: Calculating beta group significance: anosim jaccard\n",
      "Calculating beta group significance with method anosim and metric jensenshannon\n"
     ]
    },
    {
     "name": "stdout",
     "output_type": "stream",
     "text": [
      "DONE: Calculating beta group significance: anosim jensenshannon\n",
      "Calculating beta group significance with method anosim and metric matching\n"
     ]
    },
    {
     "name": "stdout",
     "output_type": "stream",
     "text": [
      "DONE: Calculating beta group significance: anosim matching\n",
      "Calculating beta group significance with method anosim and metric minkowski\n"
     ]
    },
    {
     "name": "stdout",
     "output_type": "stream",
     "text": [
      "DONE: Calculating beta group significance: anosim minkowski\n",
      "Calculating beta group significance with method anosim and metric rogerstanimoto\n"
     ]
    },
    {
     "name": "stdout",
     "output_type": "stream",
     "text": [
      "DONE: Calculating beta group significance: anosim rogerstanimoto\n",
      "Calculating beta group significance with method anosim and metric seuclidean\n"
     ]
    },
    {
     "name": "stdout",
     "output_type": "stream",
     "text": [
      "DONE: Calculating beta group significance: anosim seuclidean\n",
      "Calculating beta group significance with method anosim and metric sokalmichener\n"
     ]
    },
    {
     "name": "stdout",
     "output_type": "stream",
     "text": [
      "DONE: Calculating beta group significance: anosim sokalmichener\n",
      "Calculating beta group significance with method anosim and metric sokalsneath\n"
     ]
    },
    {
     "name": "stdout",
     "output_type": "stream",
     "text": [
      "DONE: Calculating beta group significance: anosim sokalsneath\n",
      "Calculating beta group significance with method anosim and metric sqeuclidean\n"
     ]
    },
    {
     "name": "stdout",
     "output_type": "stream",
     "text": [
      "DONE: Calculating beta group significance: anosim sqeuclidean\n",
      "Calculating beta group significance with method anosim and metric yule\n"
     ]
    },
    {
     "name": "stdout",
     "output_type": "stream",
     "text": [
      "DONE: Calculating beta group significance: anosim yule\n",
      "Calculating beta group significance with method permdisp and metric aitchison\n"
     ]
    },
    {
     "name": "stdout",
     "output_type": "stream",
     "text": [
      "DONE: Calculating beta group significance: permdisp aitchison\n",
      "Calculating beta group significance with method permdisp and metric braycurtis\n"
     ]
    },
    {
     "name": "stdout",
     "output_type": "stream",
     "text": [
      "DONE: Calculating beta group significance: permdisp braycurtis\n",
      "Calculating beta group significance with method permdisp and metric canberra\n"
     ]
    },
    {
     "name": "stderr",
     "output_type": "stream",
     "text": [
      "/home/lauro/anaconda3/envs/qiime2-2022.2/lib/python3.8/site-packages/skbio/stats/ordination/_principal_coordinate_analysis.py:143: RuntimeWarning: The result contains negative eigenvalues. Please compare their magnitude with the magnitude of some of the largest positive eigenvalues. If the negative ones are smaller, it's probably safe to ignore them, but if they are large in magnitude, the results won't be useful. See the Notes section for more details. The smallest eigenvalue is -1098.4318241120288 and the largest is 79359.17101812629.\n",
      "  warn(\n"
     ]
    },
    {
     "name": "stderr",
     "output_type": "stream",
     "text": [
      "/home/lauro/anaconda3/envs/qiime2-2022.2/lib/python3.8/site-packages/skbio/stats/ordination/_principal_coordinate_analysis.py:143: RuntimeWarning: The result contains negative eigenvalues. Please compare their magnitude with the magnitude of some of the largest positive eigenvalues. If the negative ones are smaller, it's probably safe to ignore them, but if they are large in magnitude, the results won't be useful. See the Notes section for more details. The smallest eigenvalue is -45.185499056937715 and the largest is 33955.351842897595.\n",
      "  warn(\n"
     ]
    },
    {
     "name": "stderr",
     "output_type": "stream",
     "text": [
      "/home/lauro/anaconda3/envs/qiime2-2022.2/lib/python3.8/site-packages/skbio/stats/ordination/_principal_coordinate_analysis.py:143: RuntimeWarning: The result contains negative eigenvalues. Please compare their magnitude with the magnitude of some of the largest positive eigenvalues. If the negative ones are smaller, it's probably safe to ignore them, but if they are large in magnitude, the results won't be useful. See the Notes section for more details. The smallest eigenvalue is -117.44527395505888 and the largest is 65784.59726957757.\n",
      "  warn(\n"
     ]
    },
    {
     "name": "stdout",
     "output_type": "stream",
     "text": [
      "DONE: Calculating beta group significance: permdisp canberra\n",
      "Calculating beta group significance with method permdisp and metric canberra_adkins\n"
     ]
    },
    {
     "name": "stdout",
     "output_type": "stream",
     "text": [
      "DONE: Calculating beta group significance: permdisp canberra_adkins\n",
      "Calculating beta group significance with method permdisp and metric chebyshev\n"
     ]
    },
    {
     "name": "stderr",
     "output_type": "stream",
     "text": [
      "/home/lauro/anaconda3/envs/qiime2-2022.2/lib/python3.8/site-packages/skbio/stats/ordination/_principal_coordinate_analysis.py:143: RuntimeWarning: The result contains negative eigenvalues. Please compare their magnitude with the magnitude of some of the largest positive eigenvalues. If the negative ones are smaller, it's probably safe to ignore them, but if they are large in magnitude, the results won't be useful. See the Notes section for more details. The smallest eigenvalue is -2056498.5399044126 and the largest is 4002583265.797461.\n",
      "  warn(\n"
     ]
    },
    {
     "name": "stderr",
     "output_type": "stream",
     "text": [
      "/home/lauro/anaconda3/envs/qiime2-2022.2/lib/python3.8/site-packages/skbio/stats/ordination/_principal_coordinate_analysis.py:143: RuntimeWarning: The result contains negative eigenvalues. Please compare their magnitude with the magnitude of some of the largest positive eigenvalues. If the negative ones are smaller, it's probably safe to ignore them, but if they are large in magnitude, the results won't be useful. See the Notes section for more details. The smallest eigenvalue is -1022202.9368497152 and the largest is 3810088545.254564.\n",
      "  warn(\n"
     ]
    },
    {
     "name": "stderr",
     "output_type": "stream",
     "text": [
      "/home/lauro/anaconda3/envs/qiime2-2022.2/lib/python3.8/site-packages/skbio/stats/ordination/_principal_coordinate_analysis.py:143: RuntimeWarning: The result contains negative eigenvalues. Please compare their magnitude with the magnitude of some of the largest positive eigenvalues. If the negative ones are smaller, it's probably safe to ignore them, but if they are large in magnitude, the results won't be useful. See the Notes section for more details. The smallest eigenvalue is -964132.2286605437 and the largest is 3840141661.720032.\n",
      "  warn(\n"
     ]
    },
    {
     "name": "stderr",
     "output_type": "stream",
     "text": [
      "/home/lauro/anaconda3/envs/qiime2-2022.2/lib/python3.8/site-packages/skbio/stats/ordination/_principal_coordinate_analysis.py:143: RuntimeWarning: The result contains negative eigenvalues. Please compare their magnitude with the magnitude of some of the largest positive eigenvalues. If the negative ones are smaller, it's probably safe to ignore them, but if they are large in magnitude, the results won't be useful. See the Notes section for more details. The smallest eigenvalue is -1121724.850826077 and the largest is 195424770.8522241.\n",
      "  warn(\n"
     ]
    },
    {
     "name": "stdout",
     "output_type": "stream",
     "text": [
      "DONE: Calculating beta group significance: permdisp chebyshev\n",
      "Calculating beta group significance with method permdisp and metric cityblock\n"
     ]
    },
    {
     "name": "stderr",
     "output_type": "stream",
     "text": [
      "/home/lauro/anaconda3/envs/qiime2-2022.2/lib/python3.8/site-packages/skbio/stats/ordination/_principal_coordinate_analysis.py:143: RuntimeWarning: The result contains negative eigenvalues. Please compare their magnitude with the magnitude of some of the largest positive eigenvalues. If the negative ones are smaller, it's probably safe to ignore them, but if they are large in magnitude, the results won't be useful. See the Notes section for more details. The smallest eigenvalue is -102273107.10585396 and the largest is 15613812467.276821.\n",
      "  warn(\n"
     ]
    },
    {
     "name": "stderr",
     "output_type": "stream",
     "text": [
      "/home/lauro/anaconda3/envs/qiime2-2022.2/lib/python3.8/site-packages/skbio/stats/ordination/_principal_coordinate_analysis.py:143: RuntimeWarning: The result contains negative eigenvalues. Please compare their magnitude with the magnitude of some of the largest positive eigenvalues. If the negative ones are smaller, it's probably safe to ignore them, but if they are large in magnitude, the results won't be useful. See the Notes section for more details. The smallest eigenvalue is -28456136.5882792 and the largest is 14400691247.399197.\n",
      "  warn(\n"
     ]
    },
    {
     "name": "stderr",
     "output_type": "stream",
     "text": [
      "/home/lauro/anaconda3/envs/qiime2-2022.2/lib/python3.8/site-packages/skbio/stats/ordination/_principal_coordinate_analysis.py:143: RuntimeWarning: The result contains negative eigenvalues. Please compare their magnitude with the magnitude of some of the largest positive eigenvalues. If the negative ones are smaller, it's probably safe to ignore them, but if they are large in magnitude, the results won't be useful. See the Notes section for more details. The smallest eigenvalue is -34765970.07203647 and the largest is 15000980199.764107.\n",
      "  warn(\n"
     ]
    },
    {
     "name": "stderr",
     "output_type": "stream",
     "text": [
      "/home/lauro/anaconda3/envs/qiime2-2022.2/lib/python3.8/site-packages/skbio/stats/ordination/_principal_coordinate_analysis.py:143: RuntimeWarning: The result contains negative eigenvalues. Please compare their magnitude with the magnitude of some of the largest positive eigenvalues. If the negative ones are smaller, it's probably safe to ignore them, but if they are large in magnitude, the results won't be useful. See the Notes section for more details. The smallest eigenvalue is -18017455.342656907 and the largest is 1745610989.3611844.\n",
      "  warn(\n"
     ]
    },
    {
     "name": "stdout",
     "output_type": "stream",
     "text": [
      "DONE: Calculating beta group significance: permdisp cityblock\n",
      "Calculating beta group significance with method permdisp and metric dice\n"
     ]
    },
    {
     "name": "stdout",
     "output_type": "stream",
     "text": [
      "DONE: Calculating beta group significance: permdisp dice\n",
      "Calculating beta group significance with method permdisp and metric euclidean\n"
     ]
    },
    {
     "name": "stderr",
     "output_type": "stream",
     "text": [
      "/home/lauro/anaconda3/envs/qiime2-2022.2/lib/python3.8/site-packages/skbio/stats/ordination/_principal_coordinate_analysis.py:143: RuntimeWarning: The result contains negative eigenvalues. Please compare their magnitude with the magnitude of some of the largest positive eigenvalues. If the negative ones are smaller, it's probably safe to ignore them, but if they are large in magnitude, the results won't be useful. See the Notes section for more details. The smallest eigenvalue is -1.4158130558371467e-07 and the largest is 4253309104.4220295.\n",
      "  warn(\n"
     ]
    },
    {
     "name": "stderr",
     "output_type": "stream",
     "text": [
      "/home/lauro/anaconda3/envs/qiime2-2022.2/lib/python3.8/site-packages/skbio/stats/ordination/_principal_coordinate_analysis.py:143: RuntimeWarning: The result contains negative eigenvalues. Please compare their magnitude with the magnitude of some of the largest positive eigenvalues. If the negative ones are smaller, it's probably safe to ignore them, but if they are large in magnitude, the results won't be useful. See the Notes section for more details. The smallest eigenvalue is -2.02407159403333e-07 and the largest is 4054529316.4904656.\n",
      "  warn(\n"
     ]
    },
    {
     "name": "stdout",
     "output_type": "stream",
     "text": [
      "DONE: Calculating beta group significance: permdisp euclidean\n",
      "Calculating beta group significance with method permdisp and metric hamming\n"
     ]
    },
    {
     "name": "stderr",
     "output_type": "stream",
     "text": [
      "/home/lauro/anaconda3/envs/qiime2-2022.2/lib/python3.8/site-packages/skbio/stats/ordination/_principal_coordinate_analysis.py:143: RuntimeWarning: The result contains negative eigenvalues. Please compare their magnitude with the magnitude of some of the largest positive eigenvalues. If the negative ones are smaller, it's probably safe to ignore them, but if they are large in magnitude, the results won't be useful. See the Notes section for more details. The smallest eigenvalue is -0.01085035030631959 and the largest is 0.20483121385123965.\n",
      "  warn(\n"
     ]
    },
    {
     "name": "stderr",
     "output_type": "stream",
     "text": [
      "/home/lauro/anaconda3/envs/qiime2-2022.2/lib/python3.8/site-packages/skbio/stats/ordination/_principal_coordinate_analysis.py:143: RuntimeWarning: The result contains negative eigenvalues. Please compare their magnitude with the magnitude of some of the largest positive eigenvalues. If the negative ones are smaller, it's probably safe to ignore them, but if they are large in magnitude, the results won't be useful. See the Notes section for more details. The smallest eigenvalue is -0.0014139016578238767 and the largest is 0.09453563883361382.\n",
      "  warn(\n"
     ]
    },
    {
     "name": "stderr",
     "output_type": "stream",
     "text": [
      "/home/lauro/anaconda3/envs/qiime2-2022.2/lib/python3.8/site-packages/skbio/stats/ordination/_principal_coordinate_analysis.py:143: RuntimeWarning: The result contains negative eigenvalues. Please compare their magnitude with the magnitude of some of the largest positive eigenvalues. If the negative ones are smaller, it's probably safe to ignore them, but if they are large in magnitude, the results won't be useful. See the Notes section for more details. The smallest eigenvalue is -0.0026160678563893723 and the largest is 0.1820930822550277.\n",
      "  warn(\n"
     ]
    },
    {
     "name": "stdout",
     "output_type": "stream",
     "text": [
      "DONE: Calculating beta group significance: permdisp hamming\n",
      "Calculating beta group significance with method permdisp and metric jaccard\n"
     ]
    },
    {
     "name": "stdout",
     "output_type": "stream",
     "text": [
      "DONE: Calculating beta group significance: permdisp jaccard\n",
      "Calculating beta group significance with method permdisp and metric jensenshannon\n"
     ]
    },
    {
     "name": "stdout",
     "output_type": "stream",
     "text": [
      "DONE: Calculating beta group significance: permdisp jensenshannon\n",
      "Calculating beta group significance with method permdisp and metric matching\n"
     ]
    },
    {
     "name": "stderr",
     "output_type": "stream",
     "text": [
      "/home/lauro/anaconda3/envs/qiime2-2022.2/lib/python3.8/site-packages/skbio/stats/ordination/_principal_coordinate_analysis.py:143: RuntimeWarning: The result contains negative eigenvalues. Please compare their magnitude with the magnitude of some of the largest positive eigenvalues. If the negative ones are smaller, it's probably safe to ignore them, but if they are large in magnitude, the results won't be useful. See the Notes section for more details. The smallest eigenvalue is -0.0036347186945517333 and the largest is 0.24135623454211502.\n",
      "  warn(\n"
     ]
    },
    {
     "name": "stderr",
     "output_type": "stream",
     "text": [
      "/home/lauro/anaconda3/envs/qiime2-2022.2/lib/python3.8/site-packages/skbio/stats/ordination/_principal_coordinate_analysis.py:143: RuntimeWarning: The result contains negative eigenvalues. Please compare their magnitude with the magnitude of some of the largest positive eigenvalues. If the negative ones are smaller, it's probably safe to ignore them, but if they are large in magnitude, the results won't be useful. See the Notes section for more details. The smallest eigenvalue is -0.0009582721740841305 and the largest is 0.10446644106161843.\n",
      "  warn(\n"
     ]
    },
    {
     "name": "stderr",
     "output_type": "stream",
     "text": [
      "/home/lauro/anaconda3/envs/qiime2-2022.2/lib/python3.8/site-packages/skbio/stats/ordination/_principal_coordinate_analysis.py:143: RuntimeWarning: The result contains negative eigenvalues. Please compare their magnitude with the magnitude of some of the largest positive eigenvalues. If the negative ones are smaller, it's probably safe to ignore them, but if they are large in magnitude, the results won't be useful. See the Notes section for more details. The smallest eigenvalue is -0.0005861000648305308 and the largest is 0.19164086102192063.\n",
      "  warn(\n"
     ]
    },
    {
     "name": "stdout",
     "output_type": "stream",
     "text": [
      "DONE: Calculating beta group significance: permdisp matching\n",
      "Calculating beta group significance with method permdisp and metric minkowski\n"
     ]
    },
    {
     "name": "stderr",
     "output_type": "stream",
     "text": [
      "/home/lauro/anaconda3/envs/qiime2-2022.2/lib/python3.8/site-packages/skbio/stats/ordination/_principal_coordinate_analysis.py:143: RuntimeWarning: The result contains negative eigenvalues. Please compare their magnitude with the magnitude of some of the largest positive eigenvalues. If the negative ones are smaller, it's probably safe to ignore them, but if they are large in magnitude, the results won't be useful. See the Notes section for more details. The smallest eigenvalue is -1.4158130558371467e-07 and the largest is 4253309104.4220295.\n",
      "  warn(\n"
     ]
    },
    {
     "name": "stderr",
     "output_type": "stream",
     "text": [
      "/home/lauro/anaconda3/envs/qiime2-2022.2/lib/python3.8/site-packages/skbio/stats/ordination/_principal_coordinate_analysis.py:143: RuntimeWarning: The result contains negative eigenvalues. Please compare their magnitude with the magnitude of some of the largest positive eigenvalues. If the negative ones are smaller, it's probably safe to ignore them, but if they are large in magnitude, the results won't be useful. See the Notes section for more details. The smallest eigenvalue is -2.02407159403333e-07 and the largest is 4054529316.4904656.\n",
      "  warn(\n"
     ]
    },
    {
     "name": "stdout",
     "output_type": "stream",
     "text": [
      "DONE: Calculating beta group significance: permdisp minkowski\n",
      "Calculating beta group significance with method permdisp and metric rogerstanimoto\n"
     ]
    },
    {
     "name": "stdout",
     "output_type": "stream",
     "text": [
      "DONE: Calculating beta group significance: permdisp rogerstanimoto\n",
      "Calculating beta group significance with method permdisp and metric seuclidean\n"
     ]
    },
    {
     "name": "stdout",
     "output_type": "stream",
     "text": [
      "DONE: Calculating beta group significance: permdisp seuclidean\n",
      "Calculating beta group significance with method permdisp and metric sokalmichener\n"
     ]
    },
    {
     "name": "stdout",
     "output_type": "stream",
     "text": [
      "DONE: Calculating beta group significance: permdisp sokalmichener\n",
      "Calculating beta group significance with method permdisp and metric sokalsneath\n"
     ]
    },
    {
     "name": "stdout",
     "output_type": "stream",
     "text": [
      "DONE: Calculating beta group significance: permdisp sokalsneath\n",
      "Calculating beta group significance with method permdisp and metric sqeuclidean\n"
     ]
    },
    {
     "name": "stderr",
     "output_type": "stream",
     "text": [
      "/home/lauro/anaconda3/envs/qiime2-2022.2/lib/python3.8/site-packages/skbio/stats/ordination/_principal_coordinate_analysis.py:143: RuntimeWarning: The result contains negative eigenvalues. Please compare their magnitude with the magnitude of some of the largest positive eigenvalues. If the negative ones are smaller, it's probably safe to ignore them, but if they are large in magnitude, the results won't be useful. See the Notes section for more details. The smallest eigenvalue is -2.8342936304107684e+18 and the largest is 2.0472336760061657e+19.\n",
      "  warn(\n"
     ]
    },
    {
     "name": "stderr",
     "output_type": "stream",
     "text": [
      "/home/lauro/anaconda3/envs/qiime2-2022.2/lib/python3.8/site-packages/skbio/stats/ordination/_principal_coordinate_analysis.py:143: RuntimeWarning: The result contains negative eigenvalues. Please compare their magnitude with the magnitude of some of the largest positive eigenvalues. If the negative ones are smaller, it's probably safe to ignore them, but if they are large in magnitude, the results won't be useful. See the Notes section for more details. The smallest eigenvalue is -1.177922627288937e+18 and the largest is 1.8964163489274503e+19.\n",
      "  warn(\n"
     ]
    },
    {
     "name": "stderr",
     "output_type": "stream",
     "text": [
      "/home/lauro/anaconda3/envs/qiime2-2022.2/lib/python3.8/site-packages/skbio/stats/ordination/_principal_coordinate_analysis.py:143: RuntimeWarning: The result contains negative eigenvalues. Please compare their magnitude with the magnitude of some of the largest positive eigenvalues. If the negative ones are smaller, it's probably safe to ignore them, but if they are large in magnitude, the results won't be useful. See the Notes section for more details. The smallest eigenvalue is -2.2032556758662584e+18 and the largest is 1.9460865537769476e+19.\n",
      "  warn(\n"
     ]
    },
    {
     "name": "stderr",
     "output_type": "stream",
     "text": [
      "/home/lauro/anaconda3/envs/qiime2-2022.2/lib/python3.8/site-packages/skbio/stats/ordination/_principal_coordinate_analysis.py:143: RuntimeWarning: The result contains negative eigenvalues. Please compare their magnitude with the magnitude of some of the largest positive eigenvalues. If the negative ones are smaller, it's probably safe to ignore them, but if they are large in magnitude, the results won't be useful. See the Notes section for more details. The smallest eigenvalue is -1.65983281781868e+16 and the largest is 4.561041740102009e+16.\n",
      "  warn(\n"
     ]
    },
    {
     "name": "stdout",
     "output_type": "stream",
     "text": [
      "DONE: Calculating beta group significance: permdisp sqeuclidean\n",
      "Calculating beta group significance with method permdisp and metric yule\n"
     ]
    },
    {
     "name": "stderr",
     "output_type": "stream",
     "text": [
      "/home/lauro/anaconda3/envs/qiime2-2022.2/lib/python3.8/site-packages/skbio/stats/ordination/_principal_coordinate_analysis.py:143: RuntimeWarning: The result contains negative eigenvalues. Please compare their magnitude with the magnitude of some of the largest positive eigenvalues. If the negative ones are smaller, it's probably safe to ignore them, but if they are large in magnitude, the results won't be useful. See the Notes section for more details. The smallest eigenvalue is -0.6660081053374008 and the largest is 5.0402274077819.\n",
      "  warn(\n"
     ]
    },
    {
     "name": "stderr",
     "output_type": "stream",
     "text": [
      "/home/lauro/anaconda3/envs/qiime2-2022.2/lib/python3.8/site-packages/skbio/stats/ordination/_principal_coordinate_analysis.py:143: RuntimeWarning: The result contains negative eigenvalues. Please compare their magnitude with the magnitude of some of the largest positive eigenvalues. If the negative ones are smaller, it's probably safe to ignore them, but if they are large in magnitude, the results won't be useful. See the Notes section for more details. The smallest eigenvalue is -0.63786373481314 and the largest is 3.080744744761027.\n",
      "  warn(\n"
     ]
    },
    {
     "name": "stderr",
     "output_type": "stream",
     "text": [
      "/home/lauro/anaconda3/envs/qiime2-2022.2/lib/python3.8/site-packages/skbio/stats/ordination/_principal_coordinate_analysis.py:143: RuntimeWarning: The result contains negative eigenvalues. Please compare their magnitude with the magnitude of some of the largest positive eigenvalues. If the negative ones are smaller, it's probably safe to ignore them, but if they are large in magnitude, the results won't be useful. See the Notes section for more details. The smallest eigenvalue is -0.39417829743724814 and the largest is 3.2875862269457268.\n",
      "  warn(\n"
     ]
    },
    {
     "name": "stderr",
     "output_type": "stream",
     "text": [
      "/home/lauro/anaconda3/envs/qiime2-2022.2/lib/python3.8/site-packages/skbio/stats/ordination/_principal_coordinate_analysis.py:143: RuntimeWarning: The result contains negative eigenvalues. Please compare their magnitude with the magnitude of some of the largest positive eigenvalues. If the negative ones are smaller, it's probably safe to ignore them, but if they are large in magnitude, the results won't be useful. See the Notes section for more details. The smallest eigenvalue is -0.4509048242868498 and the largest is 3.751259190428972.\n",
      "  warn(\n"
     ]
    },
    {
     "name": "stdout",
     "output_type": "stream",
     "text": [
      "DONE: Calculating beta group significance: permdisp yule\n"
     ]
    },
    {
     "data": {
      "text/plain": [
       "<Figure size 432x288 with 0 Axes>"
      ]
     },
     "metadata": {},
     "output_type": "display_data"
    }
   ],
   "source": [
    "methods = ('permanova', 'anosim', 'permdisp')\n",
    "for method in methods:\n",
    "    for metric, beta_diversity in beta_diversities.items():\n",
    "        print(f'Calculating beta group significance with method {method} and metric {metric}')\n",
    "        try:\n",
    "            beta_view = beta_group_significance(distance_matrix=beta_diversity, \n",
    "                                                metadata=metadata_qa.get_column(class_col), \n",
    "                                                pairwise=True, method=method).visualization\n",
    "            view_name = os.path.join(beta_path, f'beta-group-significance-{metric}-{method}.qzv')\n",
    "            beta_view.save(view_name)\n",
    "            print(f\"DONE: Calculating beta group significance: {method} {metric}\")\n",
    "        except Exception as e:\n",
    "            print(f\"ERROR: Calculating beta group significance: {method} {metric}\")"
   ]
  },
  {
   "cell_type": "markdown",
   "id": "c0de85cf",
   "metadata": {
    "papermill": {
     "duration": 0.057796,
     "end_time": "2023-06-07T16:47:42.168096",
     "exception": false,
     "start_time": "2023-06-07T16:47:42.110300",
     "status": "completed"
    },
    "tags": []
   },
   "source": [
    "### Beta group Rarefaction\n",
    "\n",
    "- [diversity beta_rarefaction](https://docs.qiime2.org/2022.8/plugins/available/diversity/beta-rarefaction/): Repeatedly rarefy a feature table to compare beta diversity results within a given rarefaction depth.  For a given beta diversity metric, this visualizer will provide: an Emperor jackknifed PCoA plot, samples clustered by UPGMA or neighbor joining with support calculation, and a heatmap showing the correlation between rarefaction trials of that beta diversity metric."
   ]
  }
 ],
 "metadata": {
  "celltoolbar": "Edit Metadata",
  "kernelspec": {
   "display_name": "Python 3 (ipykernel)",
   "language": "python",
   "name": "python3"
  },
  "language_info": {
   "codemirror_mode": {
    "name": "ipython",
    "version": 3
   },
   "file_extension": ".py",
   "mimetype": "text/x-python",
   "name": "python",
   "nbconvert_exporter": "python",
   "pygments_lexer": "ipython3",
   "version": "3.8.12"
  },
  "papermill": {
   "default_parameters": {},
   "duration": 659.247875,
   "end_time": "2023-06-07T16:47:43.143993",
   "environment_variables": {},
   "exception": null,
   "input_path": "nb-templates/step-diversity-analysis.ipynb",
   "output_path": "/home/lauro/nupeb/rede-micro/redemicro-andressa-lbtm/experiments/andressa-02/nb-executed-steps/step-diversity-analysis-andressa-02.ipynb",
   "parameters": {
    "base_dir": "/home/lauro/nupeb/rede-micro/redemicro-andressa-lbtm",
    "class_col": "state-name",
    "classifier_file": "/home/lauro/nupeb/rede-micro/models/silva-138-99-nb-classifier.qza",
    "experiment_name": "andressa-q20-trim_primer",
    "manifest_file": "/home/lauro/nupeb/rede-micro/redemicro-andressa-lbtm/data/manifest.csv",
    "metadata_file": "/home/lauro/nupeb/rede-micro/redemicro-andressa-lbtm/data/metadata.tsv",
    "overlap": 12,
    "phred": 20,
    "replace_files": false,
    "threads": 6,
    "trim": {
     "forward_primer": "CCTACGGGRSGCAGCAG",
     "overlap": 12,
     "reverse_primer": "GGACTACHVGGGTWTCTAAT"
    },
    "trunc_f": 0,
    "trunc_r": 0
   },
   "start_time": "2023-06-07T16:36:43.896118",
   "version": "2.3.4"
  }
 },
 "nbformat": 4,
 "nbformat_minor": 5
}