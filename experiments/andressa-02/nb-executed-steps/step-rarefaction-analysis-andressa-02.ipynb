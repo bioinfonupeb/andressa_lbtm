{
 "cells": [
  {
   "cell_type": "markdown",
   "id": "5c757b9d",
   "metadata": {
    "papermill": {
     "duration": 0.020534,
     "end_time": "2023-06-07T16:34:57.300732",
     "exception": false,
     "start_time": "2023-06-07T16:34:57.280198",
     "status": "completed"
    },
    "tags": []
   },
   "source": [
    "# STEP : Rarefaction Analysis\n",
    "\n",
    "Using QIIME2 to create rarefaction graphs.\n",
    "\n",
    "\n",
    "## Methods\n",
    "[qiime alpha_rarefaction](https://docs.qiime2.org/2023.2/plugins/available/diversity/alpha-rarefaction/)\n",
    "```\n",
    "Generate interactive alpha rarefaction curves by computing rarefactions\n",
    "between `min_depth` and `max_depth`. The number of intermediate depths to\n",
    "compute is controlled by the `steps` parameter, with n `iterations` being\n",
    "computed at each rarefaction depth. If sample metadata is provided, samples\n",
    "may be grouped based on distinct values within a metadata column.\n",
    "```\n"
   ]
  },
  {
   "cell_type": "markdown",
   "id": "9a29f55c",
   "metadata": {
    "papermill": {
     "duration": 0.026239,
     "end_time": "2023-06-07T16:34:57.340566",
     "exception": false,
     "start_time": "2023-06-07T16:34:57.314327",
     "status": "completed"
    },
    "tags": []
   },
   "source": [
    "## Setup and settings"
   ]
  },
  {
   "cell_type": "code",
   "execution_count": 1,
   "id": "eb3bb330",
   "metadata": {
    "ExecuteTime": {
     "end_time": "2022-09-22T21:43:54.326002Z",
     "start_time": "2022-09-22T21:43:47.911891Z"
    },
    "execution": {
     "iopub.execute_input": "2023-06-07T16:34:57.391415Z",
     "iopub.status.busy": "2023-06-07T16:34:57.390922Z",
     "iopub.status.idle": "2023-06-07T16:35:03.586889Z",
     "shell.execute_reply": "2023-06-07T16:35:03.586249Z"
    },
    "papermill": {
     "duration": 6.212857,
     "end_time": "2023-06-07T16:35:03.590148",
     "exception": false,
     "start_time": "2023-06-07T16:34:57.377291",
     "status": "completed"
    },
    "tags": []
   },
   "outputs": [],
   "source": [
    "# Importing packages\n",
    "import os\n",
    "import pandas as pd\n",
    "from qiime2 import Artifact\n",
    "from qiime2 import Visualization\n",
    "from qiime2 import Metadata\n",
    "from qiime2.plugins.diversity.visualizers import alpha_rarefaction\n",
    "from qiime2.plugins.diversity.visualizers import beta_rarefaction\n",
    "\n",
    "import matplotlib.pyplot as plt\n",
    "\n",
    "%matplotlib inline"
   ]
  },
  {
   "cell_type": "code",
   "execution_count": 2,
   "id": "e87e9d59",
   "metadata": {
    "ExecuteTime": {
     "end_time": "2022-09-22T21:43:54.330790Z",
     "start_time": "2022-09-22T21:43:54.328358Z"
    },
    "execution": {
     "iopub.execute_input": "2023-06-07T16:35:03.620746Z",
     "iopub.status.busy": "2023-06-07T16:35:03.620466Z",
     "iopub.status.idle": "2023-06-07T16:35:03.623562Z",
     "shell.execute_reply": "2023-06-07T16:35:03.622927Z"
    },
    "papermill": {
     "duration": 0.017449,
     "end_time": "2023-06-07T16:35:03.625021",
     "exception": false,
     "start_time": "2023-06-07T16:35:03.607572",
     "status": "completed"
    },
    "tags": []
   },
   "outputs": [],
   "source": [
    "# from qiime2.plugins import demux, deblur, quality_filter, \\\n",
    "#                            metadata, feature_table, alignment, \\\n",
    "#                            phylogeny, diversity, emperor, feature_classifier, \\\n",
    "#                            taxa, composition"
   ]
  },
  {
   "cell_type": "markdown",
   "id": "d9ab0992",
   "metadata": {
    "papermill": {
     "duration": 0.011588,
     "end_time": "2023-06-07T16:35:03.648211",
     "exception": false,
     "start_time": "2023-06-07T16:35:03.636623",
     "status": "completed"
    },
    "tags": []
   },
   "source": [
    "### Receiving the parameters\n",
    "\n",
    "The following cell can receive parameters using the [papermill](https://papermill.readthedocs.io/en/latest/) tool."
   ]
  },
  {
   "cell_type": "code",
   "execution_count": 3,
   "id": "b3bfe92a",
   "metadata": {
    "ExecuteTime": {
     "end_time": "2022-09-22T21:43:54.344271Z",
     "start_time": "2022-09-22T21:43:54.332262Z"
    },
    "execution": {
     "iopub.execute_input": "2023-06-07T16:35:03.672443Z",
     "iopub.status.busy": "2023-06-07T16:35:03.672195Z",
     "iopub.status.idle": "2023-06-07T16:35:03.675772Z",
     "shell.execute_reply": "2023-06-07T16:35:03.675159Z"
    },
    "papermill": {
     "duration": 0.017377,
     "end_time": "2023-06-07T16:35:03.677219",
     "exception": false,
     "start_time": "2023-06-07T16:35:03.659842",
     "status": "completed"
    },
    "tags": [
     "parameters"
    ]
   },
   "outputs": [],
   "source": [
    "metadata_file = '/home/lauro/nupeb/rede-micro/redemicro-miliane-nutri/data/raw/metadata/miliane-metadata-CxAC.tsv'\n",
    "base_dir = os.path.join('/', 'home', 'lauro', 'nupeb', 'rede-micro', 'redemicro-miliane-nutri')\n",
    "experiment_name = 'miliane-CxAC-trim'\n",
    "replace_files = False"
   ]
  },
  {
   "cell_type": "code",
   "execution_count": 4,
   "id": "7c41c1b7",
   "metadata": {
    "execution": {
     "iopub.execute_input": "2023-06-07T16:35:03.701050Z",
     "iopub.status.busy": "2023-06-07T16:35:03.700801Z",
     "iopub.status.idle": "2023-06-07T16:35:03.705812Z",
     "shell.execute_reply": "2023-06-07T16:35:03.705089Z"
    },
    "papermill": {
     "duration": 0.018758,
     "end_time": "2023-06-07T16:35:03.707334",
     "exception": false,
     "start_time": "2023-06-07T16:35:03.688576",
     "status": "completed"
    },
    "tags": [
     "injected-parameters"
    ]
   },
   "outputs": [],
   "source": [
    "# Parameters\n",
    "experiment_name = \"andressa-q20-trim_primer\"\n",
    "base_dir = \"/home/lauro/nupeb/rede-micro/redemicro-andressa-lbtm\"\n",
    "manifest_file = \"/home/lauro/nupeb/rede-micro/redemicro-andressa-lbtm/data/manifest.csv\"\n",
    "metadata_file = \"/home/lauro/nupeb/rede-micro/redemicro-andressa-lbtm/data/metadata.tsv\"\n",
    "class_col = \"state-name\"\n",
    "classifier_file = \"/home/lauro/nupeb/rede-micro/models/silva-138-99-nb-classifier.qza\"\n",
    "replace_files = False\n",
    "phred = 20\n",
    "trunc_f = 0\n",
    "trunc_r = 0\n",
    "overlap = 12\n",
    "threads = 6\n",
    "trim = {\n",
    "    \"overlap\": 12,\n",
    "    \"forward_primer\": \"CCTACGGGRSGCAGCAG\",\n",
    "    \"reverse_primer\": \"GGACTACHVGGGTWTCTAAT\",\n",
    "}\n"
   ]
  },
  {
   "cell_type": "code",
   "execution_count": 5,
   "id": "6613b0a0",
   "metadata": {
    "ExecuteTime": {
     "end_time": "2022-09-22T21:43:54.362004Z",
     "start_time": "2022-09-22T21:43:54.346365Z"
    },
    "execution": {
     "iopub.execute_input": "2023-06-07T16:35:03.733020Z",
     "iopub.status.busy": "2023-06-07T16:35:03.732705Z",
     "iopub.status.idle": "2023-06-07T16:35:03.737157Z",
     "shell.execute_reply": "2023-06-07T16:35:03.736449Z"
    },
    "papermill": {
     "duration": 0.018527,
     "end_time": "2023-06-07T16:35:03.738620",
     "exception": false,
     "start_time": "2023-06-07T16:35:03.720093",
     "status": "completed"
    },
    "tags": []
   },
   "outputs": [],
   "source": [
    "experiment_folder = os.path.abspath(os.path.join(base_dir, 'experiments', experiment_name))\n",
    "img_folder = os.path.abspath(os.path.join(experiment_folder, 'imgs'))"
   ]
  },
  {
   "cell_type": "markdown",
   "id": "dce6edfc",
   "metadata": {
    "papermill": {
     "duration": 0.011849,
     "end_time": "2023-06-07T16:35:03.762423",
     "exception": false,
     "start_time": "2023-06-07T16:35:03.750574",
     "status": "completed"
    },
    "tags": []
   },
   "source": [
    "### Defining names, paths and flags"
   ]
  },
  {
   "cell_type": "code",
   "execution_count": 6,
   "id": "612f32ac",
   "metadata": {
    "ExecuteTime": {
     "end_time": "2022-09-22T21:43:54.373657Z",
     "start_time": "2022-09-22T21:43:54.363586Z"
    },
    "execution": {
     "iopub.execute_input": "2023-06-07T16:35:03.787697Z",
     "iopub.status.busy": "2023-06-07T16:35:03.787371Z",
     "iopub.status.idle": "2023-06-07T16:35:03.794112Z",
     "shell.execute_reply": "2023-06-07T16:35:03.793209Z"
    },
    "papermill": {
     "duration": 0.020869,
     "end_time": "2023-06-07T16:35:03.795812",
     "exception": false,
     "start_time": "2023-06-07T16:35:03.774943",
     "status": "completed"
    },
    "tags": []
   },
   "outputs": [],
   "source": [
    "# QIIME2 Artifacts folder\n",
    "qiime_folder = os.path.join(experiment_folder, 'qiime-artifacts')\n",
    "\n",
    "# Input - DADA2 Artifacts\n",
    "dada2_tabs_path = os.path.join(qiime_folder, 'dada2-tabs.qza')\n",
    "dada2_reps_path = os.path.join(qiime_folder, 'dada2-reps.qza')\n",
    "dada2_stat_path = os.path.join(qiime_folder, 'dada2-stat.qza')\n",
    "\n",
    "# Output -Rarefaction Artifacts\n",
    "alpha_rarefaction_path = os.path.join(qiime_folder, 'alpha-rarefaction.qza')\n",
    "alpha_rarefaction_view_path = os.path.join(qiime_folder, 'alpha-rarefaction.qzv')\n",
    "\n",
    "# Flag - Load or create files\n",
    "need_tax = not (os.path.isfile(alpha_rarefaction_path)) or replace_files\n",
    "need_view = not (os.path.isfile(alpha_rarefaction_view_path)) or replace_files"
   ]
  },
  {
   "cell_type": "markdown",
   "id": "c30acc80",
   "metadata": {
    "papermill": {
     "duration": 0.011848,
     "end_time": "2023-06-07T16:35:03.819856",
     "exception": false,
     "start_time": "2023-06-07T16:35:03.808008",
     "status": "completed"
    },
    "tags": []
   },
   "source": [
    "## Step execution\n",
    "\n",
    "### Load input files\n",
    "\n",
    "This Step import the QIIME2 `SampleData[PairedEndSequencesWithQuality]` Artifact with all demultiplexed sequences and the `Metadata` file."
   ]
  },
  {
   "cell_type": "code",
   "execution_count": 7,
   "id": "398b815a",
   "metadata": {
    "ExecuteTime": {
     "end_time": "2022-09-22T21:43:54.398034Z",
     "start_time": "2022-09-22T21:43:54.375240Z"
    },
    "execution": {
     "iopub.execute_input": "2023-06-07T16:35:03.844643Z",
     "iopub.status.busy": "2023-06-07T16:35:03.844328Z",
     "iopub.status.idle": "2023-06-07T16:35:03.860973Z",
     "shell.execute_reply": "2023-06-07T16:35:03.860552Z"
    },
    "papermill": {
     "duration": 0.0309,
     "end_time": "2023-06-07T16:35:03.862523",
     "exception": false,
     "start_time": "2023-06-07T16:35:03.831623",
     "status": "completed"
    },
    "tags": []
   },
   "outputs": [],
   "source": [
    "#Load Metadata\n",
    "metadata_qa = Metadata.load(metadata_file)"
   ]
  },
  {
   "cell_type": "code",
   "execution_count": 8,
   "id": "a2f2a067",
   "metadata": {
    "ExecuteTime": {
     "end_time": "2022-09-22T21:43:54.827295Z",
     "start_time": "2022-09-22T21:43:54.399431Z"
    },
    "execution": {
     "iopub.execute_input": "2023-06-07T16:35:03.892340Z",
     "iopub.status.busy": "2023-06-07T16:35:03.892016Z",
     "iopub.status.idle": "2023-06-07T16:35:04.189687Z",
     "shell.execute_reply": "2023-06-07T16:35:04.188803Z"
    },
    "papermill": {
     "duration": 0.312408,
     "end_time": "2023-06-07T16:35:04.191662",
     "exception": false,
     "start_time": "2023-06-07T16:35:03.879254",
     "status": "completed"
    },
    "tags": []
   },
   "outputs": [],
   "source": [
    "tabs = Artifact.load(dada2_tabs_path)\n",
    "tabs_df = tabs.view(Metadata).to_dataframe().T"
   ]
  },
  {
   "cell_type": "markdown",
   "id": "d6b5c2d9",
   "metadata": {
    "papermill": {
     "duration": 0.012914,
     "end_time": "2023-06-07T16:35:04.222019",
     "exception": false,
     "start_time": "2023-06-07T16:35:04.209105",
     "status": "completed"
    },
    "tags": []
   },
   "source": [
    "## Alpha Rarefaction"
   ]
  },
  {
   "cell_type": "code",
   "execution_count": 9,
   "id": "f51e2312",
   "metadata": {
    "ExecuteTime": {
     "end_time": "2022-09-22T21:55:53.328300Z",
     "start_time": "2022-09-22T21:55:53.318166Z"
    },
    "execution": {
     "iopub.execute_input": "2023-06-07T16:35:04.248766Z",
     "iopub.status.busy": "2023-06-07T16:35:04.248509Z",
     "iopub.status.idle": "2023-06-07T16:35:04.255548Z",
     "shell.execute_reply": "2023-06-07T16:35:04.254791Z"
    },
    "papermill": {
     "duration": 0.022159,
     "end_time": "2023-06-07T16:35:04.257128",
     "exception": false,
     "start_time": "2023-06-07T16:35:04.234969",
     "status": "completed"
    },
    "tags": []
   },
   "outputs": [],
   "source": [
    "# Get min and maximum feature counts to set sampling depth\n",
    "rank_df = tabs_df.sum().sort_values()\n",
    "min_feature_count = int(rank_df.min())\n",
    "max_feature_count = int(rank_df.max())"
   ]
  },
  {
   "cell_type": "code",
   "execution_count": 10,
   "id": "cf07d2d9",
   "metadata": {
    "execution": {
     "iopub.execute_input": "2023-06-07T16:35:04.283389Z",
     "iopub.status.busy": "2023-06-07T16:35:04.283059Z",
     "iopub.status.idle": "2023-06-07T16:35:04.297583Z",
     "shell.execute_reply": "2023-06-07T16:35:04.296984Z"
    },
    "papermill": {
     "duration": 0.029742,
     "end_time": "2023-06-07T16:35:04.299315",
     "exception": false,
     "start_time": "2023-06-07T16:35:04.269573",
     "status": "completed"
    },
    "tags": []
   },
   "outputs": [],
   "source": [
    "# Add new columns with samples IDs to rarefaction\n",
    "meta_df = metadata_qa.to_dataframe()\n",
    "meta_df['samples'] = meta_df.index.to_list()\n",
    "metadata_qa = Metadata(meta_df)"
   ]
  },
  {
   "cell_type": "code",
   "execution_count": 11,
   "id": "dac348d8",
   "metadata": {
    "ExecuteTime": {
     "end_time": "2022-09-22T21:56:13.586159Z",
     "start_time": "2022-09-22T21:55:55.117935Z"
    },
    "execution": {
     "iopub.execute_input": "2023-06-07T16:35:04.330757Z",
     "iopub.status.busy": "2023-06-07T16:35:04.330339Z",
     "iopub.status.idle": "2023-06-07T16:35:22.538727Z",
     "shell.execute_reply": "2023-06-07T16:35:22.538106Z"
    },
    "papermill": {
     "duration": 18.225184,
     "end_time": "2023-06-07T16:35:22.541750",
     "exception": false,
     "start_time": "2023-06-07T16:35:04.316566",
     "status": "completed"
    },
    "tags": []
   },
   "outputs": [],
   "source": [
    "alpha_rar = alpha_rarefaction(\n",
    "    table = tabs,\n",
    "    max_depth = max_feature_count,\n",
    "    min_depth = 1,\n",
    "    metadata = metadata_qa,\n",
    ")"
   ]
  },
  {
   "cell_type": "code",
   "execution_count": 12,
   "id": "34789973",
   "metadata": {
    "ExecuteTime": {
     "end_time": "2022-09-22T21:56:13.632468Z",
     "start_time": "2022-09-22T21:56:13.589032Z"
    },
    "execution": {
     "iopub.execute_input": "2023-06-07T16:35:22.576262Z",
     "iopub.status.busy": "2023-06-07T16:35:22.575978Z",
     "iopub.status.idle": "2023-06-07T16:35:22.619982Z",
     "shell.execute_reply": "2023-06-07T16:35:22.619500Z"
    },
    "papermill": {
     "duration": 0.060441,
     "end_time": "2023-06-07T16:35:22.622987",
     "exception": false,
     "start_time": "2023-06-07T16:35:22.562546",
     "status": "completed"
    },
    "scrolled": true,
    "tags": []
   },
   "outputs": [
    {
     "data": {
      "text/html": [
       "<div><img onload=\"(function(div, url){\n",
       "if (typeof require !== 'undefined') {\n",
       "    var baseURL = require.toUrl('').split('/').slice(0, -2).join('/');\n",
       "} else {\n",
       "    var baseURL = JSON.parse(\n",
       "        document.getElementById('jupyter-config-data').innerHTML\n",
       "    ).baseUrl.slice(0, -1);\n",
       "}\n",
       "url = baseURL + url;\n",
       "fetch(url).then(function(res) {\n",
       "    if (res.status === 404) {\n",
       "        div.innerHTML = 'Install QIIME 2 Jupyter extension with:<br />' +\n",
       "                        '<code>jupyter serverextension enable --py qiime2' +\n",
       "                        ' --sys-prefix</code><br />then restart your server.' +\n",
       "                        '<br /><br />(Interactive output not available on ' +\n",
       "                        'static notebook viewer services like nbviewer.)';\n",
       "    } else if (res.status === 409) {\n",
       "        div.innerHTML = 'Visualization no longer in scope. Re-run this cell' +\n",
       "                        ' to see the visualization.';\n",
       "    } else if (res.ok) {\n",
       "        url = res.url;\n",
       "        div.innerHTML = '<iframe src=\\'' + url + '\\' style=\\'' +\n",
       "                        'width: 100%; height: 700px; border: 0;\\'>' +\n",
       "                        '</iframe><hr />Open in a: <a href=\\'' + url + '\\'' +\n",
       "                        ' target=\\'_blank\\'>new window</a>'\n",
       "    } else {\n",
       "        div.innerHTML = 'Something has gone wrong. Check notebook server for' +\n",
       "                        ' errors.';\n",
       "    }\n",
       "});\n",
       "})(this.parentElement, '/qiime2/redirect?location=/tmp/qiime2-archive-8fxlyl46')\" src=\"data:image/gif;base64,R0lGODlhAQABAIAAAP///wAAACH5BAEAAAAALAAAAAABAAEAAAICRAEAOw==\" /></div>"
      ],
      "text/plain": [
       "<visualization: Visualization uuid: bfa05e6b-260e-4e83-be0c-9920039db9a0>"
      ]
     },
     "execution_count": 12,
     "metadata": {},
     "output_type": "execute_result"
    }
   ],
   "source": [
    "alpha_rar.visualization.save(alpha_rarefaction_view_path)\n",
    "alpha_rar.visualization"
   ]
  },
  {
   "cell_type": "markdown",
   "id": "3176eb7a",
   "metadata": {
    "papermill": {
     "duration": 0.012646,
     "end_time": "2023-06-07T16:35:22.653158",
     "exception": false,
     "start_time": "2023-06-07T16:35:22.640512",
     "status": "completed"
    },
    "tags": []
   },
   "source": [
    "## Beta Rarefaction"
   ]
  },
  {
   "cell_type": "code",
   "execution_count": 13,
   "id": "1b28bb29",
   "metadata": {
    "ExecuteTime": {
     "end_time": "2022-09-22T21:56:19.645438Z",
     "start_time": "2022-09-22T21:56:17.687848Z"
    },
    "execution": {
     "iopub.execute_input": "2023-06-07T16:35:22.680378Z",
     "iopub.status.busy": "2023-06-07T16:35:22.680123Z",
     "iopub.status.idle": "2023-06-07T16:35:24.331864Z",
     "shell.execute_reply": "2023-06-07T16:35:24.331246Z"
    },
    "papermill": {
     "duration": 1.668816,
     "end_time": "2023-06-07T16:35:24.334901",
     "exception": false,
     "start_time": "2023-06-07T16:35:22.666085",
     "status": "completed"
    },
    "tags": []
   },
   "outputs": [
    {
     "data": {
      "image/png": "[encoded data removed]",
      "text/plain": [
       "<Figure size 432x288 with 2 Axes>"
      ]
     },
     "metadata": {
      "needs_background": "light"
     },
     "output_type": "display_data"
    }
   ],
   "source": [
    "choices = ('matching', 'aitchison', 'euclidean', 'generalized_unifrac', 'canberra', 'russellrao', 'braycurtis', 'cosine', 'jensenshannon', 'yule', 'weighted_normalized_unifrac', 'unweighted_unifrac', 'hamming', 'weighted_unifrac', 'cityblock', 'sokalmichener', 'seuclidean', 'rogerstanimoto', 'correlation', 'minkowski', 'kulsinski', 'chebyshev', 'sqeuclidean', 'sokalsneath', 'jaccard', 'dice', 'canberra_adkins')\n",
    "clustering_methods = ('nj', 'upgma')\n",
    "correlation_methods = ('pearson', 'spearman')\n",
    "\n",
    "sampling_depth = max(min_feature_count, 1)\n",
    "metric = 'braycurtis'\n",
    "clustering_method = clustering_methods[0]\n",
    "correlation_method = correlation_methods[1]\n",
    "\n",
    "beta_rar = beta_rarefaction(\n",
    "    table = tabs,\n",
    "    sampling_depth  = sampling_depth,\n",
    "    metadata = metadata_qa,\n",
    "    metric = metric,\n",
    "    clustering_method = clustering_method,\n",
    "    correlation_method = correlation_method,\n",
    ")"
   ]
  },
  {
   "cell_type": "markdown",
   "id": "41f0b970",
   "metadata": {
    "papermill": {
     "duration": 0.01398,
     "end_time": "2023-06-07T16:35:24.379162",
     "exception": false,
     "start_time": "2023-06-07T16:35:24.365182",
     "status": "completed"
    },
    "tags": []
   },
   "source": [
    " ## Beta diversity PCoA\n",
    " Ellipses represent 95% confidence intervals."
   ]
  },
  {
   "cell_type": "code",
   "execution_count": 14,
   "id": "044c61f4",
   "metadata": {
    "ExecuteTime": {
     "end_time": "2022-09-22T21:56:22.170995Z",
     "start_time": "2022-09-22T21:56:22.048827Z"
    },
    "execution": {
     "iopub.execute_input": "2023-06-07T16:35:24.408412Z",
     "iopub.status.busy": "2023-06-07T16:35:24.408235Z",
     "iopub.status.idle": "2023-06-07T16:35:24.520234Z",
     "shell.execute_reply": "2023-06-07T16:35:24.519714Z"
    },
    "papermill": {
     "duration": 0.128527,
     "end_time": "2023-06-07T16:35:24.521746",
     "exception": false,
     "start_time": "2023-06-07T16:35:24.393219",
     "status": "completed"
    },
    "tags": []
   },
   "outputs": [
    {
     "data": {
      "text/html": [
       "<div><img onload=\"(function(div, url){\n",
       "if (typeof require !== 'undefined') {\n",
       "    var baseURL = require.toUrl('').split('/').slice(0, -2).join('/');\n",
       "} else {\n",
       "    var baseURL = JSON.parse(\n",
       "        document.getElementById('jupyter-config-data').innerHTML\n",
       "    ).baseUrl.slice(0, -1);\n",
       "}\n",
       "url = baseURL + url;\n",
       "fetch(url).then(function(res) {\n",
       "    if (res.status === 404) {\n",
       "        div.innerHTML = 'Install QIIME 2 Jupyter extension with:<br />' +\n",
       "                        '<code>jupyter serverextension enable --py qiime2' +\n",
       "                        ' --sys-prefix</code><br />then restart your server.' +\n",
       "                        '<br /><br />(Interactive output not available on ' +\n",
       "                        'static notebook viewer services like nbviewer.)';\n",
       "    } else if (res.status === 409) {\n",
       "        div.innerHTML = 'Visualization no longer in scope. Re-run this cell' +\n",
       "                        ' to see the visualization.';\n",
       "    } else if (res.ok) {\n",
       "        url = res.url;\n",
       "        div.innerHTML = '<iframe src=\\'' + url + '\\' style=\\'' +\n",
       "                        'width: 100%; height: 700px; border: 0;\\'>' +\n",
       "                        '</iframe><hr />Open in a: <a href=\\'' + url + '\\'' +\n",
       "                        ' target=\\'_blank\\'>new window</a>'\n",
       "    } else {\n",
       "        div.innerHTML = 'Something has gone wrong. Check notebook server for' +\n",
       "                        ' errors.';\n",
       "    }\n",
       "});\n",
       "})(this.parentElement, '/qiime2/redirect?location=/tmp/qiime2-archive-l8so8bux')\" src=\"data:image/gif;base64,R0lGODlhAQABAIAAAP///wAAACH5BAEAAAAALAAAAAABAAEAAAICRAEAOw==\" /></div>"
      ],
      "text/plain": [
       "<visualization: Visualization uuid: e329850b-fb58-4bbb-9aba-d6ffb65b653a>"
      ]
     },
     "execution_count": 14,
     "metadata": {},
     "output_type": "execute_result"
    }
   ],
   "source": [
    "plot_tmp = f'{metric}-{clustering_method}-{correlation_method}-{sampling_depth}'\n",
    "beta_rarefaction_view_path = os.path.join(qiime_folder, f'beta-rarefaction-{plot_tmp}.qzv')\n",
    "beta_rar.visualization.save(beta_rarefaction_view_path)\n",
    "\n",
    "beta_rar.visualization"
   ]
  }
 ],
 "metadata": {
  "celltoolbar": "Edit Metadata",
  "kernelspec": {
   "display_name": "Python 3 (ipykernel)",
   "language": "python",
   "name": "python3"
  },
  "language_info": {
   "codemirror_mode": {
    "name": "ipython",
    "version": 3
   },
   "file_extension": ".py",
   "mimetype": "text/x-python",
   "name": "python",
   "nbconvert_exporter": "python",
   "pygments_lexer": "ipython3",
   "version": "3.8.12"
  },
  "papermill": {
   "default_parameters": {},
   "duration": 29.685855,
   "end_time": "2023-06-07T16:35:25.356560",
   "environment_variables": {},
   "exception": null,
   "input_path": "nb-templates/step-rarefaction-analysis.ipynb",
   "output_path": "/home/lauro/nupeb/rede-micro/redemicro-andressa-lbtm/experiments/andressa-02/nb-executed-steps/step-rarefaction-analysis-andressa-02.ipynb",
   "parameters": {
    "base_dir": "/home/lauro/nupeb/rede-micro/redemicro-andressa-lbtm",
    "class_col": "state-name",
    "classifier_file": "/home/lauro/nupeb/rede-micro/models/silva-138-99-nb-classifier.qza",
    "experiment_name": "andressa-q20-trim_primer",
    "manifest_file": "/home/lauro/nupeb/rede-micro/redemicro-andressa-lbtm/data/manifest.csv",
    "metadata_file": "/home/lauro/nupeb/rede-micro/redemicro-andressa-lbtm/data/metadata.tsv",
    "overlap": 12,
    "phred": 20,
    "replace_files": false,
    "threads": 6,
    "trim": {
     "forward_primer": "CCTACGGGRSGCAGCAG",
     "overlap": 12,
     "reverse_primer": "GGACTACHVGGGTWTCTAAT"
    },
    "trunc_f": 0,
    "trunc_r": 0
   },
   "start_time": "2023-06-07T16:34:55.670705",
   "version": "2.3.4"
  },
  "toc-autonumbering": false,
  "toc-showcode": false,
  "toc-showmarkdowntxt": false
 },
 "nbformat": 4,
 "nbformat_minor": 5
}