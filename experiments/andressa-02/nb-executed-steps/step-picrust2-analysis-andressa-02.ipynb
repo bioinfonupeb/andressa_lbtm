{
 "cells": [
  {
   "cell_type": "markdown",
   "id": "0e7f2330",
   "metadata": {
    "ExecuteTime": {
     "end_time": "2022-09-22T19:36:33.828188Z",
     "start_time": "2022-09-22T19:36:33.817323Z"
    },
    "papermill": {
     "duration": 0.035428,
     "end_time": "2023-02-10T18:22:44.466995",
     "exception": false,
     "start_time": "2023-02-10T18:22:44.431567",
     "status": "completed"
    },
    "tags": []
   },
   "source": [
    "### STEP : PICRUST2 Analysis\n",
    "\n",
    "\n",
    "\n",
    "#### Example\n",
    "\n",
    "- [PICRUST2 tutorial](https://github.com/picrust/picrust2/wiki/q2-picrust2-Tutorial)\n",
    "- [Limitations](https://github.com/picrust/picrust2/wiki/Key-Limitations)\n",
    "\n",
    "\n",
    "#### Methods\n",
    "- [composition](https://docs.qiime2.org/2022.8/plugins/available/composition/)"
   ]
  },
  {
   "cell_type": "markdown",
   "id": "843debbf",
   "metadata": {
    "papermill": {
     "duration": 0.025303,
     "end_time": "2023-02-10T18:22:44.520653",
     "exception": false,
     "start_time": "2023-02-10T18:22:44.495350",
     "status": "completed"
    },
    "tags": []
   },
   "source": [
    "## Setup and settings"
   ]
  },
  {
   "cell_type": "code",
   "execution_count": 1,
   "id": "965e28e5",
   "metadata": {
    "ExecuteTime": {
     "end_time": "2022-11-09T19:20:47.478806Z",
     "start_time": "2022-11-09T19:20:40.457657Z"
    },
    "execution": {
     "iopub.execute_input": "2023-02-10T18:22:44.580018Z",
     "iopub.status.busy": "2023-02-10T18:22:44.579522Z",
     "iopub.status.idle": "2023-02-10T18:22:51.935669Z",
     "shell.execute_reply": "2023-02-10T18:22:51.936329Z"
    },
    "papermill": {
     "duration": 7.390868,
     "end_time": "2023-02-10T18:22:51.936635",
     "exception": false,
     "start_time": "2023-02-10T18:22:44.545767",
     "status": "completed"
    },
    "tags": []
   },
   "outputs": [],
   "source": [
    "# Importing packages\n",
    "import os\n",
    "import biom\n",
    "import pandas as pd\n",
    "from qiime2 import Artifact\n",
    "from qiime2 import Visualization\n",
    "from qiime2 import Metadata\n",
    "\n",
    "from qiime2.plugins.feature_table.visualizers import summarize\n",
    "\n",
    "from picrust2.pipeline import full_pipeline\n",
    "from picrust2.default import (default_ref_dir, default_tables, default_regroup_map, default_pathway_map)\n",
    "from qiime2.plugins import picrust2\n",
    "\n",
    "%matplotlib inline"
   ]
  },
  {
   "cell_type": "markdown",
   "id": "530ceb60",
   "metadata": {
    "papermill": {
     "duration": 0.025289,
     "end_time": "2023-02-10T18:22:52.005255",
     "exception": false,
     "start_time": "2023-02-10T18:22:51.979966",
     "status": "completed"
    },
    "tags": []
   },
   "source": [
    "### Receiving the parameters\n",
    "\n",
    "The following cell can receive parameters using the [papermill](https://papermill.readthedocs.io/en/latest/) tool."
   ]
  },
  {
   "cell_type": "code",
   "execution_count": 2,
   "id": "18d874ea",
   "metadata": {
    "ExecuteTime": {
     "end_time": "2022-11-09T19:20:47.483140Z",
     "start_time": "2022-11-09T19:20:47.480386Z"
    },
    "execution": {
     "iopub.execute_input": "2023-02-10T18:22:52.059707Z",
     "iopub.status.busy": "2023-02-10T18:22:52.059132Z",
     "iopub.status.idle": "2023-02-10T18:22:52.061164Z",
     "shell.execute_reply": "2023-02-10T18:22:52.061533Z"
    },
    "papermill": {
     "duration": 0.03121,
     "end_time": "2023-02-10T18:22:52.061661",
     "exception": false,
     "start_time": "2023-02-10T18:22:52.030451",
     "status": "completed"
    },
    "tags": [
     "parameters"
    ]
   },
   "outputs": [],
   "source": [
    "metadata_file = '/home/lauro/nupeb/rede-micro/redemicro-miliane-nutri/data/raw/metadata/miliane-metadata-CxAC.tsv'\n",
    "base_dir = os.path.join('/', 'home', 'lauro', 'nupeb', 'rede-micro', 'redemicro-miliane-nutri')\n",
    "experiment_name = 'miliane-CxAC-trim'\n",
    "class_col = 'group-id'\n",
    "replace_files = False"
   ]
  },
  {
   "cell_type": "code",
   "execution_count": 3,
   "id": "d37d9bbd",
   "metadata": {
    "execution": {
     "iopub.execute_input": "2023-02-10T18:22:52.117569Z",
     "iopub.status.busy": "2023-02-10T18:22:52.117057Z",
     "iopub.status.idle": "2023-02-10T18:22:52.119528Z",
     "shell.execute_reply": "2023-02-10T18:22:52.119122Z"
    },
    "papermill": {
     "duration": 0.032005,
     "end_time": "2023-02-10T18:22:52.119632",
     "exception": false,
     "start_time": "2023-02-10T18:22:52.087627",
     "status": "completed"
    },
    "tags": [
     "injected-parameters"
    ]
   },
   "outputs": [],
   "source": [
    "# Parameters\n",
    "experiment_name = \"andressa-q20-trim_primer\"\n",
    "base_dir = \"/home/lauro/nupeb/rede-micro/redemicro-andressa-lbtm\"\n",
    "manifest_file = \"/home/lauro/nupeb/rede-micro/redemicro-andressa-lbtm/data/manifest.csv\"\n",
    "metadata_file = \"/home/lauro/nupeb/rede-micro/redemicro-andressa-lbtm/data/metadata.tsv\"\n",
    "class_col = \"state-name\"\n",
    "classifier_file = \"/home/lauro/nupeb/rede-micro/models/silva-138-99-nb-classifier.qza\"\n",
    "replace_files = False\n",
    "phred = 20\n",
    "trunc_f = 0\n",
    "trunc_r = 0\n",
    "overlap = 12\n",
    "threads = 6\n",
    "trim = {\n",
    "    \"overlap\": 12,\n",
    "    \"forward_primer\": \"CCTACGGGRSGCAGCAG\",\n",
    "    \"reverse_primer\": \"GGACTACHVGGGTWTCTAAT\",\n",
    "}\n"
   ]
  },
  {
   "cell_type": "code",
   "execution_count": 4,
   "id": "f38617d9",
   "metadata": {
    "ExecuteTime": {
     "end_time": "2022-11-09T19:20:47.515942Z",
     "start_time": "2022-11-09T19:20:47.498345Z"
    },
    "execution": {
     "iopub.execute_input": "2023-02-10T18:22:52.174888Z",
     "iopub.status.busy": "2023-02-10T18:22:52.174342Z",
     "iopub.status.idle": "2023-02-10T18:22:52.176437Z",
     "shell.execute_reply": "2023-02-10T18:22:52.176800Z"
    },
    "papermill": {
     "duration": 0.031441,
     "end_time": "2023-02-10T18:22:52.176932",
     "exception": false,
     "start_time": "2023-02-10T18:22:52.145491",
     "status": "completed"
    },
    "tags": []
   },
   "outputs": [],
   "source": [
    "experiment_folder = os.path.abspath(os.path.join(base_dir, 'experiments', experiment_name))\n",
    "img_folder = os.path.abspath(os.path.join(experiment_folder, 'imgs'))"
   ]
  },
  {
   "cell_type": "markdown",
   "id": "ea9b90fb",
   "metadata": {
    "papermill": {
     "duration": 0.025525,
     "end_time": "2023-02-10T18:22:52.229735",
     "exception": false,
     "start_time": "2023-02-10T18:22:52.204210",
     "status": "completed"
    },
    "tags": []
   },
   "source": [
    "### Defining names, paths and flags"
   ]
  },
  {
   "cell_type": "code",
   "execution_count": 5,
   "id": "45727eef",
   "metadata": {
    "ExecuteTime": {
     "end_time": "2022-11-09T19:20:47.527937Z",
     "start_time": "2022-11-09T19:20:47.517696Z"
    },
    "execution": {
     "iopub.execute_input": "2023-02-10T18:22:52.285781Z",
     "iopub.status.busy": "2023-02-10T18:22:52.285221Z",
     "iopub.status.idle": "2023-02-10T18:22:52.288637Z",
     "shell.execute_reply": "2023-02-10T18:22:52.289032Z"
    },
    "papermill": {
     "duration": 0.034149,
     "end_time": "2023-02-10T18:22:52.289172",
     "exception": false,
     "start_time": "2023-02-10T18:22:52.255023",
     "status": "completed"
    },
    "tags": []
   },
   "outputs": [
    {
     "name": "stdout",
     "output_type": "stream",
     "text": [
      "New picrust2-artifacts folder path created: /home/lauro/nupeb/rede-micro/redemicro-andressa-lbtm/experiments/andressa-q20-trim_primer/picrust2\n"
     ]
    }
   ],
   "source": [
    "# QIIME2 Artifacts folder\n",
    "qiime_folder = os.path.join(experiment_folder, 'qiime-artifacts')\n",
    "\n",
    "# Input - DADA2 Artifacts\n",
    "dada2_tabs_path = os.path.join(qiime_folder, 'dada2-tabs.qza')\n",
    "dada2_reqs_path = os.path.join(qiime_folder, 'dada2-reps.qza')\n",
    "\n",
    "# PICRUST@ folder\n",
    "picrust2_folder = os.path.abspath(os.path.join(experiment_folder, 'picrust2'))\n",
    "\n",
    "# Create path if it not exist\n",
    "if not os.path.isdir(picrust2_folder):\n",
    "    os.makedirs(picrust2_folder)\n",
    "    print(f'New picrust2-artifacts folder path created: {picrust2_folder}')"
   ]
  },
  {
   "cell_type": "code",
   "execution_count": 6,
   "id": "4903e645",
   "metadata": {
    "ExecuteTime": {
     "end_time": "2022-11-09T19:20:47.539993Z",
     "start_time": "2022-11-09T19:20:47.529653Z"
    },
    "execution": {
     "iopub.execute_input": "2023-02-10T18:22:52.347560Z",
     "iopub.status.busy": "2023-02-10T18:22:52.347077Z",
     "iopub.status.idle": "2023-02-10T18:22:52.349441Z",
     "shell.execute_reply": "2023-02-10T18:22:52.349055Z"
    },
    "papermill": {
     "duration": 0.032907,
     "end_time": "2023-02-10T18:22:52.349538",
     "exception": false,
     "start_time": "2023-02-10T18:22:52.316631",
     "status": "completed"
    },
    "tags": []
   },
   "outputs": [],
   "source": [
    "# Define paths for metagenome function artifacts\n",
    "ec_path = os.path.join(picrust2_folder, 'ec-pred-metagen.qza')\n",
    "ko_path = os.path.join(picrust2_folder, 'ko-pred-metagen.qza')\n",
    "pathway_path = os.path.join(picrust2_folder, 'pathway-abundance.qza')\n",
    "\n",
    "# Define paths for metagenome function visualization artifacts\n",
    "ec_viz_path = ec_path[:-1]+'v'\n",
    "ko_viz_path = ko_path[:-1]+'v'\n",
    "pathway_viz_path = pathway_path[:-1]+'v'\n",
    "\n",
    "# Define paths for biom -> tsv files (function X sample)\n",
    "pathway_fpath = os.path.join(picrust2_folder, 'pathway.tsv')\n",
    "ec_fpath = os.path.join(picrust2_folder, 'ec.tsv')\n",
    "ko_fpath = os.path.join(picrust2_folder, 'ko.tsv')\n",
    "\n",
    "# Define paths for biom -> tsv files (function X sample) - with descriptions\n",
    "pathway_desc_fpath = os.path.join(picrust2_folder, 'pathway-desc.tsv')\n",
    "ec_desc_fpath = os.path.join(picrust2_folder, 'ec-desc.tsv')\n",
    "ko_desc_fpath = os.path.join(picrust2_folder, 'ko-desc.tsv')"
   ]
  },
  {
   "cell_type": "markdown",
   "id": "0999a1b2",
   "metadata": {
    "papermill": {
     "duration": 0.02596,
     "end_time": "2023-02-10T18:22:52.403188",
     "exception": false,
     "start_time": "2023-02-10T18:22:52.377228",
     "status": "completed"
    },
    "tags": []
   },
   "source": [
    "## Step execution\n",
    "\n",
    "### Load input files\n",
    "\n",
    "This Step import the QIIME2 `FeatureTable[Frequency]` Artifact and the `Metadata` file."
   ]
  },
  {
   "cell_type": "code",
   "execution_count": 7,
   "id": "8f299d1a",
   "metadata": {
    "ExecuteTime": {
     "end_time": "2022-11-09T19:20:47.610793Z",
     "start_time": "2022-11-09T19:20:47.541540Z"
    },
    "execution": {
     "iopub.execute_input": "2023-02-10T18:22:52.461122Z",
     "iopub.status.busy": "2023-02-10T18:22:52.460404Z",
     "iopub.status.idle": "2023-02-10T18:22:52.521491Z",
     "shell.execute_reply": "2023-02-10T18:22:52.521014Z"
    },
    "papermill": {
     "duration": 0.091428,
     "end_time": "2023-02-10T18:22:52.521598",
     "exception": false,
     "start_time": "2023-02-10T18:22:52.430170",
     "status": "completed"
    },
    "tags": []
   },
   "outputs": [],
   "source": [
    "#Load Metadata\n",
    "metadata_qa = Metadata.load(metadata_file)\n",
    "\n",
    "#Load FeatureTable[Frequency]\n",
    "tabs = Artifact.load(dada2_tabs_path)\n",
    "\n",
    "#Load FeatureTable[Sequence]\n",
    "seqs = Artifact.load(dada2_reqs_path)"
   ]
  },
  {
   "cell_type": "markdown",
   "id": "4f1b06d4",
   "metadata": {
    "papermill": {
     "duration": 0.025903,
     "end_time": "2023-02-10T18:22:52.575018",
     "exception": false,
     "start_time": "2023-02-10T18:22:52.549115",
     "status": "completed"
    },
    "tags": []
   },
   "source": [
    "### Execute full pipelie\n",
    "\n",
    "The entire PICRUSt2 pipeline will be run using a single method, called `picrust2.methods.full_pipeline`. This method will run each of the 4 key steps: \n",
    "\n",
    "1. sequence placement\n",
    "2. hidden-state prediction of genomes\n",
    "3. metagenome prediction\n",
    "4. pathway-level predictions.\n",
    "\n",
    "More information on [Documentation](https://github.com/picrust/picrust2/wiki/Full-pipeline-script)."
   ]
  },
  {
   "cell_type": "code",
   "execution_count": 8,
   "id": "2c4f3874",
   "metadata": {
    "ExecuteTime": {
     "end_time": "2022-11-09T19:20:47.642417Z",
     "start_time": "2022-11-09T19:20:47.612547Z"
    },
    "execution": {
     "iopub.execute_input": "2023-02-10T18:22:52.632112Z",
     "iopub.status.busy": "2023-02-10T18:22:52.631381Z",
     "iopub.status.idle": "2023-02-10T18:31:33.567761Z",
     "shell.execute_reply": "2023-02-10T18:31:33.568292Z"
    },
    "papermill": {
     "duration": 520.967544,
     "end_time": "2023-02-10T18:31:33.568476",
     "exception": false,
     "start_time": "2023-02-10T18:22:52.600932",
     "status": "completed"
    },
    "scrolled": true,
    "tags": []
   },
   "outputs": [
    {
     "name": "stderr",
     "output_type": "stream",
     "text": [
      "582 of 582 sequence ids overlap between input table and FASTA.\n",
      "\n",
      "Placing sequences onto reference tree\n",
      "place_seqs.py --study_fasta /tmp/tmpkmz543og/seqs.fna --ref_dir /home/lauro/anaconda3/envs/qiime2-2021.11/lib/python3.8/site-packages/picrust2/default_files/prokaryotic/pro_ref --out_tree /tmp/tmpkmz543og/picrust2_out/out.tre --processes 6 --intermediate /tmp/tmpkmz543og/picrust2_out/intermediate/place_seqs --min_align 0.8 --chunk_size 5000 --placement_tool sepp --verbose\n"
     ]
    },
    {
     "name": "stdout",
     "output_type": "stream",
     "text": [
      "\n",
      "['run_sepp.py', '--tree', '/home/lauro/anaconda3/envs/qiime2-2021.11/lib/python3.8/site-packages/picrust2/default_files/prokaryotic/pro_ref/pro_ref.tre', '--raxml', '/home/lauro/anaconda3/envs/qiime2-2021.11/lib/python3.8/site-packages/picrust2/default_files/prokaryotic/pro_ref/pro_ref.raxml_info', '--cpu', '6', '--molecule', 'dna', '--outdir', '/tmp/tmpkmz543og/picrust2_out/intermediate/place_seqs/sepp_out', '-seed', '297834', '--alignment', '/home/lauro/anaconda3/envs/qiime2-2021.11/lib/python3.8/site-packages/picrust2/default_files/prokaryotic/pro_ref/pro_ref.fna', '--fragment', '/tmp/tmpkmz543og/picrust2_out/intermediate/place_seqs/study_seqs_filtered.fasta']\n",
      "\n",
      "                                              ....      ....  \n",
      "                                             '' '||.   .||'   \n",
      "                                                  ||  ||      \n",
      "                                                  '|.|'       \n",
      "     ...'   ....   ... ...  ... ...   ....        .|'|.       \n",
      "    |  ||  '' .||   ||'  ||  ||'  || '' .||      .|'  ||      \n",
      "     |''   .|' ||   ||    |  ||    | .|' ||     .|'|.  ||     \n",
      "    '....  '|..'|'. ||...'   ||...'  '|..'|.    '||'    ||:.  \n",
      "    '....'          ||       ||                               \n",
      "                   ''''     ''''   v0.6.1 (c) 2017-2020\n",
      "                                   by Lucas Czech and Pierre Barbera\n",
      "\n",
      "Invocation:                        gappa examine graft --jplace-path /tmp/tmpkmz543og/picrust2_out/intermediate/place_seqs/sepp_out/output_placement.json --fully-resolve --out-dir /tmp/tmpkmz543og/picrust2_out/intermediate/place_seqs/sepp_out\n",
      "Command:                           gappa examine graft\n",
      "\n",
      "Input:\n",
      "  --jplace-path                    /tmp/tmpkmz543og/picrust2_out/intermediate/place_seqs/sepp_out/output_placement.json\n",
      "\n",
      "Settings:\n",
      "  --fully-resolve                  true\n",
      "  --name-prefix\n",
      "\n",
      "Output:\n",
      "  --out-dir                        /tmp/tmpkmz543og/picrust2_out/intermediate/place_seqs/sepp_out\n",
      "  --file-prefix                    \n",
      "  --file-suffix\n",
      "\n",
      "Global Options:\n",
      "  --allow-file-overwriting         false\n",
      "  --verbose                        false\n",
      "  --threads                        4\n",
      "  --log-file\n",
      "\n",
      "Run the following command to get the references that need to be cited:\n",
      "`gappa tools citation Czech2020-genesis-and-gappa`\n",
      "\n",
      "Started 2023-02-10 18:25:52\n",
      "\n",
      "Found 1 jplace file\n",
      "\n",
      "Finished 2023-02-10 18:25:53\n",
      "\n",
      "\n"
     ]
    },
    {
     "name": "stderr",
     "output_type": "stream",
     "text": [
      "hmmalign --trim --dna --mapali /home/lauro/anaconda3/envs/qiime2-2021.11/lib/python3.8/site-packages/picrust2/default_files/prokaryotic/pro_ref/pro_ref.fna --informat FASTA -o /tmp/tmpkmz543og/picrust2_out/intermediate/place_seqs/query_align.stockholm /home/lauro/anaconda3/envs/qiime2-2021.11/lib/python3.8/site-packages/picrust2/default_files/prokaryotic/pro_ref/pro_ref.hmm /tmp/tmpkmz543og/seqs.fna\n",
      "\n",
      "Warning - 2 input sequences aligned poorly to reference sequences (--min_align option specified a minimum proportion of 0.8 aligning to reference sequences). These input sequences will not be placed and will be excluded from downstream steps.\n",
      "\n",
      "This is the set of poorly aligned input sequences to be excluded: 11e8073021c82971d265bcb75c7806d9, 212778300405ae68eba57a6de181bee1\n",
      "\n",
      "Raw input sequences ranged in length from 199 to 431\n",
      "\n",
      "run_sepp.py --tree /home/lauro/anaconda3/envs/qiime2-2021.11/lib/python3.8/site-packages/picrust2/default_files/prokaryotic/pro_ref/pro_ref.tre --raxml /home/lauro/anaconda3/envs/qiime2-2021.11/lib/python3.8/site-packages/picrust2/default_files/prokaryotic/pro_ref/pro_ref.raxml_info --cpu 6 --molecule dna --outdir /tmp/tmpkmz543og/picrust2_out/intermediate/place_seqs/sepp_out -seed 297834 --alignment /home/lauro/anaconda3/envs/qiime2-2021.11/lib/python3.8/site-packages/picrust2/default_files/prokaryotic/pro_ref/pro_ref.fna --fragment /tmp/tmpkmz543og/picrust2_out/intermediate/place_seqs/study_seqs_filtered.fasta\n",
      "[18:23:19] config.py (line 349):     INFO: Seed number: 297834\n",
      "[18:23:19] algorithm.py (line 258):     INFO: Reading input alignment: <_io.TextIOWrapper name='/home/lauro/anaconda3/envs/qiime2-2021.11/lib/python3.8/site-packages/picrust2/default_files/prokaryotic/pro_ref/pro_ref.fna' mode='r' encoding='UTF-8'>\n",
      "[18:23:19] algorithm.py (line 265):     INFO: Reading input tree: <_io.TextIOWrapper name='/home/lauro/anaconda3/envs/qiime2-2021.11/lib/python3.8/site-packages/picrust2/default_files/prokaryotic/pro_ref/pro_ref.tre' mode='r' encoding='UTF-8'>\n",
      "[18:23:20] algorithm.py (line 238):     INFO: Decomposition Sizes are set to alignment: 2000 placement: 2000\n",
      "[18:23:23] exhaustive.py (line 350):     INFO: Breaking into 16 placement subsets.\n",
      "[18:23:24] exhaustive.py (line 397):     INFO: Breaking into 16 alignment subsets.\n",
      "[18:23:24] filemgr.py (line 129):     INFO: Root temp directory built: /tmp/sepp/output.8e_5hh82\n",
      "[18:23:24] exhaustive.py (line 412):     INFO: Breaking each alignment subset into 3 fragment chunks.\n",
      "[18:23:26] jobs.py (line 131):     INFO: Finished hmmbuild Job with input: /tmp/sepp/output.8e_5hh82/root/P_3/A_3_0/hmmbuild.input.5xlgbgsy.fasta\n",
      "[18:23:26] jobs.py (line 131):     INFO: Finished hmmbuild Job with input: /tmp/sepp/output.8e_5hh82/root/P_4/A_4_0/hmmbuild.input.ezhkprvb.fasta\n",
      "[18:23:26] jobs.py (line 131):     INFO: Finished hmmbuild Job with input: /tmp/sepp/output.8e_5hh82/root/P_1/A_1_0/hmmbuild.input.yiq34m94.fasta\n",
      "[18:23:26] jobs.py (line 131):     INFO: Finished hmmbuild Job with input: /tmp/sepp/output.8e_5hh82/root/P_2/A_2_0/hmmbuild.input.3287g_61.fasta\n",
      "[18:23:26] jobs.py (line 131):     INFO: Finished hmmbuild Job with input: /tmp/sepp/output.8e_5hh82/root/P_0/A_0_0/hmmbuild.input.4vpkqspx.fasta\n",
      "[18:23:26] jobs.py (line 131):     INFO: Finished hmmbuild Job with input: /tmp/sepp/output.8e_5hh82/root/P_5/A_5_0/hmmbuild.input.ljkifm2s.fasta\n",
      "[18:23:27] jobs.py (line 131):     INFO: Finished hmmbuild Job with input: /tmp/sepp/output.8e_5hh82/root/P_9/A_9_0/hmmbuild.input.u4j7r30x.fasta\n",
      "[18:23:27] jobs.py (line 131):     INFO: Finished hmmbuild Job with input: /tmp/sepp/output.8e_5hh82/root/P_6/A_6_0/hmmbuild.input.ifbahyck.fasta\n",
      "[18:23:27] jobs.py (line 131):     INFO: Finished hmmbuild Job with input: /tmp/sepp/output.8e_5hh82/root/P_7/A_7_0/hmmbuild.input.n37o7hzb.fasta\n",
      "[18:23:27] jobs.py (line 131):     INFO: Finished hmmbuild Job with input: /tmp/sepp/output.8e_5hh82/root/P_8/A_8_0/hmmbuild.input.wiiveuyl.fasta\n",
      "[18:23:27] jobs.py (line 131):     INFO: Finished hmmbuild Job with input: /tmp/sepp/output.8e_5hh82/root/P_10/A_10_0/hmmbuild.input.ajsh8jow.fasta\n",
      "[18:23:27] jobs.py (line 131):     INFO: Finished hmmbuild Job with input: /tmp/sepp/output.8e_5hh82/root/P_11/A_11_0/hmmbuild.input.dqpyesa7.fasta\n",
      "[18:23:28] jobs.py (line 131):     INFO: Finished hmmbuild Job with input: /tmp/sepp/output.8e_5hh82/root/P_12/A_12_0/hmmbuild.input.rkskgo_1.fasta\n",
      "[18:23:28] jobs.py (line 131):     INFO: Finished hmmbuild Job with input: /tmp/sepp/output.8e_5hh82/root/P_15/A_15_0/hmmbuild.input.448syk0f.fasta\n",
      "[18:23:28] jobs.py (line 131):     INFO: Finished hmmbuild Job with input: /tmp/sepp/output.8e_5hh82/root/P_14/A_14_0/hmmbuild.input.wrk_dqbb.fasta\n",
      "[18:23:28] jobs.py (line 131):     INFO: Finished hmmbuild Job with input: /tmp/sepp/output.8e_5hh82/root/P_13/A_13_0/hmmbuild.input.6u4d2ea6.fasta\n",
      "[18:23:30] jobs.py (line 131):     INFO: Finished hmmsearch Job with input: model:/tmp/sepp/output.8e_5hh82/root/P_3/A_3_0/hmmbuild.model.s7h10fyb, fragments:/tmp/sepp/output.8e_5hh82/fragment_chunks/fragment_chunk_0av86hz_f.fasta, elim:99999999, filter:False, output:/tmp/sepp/output.8e_5hh82/root/P_3/A_3_0/FC_3_0_0/hmmsearch.results.miy1j5l1\n",
      "[18:23:31] jobs.py (line 131):     INFO: Finished hmmsearch Job with input: model:/tmp/sepp/output.8e_5hh82/root/P_4/A_4_0/hmmbuild.model.m_r7skc0, fragments:/tmp/sepp/output.8e_5hh82/fragment_chunks/fragment_chunk_0av86hz_f.fasta, elim:99999999, filter:False, output:/tmp/sepp/output.8e_5hh82/root/P_4/A_4_0/FC_4_0_0/hmmsearch.results.o93gmosr\n",
      "[18:23:32] jobs.py (line 131):     INFO: Finished hmmsearch Job with input: model:/tmp/sepp/output.8e_5hh82/root/P_3/A_3_0/hmmbuild.model.s7h10fyb, fragments:/tmp/sepp/output.8e_5hh82/fragment_chunks/fragment_chunk_176wbti64.fasta, elim:99999999, filter:False, output:/tmp/sepp/output.8e_5hh82/root/P_3/A_3_0/FC_3_0_1/hmmsearch.results.5n8q1rql\n",
      "[18:23:32] jobs.py (line 131):     INFO: Finished hmmsearch Job with input: model:/tmp/sepp/output.8e_5hh82/root/P_4/A_4_0/hmmbuild.model.m_r7skc0, fragments:/tmp/sepp/output.8e_5hh82/fragment_chunks/fragment_chunk_176wbti64.fasta, elim:99999999, filter:False, output:/tmp/sepp/output.8e_5hh82/root/P_4/A_4_0/FC_4_0_1/hmmsearch.results.p1jhgd2g\n",
      "[18:23:33] jobs.py (line 131):     INFO: Finished hmmsearch Job with input: model:/tmp/sepp/output.8e_5hh82/root/P_3/A_3_0/hmmbuild.model.s7h10fyb, fragments:/tmp/sepp/output.8e_5hh82/fragment_chunks/fragment_chunk_2lfsajulk.fasta, elim:99999999, filter:False, output:/tmp/sepp/output.8e_5hh82/root/P_3/A_3_0/FC_3_0_2/hmmsearch.results.g0jq7w66\n",
      "[18:23:33] jobs.py (line 131):     INFO: Finished hmmsearch Job with input: model:/tmp/sepp/output.8e_5hh82/root/P_4/A_4_0/hmmbuild.model.m_r7skc0, fragments:/tmp/sepp/output.8e_5hh82/fragment_chunks/fragment_chunk_2lfsajulk.fasta, elim:99999999, filter:False, output:/tmp/sepp/output.8e_5hh82/root/P_4/A_4_0/FC_4_0_2/hmmsearch.results.nxij3nci\n",
      "[18:23:34] jobs.py (line 131):     INFO: Finished hmmsearch Job with input: model:/tmp/sepp/output.8e_5hh82/root/P_1/A_1_0/hmmbuild.model.0o71kvvp, fragments:/tmp/sepp/output.8e_5hh82/fragment_chunks/fragment_chunk_0av86hz_f.fasta, elim:99999999, filter:False, output:/tmp/sepp/output.8e_5hh82/root/P_1/A_1_0/FC_1_0_0/hmmsearch.results.uk3ssneb\n",
      "[18:23:35] jobs.py (line 131):     INFO: Finished hmmsearch Job with input: model:/tmp/sepp/output.8e_5hh82/root/P_2/A_2_0/hmmbuild.model.wk_kee45, fragments:/tmp/sepp/output.8e_5hh82/fragment_chunks/fragment_chunk_2lfsajulk.fasta, elim:99999999, filter:False, output:/tmp/sepp/output.8e_5hh82/root/P_2/A_2_0/FC_2_0_2/hmmsearch.results.p4s3yuaf\n",
      "[18:23:36] jobs.py (line 131):     INFO: Finished hmmsearch Job with input: model:/tmp/sepp/output.8e_5hh82/root/P_2/A_2_0/hmmbuild.model.wk_kee45, fragments:/tmp/sepp/output.8e_5hh82/fragment_chunks/fragment_chunk_176wbti64.fasta, elim:99999999, filter:False, output:/tmp/sepp/output.8e_5hh82/root/P_2/A_2_0/FC_2_0_1/hmmsearch.results.dvq1n_ia\n",
      "[18:23:36] jobs.py (line 131):     INFO: Finished hmmsearch Job with input: model:/tmp/sepp/output.8e_5hh82/root/P_1/A_1_0/hmmbuild.model.0o71kvvp, fragments:/tmp/sepp/output.8e_5hh82/fragment_chunks/fragment_chunk_176wbti64.fasta, elim:99999999, filter:False, output:/tmp/sepp/output.8e_5hh82/root/P_1/A_1_0/FC_1_0_1/hmmsearch.results.vkd6buyg\n",
      "[18:23:37] jobs.py (line 131):     INFO: Finished hmmsearch Job with input: model:/tmp/sepp/output.8e_5hh82/root/P_1/A_1_0/hmmbuild.model.0o71kvvp, fragments:/tmp/sepp/output.8e_5hh82/fragment_chunks/fragment_chunk_2lfsajulk.fasta, elim:99999999, filter:False, output:/tmp/sepp/output.8e_5hh82/root/P_1/A_1_0/FC_1_0_2/hmmsearch.results.sxs3kr1o\n",
      "[18:23:37] jobs.py (line 131):     INFO: Finished hmmsearch Job with input: model:/tmp/sepp/output.8e_5hh82/root/P_2/A_2_0/hmmbuild.model.wk_kee45, fragments:/tmp/sepp/output.8e_5hh82/fragment_chunks/fragment_chunk_0av86hz_f.fasta, elim:99999999, filter:False, output:/tmp/sepp/output.8e_5hh82/root/P_2/A_2_0/FC_2_0_0/hmmsearch.results.wg5r_t1r\n",
      "[18:23:39] jobs.py (line 131):     INFO: Finished hmmsearch Job with input: model:/tmp/sepp/output.8e_5hh82/root/P_0/A_0_0/hmmbuild.model.twaz2tjt, fragments:/tmp/sepp/output.8e_5hh82/fragment_chunks/fragment_chunk_176wbti64.fasta, elim:99999999, filter:False, output:/tmp/sepp/output.8e_5hh82/root/P_0/A_0_0/FC_0_0_1/hmmsearch.results.z2s61cjk\n",
      "[18:23:39] jobs.py (line 131):     INFO: Finished hmmsearch Job with input: model:/tmp/sepp/output.8e_5hh82/root/P_0/A_0_0/hmmbuild.model.twaz2tjt, fragments:/tmp/sepp/output.8e_5hh82/fragment_chunks/fragment_chunk_0av86hz_f.fasta, elim:99999999, filter:False, output:/tmp/sepp/output.8e_5hh82/root/P_0/A_0_0/FC_0_0_0/hmmsearch.results.28x0lr90\n",
      "[18:23:39] jobs.py (line 131):     INFO: Finished hmmsearch Job with input: model:/tmp/sepp/output.8e_5hh82/root/P_0/A_0_0/hmmbuild.model.twaz2tjt, fragments:/tmp/sepp/output.8e_5hh82/fragment_chunks/fragment_chunk_2lfsajulk.fasta, elim:99999999, filter:False, output:/tmp/sepp/output.8e_5hh82/root/P_0/A_0_0/FC_0_0_2/hmmsearch.results.bnzbwxla\n",
      "[18:23:40] jobs.py (line 131):     INFO: Finished hmmsearch Job with input: model:/tmp/sepp/output.8e_5hh82/root/P_5/A_5_0/hmmbuild.model.dvahlcr_, fragments:/tmp/sepp/output.8e_5hh82/fragment_chunks/fragment_chunk_0av86hz_f.fasta, elim:99999999, filter:False, output:/tmp/sepp/output.8e_5hh82/root/P_5/A_5_0/FC_5_0_0/hmmsearch.results.ukgaoy4i\n",
      "[18:23:40] jobs.py (line 131):     INFO: Finished hmmsearch Job with input: model:/tmp/sepp/output.8e_5hh82/root/P_5/A_5_0/hmmbuild.model.dvahlcr_, fragments:/tmp/sepp/output.8e_5hh82/fragment_chunks/fragment_chunk_2lfsajulk.fasta, elim:99999999, filter:False, output:/tmp/sepp/output.8e_5hh82/root/P_5/A_5_0/FC_5_0_2/hmmsearch.results.qt8q2gtf\n",
      "[18:23:41] jobs.py (line 131):     INFO: Finished hmmsearch Job with input: model:/tmp/sepp/output.8e_5hh82/root/P_5/A_5_0/hmmbuild.model.dvahlcr_, fragments:/tmp/sepp/output.8e_5hh82/fragment_chunks/fragment_chunk_176wbti64.fasta, elim:99999999, filter:False, output:/tmp/sepp/output.8e_5hh82/root/P_5/A_5_0/FC_5_0_1/hmmsearch.results.9xpehz_6\n",
      "[18:23:42] jobs.py (line 131):     INFO: Finished hmmsearch Job with input: model:/tmp/sepp/output.8e_5hh82/root/P_9/A_9_0/hmmbuild.model.kchtmylu, fragments:/tmp/sepp/output.8e_5hh82/fragment_chunks/fragment_chunk_0av86hz_f.fasta, elim:99999999, filter:False, output:/tmp/sepp/output.8e_5hh82/root/P_9/A_9_0/FC_9_0_0/hmmsearch.results.7734smga\n",
      "[18:23:44] jobs.py (line 131):     INFO: Finished hmmsearch Job with input: model:/tmp/sepp/output.8e_5hh82/root/P_9/A_9_0/hmmbuild.model.kchtmylu, fragments:/tmp/sepp/output.8e_5hh82/fragment_chunks/fragment_chunk_176wbti64.fasta, elim:99999999, filter:False, output:/tmp/sepp/output.8e_5hh82/root/P_9/A_9_0/FC_9_0_1/hmmsearch.results.3_yzuf3p\n",
      "[18:23:44] jobs.py (line 131):     INFO: Finished hmmsearch Job with input: model:/tmp/sepp/output.8e_5hh82/root/P_6/A_6_0/hmmbuild.model.31wtmf0l, fragments:/tmp/sepp/output.8e_5hh82/fragment_chunks/fragment_chunk_2lfsajulk.fasta, elim:99999999, filter:False, output:/tmp/sepp/output.8e_5hh82/root/P_6/A_6_0/FC_6_0_2/hmmsearch.results.kxq2viyn\n",
      "[18:23:44] jobs.py (line 131):     INFO: Finished hmmsearch Job with input: model:/tmp/sepp/output.8e_5hh82/root/P_9/A_9_0/hmmbuild.model.kchtmylu, fragments:/tmp/sepp/output.8e_5hh82/fragment_chunks/fragment_chunk_2lfsajulk.fasta, elim:99999999, filter:False, output:/tmp/sepp/output.8e_5hh82/root/P_9/A_9_0/FC_9_0_2/hmmsearch.results.h8xyuzie\n",
      "[18:23:44] jobs.py (line 131):     INFO: Finished hmmsearch Job with input: model:/tmp/sepp/output.8e_5hh82/root/P_6/A_6_0/hmmbuild.model.31wtmf0l, fragments:/tmp/sepp/output.8e_5hh82/fragment_chunks/fragment_chunk_176wbti64.fasta, elim:99999999, filter:False, output:/tmp/sepp/output.8e_5hh82/root/P_6/A_6_0/FC_6_0_1/hmmsearch.results.qzox2_qr\n",
      "[18:23:45] jobs.py (line 131):     INFO: Finished hmmsearch Job with input: model:/tmp/sepp/output.8e_5hh82/root/P_6/A_6_0/hmmbuild.model.31wtmf0l, fragments:/tmp/sepp/output.8e_5hh82/fragment_chunks/fragment_chunk_0av86hz_f.fasta, elim:99999999, filter:False, output:/tmp/sepp/output.8e_5hh82/root/P_6/A_6_0/FC_6_0_0/hmmsearch.results.vg9ye161\n",
      "[18:23:46] jobs.py (line 131):     INFO: Finished hmmsearch Job with input: model:/tmp/sepp/output.8e_5hh82/root/P_7/A_7_0/hmmbuild.model.zx6gah9w, fragments:/tmp/sepp/output.8e_5hh82/fragment_chunks/fragment_chunk_0av86hz_f.fasta, elim:99999999, filter:False, output:/tmp/sepp/output.8e_5hh82/root/P_7/A_7_0/FC_7_0_0/hmmsearch.results.fgnxs_8y\n",
      "[18:23:47] jobs.py (line 131):     INFO: Finished hmmsearch Job with input: model:/tmp/sepp/output.8e_5hh82/root/P_8/A_8_0/hmmbuild.model.ol7le63x, fragments:/tmp/sepp/output.8e_5hh82/fragment_chunks/fragment_chunk_176wbti64.fasta, elim:99999999, filter:False, output:/tmp/sepp/output.8e_5hh82/root/P_8/A_8_0/FC_8_0_1/hmmsearch.results.74mdy4zu\n",
      "[18:23:48] jobs.py (line 131):     INFO: Finished hmmsearch Job with input: model:/tmp/sepp/output.8e_5hh82/root/P_8/A_8_0/hmmbuild.model.ol7le63x, fragments:/tmp/sepp/output.8e_5hh82/fragment_chunks/fragment_chunk_2lfsajulk.fasta, elim:99999999, filter:False, output:/tmp/sepp/output.8e_5hh82/root/P_8/A_8_0/FC_8_0_2/hmmsearch.results.l5v3egp3\n",
      "[18:23:48] jobs.py (line 131):     INFO: Finished hmmsearch Job with input: model:/tmp/sepp/output.8e_5hh82/root/P_7/A_7_0/hmmbuild.model.zx6gah9w, fragments:/tmp/sepp/output.8e_5hh82/fragment_chunks/fragment_chunk_2lfsajulk.fasta, elim:99999999, filter:False, output:/tmp/sepp/output.8e_5hh82/root/P_7/A_7_0/FC_7_0_2/hmmsearch.results.hrm98khl\n",
      "[18:23:48] jobs.py (line 131):     INFO: Finished hmmsearch Job with input: model:/tmp/sepp/output.8e_5hh82/root/P_7/A_7_0/hmmbuild.model.zx6gah9w, fragments:/tmp/sepp/output.8e_5hh82/fragment_chunks/fragment_chunk_176wbti64.fasta, elim:99999999, filter:False, output:/tmp/sepp/output.8e_5hh82/root/P_7/A_7_0/FC_7_0_1/hmmsearch.results.t4_g276y\n",
      "[18:23:48] jobs.py (line 131):     INFO: Finished hmmsearch Job with input: model:/tmp/sepp/output.8e_5hh82/root/P_8/A_8_0/hmmbuild.model.ol7le63x, fragments:/tmp/sepp/output.8e_5hh82/fragment_chunks/fragment_chunk_0av86hz_f.fasta, elim:99999999, filter:False, output:/tmp/sepp/output.8e_5hh82/root/P_8/A_8_0/FC_8_0_0/hmmsearch.results.h2zb4tni\n",
      "[18:23:49] jobs.py (line 131):     INFO: Finished hmmsearch Job with input: model:/tmp/sepp/output.8e_5hh82/root/P_10/A_10_0/hmmbuild.model.emv4f5ol, fragments:/tmp/sepp/output.8e_5hh82/fragment_chunks/fragment_chunk_0av86hz_f.fasta, elim:99999999, filter:False, output:/tmp/sepp/output.8e_5hh82/root/P_10/A_10_0/FC_10_0_0/hmmsearch.results.7yr99xau\n",
      "[18:23:51] jobs.py (line 131):     INFO: Finished hmmsearch Job with input: model:/tmp/sepp/output.8e_5hh82/root/P_10/A_10_0/hmmbuild.model.emv4f5ol, fragments:/tmp/sepp/output.8e_5hh82/fragment_chunks/fragment_chunk_176wbti64.fasta, elim:99999999, filter:False, output:/tmp/sepp/output.8e_5hh82/root/P_10/A_10_0/FC_10_0_1/hmmsearch.results.k_vnpqsj\n",
      "[18:23:51] jobs.py (line 131):     INFO: Finished hmmsearch Job with input: model:/tmp/sepp/output.8e_5hh82/root/P_10/A_10_0/hmmbuild.model.emv4f5ol, fragments:/tmp/sepp/output.8e_5hh82/fragment_chunks/fragment_chunk_2lfsajulk.fasta, elim:99999999, filter:False, output:/tmp/sepp/output.8e_5hh82/root/P_10/A_10_0/FC_10_0_2/hmmsearch.results.4huic6yw\n",
      "[18:23:52] jobs.py (line 131):     INFO: Finished hmmsearch Job with input: model:/tmp/sepp/output.8e_5hh82/root/P_11/A_11_0/hmmbuild.model.tmhnhewg, fragments:/tmp/sepp/output.8e_5hh82/fragment_chunks/fragment_chunk_176wbti64.fasta, elim:99999999, filter:False, output:/tmp/sepp/output.8e_5hh82/root/P_11/A_11_0/FC_11_0_1/hmmsearch.results.vcuhbl58\n",
      "[18:23:52] jobs.py (line 131):     INFO: Finished hmmsearch Job with input: model:/tmp/sepp/output.8e_5hh82/root/P_11/A_11_0/hmmbuild.model.tmhnhewg, fragments:/tmp/sepp/output.8e_5hh82/fragment_chunks/fragment_chunk_0av86hz_f.fasta, elim:99999999, filter:False, output:/tmp/sepp/output.8e_5hh82/root/P_11/A_11_0/FC_11_0_0/hmmsearch.results.pz3ap1gd\n",
      "[18:23:53] jobs.py (line 131):     INFO: Finished hmmsearch Job with input: model:/tmp/sepp/output.8e_5hh82/root/P_11/A_11_0/hmmbuild.model.tmhnhewg, fragments:/tmp/sepp/output.8e_5hh82/fragment_chunks/fragment_chunk_2lfsajulk.fasta, elim:99999999, filter:False, output:/tmp/sepp/output.8e_5hh82/root/P_11/A_11_0/FC_11_0_2/hmmsearch.results.d7oiwyrf\n",
      "[18:23:53] jobs.py (line 131):     INFO: Finished hmmsearch Job with input: model:/tmp/sepp/output.8e_5hh82/root/P_12/A_12_0/hmmbuild.model.uhncapzs, fragments:/tmp/sepp/output.8e_5hh82/fragment_chunks/fragment_chunk_0av86hz_f.fasta, elim:99999999, filter:False, output:/tmp/sepp/output.8e_5hh82/root/P_12/A_12_0/FC_12_0_0/hmmsearch.results._uugsmif\n",
      "[18:23:56] jobs.py (line 131):     INFO: Finished hmmsearch Job with input: model:/tmp/sepp/output.8e_5hh82/root/P_12/A_12_0/hmmbuild.model.uhncapzs, fragments:/tmp/sepp/output.8e_5hh82/fragment_chunks/fragment_chunk_176wbti64.fasta, elim:99999999, filter:False, output:/tmp/sepp/output.8e_5hh82/root/P_12/A_12_0/FC_12_0_1/hmmsearch.results.g9x96pqh\n",
      "[18:23:56] jobs.py (line 131):     INFO: Finished hmmsearch Job with input: model:/tmp/sepp/output.8e_5hh82/root/P_12/A_12_0/hmmbuild.model.uhncapzs, fragments:/tmp/sepp/output.8e_5hh82/fragment_chunks/fragment_chunk_2lfsajulk.fasta, elim:99999999, filter:False, output:/tmp/sepp/output.8e_5hh82/root/P_12/A_12_0/FC_12_0_2/hmmsearch.results.6odgf48v\n",
      "[18:23:57] jobs.py (line 131):     INFO: Finished hmmsearch Job with input: model:/tmp/sepp/output.8e_5hh82/root/P_15/A_15_0/hmmbuild.model.8zmfg628, fragments:/tmp/sepp/output.8e_5hh82/fragment_chunks/fragment_chunk_0av86hz_f.fasta, elim:99999999, filter:False, output:/tmp/sepp/output.8e_5hh82/root/P_15/A_15_0/FC_15_0_0/hmmsearch.results.xx5ikamv\n",
      "[18:23:57] jobs.py (line 131):     INFO: Finished hmmsearch Job with input: model:/tmp/sepp/output.8e_5hh82/root/P_15/A_15_0/hmmbuild.model.8zmfg628, fragments:/tmp/sepp/output.8e_5hh82/fragment_chunks/fragment_chunk_176wbti64.fasta, elim:99999999, filter:False, output:/tmp/sepp/output.8e_5hh82/root/P_15/A_15_0/FC_15_0_1/hmmsearch.results.zi_6p962\n",
      "[18:23:57] jobs.py (line 131):     INFO: Finished hmmsearch Job with input: model:/tmp/sepp/output.8e_5hh82/root/P_15/A_15_0/hmmbuild.model.8zmfg628, fragments:/tmp/sepp/output.8e_5hh82/fragment_chunks/fragment_chunk_2lfsajulk.fasta, elim:99999999, filter:False, output:/tmp/sepp/output.8e_5hh82/root/P_15/A_15_0/FC_15_0_2/hmmsearch.results.lvo9wxyy\n",
      "[18:23:57] jobs.py (line 131):     INFO: Finished hmmsearch Job with input: model:/tmp/sepp/output.8e_5hh82/root/P_14/A_14_0/hmmbuild.model.vq7iat2k, fragments:/tmp/sepp/output.8e_5hh82/fragment_chunks/fragment_chunk_0av86hz_f.fasta, elim:99999999, filter:False, output:/tmp/sepp/output.8e_5hh82/root/P_14/A_14_0/FC_14_0_0/hmmsearch.results.na3_79dg\n",
      "[18:23:59] jobs.py (line 131):     INFO: Finished hmmsearch Job with input: model:/tmp/sepp/output.8e_5hh82/root/P_14/A_14_0/hmmbuild.model.vq7iat2k, fragments:/tmp/sepp/output.8e_5hh82/fragment_chunks/fragment_chunk_2lfsajulk.fasta, elim:99999999, filter:False, output:/tmp/sepp/output.8e_5hh82/root/P_14/A_14_0/FC_14_0_2/hmmsearch.results.bebx5o55\n",
      "[18:24:00] jobs.py (line 131):     INFO: Finished hmmsearch Job with input: model:/tmp/sepp/output.8e_5hh82/root/P_14/A_14_0/hmmbuild.model.vq7iat2k, fragments:/tmp/sepp/output.8e_5hh82/fragment_chunks/fragment_chunk_176wbti64.fasta, elim:99999999, filter:False, output:/tmp/sepp/output.8e_5hh82/root/P_14/A_14_0/FC_14_0_1/hmmsearch.results.tn8s_53z\n",
      "[18:24:00] jobs.py (line 131):     INFO: Finished hmmsearch Job with input: model:/tmp/sepp/output.8e_5hh82/root/P_13/A_13_0/hmmbuild.model.95sn7nr6, fragments:/tmp/sepp/output.8e_5hh82/fragment_chunks/fragment_chunk_0av86hz_f.fasta, elim:99999999, filter:False, output:/tmp/sepp/output.8e_5hh82/root/P_13/A_13_0/FC_13_0_0/hmmsearch.results.xsmku0to\n",
      "[18:24:00] jobs.py (line 131):     INFO: Finished hmmsearch Job with input: model:/tmp/sepp/output.8e_5hh82/root/P_13/A_13_0/hmmbuild.model.95sn7nr6, fragments:/tmp/sepp/output.8e_5hh82/fragment_chunks/fragment_chunk_2lfsajulk.fasta, elim:99999999, filter:False, output:/tmp/sepp/output.8e_5hh82/root/P_13/A_13_0/FC_13_0_2/hmmsearch.results.ax2j86lm\n",
      "[18:24:01] jobs.py (line 131):     INFO: Finished hmmsearch Job with input: model:/tmp/sepp/output.8e_5hh82/root/P_13/A_13_0/hmmbuild.model.95sn7nr6, fragments:/tmp/sepp/output.8e_5hh82/fragment_chunks/fragment_chunk_176wbti64.fasta, elim:99999999, filter:False, output:/tmp/sepp/output.8e_5hh82/root/P_13/A_13_0/FC_13_0_1/hmmsearch.results.55io71yh\n",
      "[18:24:01] exhaustive.py (line 80):  WARNING: Fragments [] are not scored against any subset\n",
      "[18:24:01] exhaustive.py (line 151):     INFO: Merging sub-alignments for placement problem : P_0.\n",
      "[18:24:01] jobs.py (line 131):     INFO: Finished hmmalign Job with input: model:/tmp/sepp/output.8e_5hh82/root/P_1/A_1_0/hmmbuild.model.0o71kvvp, fragments:/tmp/sepp/output.8e_5hh82/root/P_1/A_1_0/FC_1_0_0/hmmalign.frag.ffso1p6o.fasta, trim:False, base_alignment:/tmp/sepp/output.8e_5hh82/root/P_1/A_1_0/hmmbuild.input.yiq34m94.fasta\n",
      "[18:24:01] jobs.py (line 131):     INFO: Finished hmmalign Job with input: model:/tmp/sepp/output.8e_5hh82/root/P_3/A_3_0/hmmbuild.model.s7h10fyb, fragments:/tmp/sepp/output.8e_5hh82/root/P_3/A_3_0/FC_3_0_0/hmmalign.frag.ih2pp95s.fasta, trim:False, base_alignment:/tmp/sepp/output.8e_5hh82/root/P_3/A_3_0/hmmbuild.input.5xlgbgsy.fasta\n",
      "[18:24:01] jobs.py (line 131):     INFO: Finished hmmalign Job with input: model:/tmp/sepp/output.8e_5hh82/root/P_3/A_3_0/hmmbuild.model.s7h10fyb, fragments:/tmp/sepp/output.8e_5hh82/root/P_3/A_3_0/FC_3_0_1/hmmalign.frag.jnulstmv.fasta, trim:False, base_alignment:/tmp/sepp/output.8e_5hh82/root/P_3/A_3_0/hmmbuild.input.5xlgbgsy.fasta\n",
      "[18:24:01] exhaustive.py (line 151):     INFO: Merging sub-alignments for placement problem : P_1.\n",
      "[18:24:01] jobs.py (line 131):     INFO: Finished hmmalign Job with input: model:/tmp/sepp/output.8e_5hh82/root/P_4/A_4_0/hmmbuild.model.m_r7skc0, fragments:/tmp/sepp/output.8e_5hh82/root/P_4/A_4_0/FC_4_0_0/hmmalign.frag.ge49t3jo.fasta, trim:False, base_alignment:/tmp/sepp/output.8e_5hh82/root/P_4/A_4_0/hmmbuild.input.ezhkprvb.fasta\n",
      "[18:24:01] alignment.py (line 556):     INFO: Merging extension sto file (/tmp/sepp/output.8e_5hh82/root/P_1/A_1_0/FC_1_0_0/hmmalign.results.buycah97) into base alignment (/tmp/sepp/output.8e_5hh82/root/P_1/A_1_0/hmmbuild.input.yiq34m94.fasta).\n",
      "[18:24:01] jobs.py (line 131):     INFO: Finished hmmalign Job with input: model:/tmp/sepp/output.8e_5hh82/root/P_2/A_2_0/hmmbuild.model.wk_kee45, fragments:/tmp/sepp/output.8e_5hh82/root/P_2/A_2_0/FC_2_0_2/hmmalign.frag.j3nwxher.fasta, trim:False, base_alignment:/tmp/sepp/output.8e_5hh82/root/P_2/A_2_0/hmmbuild.input.3287g_61.fasta\n",
      "[18:24:01] jobs.py (line 131):     INFO: Finished hmmalign Job with input: model:/tmp/sepp/output.8e_5hh82/root/P_3/A_3_0/hmmbuild.model.s7h10fyb, fragments:/tmp/sepp/output.8e_5hh82/root/P_3/A_3_0/FC_3_0_2/hmmalign.frag.9blcdnk_.fasta, trim:False, base_alignment:/tmp/sepp/output.8e_5hh82/root/P_3/A_3_0/hmmbuild.input.5xlgbgsy.fasta\n",
      "[18:24:01] jobs.py (line 131):     INFO: Finished hmmalign Job with input: model:/tmp/sepp/output.8e_5hh82/root/P_2/A_2_0/hmmbuild.model.wk_kee45, fragments:/tmp/sepp/output.8e_5hh82/root/P_2/A_2_0/FC_2_0_1/hmmalign.frag.3z5pxjca.fasta, trim:False, base_alignment:/tmp/sepp/output.8e_5hh82/root/P_2/A_2_0/hmmbuild.input.3287g_61.fasta\n",
      "[18:24:01] jobs.py (line 131):     INFO: Finished hmmalign Job with input: model:/tmp/sepp/output.8e_5hh82/root/P_2/A_2_0/hmmbuild.model.wk_kee45, fragments:/tmp/sepp/output.8e_5hh82/root/P_2/A_2_0/FC_2_0_0/hmmalign.frag.k8tt48mg.fasta, trim:False, base_alignment:/tmp/sepp/output.8e_5hh82/root/P_2/A_2_0/hmmbuild.input.3287g_61.fasta\n",
      "[18:24:01] jobs.py (line 131):     INFO: Finished hmmalign Job with input: model:/tmp/sepp/output.8e_5hh82/root/P_5/A_5_0/hmmbuild.model.dvahlcr_, fragments:/tmp/sepp/output.8e_5hh82/root/P_5/A_5_0/FC_5_0_0/hmmalign.frag.b4navehj.fasta, trim:False, base_alignment:/tmp/sepp/output.8e_5hh82/root/P_5/A_5_0/hmmbuild.input.ljkifm2s.fasta\n",
      "[18:24:01] exhaustive.py (line 151):     INFO: Merging sub-alignments for placement problem : P_4.\n",
      "[18:24:01] alignment.py (line 556):     INFO: Merging extension sto file (/tmp/sepp/output.8e_5hh82/root/P_4/A_4_0/FC_4_0_0/hmmalign.results.2i4ww5f0) into base alignment (/tmp/sepp/output.8e_5hh82/root/P_4/A_4_0/hmmbuild.input.ezhkprvb.fasta).\n",
      "[18:24:01] jobs.py (line 131):     INFO: Finished hmmalign Job with input: model:/tmp/sepp/output.8e_5hh82/root/P_5/A_5_0/hmmbuild.model.dvahlcr_, fragments:/tmp/sepp/output.8e_5hh82/root/P_5/A_5_0/FC_5_0_1/hmmalign.frag.og8xoq2c.fasta, trim:False, base_alignment:/tmp/sepp/output.8e_5hh82/root/P_5/A_5_0/hmmbuild.input.ljkifm2s.fasta\n",
      "[18:24:01] exhaustive.py (line 151):     INFO: Merging sub-alignments for placement problem : P_3.\n",
      "[18:24:01] jobs.py (line 131):     INFO: Finished hmmalign Job with input: model:/tmp/sepp/output.8e_5hh82/root/P_5/A_5_0/hmmbuild.model.dvahlcr_, fragments:/tmp/sepp/output.8e_5hh82/root/P_5/A_5_0/FC_5_0_2/hmmalign.frag.qex8wn0j.fasta, trim:False, base_alignment:/tmp/sepp/output.8e_5hh82/root/P_5/A_5_0/hmmbuild.input.ljkifm2s.fasta\n",
      "[18:24:01] alignment.py (line 556):     INFO: Merging extension sto file (/tmp/sepp/output.8e_5hh82/root/P_3/A_3_0/FC_3_0_0/hmmalign.results.nnc3rapk) into base alignment (/tmp/sepp/output.8e_5hh82/root/P_3/A_3_0/hmmbuild.input.5xlgbgsy.fasta).\n",
      "[18:24:02] jobs.py (line 131):     INFO: Finished hmmalign Job with input: model:/tmp/sepp/output.8e_5hh82/root/P_6/A_6_0/hmmbuild.model.31wtmf0l, fragments:/tmp/sepp/output.8e_5hh82/root/P_6/A_6_0/FC_6_0_2/hmmalign.frag.25644mog.fasta, trim:False, base_alignment:/tmp/sepp/output.8e_5hh82/root/P_6/A_6_0/hmmbuild.input.ifbahyck.fasta\n",
      "[18:24:02] jobs.py (line 131):     INFO: Finished hmmalign Job with input: model:/tmp/sepp/output.8e_5hh82/root/P_6/A_6_0/hmmbuild.model.31wtmf0l, fragments:/tmp/sepp/output.8e_5hh82/root/P_6/A_6_0/FC_6_0_0/hmmalign.frag.1uecl_eh.fasta, trim:False, base_alignment:/tmp/sepp/output.8e_5hh82/root/P_6/A_6_0/hmmbuild.input.ifbahyck.fasta\n",
      "[18:24:02] alignment.py (line 556):     INFO: Merging extension sto file (/tmp/sepp/output.8e_5hh82/root/P_3/A_3_0/FC_3_0_1/hmmalign.results.zo9yh2ht) into base alignment (/tmp/sepp/output.8e_5hh82/root/P_3/A_3_0/hmmbuild.input.5xlgbgsy.fasta).\n",
      "[18:24:02] jobs.py (line 131):     INFO: Finished hmmalign Job with input: model:/tmp/sepp/output.8e_5hh82/root/P_6/A_6_0/hmmbuild.model.31wtmf0l, fragments:/tmp/sepp/output.8e_5hh82/root/P_6/A_6_0/FC_6_0_1/hmmalign.frag.wrcdmjkp.fasta, trim:False, base_alignment:/tmp/sepp/output.8e_5hh82/root/P_6/A_6_0/hmmbuild.input.ifbahyck.fasta\n",
      "[18:24:02] alignment.py (line 556):     INFO: Merging extension sto file (/tmp/sepp/output.8e_5hh82/root/P_3/A_3_0/FC_3_0_2/hmmalign.results.rxms9xt_) into base alignment (/tmp/sepp/output.8e_5hh82/root/P_3/A_3_0/hmmbuild.input.5xlgbgsy.fasta).\n",
      "[18:24:02] jobs.py (line 131):     INFO: Finished hmmalign Job with input: model:/tmp/sepp/output.8e_5hh82/root/P_7/A_7_0/hmmbuild.model.zx6gah9w, fragments:/tmp/sepp/output.8e_5hh82/root/P_7/A_7_0/FC_7_0_0/hmmalign.frag.cfjuqp0b.fasta, trim:False, base_alignment:/tmp/sepp/output.8e_5hh82/root/P_7/A_7_0/hmmbuild.input.n37o7hzb.fasta\n",
      "[18:24:02] exhaustive.py (line 151):     INFO: Merging sub-alignments for placement problem : P_2.\n",
      "[18:24:02] jobs.py (line 131):     INFO: Finished hmmalign Job with input: model:/tmp/sepp/output.8e_5hh82/root/P_8/A_8_0/hmmbuild.model.ol7le63x, fragments:/tmp/sepp/output.8e_5hh82/root/P_8/A_8_0/FC_8_0_1/hmmalign.frag.gzilvwuo.fasta, trim:False, base_alignment:/tmp/sepp/output.8e_5hh82/root/P_8/A_8_0/hmmbuild.input.wiiveuyl.fasta\n",
      "[18:24:02] jobs.py (line 131):     INFO: Finished hmmalign Job with input: model:/tmp/sepp/output.8e_5hh82/root/P_7/A_7_0/hmmbuild.model.zx6gah9w, fragments:/tmp/sepp/output.8e_5hh82/root/P_7/A_7_0/FC_7_0_2/hmmalign.frag.0nk3p2b3.fasta, trim:False, base_alignment:/tmp/sepp/output.8e_5hh82/root/P_7/A_7_0/hmmbuild.input.n37o7hzb.fasta\n",
      "[18:24:02] jobs.py (line 131):     INFO: Finished hmmalign Job with input: model:/tmp/sepp/output.8e_5hh82/root/P_8/A_8_0/hmmbuild.model.ol7le63x, fragments:/tmp/sepp/output.8e_5hh82/root/P_8/A_8_0/FC_8_0_0/hmmalign.frag.yn60dxh5.fasta, trim:False, base_alignment:/tmp/sepp/output.8e_5hh82/root/P_8/A_8_0/hmmbuild.input.wiiveuyl.fasta\n",
      "[18:24:02] jobs.py (line 131):     INFO: Finished hmmalign Job with input: model:/tmp/sepp/output.8e_5hh82/root/P_8/A_8_0/hmmbuild.model.ol7le63x, fragments:/tmp/sepp/output.8e_5hh82/root/P_8/A_8_0/FC_8_0_2/hmmalign.frag.8g4f3iao.fasta, trim:False, base_alignment:/tmp/sepp/output.8e_5hh82/root/P_8/A_8_0/hmmbuild.input.wiiveuyl.fasta\n",
      "[18:24:02] alignment.py (line 556):     INFO: Merging extension sto file (/tmp/sepp/output.8e_5hh82/root/P_2/A_2_0/FC_2_0_0/hmmalign.results.cpd6pff0) into base alignment (/tmp/sepp/output.8e_5hh82/root/P_2/A_2_0/hmmbuild.input.3287g_61.fasta).\n",
      "[18:24:02] jobs.py (line 131):     INFO: Finished hmmalign Job with input: model:/tmp/sepp/output.8e_5hh82/root/P_7/A_7_0/hmmbuild.model.zx6gah9w, fragments:/tmp/sepp/output.8e_5hh82/root/P_7/A_7_0/FC_7_0_1/hmmalign.frag.b8mzuirj.fasta, trim:False, base_alignment:/tmp/sepp/output.8e_5hh82/root/P_7/A_7_0/hmmbuild.input.n37o7hzb.fasta\n",
      "[18:24:02] alignment.py (line 556):     INFO: Merging extension sto file (/tmp/sepp/output.8e_5hh82/root/P_2/A_2_0/FC_2_0_1/hmmalign.results.t7h2j6z7) into base alignment (/tmp/sepp/output.8e_5hh82/root/P_2/A_2_0/hmmbuild.input.3287g_61.fasta).\n",
      "[18:24:02] alignment.py (line 556):     INFO: Merging extension sto file (/tmp/sepp/output.8e_5hh82/root/P_2/A_2_0/FC_2_0_2/hmmalign.results.zia2owop) into base alignment (/tmp/sepp/output.8e_5hh82/root/P_2/A_2_0/hmmbuild.input.3287g_61.fasta).\n",
      "[18:24:02] exhaustive.py (line 151):     INFO: Merging sub-alignments for placement problem : P_5.\n",
      "[18:24:02] alignment.py (line 556):     INFO: Merging extension sto file (/tmp/sepp/output.8e_5hh82/root/P_5/A_5_0/FC_5_0_0/hmmalign.results.skk1dqyy) into base alignment (/tmp/sepp/output.8e_5hh82/root/P_5/A_5_0/hmmbuild.input.ljkifm2s.fasta).\n",
      "[18:24:02] alignment.py (line 556):     INFO: Merging extension sto file (/tmp/sepp/output.8e_5hh82/root/P_5/A_5_0/FC_5_0_1/hmmalign.results.isxklnug) into base alignment (/tmp/sepp/output.8e_5hh82/root/P_5/A_5_0/hmmbuild.input.ljkifm2s.fasta).\n",
      "[18:24:02] jobs.py (line 131):     INFO: Finished hmmalign Job with input: model:/tmp/sepp/output.8e_5hh82/root/P_10/A_10_0/hmmbuild.model.emv4f5ol, fragments:/tmp/sepp/output.8e_5hh82/root/P_10/A_10_0/FC_10_0_1/hmmalign.frag.8jrq2zkn.fasta, trim:False, base_alignment:/tmp/sepp/output.8e_5hh82/root/P_10/A_10_0/hmmbuild.input.ajsh8jow.fasta\n",
      "[18:24:02] jobs.py (line 131):     INFO: Finished hmmalign Job with input: model:/tmp/sepp/output.8e_5hh82/root/P_10/A_10_0/hmmbuild.model.emv4f5ol, fragments:/tmp/sepp/output.8e_5hh82/root/P_10/A_10_0/FC_10_0_2/hmmalign.frag.cnog0yyg.fasta, trim:False, base_alignment:/tmp/sepp/output.8e_5hh82/root/P_10/A_10_0/hmmbuild.input.ajsh8jow.fasta\n",
      "[18:24:02] alignment.py (line 556):     INFO: Merging extension sto file (/tmp/sepp/output.8e_5hh82/root/P_5/A_5_0/FC_5_0_2/hmmalign.results.8c7d0ztu) into base alignment (/tmp/sepp/output.8e_5hh82/root/P_5/A_5_0/hmmbuild.input.ljkifm2s.fasta).\n",
      "[18:24:02] jobs.py (line 131):     INFO: Finished hmmalign Job with input: model:/tmp/sepp/output.8e_5hh82/root/P_10/A_10_0/hmmbuild.model.emv4f5ol, fragments:/tmp/sepp/output.8e_5hh82/root/P_10/A_10_0/FC_10_0_0/hmmalign.frag.a3ok4jeo.fasta, trim:False, base_alignment:/tmp/sepp/output.8e_5hh82/root/P_10/A_10_0/hmmbuild.input.ajsh8jow.fasta\n",
      "[18:24:02] exhaustive.py (line 151):     INFO: Merging sub-alignments for placement problem : P_6.\n",
      "[18:24:02] alignment.py (line 556):     INFO: Merging extension sto file (/tmp/sepp/output.8e_5hh82/root/P_6/A_6_0/FC_6_0_0/hmmalign.results.dgcmwgo_) into base alignment (/tmp/sepp/output.8e_5hh82/root/P_6/A_6_0/hmmbuild.input.ifbahyck.fasta).\n",
      "[18:24:02] alignment.py (line 556):     INFO: Merging extension sto file (/tmp/sepp/output.8e_5hh82/root/P_6/A_6_0/FC_6_0_1/hmmalign.results.5213jfgw) into base alignment (/tmp/sepp/output.8e_5hh82/root/P_6/A_6_0/hmmbuild.input.ifbahyck.fasta).\n",
      "[18:24:02] jobs.py (line 131):     INFO: Finished hmmalign Job with input: model:/tmp/sepp/output.8e_5hh82/root/P_9/A_9_0/hmmbuild.model.kchtmylu, fragments:/tmp/sepp/output.8e_5hh82/root/P_9/A_9_0/FC_9_0_0/hmmalign.frag.hv032ene.fasta, trim:False, base_alignment:/tmp/sepp/output.8e_5hh82/root/P_9/A_9_0/hmmbuild.input.u4j7r30x.fasta\n",
      "[18:24:02] alignment.py (line 556):     INFO: Merging extension sto file (/tmp/sepp/output.8e_5hh82/root/P_6/A_6_0/FC_6_0_2/hmmalign.results.uf071fd5) into base alignment (/tmp/sepp/output.8e_5hh82/root/P_6/A_6_0/hmmbuild.input.ifbahyck.fasta).\n",
      "[18:24:02] jobs.py (line 131):     INFO: Finished hmmalign Job with input: model:/tmp/sepp/output.8e_5hh82/root/P_9/A_9_0/hmmbuild.model.kchtmylu, fragments:/tmp/sepp/output.8e_5hh82/root/P_9/A_9_0/FC_9_0_2/hmmalign.frag.api4j6d0.fasta, trim:False, base_alignment:/tmp/sepp/output.8e_5hh82/root/P_9/A_9_0/hmmbuild.input.u4j7r30x.fasta\n",
      "[18:24:02] exhaustive.py (line 151):     INFO: Merging sub-alignments for placement problem : P_8.\n",
      "[18:24:02] alignment.py (line 556):     INFO: Merging extension sto file (/tmp/sepp/output.8e_5hh82/root/P_8/A_8_0/FC_8_0_0/hmmalign.results.dejrgygo) into base alignment (/tmp/sepp/output.8e_5hh82/root/P_8/A_8_0/hmmbuild.input.wiiveuyl.fasta).\n",
      "[18:24:02] jobs.py (line 131):     INFO: Finished hmmalign Job with input: model:/tmp/sepp/output.8e_5hh82/root/P_9/A_9_0/hmmbuild.model.kchtmylu, fragments:/tmp/sepp/output.8e_5hh82/root/P_9/A_9_0/FC_9_0_1/hmmalign.frag.hev1jqfk.fasta, trim:False, base_alignment:/tmp/sepp/output.8e_5hh82/root/P_9/A_9_0/hmmbuild.input.u4j7r30x.fasta\n",
      "[18:24:02] alignment.py (line 556):     INFO: Merging extension sto file (/tmp/sepp/output.8e_5hh82/root/P_8/A_8_0/FC_8_0_1/hmmalign.results.6915dsku) into base alignment (/tmp/sepp/output.8e_5hh82/root/P_8/A_8_0/hmmbuild.input.wiiveuyl.fasta).\n",
      "[18:24:02] alignment.py (line 556):     INFO: Merging extension sto file (/tmp/sepp/output.8e_5hh82/root/P_8/A_8_0/FC_8_0_2/hmmalign.results.1n7cxgtv) into base alignment (/tmp/sepp/output.8e_5hh82/root/P_8/A_8_0/hmmbuild.input.wiiveuyl.fasta).\n",
      "[18:24:02] exhaustive.py (line 151):     INFO: Merging sub-alignments for placement problem : P_7.\n",
      "[18:24:02] alignment.py (line 556):     INFO: Merging extension sto file (/tmp/sepp/output.8e_5hh82/root/P_7/A_7_0/FC_7_0_0/hmmalign.results.8c4h4sfu) into base alignment (/tmp/sepp/output.8e_5hh82/root/P_7/A_7_0/hmmbuild.input.n37o7hzb.fasta).\n",
      "[18:24:02] alignment.py (line 556):     INFO: Merging extension sto file (/tmp/sepp/output.8e_5hh82/root/P_7/A_7_0/FC_7_0_1/hmmalign.results.8scj5mec) into base alignment (/tmp/sepp/output.8e_5hh82/root/P_7/A_7_0/hmmbuild.input.n37o7hzb.fasta).\n",
      "[18:24:03] alignment.py (line 556):     INFO: Merging extension sto file (/tmp/sepp/output.8e_5hh82/root/P_7/A_7_0/FC_7_0_2/hmmalign.results.w5lke7jm) into base alignment (/tmp/sepp/output.8e_5hh82/root/P_7/A_7_0/hmmbuild.input.n37o7hzb.fasta).\n",
      "[18:24:03] exhaustive.py (line 151):     INFO: Merging sub-alignments for placement problem : P_10.\n",
      "[18:24:03] alignment.py (line 556):     INFO: Merging extension sto file (/tmp/sepp/output.8e_5hh82/root/P_10/A_10_0/FC_10_0_0/hmmalign.results.toouw9ew) into base alignment (/tmp/sepp/output.8e_5hh82/root/P_10/A_10_0/hmmbuild.input.ajsh8jow.fasta).\n",
      "[18:24:03] alignment.py (line 556):     INFO: Merging extension sto file (/tmp/sepp/output.8e_5hh82/root/P_10/A_10_0/FC_10_0_1/hmmalign.results.xacymj9n) into base alignment (/tmp/sepp/output.8e_5hh82/root/P_10/A_10_0/hmmbuild.input.ajsh8jow.fasta).\n",
      "[18:24:03] alignment.py (line 556):     INFO: Merging extension sto file (/tmp/sepp/output.8e_5hh82/root/P_10/A_10_0/FC_10_0_2/hmmalign.results.1loyetpx) into base alignment (/tmp/sepp/output.8e_5hh82/root/P_10/A_10_0/hmmbuild.input.ajsh8jow.fasta).\n",
      "[18:24:03] exhaustive.py (line 151):     INFO: Merging sub-alignments for placement problem : P_9.\n",
      "[18:24:03] alignment.py (line 556):     INFO: Merging extension sto file (/tmp/sepp/output.8e_5hh82/root/P_9/A_9_0/FC_9_0_0/hmmalign.results.481qqcbk) into base alignment (/tmp/sepp/output.8e_5hh82/root/P_9/A_9_0/hmmbuild.input.u4j7r30x.fasta).\n",
      "[18:24:03] alignment.py (line 556):     INFO: Merging extension sto file (/tmp/sepp/output.8e_5hh82/root/P_9/A_9_0/FC_9_0_1/hmmalign.results.m3ipu5sk) into base alignment (/tmp/sepp/output.8e_5hh82/root/P_9/A_9_0/hmmbuild.input.u4j7r30x.fasta).\n",
      "[18:24:03] alignment.py (line 556):     INFO: Merging extension sto file (/tmp/sepp/output.8e_5hh82/root/P_9/A_9_0/FC_9_0_2/hmmalign.results.obsrr01v) into base alignment (/tmp/sepp/output.8e_5hh82/root/P_9/A_9_0/hmmbuild.input.u4j7r30x.fasta).\n",
      "[18:24:04] jobs.py (line 131):     INFO: Finished hmmalign Job with input: model:/tmp/sepp/output.8e_5hh82/root/P_12/A_12_0/hmmbuild.model.uhncapzs, fragments:/tmp/sepp/output.8e_5hh82/root/P_12/A_12_0/FC_12_0_1/hmmalign.frag.40rkd9fe.fasta, trim:False, base_alignment:/tmp/sepp/output.8e_5hh82/root/P_12/A_12_0/hmmbuild.input.rkskgo_1.fasta\n",
      "[18:24:04] jobs.py (line 131):     INFO: Finished hmmalign Job with input: model:/tmp/sepp/output.8e_5hh82/root/P_12/A_12_0/hmmbuild.model.uhncapzs, fragments:/tmp/sepp/output.8e_5hh82/root/P_12/A_12_0/FC_12_0_0/hmmalign.frag.extoqdq_.fasta, trim:False, base_alignment:/tmp/sepp/output.8e_5hh82/root/P_12/A_12_0/hmmbuild.input.rkskgo_1.fasta\n",
      "[18:24:04] jobs.py (line 131):     INFO: Finished hmmalign Job with input: model:/tmp/sepp/output.8e_5hh82/root/P_12/A_12_0/hmmbuild.model.uhncapzs, fragments:/tmp/sepp/output.8e_5hh82/root/P_12/A_12_0/FC_12_0_2/hmmalign.frag.ejq87o01.fasta, trim:False, base_alignment:/tmp/sepp/output.8e_5hh82/root/P_12/A_12_0/hmmbuild.input.rkskgo_1.fasta\n",
      "[18:24:04] exhaustive.py (line 151):     INFO: Merging sub-alignments for placement problem : P_12.\n",
      "[18:24:04] alignment.py (line 556):     INFO: Merging extension sto file (/tmp/sepp/output.8e_5hh82/root/P_12/A_12_0/FC_12_0_0/hmmalign.results.qawe080x) into base alignment (/tmp/sepp/output.8e_5hh82/root/P_12/A_12_0/hmmbuild.input.rkskgo_1.fasta).\n",
      "[18:24:04] alignment.py (line 556):     INFO: Merging extension sto file (/tmp/sepp/output.8e_5hh82/root/P_12/A_12_0/FC_12_0_1/hmmalign.results._rprh5ry) into base alignment (/tmp/sepp/output.8e_5hh82/root/P_12/A_12_0/hmmbuild.input.rkskgo_1.fasta).\n",
      "[18:24:04] alignment.py (line 556):     INFO: Merging extension sto file (/tmp/sepp/output.8e_5hh82/root/P_12/A_12_0/FC_12_0_2/hmmalign.results.da2v5opo) into base alignment (/tmp/sepp/output.8e_5hh82/root/P_12/A_12_0/hmmbuild.input.rkskgo_1.fasta).\n",
      "[18:24:04] jobs.py (line 131):     INFO: Finished hmmalign Job with input: model:/tmp/sepp/output.8e_5hh82/root/P_13/A_13_0/hmmbuild.model.95sn7nr6, fragments:/tmp/sepp/output.8e_5hh82/root/P_13/A_13_0/FC_13_0_0/hmmalign.frag.w3a1ep3f.fasta, trim:False, base_alignment:/tmp/sepp/output.8e_5hh82/root/P_13/A_13_0/hmmbuild.input.6u4d2ea6.fasta\n",
      "[18:24:04] jobs.py (line 131):     INFO: Finished hmmalign Job with input: model:/tmp/sepp/output.8e_5hh82/root/P_13/A_13_0/hmmbuild.model.95sn7nr6, fragments:/tmp/sepp/output.8e_5hh82/root/P_13/A_13_0/FC_13_0_1/hmmalign.frag.b4c5kjld.fasta, trim:False, base_alignment:/tmp/sepp/output.8e_5hh82/root/P_13/A_13_0/hmmbuild.input.6u4d2ea6.fasta\n",
      "[18:24:04] jobs.py (line 131):     INFO: Finished hmmalign Job with input: model:/tmp/sepp/output.8e_5hh82/root/P_13/A_13_0/hmmbuild.model.95sn7nr6, fragments:/tmp/sepp/output.8e_5hh82/root/P_13/A_13_0/FC_13_0_2/hmmalign.frag.d4l6cagh.fasta, trim:False, base_alignment:/tmp/sepp/output.8e_5hh82/root/P_13/A_13_0/hmmbuild.input.6u4d2ea6.fasta\n",
      "[18:24:04] exhaustive.py (line 151):     INFO: Merging sub-alignments for placement problem : P_13.\n",
      "[18:24:04] alignment.py (line 556):     INFO: Merging extension sto file (/tmp/sepp/output.8e_5hh82/root/P_13/A_13_0/FC_13_0_0/hmmalign.results.rg30kq_t) into base alignment (/tmp/sepp/output.8e_5hh82/root/P_13/A_13_0/hmmbuild.input.6u4d2ea6.fasta).\n",
      "[18:24:04] alignment.py (line 556):     INFO: Merging extension sto file (/tmp/sepp/output.8e_5hh82/root/P_13/A_13_0/FC_13_0_1/hmmalign.results.g0ctt6mp) into base alignment (/tmp/sepp/output.8e_5hh82/root/P_13/A_13_0/hmmbuild.input.6u4d2ea6.fasta).\n",
      "[18:24:04] jobs.py (line 131):     INFO: Finished hmmalign Job with input: model:/tmp/sepp/output.8e_5hh82/root/P_14/A_14_0/hmmbuild.model.vq7iat2k, fragments:/tmp/sepp/output.8e_5hh82/root/P_14/A_14_0/FC_14_0_0/hmmalign.frag.lka_r5zw.fasta, trim:False, base_alignment:/tmp/sepp/output.8e_5hh82/root/P_14/A_14_0/hmmbuild.input.wrk_dqbb.fasta\n",
      "[18:24:04] alignment.py (line 556):     INFO: Merging extension sto file (/tmp/sepp/output.8e_5hh82/root/P_13/A_13_0/FC_13_0_2/hmmalign.results.r5o9qwlf) into base alignment (/tmp/sepp/output.8e_5hh82/root/P_13/A_13_0/hmmbuild.input.6u4d2ea6.fasta).\n",
      "[18:24:04] jobs.py (line 131):     INFO: Finished hmmalign Job with input: model:/tmp/sepp/output.8e_5hh82/root/P_14/A_14_0/hmmbuild.model.vq7iat2k, fragments:/tmp/sepp/output.8e_5hh82/root/P_14/A_14_0/FC_14_0_1/hmmalign.frag.4htj1zx_.fasta, trim:False, base_alignment:/tmp/sepp/output.8e_5hh82/root/P_14/A_14_0/hmmbuild.input.wrk_dqbb.fasta\n",
      "[18:24:05] jobs.py (line 131):     INFO: Finished hmmalign Job with input: model:/tmp/sepp/output.8e_5hh82/root/P_14/A_14_0/hmmbuild.model.vq7iat2k, fragments:/tmp/sepp/output.8e_5hh82/root/P_14/A_14_0/FC_14_0_2/hmmalign.frag.vkfiyiz_.fasta, trim:False, base_alignment:/tmp/sepp/output.8e_5hh82/root/P_14/A_14_0/hmmbuild.input.wrk_dqbb.fasta\n",
      "[18:24:05] exhaustive.py (line 151):     INFO: Merging sub-alignments for placement problem : P_14.\n",
      "[18:24:05] alignment.py (line 556):     INFO: Merging extension sto file (/tmp/sepp/output.8e_5hh82/root/P_14/A_14_0/FC_14_0_0/hmmalign.results.b2f9dpz3) into base alignment (/tmp/sepp/output.8e_5hh82/root/P_14/A_14_0/hmmbuild.input.wrk_dqbb.fasta).\n",
      "[18:24:05] alignment.py (line 556):     INFO: Merging extension sto file (/tmp/sepp/output.8e_5hh82/root/P_14/A_14_0/FC_14_0_1/hmmalign.results.2ruiignq) into base alignment (/tmp/sepp/output.8e_5hh82/root/P_14/A_14_0/hmmbuild.input.wrk_dqbb.fasta).\n",
      "[18:24:05] jobs.py (line 131):     INFO: Finished hmmalign Job with input: model:/tmp/sepp/output.8e_5hh82/root/P_15/A_15_0/hmmbuild.model.8zmfg628, fragments:/tmp/sepp/output.8e_5hh82/root/P_15/A_15_0/FC_15_0_0/hmmalign.frag.vngzjzms.fasta, trim:False, base_alignment:/tmp/sepp/output.8e_5hh82/root/P_15/A_15_0/hmmbuild.input.448syk0f.fasta\n",
      "[18:24:05] alignment.py (line 556):     INFO: Merging extension sto file (/tmp/sepp/output.8e_5hh82/root/P_14/A_14_0/FC_14_0_2/hmmalign.results.mljg0y5e) into base alignment (/tmp/sepp/output.8e_5hh82/root/P_14/A_14_0/hmmbuild.input.wrk_dqbb.fasta).\n",
      "[18:24:05] jobs.py (line 131):     INFO: Finished hmmalign Job with input: model:/tmp/sepp/output.8e_5hh82/root/P_15/A_15_0/hmmbuild.model.8zmfg628, fragments:/tmp/sepp/output.8e_5hh82/root/P_15/A_15_0/FC_15_0_1/hmmalign.frag.ygpwzbrp.fasta, trim:False, base_alignment:/tmp/sepp/output.8e_5hh82/root/P_15/A_15_0/hmmbuild.input.448syk0f.fasta\n",
      "[18:24:05] jobs.py (line 131):     INFO: Finished hmmalign Job with input: model:/tmp/sepp/output.8e_5hh82/root/P_15/A_15_0/hmmbuild.model.8zmfg628, fragments:/tmp/sepp/output.8e_5hh82/root/P_15/A_15_0/FC_15_0_2/hmmalign.frag.x_3x7_85.fasta, trim:False, base_alignment:/tmp/sepp/output.8e_5hh82/root/P_15/A_15_0/hmmbuild.input.448syk0f.fasta\n",
      "[18:24:05] exhaustive.py (line 151):     INFO: Merging sub-alignments for placement problem : P_15.\n",
      "[18:24:05] alignment.py (line 556):     INFO: Merging extension sto file (/tmp/sepp/output.8e_5hh82/root/P_15/A_15_0/FC_15_0_0/hmmalign.results.gzn04gd2) into base alignment (/tmp/sepp/output.8e_5hh82/root/P_15/A_15_0/hmmbuild.input.448syk0f.fasta).\n",
      "[18:24:05] alignment.py (line 556):     INFO: Merging extension sto file (/tmp/sepp/output.8e_5hh82/root/P_15/A_15_0/FC_15_0_1/hmmalign.results.9xjkx_g2) into base alignment (/tmp/sepp/output.8e_5hh82/root/P_15/A_15_0/hmmbuild.input.448syk0f.fasta).\n",
      "[18:24:05] alignment.py (line 556):     INFO: Merging extension sto file (/tmp/sepp/output.8e_5hh82/root/P_15/A_15_0/FC_15_0_2/hmmalign.results.uz_hzoda) into base alignment (/tmp/sepp/output.8e_5hh82/root/P_15/A_15_0/hmmbuild.input.448syk0f.fasta).\n",
      "[18:24:07] jobs.py (line 131):     INFO: Finished hmmalign Job with input: model:/tmp/sepp/output.8e_5hh82/root/P_11/A_11_0/hmmbuild.model.tmhnhewg, fragments:/tmp/sepp/output.8e_5hh82/root/P_11/A_11_0/FC_11_0_0/hmmalign.frag.1bkotv4w.fasta, trim:False, base_alignment:/tmp/sepp/output.8e_5hh82/root/P_11/A_11_0/hmmbuild.input.dqpyesa7.fasta\n",
      "[18:24:07] jobs.py (line 131):     INFO: Finished hmmalign Job with input: model:/tmp/sepp/output.8e_5hh82/root/P_11/A_11_0/hmmbuild.model.tmhnhewg, fragments:/tmp/sepp/output.8e_5hh82/root/P_11/A_11_0/FC_11_0_1/hmmalign.frag.c1jbv4cq.fasta, trim:False, base_alignment:/tmp/sepp/output.8e_5hh82/root/P_11/A_11_0/hmmbuild.input.dqpyesa7.fasta\n",
      "[18:24:07] jobs.py (line 131):     INFO: Finished hmmalign Job with input: model:/tmp/sepp/output.8e_5hh82/root/P_11/A_11_0/hmmbuild.model.tmhnhewg, fragments:/tmp/sepp/output.8e_5hh82/root/P_11/A_11_0/FC_11_0_2/hmmalign.frag.lgbprb7y.fasta, trim:False, base_alignment:/tmp/sepp/output.8e_5hh82/root/P_11/A_11_0/hmmbuild.input.dqpyesa7.fasta\n",
      "[18:24:07] exhaustive.py (line 151):     INFO: Merging sub-alignments for placement problem : P_11.\n",
      "[18:24:07] alignment.py (line 556):     INFO: Merging extension sto file (/tmp/sepp/output.8e_5hh82/root/P_11/A_11_0/FC_11_0_0/hmmalign.results.idvft_e0) into base alignment (/tmp/sepp/output.8e_5hh82/root/P_11/A_11_0/hmmbuild.input.dqpyesa7.fasta).\n",
      "[18:24:07] alignment.py (line 556):     INFO: Merging extension sto file (/tmp/sepp/output.8e_5hh82/root/P_11/A_11_0/FC_11_0_1/hmmalign.results.9wzftnhk) into base alignment (/tmp/sepp/output.8e_5hh82/root/P_11/A_11_0/hmmbuild.input.dqpyesa7.fasta).\n",
      "[18:24:08] alignment.py (line 556):     INFO: Merging extension sto file (/tmp/sepp/output.8e_5hh82/root/P_11/A_11_0/FC_11_0_2/hmmalign.results.q1blh2tc) into base alignment (/tmp/sepp/output.8e_5hh82/root/P_11/A_11_0/hmmbuild.input.dqpyesa7.fasta).\n",
      "[18:24:09] jobs.py (line 131):     INFO: Finished pplacer Job with input: backbone_alignment_file:/tmp/sepp/output.8e_5hh82/root/P_4/pplacer.backbone.dvzv6i38.fasta, tree_file:/tmp/sepp/output.8e_5hh82/root/P_4/pplacer.tree.vggs5g8b.tre, info_file:/home/lauro/anaconda3/envs/qiime2-2021.11/lib/python3.8/site-packages/picrust2/default_files/prokaryotic/pro_ref/pro_ref.raxml_info, extended alignment:/tmp/sepp/output.8e_5hh82/root/P_4/pplacer.extended.0.l7l6c73_.fasta, output:/tmp/sepp/output.8e_5hh82/root/P_4/pplacer.extended.0.l7l6c73_.jplace\n",
      "[18:24:10] jobs.py (line 131):     INFO: Finished pplacer Job with input: backbone_alignment_file:/tmp/sepp/output.8e_5hh82/root/P_3/pplacer.backbone.848zzzcf.fasta, tree_file:/tmp/sepp/output.8e_5hh82/root/P_3/pplacer.tree.__wfu978.tre, info_file:/home/lauro/anaconda3/envs/qiime2-2021.11/lib/python3.8/site-packages/picrust2/default_files/prokaryotic/pro_ref/pro_ref.raxml_info, extended alignment:/tmp/sepp/output.8e_5hh82/root/P_3/pplacer.extended.0.engt6ok3.fasta, output:/tmp/sepp/output.8e_5hh82/root/P_3/pplacer.extended.0.engt6ok3.jplace\n",
      "[18:24:10] jobs.py (line 131):     INFO: Finished pplacer Job with input: backbone_alignment_file:/tmp/sepp/output.8e_5hh82/root/P_1/pplacer.backbone.col0shew.fasta, tree_file:/tmp/sepp/output.8e_5hh82/root/P_1/pplacer.tree._i21fxt6.tre, info_file:/home/lauro/anaconda3/envs/qiime2-2021.11/lib/python3.8/site-packages/picrust2/default_files/prokaryotic/pro_ref/pro_ref.raxml_info, extended alignment:/tmp/sepp/output.8e_5hh82/root/P_1/pplacer.extended.0.nm55kvln.fasta, output:/tmp/sepp/output.8e_5hh82/root/P_1/pplacer.extended.0.nm55kvln.jplace\n",
      "[18:24:14] jobs.py (line 131):     INFO: Finished pplacer Job with input: backbone_alignment_file:/tmp/sepp/output.8e_5hh82/root/P_3/pplacer.backbone.4k16gonu.fasta, tree_file:/tmp/sepp/output.8e_5hh82/root/P_3/pplacer.tree.jc_taled.tre, info_file:/home/lauro/anaconda3/envs/qiime2-2021.11/lib/python3.8/site-packages/picrust2/default_files/prokaryotic/pro_ref/pro_ref.raxml_info, extended alignment:/tmp/sepp/output.8e_5hh82/root/P_3/pplacer.extended.1.f2y_iaa6.fasta, output:/tmp/sepp/output.8e_5hh82/root/P_3/pplacer.extended.1.f2y_iaa6.jplace\n",
      "[18:24:14] jobs.py (line 131):     INFO: Finished pplacer Job with input: backbone_alignment_file:/tmp/sepp/output.8e_5hh82/root/P_3/pplacer.backbone.jabuzycg.fasta, tree_file:/tmp/sepp/output.8e_5hh82/root/P_3/pplacer.tree._cjhj2a9.tre, info_file:/home/lauro/anaconda3/envs/qiime2-2021.11/lib/python3.8/site-packages/picrust2/default_files/prokaryotic/pro_ref/pro_ref.raxml_info, extended alignment:/tmp/sepp/output.8e_5hh82/root/P_3/pplacer.extended.2.uwxkdgil.fasta, output:/tmp/sepp/output.8e_5hh82/root/P_3/pplacer.extended.2.uwxkdgil.jplace\n",
      "[18:24:17] jobs.py (line 131):     INFO: Finished pplacer Job with input: backbone_alignment_file:/tmp/sepp/output.8e_5hh82/root/P_5/pplacer.backbone.lh9lwyz8.fasta, tree_file:/tmp/sepp/output.8e_5hh82/root/P_5/pplacer.tree.5rs4089u.tre, info_file:/home/lauro/anaconda3/envs/qiime2-2021.11/lib/python3.8/site-packages/picrust2/default_files/prokaryotic/pro_ref/pro_ref.raxml_info, extended alignment:/tmp/sepp/output.8e_5hh82/root/P_5/pplacer.extended.0.sm3qfsi2.fasta, output:/tmp/sepp/output.8e_5hh82/root/P_5/pplacer.extended.0.sm3qfsi2.jplace\n",
      "[18:24:17] jobs.py (line 131):     INFO: Finished pplacer Job with input: backbone_alignment_file:/tmp/sepp/output.8e_5hh82/root/P_2/pplacer.backbone.5693pmtp.fasta, tree_file:/tmp/sepp/output.8e_5hh82/root/P_2/pplacer.tree.an7jemqi.tre, info_file:/home/lauro/anaconda3/envs/qiime2-2021.11/lib/python3.8/site-packages/picrust2/default_files/prokaryotic/pro_ref/pro_ref.raxml_info, extended alignment:/tmp/sepp/output.8e_5hh82/root/P_2/pplacer.extended.2.wxikvrsn.fasta, output:/tmp/sepp/output.8e_5hh82/root/P_2/pplacer.extended.2.wxikvrsn.jplace\n",
      "[18:24:18] jobs.py (line 131):     INFO: Finished pplacer Job with input: backbone_alignment_file:/tmp/sepp/output.8e_5hh82/root/P_2/pplacer.backbone.agr92s36.fasta, tree_file:/tmp/sepp/output.8e_5hh82/root/P_2/pplacer.tree.q6ub7ghv.tre, info_file:/home/lauro/anaconda3/envs/qiime2-2021.11/lib/python3.8/site-packages/picrust2/default_files/prokaryotic/pro_ref/pro_ref.raxml_info, extended alignment:/tmp/sepp/output.8e_5hh82/root/P_2/pplacer.extended.0.0qvpla4j.fasta, output:/tmp/sepp/output.8e_5hh82/root/P_2/pplacer.extended.0.0qvpla4j.jplace\n",
      "[18:24:21] jobs.py (line 131):     INFO: Finished pplacer Job with input: backbone_alignment_file:/tmp/sepp/output.8e_5hh82/root/P_5/pplacer.backbone.anwfvbfl.fasta, tree_file:/tmp/sepp/output.8e_5hh82/root/P_5/pplacer.tree.gnwt99o9.tre, info_file:/home/lauro/anaconda3/envs/qiime2-2021.11/lib/python3.8/site-packages/picrust2/default_files/prokaryotic/pro_ref/pro_ref.raxml_info, extended alignment:/tmp/sepp/output.8e_5hh82/root/P_5/pplacer.extended.1.5dwqwn31.fasta, output:/tmp/sepp/output.8e_5hh82/root/P_5/pplacer.extended.1.5dwqwn31.jplace\n",
      "[18:24:21] jobs.py (line 131):     INFO: Finished pplacer Job with input: backbone_alignment_file:/tmp/sepp/output.8e_5hh82/root/P_5/pplacer.backbone.a4oz619a.fasta, tree_file:/tmp/sepp/output.8e_5hh82/root/P_5/pplacer.tree.4f2t2uap.tre, info_file:/home/lauro/anaconda3/envs/qiime2-2021.11/lib/python3.8/site-packages/picrust2/default_files/prokaryotic/pro_ref/pro_ref.raxml_info, extended alignment:/tmp/sepp/output.8e_5hh82/root/P_5/pplacer.extended.2.y7rfq3mv.fasta, output:/tmp/sepp/output.8e_5hh82/root/P_5/pplacer.extended.2.y7rfq3mv.jplace\n",
      "[18:24:24] jobs.py (line 131):     INFO: Finished pplacer Job with input: backbone_alignment_file:/tmp/sepp/output.8e_5hh82/root/P_2/pplacer.backbone.br9m9fyc.fasta, tree_file:/tmp/sepp/output.8e_5hh82/root/P_2/pplacer.tree.lvqsusno.tre, info_file:/home/lauro/anaconda3/envs/qiime2-2021.11/lib/python3.8/site-packages/picrust2/default_files/prokaryotic/pro_ref/pro_ref.raxml_info, extended alignment:/tmp/sepp/output.8e_5hh82/root/P_2/pplacer.extended.1.roebequf.fasta, output:/tmp/sepp/output.8e_5hh82/root/P_2/pplacer.extended.1.roebequf.jplace\n",
      "[18:24:25] jobs.py (line 131):     INFO: Finished pplacer Job with input: backbone_alignment_file:/tmp/sepp/output.8e_5hh82/root/P_6/pplacer.backbone.q22xg40p.fasta, tree_file:/tmp/sepp/output.8e_5hh82/root/P_6/pplacer.tree.arw4lpjo.tre, info_file:/home/lauro/anaconda3/envs/qiime2-2021.11/lib/python3.8/site-packages/picrust2/default_files/prokaryotic/pro_ref/pro_ref.raxml_info, extended alignment:/tmp/sepp/output.8e_5hh82/root/P_6/pplacer.extended.2.wgelny4z.fasta, output:/tmp/sepp/output.8e_5hh82/root/P_6/pplacer.extended.2.wgelny4z.jplace\n",
      "[18:24:25] jobs.py (line 131):     INFO: Finished pplacer Job with input: backbone_alignment_file:/tmp/sepp/output.8e_5hh82/root/P_6/pplacer.backbone.lm0pnrtl.fasta, tree_file:/tmp/sepp/output.8e_5hh82/root/P_6/pplacer.tree.rj50575p.tre, info_file:/home/lauro/anaconda3/envs/qiime2-2021.11/lib/python3.8/site-packages/picrust2/default_files/prokaryotic/pro_ref/pro_ref.raxml_info, extended alignment:/tmp/sepp/output.8e_5hh82/root/P_6/pplacer.extended.0.h5zai8y7.fasta, output:/tmp/sepp/output.8e_5hh82/root/P_6/pplacer.extended.0.h5zai8y7.jplace\n",
      "[18:24:26] jobs.py (line 131):     INFO: Finished pplacer Job with input: backbone_alignment_file:/tmp/sepp/output.8e_5hh82/root/P_6/pplacer.backbone.f1yd65xj.fasta, tree_file:/tmp/sepp/output.8e_5hh82/root/P_6/pplacer.tree.q6_200b_.tre, info_file:/home/lauro/anaconda3/envs/qiime2-2021.11/lib/python3.8/site-packages/picrust2/default_files/prokaryotic/pro_ref/pro_ref.raxml_info, extended alignment:/tmp/sepp/output.8e_5hh82/root/P_6/pplacer.extended.1.imm979o6.fasta, output:/tmp/sepp/output.8e_5hh82/root/P_6/pplacer.extended.1.imm979o6.jplace\n",
      "[18:24:26] jobs.py (line 131):     INFO: Finished pplacer Job with input: backbone_alignment_file:/tmp/sepp/output.8e_5hh82/root/P_8/pplacer.backbone.y0xhy1fm.fasta, tree_file:/tmp/sepp/output.8e_5hh82/root/P_8/pplacer.tree.p6qhekk3.tre, info_file:/home/lauro/anaconda3/envs/qiime2-2021.11/lib/python3.8/site-packages/picrust2/default_files/prokaryotic/pro_ref/pro_ref.raxml_info, extended alignment:/tmp/sepp/output.8e_5hh82/root/P_8/pplacer.extended.0.0dtj1916.fasta, output:/tmp/sepp/output.8e_5hh82/root/P_8/pplacer.extended.0.0dtj1916.jplace\n",
      "[18:24:26] jobs.py (line 131):     INFO: Finished pplacer Job with input: backbone_alignment_file:/tmp/sepp/output.8e_5hh82/root/P_8/pplacer.backbone.58z_nuy8.fasta, tree_file:/tmp/sepp/output.8e_5hh82/root/P_8/pplacer.tree.m6x80d8o.tre, info_file:/home/lauro/anaconda3/envs/qiime2-2021.11/lib/python3.8/site-packages/picrust2/default_files/prokaryotic/pro_ref/pro_ref.raxml_info, extended alignment:/tmp/sepp/output.8e_5hh82/root/P_8/pplacer.extended.1.x4t1xxct.fasta, output:/tmp/sepp/output.8e_5hh82/root/P_8/pplacer.extended.1.x4t1xxct.jplace\n",
      "[18:24:30] jobs.py (line 131):     INFO: Finished pplacer Job with input: backbone_alignment_file:/tmp/sepp/output.8e_5hh82/root/P_8/pplacer.backbone.b9ersvcp.fasta, tree_file:/tmp/sepp/output.8e_5hh82/root/P_8/pplacer.tree.6cuukzza.tre, info_file:/home/lauro/anaconda3/envs/qiime2-2021.11/lib/python3.8/site-packages/picrust2/default_files/prokaryotic/pro_ref/pro_ref.raxml_info, extended alignment:/tmp/sepp/output.8e_5hh82/root/P_8/pplacer.extended.2.tfr7qjlq.fasta, output:/tmp/sepp/output.8e_5hh82/root/P_8/pplacer.extended.2.tfr7qjlq.jplace\n",
      "[18:24:34] jobs.py (line 131):     INFO: Finished pplacer Job with input: backbone_alignment_file:/tmp/sepp/output.8e_5hh82/root/P_10/pplacer.backbone.k6lb7qh8.fasta, tree_file:/tmp/sepp/output.8e_5hh82/root/P_10/pplacer.tree.aee9_r8h.tre, info_file:/home/lauro/anaconda3/envs/qiime2-2021.11/lib/python3.8/site-packages/picrust2/default_files/prokaryotic/pro_ref/pro_ref.raxml_info, extended alignment:/tmp/sepp/output.8e_5hh82/root/P_10/pplacer.extended.0.j36hu78u.fasta, output:/tmp/sepp/output.8e_5hh82/root/P_10/pplacer.extended.0.j36hu78u.jplace\n",
      "[18:24:34] jobs.py (line 131):     INFO: Finished pplacer Job with input: backbone_alignment_file:/tmp/sepp/output.8e_5hh82/root/P_10/pplacer.backbone.phv0i8bc.fasta, tree_file:/tmp/sepp/output.8e_5hh82/root/P_10/pplacer.tree.722hsn_w.tre, info_file:/home/lauro/anaconda3/envs/qiime2-2021.11/lib/python3.8/site-packages/picrust2/default_files/prokaryotic/pro_ref/pro_ref.raxml_info, extended alignment:/tmp/sepp/output.8e_5hh82/root/P_10/pplacer.extended.1.1egv56ea.fasta, output:/tmp/sepp/output.8e_5hh82/root/P_10/pplacer.extended.1.1egv56ea.jplace\n",
      "[18:24:34] jobs.py (line 131):     INFO: Finished pplacer Job with input: backbone_alignment_file:/tmp/sepp/output.8e_5hh82/root/P_7/pplacer.backbone.723s2ttj.fasta, tree_file:/tmp/sepp/output.8e_5hh82/root/P_7/pplacer.tree.qjuz14xc.tre, info_file:/home/lauro/anaconda3/envs/qiime2-2021.11/lib/python3.8/site-packages/picrust2/default_files/prokaryotic/pro_ref/pro_ref.raxml_info, extended alignment:/tmp/sepp/output.8e_5hh82/root/P_7/pplacer.extended.0.sg0ln15j.fasta, output:/tmp/sepp/output.8e_5hh82/root/P_7/pplacer.extended.0.sg0ln15j.jplace\n",
      "[18:24:35] jobs.py (line 131):     INFO: Finished pplacer Job with input: backbone_alignment_file:/tmp/sepp/output.8e_5hh82/root/P_7/pplacer.backbone.cnukk6av.fasta, tree_file:/tmp/sepp/output.8e_5hh82/root/P_7/pplacer.tree.lnecatep.tre, info_file:/home/lauro/anaconda3/envs/qiime2-2021.11/lib/python3.8/site-packages/picrust2/default_files/prokaryotic/pro_ref/pro_ref.raxml_info, extended alignment:/tmp/sepp/output.8e_5hh82/root/P_7/pplacer.extended.1.n0zczogt.fasta, output:/tmp/sepp/output.8e_5hh82/root/P_7/pplacer.extended.1.n0zczogt.jplace\n",
      "[18:24:35] jobs.py (line 131):     INFO: Finished pplacer Job with input: backbone_alignment_file:/tmp/sepp/output.8e_5hh82/root/P_7/pplacer.backbone.s54iv062.fasta, tree_file:/tmp/sepp/output.8e_5hh82/root/P_7/pplacer.tree.q4ci3uf1.tre, info_file:/home/lauro/anaconda3/envs/qiime2-2021.11/lib/python3.8/site-packages/picrust2/default_files/prokaryotic/pro_ref/pro_ref.raxml_info, extended alignment:/tmp/sepp/output.8e_5hh82/root/P_7/pplacer.extended.2.egm0bxf4.fasta, output:/tmp/sepp/output.8e_5hh82/root/P_7/pplacer.extended.2.egm0bxf4.jplace\n",
      "[18:24:44] jobs.py (line 131):     INFO: Finished pplacer Job with input: backbone_alignment_file:/tmp/sepp/output.8e_5hh82/root/P_9/pplacer.backbone.g08ybnxo.fasta, tree_file:/tmp/sepp/output.8e_5hh82/root/P_9/pplacer.tree.fl5q0k1z.tre, info_file:/home/lauro/anaconda3/envs/qiime2-2021.11/lib/python3.8/site-packages/picrust2/default_files/prokaryotic/pro_ref/pro_ref.raxml_info, extended alignment:/tmp/sepp/output.8e_5hh82/root/P_9/pplacer.extended.0.26l_xpdt.fasta, output:/tmp/sepp/output.8e_5hh82/root/P_9/pplacer.extended.0.26l_xpdt.jplace\n",
      "[18:24:44] jobs.py (line 131):     INFO: Finished pplacer Job with input: backbone_alignment_file:/tmp/sepp/output.8e_5hh82/root/P_9/pplacer.backbone.ewqoo3jr.fasta, tree_file:/tmp/sepp/output.8e_5hh82/root/P_9/pplacer.tree.hzfry1z9.tre, info_file:/home/lauro/anaconda3/envs/qiime2-2021.11/lib/python3.8/site-packages/picrust2/default_files/prokaryotic/pro_ref/pro_ref.raxml_info, extended alignment:/tmp/sepp/output.8e_5hh82/root/P_9/pplacer.extended.1.6w6l6ft0.fasta, output:/tmp/sepp/output.8e_5hh82/root/P_9/pplacer.extended.1.6w6l6ft0.jplace\n",
      "[18:24:45] jobs.py (line 131):     INFO: Finished pplacer Job with input: backbone_alignment_file:/tmp/sepp/output.8e_5hh82/root/P_9/pplacer.backbone.bsbfe0iq.fasta, tree_file:/tmp/sepp/output.8e_5hh82/root/P_9/pplacer.tree.w71fc8ne.tre, info_file:/home/lauro/anaconda3/envs/qiime2-2021.11/lib/python3.8/site-packages/picrust2/default_files/prokaryotic/pro_ref/pro_ref.raxml_info, extended alignment:/tmp/sepp/output.8e_5hh82/root/P_9/pplacer.extended.2.20cccegt.fasta, output:/tmp/sepp/output.8e_5hh82/root/P_9/pplacer.extended.2.20cccegt.jplace\n",
      "[18:24:49] jobs.py (line 131):     INFO: Finished pplacer Job with input: backbone_alignment_file:/tmp/sepp/output.8e_5hh82/root/P_10/pplacer.backbone.tbi38gvx.fasta, tree_file:/tmp/sepp/output.8e_5hh82/root/P_10/pplacer.tree.wkf_uol3.tre, info_file:/home/lauro/anaconda3/envs/qiime2-2021.11/lib/python3.8/site-packages/picrust2/default_files/prokaryotic/pro_ref/pro_ref.raxml_info, extended alignment:/tmp/sepp/output.8e_5hh82/root/P_10/pplacer.extended.2.8unq9j6l.fasta, output:/tmp/sepp/output.8e_5hh82/root/P_10/pplacer.extended.2.8unq9j6l.jplace\n",
      "[18:24:50] jobs.py (line 131):     INFO: Finished pplacer Job with input: backbone_alignment_file:/tmp/sepp/output.8e_5hh82/root/P_12/pplacer.backbone.dtgf8010.fasta, tree_file:/tmp/sepp/output.8e_5hh82/root/P_12/pplacer.tree.t_5eoxb4.tre, info_file:/home/lauro/anaconda3/envs/qiime2-2021.11/lib/python3.8/site-packages/picrust2/default_files/prokaryotic/pro_ref/pro_ref.raxml_info, extended alignment:/tmp/sepp/output.8e_5hh82/root/P_12/pplacer.extended.1.k_h89qwv.fasta, output:/tmp/sepp/output.8e_5hh82/root/P_12/pplacer.extended.1.k_h89qwv.jplace\n",
      "[18:24:55] jobs.py (line 131):     INFO: Finished pplacer Job with input: backbone_alignment_file:/tmp/sepp/output.8e_5hh82/root/P_12/pplacer.backbone.xebwvbni.fasta, tree_file:/tmp/sepp/output.8e_5hh82/root/P_12/pplacer.tree.j9zbu_rb.tre, info_file:/home/lauro/anaconda3/envs/qiime2-2021.11/lib/python3.8/site-packages/picrust2/default_files/prokaryotic/pro_ref/pro_ref.raxml_info, extended alignment:/tmp/sepp/output.8e_5hh82/root/P_12/pplacer.extended.0.7wal5zlz.fasta, output:/tmp/sepp/output.8e_5hh82/root/P_12/pplacer.extended.0.7wal5zlz.jplace\n",
      "[18:24:59] jobs.py (line 131):     INFO: Finished pplacer Job with input: backbone_alignment_file:/tmp/sepp/output.8e_5hh82/root/P_14/pplacer.backbone.btesqe_1.fasta, tree_file:/tmp/sepp/output.8e_5hh82/root/P_14/pplacer.tree.gmyqnm26.tre, info_file:/home/lauro/anaconda3/envs/qiime2-2021.11/lib/python3.8/site-packages/picrust2/default_files/prokaryotic/pro_ref/pro_ref.raxml_info, extended alignment:/tmp/sepp/output.8e_5hh82/root/P_14/pplacer.extended.0.1_fgg2cq.fasta, output:/tmp/sepp/output.8e_5hh82/root/P_14/pplacer.extended.0.1_fgg2cq.jplace\n",
      "[18:25:02] jobs.py (line 131):     INFO: Finished pplacer Job with input: backbone_alignment_file:/tmp/sepp/output.8e_5hh82/root/P_13/pplacer.backbone.jy9hctb8.fasta, tree_file:/tmp/sepp/output.8e_5hh82/root/P_13/pplacer.tree.vp_ca3kd.tre, info_file:/home/lauro/anaconda3/envs/qiime2-2021.11/lib/python3.8/site-packages/picrust2/default_files/prokaryotic/pro_ref/pro_ref.raxml_info, extended alignment:/tmp/sepp/output.8e_5hh82/root/P_13/pplacer.extended.0.rbd3acnp.fasta, output:/tmp/sepp/output.8e_5hh82/root/P_13/pplacer.extended.0.rbd3acnp.jplace\n",
      "[18:25:02] jobs.py (line 131):     INFO: Finished pplacer Job with input: backbone_alignment_file:/tmp/sepp/output.8e_5hh82/root/P_13/pplacer.backbone.iaec6p_0.fasta, tree_file:/tmp/sepp/output.8e_5hh82/root/P_13/pplacer.tree.edajxogz.tre, info_file:/home/lauro/anaconda3/envs/qiime2-2021.11/lib/python3.8/site-packages/picrust2/default_files/prokaryotic/pro_ref/pro_ref.raxml_info, extended alignment:/tmp/sepp/output.8e_5hh82/root/P_13/pplacer.extended.1.xvvxm2yv.fasta, output:/tmp/sepp/output.8e_5hh82/root/P_13/pplacer.extended.1.xvvxm2yv.jplace\n",
      "[18:25:04] jobs.py (line 131):     INFO: Finished pplacer Job with input: backbone_alignment_file:/tmp/sepp/output.8e_5hh82/root/P_14/pplacer.backbone.yfvdvaad.fasta, tree_file:/tmp/sepp/output.8e_5hh82/root/P_14/pplacer.tree.l5gguw9z.tre, info_file:/home/lauro/anaconda3/envs/qiime2-2021.11/lib/python3.8/site-packages/picrust2/default_files/prokaryotic/pro_ref/pro_ref.raxml_info, extended alignment:/tmp/sepp/output.8e_5hh82/root/P_14/pplacer.extended.1.b200d16u.fasta, output:/tmp/sepp/output.8e_5hh82/root/P_14/pplacer.extended.1.b200d16u.jplace\n",
      "[18:25:05] jobs.py (line 131):     INFO: Finished pplacer Job with input: backbone_alignment_file:/tmp/sepp/output.8e_5hh82/root/P_12/pplacer.backbone.py1laruo.fasta, tree_file:/tmp/sepp/output.8e_5hh82/root/P_12/pplacer.tree.j9ayw8mr.tre, info_file:/home/lauro/anaconda3/envs/qiime2-2021.11/lib/python3.8/site-packages/picrust2/default_files/prokaryotic/pro_ref/pro_ref.raxml_info, extended alignment:/tmp/sepp/output.8e_5hh82/root/P_12/pplacer.extended.2.5jjg83wc.fasta, output:/tmp/sepp/output.8e_5hh82/root/P_12/pplacer.extended.2.5jjg83wc.jplace\n",
      "[18:25:05] jobs.py (line 131):     INFO: Finished pplacer Job with input: backbone_alignment_file:/tmp/sepp/output.8e_5hh82/root/P_13/pplacer.backbone.nb1f85e4.fasta, tree_file:/tmp/sepp/output.8e_5hh82/root/P_13/pplacer.tree.tbzuuk93.tre, info_file:/home/lauro/anaconda3/envs/qiime2-2021.11/lib/python3.8/site-packages/picrust2/default_files/prokaryotic/pro_ref/pro_ref.raxml_info, extended alignment:/tmp/sepp/output.8e_5hh82/root/P_13/pplacer.extended.2.chgrmf06.fasta, output:/tmp/sepp/output.8e_5hh82/root/P_13/pplacer.extended.2.chgrmf06.jplace\n",
      "[18:25:07] jobs.py (line 131):     INFO: Finished pplacer Job with input: backbone_alignment_file:/tmp/sepp/output.8e_5hh82/root/P_14/pplacer.backbone.sn1_nuy7.fasta, tree_file:/tmp/sepp/output.8e_5hh82/root/P_14/pplacer.tree.3z1uldx9.tre, info_file:/home/lauro/anaconda3/envs/qiime2-2021.11/lib/python3.8/site-packages/picrust2/default_files/prokaryotic/pro_ref/pro_ref.raxml_info, extended alignment:/tmp/sepp/output.8e_5hh82/root/P_14/pplacer.extended.2.e0q5lrsa.fasta, output:/tmp/sepp/output.8e_5hh82/root/P_14/pplacer.extended.2.e0q5lrsa.jplace\n",
      "[18:25:16] jobs.py (line 131):     INFO: Finished pplacer Job with input: backbone_alignment_file:/tmp/sepp/output.8e_5hh82/root/P_15/pplacer.backbone.pq5n_jty.fasta, tree_file:/tmp/sepp/output.8e_5hh82/root/P_15/pplacer.tree.c5t9rjlg.tre, info_file:/home/lauro/anaconda3/envs/qiime2-2021.11/lib/python3.8/site-packages/picrust2/default_files/prokaryotic/pro_ref/pro_ref.raxml_info, extended alignment:/tmp/sepp/output.8e_5hh82/root/P_15/pplacer.extended.0.dvxaw196.fasta, output:/tmp/sepp/output.8e_5hh82/root/P_15/pplacer.extended.0.dvxaw196.jplace\n",
      "[18:25:17] jobs.py (line 131):     INFO: Finished pplacer Job with input: backbone_alignment_file:/tmp/sepp/output.8e_5hh82/root/P_15/pplacer.backbone.69cgd20_.fasta, tree_file:/tmp/sepp/output.8e_5hh82/root/P_15/pplacer.tree.up_o11i_.tre, info_file:/home/lauro/anaconda3/envs/qiime2-2021.11/lib/python3.8/site-packages/picrust2/default_files/prokaryotic/pro_ref/pro_ref.raxml_info, extended alignment:/tmp/sepp/output.8e_5hh82/root/P_15/pplacer.extended.2.xhkt542k.fasta, output:/tmp/sepp/output.8e_5hh82/root/P_15/pplacer.extended.2.xhkt542k.jplace\n",
      "[18:25:18] jobs.py (line 131):     INFO: Finished pplacer Job with input: backbone_alignment_file:/tmp/sepp/output.8e_5hh82/root/P_15/pplacer.backbone.ltz53hoz.fasta, tree_file:/tmp/sepp/output.8e_5hh82/root/P_15/pplacer.tree.2vqjfj_e.tre, info_file:/home/lauro/anaconda3/envs/qiime2-2021.11/lib/python3.8/site-packages/picrust2/default_files/prokaryotic/pro_ref/pro_ref.raxml_info, extended alignment:/tmp/sepp/output.8e_5hh82/root/P_15/pplacer.extended.1.jdjd9l4y.fasta, output:/tmp/sepp/output.8e_5hh82/root/P_15/pplacer.extended.1.jdjd9l4y.jplace\n",
      "[18:25:35] jobs.py (line 131):     INFO: Finished pplacer Job with input: backbone_alignment_file:/tmp/sepp/output.8e_5hh82/root/P_11/pplacer.backbone.9uugzjr1.fasta, tree_file:/tmp/sepp/output.8e_5hh82/root/P_11/pplacer.tree.ebm7pv49.tre, info_file:/home/lauro/anaconda3/envs/qiime2-2021.11/lib/python3.8/site-packages/picrust2/default_files/prokaryotic/pro_ref/pro_ref.raxml_info, extended alignment:/tmp/sepp/output.8e_5hh82/root/P_11/pplacer.extended.1.3y5n1mcw.fasta, output:/tmp/sepp/output.8e_5hh82/root/P_11/pplacer.extended.1.3y5n1mcw.jplace\n",
      "[18:25:35] jobs.py (line 131):     INFO: Finished pplacer Job with input: backbone_alignment_file:/tmp/sepp/output.8e_5hh82/root/P_11/pplacer.backbone.7at_55u7.fasta, tree_file:/tmp/sepp/output.8e_5hh82/root/P_11/pplacer.tree.6idrfy4x.tre, info_file:/home/lauro/anaconda3/envs/qiime2-2021.11/lib/python3.8/site-packages/picrust2/default_files/prokaryotic/pro_ref/pro_ref.raxml_info, extended alignment:/tmp/sepp/output.8e_5hh82/root/P_11/pplacer.extended.0.mxs7x6ns.fasta, output:/tmp/sepp/output.8e_5hh82/root/P_11/pplacer.extended.0.mxs7x6ns.jplace\n",
      "[18:25:36] jobs.py (line 131):     INFO: Finished pplacer Job with input: backbone_alignment_file:/tmp/sepp/output.8e_5hh82/root/P_11/pplacer.backbone.uk_sjkwo.fasta, tree_file:/tmp/sepp/output.8e_5hh82/root/P_11/pplacer.tree.fonrx1gz.tre, info_file:/home/lauro/anaconda3/envs/qiime2-2021.11/lib/python3.8/site-packages/picrust2/default_files/prokaryotic/pro_ref/pro_ref.raxml_info, extended alignment:/tmp/sepp/output.8e_5hh82/root/P_11/pplacer.extended.2.r2byxbz1.fasta, output:/tmp/sepp/output.8e_5hh82/root/P_11/pplacer.extended.2.r2byxbz1.jplace\n",
      "[18:25:50] jobs.py (line 131):     INFO: Finished jsonmerger Job with input: input:pipe output:/tmp/tmpkmz543og/picrust2_out/intermediate/place_seqs/sepp_out/output_placement.json\n",
      "[18:25:51] algorithm.py (line 195):     INFO: Current execution Finished in 151 seconds\n",
      "[18:25:51] algorithm.py (line 197):     INFO: All checkpointed executions Finished in 151 cumulative time\n",
      "\n",
      "gappa examine graft --jplace-path /tmp/tmpkmz543og/picrust2_out/intermediate/place_seqs/sepp_out/output_placement.json --fully-resolve --out-dir /tmp/tmpkmz543og/picrust2_out/intermediate/place_seqs/sepp_out\n",
      "\n",
      "mv /tmp/tmpkmz543og/picrust2_out/intermediate/place_seqs/sepp_out/output_placement.newick /tmp/tmpkmz543og/picrust2_out/out.tre\n",
      "\n",
      "Finished placing sequences on output tree: /tmp/tmpkmz543og/picrust2_out/out.tre\n",
      "hsp.py --tree /tmp/tmpkmz543og/picrust2_out/out.tre --output /tmp/tmpkmz543og/picrust2_out/marker_predicted_and_nsti.tsv.gz --observed_trait_table /home/lauro/anaconda3/envs/qiime2-2021.11/lib/python3.8/site-packages/picrust2/default_files/prokaryotic/16S.txt.gz --hsp_method pic --edge_exponent 0.5 --seed 100 --calculate_NSTI --processes 1 --verbose\n"
     ]
    },
    {
     "name": "stdout",
     "output_type": "stream",
     "text": [
      "\n",
      "\n",
      "\n"
     ]
    },
    {
     "name": "stderr",
     "output_type": "stream",
     "text": [
      "Rscript /home/lauro/anaconda3/envs/qiime2-2021.11/lib/python3.8/site-packages/picrust2/Rscripts/castor_nsti.R /tmp/tmpkmz543og/picrust2_out/out.tre /tmp/tmpxqi1ljoa/known_tips.txt /tmp/tmpxqi1ljoa/nsti_out.txt\n",
      "\n",
      "Rscript /home/lauro/anaconda3/envs/qiime2-2021.11/lib/python3.8/site-packages/picrust2/Rscripts/castor_hsp.R /tmp/tmpkmz543og/picrust2_out/out.tre /tmp/tmpq4tmkzpb/subset_tab_0 pic 0.5 FALSE FALSE /tmp/tmpv8g7sfg6/predicted_counts.txt /tmp/tmpv8g7sfg6/predicted_ci.txt 100\n",
      "\n",
      "\n",
      "hsp.py --tree /tmp/tmpkmz543og/picrust2_out/out.tre --output /tmp/tmpkmz543og/picrust2_out/EC_predicted.tsv.gz --observed_trait_table /home/lauro/anaconda3/envs/qiime2-2021.11/lib/python3.8/site-packages/picrust2/default_files/prokaryotic/ec.txt.gz --hsp_method pic --edge_exponent 0.5 --seed 100 --processes 6 --verbose\n"
     ]
    },
    {
     "name": "stdout",
     "output_type": "stream",
     "text": [
      "\n",
      "\n",
      "\n",
      "\n",
      "\n",
      "\n",
      "\n"
     ]
    },
    {
     "name": "stderr",
     "output_type": "stream",
     "text": [
      "Rscript /home/lauro/anaconda3/envs/qiime2-2021.11/lib/python3.8/site-packages/picrust2/Rscripts/castor_hsp.R /tmp/tmpkmz543og/picrust2_out/out.tre /tmp/tmpob1wyzll/subset_tab_5 pic 0.5 FALSE FALSE /tmp/tmp5degkc9w/predicted_counts.txt /tmp/tmp5degkc9w/predicted_ci.txt 100\n",
      "\n",
      "Rscript /home/lauro/anaconda3/envs/qiime2-2021.11/lib/python3.8/site-packages/picrust2/Rscripts/castor_hsp.R /tmp/tmpkmz543og/picrust2_out/out.tre /tmp/tmpob1wyzll/subset_tab_0 pic 0.5 FALSE FALSE /tmp/tmplqvojun8/predicted_counts.txt /tmp/tmplqvojun8/predicted_ci.txt 100\n",
      "\n",
      "Rscript /home/lauro/anaconda3/envs/qiime2-2021.11/lib/python3.8/site-packages/picrust2/Rscripts/castor_hsp.R /tmp/tmpkmz543og/picrust2_out/out.tre /tmp/tmpob1wyzll/subset_tab_1 pic 0.5 FALSE FALSE /tmp/tmpflw_mtme/predicted_counts.txt /tmp/tmpflw_mtme/predicted_ci.txt 100\n",
      "\n",
      "Rscript /home/lauro/anaconda3/envs/qiime2-2021.11/lib/python3.8/site-packages/picrust2/Rscripts/castor_hsp.R /tmp/tmpkmz543og/picrust2_out/out.tre /tmp/tmpob1wyzll/subset_tab_3 pic 0.5 FALSE FALSE /tmp/tmpy0v94t_n/predicted_counts.txt /tmp/tmpy0v94t_n/predicted_ci.txt 100\n",
      "\n",
      "Rscript /home/lauro/anaconda3/envs/qiime2-2021.11/lib/python3.8/site-packages/picrust2/Rscripts/castor_hsp.R /tmp/tmpkmz543og/picrust2_out/out.tre /tmp/tmpob1wyzll/subset_tab_4 pic 0.5 FALSE FALSE /tmp/tmp2742nf90/predicted_counts.txt /tmp/tmp2742nf90/predicted_ci.txt 100\n",
      "\n",
      "Rscript /home/lauro/anaconda3/envs/qiime2-2021.11/lib/python3.8/site-packages/picrust2/Rscripts/castor_hsp.R /tmp/tmpkmz543og/picrust2_out/out.tre /tmp/tmpob1wyzll/subset_tab_2 pic 0.5 FALSE FALSE /tmp/tmp9ede5k6x/predicted_counts.txt /tmp/tmp9ede5k6x/predicted_ci.txt 100\n",
      "\n",
      "\n",
      "hsp.py --tree /tmp/tmpkmz543og/picrust2_out/out.tre --output /tmp/tmpkmz543og/picrust2_out/KO_predicted.tsv.gz --observed_trait_table /home/lauro/anaconda3/envs/qiime2-2021.11/lib/python3.8/site-packages/picrust2/default_files/prokaryotic/ko.txt.gz --hsp_method pic --edge_exponent 0.5 --seed 100 --processes 6 --verbose\n"
     ]
    },
    {
     "name": "stdout",
     "output_type": "stream",
     "text": [
      "\n",
      "\n",
      "\n",
      "\n",
      "\n",
      "\n",
      "\n",
      "\n",
      "\n",
      "\n",
      "\n",
      "\n",
      "\n",
      "\n",
      "\n",
      "\n",
      "\n",
      "\n",
      "\n",
      "\n",
      "\n",
      "\n",
      "\n"
     ]
    },
    {
     "name": "stderr",
     "output_type": "stream",
     "text": [
      "Rscript /home/lauro/anaconda3/envs/qiime2-2021.11/lib/python3.8/site-packages/picrust2/Rscripts/castor_hsp.R /tmp/tmpkmz543og/picrust2_out/out.tre /tmp/tmpssj3x4co/subset_tab_3 pic 0.5 FALSE FALSE /tmp/tmpuu1tfyc5/predicted_counts.txt /tmp/tmpuu1tfyc5/predicted_ci.txt 100\n",
      "\n",
      "Rscript /home/lauro/anaconda3/envs/qiime2-2021.11/lib/python3.8/site-packages/picrust2/Rscripts/castor_hsp.R /tmp/tmpkmz543og/picrust2_out/out.tre /tmp/tmpssj3x4co/subset_tab_10 pic 0.5 FALSE FALSE /tmp/tmpkn8xa2_q/predicted_counts.txt /tmp/tmpkn8xa2_q/predicted_ci.txt 100\n",
      "\n",
      "Rscript /home/lauro/anaconda3/envs/qiime2-2021.11/lib/python3.8/site-packages/picrust2/Rscripts/castor_hsp.R /tmp/tmpkmz543og/picrust2_out/out.tre /tmp/tmpssj3x4co/subset_tab_16 pic 0.5 FALSE FALSE /tmp/tmpya4j9h8f/predicted_counts.txt /tmp/tmpya4j9h8f/predicted_ci.txt 100\n",
      "\n",
      "Rscript /home/lauro/anaconda3/envs/qiime2-2021.11/lib/python3.8/site-packages/picrust2/Rscripts/castor_hsp.R /tmp/tmpkmz543og/picrust2_out/out.tre /tmp/tmpssj3x4co/subset_tab_1 pic 0.5 FALSE FALSE /tmp/tmp4nvm4r1n/predicted_counts.txt /tmp/tmp4nvm4r1n/predicted_ci.txt 100\n",
      "\n",
      "Rscript /home/lauro/anaconda3/envs/qiime2-2021.11/lib/python3.8/site-packages/picrust2/Rscripts/castor_hsp.R /tmp/tmpkmz543og/picrust2_out/out.tre /tmp/tmpssj3x4co/subset_tab_9 pic 0.5 FALSE FALSE /tmp/tmpzrbe0ror/predicted_counts.txt /tmp/tmpzrbe0ror/predicted_ci.txt 100\n",
      "\n",
      "Rscript /home/lauro/anaconda3/envs/qiime2-2021.11/lib/python3.8/site-packages/picrust2/Rscripts/castor_hsp.R /tmp/tmpkmz543og/picrust2_out/out.tre /tmp/tmpssj3x4co/subset_tab_17 pic 0.5 FALSE FALSE /tmp/tmpx3hc_qm6/predicted_counts.txt /tmp/tmpx3hc_qm6/predicted_ci.txt 100\n",
      "\n",
      "Rscript /home/lauro/anaconda3/envs/qiime2-2021.11/lib/python3.8/site-packages/picrust2/Rscripts/castor_hsp.R /tmp/tmpkmz543og/picrust2_out/out.tre /tmp/tmpssj3x4co/subset_tab_2 pic 0.5 FALSE FALSE /tmp/tmpc_euqavp/predicted_counts.txt /tmp/tmpc_euqavp/predicted_ci.txt 100\n",
      "\n",
      "Rscript /home/lauro/anaconda3/envs/qiime2-2021.11/lib/python3.8/site-packages/picrust2/Rscripts/castor_hsp.R /tmp/tmpkmz543og/picrust2_out/out.tre /tmp/tmpssj3x4co/subset_tab_6 pic 0.5 FALSE FALSE /tmp/tmpszlzxi2h/predicted_counts.txt /tmp/tmpszlzxi2h/predicted_ci.txt 100\n",
      "\n",
      "Rscript /home/lauro/anaconda3/envs/qiime2-2021.11/lib/python3.8/site-packages/picrust2/Rscripts/castor_hsp.R /tmp/tmpkmz543og/picrust2_out/out.tre /tmp/tmpssj3x4co/subset_tab_13 pic 0.5 FALSE FALSE /tmp/tmpizjq4vo1/predicted_counts.txt /tmp/tmpizjq4vo1/predicted_ci.txt 100\n",
      "\n",
      "Rscript /home/lauro/anaconda3/envs/qiime2-2021.11/lib/python3.8/site-packages/picrust2/Rscripts/castor_hsp.R /tmp/tmpkmz543og/picrust2_out/out.tre /tmp/tmpssj3x4co/subset_tab_21 pic 0.5 FALSE FALSE /tmp/tmpjpit2eua/predicted_counts.txt /tmp/tmpjpit2eua/predicted_ci.txt 100\n",
      "\n",
      "Rscript /home/lauro/anaconda3/envs/qiime2-2021.11/lib/python3.8/site-packages/picrust2/Rscripts/castor_hsp.R /tmp/tmpkmz543og/picrust2_out/out.tre /tmp/tmpssj3x4co/subset_tab_0 pic 0.5 FALSE FALSE /tmp/tmphzc8dj27/predicted_counts.txt /tmp/tmphzc8dj27/predicted_ci.txt 100\n",
      "\n",
      "Rscript /home/lauro/anaconda3/envs/qiime2-2021.11/lib/python3.8/site-packages/picrust2/Rscripts/castor_hsp.R /tmp/tmpkmz543og/picrust2_out/out.tre /tmp/tmpssj3x4co/subset_tab_7 pic 0.5 FALSE FALSE /tmp/tmp8fzy9yho/predicted_counts.txt /tmp/tmp8fzy9yho/predicted_ci.txt 100\n",
      "\n",
      "Rscript /home/lauro/anaconda3/envs/qiime2-2021.11/lib/python3.8/site-packages/picrust2/Rscripts/castor_hsp.R /tmp/tmpkmz543og/picrust2_out/out.tre /tmp/tmpssj3x4co/subset_tab_12 pic 0.5 FALSE FALSE /tmp/tmpwka26h1l/predicted_counts.txt /tmp/tmpwka26h1l/predicted_ci.txt 100\n",
      "\n",
      "Rscript /home/lauro/anaconda3/envs/qiime2-2021.11/lib/python3.8/site-packages/picrust2/Rscripts/castor_hsp.R /tmp/tmpkmz543og/picrust2_out/out.tre /tmp/tmpssj3x4co/subset_tab_19 pic 0.5 FALSE FALSE /tmp/tmpnu0okma0/predicted_counts.txt /tmp/tmpnu0okma0/predicted_ci.txt 100\n",
      "\n",
      "Rscript /home/lauro/anaconda3/envs/qiime2-2021.11/lib/python3.8/site-packages/picrust2/Rscripts/castor_hsp.R /tmp/tmpkmz543og/picrust2_out/out.tre /tmp/tmpssj3x4co/subset_tab_5 pic 0.5 FALSE FALSE /tmp/tmptt2igg49/predicted_counts.txt /tmp/tmptt2igg49/predicted_ci.txt 100\n",
      "\n",
      "Rscript /home/lauro/anaconda3/envs/qiime2-2021.11/lib/python3.8/site-packages/picrust2/Rscripts/castor_hsp.R /tmp/tmpkmz543og/picrust2_out/out.tre /tmp/tmpssj3x4co/subset_tab_8 pic 0.5 FALSE FALSE /tmp/tmplgw34loj/predicted_counts.txt /tmp/tmplgw34loj/predicted_ci.txt 100\n",
      "\n",
      "Rscript /home/lauro/anaconda3/envs/qiime2-2021.11/lib/python3.8/site-packages/picrust2/Rscripts/castor_hsp.R /tmp/tmpkmz543og/picrust2_out/out.tre /tmp/tmpssj3x4co/subset_tab_15 pic 0.5 FALSE FALSE /tmp/tmpfhka0c81/predicted_counts.txt /tmp/tmpfhka0c81/predicted_ci.txt 100\n",
      "\n",
      "Rscript /home/lauro/anaconda3/envs/qiime2-2021.11/lib/python3.8/site-packages/picrust2/Rscripts/castor_hsp.R /tmp/tmpkmz543og/picrust2_out/out.tre /tmp/tmpssj3x4co/subset_tab_20 pic 0.5 FALSE FALSE /tmp/tmp415lsgks/predicted_counts.txt /tmp/tmp415lsgks/predicted_ci.txt 100\n",
      "\n",
      "Rscript /home/lauro/anaconda3/envs/qiime2-2021.11/lib/python3.8/site-packages/picrust2/Rscripts/castor_hsp.R /tmp/tmpkmz543og/picrust2_out/out.tre /tmp/tmpssj3x4co/subset_tab_4 pic 0.5 FALSE FALSE /tmp/tmpn8bmxo05/predicted_counts.txt /tmp/tmpn8bmxo05/predicted_ci.txt 100\n",
      "\n",
      "Rscript /home/lauro/anaconda3/envs/qiime2-2021.11/lib/python3.8/site-packages/picrust2/Rscripts/castor_hsp.R /tmp/tmpkmz543og/picrust2_out/out.tre /tmp/tmpssj3x4co/subset_tab_11 pic 0.5 FALSE FALSE /tmp/tmpn0zct2dx/predicted_counts.txt /tmp/tmpn0zct2dx/predicted_ci.txt 100\n",
      "\n",
      "Rscript /home/lauro/anaconda3/envs/qiime2-2021.11/lib/python3.8/site-packages/picrust2/Rscripts/castor_hsp.R /tmp/tmpkmz543og/picrust2_out/out.tre /tmp/tmpssj3x4co/subset_tab_14 pic 0.5 FALSE FALSE /tmp/tmpjp3ixyit/predicted_counts.txt /tmp/tmpjp3ixyit/predicted_ci.txt 100\n",
      "\n",
      "Rscript /home/lauro/anaconda3/envs/qiime2-2021.11/lib/python3.8/site-packages/picrust2/Rscripts/castor_hsp.R /tmp/tmpkmz543og/picrust2_out/out.tre /tmp/tmpssj3x4co/subset_tab_18 pic 0.5 FALSE FALSE /tmp/tmps712ylxj/predicted_counts.txt /tmp/tmps712ylxj/predicted_ci.txt 100\n",
      "\n",
      "\n",
      "Running metagenome pipeline for EC\n",
      "metagenome_pipeline.py --input /tmp/tmpkmz543og/intable.biom --function /tmp/tmpkmz543og/picrust2_out/EC_predicted.tsv.gz --min_reads 1 --min_samples 1 --out_dir /tmp/tmpkmz543og/picrust2_out/EC_metagenome_out --max_nsti 2 --marker /tmp/tmpkmz543og/picrust2_out/marker_predicted_and_nsti.tsv.gz\n"
     ]
    },
    {
     "name": "stdout",
     "output_type": "stream",
     "text": [
      "\n"
     ]
    },
    {
     "name": "stderr",
     "output_type": "stream",
     "text": [
      "6 of 580 ASVs were above the max NSTI cut-off of 2.0 and were removed from the downstream analyses.\n",
      "\n",
      "Running metagenome pipeline for KO\n",
      "metagenome_pipeline.py --input /tmp/tmpkmz543og/intable.biom --function /tmp/tmpkmz543og/picrust2_out/KO_predicted.tsv.gz --min_reads 1 --min_samples 1 --out_dir /tmp/tmpkmz543og/picrust2_out/KO_metagenome_out --max_nsti 2 --marker /tmp/tmpkmz543og/picrust2_out/marker_predicted_and_nsti.tsv.gz\n"
     ]
    },
    {
     "name": "stdout",
     "output_type": "stream",
     "text": [
      "\n",
      "Inferring pathways from predicted EC\n"
     ]
    },
    {
     "name": "stderr",
     "output_type": "stream",
     "text": [
      "6 of 580 ASVs were above the max NSTI cut-off of 2.0 and were removed from the downstream analyses.\n",
      "\n",
      "pathway_pipeline.py --input /tmp/tmpkmz543og/picrust2_out/EC_metagenome_out/pred_metagenome_unstrat.tsv.gz --out_dir /tmp/tmpkmz543og/picrust2_out/pathways_out --map /home/lauro/anaconda3/envs/qiime2-2021.11/lib/python3.8/site-packages/picrust2/default_files/pathway_mapfiles/metacyc_path2rxn_struc_filt_pro.txt --intermediate /tmp/tmpkmz543og/picrust2_out/intermediate/pathways --proc 6 --regroup_map /home/lauro/anaconda3/envs/qiime2-2021.11/lib/python3.8/site-packages/picrust2/default_files/pathway_mapfiles/ec_level4_to_metacyc_rxn.tsv --verbose\n"
     ]
    },
    {
     "name": "stderr",
     "output_type": "stream",
     "text": [
      "\n",
      "Wrote predicted pathway abundances and coverages to /tmp/tmpkmz543og/picrust2_out/pathways_out\n"
     ]
    }
   ],
   "source": [
    "need_pipeline = replace_files\n",
    "need_pipeline |= not (os.path.isfile(ec_path) and os.path.isfile(ko_path) and os.path.isfile(pathway_path))\n",
    "if need_pipeline:\n",
    "    results = picrust2.methods.full_pipeline(\n",
    "        table=tabs, \n",
    "        seq=seqs, \n",
    "        threads=6, \n",
    "        placement_tool='sepp',\n",
    "        hsp_method='pic', \n",
    "        max_nsti=2,\n",
    "        highly_verbose=True\n",
    "    )\n",
    "    ec_metagenome = results.ec_metagenome\n",
    "    ko_metagenome = results.ko_metagenome\n",
    "    pathway_abundance = results.pathway_abundance\n",
    "else:\n",
    "    ec_metagenome = Artifact.load(ec_path)\n",
    "    ko_metagenome = Artifact.load(ko_path)\n",
    "    pathway_abundance = Artifact.load(pathway_path)"
   ]
  },
  {
   "cell_type": "markdown",
   "id": "771308c4",
   "metadata": {
    "papermill": {
     "duration": 0.069305,
     "end_time": "2023-02-10T18:31:33.702474",
     "exception": false,
     "start_time": "2023-02-10T18:31:33.633169",
     "status": "completed"
    },
    "tags": []
   },
   "source": [
    "### Persist created artifacts\n",
    "\n",
    "We will define file paths and persist all artifacts. We start with `.qza` files. We will save the visualization files in sequence as `qzv` files. Finally, we save a `biom`-like file as `tsv` with brief descriptions of all functions."
   ]
  },
  {
   "cell_type": "code",
   "execution_count": 9,
   "id": "c680ab46",
   "metadata": {
    "ExecuteTime": {
     "end_time": "2022-11-09T19:20:47.646444Z",
     "start_time": "2022-11-09T19:20:47.643806Z"
    },
    "execution": {
     "iopub.execute_input": "2023-02-10T18:31:33.847122Z",
     "iopub.status.busy": "2023-02-10T18:31:33.846616Z",
     "iopub.status.idle": "2023-02-10T18:31:33.987755Z",
     "shell.execute_reply": "2023-02-10T18:31:33.988281Z"
    },
    "papermill": {
     "duration": 0.215861,
     "end_time": "2023-02-10T18:31:33.988463",
     "exception": false,
     "start_time": "2023-02-10T18:31:33.772602",
     "status": "completed"
    },
    "tags": []
   },
   "outputs": [],
   "source": [
    "if need_pipeline:\n",
    "    # Export artifact folder\n",
    "    ec_metagenome.export_data(output_dir=ec_path.split('.')[0])\n",
    "    ko_metagenome.export_data(output_dir=ko_path.split('.')[0])\n",
    "    pathway_abundance.export_data(output_dir=pathway_path.split('.')[0])\n",
    "    \n",
    "    # Save artifacts as .qza files\n",
    "    ec_metagenome.save(ec_path)\n",
    "    ko_metagenome.save(ko_path)\n",
    "    pathway_abundance.save(pathway_path)"
   ]
  },
  {
   "cell_type": "code",
   "execution_count": 10,
   "id": "d61ebec3",
   "metadata": {
    "ExecuteTime": {
     "end_time": "2022-11-09T19:20:47.687022Z",
     "start_time": "2022-11-09T19:20:47.647637Z"
    },
    "execution": {
     "iopub.execute_input": "2023-02-10T18:31:34.134868Z",
     "iopub.status.busy": "2023-02-10T18:31:34.134132Z",
     "iopub.status.idle": "2023-02-10T18:31:41.767876Z",
     "shell.execute_reply": "2023-02-10T18:31:41.768255Z"
    },
    "papermill": {
     "duration": 7.709214,
     "end_time": "2023-02-10T18:31:41.768389",
     "exception": false,
     "start_time": "2023-02-10T18:31:34.059175",
     "status": "completed"
    },
    "tags": []
   },
   "outputs": [],
   "source": [
    "need_viz = replace_files\n",
    "need_viz |= not (os.path.isfile(ec_viz_path) and os.path.isfile(ko_viz_path) and os.path.isfile(pathway_viz_path))\n",
    "if need_viz:\n",
    "    # Create visualization artifacts\n",
    "    ec_viz = summarize(table=ec_metagenome, sample_metadata=metadata_qa).visualization\n",
    "    ko_viz = summarize(table=ko_metagenome, sample_metadata=metadata_qa).visualization\n",
    "    path_viz = summarize(table=pathway_abundance, sample_metadata=metadata_qa).visualization\n",
    "\n",
    "    # Save visualization artifacts as .qzv files\n",
    "    ec_viz.save(ec_viz_path)\n",
    "    ko_viz.save(ko_viz_path)\n",
    "    path_viz.save(pathway_viz_path)"
   ]
  },
  {
   "cell_type": "code",
   "execution_count": 11,
   "id": "57f1f4d8",
   "metadata": {
    "ExecuteTime": {
     "end_time": "2022-11-09T19:20:47.704885Z",
     "start_time": "2022-11-09T19:20:47.689312Z"
    },
    "execution": {
     "iopub.execute_input": "2023-02-10T18:31:41.853122Z",
     "iopub.status.busy": "2023-02-10T18:31:41.852132Z",
     "iopub.status.idle": "2023-02-10T18:31:45.705348Z",
     "shell.execute_reply": "2023-02-10T18:31:45.705894Z"
    },
    "papermill": {
     "duration": 3.89996,
     "end_time": "2023-02-10T18:31:45.706081",
     "exception": false,
     "start_time": "2023-02-10T18:31:41.806121",
     "status": "completed"
    },
    "tags": []
   },
   "outputs": [],
   "source": [
    "need_biom = replace_files\n",
    "need_biom |= not (os.path.isfile(ec_fpath) and os.path.isfile(ko_fpath) and os.path.isfile(pathway_fpath))\n",
    "if need_biom:\n",
    "    # Convert artifact to dataframe - transposed\n",
    "    df_pathway = pathway_abundance.view(pd.DataFrame).T\n",
    "    df_ec = ec_metagenome.view(pd.DataFrame).T\n",
    "    df_ko = ko_metagenome.view(pd.DataFrame).T\n",
    "\n",
    "    # Write dataframe to a tsv file\n",
    "    df_pathway.to_csv(pathway_fpath, sep='\\t', index=True)\n",
    "    df_ec.to_csv(ec_fpath, sep='\\t', index=True)\n",
    "    df_ko.to_csv(ko_fpath, sep='\\t', index=True)\n",
    "    \n",
    "    # Put a new column with descriptions of each function's ID\n",
    "    !add_descriptions.py -i {ec_fpath} -m EC -o {ec_desc_fpath}\n",
    "    !add_descriptions.py -i {ko_fpath} -m KO -o {ko_desc_fpath}\n",
    "    !add_descriptions.py -i {pathway_fpath} -m METACYC -o {pathway_desc_fpath}"
   ]
  }
 ],
 "metadata": {
  "celltoolbar": "Edit Metadata",
  "kernelspec": {
   "display_name": "Python 3 (ipykernel)",
   "language": "python",
   "name": "python3"
  },
  "language_info": {
   "codemirror_mode": {
    "name": "ipython",
    "version": 3
   },
   "file_extension": ".py",
   "mimetype": "text/x-python",
   "name": "python",
   "nbconvert_exporter": "python",
   "pygments_lexer": "ipython3",
   "version": "3.8.12"
  },
  "papermill": {
   "default_parameters": {},
   "duration": 544.036298,
   "end_time": "2023-02-10T18:31:46.892922",
   "environment_variables": {},
   "exception": null,
   "input_path": "nb-templates/step-picrust2-analysis.ipynb",
   "output_path": "/home/lauro/nupeb/rede-micro/redemicro-andressa-lbtm/experiments/andressa-02/nb-executed-steps/step-picrust2-analysis-andressa-02.ipynb",
   "parameters": {
    "base_dir": "/home/lauro/nupeb/rede-micro/redemicro-andressa-lbtm",
    "class_col": "state-name",
    "classifier_file": "/home/lauro/nupeb/rede-micro/models/silva-138-99-nb-classifier.qza",
    "experiment_name": "andressa-q20-trim_primer",
    "manifest_file": "/home/lauro/nupeb/rede-micro/redemicro-andressa-lbtm/data/manifest.csv",
    "metadata_file": "/home/lauro/nupeb/rede-micro/redemicro-andressa-lbtm/data/metadata.tsv",
    "overlap": 12,
    "phred": 20,
    "replace_files": false,
    "threads": 6,
    "trim": {
     "forward_primer": "CCTACGGGRSGCAGCAG",
     "overlap": 12,
     "reverse_primer": "GGACTACHVGGGTWTCTAAT"
    },
    "trunc_f": 0,
    "trunc_r": 0
   },
   "start_time": "2023-02-10T18:22:42.856624",
   "version": "2.3.4"
  }
 },
 "nbformat": 4,
 "nbformat_minor": 5
}