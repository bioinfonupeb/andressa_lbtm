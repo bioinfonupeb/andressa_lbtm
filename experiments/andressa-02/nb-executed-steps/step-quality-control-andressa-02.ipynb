{
 "cells": [
  {
   "cell_type": "markdown",
   "id": "903f44bc",
   "metadata": {
    "papermill": {
     "duration": 0.023537,
     "end_time": "2023-06-07T16:34:45.362145",
     "exception": false,
     "start_time": "2023-06-07T16:34:45.338608",
     "status": "completed"
    },
    "tags": []
   },
   "source": [
    "# Quality Control and ASV table construction with DADA2"
   ]
  },
  {
   "cell_type": "markdown",
   "id": "3fbac097",
   "metadata": {
    "papermill": {
     "duration": 0.040173,
     "end_time": "2023-06-07T16:34:45.416906",
     "exception": false,
     "start_time": "2023-06-07T16:34:45.376733",
     "status": "completed"
    },
    "tags": []
   },
   "source": [
    "## Setup and settings"
   ]
  },
  {
   "cell_type": "code",
   "execution_count": 1,
   "id": "cfd71de8",
   "metadata": {
    "ExecuteTime": {
     "end_time": "2022-06-29T18:49:49.974644Z",
     "start_time": "2022-06-29T18:49:30.876897Z"
    },
    "execution": {
     "iopub.execute_input": "2023-06-07T16:34:45.453030Z",
     "iopub.status.busy": "2023-06-07T16:34:45.452445Z",
     "iopub.status.idle": "2023-06-07T16:34:51.645648Z",
     "shell.execute_reply": "2023-06-07T16:34:51.644927Z"
    },
    "papermill": {
     "duration": 6.216413,
     "end_time": "2023-06-07T16:34:51.647356",
     "exception": false,
     "start_time": "2023-06-07T16:34:45.430943",
     "status": "completed"
    },
    "tags": []
   },
   "outputs": [],
   "source": [
    "# Importing packages\n",
    "import os\n",
    "import yaml\n",
    "import logging\n",
    "import pandas as pd\n",
    "from qiime2 import Artifact\n",
    "from qiime2 import Visualization\n",
    "from qiime2 import Metadata\n",
    "import qiime2.plugins.dada2.actions as dada2_actions\n",
    "import qiime2.plugins.metadata.actions as metadata_actions\n",
    "from qiime2.plugins.feature_table.visualizers import tabulate_seqs\n",
    "from qiime2.plugins.feature_table.visualizers import summarize\n",
    "from qiime2.plugins.feature_table.visualizers import core_features\n",
    "\n",
    "import matplotlib.pyplot as plt\n",
    "\n",
    "%matplotlib inline"
   ]
  },
  {
   "cell_type": "markdown",
   "id": "c4ace2ae",
   "metadata": {
    "papermill": {
     "duration": 0.012317,
     "end_time": "2023-06-07T16:34:51.673666",
     "exception": false,
     "start_time": "2023-06-07T16:34:51.661349",
     "status": "completed"
    },
    "tags": []
   },
   "source": [
    "### Receiving the parameters\n",
    "\n",
    "The following cell can receive parameters using the [papermill](https://papermill.readthedocs.io/en/latest/) tool."
   ]
  },
  {
   "cell_type": "code",
   "execution_count": 2,
   "id": "13b0054d",
   "metadata": {
    "ExecuteTime": {
     "end_time": "2022-06-29T18:54:01.035034Z",
     "start_time": "2022-06-29T18:54:01.028724Z"
    },
    "execution": {
     "iopub.execute_input": "2023-06-07T16:34:51.765330Z",
     "iopub.status.busy": "2023-06-07T16:34:51.765159Z",
     "iopub.status.idle": "2023-06-07T16:34:51.769486Z",
     "shell.execute_reply": "2023-06-07T16:34:51.769047Z"
    },
    "papermill": {
     "duration": 0.018443,
     "end_time": "2023-06-07T16:34:51.770789",
     "exception": false,
     "start_time": "2023-06-07T16:34:51.752346",
     "status": "completed"
    },
    "tags": [
     "parameters"
    ]
   },
   "outputs": [],
   "source": [
    "experiment_name = 'ana-flavia-superlactacao'\n",
    "base_dir = os.path.join('/', 'home', 'lauro', 'nupeb', 'redemicro')\n",
    "metadata_file = os.path.join(base_dir, 'data', 'raw', 'metadata', 'sample-metadata.tsv')\n",
    "manifest_file = os.path.join(base_dir, 'data', 'raw', 'manifest', 'sample-manifest.csv')\n",
    "replace_files = False\n",
    "phred = 20\n",
    "trunc_f = 0\n",
    "trunc_r = 0\n",
    "overlap = 12\n",
    "threads = 6\n",
    "trim = None"
   ]
  },
  {
   "cell_type": "code",
   "execution_count": 3,
   "id": "715fb052",
   "metadata": {
    "execution": {
     "iopub.execute_input": "2023-06-07T16:34:51.797377Z",
     "iopub.status.busy": "2023-06-07T16:34:51.797216Z",
     "iopub.status.idle": "2023-06-07T16:34:51.801168Z",
     "shell.execute_reply": "2023-06-07T16:34:51.800743Z"
    },
    "papermill": {
     "duration": 0.01838,
     "end_time": "2023-06-07T16:34:51.802441",
     "exception": false,
     "start_time": "2023-06-07T16:34:51.784061",
     "status": "completed"
    },
    "tags": [
     "injected-parameters"
    ]
   },
   "outputs": [],
   "source": [
    "# Parameters\n",
    "experiment_name = \"andressa-q20-trim_primer\"\n",
    "base_dir = \"/home/lauro/nupeb/rede-micro/redemicro-andressa-lbtm\"\n",
    "manifest_file = \"/home/lauro/nupeb/rede-micro/redemicro-andressa-lbtm/data/manifest.csv\"\n",
    "metadata_file = \"/home/lauro/nupeb/rede-micro/redemicro-andressa-lbtm/data/metadata.tsv\"\n",
    "class_col = \"state-name\"\n",
    "classifier_file = \"/home/lauro/nupeb/rede-micro/models/silva-138-99-nb-classifier.qza\"\n",
    "replace_files = False\n",
    "phred = 20\n",
    "trunc_f = 0\n",
    "trunc_r = 0\n",
    "overlap = 12\n",
    "threads = 6\n",
    "trim = {\n",
    "    \"overlap\": 12,\n",
    "    \"forward_primer\": \"CCTACGGGRSGCAGCAG\",\n",
    "    \"reverse_primer\": \"GGACTACHVGGGTWTCTAAT\",\n",
    "}\n"
   ]
  },
  {
   "cell_type": "code",
   "execution_count": 4,
   "id": "9e11c18b",
   "metadata": {
    "execution": {
     "iopub.execute_input": "2023-06-07T16:34:51.827636Z",
     "iopub.status.busy": "2023-06-07T16:34:51.827463Z",
     "iopub.status.idle": "2023-06-07T16:34:51.831997Z",
     "shell.execute_reply": "2023-06-07T16:34:51.831571Z"
    },
    "papermill": {
     "duration": 0.018641,
     "end_time": "2023-06-07T16:34:51.833355",
     "exception": false,
     "start_time": "2023-06-07T16:34:51.814714",
     "status": "completed"
    },
    "tags": []
   },
   "outputs": [],
   "source": [
    "# Setting hardcoded parameters for development and debbuging\n",
    "production = True\n",
    "if not production:\n",
    "    params_path = os.path.join('..', 'params', 'ana-flavia-superlactacao.yaml')\n",
    "    with open(params_path, 'r') as stream:\n",
    "        params = yaml.safe_load(stream)\n",
    "        experiment_name = params['experiment_name']\n",
    "        base_dir = params['base_dir']\n",
    "        replace_files = params['replace_files']\n",
    "        experiment_folder = os.path.abspath(os.path.join(os.getcwd(), '..', 'experiments', 'thayane-feces-01'))\n",
    "        img_folder = os.path.abspath(os.path.join(experiment_folder, 'imgs'))\n",
    "        replace_files = False\n",
    "        phred = 20\n",
    "        trunc_f = 0\n",
    "        trunc_r = 0\n",
    "        overlap = 12\n",
    "        threads = 6"
   ]
  },
  {
   "cell_type": "code",
   "execution_count": 5,
   "id": "4505ba2b",
   "metadata": {
    "ExecuteTime": {
     "end_time": "2022-06-29T18:51:02.089300Z",
     "start_time": "2022-06-29T18:51:02.084922Z"
    },
    "execution": {
     "iopub.execute_input": "2023-06-07T16:34:51.860162Z",
     "iopub.status.busy": "2023-06-07T16:34:51.860002Z",
     "iopub.status.idle": "2023-06-07T16:34:51.863279Z",
     "shell.execute_reply": "2023-06-07T16:34:51.862855Z"
    },
    "papermill": {
     "duration": 0.017535,
     "end_time": "2023-06-07T16:34:51.864571",
     "exception": false,
     "start_time": "2023-06-07T16:34:51.847036",
     "status": "completed"
    },
    "tags": []
   },
   "outputs": [],
   "source": [
    "experiment_folder = os.path.abspath(os.path.join(base_dir, 'experiments', experiment_name))\n",
    "img_folder = os.path.abspath(os.path.join(experiment_folder, 'imgs'))"
   ]
  },
  {
   "cell_type": "markdown",
   "id": "3290f3de",
   "metadata": {
    "papermill": {
     "duration": 0.012083,
     "end_time": "2023-06-07T16:34:51.888765",
     "exception": false,
     "start_time": "2023-06-07T16:34:51.876682",
     "status": "completed"
    },
    "tags": []
   },
   "source": [
    "### Defining names and paths"
   ]
  },
  {
   "cell_type": "code",
   "execution_count": 6,
   "id": "1362c616",
   "metadata": {
    "ExecuteTime": {
     "end_time": "2022-05-30T19:57:39.064490Z",
     "start_time": "2022-05-30T19:57:39.007809Z"
    },
    "execution": {
     "iopub.execute_input": "2023-06-07T16:34:51.914146Z",
     "iopub.status.busy": "2023-06-07T16:34:51.913985Z",
     "iopub.status.idle": "2023-06-07T16:34:51.918450Z",
     "shell.execute_reply": "2023-06-07T16:34:51.918028Z"
    },
    "papermill": {
     "duration": 0.018787,
     "end_time": "2023-06-07T16:34:51.919772",
     "exception": false,
     "start_time": "2023-06-07T16:34:51.900985",
     "status": "completed"
    },
    "tags": []
   },
   "outputs": [],
   "source": [
    "qiime_folder = os.path.join(experiment_folder, 'qiime-artifacts')\n",
    "\n",
    "if trim:\n",
    "    demux_file = os.path.join(qiime_folder, 'demux-paired-trim.qza')\n",
    "else:\n",
    "    demux_file = os.path.join(qiime_folder, 'demux-paired.qza')\n",
    "\n",
    "dada2_tabs = os.path.join(qiime_folder, 'dada2-tabs.qza')\n",
    "dada2_reps = os.path.join(qiime_folder, 'dada2-reps.qza')\n",
    "dada2_stat = os.path.join(qiime_folder, 'dada2-stat.qza')\n",
    "\n",
    "\n",
    "dada2_tabs_view = dada2_tabs[:-1] + 'v'\n",
    "dada2_reps_view = dada2_reps[:-1] + 'v'\n",
    "dada2_stat_view = dada2_stat[:-1] + 'v'\n",
    "dada2_core_view = os.path.join(qiime_folder, 'dada2-core.qzv')"
   ]
  },
  {
   "cell_type": "markdown",
   "id": "115bf82e",
   "metadata": {
    "papermill": {
     "duration": 0.012289,
     "end_time": "2023-06-07T16:34:51.944356",
     "exception": false,
     "start_time": "2023-06-07T16:34:51.932067",
     "status": "completed"
    },
    "tags": []
   },
   "source": [
    "## Step execution\n",
    "\n",
    "### Load input files\n",
    "\n",
    "This Step import the QIIME2 `SampleData[PairedEndSequencesWithQuality]` Artifact with all demultiplexed sequences and the `Metadata` file."
   ]
  },
  {
   "cell_type": "code",
   "execution_count": 7,
   "id": "7b685ddb",
   "metadata": {
    "ExecuteTime": {
     "end_time": "2022-05-30T19:57:39.077380Z",
     "start_time": "2022-05-30T19:57:39.066746Z"
    },
    "execution": {
     "iopub.execute_input": "2023-06-07T16:34:51.969547Z",
     "iopub.status.busy": "2023-06-07T16:34:51.969386Z",
     "iopub.status.idle": "2023-06-07T16:34:51.973038Z",
     "shell.execute_reply": "2023-06-07T16:34:51.972604Z"
    },
    "papermill": {
     "duration": 0.017785,
     "end_time": "2023-06-07T16:34:51.974414",
     "exception": false,
     "start_time": "2023-06-07T16:34:51.956629",
     "status": "completed"
    },
    "tags": []
   },
   "outputs": [],
   "source": [
    "need_dada2 = not (os.path.isfile(dada2_tabs) and os.path.isfile(dada2_reps) and os.path.isfile(dada2_stat)) or replace_files\n",
    "need_view = not (os.path.isfile(dada2_tabs_view) and os.path.isfile(dada2_reps_view) and os.path.isfile(dada2_stat_view)) or replace_files"
   ]
  },
  {
   "cell_type": "code",
   "execution_count": 8,
   "id": "9117b8eb",
   "metadata": {
    "ExecuteTime": {
     "end_time": "2022-05-30T19:57:39.089632Z",
     "start_time": "2022-05-30T19:57:39.079347Z"
    },
    "execution": {
     "iopub.execute_input": "2023-06-07T16:34:52.002299Z",
     "iopub.status.busy": "2023-06-07T16:34:52.002084Z",
     "iopub.status.idle": "2023-06-07T16:34:52.005116Z",
     "shell.execute_reply": "2023-06-07T16:34:52.004678Z"
    },
    "papermill": {
     "duration": 0.017874,
     "end_time": "2023-06-07T16:34:52.006458",
     "exception": false,
     "start_time": "2023-06-07T16:34:51.988584",
     "status": "completed"
    },
    "tags": []
   },
   "outputs": [],
   "source": [
    "if need_dada2:\n",
    "    demux = Artifact.load(demux_file)"
   ]
  },
  {
   "cell_type": "code",
   "execution_count": 9,
   "id": "893803e4",
   "metadata": {
    "ExecuteTime": {
     "end_time": "2022-05-30T19:57:39.145879Z",
     "start_time": "2022-05-30T19:57:39.091983Z"
    },
    "execution": {
     "iopub.execute_input": "2023-06-07T16:34:52.032162Z",
     "iopub.status.busy": "2023-06-07T16:34:52.032005Z",
     "iopub.status.idle": "2023-06-07T16:34:52.057702Z",
     "shell.execute_reply": "2023-06-07T16:34:52.057135Z"
    },
    "papermill": {
     "duration": 0.040093,
     "end_time": "2023-06-07T16:34:52.059093",
     "exception": false,
     "start_time": "2023-06-07T16:34:52.019000",
     "status": "completed"
    },
    "tags": []
   },
   "outputs": [],
   "source": [
    "metadata = Metadata.load(metadata_file)"
   ]
  },
  {
   "cell_type": "code",
   "execution_count": 10,
   "id": "ceed14da",
   "metadata": {
    "execution": {
     "iopub.execute_input": "2023-06-07T16:34:52.086893Z",
     "iopub.status.busy": "2023-06-07T16:34:52.086669Z",
     "iopub.status.idle": "2023-06-07T16:34:52.092319Z",
     "shell.execute_reply": "2023-06-07T16:34:52.091872Z"
    },
    "papermill": {
     "duration": 0.020475,
     "end_time": "2023-06-07T16:34:52.093670",
     "exception": false,
     "start_time": "2023-06-07T16:34:52.073195",
     "status": "completed"
    },
    "tags": []
   },
   "outputs": [],
   "source": [
    "# Determine if is SingleEnd or PairedEnd\n",
    "manifest_df = pd.read_csv(manifest_file)\n",
    "n_directions = len(manifest_df['direction'].unique())"
   ]
  },
  {
   "cell_type": "markdown",
   "id": "102cd365",
   "metadata": {
    "papermill": {
     "duration": 0.012603,
     "end_time": "2023-06-07T16:34:52.121242",
     "exception": false,
     "start_time": "2023-06-07T16:34:52.108639",
     "status": "completed"
    },
    "tags": []
   },
   "source": [
    "### Execute DADA2 plugin and create Artifacts\n",
    "\n",
    "The DADA2 plugin perform tha quality control and create the ASV table. It will be produced three Artifacts:\n",
    "\n",
    "- tabs (`FeatureTable[Frequency]`) : \n",
    "    The resulting feature table.\n",
    "- reps (`FeatureData[Sequence]`) :\n",
    "    The resulting feature sequences. Each feature in the feature table will\n",
    "    be represented by exactly one sequence, and these sequences will be the\n",
    "    joined paired-end sequences.\n",
    "- denoising_stats (`SampleData[DADA2Stats]`) : the resulting stats. Shows the number and the proportion of filtered reads in each phase of the plugin execution."
   ]
  },
  {
   "cell_type": "code",
   "execution_count": 11,
   "id": "aec10a0c",
   "metadata": {
    "ExecuteTime": {
     "end_time": "2022-05-30T19:57:39.171629Z",
     "start_time": "2022-05-30T19:57:39.147370Z"
    },
    "execution": {
     "iopub.execute_input": "2023-06-07T16:34:52.147762Z",
     "iopub.status.busy": "2023-06-07T16:34:52.147616Z",
     "iopub.status.idle": "2023-06-07T16:34:52.188105Z",
     "shell.execute_reply": "2023-06-07T16:34:52.187559Z"
    },
    "papermill": {
     "duration": 0.055279,
     "end_time": "2023-06-07T16:34:52.189588",
     "exception": false,
     "start_time": "2023-06-07T16:34:52.134309",
     "status": "completed"
    },
    "scrolled": true,
    "tags": []
   },
   "outputs": [],
   "source": [
    "# If some of the DADA2 outputs artifacts do not exist or if the old files will be replaced\n",
    "if need_dada2:\n",
    "    \n",
    "    # Excute the DADA2 plugin\n",
    "    if n_directions == 1: # SingleEnd\n",
    "        tabs, reps, stat = dada2_actions.denoise_single(\n",
    "            demultiplexed_seqs=demux,\n",
    "            trunc_q = phred,\n",
    "            n_threads = threads,\n",
    "            trunc_len = trunc_f,\n",
    "        )\n",
    "    elif n_directions == 2: # PairedEnd\n",
    "        tabs, reps, stat = dada2_actions.denoise_paired(\n",
    "            demultiplexed_seqs=demux,\n",
    "            trunc_q = phred,\n",
    "            min_overlap = overlap,\n",
    "            n_threads = threads,\n",
    "            trunc_len_f = trunc_f,\n",
    "            trunc_len_r = trunc_r,\n",
    "        )\n",
    "    \n",
    "    # Save the artifacts objects\n",
    "    tabs.save(dada2_tabs)\n",
    "    reps.save(dada2_reps)\n",
    "    stat.save(dada2_stat)\n",
    "\n",
    "else:\n",
    "    tabs = Artifact.load(dada2_tabs)\n",
    "    reps = Artifact.load(dada2_reps)\n",
    "    stat = Artifact.load(dada2_stat)"
   ]
  },
  {
   "cell_type": "markdown",
   "id": "59f4c743",
   "metadata": {
    "papermill": {
     "duration": 0.012977,
     "end_time": "2023-06-07T16:34:52.217304",
     "exception": false,
     "start_time": "2023-06-07T16:34:52.204327",
     "status": "completed"
    },
    "tags": []
   },
   "source": [
    "### Define Visualizations Artifacts"
   ]
  },
  {
   "cell_type": "code",
   "execution_count": 12,
   "id": "cff4f2d8",
   "metadata": {
    "ExecuteTime": {
     "end_time": "2022-05-30T19:57:39.249051Z",
     "start_time": "2022-05-30T19:57:39.173053Z"
    },
    "execution": {
     "iopub.execute_input": "2023-06-07T16:34:52.246082Z",
     "iopub.status.busy": "2023-06-07T16:34:52.245927Z",
     "iopub.status.idle": "2023-06-07T16:34:52.416413Z",
     "shell.execute_reply": "2023-06-07T16:34:52.415790Z"
    },
    "papermill": {
     "duration": 0.186788,
     "end_time": "2023-06-07T16:34:52.418017",
     "exception": false,
     "start_time": "2023-06-07T16:34:52.231229",
     "status": "completed"
    },
    "tags": []
   },
   "outputs": [],
   "source": [
    "# If some of the DADA2 Visualization artifacts do not exist or if the old files will be replaced\n",
    "if need_view:\n",
    "    \n",
    "    tabs_view, = metadata_actions.tabulate(input=tabs.view(Metadata))\n",
    "    reps_view, = metadata_actions.tabulate(input=reps.view(Metadata))\n",
    "    stat_view, = metadata_actions.tabulate(input=stat.view(Metadata))\n",
    "    \n",
    "    tabs_view = summarize(table=tabs, sample_metadata=metadata).visualization\n",
    "    reps_view = tabulate_seqs(data=reps).visualization\n",
    "    core_view = core_features(table=tabs, min_fraction=.1, steps=10).visualization\n",
    "    \n",
    "    \n",
    "    # Save the artifacts objects\n",
    "    tabs_view.save(dada2_tabs_view)\n",
    "    reps_view.save(dada2_reps_view)\n",
    "    stat_view.save(dada2_stat_view)\n",
    "    core_view.save(dada2_core_view)\n",
    "\n",
    "else:\n",
    "    tabs_view = Visualization.load(dada2_tabs_view)\n",
    "    reps_view = Visualization.load(dada2_reps_view)\n",
    "    stat_view = Visualization.load(dada2_stat_view)\n",
    "    core_view = Visualization.load(dada2_core_view)"
   ]
  },
  {
   "cell_type": "code",
   "execution_count": 13,
   "id": "639501ea",
   "metadata": {
    "execution": {
     "iopub.execute_input": "2023-06-07T16:34:52.446832Z",
     "iopub.status.busy": "2023-06-07T16:34:52.446673Z",
     "iopub.status.idle": "2023-06-07T16:34:52.451616Z",
     "shell.execute_reply": "2023-06-07T16:34:52.451149Z"
    },
    "papermill": {
     "duration": 0.01982,
     "end_time": "2023-06-07T16:34:52.453016",
     "exception": false,
     "start_time": "2023-06-07T16:34:52.433196",
     "status": "completed"
    },
    "tags": []
   },
   "outputs": [],
   "source": [
    "def plot_stats_box(artifact, fname, total_reads_phases, percent_phases, cols):\n",
    "    import matplotlib.pyplot as plt\n",
    "    from qiime2 import Metadata\n",
    "    \n",
    "    df = artifact.view(Metadata).to_dataframe()\n",
    "    df_vals = df[total_reads_phases]\n",
    "    df_perc = df[percent_phases]\n",
    "    df_perc.columns = cols\n",
    "    \n",
    "    \n",
    "    plt.figure(figsize=(15,5))\n",
    "    plt.subplot(1, 2, 1)\n",
    "    df_vals.boxplot()\n",
    "    plt.xlabel('Fases')\n",
    "    plt.ylabel('# of reads')\n",
    "    \n",
    "    plt.subplot(1, 2, 2)\n",
    "    df_perc.boxplot()\n",
    "    plt.xlabel('Fases')\n",
    "    plt.ylabel('% of input')\n",
    "    \n",
    "    plt.savefig(fname, bbox_inches='tight')\n",
    "\n",
    "    plt.show()"
   ]
  },
  {
   "cell_type": "code",
   "execution_count": 14,
   "id": "57bea228",
   "metadata": {
    "execution": {
     "iopub.execute_input": "2023-06-07T16:34:52.481454Z",
     "iopub.status.busy": "2023-06-07T16:34:52.481195Z",
     "iopub.status.idle": "2023-06-07T16:34:52.486192Z",
     "shell.execute_reply": "2023-06-07T16:34:52.485560Z"
    },
    "papermill": {
     "duration": 0.020643,
     "end_time": "2023-06-07T16:34:52.487813",
     "exception": false,
     "start_time": "2023-06-07T16:34:52.467170",
     "status": "completed"
    },
    "tags": []
   },
   "outputs": [],
   "source": [
    "if n_directions == 1: # SingleEnd\n",
    "    total_reads_phases = ['input', 'filtered', 'denoised', 'non-chimeric']\n",
    "    percent_phases = ['percentage of input passed filter', 'percentage of input non-chimeric']\n",
    "    cols = ['filtered', 'non-chimeric']\n",
    "elif n_directions == 2: # PairedEnd\n",
    "    total_reads_phases = ['input', 'filtered', 'denoised', 'merged', 'non-chimeric']\n",
    "    percent_phases = ['percentage of input passed filter', 'percentage of input merged', 'percentage of input non-chimeric']\n",
    "    cols = ['filtered', 'merged', 'non-chimeric']"
   ]
  },
  {
   "cell_type": "code",
   "execution_count": 15,
   "id": "dc56bf6a",
   "metadata": {
    "ExecuteTime": {
     "end_time": "2022-05-30T19:57:39.901491Z",
     "start_time": "2022-05-30T19:57:39.255220Z"
    },
    "execution": {
     "iopub.execute_input": "2023-06-07T16:34:52.517872Z",
     "iopub.status.busy": "2023-06-07T16:34:52.517715Z",
     "iopub.status.idle": "2023-06-07T16:34:53.044996Z",
     "shell.execute_reply": "2023-06-07T16:34:53.044309Z"
    },
    "papermill": {
     "duration": 0.54267,
     "end_time": "2023-06-07T16:34:53.046453",
     "exception": false,
     "start_time": "2023-06-07T16:34:52.503783",
     "status": "completed"
    },
    "scrolled": true,
    "tags": []
   },
   "outputs": [
    {
     "data": {
      "image/png": "[encoded data removed]",
      "text/plain": [
       "<Figure size 1080x360 with 2 Axes>"
      ]
     },
     "metadata": {
      "needs_background": "light"
     },
     "output_type": "display_data"
    }
   ],
   "source": [
    "plot_stats_box(stat, os.path.join(img_folder, 'step02-stats-boxplot.pdf'), total_reads_phases, percent_phases, cols)"
   ]
  },
  {
   "cell_type": "code",
   "execution_count": 16,
   "id": "df475c8f",
   "metadata": {
    "ExecuteTime": {
     "end_time": "2022-05-31T17:58:47.140114Z",
     "start_time": "2022-05-31T17:58:47.087808Z"
    },
    "execution": {
     "iopub.execute_input": "2023-06-07T16:34:53.075282Z",
     "iopub.status.busy": "2023-06-07T16:34:53.075122Z",
     "iopub.status.idle": "2023-06-07T16:34:53.112281Z",
     "shell.execute_reply": "2023-06-07T16:34:53.111842Z"
    },
    "papermill": {
     "duration": 0.052988,
     "end_time": "2023-06-07T16:34:53.113643",
     "exception": false,
     "start_time": "2023-06-07T16:34:53.060655",
     "status": "completed"
    },
    "tags": []
   },
   "outputs": [
    {
     "data": {
      "text/html": [
       "<div>\n",
       "<style scoped>\n",
       "    .dataframe tbody tr th:only-of-type {\n",
       "        vertical-align: middle;\n",
       "    }\n",
       "\n",
       "    .dataframe tbody tr th {\n",
       "        vertical-align: top;\n",
       "    }\n",
       "\n",
       "    .dataframe thead th {\n",
       "        text-align: right;\n",
       "    }\n",
       "</style>\n",
       "<table border=\"1\" class=\"dataframe\">\n",
       "  <thead>\n",
       "    <tr style=\"text-align: right;\">\n",
       "      <th></th>\n",
       "      <th>percentage of input passed filter</th>\n",
       "      <th>percentage of input merged</th>\n",
       "      <th>percentage of input non-chimeric</th>\n",
       "    </tr>\n",
       "  </thead>\n",
       "  <tbody>\n",
       "    <tr>\n",
       "      <th>count</th>\n",
       "      <td>15.000000</td>\n",
       "      <td>15.000000</td>\n",
       "      <td>15.000000</td>\n",
       "    </tr>\n",
       "    <tr>\n",
       "      <th>mean</th>\n",
       "      <td>85.426667</td>\n",
       "      <td>44.124000</td>\n",
       "      <td>40.015333</td>\n",
       "    </tr>\n",
       "    <tr>\n",
       "      <th>std</th>\n",
       "      <td>0.510135</td>\n",
       "      <td>15.193826</td>\n",
       "      <td>12.721433</td>\n",
       "    </tr>\n",
       "    <tr>\n",
       "      <th>min</th>\n",
       "      <td>84.230000</td>\n",
       "      <td>21.360000</td>\n",
       "      <td>19.780000</td>\n",
       "    </tr>\n",
       "    <tr>\n",
       "      <th>25%</th>\n",
       "      <td>85.145000</td>\n",
       "      <td>26.265000</td>\n",
       "      <td>25.910000</td>\n",
       "    </tr>\n",
       "    <tr>\n",
       "      <th>50%</th>\n",
       "      <td>85.370000</td>\n",
       "      <td>52.010000</td>\n",
       "      <td>46.610000</td>\n",
       "    </tr>\n",
       "    <tr>\n",
       "      <th>75%</th>\n",
       "      <td>85.850000</td>\n",
       "      <td>56.400000</td>\n",
       "      <td>49.560000</td>\n",
       "    </tr>\n",
       "    <tr>\n",
       "      <th>max</th>\n",
       "      <td>86.250000</td>\n",
       "      <td>61.960000</td>\n",
       "      <td>53.270000</td>\n",
       "    </tr>\n",
       "  </tbody>\n",
       "</table>\n",
       "</div>"
      ],
      "text/plain": [
       "       percentage of input passed filter  percentage of input merged  \\\n",
       "count                          15.000000                   15.000000   \n",
       "mean                           85.426667                   44.124000   \n",
       "std                             0.510135                   15.193826   \n",
       "min                            84.230000                   21.360000   \n",
       "25%                            85.145000                   26.265000   \n",
       "50%                            85.370000                   52.010000   \n",
       "75%                            85.850000                   56.400000   \n",
       "max                            86.250000                   61.960000   \n",
       "\n",
       "       percentage of input non-chimeric  \n",
       "count                         15.000000  \n",
       "mean                          40.015333  \n",
       "std                           12.721433  \n",
       "min                           19.780000  \n",
       "25%                           25.910000  \n",
       "50%                           46.610000  \n",
       "75%                           49.560000  \n",
       "max                           53.270000  "
      ]
     },
     "execution_count": 16,
     "metadata": {},
     "output_type": "execute_result"
    }
   ],
   "source": [
    "stat.view(Metadata).to_dataframe().describe()[percent_phases]"
   ]
  },
  {
   "cell_type": "code",
   "execution_count": 17,
   "id": "a6ae780a",
   "metadata": {
    "ExecuteTime": {
     "end_time": "2022-05-30T19:57:39.957632Z",
     "start_time": "2022-05-30T19:57:39.953762Z"
    },
    "execution": {
     "iopub.execute_input": "2023-06-07T16:34:53.144348Z",
     "iopub.status.busy": "2023-06-07T16:34:53.144194Z",
     "iopub.status.idle": "2023-06-07T16:34:53.149089Z",
     "shell.execute_reply": "2023-06-07T16:34:53.148655Z"
    },
    "papermill": {
     "duration": 0.021747,
     "end_time": "2023-06-07T16:34:53.150390",
     "exception": false,
     "start_time": "2023-06-07T16:34:53.128643",
     "status": "completed"
    },
    "tags": []
   },
   "outputs": [
    {
     "data": {
      "text/html": [
       "<div><img onload=\"(function(div, url){\n",
       "if (typeof require !== 'undefined') {\n",
       "    var baseURL = require.toUrl('').split('/').slice(0, -2).join('/');\n",
       "} else {\n",
       "    var baseURL = JSON.parse(\n",
       "        document.getElementById('jupyter-config-data').innerHTML\n",
       "    ).baseUrl.slice(0, -1);\n",
       "}\n",
       "url = baseURL + url;\n",
       "fetch(url).then(function(res) {\n",
       "    if (res.status === 404) {\n",
       "        div.innerHTML = 'Install QIIME 2 Jupyter extension with:<br />' +\n",
       "                        '<code>jupyter serverextension enable --py qiime2' +\n",
       "                        ' --sys-prefix</code><br />then restart your server.' +\n",
       "                        '<br /><br />(Interactive output not available on ' +\n",
       "                        'static notebook viewer services like nbviewer.)';\n",
       "    } else if (res.status === 409) {\n",
       "        div.innerHTML = 'Visualization no longer in scope. Re-run this cell' +\n",
       "                        ' to see the visualization.';\n",
       "    } else if (res.ok) {\n",
       "        url = res.url;\n",
       "        div.innerHTML = '<iframe src=\\'' + url + '\\' style=\\'' +\n",
       "                        'width: 100%; height: 700px; border: 0;\\'>' +\n",
       "                        '</iframe><hr />Open in a: <a href=\\'' + url + '\\'' +\n",
       "                        ' target=\\'_blank\\'>new window</a>'\n",
       "    } else {\n",
       "        div.innerHTML = 'Something has gone wrong. Check notebook server for' +\n",
       "                        ' errors.';\n",
       "    }\n",
       "});\n",
       "})(this.parentElement, '/qiime2/redirect?location=/tmp/qiime2-archive-lwqhi7ja')\" src=\"data:image/gif;base64,R0lGODlhAQABAIAAAP///wAAACH5BAEAAAAALAAAAAABAAEAAAICRAEAOw==\" /></div>"
      ],
      "text/plain": [
       "<visualization: Visualization uuid: d34ffc92-354d-4251-84ac-8728a7e9218d>"
      ]
     },
     "execution_count": 17,
     "metadata": {},
     "output_type": "execute_result"
    }
   ],
   "source": [
    "stat_view"
   ]
  },
  {
   "cell_type": "code",
   "execution_count": 18,
   "id": "f76a0d6f",
   "metadata": {
    "ExecuteTime": {
     "end_time": "2022-05-30T19:57:39.967918Z",
     "start_time": "2022-05-30T19:57:39.958955Z"
    },
    "execution": {
     "iopub.execute_input": "2023-06-07T16:34:53.181396Z",
     "iopub.status.busy": "2023-06-07T16:34:53.181245Z",
     "iopub.status.idle": "2023-06-07T16:34:53.184213Z",
     "shell.execute_reply": "2023-06-07T16:34:53.183784Z"
    },
    "papermill": {
     "duration": 0.019843,
     "end_time": "2023-06-07T16:34:53.185582",
     "exception": false,
     "start_time": "2023-06-07T16:34:53.165739",
     "status": "completed"
    },
    "tags": []
   },
   "outputs": [],
   "source": [
    "# new_stat = Artifact.load('/home/lauro/nupeb/redemicro/experiments/thayane-feces-01/qiime-artifacts/dada2-stat.qza')\n",
    "# # new_view, = metadata_actions.tabulate(input=new_stat.view(Metadata))\n",
    "# # plot_stats_box(old_stat)\n",
    "\n",
    "# old_stat = Artifact.load('/home/lauro/nupeb/dados_brutos_rede_genoma/experiments/fezes-phred_20-tf_0-tr_0-lap_4/fezes_dada2_stat.qza')\n",
    "# # old_view, = metadata_actions.tabulate(input=old_stat.view(Metadata))\n",
    "# # plot_stats_box(old_stat)\n",
    "\n",
    "# plot_stats_box_pairs(old_stat, new_stat)"
   ]
  }
 ],
 "metadata": {
  "celltoolbar": "Edit Metadata",
  "kernelspec": {
   "display_name": "Python 3 (ipykernel)",
   "language": "python",
   "name": "python3"
  },
  "language_info": {
   "codemirror_mode": {
    "name": "ipython",
    "version": 3
   },
   "file_extension": ".py",
   "mimetype": "text/x-python",
   "name": "python",
   "nbconvert_exporter": "python",
   "pygments_lexer": "ipython3",
   "version": "3.8.12"
  },
  "papermill": {
   "default_parameters": {},
   "duration": 10.139477,
   "end_time": "2023-06-07T16:34:54.019425",
   "environment_variables": {},
   "exception": null,
   "input_path": "nb-templates/step-quality-control.ipynb",
   "output_path": "/home/lauro/nupeb/rede-micro/redemicro-andressa-lbtm/experiments/andressa-02/nb-executed-steps/step-quality-control-andressa-02.ipynb",
   "parameters": {
    "base_dir": "/home/lauro/nupeb/rede-micro/redemicro-andressa-lbtm",
    "class_col": "state-name",
    "classifier_file": "/home/lauro/nupeb/rede-micro/models/silva-138-99-nb-classifier.qza",
    "experiment_name": "andressa-q20-trim_primer",
    "manifest_file": "/home/lauro/nupeb/rede-micro/redemicro-andressa-lbtm/data/manifest.csv",
    "metadata_file": "/home/lauro/nupeb/rede-micro/redemicro-andressa-lbtm/data/metadata.tsv",
    "overlap": 12,
    "phred": 20,
    "replace_files": false,
    "threads": 6,
    "trim": {
     "forward_primer": "CCTACGGGRSGCAGCAG",
     "overlap": 12,
     "reverse_primer": "GGACTACHVGGGTWTCTAAT"
    },
    "trunc_f": 0,
    "trunc_r": 0
   },
   "start_time": "2023-06-07T16:34:43.879948",
   "version": "2.3.4"
  },
  "toc-autonumbering": false,
  "toc-showcode": false,
  "toc-showmarkdowntxt": false
 },
 "nbformat": 4,
 "nbformat_minor": 5
}