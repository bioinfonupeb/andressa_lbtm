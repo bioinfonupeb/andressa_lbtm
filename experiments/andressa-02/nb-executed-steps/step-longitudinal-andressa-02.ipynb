{
 "cells": [
  {
   "cell_type": "markdown",
   "id": "ead6375d",
   "metadata": {
    "papermill": {
     "duration": 0.025386,
     "end_time": "2023-02-10T17:52:37.581052",
     "exception": false,
     "start_time": "2023-02-10T17:52:37.555666",
     "status": "completed"
    },
    "tags": []
   },
   "source": [
    "***This notebook was adapted from**: (https://docs.qiime2.org/2022.11/tutorials/longitudinal/)\n",
    "\n",
    "# Performing longitudinal and paired sample comparisons with `q2-longitudinal`\n",
    "\n",
    "This tutorial will demonstrate the various features of `q2-longitudinal`, a plugin that supports statistical and visual comparisons of longitudinal study designs and paired samples, to determine if/how samples change between observational “states”. “States” will most commonly be related to time or an environmental gradient, and for paired analyses (`pairwise-distances` and `pairwise-differences`) the sample pairs should typically consist of the same individual subject observed at two different time points. For example, patients in a clinical study whose stool samples are collected before and after receiving treatment.\n",
    "\n",
    "“States” can also commonly be methodological, in which case sample pairs will usually be the same individual at the same time with two different methods. For example, `q2-longitudinal` could compare the effects of different collection methods, storage methods, DNA extraction methods, or any bioinformatic processing steps on the feature composition of individual samples.\n",
    "\n",
    "> Note\n",
    "\n",
    "Many of the actions in q2-longitudinal take a metric value as input, which is usually a column name in a metadata file or a metadata-transformable artifact (including alpha diversity vectors, PCoA results, and many other QIIME 2 artifacts), or a feature ID in a feature table. The names of valid metric values in metadata files and metadata-transformable artifacts can be checked with the metadata tabulate command. Valid feature names (to use as metric values associated with a feature table) can be checked with the feature-data summarize command.\n",
    "\n",
    "<div class=\"alert alert-block alert-info\">\n",
    "<p><b>Note</b></p>\n",
    "<p>Many of the actions in <code>q2-longitudinal</code> take a <code>metric</code> value as input, which is usually a column name in a metadata file or a metadata-transformable artifact (including alpha diversity vectors, PCoA results, and many other QIIME 2 artifacts), or a feature ID in a feature table. The names of valid <code>metric</code> values in metadata files and metadata-transformable artifacts can be checked with the <a href=\"https://docs.qiime2.org/2022.11/tutorials/metadata/\">metadata tabulate</a> command. Valid feature names (to use as <code>metric</code> values associated with a feature table) can be checked with the <code>feature-data summarize</code> command.</p>\n",
    "</div>\n",
    "\n",
    "The following flowchart illustrates the workflow involved in all <code>q2-longitudinal</code> analyses (<a href=\"https://docs.qiime2.org/2022.11/tutorials/overview/#key\">figure key</a>). Each of these actions is described in more detail in the tutorials below.\n",
    "\n",
    "<img src=\"https://docs.qiime2.org/2022.11/_images/longitudinal.png\">"
   ]
  },
  {
   "cell_type": "markdown",
   "id": "134b6d5b",
   "metadata": {
    "ExecuteTime": {
     "end_time": "2022-09-22T19:36:33.828188Z",
     "start_time": "2022-09-22T19:36:33.817323Z"
    },
    "papermill": {
     "duration": 0.017865,
     "end_time": "2023-02-10T17:52:37.617576",
     "exception": false,
     "start_time": "2023-02-10T17:52:37.599711",
     "status": "completed"
    },
    "tags": []
   },
   "source": [
    "# STEP : Longitudinal Analysis\n",
    "\n",
    "Using QIIME2 to create diversity analisys graphs and calculations.\n",
    "\n",
    "- [QIIME2 Workflow Overview](https://docs.qiime2.org/2022.8/tutorials/overview/)\n",
    "\n",
    "\n",
    "#### Methods\n",
    "- [longitudinal](https://docs.qiime2.org/2022.11/plugins/available/longitudinal/#longitudinal)\n",
    "- [longitudinal pairwise-differences](https://docs.qiime2.org/2022.11/plugins/available/longitudinal/pairwise-differences/)"
   ]
  },
  {
   "cell_type": "markdown",
   "id": "791d4b1a",
   "metadata": {
    "papermill": {
     "duration": 0.258059,
     "end_time": "2023-02-10T17:52:37.893202",
     "exception": false,
     "start_time": "2023-02-10T17:52:37.635143",
     "status": "completed"
    },
    "tags": []
   },
   "source": [
    "## Setup and settings"
   ]
  },
  {
   "cell_type": "code",
   "execution_count": 1,
   "id": "21680593",
   "metadata": {
    "ExecuteTime": {
     "end_time": "2023-03-03T15:23:59.236991Z",
     "start_time": "2023-03-03T15:23:39.560171Z"
    },
    "execution": {
     "iopub.execute_input": "2023-02-10T17:52:37.977646Z",
     "iopub.status.busy": "2023-02-10T17:52:37.977117Z",
     "iopub.status.idle": "2023-02-10T17:52:53.985869Z",
     "shell.execute_reply": "2023-02-10T17:52:53.984898Z"
    },
    "papermill": {
     "duration": 16.054865,
     "end_time": "2023-02-10T17:52:53.989435",
     "exception": false,
     "start_time": "2023-02-10T17:52:37.934570",
     "status": "completed"
    },
    "tags": []
   },
   "outputs": [],
   "source": [
    "# Importing packages\n",
    "import os\n",
    "import pandas as pd\n",
    "from shutil import rmtree\n",
    "from qiime2 import Artifact\n",
    "from qiime2 import Visualization\n",
    "from qiime2 import Metadata\n",
    "\n",
    "from qiime2.plugins.diversity.pipelines import alpha\n",
    "from qiime2.plugins.taxa.methods import filter_table\n",
    "from qiime2.plugins.taxa.methods import collapse\n",
    "\n",
    "from qiime2.plugins.longitudinal.visualizers import pairwise_differences\n",
    "from qiime2.plugins.feature_table.methods import relative_frequency\n",
    "\n",
    "\n",
    "import matplotlib.pyplot as plt\n",
    "\n",
    "%matplotlib inline"
   ]
  },
  {
   "cell_type": "markdown",
   "id": "b480518f",
   "metadata": {
    "papermill": {
     "duration": 0.017625,
     "end_time": "2023-02-10T17:52:54.031360",
     "exception": false,
     "start_time": "2023-02-10T17:52:54.013735",
     "status": "completed"
    },
    "tags": []
   },
   "source": [
    "### Receiving the parameters\n",
    "\n",
    "The following cell can receive parameters using the [papermill](https://papermill.readthedocs.io/en/latest/) tool."
   ]
  },
  {
   "cell_type": "code",
   "execution_count": 2,
   "id": "d9646aa8",
   "metadata": {
    "ExecuteTime": {
     "end_time": "2023-03-03T15:23:59.246007Z",
     "start_time": "2023-03-03T15:23:59.240774Z"
    },
    "execution": {
     "iopub.execute_input": "2023-02-10T17:52:54.072755Z",
     "iopub.status.busy": "2023-02-10T17:52:54.072566Z",
     "iopub.status.idle": "2023-02-10T17:52:54.076376Z",
     "shell.execute_reply": "2023-02-10T17:52:54.075639Z"
    },
    "papermill": {
     "duration": 0.023361,
     "end_time": "2023-02-10T17:52:54.077963",
     "exception": false,
     "start_time": "2023-02-10T17:52:54.054602",
     "status": "completed"
    },
    "tags": [
     "parameters"
    ]
   },
   "outputs": [],
   "source": [
    "metadata_file = '/home/lauro/nupeb/rede-micro/redemicro-miliane-nutri/data/raw/metadata/miliane-metadata-CxAC.tsv'\n",
    "base_dir = os.path.join('/', 'home', 'lauro', 'nupeb', 'rede-micro', 'redemicro-miliane-nutri')\n",
    "experiment_name = 'miliane-CxAC-trim'\n",
    "class_col = 'group-id'\n",
    "replace_files = False"
   ]
  },
  {
   "cell_type": "code",
   "execution_count": 3,
   "id": "3f7394dc",
   "metadata": {
    "ExecuteTime": {
     "end_time": "2023-03-03T15:23:59.274053Z",
     "start_time": "2023-03-03T15:23:59.248426Z"
    },
    "execution": {
     "iopub.execute_input": "2023-02-10T17:52:54.113253Z",
     "iopub.status.busy": "2023-02-10T17:52:54.113038Z",
     "iopub.status.idle": "2023-02-10T17:52:54.118441Z",
     "shell.execute_reply": "2023-02-10T17:52:54.117670Z"
    },
    "papermill": {
     "duration": 0.024634,
     "end_time": "2023-02-10T17:52:54.120039",
     "exception": false,
     "start_time": "2023-02-10T17:52:54.095405",
     "status": "completed"
    },
    "tags": [
     "injected-parameters"
    ]
   },
   "outputs": [],
   "source": [
    "# Parameters\n",
    "experiment_name = \"andressa-q20-trim_primer\"\n",
    "base_dir = \"/home/lauro/nupeb/rede-micro/redemicro-andressa-lbtm\"\n",
    "manifest_file = \"/home/lauro/nupeb/rede-micro/redemicro-andressa-lbtm/data/manifest.csv\"\n",
    "metadata_file = \"/home/lauro/nupeb/rede-micro/redemicro-andressa-lbtm/data/metadata.tsv\"\n",
    "class_col = \"state-name\"\n",
    "classifier_file = \"/home/lauro/nupeb/rede-micro/models/silva-138-99-nb-classifier.qza\"\n",
    "replace_files = False\n",
    "phred = 20\n",
    "trunc_f = 0\n",
    "trunc_r = 0\n",
    "overlap = 12\n",
    "threads = 6\n",
    "trim = {\n",
    "    \"overlap\": 12,\n",
    "    \"forward_primer\": \"CCTACGGGRSGCAGCAG\",\n",
    "    \"reverse_primer\": \"GGACTACHVGGGTWTCTAAT\",\n",
    "}\n"
   ]
  },
  {
   "cell_type": "code",
   "execution_count": 4,
   "id": "2197237d",
   "metadata": {
    "ExecuteTime": {
     "end_time": "2023-03-03T15:23:59.297873Z",
     "start_time": "2023-03-03T15:23:59.277493Z"
    },
    "execution": {
     "iopub.execute_input": "2023-02-10T17:52:54.154780Z",
     "iopub.status.busy": "2023-02-10T17:52:54.154510Z",
     "iopub.status.idle": "2023-02-10T17:52:54.159744Z",
     "shell.execute_reply": "2023-02-10T17:52:54.159006Z"
    },
    "papermill": {
     "duration": 0.025239,
     "end_time": "2023-02-10T17:52:54.162194",
     "exception": false,
     "start_time": "2023-02-10T17:52:54.136955",
     "status": "completed"
    },
    "tags": []
   },
   "outputs": [],
   "source": [
    "experiment_folder = os.path.abspath(os.path.join(base_dir, 'experiments', experiment_name))\n",
    "img_folder = os.path.abspath(os.path.join(experiment_folder, 'imgs'))"
   ]
  },
  {
   "cell_type": "markdown",
   "id": "1e26bdfa",
   "metadata": {
    "papermill": {
     "duration": 0.016744,
     "end_time": "2023-02-10T17:52:54.197270",
     "exception": false,
     "start_time": "2023-02-10T17:52:54.180526",
     "status": "completed"
    },
    "tags": []
   },
   "source": [
    "### Defining names, paths and flags"
   ]
  },
  {
   "cell_type": "code",
   "execution_count": 5,
   "id": "6c145526",
   "metadata": {
    "ExecuteTime": {
     "end_time": "2023-03-03T15:23:59.402127Z",
     "start_time": "2023-03-03T15:23:59.300054Z"
    },
    "execution": {
     "iopub.execute_input": "2023-02-10T17:52:54.232049Z",
     "iopub.status.busy": "2023-02-10T17:52:54.231740Z",
     "iopub.status.idle": "2023-02-10T17:52:54.241054Z",
     "shell.execute_reply": "2023-02-10T17:52:54.240539Z"
    },
    "papermill": {
     "duration": 0.028539,
     "end_time": "2023-02-10T17:52:54.242562",
     "exception": false,
     "start_time": "2023-02-10T17:52:54.214023",
     "status": "completed"
    },
    "tags": []
   },
   "outputs": [],
   "source": [
    "# QIIME2 Artifacts folder\n",
    "qiime_folder = os.path.join(experiment_folder, 'qiime-artifacts')\n",
    "\n",
    "# Input - DADA2 Artifacts\n",
    "dada2_tabs_path = os.path.join(qiime_folder, 'dada2-tabs.qza')\n",
    "dada2_reps_path = os.path.join(qiime_folder, 'dada2-reps.qza')\n",
    "\n",
    "alpha_path = os.path.join(qiime_folder, 'alpha-analysis')\n",
    "beta_path = os.path.join(qiime_folder, 'beta-analysis')\n",
    "\n",
    "# Iunput all SampleData[AlphaDiversity] Artifacts\n",
    "alpha_files_paths = [os.path.join(alpha_path, x) for x in os.listdir(alpha_path) if x.startswith('alpha-values')]\n",
    "beta_files_paths = [os.path.join(beta_path, x) for x in os.listdir(beta_path) if x.startswith('beta-values')]\n",
    "\n",
    "# Output -Longitudinal Artifacts\n",
    "\n",
    "# Create folder to store longitudinal files\n",
    "longitudinal_path = os.path.join(qiime_folder, 'longitudinal_analysis')\n",
    "if not os.path.exists(longitudinal_path):\n",
    "    os.makedirs(longitudinal_path)\n",
    "    print(f'The new directory is created in {longitudinal_path}')"
   ]
  },
  {
   "cell_type": "markdown",
   "id": "3a8afb70",
   "metadata": {
    "papermill": {
     "duration": 0.017045,
     "end_time": "2023-02-10T17:52:54.321218",
     "exception": false,
     "start_time": "2023-02-10T17:52:54.304173",
     "status": "completed"
    },
    "tags": []
   },
   "source": [
    "### Loading input files\n",
    "\n",
    "This Step import the QIIME2 `FeatureTable[Frequency]` Artifact and the `Metadata` file, and all `SampleData[AlphaDiversity]` files."
   ]
  },
  {
   "cell_type": "code",
   "execution_count": 6,
   "id": "d4fe5c08",
   "metadata": {
    "ExecuteTime": {
     "end_time": "2023-03-03T15:24:00.727992Z",
     "start_time": "2023-03-03T15:23:59.404339Z"
    },
    "execution": {
     "iopub.execute_input": "2023-02-10T17:52:54.355905Z",
     "iopub.status.busy": "2023-02-10T17:52:54.355603Z",
     "iopub.status.idle": "2023-02-10T17:52:54.765172Z",
     "shell.execute_reply": "2023-02-10T17:52:54.764569Z"
    },
    "papermill": {
     "duration": 0.430149,
     "end_time": "2023-02-10T17:52:54.768168",
     "exception": false,
     "start_time": "2023-02-10T17:52:54.338019",
     "status": "completed"
    },
    "tags": []
   },
   "outputs": [
    {
     "name": "stdout",
     "output_type": "stream",
     "text": [
      "Columns:\n",
      "OrderedDict([('individual-id', ColumnProperties(type='categorical')), ('file-id', ColumnProperties(type='categorical')), ('state-name', ColumnProperties(type='categorical')), ('state-id', ColumnProperties(type='numeric')), ('replic-id', ColumnProperties(type='categorical'))])\n"
     ]
    }
   ],
   "source": [
    "#Load Metadata\n",
    "metadata_qa = Metadata.load(metadata_file)\n",
    "metadata_qa.to_dataframe()\n",
    "print(f'Columns:\\n{metadata_qa.columns}')\n",
    "\n",
    "#Load FeatureTable[Frequency]\n",
    "tabs = Artifact.load(dada2_tabs_path)\n",
    "tabs_df = tabs.view(Metadata).to_dataframe().T\n",
    "\n",
    "# FeatureData[Sequence]\n",
    "# reps = Artifact.load(dada2_reps_path)\n",
    "\n",
    "# SampleData[AlphaDiversity]\n",
    "alpha_artifacts = [Artifact.load(x) for x in alpha_files_paths]\n",
    "# SampleData[BetaDiversity]\n",
    "beta_artifacts = [Artifact.load(x) for x in beta_files_paths]"
   ]
  },
  {
   "cell_type": "markdown",
   "id": "cce56245",
   "metadata": {},
   "source": [
    "## Pairwise difference comparisons\n",
    "Pairwise difference tests determine whether the value of a specific metric changed significantly between pairs of paired samples (e.g., pre- and post-treatment).\n",
    "\n",
    "This visualizer currently supports comparison of feature abundance (e.g., microbial sequence variants or taxa) in a feature table, or of metadata values in a sample metadata file. Alpha diversity values (e.g., observed sequence variants) and beta diversity values (e.g., principal coordinates) are useful metrics for comparison with these tests, and should be contained in one of the metadata files given as input."
   ]
  },
  {
   "cell_type": "markdown",
   "id": "8280ee75",
   "metadata": {},
   "source": [
    "### Pairwise difference comparisons with _Alpha_ values\n",
    "\n",
    "Create pairwise difference comparisons using **Alpha** diversity values (e.g., observed sequence variants)"
   ]
  },
  {
   "cell_type": "code",
   "execution_count": 9,
   "id": "b577cffe",
   "metadata": {
    "ExecuteTime": {
     "end_time": "2023-03-03T15:36:18.400991Z",
     "start_time": "2023-03-03T15:36:18.133412Z"
    }
   },
   "outputs": [
    {
     "name": "stdout",
     "output_type": "stream",
     "text": [
      "The new directory is created in /home/lauro/nupeb/rede-micro/redemicro-andressa-lbtm/extracted\n",
      "out_path: /home/lauro/nupeb/rede-micro/redemicro-andressa-lbtm/extracted/heip_e\n",
      "The new directory is created in /home/lauro/nupeb/rede-micro/redemicro-andressa-lbtm/extracted/heip_e\n",
      "out_path: /home/lauro/nupeb/rede-micro/redemicro-andressa-lbtm/extracted/michaelis_menten_fit\n",
      "The new directory is created in /home/lauro/nupeb/rede-micro/redemicro-andressa-lbtm/extracted/michaelis_menten_fit\n",
      "out_path: /home/lauro/nupeb/rede-micro/redemicro-andressa-lbtm/extracted/observed_features\n",
      "The new directory is created in /home/lauro/nupeb/rede-micro/redemicro-andressa-lbtm/extracted/observed_features\n",
      "out_path: /home/lauro/nupeb/rede-micro/redemicro-andressa-lbtm/extracted/pielou_e\n",
      "The new directory is created in /home/lauro/nupeb/rede-micro/redemicro-andressa-lbtm/extracted/pielou_e\n",
      "pielou_evenness = pielou_e\n",
      "out_path: /home/lauro/nupeb/rede-micro/redemicro-andressa-lbtm/extracted/brillouin_d\n",
      "The new directory is created in /home/lauro/nupeb/rede-micro/redemicro-andressa-lbtm/extracted/brillouin_d\n",
      "out_path: /home/lauro/nupeb/rede-micro/redemicro-andressa-lbtm/extracted/singles\n",
      "The new directory is created in /home/lauro/nupeb/rede-micro/redemicro-andressa-lbtm/extracted/singles\n",
      "out_path: /home/lauro/nupeb/rede-micro/redemicro-andressa-lbtm/extracted/robbins\n",
      "The new directory is created in /home/lauro/nupeb/rede-micro/redemicro-andressa-lbtm/extracted/robbins\n",
      "out_path: /home/lauro/nupeb/rede-micro/redemicro-andressa-lbtm/extracted/simpson\n",
      "The new directory is created in /home/lauro/nupeb/rede-micro/redemicro-andressa-lbtm/extracted/simpson\n",
      "out_path: /home/lauro/nupeb/rede-micro/redemicro-andressa-lbtm/extracted/chao1_ci\n",
      "The new directory is created in /home/lauro/nupeb/rede-micro/redemicro-andressa-lbtm/extracted/chao1_ci\n",
      "out_path: /home/lauro/nupeb/rede-micro/redemicro-andressa-lbtm/extracted/lladser_pe\n",
      "The new directory is created in /home/lauro/nupeb/rede-micro/redemicro-andressa-lbtm/extracted/lladser_pe\n",
      "out_path: /home/lauro/nupeb/rede-micro/redemicro-andressa-lbtm/extracted/kempton_taylor_q\n",
      "The new directory is created in /home/lauro/nupeb/rede-micro/redemicro-andressa-lbtm/extracted/kempton_taylor_q\n",
      "out_path: /home/lauro/nupeb/rede-micro/redemicro-andressa-lbtm/extracted/osd\n",
      "The new directory is created in /home/lauro/nupeb/rede-micro/redemicro-andressa-lbtm/extracted/osd\n",
      "out_path: /home/lauro/nupeb/rede-micro/redemicro-andressa-lbtm/extracted/doubles\n",
      "The new directory is created in /home/lauro/nupeb/rede-micro/redemicro-andressa-lbtm/extracted/doubles\n",
      "out_path: /home/lauro/nupeb/rede-micro/redemicro-andressa-lbtm/extracted/dominance\n",
      "The new directory is created in /home/lauro/nupeb/rede-micro/redemicro-andressa-lbtm/extracted/dominance\n",
      "out_path: /home/lauro/nupeb/rede-micro/redemicro-andressa-lbtm/extracted/fisher_alpha\n",
      "The new directory is created in /home/lauro/nupeb/rede-micro/redemicro-andressa-lbtm/extracted/fisher_alpha\n",
      "out_path: /home/lauro/nupeb/rede-micro/redemicro-andressa-lbtm/extracted/ace\n",
      "The new directory is created in /home/lauro/nupeb/rede-micro/redemicro-andressa-lbtm/extracted/ace\n",
      "out_path: /home/lauro/nupeb/rede-micro/redemicro-andressa-lbtm/extracted/strong\n",
      "The new directory is created in /home/lauro/nupeb/rede-micro/redemicro-andressa-lbtm/extracted/strong\n",
      "out_path: /home/lauro/nupeb/rede-micro/redemicro-andressa-lbtm/extracted/gini_index\n",
      "The new directory is created in /home/lauro/nupeb/rede-micro/redemicro-andressa-lbtm/extracted/gini_index\n",
      "out_path: /home/lauro/nupeb/rede-micro/redemicro-andressa-lbtm/extracted/goods_coverage\n",
      "The new directory is created in /home/lauro/nupeb/rede-micro/redemicro-andressa-lbtm/extracted/goods_coverage\n",
      "out_path: /home/lauro/nupeb/rede-micro/redemicro-andressa-lbtm/extracted/berger_parker_d\n",
      "The new directory is created in /home/lauro/nupeb/rede-micro/redemicro-andressa-lbtm/extracted/berger_parker_d\n",
      "out_path: /home/lauro/nupeb/rede-micro/redemicro-andressa-lbtm/extracted/esty_ci\n",
      "The new directory is created in /home/lauro/nupeb/rede-micro/redemicro-andressa-lbtm/extracted/esty_ci\n",
      "out_path: /home/lauro/nupeb/rede-micro/redemicro-andressa-lbtm/extracted/enspie\n",
      "The new directory is created in /home/lauro/nupeb/rede-micro/redemicro-andressa-lbtm/extracted/enspie\n",
      "out_path: /home/lauro/nupeb/rede-micro/redemicro-andressa-lbtm/extracted/simpson_e\n",
      "The new directory is created in /home/lauro/nupeb/rede-micro/redemicro-andressa-lbtm/extracted/simpson_e\n",
      "out_path: /home/lauro/nupeb/rede-micro/redemicro-andressa-lbtm/extracted/mcintosh_e\n",
      "The new directory is created in /home/lauro/nupeb/rede-micro/redemicro-andressa-lbtm/extracted/mcintosh_e\n",
      "out_path: /home/lauro/nupeb/rede-micro/redemicro-andressa-lbtm/extracted/menhinick\n",
      "The new directory is created in /home/lauro/nupeb/rede-micro/redemicro-andressa-lbtm/extracted/menhinick\n",
      "out_path: /home/lauro/nupeb/rede-micro/redemicro-andressa-lbtm/extracted/margalef\n",
      "The new directory is created in /home/lauro/nupeb/rede-micro/redemicro-andressa-lbtm/extracted/margalef\n",
      "out_path: /home/lauro/nupeb/rede-micro/redemicro-andressa-lbtm/extracted/shannon\n",
      "The new directory is created in /home/lauro/nupeb/rede-micro/redemicro-andressa-lbtm/extracted/shannon\n",
      "shannon_entropy = shannon\n",
      "out_path: /home/lauro/nupeb/rede-micro/redemicro-andressa-lbtm/extracted/mcintosh_d\n",
      "The new directory is created in /home/lauro/nupeb/rede-micro/redemicro-andressa-lbtm/extracted/mcintosh_d\n",
      "out_path: /home/lauro/nupeb/rede-micro/redemicro-andressa-lbtm/extracted/chao1\n",
      "The new directory is created in /home/lauro/nupeb/rede-micro/redemicro-andressa-lbtm/extracted/chao1\n"
     ]
    }
   ],
   "source": [
    "# Get metrics names from inside each .qza files\n",
    "metrics_names = list()\n",
    "\n",
    "# Create a temporary folder to store extracted files\n",
    "extract_path = os.path.join(base_dir, 'extracted')\n",
    "if not os.path.exists(extract_path):\n",
    "    os.makedirs(extract_path)\n",
    "    print(f'The new directory is created in {extract_path}')\n",
    "\n",
    "prefix_len = len('alpha-values-')\n",
    "sufix_len = len('.qza')\n",
    "\n",
    "# Extract each alpha diversity artifact and get the metric name\n",
    "for art_path, art in zip(alpha_files_paths, alpha_artifacts):\n",
    "    alpha_name = os.path.basename(art_path)[prefix_len:-sufix_len]\n",
    "    out_path = os.path.join(extract_path, f'{alpha_name}')\n",
    "    print(f'out_path: {out_path}')\n",
    "    if not os.path.exists(out_path):\n",
    "        os.makedirs(out_path)\n",
    "        print(f'The new directory is created in {out_path}')\n",
    "        art.extract(filepath=art_path, output_dir=out_path)\n",
    "    extracted_dir = os.listdir(out_path)[0]\n",
    "    tsv_path = os.path.join(out_path, extracted_dir, 'data', 'alpha-diversity.tsv')\n",
    "    df = pd.read_csv(tsv_path, sep='\\t')\n",
    "    metric_name = df.columns[1]\n",
    "    if metric_name != alpha_name:\n",
    "        print(f'{metric_name} = {alpha_name}')\n",
    "    metrics_names.append(metric_name)\n",
    "\n",
    "# Clear temporary directories\n",
    "# rmtree(extract_path)"
   ]
  },
  {
   "cell_type": "code",
   "execution_count": null,
   "id": "5775b759",
   "metadata": {
    "ExecuteTime": {
     "start_time": "2023-03-03T16:55:39.916Z"
    }
   },
   "outputs": [
    {
     "name": "stdout",
     "output_type": "stream",
     "text": [
      "Processing Alpha file: /home/lauro/nupeb/rede-micro/redemicro-andressa-lbtm/experiments/andressa-q20-trim_primer/qiime-artifacts/alpha-analysis/alpha-values-heip_e.qza with metrics heip_e\n",
      "\u001b[32mSaved Visualization to: /home/lauro/nupeb/rede-micro/redemicro-andressa-lbtm/experiments/andressa-q20-trim_primer/qiime-artifacts/longitudinal_analysis/longitudinal-pairwise-differences-alpha-heip_e.qzv\u001b[0m\n",
      "\u001b[0mProcessing Alpha file: /home/lauro/nupeb/rede-micro/redemicro-andressa-lbtm/experiments/andressa-q20-trim_primer/qiime-artifacts/alpha-analysis/alpha-values-michaelis_menten_fit.qza with metrics michaelis_menten_fit\n",
      "\u001b[32mSaved Visualization to: /home/lauro/nupeb/rede-micro/redemicro-andressa-lbtm/experiments/andressa-q20-trim_primer/qiime-artifacts/longitudinal_analysis/longitudinal-pairwise-differences-alpha-michaelis_menten_fit.qzv\u001b[0m\n",
      "\u001b[0mProcessing Alpha file: /home/lauro/nupeb/rede-micro/redemicro-andressa-lbtm/experiments/andressa-q20-trim_primer/qiime-artifacts/alpha-analysis/alpha-values-observed_features.qza with metrics observed_features\n",
      "\u001b[32mSaved Visualization to: /home/lauro/nupeb/rede-micro/redemicro-andressa-lbtm/experiments/andressa-q20-trim_primer/qiime-artifacts/longitudinal_analysis/longitudinal-pairwise-differences-alpha-observed_features.qzv\u001b[0m\n",
      "\u001b[0mProcessing Alpha file: /home/lauro/nupeb/rede-micro/redemicro-andressa-lbtm/experiments/andressa-q20-trim_primer/qiime-artifacts/alpha-analysis/alpha-values-pielou_e.qza with metrics pielou_evenness\n",
      "\u001b[32mSaved Visualization to: /home/lauro/nupeb/rede-micro/redemicro-andressa-lbtm/experiments/andressa-q20-trim_primer/qiime-artifacts/longitudinal_analysis/longitudinal-pairwise-differences-alpha-pielou_evenness.qzv\u001b[0m\n",
      "\u001b[0mProcessing Alpha file: /home/lauro/nupeb/rede-micro/redemicro-andressa-lbtm/experiments/andressa-q20-trim_primer/qiime-artifacts/alpha-analysis/alpha-values-brillouin_d.qza with metrics brillouin_d\n",
      "\u001b[32mSaved Visualization to: /home/lauro/nupeb/rede-micro/redemicro-andressa-lbtm/experiments/andressa-q20-trim_primer/qiime-artifacts/longitudinal_analysis/longitudinal-pairwise-differences-alpha-brillouin_d.qzv\u001b[0m\n",
      "\u001b[0mProcessing Alpha file: /home/lauro/nupeb/rede-micro/redemicro-andressa-lbtm/experiments/andressa-q20-trim_primer/qiime-artifacts/alpha-analysis/alpha-values-singles.qza with metrics singles\n",
      "\u001b[32mSaved Visualization to: /home/lauro/nupeb/rede-micro/redemicro-andressa-lbtm/experiments/andressa-q20-trim_primer/qiime-artifacts/longitudinal_analysis/longitudinal-pairwise-differences-alpha-singles.qzv\u001b[0m\n",
      "\u001b[0mProcessing Alpha file: /home/lauro/nupeb/rede-micro/redemicro-andressa-lbtm/experiments/andressa-q20-trim_primer/qiime-artifacts/alpha-analysis/alpha-values-robbins.qza with metrics robbins\n",
      "\u001b[32mSaved Visualization to: /home/lauro/nupeb/rede-micro/redemicro-andressa-lbtm/experiments/andressa-q20-trim_primer/qiime-artifacts/longitudinal_analysis/longitudinal-pairwise-differences-alpha-robbins.qzv\u001b[0m\n",
      "\u001b[0mProcessing Alpha file: /home/lauro/nupeb/rede-micro/redemicro-andressa-lbtm/experiments/andressa-q20-trim_primer/qiime-artifacts/alpha-analysis/alpha-values-simpson.qza with metrics simpson\n",
      "\u001b[32mSaved Visualization to: /home/lauro/nupeb/rede-micro/redemicro-andressa-lbtm/experiments/andressa-q20-trim_primer/qiime-artifacts/longitudinal_analysis/longitudinal-pairwise-differences-alpha-simpson.qzv\u001b[0m\n",
      "\u001b[0mProcessing Alpha file: /home/lauro/nupeb/rede-micro/redemicro-andressa-lbtm/experiments/andressa-q20-trim_primer/qiime-artifacts/alpha-analysis/alpha-values-chao1_ci.qza with metrics chao1_ci\n",
      "\u001b[31m\u001b[1mPlugin error from longitudinal:\n",
      "\n",
      "  chao1_ci is not a numeric metadata column. Please choose a metadata column containing only numeric values.\n",
      "\n",
      "Debug info has been saved to /tmp/qiime2-q2cli-err-vm9kucta.log\u001b[0m\n",
      "\u001b[0mProcessing Alpha file: /home/lauro/nupeb/rede-micro/redemicro-andressa-lbtm/experiments/andressa-q20-trim_primer/qiime-artifacts/alpha-analysis/alpha-values-lladser_pe.qza with metrics lladser_pe\n",
      "\u001b[32mSaved Visualization to: /home/lauro/nupeb/rede-micro/redemicro-andressa-lbtm/experiments/andressa-q20-trim_primer/qiime-artifacts/longitudinal_analysis/longitudinal-pairwise-differences-alpha-lladser_pe.qzv\u001b[0m\n",
      "\u001b[0mProcessing Alpha file: /home/lauro/nupeb/rede-micro/redemicro-andressa-lbtm/experiments/andressa-q20-trim_primer/qiime-artifacts/alpha-analysis/alpha-values-kempton_taylor_q.qza with metrics kempton_taylor_q\n",
      "\u001b[32mSaved Visualization to: /home/lauro/nupeb/rede-micro/redemicro-andressa-lbtm/experiments/andressa-q20-trim_primer/qiime-artifacts/longitudinal_analysis/longitudinal-pairwise-differences-alpha-kempton_taylor_q.qzv\u001b[0m\n",
      "\u001b[0mProcessing Alpha file: /home/lauro/nupeb/rede-micro/redemicro-andressa-lbtm/experiments/andressa-q20-trim_primer/qiime-artifacts/alpha-analysis/alpha-values-osd.qza with metrics osd\n",
      "\u001b[31m\u001b[1mPlugin error from longitudinal:\n",
      "\n",
      "  osd is not a numeric metadata column. Please choose a metadata column containing only numeric values.\n",
      "\n",
      "Debug info has been saved to /tmp/qiime2-q2cli-err-d4z5577t.log\u001b[0m\n",
      "\u001b[0mProcessing Alpha file: /home/lauro/nupeb/rede-micro/redemicro-andressa-lbtm/experiments/andressa-q20-trim_primer/qiime-artifacts/alpha-analysis/alpha-values-doubles.qza with metrics doubles\n",
      "\u001b[32mSaved Visualization to: /home/lauro/nupeb/rede-micro/redemicro-andressa-lbtm/experiments/andressa-q20-trim_primer/qiime-artifacts/longitudinal_analysis/longitudinal-pairwise-differences-alpha-doubles.qzv\u001b[0m\n",
      "\u001b[0mProcessing Alpha file: /home/lauro/nupeb/rede-micro/redemicro-andressa-lbtm/experiments/andressa-q20-trim_primer/qiime-artifacts/alpha-analysis/alpha-values-dominance.qza with metrics dominance\n",
      "\u001b[32mSaved Visualization to: /home/lauro/nupeb/rede-micro/redemicro-andressa-lbtm/experiments/andressa-q20-trim_primer/qiime-artifacts/longitudinal_analysis/longitudinal-pairwise-differences-alpha-dominance.qzv\u001b[0m\n",
      "\u001b[0mProcessing Alpha file: /home/lauro/nupeb/rede-micro/redemicro-andressa-lbtm/experiments/andressa-q20-trim_primer/qiime-artifacts/alpha-analysis/alpha-values-fisher_alpha.qza with metrics fisher_alpha\n"
     ]
    }
   ],
   "source": [
    "for alpha_file_path, metric in zip(alpha_files_paths, metrics_names):\n",
    "    print(f'Processing Alpha file: {alpha_file_path} with metrics {metric}')\n",
    "    \n",
    "    # Define output visualization file path\n",
    "    longitudinal_pairwise_diff_view = os.path.join(longitudinal_path, f'longitudinal-pairwise-differences-alpha-{metric}.qzv')\n",
    "        \n",
    "    !qiime longitudinal pairwise-differences \\\n",
    "      --m-metadata-file {metadata_file} \\\n",
    "      --m-metadata-file {alpha_file_path} \\\n",
    "      --p-metric {metric} \\\n",
    "      --p-group-column 'replic-id' \\\n",
    "      --p-state-column 'state-id' \\\n",
    "      --p-state-1 1 \\\n",
    "      --p-state-2 2 \\\n",
    "      --p-individual-id-column 'ind-idx' \\\n",
    "      --p-replicate-handling random \\\n",
    "      --o-visualization {longitudinal_pairwise_diff_view}"
   ]
  },
  {
   "cell_type": "markdown",
   "id": "7df57546",
   "metadata": {},
   "source": [
    "### Pairwise difference comparisons with _Beta_ values\n",
    "\n",
    "Create pairwise difference comparisons using **Beta** diversity values (e.g., principal coordinates)"
   ]
  }
 ],
 "metadata": {
  "celltoolbar": "Edit Metadata",
  "kernelspec": {
   "display_name": "Python 3 (ipykernel)",
   "language": "python",
   "name": "python3"
  },
  "language_info": {
   "codemirror_mode": {
    "name": "ipython",
    "version": 3
   },
   "file_extension": ".py",
   "mimetype": "text/x-python",
   "name": "python",
   "nbconvert_exporter": "python",
   "pygments_lexer": "ipython3",
   "version": "3.8.12"
  },
  "papermill": {
   "default_parameters": {},
   "duration": 670.979297,
   "end_time": "2023-02-10T18:03:45.271996",
   "environment_variables": {},
   "exception": null,
   "input_path": "nb-templates/step-diversity-analysis.ipynb",
   "output_path": "/home/lauro/nupeb/rede-micro/redemicro-andressa-lbtm/experiments/andressa-02/nb-executed-steps/step-diversity-analysis-andressa-02.ipynb",
   "parameters": {
    "base_dir": "/home/lauro/nupeb/rede-micro/redemicro-andressa-lbtm",
    "class_col": "state-name",
    "classifier_file": "/home/lauro/nupeb/rede-micro/models/silva-138-99-nb-classifier.qza",
    "experiment_name": "andressa-q20-trim_primer",
    "manifest_file": "/home/lauro/nupeb/rede-micro/redemicro-andressa-lbtm/data/manifest.csv",
    "metadata_file": "/home/lauro/nupeb/rede-micro/redemicro-andressa-lbtm/data/metadata.tsv",
    "overlap": 12,
    "phred": 20,
    "replace_files": false,
    "threads": 6,
    "trim": {
     "forward_primer": "CCTACGGGRSGCAGCAG",
     "overlap": 12,
     "reverse_primer": "GGACTACHVGGGTWTCTAAT"
    },
    "trunc_f": 0,
    "trunc_r": 0
   },
   "start_time": "2023-02-10T17:52:34.292699",
   "version": "2.3.4"
  }
 },
 "nbformat": 4,
 "nbformat_minor": 5
}
